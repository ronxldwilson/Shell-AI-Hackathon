{
 "cells": [
  {
   "cell_type": "code",
   "execution_count": 1,
   "id": "abfb9f35",
   "metadata": {},
   "outputs": [
    {
     "name": "stdout",
     "output_type": "stream",
     "text": [
      "📂 Loading data...\n",
      "🚀 Starting Level 1 training...\n",
      "📊 Level 1 models: XGB, TabM, TabPFN, LGBM, RandomForest, ExtraTrees, HistGB, SVR\n",
      "🎯 Training Level 1 for target BlendProperty1...\n",
      "  Fold 1/5\n",
      "    Error with TabM: TabM.__init__() missing 1 required keyword-only argument: 'd_out'\n",
      "    Error with TabPFN: CUDA error: unspecified launch failure\n",
      "CUDA kernel errors might be asynchronously reported at some other API call, so the stacktrace below might be incorrect.\n",
      "For debugging consider passing CUDA_LAUNCH_BLOCKING=1\n",
      "Compile with `TORCH_USE_CUDA_DSA` to enable device-side assertions.\n",
      "\n",
      "  Fold 2/5\n",
      "  Fold 3/5\n",
      "  Fold 4/5\n",
      "  Fold 5/5\n",
      "🎯 Training Level 1 for target BlendProperty2...\n",
      "  Fold 1/5\n",
      "  Fold 2/5\n",
      "  Fold 3/5\n",
      "  Fold 4/5\n",
      "  Fold 5/5\n",
      "🎯 Training Level 1 for target BlendProperty3...\n",
      "  Fold 1/5\n",
      "  Fold 2/5\n",
      "  Fold 3/5\n",
      "  Fold 4/5\n",
      "  Fold 5/5\n",
      "🎯 Training Level 1 for target BlendProperty4...\n",
      "  Fold 1/5\n",
      "  Fold 2/5\n",
      "  Fold 3/5\n",
      "  Fold 4/5\n",
      "  Fold 5/5\n",
      "🎯 Training Level 1 for target BlendProperty5...\n",
      "  Fold 1/5\n",
      "  Fold 2/5\n",
      "  Fold 3/5\n",
      "  Fold 4/5\n",
      "  Fold 5/5\n",
      "🎯 Training Level 1 for target BlendProperty6...\n",
      "  Fold 1/5\n",
      "  Fold 2/5\n",
      "  Fold 3/5\n",
      "  Fold 4/5\n",
      "  Fold 5/5\n",
      "🎯 Training Level 1 for target BlendProperty7...\n",
      "  Fold 1/5\n",
      "  Fold 2/5\n",
      "  Fold 3/5\n",
      "  Fold 4/5\n",
      "  Fold 5/5\n",
      "🎯 Training Level 1 for target BlendProperty8...\n",
      "  Fold 1/5\n",
      "  Fold 2/5\n",
      "  Fold 3/5\n",
      "  Fold 4/5\n",
      "  Fold 5/5\n",
      "🎯 Training Level 1 for target BlendProperty9...\n",
      "  Fold 1/5\n",
      "  Fold 2/5\n",
      "  Fold 3/5\n",
      "  Fold 4/5\n",
      "  Fold 5/5\n",
      "🎯 Training Level 1 for target BlendProperty10...\n",
      "  Fold 1/5\n",
      "  Fold 2/5\n",
      "  Fold 3/5\n",
      "  Fold 4/5\n",
      "  Fold 5/5\n",
      "\n",
      "📊 Level 1 MAPE Scores:\n",
      "  XGB: 1.686421\n",
      "  LGBM: 1.066656\n",
      "  RandomForest: 2.143413\n",
      "  ExtraTrees: 2.345370\n",
      "  HistGB: 1.118774\n",
      "  SVR: 3.336651\n",
      "\n",
      "🔄 Preparing Level 2 inputs...\n",
      "\n",
      "🚀 Starting Level 2 training...\n",
      "🎯 Level 2 for BlendProperty1...\n",
      "  Fold 1/5\n",
      "  Fold 2/5\n",
      "  Fold 3/5\n",
      "  Fold 4/5\n",
      "  Fold 5/5\n",
      "🎯 Level 2 for BlendProperty2...\n",
      "  Fold 1/5\n",
      "  Fold 2/5\n",
      "  Fold 3/5\n",
      "  Fold 4/5\n",
      "  Fold 5/5\n",
      "🎯 Level 2 for BlendProperty3...\n",
      "  Fold 1/5\n",
      "  Fold 2/5\n",
      "  Fold 3/5\n",
      "  Fold 4/5\n",
      "  Fold 5/5\n",
      "🎯 Level 2 for BlendProperty4...\n",
      "  Fold 1/5\n",
      "  Fold 2/5\n",
      "  Fold 3/5\n",
      "  Fold 4/5\n",
      "  Fold 5/5\n",
      "🎯 Level 2 for BlendProperty5...\n",
      "  Fold 1/5\n",
      "  Fold 2/5\n",
      "  Fold 3/5\n",
      "  Fold 4/5\n",
      "  Fold 5/5\n",
      "🎯 Level 2 for BlendProperty6...\n",
      "  Fold 1/5\n",
      "  Fold 2/5\n",
      "  Fold 3/5\n",
      "  Fold 4/5\n",
      "  Fold 5/5\n",
      "🎯 Level 2 for BlendProperty7...\n",
      "  Fold 1/5\n",
      "  Fold 2/5\n",
      "  Fold 3/5\n",
      "  Fold 4/5\n",
      "  Fold 5/5\n",
      "🎯 Level 2 for BlendProperty8...\n",
      "  Fold 1/5\n",
      "  Fold 2/5\n",
      "  Fold 3/5\n",
      "  Fold 4/5\n",
      "  Fold 5/5\n",
      "🎯 Level 2 for BlendProperty9...\n",
      "  Fold 1/5\n",
      "  Fold 2/5\n",
      "  Fold 3/5\n",
      "  Fold 4/5\n",
      "  Fold 5/5\n",
      "🎯 Level 2 for BlendProperty10...\n",
      "  Fold 1/5\n",
      "  Fold 2/5\n",
      "  Fold 3/5\n",
      "  Fold 4/5\n",
      "  Fold 5/5\n"
     ]
    },
    {
     "name": "stderr",
     "output_type": "stream",
     "text": [
      "[I 2025-07-23 09:46:55,394] A new study created in memory with name: no-name-41af92d3-ff43-4d48-bf27-685417dab2ee\n"
     ]
    },
    {
     "name": "stdout",
     "output_type": "stream",
     "text": [
      "\n",
      "📊 Level 2 MAPE Scores:\n",
      "  Ridge: 0.932206\n",
      "  Lasso: 1.023738\n",
      "  ElasticNet: 1.164840\n",
      "  BayesianRidge: 0.929921\n",
      "  Huber: 0.899805\n",
      "  RandomForest_L2: 1.221228\n",
      "  ExtraTrees_L2: 1.059653\n",
      "  AdaBoost: 1.416212\n",
      "  GradientBoost: 1.347286\n",
      "  Bagging: 1.138906\n",
      "  KNN: 2.313755\n",
      "  SVR: 1.139877\n",
      "  XGB_L2: 1.250419\n",
      "  LGBM_L2: 1.133474\n",
      "\n",
      "🔍 Starting Level 3 dynamic ensemble...\n",
      "📊 Top Level 2 models: ['Huber', 'BayesianRidge', 'Ridge', 'Lasso', 'ExtraTrees_L2', 'LGBM_L2']\n"
     ]
    },
    {
     "name": "stderr",
     "output_type": "stream",
     "text": [
      "Best trial: 10. Best value: 0.912737:   5%|▌         | 10/200 [00:00<00:02, 92.35it/s]"
     ]
    },
    {
     "name": "stdout",
     "output_type": "stream",
     "text": [
      "[I 2025-07-23 09:46:55,407] Trial 0 finished with value: 0.9498447653913844 and parameters: {'w_Huber': 0.1179356672485874, 'w_BayesianRidge': 0.5519578041087901, 'w_Ridge': 0.5608202454156653, 'w_Lasso': 0.3370411432164836, 'w_ExtraTrees_L2': 0.6166483658728366, 'w_LGBM_L2': 0.4895858237597943}. Best is trial 0 with value: 0.9498447653913844.\n",
      "[I 2025-07-23 09:46:55,417] Trial 1 finished with value: 0.9509436568434161 and parameters: {'w_Huber': 0.3364729110502177, 'w_BayesianRidge': 0.03736891871117598, 'w_Ridge': 0.7812774079828155, 'w_Lasso': 0.9493396278628392, 'w_ExtraTrees_L2': 0.8441331958025621, 'w_LGBM_L2': 0.3690392261418062}. Best is trial 0 with value: 0.9498447653913844.\n",
      "[I 2025-07-23 09:46:55,428] Trial 2 finished with value: 0.968911497120429 and parameters: {'w_Huber': 0.16878261760345448, 'w_BayesianRidge': 0.23417365559993364, 'w_Ridge': 0.12801894580515905, 'w_Lasso': 0.4499840887303118, 'w_ExtraTrees_L2': 0.4961481987486348, 'w_LGBM_L2': 0.5045547375413285}. Best is trial 0 with value: 0.9498447653913844.\n",
      "[I 2025-07-23 09:46:55,438] Trial 3 finished with value: 0.9183524044556959 and parameters: {'w_Huber': 0.9001536766037352, 'w_BayesianRidge': 0.9633619910517307, 'w_Ridge': 0.39487250513745775, 'w_Lasso': 0.09337756250463558, 'w_ExtraTrees_L2': 0.48412347940897593, 'w_LGBM_L2': 0.03853543064484222}. Best is trial 3 with value: 0.9183524044556959.\n",
      "[I 2025-07-23 09:46:55,450] Trial 4 finished with value: 0.9480154814261639 and parameters: {'w_Huber': 0.20765700272679122, 'w_BayesianRidge': 0.5280730339823807, 'w_Ridge': 0.32583404364426694, 'w_Lasso': 0.9483808184527341, 'w_ExtraTrees_L2': 0.07569132925395816, 'w_LGBM_L2': 0.7070464606606942}. Best is trial 3 with value: 0.9183524044556959.\n",
      "[I 2025-07-23 09:46:55,461] Trial 5 finished with value: 0.940613088954788 and parameters: {'w_Huber': 0.3611939342021391, 'w_BayesianRidge': 0.28873967421206126, 'w_Ridge': 0.7389947224836902, 'w_Lasso': 0.687196395078749, 'w_ExtraTrees_L2': 0.03499431684047083, 'w_LGBM_L2': 0.840220095525052}. Best is trial 3 with value: 0.9183524044556959.\n",
      "[I 2025-07-23 09:46:55,471] Trial 6 finished with value: 0.9512929860659927 and parameters: {'w_Huber': 0.3866710067134026, 'w_BayesianRidge': 0.4439878730242417, 'w_Ridge': 0.13121313019868153, 'w_Lasso': 0.11765937493653011, 'w_ExtraTrees_L2': 0.4613366821358349, 'w_LGBM_L2': 0.41480713887415355}. Best is trial 3 with value: 0.9183524044556959.\n",
      "[I 2025-07-23 09:46:55,480] Trial 7 finished with value: 0.9505619095036492 and parameters: {'w_Huber': 0.3738328990288733, 'w_BayesianRidge': 0.9147766664812956, 'w_Ridge': 0.4749829054921586, 'w_Lasso': 0.009259583936784499, 'w_ExtraTrees_L2': 0.6021791028728094, 'w_LGBM_L2': 0.5629863068130718}. Best is trial 3 with value: 0.9183524044556959.\n",
      "[I 2025-07-23 09:46:55,490] Trial 8 finished with value: 0.9208224143583228 and parameters: {'w_Huber': 0.4572186314872372, 'w_BayesianRidge': 0.5452338572013486, 'w_Ridge': 0.3201327082415998, 'w_Lasso': 0.3654128134730502, 'w_ExtraTrees_L2': 0.3084703085774779, 'w_LGBM_L2': 0.10273781355109246}. Best is trial 3 with value: 0.9183524044556959.\n",
      "[I 2025-07-23 09:46:55,500] Trial 9 finished with value: 0.9598176172591565 and parameters: {'w_Huber': 0.11144713839420206, 'w_BayesianRidge': 0.9212977184509529, 'w_Ridge': 0.31889248379817514, 'w_Lasso': 0.5899502538030639, 'w_ExtraTrees_L2': 0.9089667909246346, 'w_LGBM_L2': 0.7856293219834164}. Best is trial 3 with value: 0.9183524044556959.\n",
      "[I 2025-07-23 09:46:55,538] Trial 10 finished with value: 0.9127369606119785 and parameters: {'w_Huber': 0.9978907201045488, 'w_BayesianRidge': 0.760443076268558, 'w_Ridge': 0.9259850845210065, 'w_Lasso': 0.17288548560234493, 'w_ExtraTrees_L2': 0.23822346955028206, 'w_LGBM_L2': 0.023017616976488853}. Best is trial 10 with value: 0.9127369606119785.\n"
     ]
    },
    {
     "name": "stderr",
     "output_type": "stream",
     "text": [
      "Best trial: 10. Best value: 0.912737:   6%|▌         | 11/200 [00:00<00:02, 92.35it/s]"
     ]
    },
    {
     "name": "stdout",
     "output_type": "stream",
     "text": [
      "[I 2025-07-23 09:46:55,567] Trial 11 finished with value: 0.9128165120770395 and parameters: {'w_Huber': 0.9683010297012226, 'w_BayesianRidge': 0.7326170597724798, 'w_Ridge': 0.9752317533643574, 'w_Lasso': 0.17660715380038997, 'w_ExtraTrees_L2': 0.2612316429367964, 'w_LGBM_L2': 0.005816942351425769}. Best is trial 10 with value: 0.9127369606119785.\n"
     ]
    },
    {
     "name": "stderr",
     "output_type": "stream",
     "text": [
      "Best trial: 10. Best value: 0.912737:   8%|▊         | 17/200 [00:00<00:01, 92.35it/s]"
     ]
    },
    {
     "name": "stdout",
     "output_type": "stream",
     "text": [
      "[I 2025-07-23 09:46:55,595] Trial 12 finished with value: 0.9162013017279309 and parameters: {'w_Huber': 0.9582162434129896, 'w_BayesianRidge': 0.7258646587002987, 'w_Ridge': 0.9472567723072887, 'w_Lasso': 0.23463354524386704, 'w_ExtraTrees_L2': 0.2254714514278796, 'w_LGBM_L2': 0.20798485722588073}. Best is trial 10 with value: 0.9127369606119785.\n",
      "[I 2025-07-23 09:46:55,621] Trial 13 finished with value: 0.9194286279522517 and parameters: {'w_Huber': 0.7398585524752561, 'w_BayesianRidge': 0.7339821136709309, 'w_Ridge': 0.977728800579507, 'w_Lasso': 0.22355272913452906, 'w_ExtraTrees_L2': 0.2274153342080094, 'w_LGBM_L2': 0.23070137517900785}. Best is trial 10 with value: 0.9127369606119785.\n",
      "[I 2025-07-23 09:46:55,645] Trial 14 finished with value: 0.9146056148260657 and parameters: {'w_Huber': 0.6990772765255572, 'w_BayesianRidge': 0.7379899389384774, 'w_Ridge': 0.8131799416210929, 'w_Lasso': 0.23135670550886153, 'w_ExtraTrees_L2': 0.3296309706429182, 'w_LGBM_L2': 0.004867093822074065}. Best is trial 10 with value: 0.9127369606119785.\n",
      "[I 2025-07-23 09:46:55,672] Trial 15 finished with value: 0.9254039815567883 and parameters: {'w_Huber': 0.7738100851306948, 'w_BayesianRidge': 0.830621850613186, 'w_Ridge': 0.6741364420988631, 'w_Lasso': 0.008924672938023015, 'w_ExtraTrees_L2': 0.14917659156327284, 'w_LGBM_L2': 0.2657395249984804}. Best is trial 10 with value: 0.9127369606119785.\n",
      "[I 2025-07-23 09:46:55,695] Trial 16 finished with value: 0.9375090637282026 and parameters: {'w_Huber': 0.6058438138143656, 'w_BayesianRidge': 0.6757954322159258, 'w_Ridge': 0.8725273555827443, 'w_Lasso': 0.6989973641288092, 'w_ExtraTrees_L2': 0.35084122869232415, 'w_LGBM_L2': 0.9932760183173288}. Best is trial 10 with value: 0.9127369606119785.\n",
      "[I 2025-07-23 09:46:55,721] Trial 17 finished with value: 0.9228391020879446 and parameters: {'w_Huber': 0.8937329635995817, 'w_BayesianRidge': 0.39663724754910734, 'w_Ridge': 0.618257172326519, 'w_Lasso': 0.48921916224865514, 'w_ExtraTrees_L2': 0.6866372887459511, 'w_LGBM_L2': 0.15307005913361055}. Best is trial 10 with value: 0.9127369606119785.\n"
     ]
    },
    {
     "name": "stderr",
     "output_type": "stream",
     "text": [
      "Best trial: 10. Best value: 0.912737:   9%|▉         | 18/200 [00:00<00:01, 92.35it/s]"
     ]
    },
    {
     "name": "stdout",
     "output_type": "stream",
     "text": [
      "[I 2025-07-23 09:46:55,748] Trial 18 finished with value: 0.9163430834318813 and parameters: {'w_Huber': 0.9868263964660466, 'w_BayesianRidge': 0.6459589815840394, 'w_Ridge': 0.986426016242158, 'w_Lasso': 0.3522328071528573, 'w_ExtraTrees_L2': 0.16758688238424532, 'w_LGBM_L2': 0.3149781278987223}. Best is trial 10 with value: 0.9127369606119785.\n"
     ]
    },
    {
     "name": "stderr",
     "output_type": "stream",
     "text": [
      "Best trial: 22. Best value: 0.910527:  12%|█▏        | 23/200 [00:00<00:03, 48.35it/s]"
     ]
    },
    {
     "name": "stdout",
     "output_type": "stream",
     "text": [
      "[I 2025-07-23 09:46:55,778] Trial 19 finished with value: 0.9195431677707335 and parameters: {'w_Huber': 0.8452966215496418, 'w_BayesianRidge': 0.8293993344342563, 'w_Ridge': 0.8861704670597412, 'w_Lasso': 0.11485414951768609, 'w_ExtraTrees_L2': 0.38222797083658316, 'w_LGBM_L2': 0.1188737350996385}. Best is trial 10 with value: 0.9127369606119785.\n",
      "[I 2025-07-23 09:46:55,805] Trial 20 finished with value: 0.9136973739032749 and parameters: {'w_Huber': 0.583059954919542, 'w_BayesianRidge': 0.830094315674659, 'w_Ridge': 0.7073183258246074, 'w_Lasso': 0.21657391735496057, 'w_ExtraTrees_L2': 0.11418287711105063, 'w_LGBM_L2': 0.002229316605829923}. Best is trial 10 with value: 0.9127369606119785.\n",
      "[I 2025-07-23 09:46:55,834] Trial 21 finished with value: 0.9141286630425768 and parameters: {'w_Huber': 0.5860337769362307, 'w_BayesianRidge': 0.8220086492957772, 'w_Ridge': 0.7190438097127629, 'w_Lasso': 0.18611629941235627, 'w_ExtraTrees_L2': 0.11405689552940251, 'w_LGBM_L2': 0.006497766764287839}. Best is trial 10 with value: 0.9127369606119785.\n",
      "[I 2025-07-23 09:46:55,870] Trial 22 finished with value: 0.9105266826567693 and parameters: {'w_Huber': 0.9989707819735235, 'w_BayesianRidge': 0.6231216941713954, 'w_Ridge': 0.8724926307304758, 'w_Lasso': 0.2943693008853367, 'w_ExtraTrees_L2': 0.01935767504690844, 'w_LGBM_L2': 0.11181445804285256}. Best is trial 22 with value: 0.9105266826567693.\n",
      "[I 2025-07-23 09:46:55,905] Trial 23 finished with value: 0.9127932818805966 and parameters: {'w_Huber': 0.9974787559449412, 'w_BayesianRidge': 0.6153254800971512, 'w_Ridge': 0.8652427655154515, 'w_Lasso': 0.30391725920858215, 'w_ExtraTrees_L2': 0.24363076745638604, 'w_LGBM_L2': 0.12284534986362577}. Best is trial 22 with value: 0.9105266826567693.\n"
     ]
    },
    {
     "name": "stderr",
     "output_type": "stream",
     "text": [
      "Best trial: 22. Best value: 0.910527:  12%|█▏        | 24/200 [00:00<00:03, 48.35it/s]"
     ]
    },
    {
     "name": "stdout",
     "output_type": "stream",
     "text": [
      "[I 2025-07-23 09:46:55,942] Trial 24 finished with value: 0.912900466410514 and parameters: {'w_Huber': 0.8249253008029427, 'w_BayesianRidge': 0.6067525267677903, 'w_Ridge': 0.8739096071876349, 'w_Lasso': 0.3070523378258842, 'w_ExtraTrees_L2': 0.046273344888476925, 'w_LGBM_L2': 0.16424668133183193}. Best is trial 22 with value: 0.9105266826567693.\n"
     ]
    },
    {
     "name": "stderr",
     "output_type": "stream",
     "text": [
      "Best trial: 22. Best value: 0.910527:  14%|█▍        | 29/200 [00:00<00:04, 40.68it/s]"
     ]
    },
    {
     "name": "stdout",
     "output_type": "stream",
     "text": [
      "[I 2025-07-23 09:46:55,973] Trial 25 finished with value: 0.9141159342982865 and parameters: {'w_Huber': 0.9968236737125076, 'w_BayesianRidge': 0.39960276927851324, 'w_Ridge': 0.8244438856981227, 'w_Lasso': 0.42704824316800566, 'w_ExtraTrees_L2': 0.4162787298254238, 'w_LGBM_L2': 0.08911765855761555}. Best is trial 22 with value: 0.9105266826567693.\n",
      "[I 2025-07-23 09:46:56,007] Trial 26 finished with value: 0.9144834541380324 and parameters: {'w_Huber': 0.8885806193028734, 'w_BayesianRidge': 0.630826122552788, 'w_Ridge': 0.017804837588034972, 'w_Lasso': 0.5647086143369987, 'w_ExtraTrees_L2': 0.011616746266586514, 'w_LGBM_L2': 0.29967414853745317}. Best is trial 22 with value: 0.9105266826567693.\n",
      "[I 2025-07-23 09:46:56,045] Trial 27 finished with value: 0.9159373837231861 and parameters: {'w_Huber': 0.7864405559769971, 'w_BayesianRidge': 0.4650149189536067, 'w_Ridge': 0.9137637077129899, 'w_Lasso': 0.3086498910044411, 'w_ExtraTrees_L2': 0.19157374599872562, 'w_LGBM_L2': 0.20186825167804245}. Best is trial 22 with value: 0.9105266826567693.\n",
      "[I 2025-07-23 09:46:56,081] Trial 28 finished with value: 0.9320159731881142 and parameters: {'w_Huber': 0.015005363077904121, 'w_BayesianRidge': 0.2939845326627567, 'w_Ridge': 0.6405394706751072, 'w_Lasso': 0.4082290713978239, 'w_ExtraTrees_L2': 0.2786386749979969, 'w_LGBM_L2': 0.09215475050800041}. Best is trial 22 with value: 0.9105266826567693.\n",
      "[I 2025-07-23 09:46:56,112] Trial 29 finished with value: 0.9292717678980216 and parameters: {'w_Huber': 0.6842888379694746, 'w_BayesianRidge': 0.5935655077205942, 'w_Ridge': 0.5298357679147988, 'w_Lasso': 0.5551634216423218, 'w_ExtraTrees_L2': 0.5386263310907313, 'w_LGBM_L2': 0.4183537488307021}. Best is trial 22 with value: 0.9105266826567693.\n"
     ]
    },
    {
     "name": "stderr",
     "output_type": "stream",
     "text": [
      "Best trial: 22. Best value: 0.910527:  16%|█▌        | 31/200 [00:00<00:04, 36.50it/s]"
     ]
    },
    {
     "name": "stdout",
     "output_type": "stream",
     "text": [
      "[I 2025-07-23 09:46:56,144] Trial 30 finished with value: 0.9353816709816183 and parameters: {'w_Huber': 0.9194999419551713, 'w_BayesianRidge': 0.5544355489856173, 'w_Ridge': 0.5888622498320735, 'w_Lasso': 0.29026995236479464, 'w_ExtraTrees_L2': 0.7020870198950583, 'w_LGBM_L2': 0.5757904584123776}. Best is trial 22 with value: 0.9105266826567693.\n"
     ]
    },
    {
     "name": "stderr",
     "output_type": "stream",
     "text": [
      "Best trial: 35. Best value: 0.909892:  18%|█▊        | 35/200 [00:00<00:04, 35.09it/s]"
     ]
    },
    {
     "name": "stdout",
     "output_type": "stream",
     "text": [
      "[I 2025-07-23 09:46:56,186] Trial 31 finished with value: 0.9147038913297013 and parameters: {'w_Huber': 0.950603706531139, 'w_BayesianRidge': 0.6896720837155865, 'w_Ridge': 0.9968635389701659, 'w_Lasso': 0.16237782382404803, 'w_ExtraTrees_L2': 0.2645897178452979, 'w_LGBM_L2': 0.06531418684010876}. Best is trial 22 with value: 0.9105266826567693.\n",
      "[I 2025-07-23 09:46:56,216] Trial 32 finished with value: 0.9216966678294588 and parameters: {'w_Huber': 0.8511387708866829, 'w_BayesianRidge': 0.7857408441528004, 'w_Ridge': 0.8069562965689735, 'w_Lasso': 0.08737622463902533, 'w_ExtraTrees_L2': 0.40151075215283516, 'w_LGBM_L2': 0.16345391475278626}. Best is trial 22 with value: 0.9105266826567693.\n",
      "[I 2025-07-23 09:46:56,247] Trial 33 finished with value: 0.91141633570754 and parameters: {'w_Huber': 0.9938829974843982, 'w_BayesianRidge': 0.7745649156538605, 'w_Ridge': 0.9138513371546393, 'w_Lasso': 0.2778990857740242, 'w_ExtraTrees_L2': 0.09966500092287411, 'w_LGBM_L2': 0.06760803447471446}. Best is trial 22 with value: 0.9105266826567693.\n",
      "[I 2025-07-23 09:46:56,273] Trial 34 finished with value: 0.9188356827816527 and parameters: {'w_Huber': 0.9144702988324002, 'w_BayesianRidge': 0.9998760320505946, 'w_Ridge': 0.7661780322926608, 'w_Lasso': 0.2683937479726305, 'w_ExtraTrees_L2': 0.11503189843494062, 'w_LGBM_L2': 0.354574929061805}. Best is trial 22 with value: 0.9105266826567693.\n",
      "[I 2025-07-23 09:46:56,303] Trial 35 finished with value: 0.9098921119228978 and parameters: {'w_Huber': 0.8229426236843377, 'w_BayesianRidge': 0.1258979031289783, 'w_Ridge': 0.8515030502472833, 'w_Lasso': 0.35978761648182084, 'w_ExtraTrees_L2': 0.004306159301167151, 'w_LGBM_L2': 0.14862725145194133}. Best is trial 35 with value: 0.9098921119228978.\n"
     ]
    },
    {
     "name": "stderr",
     "output_type": "stream",
     "text": [
      "Best trial: 37. Best value: 0.909127:  18%|█▊        | 37/200 [00:00<00:04, 35.09it/s]"
     ]
    },
    {
     "name": "stdout",
     "output_type": "stream",
     "text": [
      "[I 2025-07-23 09:46:56,332] Trial 36 finished with value: 0.9129056566088412 and parameters: {'w_Huber': 0.8412607671936235, 'w_BayesianRidge': 0.06187610558405078, 'w_Ridge': 0.9228829918469577, 'w_Lasso': 0.39738150978411096, 'w_ExtraTrees_L2': 0.007859291108095372, 'w_LGBM_L2': 0.246330841600024}. Best is trial 35 with value: 0.9098921119228978.\n",
      "[I 2025-07-23 09:46:56,361] Trial 37 finished with value: 0.9091272441090406 and parameters: {'w_Huber': 0.7958878745568895, 'w_BayesianRidge': 0.12160901181370952, 'w_Ridge': 0.769373785367882, 'w_Lasso': 0.46835839922856437, 'w_ExtraTrees_L2': 0.07490219705033743, 'w_LGBM_L2': 0.059774106615031145}. Best is trial 37 with value: 0.9091272441090406.\n"
     ]
    },
    {
     "name": "stderr",
     "output_type": "stream",
     "text": [
      "Best trial: 37. Best value: 0.909127:  22%|██▏       | 43/200 [00:01<00:04, 34.67it/s]"
     ]
    },
    {
     "name": "stdout",
     "output_type": "stream",
     "text": [
      "[I 2025-07-23 09:46:56,392] Trial 38 finished with value: 0.911055541210098 and parameters: {'w_Huber': 0.6912055532614042, 'w_BayesianRidge': 0.11376309323253496, 'w_Ridge': 0.749134377414876, 'w_Lasso': 0.502936477760461, 'w_ExtraTrees_L2': 0.07425746788743237, 'w_LGBM_L2': 0.06661478489056497}. Best is trial 37 with value: 0.9091272441090406.\n",
      "[I 2025-07-23 09:46:56,422] Trial 39 finished with value: 0.9156381189941264 and parameters: {'w_Huber': 0.6936195352883807, 'w_BayesianRidge': 0.09232265952745305, 'w_Ridge': 0.768707798304316, 'w_Lasso': 0.6522185822557398, 'w_ExtraTrees_L2': 0.07206692934439228, 'w_LGBM_L2': 0.17019789209685077}. Best is trial 37 with value: 0.9091272441090406.\n",
      "[I 2025-07-23 09:46:56,454] Trial 40 finished with value: 0.9296521802352302 and parameters: {'w_Huber': 0.5042605220731314, 'w_BayesianRidge': 0.14984997350311952, 'w_Ridge': 0.40144686948296826, 'w_Lasso': 0.7836183740899909, 'w_ExtraTrees_L2': 0.006120855187735641, 'w_LGBM_L2': 0.39321058116866975}. Best is trial 37 with value: 0.9091272441090406.\n",
      "[I 2025-07-23 09:46:56,480] Trial 41 finished with value: 0.9119432093549434 and parameters: {'w_Huber': 0.6334812316992663, 'w_BayesianRidge': 0.19668094472820347, 'w_Ridge': 0.8181590981021799, 'w_Lasso': 0.49582142805006135, 'w_ExtraTrees_L2': 0.07808721188876948, 'w_LGBM_L2': 0.06204617781448153}. Best is trial 37 with value: 0.9091272441090406.\n",
      "[I 2025-07-23 09:46:56,507] Trial 42 finished with value: 0.9100775086667964 and parameters: {'w_Huber': 0.7854230612195506, 'w_BayesianRidge': 0.018544164760001702, 'w_Ridge': 0.6927316581840817, 'w_Lasso': 0.4389282123919501, 'w_ExtraTrees_L2': 0.14178735134690193, 'w_LGBM_L2': 0.05977573852497428}. Best is trial 37 with value: 0.9091272441090406.\n"
     ]
    },
    {
     "name": "stderr",
     "output_type": "stream",
     "text": [
      "Best trial: 37. Best value: 0.909127:  22%|██▏       | 44/200 [00:01<00:04, 34.67it/s]"
     ]
    },
    {
     "name": "stdout",
     "output_type": "stream",
     "text": [
      "[I 2025-07-23 09:46:56,538] Trial 43 finished with value: 0.9135327017449099 and parameters: {'w_Huber': 0.7662991972514445, 'w_BayesianRidge': 0.0023588224735924257, 'w_Ridge': 0.6708209906851018, 'w_Lasso': 0.46506288885441827, 'w_ExtraTrees_L2': 0.16244531584351565, 'w_LGBM_L2': 0.134066364910418}. Best is trial 37 with value: 0.9091272441090406.\n",
      "[I 2025-07-23 09:46:56,567] Trial 44 finished with value: 0.9235563828489421 and parameters: {'w_Huber': 0.7345684906939601, 'w_BayesianRidge': 0.13117166778106407, 'w_Ridge': 0.6946326255441557, 'w_Lasso': 0.5346340755653807, 'w_ExtraTrees_L2': 0.05830909796231333, 'w_LGBM_L2': 0.49549704232366165}. Best is trial 37 with value: 0.9091272441090406.\n"
     ]
    },
    {
     "name": "stderr",
     "output_type": "stream",
     "text": [
      "Best trial: 37. Best value: 0.909127:  24%|██▍       | 49/200 [00:01<00:04, 34.69it/s]"
     ]
    },
    {
     "name": "stdout",
     "output_type": "stream",
     "text": [
      "[I 2025-07-23 09:46:56,594] Trial 45 finished with value: 0.9172460342191464 and parameters: {'w_Huber': 0.5050556479931528, 'w_BayesianRidge': 0.2802713981736381, 'w_Ridge': 0.7478439621815448, 'w_Lasso': 0.6138535009241834, 'w_ExtraTrees_L2': 0.19786825524448792, 'w_LGBM_L2': 0.050746513859838915}. Best is trial 37 with value: 0.9091272441090406.\n",
      "[I 2025-07-23 09:46:56,623] Trial 46 finished with value: 0.9135863386465527 and parameters: {'w_Huber': 0.8054181609421237, 'w_BayesianRidge': 0.2145949951559993, 'w_Ridge': 0.5791365970821343, 'w_Lasso': 0.3813529758732952, 'w_ExtraTrees_L2': 0.14037495525203664, 'w_LGBM_L2': 0.18986621688493244}. Best is trial 37 with value: 0.9091272441090406.\n",
      "[I 2025-07-23 09:46:56,652] Trial 47 finished with value: 0.9299440134057088 and parameters: {'w_Huber': 0.6466022478950253, 'w_BayesianRidge': 0.12171704668440227, 'w_Ridge': 0.8506104255155866, 'w_Lasso': 0.5265882794506266, 'w_ExtraTrees_L2': 0.04176665023549109, 'w_LGBM_L2': 0.691275029651904}. Best is trial 37 with value: 0.9091272441090406.\n",
      "[I 2025-07-23 09:46:56,680] Trial 48 finished with value: 0.9252454329921906 and parameters: {'w_Huber': 0.23575168151018466, 'w_BayesianRidge': 0.05839834515565982, 'w_Ridge': 0.7817537878452987, 'w_Lasso': 0.45931503243397614, 'w_ExtraTrees_L2': 0.0013877423115113002, 'w_LGBM_L2': 0.2669982140542966}. Best is trial 37 with value: 0.9091272441090406.\n",
      "[I 2025-07-23 09:46:56,709] Trial 49 finished with value: 0.9340539453072421 and parameters: {'w_Huber': 0.7280853151808605, 'w_BayesianRidge': 0.18191034658352362, 'w_Ridge': 0.47796049028837767, 'w_Lasso': 0.3479091548015435, 'w_ExtraTrees_L2': 0.9748644739755866, 'w_LGBM_L2': 0.10727224618999051}. Best is trial 37 with value: 0.9091272441090406.\n"
     ]
    },
    {
     "name": "stderr",
     "output_type": "stream",
     "text": [
      "Best trial: 37. Best value: 0.909127:  26%|██▌       | 51/200 [00:01<00:04, 34.86it/s]"
     ]
    },
    {
     "name": "stdout",
     "output_type": "stream",
     "text": [
      "[I 2025-07-23 09:46:56,739] Trial 50 finished with value: 0.9254603827930605 and parameters: {'w_Huber': 0.8651228214161022, 'w_BayesianRidge': 0.00011041523541270581, 'w_Ridge': 0.6386876850423306, 'w_Lasso': 0.43737201695334627, 'w_ExtraTrees_L2': 0.8097889806658715, 'w_LGBM_L2': 0.04687030637296691}. Best is trial 37 with value: 0.9091272441090406.\n",
      "[I 2025-07-23 09:46:56,771] Trial 51 finished with value: 0.9091889621720167 and parameters: {'w_Huber': 0.9338184378764318, 'w_BayesianRidge': 0.2503732102723617, 'w_Ridge': 0.9141839419380077, 'w_Lasso': 0.3789093917037537, 'w_ExtraTrees_L2': 0.10784067857615379, 'w_LGBM_L2': 0.07586825074278633}. Best is trial 37 with value: 0.9091272441090406.\n"
     ]
    },
    {
     "name": "stderr",
     "output_type": "stream",
     "text": [
      "Best trial: 37. Best value: 0.909127:  28%|██▊       | 55/200 [00:01<00:04, 33.00it/s]"
     ]
    },
    {
     "name": "stdout",
     "output_type": "stream",
     "text": [
      "[I 2025-07-23 09:46:56,800] Trial 52 finished with value: 0.9125684748019346 and parameters: {'w_Huber': 0.9185321792220797, 'w_BayesianRidge': 0.0933449778708427, 'w_Ridge': 0.951343894979573, 'w_Lasso': 0.37394327785061016, 'w_ExtraTrees_L2': 0.07476984503219025, 'w_LGBM_L2': 0.22349277022581965}. Best is trial 37 with value: 0.9091272441090406.\n",
      "[I 2025-07-23 09:46:56,830] Trial 53 finished with value: 0.9106206147744362 and parameters: {'w_Huber': 0.9468361350132597, 'w_BayesianRidge': 0.299847795744951, 'w_Ridge': 0.73223245637783, 'w_Lasso': 0.4905537722122226, 'w_ExtraTrees_L2': 0.12626336748550382, 'w_LGBM_L2': 0.12854700120659643}. Best is trial 37 with value: 0.9091272441090406.\n",
      "[I 2025-07-23 09:46:56,872] Trial 54 finished with value: 0.9121862193013934 and parameters: {'w_Huber': 0.94224564285557, 'w_BayesianRidge': 0.3267291221364501, 'w_Ridge': 0.8425711481107834, 'w_Lasso': 0.3387178587350013, 'w_ExtraTrees_L2': 0.2065568634980597, 'w_LGBM_L2': 0.13212444973704968}. Best is trial 37 with value: 0.9091272441090406.\n",
      "[I 2025-07-23 09:46:56,917] Trial 55 finished with value: 0.9130189174187651 and parameters: {'w_Huber': 0.8885565608732802, 'w_BayesianRidge': 0.25040794910317843, 'w_Ridge': 0.8990533874394417, 'w_Lasso': 0.891816816616656, 'w_ExtraTrees_L2': 0.14201023448476927, 'w_LGBM_L2': 0.03168816576104634}. Best is trial 37 with value: 0.9091272441090406.\n"
     ]
    },
    {
     "name": "stderr",
     "output_type": "stream",
     "text": [
      "Best trial: 37. Best value: 0.909127:  28%|██▊       | 56/200 [00:01<00:04, 33.00it/s]"
     ]
    },
    {
     "name": "stdout",
     "output_type": "stream",
     "text": [
      "[I 2025-07-23 09:46:56,957] Trial 56 finished with value: 0.9105213551828488 and parameters: {'w_Huber': 0.9464127514264857, 'w_BayesianRidge': 0.16699133123086088, 'w_Ridge': 0.792245137613111, 'w_Lasso': 0.605112750502009, 'w_ExtraTrees_L2': 0.11095547285017102, 'w_LGBM_L2': 0.1022813757176915}. Best is trial 37 with value: 0.9091272441090406.\n"
     ]
    },
    {
     "name": "stderr",
     "output_type": "stream",
     "text": [
      "Best trial: 37. Best value: 0.909127:  30%|███       | 60/200 [00:01<00:04, 28.48it/s]"
     ]
    },
    {
     "name": "stdout",
     "output_type": "stream",
     "text": [
      "[I 2025-07-23 09:46:57,009] Trial 57 finished with value: 0.9144504261776838 and parameters: {'w_Huber': 0.8078963926068906, 'w_BayesianRidge': 0.17063654907706122, 'w_Ridge': 0.8081498465370844, 'w_Lasso': 0.7321011595584513, 'w_ExtraTrees_L2': 0.0410169133233691, 'w_LGBM_L2': 0.1891488459051884}. Best is trial 37 with value: 0.9091272441090406.\n",
      "[I 2025-07-23 09:46:57,059] Trial 58 finished with value: 0.9145182287342253 and parameters: {'w_Huber': 0.874787960518537, 'w_BayesianRidge': 0.02601635842575191, 'w_Ridge': 0.9560909544964331, 'w_Lasso': 0.6209894245546517, 'w_ExtraTrees_L2': 0.2897811156888914, 'w_LGBM_L2': 0.08988863669262011}. Best is trial 37 with value: 0.9091272441090406.\n",
      "[I 2025-07-23 09:46:57,100] Trial 59 finished with value: 0.9184933397297339 and parameters: {'w_Huber': 0.7603484402298812, 'w_BayesianRidge': 0.2324712192265026, 'w_Ridge': 0.8518663136277943, 'w_Lasso': 0.4287241930160658, 'w_ExtraTrees_L2': 0.18326408076740364, 'w_LGBM_L2': 0.30229052074840523}. Best is trial 37 with value: 0.9091272441090406.\n",
      "[I 2025-07-23 09:46:57,134] Trial 60 finished with value: 0.9360301248703038 and parameters: {'w_Huber': 0.8223661371435516, 'w_BayesianRidge': 0.34271018903416367, 'w_Ridge': 0.7893454655728407, 'w_Lasso': 0.39899072283032255, 'w_ExtraTrees_L2': 0.09724552755311261, 'w_LGBM_L2': 0.907850575959593}. Best is trial 37 with value: 0.9091272441090406.\n"
     ]
    },
    {
     "name": "stderr",
     "output_type": "stream",
     "text": [
      "Best trial: 37. Best value: 0.909127:  31%|███       | 62/200 [00:01<00:04, 28.36it/s]"
     ]
    },
    {
     "name": "stdout",
     "output_type": "stream",
     "text": [
      "[I 2025-07-23 09:46:57,167] Trial 61 finished with value: 0.910753371921223 and parameters: {'w_Huber': 0.9507663284081498, 'w_BayesianRidge': 0.045651839637045305, 'w_Ridge': 0.7179193698754077, 'w_Lasso': 0.47135980020673834, 'w_ExtraTrees_L2': 0.13180475094000899, 'w_LGBM_L2': 0.14891804792276533}. Best is trial 37 with value: 0.9091272441090406.\n",
      "[I 2025-07-23 09:46:57,197] Trial 62 finished with value: 0.9087486449734137 and parameters: {'w_Huber': 0.9267038057777256, 'w_BayesianRidge': 0.15577294426206478, 'w_Ridge': 0.6722382815484937, 'w_Lasso': 0.5631280126274535, 'w_ExtraTrees_L2': 0.02898561731354171, 'w_LGBM_L2': 0.10738934979846514}. Best is trial 62 with value: 0.9087486449734137.\n"
     ]
    },
    {
     "name": "stderr",
     "output_type": "stream",
     "text": [
      "Best trial: 66. Best value: 0.907613:  33%|███▎      | 66/200 [00:01<00:04, 29.20it/s]"
     ]
    },
    {
     "name": "stdout",
     "output_type": "stream",
     "text": [
      "[I 2025-07-23 09:46:57,230] Trial 63 finished with value: 0.9082723420268308 and parameters: {'w_Huber': 0.9095564205736014, 'w_BayesianRidge': 0.09718482237138629, 'w_Ridge': 0.6658690105114722, 'w_Lasso': 0.667013699590459, 'w_ExtraTrees_L2': 0.036181718653446715, 'w_LGBM_L2': 0.032683519529906876}. Best is trial 63 with value: 0.9082723420268308.\n",
      "[I 2025-07-23 09:46:57,263] Trial 64 finished with value: 0.9120566358655259 and parameters: {'w_Huber': 0.8624660928034081, 'w_BayesianRidge': 0.15891564902682387, 'w_Ridge': 0.530132908330763, 'w_Lasso': 0.7533817569015532, 'w_ExtraTrees_L2': 0.0429757338914601, 'w_LGBM_L2': 0.09698457113703617}. Best is trial 63 with value: 0.9082723420268308.\n",
      "[I 2025-07-23 09:46:57,296] Trial 65 finished with value: 0.9193097230907687 and parameters: {'w_Huber': 0.4311870123261986, 'w_BayesianRidge': 0.0818947333390285, 'w_Ridge': 0.6590106344199117, 'w_Lasso': 0.6538380911588506, 'w_ExtraTrees_L2': 0.1581897728704696, 'w_LGBM_L2': 0.02953496233729065}. Best is trial 63 with value: 0.9082723420268308.\n",
      "[I 2025-07-23 09:46:57,327] Trial 66 finished with value: 0.9076132684760243 and parameters: {'w_Huber': 0.9116349192984416, 'w_BayesianRidge': 0.14762422036520395, 'w_Ridge': 0.6010192081108379, 'w_Lasso': 0.5843579033206161, 'w_ExtraTrees_L2': 0.10068120978541961, 'w_LGBM_L2': 0.0029479595718016616}. Best is trial 66 with value: 0.9076132684760243.\n"
     ]
    },
    {
     "name": "stderr",
     "output_type": "stream",
     "text": [
      "Best trial: 66. Best value: 0.907613:  34%|███▍      | 68/200 [00:01<00:04, 29.20it/s]"
     ]
    },
    {
     "name": "stdout",
     "output_type": "stream",
     "text": [
      "[I 2025-07-23 09:46:57,356] Trial 67 finished with value: 0.9106101982551589 and parameters: {'w_Huber': 0.9051355739941792, 'w_BayesianRidge': 0.25855934804643954, 'w_Ridge': 0.6272687039188941, 'w_Lasso': 0.5790869573803102, 'w_ExtraTrees_L2': 0.2270738769312834, 'w_LGBM_L2': 0.010764562719797907}. Best is trial 66 with value: 0.9076132684760243.\n",
      "[I 2025-07-23 09:46:57,389] Trial 68 finished with value: 0.9089840217400657 and parameters: {'w_Huber': 0.8019338081320446, 'w_BayesianRidge': 0.20799281068322328, 'w_Ridge': 0.5860633853567004, 'w_Lasso': 0.6764601527672827, 'w_ExtraTrees_L2': 0.03170743421871318, 'w_LGBM_L2': 0.0035340019108332727}. Best is trial 66 with value: 0.9076132684760243.\n"
     ]
    },
    {
     "name": "stderr",
     "output_type": "stream",
     "text": [
      "Best trial: 66. Best value: 0.907613:  36%|███▋      | 73/200 [00:02<00:04, 29.82it/s]"
     ]
    },
    {
     "name": "stdout",
     "output_type": "stream",
     "text": [
      "[I 2025-07-23 09:46:57,422] Trial 69 finished with value: 0.90889796373158 and parameters: {'w_Huber': 0.8333689061660648, 'w_BayesianRidge': 0.2055429644608833, 'w_Ridge': 0.5596206216177652, 'w_Lasso': 0.6719115871253413, 'w_ExtraTrees_L2': 0.032617845028347324, 'w_LGBM_L2': 0.018820998357188236}. Best is trial 66 with value: 0.9076132684760243.\n",
      "[I 2025-07-23 09:46:57,452] Trial 70 finished with value: 0.9195398437996571 and parameters: {'w_Huber': 0.3198057022222377, 'w_BayesianRidge': 0.21752799131753778, 'w_Ridge': 0.5469243583730441, 'w_Lasso': 0.6909566378886971, 'w_ExtraTrees_L2': 0.039691397874725406, 'w_LGBM_L2': 0.02449769672542826}. Best is trial 66 with value: 0.9076132684760243.\n",
      "[I 2025-07-23 09:46:57,482] Trial 71 finished with value: 0.9125365316880991 and parameters: {'w_Huber': 0.8341906304770156, 'w_BayesianRidge': 0.13428789711990358, 'w_Ridge': 0.44201040878770137, 'w_Lasso': 0.8309918291054453, 'w_ExtraTrees_L2': 0.08768491635650784, 'w_LGBM_L2': 0.006898132017177705}. Best is trial 66 with value: 0.9076132684760243.\n",
      "[I 2025-07-23 09:46:57,509] Trial 72 finished with value: 0.9083119048770723 and parameters: {'w_Huber': 0.8766214865055084, 'w_BayesianRidge': 0.1886483958160951, 'w_Ridge': 0.5998688867637028, 'w_Lasso': 0.6454354150345217, 'w_ExtraTrees_L2': 0.0283855762073616, 'w_LGBM_L2': 0.03508803946525647}. Best is trial 66 with value: 0.9076132684760243.\n",
      "[I 2025-07-23 09:46:57,539] Trial 73 finished with value: 0.9084484074449423 and parameters: {'w_Huber': 0.9209447303030373, 'w_BayesianRidge': 0.19086021489058147, 'w_Ridge': 0.5958725164145966, 'w_Lasso': 0.6563293390223134, 'w_ExtraTrees_L2': 0.0590525838079989, 'w_LGBM_L2': 0.03281974473296383}. Best is trial 66 with value: 0.9076132684760243.\n"
     ]
    },
    {
     "name": "stderr",
     "output_type": "stream",
     "text": [
      "Best trial: 66. Best value: 0.907613:  38%|███▊      | 75/200 [00:02<00:04, 30.91it/s]"
     ]
    },
    {
     "name": "stdout",
     "output_type": "stream",
     "text": [
      "[I 2025-07-23 09:46:57,574] Trial 74 finished with value: 0.9079270440920262 and parameters: {'w_Huber': 0.9677626684752386, 'w_BayesianRidge': 0.19454382279049745, 'w_Ridge': 0.5994707637919451, 'w_Lasso': 0.6501351225208766, 'w_ExtraTrees_L2': 0.052763298074862824, 'w_LGBM_L2': 0.04250393599767335}. Best is trial 66 with value: 0.9076132684760243.\n",
      "[I 2025-07-23 09:46:57,600] Trial 75 finished with value: 0.9074107822204386 and parameters: {'w_Huber': 0.9689301827991655, 'w_BayesianRidge': 0.18972631690980077, 'w_Ridge': 0.5756735975492215, 'w_Lasso': 0.7143073940276597, 'w_ExtraTrees_L2': 0.038510447388642864, 'w_LGBM_L2': 0.002059951825257109}. Best is trial 75 with value: 0.9074107822204386.\n"
     ]
    },
    {
     "name": "stderr",
     "output_type": "stream",
     "text": [
      "Best trial: 75. Best value: 0.907411:  40%|████      | 80/200 [00:02<00:03, 31.28it/s]"
     ]
    },
    {
     "name": "stdout",
     "output_type": "stream",
     "text": [
      "[I 2025-07-23 09:46:57,633] Trial 76 finished with value: 0.9089595774912222 and parameters: {'w_Huber': 0.971771292417098, 'w_BayesianRidge': 0.37222989562328945, 'w_Ridge': 0.6068289732592019, 'w_Lasso': 0.7268874495889607, 'w_ExtraTrees_L2': 0.05844820057810348, 'w_LGBM_L2': 0.0365817314669166}. Best is trial 75 with value: 0.9074107822204386.\n",
      "[I 2025-07-23 09:46:57,662] Trial 77 finished with value: 0.9082332545223541 and parameters: {'w_Huber': 0.889266286053481, 'w_BayesianRidge': 0.17725983549938992, 'w_Ridge': 0.5023486646176769, 'w_Lasso': 0.6502560513346854, 'w_ExtraTrees_L2': 0.027273128281042034, 'w_LGBM_L2': 0.04066145971531015}. Best is trial 75 with value: 0.9074107822204386.\n",
      "[I 2025-07-23 09:46:57,695] Trial 78 finished with value: 0.9202318775646725 and parameters: {'w_Huber': 0.9716150248585628, 'w_BayesianRidge': 0.07715319400672321, 'w_Ridge': 0.4973149819191849, 'w_Lasso': 0.7865120569973714, 'w_ExtraTrees_L2': 0.52303020761244, 'w_LGBM_L2': 0.0411017019810669}. Best is trial 75 with value: 0.9074107822204386.\n",
      "[I 2025-07-23 09:46:57,725] Trial 79 finished with value: 0.9089930285362826 and parameters: {'w_Huber': 0.8903651642434426, 'w_BayesianRidge': 0.272085107642004, 'w_Ridge': 0.4351449741666519, 'w_Lasso': 0.6306153817770672, 'w_ExtraTrees_L2': 0.019301093721920397, 'w_LGBM_L2': 0.08372320764039505}. Best is trial 75 with value: 0.9074107822204386.\n",
      "[I 2025-07-23 09:46:57,753] Trial 80 finished with value: 0.9103695870077614 and parameters: {'w_Huber': 0.9162057339661736, 'w_BayesianRidge': 0.18641122182309514, 'w_Ridge': 0.5196514066682113, 'w_Lasso': 0.72004666469585, 'w_ExtraTrees_L2': 0.09230008969770966, 'w_LGBM_L2': 0.04488297651077509}. Best is trial 75 with value: 0.9074107822204386.\n"
     ]
    },
    {
     "name": "stderr",
     "output_type": "stream",
     "text": [
      "Best trial: 81. Best value: 0.906892:  41%|████      | 82/200 [00:02<00:03, 32.19it/s]"
     ]
    },
    {
     "name": "stdout",
     "output_type": "stream",
     "text": [
      "[I 2025-07-23 09:46:57,782] Trial 81 finished with value: 0.9068916998087493 and parameters: {'w_Huber': 0.9752828001499882, 'w_BayesianRidge': 0.14460299205124674, 'w_Ridge': 0.5617187640016761, 'w_Lasso': 0.6610146589482121, 'w_ExtraTrees_L2': 0.054139296401646, 'w_LGBM_L2': 0.005431701921770348}. Best is trial 81 with value: 0.9068916998087493.\n"
     ]
    },
    {
     "name": "stderr",
     "output_type": "stream",
     "text": [
      "Best trial: 83. Best value: 0.906854:  43%|████▎     | 86/200 [00:02<00:03, 32.12it/s]"
     ]
    },
    {
     "name": "stdout",
     "output_type": "stream",
     "text": [
      "[I 2025-07-23 09:46:57,813] Trial 82 finished with value: 0.907946516776622 and parameters: {'w_Huber': 0.9777901048705733, 'w_BayesianRidge': 0.10269666802030188, 'w_Ridge': 0.6149748291515127, 'w_Lasso': 0.5801692514988278, 'w_ExtraTrees_L2': 0.05892815324651469, 'w_LGBM_L2': 0.07933267265305961}. Best is trial 81 with value: 0.9068916998087493.\n",
      "[I 2025-07-23 09:46:57,843] Trial 83 finished with value: 0.9068536795124352 and parameters: {'w_Huber': 0.972470626516839, 'w_BayesianRidge': 0.1122933921806809, 'w_Ridge': 0.6159585914412179, 'w_Lasso': 0.6501492999366624, 'w_ExtraTrees_L2': 0.06139088877312848, 'w_LGBM_L2': 0.001324375885382978}. Best is trial 83 with value: 0.9068536795124352.\n",
      "[I 2025-07-23 09:46:57,878] Trial 84 finished with value: 0.906859130731663 and parameters: {'w_Huber': 0.9722127266487769, 'w_BayesianRidge': 0.1066270464845771, 'w_Ridge': 0.5656024770638713, 'w_Lasso': 0.5917445472037713, 'w_ExtraTrees_L2': 0.0025642089802463477, 'w_LGBM_L2': 0.07834197632226503}. Best is trial 83 with value: 0.9068536795124352.\n",
      "[I 2025-07-23 09:46:57,908] Trial 85 finished with value: 0.9232527331620999 and parameters: {'w_Huber': 0.968985892481439, 'w_BayesianRidge': 0.10497979120502536, 'w_Ridge': 0.346445437114528, 'w_Lasso': 0.5933910419260926, 'w_ExtraTrees_L2': 0.0008879805968587534, 'w_LGBM_L2': 0.5786700747153015}. Best is trial 83 with value: 0.9068536795124352.\n",
      "[I 2025-07-23 09:46:57,934] Trial 86 finished with value: 0.9085006426676946 and parameters: {'w_Huber': 0.9778269075395569, 'w_BayesianRidge': 0.06306128103120603, 'w_Ridge': 0.5699685010370651, 'w_Lasso': 0.7577979114726654, 'w_ExtraTrees_L2': 0.07016983229674187, 'w_LGBM_L2': 3.0790058031969145e-07}. Best is trial 83 with value: 0.9068536795124352.\n"
     ]
    },
    {
     "name": "stderr",
     "output_type": "stream",
     "text": [
      "Best trial: 83. Best value: 0.906854:  44%|████▎     | 87/200 [00:02<00:03, 32.12it/s]"
     ]
    },
    {
     "name": "stdout",
     "output_type": "stream",
     "text": [
      "[I 2025-07-23 09:46:57,973] Trial 87 finished with value: 0.9181305267114664 and parameters: {'w_Huber': 0.9871381555706209, 'w_BayesianRidge': 0.14338101834840222, 'w_Ridge': 0.5106482622537641, 'w_Lasso': 0.7084256495157943, 'w_ExtraTrees_L2': 0.4496532419135086, 'w_LGBM_L2': 0.08444778335950043}. Best is trial 83 with value: 0.9068536795124352.\n"
     ]
    },
    {
     "name": "stderr",
     "output_type": "stream",
     "text": [
      "Best trial: 83. Best value: 0.906854:  46%|████▌     | 91/200 [00:02<00:03, 30.37it/s]"
     ]
    },
    {
     "name": "stdout",
     "output_type": "stream",
     "text": [
      "[I 2025-07-23 09:46:58,014] Trial 88 finished with value: 0.9191622179249604 and parameters: {'w_Huber': 0.9977926203598146, 'w_BayesianRidge': 0.09933571220002456, 'w_Ridge': 0.5487185234296394, 'w_Lasso': 0.5231365733201205, 'w_ExtraTrees_L2': 0.598871853317806, 'w_LGBM_L2': 0.06471122940378449}. Best is trial 83 with value: 0.9068536795124352.\n",
      "[I 2025-07-23 09:46:58,053] Trial 89 finished with value: 0.9279168487236873 and parameters: {'w_Huber': 0.9604590506000017, 'w_BayesianRidge': 0.04321185857457023, 'w_Ridge': 0.6205991297281781, 'w_Lasso': 0.5832975320148287, 'w_ExtraTrees_L2': 0.17660086350568885, 'w_LGBM_L2': 0.6736927090823444}. Best is trial 83 with value: 0.9068536795124352.\n",
      "[I 2025-07-23 09:46:58,087] Trial 90 finished with value: 0.9134889735330705 and parameters: {'w_Huber': 0.8909047123983443, 'w_BayesianRidge': 0.23590042127701155, 'w_Ridge': 0.6457807424706293, 'w_Lasso': 0.8022762334046285, 'w_ExtraTrees_L2': 0.09841044683195321, 'w_LGBM_L2': 0.11795454648770365}. Best is trial 83 with value: 0.9068536795124352.\n",
      "[I 2025-07-23 09:46:58,129] Trial 91 finished with value: 0.9089993710017525 and parameters: {'w_Huber': 0.8717302990877176, 'w_BayesianRidge': 0.14778137587920392, 'w_Ridge': 0.482190820519624, 'w_Lasso': 0.6358178838592997, 'w_ExtraTrees_L2': 0.05515737550517784, 'w_LGBM_L2': 0.04561996395746868}. Best is trial 83 with value: 0.9068536795124352.\n"
     ]
    },
    {
     "name": "stderr",
     "output_type": "stream",
     "text": [
      "Best trial: 83. Best value: 0.906854:  46%|████▌     | 92/200 [00:02<00:03, 30.37it/s]"
     ]
    },
    {
     "name": "stdout",
     "output_type": "stream",
     "text": [
      "[I 2025-07-23 09:46:58,165] Trial 92 finished with value: 0.9084242434668672 and parameters: {'w_Huber': 0.931622482327753, 'w_BayesianRidge': 0.07908495421902252, 'w_Ridge': 0.6031209164999014, 'w_Lasso': 0.6355826375620347, 'w_ExtraTrees_L2': 0.025932483235036233, 'w_LGBM_L2': 0.0749638249429387}. Best is trial 83 with value: 0.9068536795124352.\n"
     ]
    },
    {
     "name": "stderr",
     "output_type": "stream",
     "text": [
      "Best trial: 94. Best value: 0.904765:  49%|████▉     | 98/200 [00:02<00:03, 30.26it/s]"
     ]
    },
    {
     "name": "stdout",
     "output_type": "stream",
     "text": [
      "[I 2025-07-23 09:46:58,205] Trial 93 finished with value: 0.9095557135613113 and parameters: {'w_Huber': 0.903440250515258, 'w_BayesianRidge': 0.12683448384714072, 'w_Ridge': 0.5406025626310913, 'w_Lasso': 0.6887681951048441, 'w_ExtraTrees_L2': 0.12143100959989586, 'w_LGBM_L2': 0.0012508139839945145}. Best is trial 83 with value: 0.9068536795124352.\n",
      "[I 2025-07-23 09:46:58,237] Trial 94 finished with value: 0.9047653181032341 and parameters: {'w_Huber': 0.952094493435757, 'w_BayesianRidge': 0.1736398266217344, 'w_Ridge': 0.445654622159116, 'w_Lasso': 0.5488160359051812, 'w_ExtraTrees_L2': 0.0010331501238093482, 'w_LGBM_L2': 0.029218658911156575}. Best is trial 94 with value: 0.9047653181032341.\n",
      "[I 2025-07-23 09:46:58,271] Trial 95 finished with value: 0.9083308337384587 and parameters: {'w_Huber': 0.9642504313401106, 'w_BayesianRidge': 0.10942350126752623, 'w_Ridge': 0.37649683062712824, 'w_Lasso': 0.6028626350748088, 'w_ExtraTrees_L2': 0.08179480865512427, 'w_LGBM_L2': 0.06613511873157255}. Best is trial 94 with value: 0.9047653181032341.\n",
      "[I 2025-07-23 09:46:58,297] Trial 96 finished with value: 0.9056786683276755 and parameters: {'w_Huber': 0.9470909807828312, 'w_BayesianRidge': 0.16284627150054598, 'w_Ridge': 0.27454223901455616, 'w_Lasso': 0.5486768248514635, 'w_ExtraTrees_L2': 0.06098516097799607, 'w_LGBM_L2': 0.024831003534443584}. Best is trial 94 with value: 0.9047653181032341.\n",
      "[I 2025-07-23 09:46:58,325] Trial 97 finished with value: 0.9095314967183498 and parameters: {'w_Huber': 0.9447456735352211, 'w_BayesianRidge': 0.22701272008715612, 'w_Ridge': 0.1967177890122434, 'w_Lasso': 0.537980621889687, 'w_ExtraTrees_L2': 0.06027876903619886, 'w_LGBM_L2': 0.14123010466603036}. Best is trial 94 with value: 0.9047653181032341.\n"
     ]
    },
    {
     "name": "stderr",
     "output_type": "stream",
     "text": [
      "Best trial: 94. Best value: 0.904765:  49%|████▉     | 98/200 [00:02<00:03, 30.26it/s]"
     ]
    },
    {
     "name": "stdout",
     "output_type": "stream",
     "text": [
      "[I 2025-07-23 09:46:58,359] Trial 98 finished with value: 0.9051684355360929 and parameters: {'w_Huber': 0.9818034902369075, 'w_BayesianRidge': 0.1695643871886892, 'w_Ridge': 0.2775885211986494, 'w_Lasso': 0.5547553706522185, 'w_ExtraTrees_L2': 0.014130371878714867, 'w_LGBM_L2': 0.05538108828246374}. Best is trial 94 with value: 0.9047653181032341.\n"
     ]
    },
    {
     "name": "stderr",
     "output_type": "stream",
     "text": [
      "Best trial: 94. Best value: 0.904765:  52%|█████▏    | 103/200 [00:03<00:03, 30.30it/s]"
     ]
    },
    {
     "name": "stdout",
     "output_type": "stream",
     "text": [
      "[I 2025-07-23 09:46:58,391] Trial 99 finished with value: 0.9091505035992151 and parameters: {'w_Huber': 0.9830892642567017, 'w_BayesianRidge': 0.49856978184414646, 'w_Ridge': 0.22139868985153874, 'w_Lasso': 0.5558468127095866, 'w_ExtraTrees_L2': 0.006554073839389399, 'w_LGBM_L2': 0.1726409341388787}. Best is trial 94 with value: 0.9047653181032341.\n",
      "[I 2025-07-23 09:46:58,421] Trial 100 finished with value: 0.9103887177615336 and parameters: {'w_Huber': 0.9649717529959518, 'w_BayesianRidge': 0.16410985967844566, 'w_Ridge': 0.30175530850413573, 'w_Lasso': 0.5148560800212993, 'w_ExtraTrees_L2': 0.15788554221895112, 'w_LGBM_L2': 0.11542819086890571}. Best is trial 94 with value: 0.9047653181032341.\n",
      "[I 2025-07-23 09:46:58,460] Trial 101 finished with value: 0.9068359831722704 and parameters: {'w_Huber': 0.9373269802224143, 'w_BayesianRidge': 0.17523839434440797, 'w_Ridge': 0.2651518993508068, 'w_Lasso': 0.5705094960089135, 'w_ExtraTrees_L2': 0.08803655529709561, 'w_LGBM_L2': 0.021981472006690983}. Best is trial 94 with value: 0.9047653181032341.\n",
      "[I 2025-07-23 09:46:58,493] Trial 102 finished with value: 0.9061520681889391 and parameters: {'w_Huber': 0.9439358082660085, 'w_BayesianRidge': 0.1418373831083581, 'w_Ridge': 0.2372626061373051, 'w_Lasso': 0.546478181261613, 'w_ExtraTrees_L2': 0.09329285035233384, 'w_LGBM_L2': 0.015039309260801624}. Best is trial 94 with value: 0.9047653181032341.\n",
      "[I 2025-07-23 09:46:58,523] Trial 103 finished with value: 0.906375718801726 and parameters: {'w_Huber': 0.9998021310610492, 'w_BayesianRidge': 0.14649134094031938, 'w_Ridge': 0.24610323479549845, 'w_Lasso': 0.5583748488887477, 'w_ExtraTrees_L2': 0.11504470361974023, 'w_LGBM_L2': 0.021490647501915563}. Best is trial 94 with value: 0.9047653181032341.\n"
     ]
    },
    {
     "name": "stderr",
     "output_type": "stream",
     "text": [
      "Best trial: 94. Best value: 0.904765:  52%|█████▏    | 104/200 [00:03<00:03, 30.30it/s]"
     ]
    },
    {
     "name": "stdout",
     "output_type": "stream",
     "text": [
      "[I 2025-07-23 09:46:58,556] Trial 104 finished with value: 0.9060657094826396 and parameters: {'w_Huber': 0.999314962253722, 'w_BayesianRidge': 0.13263316531539399, 'w_Ridge': 0.24723377672911734, 'w_Lasso': 0.5475125419044823, 'w_ExtraTrees_L2': 0.12321503622576502, 'w_LGBM_L2': 0.011762945237438103}. Best is trial 94 with value: 0.9047653181032341.\n"
     ]
    },
    {
     "name": "stderr",
     "output_type": "stream",
     "text": [
      "Best trial: 94. Best value: 0.904765:  55%|█████▌    | 110/200 [00:03<00:02, 30.65it/s]"
     ]
    },
    {
     "name": "stdout",
     "output_type": "stream",
     "text": [
      "[I 2025-07-23 09:46:58,587] Trial 105 finished with value: 0.9071831839416775 and parameters: {'w_Huber': 0.9390894874191233, 'w_BayesianRidge': 0.060765837903801134, 'w_Ridge': 0.26914555222822784, 'w_Lasso': 0.5473094902786427, 'w_ExtraTrees_L2': 0.11873689570090193, 'w_LGBM_L2': 0.021384396833739914}. Best is trial 94 with value: 0.9047653181032341.\n",
      "[I 2025-07-23 09:46:58,621] Trial 106 finished with value: 0.9075728866746153 and parameters: {'w_Huber': 0.9390898708260174, 'w_BayesianRidge': 0.025665599476663747, 'w_Ridge': 0.2734724680972783, 'w_Lasso': 0.5548020271940709, 'w_ExtraTrees_L2': 0.1251985048266149, 'w_LGBM_L2': 0.022207942557351278}. Best is trial 94 with value: 0.9047653181032341.\n",
      "[I 2025-07-23 09:46:58,652] Trial 107 finished with value: 0.913321213216715 and parameters: {'w_Huber': 0.8510762996591784, 'w_BayesianRidge': 0.07337719670060786, 'w_Ridge': 0.22727004318296334, 'w_Lasso': 0.5413518230483603, 'w_ExtraTrees_L2': 0.21659277793698872, 'w_LGBM_L2': 0.06129560268918848}. Best is trial 94 with value: 0.9047653181032341.\n",
      "[I 2025-07-23 09:46:58,683] Trial 108 finished with value: 0.909830781326486 and parameters: {'w_Huber': 0.9955485502491578, 'w_BayesianRidge': 0.05505264492629188, 'w_Ridge': 0.27399405010808753, 'w_Lasso': 0.5068735927953091, 'w_ExtraTrees_L2': 0.1752746057943581, 'w_LGBM_L2': 0.09621898487191764}. Best is trial 94 with value: 0.9047653181032341.\n",
      "[I 2025-07-23 09:46:58,715] Trial 109 finished with value: 0.9067617420472832 and parameters: {'w_Huber': 0.93194414878851, 'w_BayesianRidge': 0.12449412661408976, 'w_Ridge': 0.21065856876329722, 'w_Lasso': 0.4796224284729222, 'w_ExtraTrees_L2': 0.14395430779388313, 'w_LGBM_L2': 0.02415359256605808}. Best is trial 94 with value: 0.9047653181032341.\n"
     ]
    },
    {
     "name": "stderr",
     "output_type": "stream",
     "text": [
      "Best trial: 94. Best value: 0.904765:  55%|█████▌    | 110/200 [00:03<00:02, 30.65it/s]"
     ]
    },
    {
     "name": "stdout",
     "output_type": "stream",
     "text": [
      "[I 2025-07-23 09:46:58,750] Trial 110 finished with value: 0.9568563594603402 and parameters: {'w_Huber': 0.09209973355775014, 'w_BayesianRidge': 0.12783578803794543, 'w_Ridge': 0.1362109611314499, 'w_Lasso': 0.6079525062861524, 'w_ExtraTrees_L2': 0.24888372887310514, 'w_LGBM_L2': 0.05377800530477833}. Best is trial 94 with value: 0.9047653181032341.\n"
     ]
    },
    {
     "name": "stderr",
     "output_type": "stream",
     "text": [
      "Best trial: 113. Best value: 0.904667:  57%|█████▊    | 115/200 [00:03<00:02, 31.03it/s]"
     ]
    },
    {
     "name": "stdout",
     "output_type": "stream",
     "text": [
      "[I 2025-07-23 09:46:58,779] Trial 111 finished with value: 0.9216286399007609 and parameters: {'w_Huber': 0.999280172609195, 'w_BayesianRidge': 0.16939020747997346, 'w_Ridge': 0.16850726200237967, 'w_Lasso': 0.4748276191829623, 'w_ExtraTrees_L2': 0.1379600980129218, 'w_LGBM_L2': 0.4604106501509647}. Best is trial 94 with value: 0.9047653181032341.\n",
      "[I 2025-07-23 09:46:58,811] Trial 112 finished with value: 0.9054329534207843 and parameters: {'w_Huber': 0.9338435131965936, 'w_BayesianRidge': 0.11553928939343464, 'w_Ridge': 0.2503585792252825, 'w_Lasso': 0.48914040892699473, 'w_ExtraTrees_L2': 0.09300566552888137, 'w_LGBM_L2': 0.022741007472149417}. Best is trial 94 with value: 0.9047653181032341.\n",
      "[I 2025-07-23 09:46:58,836] Trial 113 finished with value: 0.9046671945840231 and parameters: {'w_Huber': 0.9496822956837967, 'w_BayesianRidge': 0.14159348472118155, 'w_Ridge': 0.20507755914304662, 'w_Lasso': 0.48332637489954605, 'w_ExtraTrees_L2': 0.08409213056399398, 'w_LGBM_L2': 0.01935805282888316}. Best is trial 113 with value: 0.9046671945840231.\n",
      "[I 2025-07-23 09:46:58,873] Trial 114 finished with value: 0.9073880762394921 and parameters: {'w_Huber': 0.927480445670894, 'w_BayesianRidge': 0.1163970786153615, 'w_Ridge': 0.2404551380684458, 'w_Lasso': 0.4885266426504456, 'w_ExtraTrees_L2': 0.08514874592109056, 'w_LGBM_L2': 0.07845768536976548}. Best is trial 113 with value: 0.9046671945840231.\n",
      "[I 2025-07-23 09:46:58,903] Trial 115 finished with value: 0.9060421589228216 and parameters: {'w_Huber': 0.9451444381713329, 'w_BayesianRidge': 0.15971026085666534, 'w_Ridge': 0.0690715811292768, 'w_Lasso': 0.4520769491632922, 'w_ExtraTrees_L2': 0.10534789771491862, 'w_LGBM_L2': 0.056084189855572265}. Best is trial 113 with value: 0.9046671945840231.\n"
     ]
    },
    {
     "name": "stderr",
     "output_type": "stream",
     "text": [
      "Best trial: 113. Best value: 0.904667:  58%|█████▊    | 116/200 [00:03<00:02, 31.03it/s]"
     ]
    },
    {
     "name": "stdout",
     "output_type": "stream",
     "text": [
      "[I 2025-07-23 09:46:58,938] Trial 116 finished with value: 0.9124953259465804 and parameters: {'w_Huber': 0.9516433945269248, 'w_BayesianRidge': 0.21618350492811722, 'w_Ridge': 0.11601988944878702, 'w_Lasso': 0.4482021873536079, 'w_ExtraTrees_L2': 0.3494576553713182, 'w_LGBM_L2': 0.026650611499008207}. Best is trial 113 with value: 0.9046671945840231.\n"
     ]
    },
    {
     "name": "stderr",
     "output_type": "stream",
     "text": [
      "Best trial: 113. Best value: 0.904667:  60%|██████    | 120/200 [00:03<00:02, 30.19it/s]"
     ]
    },
    {
     "name": "stdout",
     "output_type": "stream",
     "text": [
      "[I 2025-07-23 09:46:58,980] Trial 117 finished with value: 0.9060426084300701 and parameters: {'w_Huber': 0.9083117464492255, 'w_BayesianRidge': 0.17026900399935752, 'w_Ridge': 0.04159289809233249, 'w_Lasso': 0.4115805653079302, 'w_ExtraTrees_L2': 0.11139124675257475, 'w_LGBM_L2': 0.057954855630398386}. Best is trial 113 with value: 0.9046671945840231.\n",
      "[I 2025-07-23 09:46:59,026] Trial 118 finished with value: 0.9081667098454209 and parameters: {'w_Huber': 0.859349259568302, 'w_BayesianRidge': 0.16131535413953424, 'w_Ridge': 0.031883516208104624, 'w_Lasso': 0.41240268963701837, 'w_ExtraTrees_L2': 0.1486270685939401, 'w_LGBM_L2': 0.055494124186955464}. Best is trial 113 with value: 0.9046671945840231.\n",
      "[I 2025-07-23 09:46:59,066] Trial 119 finished with value: 0.9120605742326615 and parameters: {'w_Huber': 0.8975151650889618, 'w_BayesianRidge': 0.3022986370833114, 'w_Ridge': 0.05938902324165876, 'w_Lasso': 0.4821355028965277, 'w_ExtraTrees_L2': 0.19926536942288978, 'w_LGBM_L2': 0.10446711039517334}. Best is trial 113 with value: 0.9046671945840231.\n",
      "[I 2025-07-23 09:46:59,100] Trial 120 finished with value: 0.9283293640764955 and parameters: {'w_Huber': 0.92824645332118, 'w_BayesianRidge': 0.8974436690200652, 'w_Ridge': 0.18027345937450817, 'w_Lasso': 0.5114608692878637, 'w_ExtraTrees_L2': 0.11120066141556902, 'w_LGBM_L2': 0.7871477357260028}. Best is trial 113 with value: 0.9046671945840231.\n"
     ]
    },
    {
     "name": "stderr",
     "output_type": "stream",
     "text": [
      "Best trial: 121. Best value: 0.904566:  61%|██████    | 122/200 [00:03<00:02, 27.58it/s]"
     ]
    },
    {
     "name": "stdout",
     "output_type": "stream",
     "text": [
      "[I 2025-07-23 09:46:59,147] Trial 121 finished with value: 0.9045661685068739 and parameters: {'w_Huber': 0.9463145887345552, 'w_BayesianRidge': 0.14021224746371513, 'w_Ridge': 0.3013622046523079, 'w_Lasso': 0.4554780862277813, 'w_ExtraTrees_L2': 0.08672812748063452, 'w_LGBM_L2': 0.02042434323427269}. Best is trial 121 with value: 0.9045661685068739.\n"
     ]
    },
    {
     "name": "stderr",
     "output_type": "stream",
     "text": [
      "Best trial: 121. Best value: 0.904566:  62%|██████▎   | 125/200 [00:03<00:02, 25.90it/s]"
     ]
    },
    {
     "name": "stdout",
     "output_type": "stream",
     "text": [
      "[I 2025-07-23 09:46:59,206] Trial 122 finished with value: 0.912115346524987 and parameters: {'w_Huber': 0.5277000569470254, 'w_BayesianRidge': 0.14430235090840313, 'w_Ridge': 0.29664217916288277, 'w_Lasso': 0.4505076101294379, 'w_ExtraTrees_L2': 0.08707531781811602, 'w_LGBM_L2': 0.021983201925217345}. Best is trial 121 with value: 0.9045661685068739.\n",
      "[I 2025-07-23 09:46:59,256] Trial 123 finished with value: 0.907208698711677 and parameters: {'w_Huber': 0.9488537597339105, 'w_BayesianRidge': 0.24793268310933986, 'w_Ridge': 0.3384939669340886, 'w_Lasso': 0.4251066220415511, 'w_ExtraTrees_L2': 0.14455923622801672, 'w_LGBM_L2': 0.05444949628715545}. Best is trial 121 with value: 0.9045661685068739.\n",
      "[I 2025-07-23 09:46:59,292] Trial 124 finished with value: 0.9084938435396364 and parameters: {'w_Huber': 0.9150015749807168, 'w_BayesianRidge': 0.17657709154424356, 'w_Ridge': 0.2500458788120714, 'w_Lasso': 0.5227401844470162, 'w_ExtraTrees_L2': 0.16768916539264708, 'w_LGBM_L2': 0.02471100800261429}. Best is trial 121 with value: 0.9045661685068739.\n",
      "[I 2025-07-23 09:46:59,323] Trial 125 finished with value: 0.9279626366918295 and parameters: {'w_Huber': 0.8802385174043627, 'w_BayesianRidge': 0.20671539055127985, 'w_Ridge': 0.209622017493366, 'w_Lasso': 0.4859680894801127, 'w_ExtraTrees_L2': 0.7581504213561892, 'w_LGBM_L2': 0.09400454842330942}. Best is trial 121 with value: 0.9045661685068739.\n"
     ]
    },
    {
     "name": "stderr",
     "output_type": "stream",
     "text": [
      "Best trial: 121. Best value: 0.904566:  63%|██████▎   | 126/200 [00:03<00:02, 25.90it/s]"
     ]
    },
    {
     "name": "stdout",
     "output_type": "stream",
     "text": [
      "[I 2025-07-23 09:46:59,362] Trial 126 finished with value: 0.9087258314729988 and parameters: {'w_Huber': 0.9339338815147029, 'w_BayesianRidge': 0.1276741882341062, 'w_Ridge': 0.0983061658506233, 'w_Lasso': 0.5654860433562878, 'w_ExtraTrees_L2': 0.11348687777453875, 'w_LGBM_L2': 0.0515231888817355}. Best is trial 121 with value: 0.9045661685068739.\n"
     ]
    },
    {
     "name": "stderr",
     "output_type": "stream",
     "text": [
      "Best trial: 121. Best value: 0.904566:  66%|██████▌   | 132/200 [00:04<00:02, 28.33it/s]"
     ]
    },
    {
     "name": "stdout",
     "output_type": "stream",
     "text": [
      "[I 2025-07-23 09:46:59,397] Trial 127 finished with value: 0.9096470758557593 and parameters: {'w_Huber': 0.9047288246883105, 'w_BayesianRidge': 0.16223582820563998, 'w_Ridge': 0.15755215352747945, 'w_Lasso': 0.4627417995702865, 'w_ExtraTrees_L2': 0.09382441343544096, 'w_LGBM_L2': 0.1338774957364971}. Best is trial 121 with value: 0.9045661685068739.\n",
      "[I 2025-07-23 09:46:59,429] Trial 128 finished with value: 0.9065422234938773 and parameters: {'w_Huber': 0.9513879623979271, 'w_BayesianRidge': 0.08678265713994698, 'w_Ridge': 0.3068911077158064, 'w_Lasso': 0.502054895760475, 'w_ExtraTrees_L2': 0.1314270524047624, 'w_LGBM_L2': 0.023031058977440153}. Best is trial 121 with value: 0.9045661685068739.\n",
      "[I 2025-07-23 09:46:59,461] Trial 129 finished with value: 0.9075220659060124 and parameters: {'w_Huber': 0.9967705604785857, 'w_BayesianRidge': 0.07640090846851352, 'w_Ridge': 0.3026191109059561, 'w_Lasso': 0.49439014803347436, 'w_ExtraTrees_L2': 0.13548257581587558, 'w_LGBM_L2': 0.0697372914199876}. Best is trial 121 with value: 0.9045661685068739.\n",
      "[I 2025-07-23 09:46:59,494] Trial 130 finished with value: 0.9298659784606714 and parameters: {'w_Huber': 0.9543216355813742, 'w_BayesianRidge': 0.14585309134899194, 'w_Ridge': 0.0028274330467953496, 'w_Lasso': 0.39278007200193854, 'w_ExtraTrees_L2': 0.1877228926128241, 'w_LGBM_L2': 0.5360265392813075}. Best is trial 121 with value: 0.9045661685068739.\n",
      "[I 2025-07-23 09:46:59,523] Trial 131 finished with value: 0.9059316298435404 and parameters: {'w_Huber': 0.925215387791772, 'w_BayesianRidge': 0.08803004515024002, 'w_Ridge': 0.26260977714558636, 'w_Lasso': 0.5289812009861046, 'w_ExtraTrees_L2': 0.07645128489720875, 'w_LGBM_L2': 0.023935604856961702}. Best is trial 121 with value: 0.9045661685068739.\n"
     ]
    },
    {
     "name": "stderr",
     "output_type": "stream",
     "text": [
      "Best trial: 121. Best value: 0.904566:  66%|██████▌   | 132/200 [00:04<00:02, 28.33it/s]"
     ]
    },
    {
     "name": "stdout",
     "output_type": "stream",
     "text": [
      "[I 2025-07-23 09:46:59,558] Trial 132 finished with value: 0.9062014681397634 and parameters: {'w_Huber': 0.9545582298647011, 'w_BayesianRidge': 0.08372703656806327, 'w_Ridge': 0.32064471570284203, 'w_Lasso': 0.5319951840724381, 'w_ExtraTrees_L2': 0.07233158874403114, 'w_LGBM_L2': 0.04391670141273267}. Best is trial 121 with value: 0.9045661685068739.\n"
     ]
    },
    {
     "name": "stderr",
     "output_type": "stream",
     "text": [
      "Best trial: 121. Best value: 0.904566:  68%|██████▊   | 137/200 [00:04<00:02, 28.56it/s]"
     ]
    },
    {
     "name": "stdout",
     "output_type": "stream",
     "text": [
      "[I 2025-07-23 09:46:59,588] Trial 133 finished with value: 0.9061514623610059 and parameters: {'w_Huber': 0.9570416511136118, 'w_BayesianRidge': 0.08766346567331731, 'w_Ridge': 0.3157498093062996, 'w_Lasso': 0.529867471566467, 'w_ExtraTrees_L2': 0.07246157819751836, 'w_LGBM_L2': 0.04456795594246351}. Best is trial 121 with value: 0.9045661685068739.\n",
      "[I 2025-07-23 09:46:59,621] Trial 134 finished with value: 0.9069602545319271 and parameters: {'w_Huber': 0.9067477163230664, 'w_BayesianRidge': 0.04515361754037164, 'w_Ridge': 0.3627042792177628, 'w_Lasso': 0.5289356173492074, 'w_ExtraTrees_L2': 0.07392514183930135, 'w_LGBM_L2': 0.045256754495485205}. Best is trial 121 with value: 0.9045661685068739.\n",
      "[I 2025-07-23 09:46:59,654] Trial 135 finished with value: 0.9410857055240939 and parameters: {'w_Huber': 0.9906418234628486, 'w_BayesianRidge': 0.09603938796985502, 'w_Ridge': 0.32026606619759496, 'w_Lasso': 0.5416814763642527, 'w_ExtraTrees_L2': 0.10864680121354543, 'w_LGBM_L2': 0.9989298990808482}. Best is trial 121 with value: 0.9045661685068739.\n",
      "[I 2025-07-23 09:46:59,683] Trial 136 finished with value: 0.9053092793331873 and parameters: {'w_Huber': 0.9579069440067789, 'w_BayesianRidge': 0.13802836746845018, 'w_Ridge': 0.24793386820926597, 'w_Lasso': 0.4199020645863526, 'w_ExtraTrees_L2': 0.06950461292628268, 'w_LGBM_L2': 0.07736507394906308}. Best is trial 121 with value: 0.9045661685068739.\n",
      "[I 2025-07-23 09:46:59,714] Trial 137 finished with value: 0.9060721493902892 and parameters: {'w_Huber': 0.8709698183683768, 'w_BayesianRidge': 0.08841980363755395, 'w_Ridge': 0.06683900893808167, 'w_Lasso': 0.42200152002183816, 'w_ExtraTrees_L2': 0.04333600794166865, 'w_LGBM_L2': 0.08965851666829233}. Best is trial 121 with value: 0.9045661685068739.\n"
     ]
    },
    {
     "name": "stderr",
     "output_type": "stream",
     "text": [
      "Best trial: 121. Best value: 0.904566:  70%|██████▉   | 139/200 [00:04<00:02, 29.60it/s]"
     ]
    },
    {
     "name": "stdout",
     "output_type": "stream",
     "text": [
      "[I 2025-07-23 09:46:59,747] Trial 138 finished with value: 0.9068673770126885 and parameters: {'w_Huber': 0.869115766727521, 'w_BayesianRidge': 0.43441646031929626, 'w_Ridge': 0.0796263857652613, 'w_Lasso': 0.4302682684904622, 'w_ExtraTrees_L2': 0.018288794160408996, 'w_LGBM_L2': 0.11103810063101834}. Best is trial 121 with value: 0.9045661685068739.\n"
     ]
    },
    {
     "name": "stderr",
     "output_type": "stream",
     "text": [
      "Best trial: 141. Best value: 0.902008:  72%|███████▏  | 143/200 [00:04<00:01, 30.38it/s]"
     ]
    },
    {
     "name": "stdout",
     "output_type": "stream",
     "text": [
      "[I 2025-07-23 09:46:59,778] Trial 139 finished with value: 0.9032304905325791 and parameters: {'w_Huber': 0.894641665393795, 'w_BayesianRidge': 0.015517019695677092, 'w_Ridge': 0.059681210967272386, 'w_Lasso': 0.3617238569582861, 'w_ExtraTrees_L2': 0.026966183482942566, 'w_LGBM_L2': 0.08134616356693224}. Best is trial 139 with value: 0.9032304905325791.\n",
      "[I 2025-07-23 09:46:59,804] Trial 140 finished with value: 0.9109131600672338 and parameters: {'w_Huber': 0.8454745544414399, 'w_BayesianRidge': 0.008313425553775428, 'w_Ridge': 0.04787142315541191, 'w_Lasso': 0.4067385634924131, 'w_ExtraTrees_L2': 0.049765504070349326, 'w_LGBM_L2': 0.16358637061329168}. Best is trial 139 with value: 0.9032304905325791.\n",
      "[I 2025-07-23 09:46:59,836] Trial 141 finished with value: 0.9020082148456374 and parameters: {'w_Huber': 0.8913729629978092, 'w_BayesianRidge': 0.0479909485697319, 'w_Ridge': 0.0859715585945959, 'w_Lasso': 0.31342083379496777, 'w_ExtraTrees_L2': 0.022856752467175, 'w_LGBM_L2': 0.08287522739990509}. Best is trial 141 with value: 0.9020082148456374.\n",
      "[I 2025-07-23 09:46:59,872] Trial 142 finished with value: 0.9026529191719337 and parameters: {'w_Huber': 0.8906786654676663, 'w_BayesianRidge': 0.018074345136228395, 'w_Ridge': 0.09411843217349973, 'w_Lasso': 0.323488143739877, 'w_ExtraTrees_L2': 0.023832394433946177, 'w_LGBM_L2': 0.09015692631256175}. Best is trial 141 with value: 0.9020082148456374.\n",
      "[I 2025-07-23 09:46:59,900] Trial 143 finished with value: 0.9031553692141653 and parameters: {'w_Huber': 0.8991854879987469, 'w_BayesianRidge': 0.06695048728891273, 'w_Ridge': 0.06028325747206454, 'w_Lasso': 0.34476290122325304, 'w_ExtraTrees_L2': 0.02844500727204753, 'w_LGBM_L2': 0.08939607480449695}. Best is trial 141 with value: 0.9020082148456374.\n"
     ]
    },
    {
     "name": "stderr",
     "output_type": "stream",
     "text": [
      "Best trial: 141. Best value: 0.902008:  72%|███████▏  | 144/200 [00:04<00:01, 30.38it/s]"
     ]
    },
    {
     "name": "stdout",
     "output_type": "stream",
     "text": [
      "[I 2025-07-23 09:46:59,935] Trial 144 finished with value: 0.903470000454243 and parameters: {'w_Huber': 0.8902678115891641, 'w_BayesianRidge': 0.02906697437471986, 'w_Ridge': 0.0978750893241219, 'w_Lasso': 0.30736688659860206, 'w_ExtraTrees_L2': 0.017330613267462956, 'w_LGBM_L2': 0.11620614475075797}. Best is trial 141 with value: 0.9020082148456374.\n"
     ]
    },
    {
     "name": "stderr",
     "output_type": "stream",
     "text": [
      "Best trial: 141. Best value: 0.902008:  74%|███████▍  | 148/200 [00:04<00:01, 29.25it/s]"
     ]
    },
    {
     "name": "stdout",
     "output_type": "stream",
     "text": [
      "[I 2025-07-23 09:46:59,978] Trial 145 finished with value: 0.9042159759219409 and parameters: {'w_Huber': 0.8881202880111333, 'w_BayesianRidge': 0.027527514315485384, 'w_Ridge': 0.08817139476338859, 'w_Lasso': 0.316905870837086, 'w_ExtraTrees_L2': 0.018044651437099116, 'w_LGBM_L2': 0.1246140989543843}. Best is trial 141 with value: 0.9020082148456374.\n",
      "[I 2025-07-23 09:47:00,018] Trial 146 finished with value: 0.9061220915725088 and parameters: {'w_Huber': 0.8148687418557323, 'w_BayesianRidge': 0.014785928635509258, 'w_Ridge': 0.089124816038265, 'w_Lasso': 0.32373238308242647, 'w_ExtraTrees_L2': 0.022951336773295614, 'w_LGBM_L2': 0.12835311826614246}. Best is trial 141 with value: 0.9020082148456374.\n",
      "[I 2025-07-23 09:47:00,064] Trial 147 finished with value: 0.9060462456421874 and parameters: {'w_Huber': 0.8860033281533354, 'w_BayesianRidge': 0.038224083913212914, 'w_Ridge': 0.13620981174823074, 'w_Lasso': 0.35925067056766147, 'w_ExtraTrees_L2': 0.005253578209806389, 'w_LGBM_L2': 0.14930947413311133}. Best is trial 141 with value: 0.9020082148456374.\n",
      "[I 2025-07-23 09:47:00,103] Trial 148 finished with value: 0.907499356913781 and parameters: {'w_Huber': 0.890018979543784, 'w_BayesianRidge': 0.030575746185792584, 'w_Ridge': 0.07262054751098122, 'w_Lasso': 0.31870572146738335, 'w_ExtraTrees_L2': 0.021418920877467617, 'w_LGBM_L2': 0.18210931112183837}. Best is trial 141 with value: 0.9020082148456374.\n"
     ]
    },
    {
     "name": "stderr",
     "output_type": "stream",
     "text": [
      "Best trial: 141. Best value: 0.902008:  75%|███████▌  | 150/200 [00:04<00:01, 28.13it/s]"
     ]
    },
    {
     "name": "stdout",
     "output_type": "stream",
     "text": [
      "[I 2025-07-23 09:47:00,141] Trial 149 finished with value: 0.9020842737461555 and parameters: {'w_Huber': 0.8422050714089159, 'w_BayesianRidge': 0.019501713658368044, 'w_Ridge': 0.11622968201689549, 'w_Lasso': 0.2463709685741569, 'w_ExtraTrees_L2': 9.133785394451496e-05, 'w_LGBM_L2': 0.11132692959686283}. Best is trial 141 with value: 0.9020082148456374.\n"
     ]
    },
    {
     "name": "stderr",
     "output_type": "stream",
     "text": [
      "Best trial: 141. Best value: 0.902008:  76%|███████▋  | 153/200 [00:04<00:01, 26.65it/s]"
     ]
    },
    {
     "name": "stdout",
     "output_type": "stream",
     "text": [
      "[I 2025-07-23 09:47:00,182] Trial 150 finished with value: 0.9080353839621115 and parameters: {'w_Huber': 0.8441942158283914, 'w_BayesianRidge': 0.0001476309344284922, 'w_Ridge': 0.11413856676816925, 'w_Lasso': 0.2708321402550795, 'w_ExtraTrees_L2': 4.993927470397369e-05, 'w_LGBM_L2': 0.2048555904652158}. Best is trial 141 with value: 0.9020082148456374.\n",
      "[I 2025-07-23 09:47:00,220] Trial 151 finished with value: 0.9027230810336947 and parameters: {'w_Huber': 0.922959366560674, 'w_BayesianRidge': 0.026825102433252875, 'w_Ridge': 0.10670422026182787, 'w_Lasso': 0.2522828103975686, 'w_ExtraTrees_L2': 0.043719702682978374, 'w_LGBM_L2': 0.11288195558525793}. Best is trial 141 with value: 0.9020082148456374.\n",
      "[I 2025-07-23 09:47:00,267] Trial 152 finished with value: 0.9036307727589404 and parameters: {'w_Huber': 0.8583241149559953, 'w_BayesianRidge': 0.02494369195548625, 'w_Ridge': 0.10158622538200612, 'w_Lasso': 0.242854317423023, 'w_ExtraTrees_L2': 0.03959900473908992, 'w_LGBM_L2': 0.11841857688133317}. Best is trial 141 with value: 0.9020082148456374.\n",
      "[I 2025-07-23 09:47:00,301] Trial 153 finished with value: 0.9031612287667465 and parameters: {'w_Huber': 0.8542504341902571, 'w_BayesianRidge': 0.021018480413088795, 'w_Ridge': 0.10630423449137004, 'w_Lasso': 0.2029347081962123, 'w_ExtraTrees_L2': 0.03540688970350073, 'w_LGBM_L2': 0.11570281944117404}. Best is trial 141 with value: 0.9020082148456374.\n"
     ]
    },
    {
     "name": "stderr",
     "output_type": "stream",
     "text": [
      "Best trial: 141. Best value: 0.902008:  77%|███████▋  | 154/200 [00:04<00:01, 26.65it/s]"
     ]
    },
    {
     "name": "stdout",
     "output_type": "stream",
     "text": [
      "[I 2025-07-23 09:47:00,338] Trial 154 finished with value: 0.9039191756904869 and parameters: {'w_Huber': 0.8569870017818962, 'w_BayesianRidge': 0.025243264180957684, 'w_Ridge': 0.10289335523288216, 'w_Lasso': 0.232853332572856, 'w_ExtraTrees_L2': 0.038679868665607714, 'w_LGBM_L2': 0.12576846862412425}. Best is trial 141 with value: 0.9020082148456374.\n"
     ]
    },
    {
     "name": "stderr",
     "output_type": "stream",
     "text": [
      "Best trial: 141. Best value: 0.902008:  80%|███████▉  | 159/200 [00:05<00:01, 26.36it/s]"
     ]
    },
    {
     "name": "stdout",
     "output_type": "stream",
     "text": [
      "[I 2025-07-23 09:47:00,379] Trial 155 finished with value: 0.9049656674042765 and parameters: {'w_Huber': 0.8588050369380028, 'w_BayesianRidge': 0.02957006891899185, 'w_Ridge': 0.10780072855329281, 'w_Lasso': 0.20257119091028358, 'w_ExtraTrees_L2': 0.029538396979553315, 'w_LGBM_L2': 0.14508809056466226}. Best is trial 141 with value: 0.9020082148456374.\n",
      "[I 2025-07-23 09:47:00,421] Trial 156 finished with value: 0.9059574759133309 and parameters: {'w_Huber': 0.8253812127103451, 'w_BayesianRidge': 0.028139266137014552, 'w_Ridge': 0.10601455542599755, 'w_Lasso': 0.24549876871237045, 'w_ExtraTrees_L2': 0.023640133012050386, 'w_LGBM_L2': 0.15688455416070893}. Best is trial 141 with value: 0.9020082148456374.\n",
      "[I 2025-07-23 09:47:00,459] Trial 157 finished with value: 0.9047102122040197 and parameters: {'w_Huber': 0.7794529261361344, 'w_BayesianRidge': 0.017678847552960467, 'w_Ridge': 0.1549272510505129, 'w_Lasso': 0.19001769572913474, 'w_ExtraTrees_L2': 0.03684752099800488, 'w_LGBM_L2': 0.12102225036351157}. Best is trial 141 with value: 0.9020082148456374.\n",
      "[I 2025-07-23 09:47:00,495] Trial 158 finished with value: 0.9051205975464189 and parameters: {'w_Huber': 0.7914893085549631, 'w_BayesianRidge': 0.04695656334766768, 'w_Ridge': 0.14247650222535316, 'w_Lasso': 0.2041998998270672, 'w_ExtraTrees_L2': 0.036488460559817505, 'w_LGBM_L2': 0.12785276638327248}. Best is trial 141 with value: 0.9020082148456374.\n"
     ]
    },
    {
     "name": "stderr",
     "output_type": "stream",
     "text": [
      "Best trial: 141. Best value: 0.902008:  80%|███████▉  | 159/200 [00:05<00:01, 26.36it/s]"
     ]
    },
    {
     "name": "stdout",
     "output_type": "stream",
     "text": [
      "[I 2025-07-23 09:47:00,537] Trial 159 finished with value: 0.9034136082194655 and parameters: {'w_Huber': 0.8579487890167721, 'w_BayesianRidge': 0.021001578706203068, 'w_Ridge': 0.12223308823089682, 'w_Lasso': 0.15214459574747866, 'w_ExtraTrees_L2': 0.03948095891503951, 'w_LGBM_L2': 0.11306737577442365}. Best is trial 141 with value: 0.9020082148456374.\n"
     ]
    },
    {
     "name": "stderr",
     "output_type": "stream",
     "text": [
      "Best trial: 141. Best value: 0.902008:  82%|████████▏ | 164/200 [00:05<00:01, 26.76it/s]"
     ]
    },
    {
     "name": "stdout",
     "output_type": "stream",
     "text": [
      "[I 2025-07-23 09:47:00,573] Trial 160 finished with value: 0.9038437902576224 and parameters: {'w_Huber': 0.8509229785529594, 'w_BayesianRidge': 0.015623714596359528, 'w_Ridge': 0.12387278527249751, 'w_Lasso': 0.1386432972205644, 'w_ExtraTrees_L2': 0.04546246619893965, 'w_LGBM_L2': 0.11349095167171212}. Best is trial 141 with value: 0.9020082148456374.\n",
      "[I 2025-07-23 09:47:00,604] Trial 161 finished with value: 0.9040013432912399 and parameters: {'w_Huber': 0.8372868073154964, 'w_BayesianRidge': 0.014367181061323323, 'w_Ridge': 0.1587455953271517, 'w_Lasso': 0.15250327488067617, 'w_ExtraTrees_L2': 0.04531168487279419, 'w_LGBM_L2': 0.1127308605808202}. Best is trial 141 with value: 0.9020082148456374.\n",
      "[I 2025-07-23 09:47:00,636] Trial 162 finished with value: 0.9047754196811828 and parameters: {'w_Huber': 0.7604564422050784, 'w_BayesianRidge': 0.000591735327660655, 'w_Ridge': 0.1613194642804462, 'w_Lasso': 0.1528080936421038, 'w_ExtraTrees_L2': 0.049786855252950936, 'w_LGBM_L2': 0.10929527448634221}. Best is trial 141 with value: 0.9020082148456374.\n",
      "[I 2025-07-23 09:47:00,673] Trial 163 finished with value: 0.904832028593496 and parameters: {'w_Huber': 0.8272515060902293, 'w_BayesianRidge': 0.018274452201926365, 'w_Ridge': 0.12351527628266318, 'w_Lasso': 0.12204379585267916, 'w_ExtraTrees_L2': 0.0427190247745842, 'w_LGBM_L2': 0.12221051991740695}. Best is trial 141 with value: 0.9020082148456374.\n",
      "[I 2025-07-23 09:47:00,711] Trial 164 finished with value: 0.9072601995964632 and parameters: {'w_Huber': 0.7766413536666151, 'w_BayesianRidge': 0.05184971935744223, 'w_Ridge': 0.0912963209844885, 'w_Lasso': 0.24963703686171257, 'w_ExtraTrees_L2': 0.023097074427397786, 'w_LGBM_L2': 0.16293138062461096}. Best is trial 141 with value: 0.9020082148456374.\n"
     ]
    },
    {
     "name": "stderr",
     "output_type": "stream",
     "text": [
      "Best trial: 141. Best value: 0.902008:  82%|████████▎ | 165/200 [00:05<00:01, 27.16it/s]"
     ]
    },
    {
     "name": "stdout",
     "output_type": "stream",
     "text": [
      "[I 2025-07-23 09:47:00,755] Trial 165 finished with value: 0.9090320845932587 and parameters: {'w_Huber': 0.8444146095245161, 'w_BayesianRidge': 0.02282464883211141, 'w_Ridge': 0.02672811614190778, 'w_Lasso': 0.1687335682501709, 'w_ExtraTrees_L2': 0.04445593200804746, 'w_LGBM_L2': 0.18688080626613413}. Best is trial 141 with value: 0.9020082148456374.\n"
     ]
    },
    {
     "name": "stderr",
     "output_type": "stream",
     "text": [
      "Best trial: 141. Best value: 0.902008:  84%|████████▍ | 169/200 [00:05<00:01, 25.92it/s]"
     ]
    },
    {
     "name": "stdout",
     "output_type": "stream",
     "text": [
      "[I 2025-07-23 09:47:00,796] Trial 166 finished with value: 0.9098210300623727 and parameters: {'w_Huber': 0.8649619858838268, 'w_BayesianRidge': 0.06282972964212347, 'w_Ridge': 0.1811542161121452, 'w_Lasso': 0.286874565478772, 'w_ExtraTrees_L2': 0.0018039060556267472, 'w_LGBM_L2': 0.2373280622536605}. Best is trial 141 with value: 0.9020082148456374.\n",
      "[I 2025-07-23 09:47:00,836] Trial 167 finished with value: 0.9039570164532946 and parameters: {'w_Huber': 0.8082530520226487, 'w_BayesianRidge': 0.04003685131366251, 'w_Ridge': 0.1440235403916969, 'w_Lasso': 0.22362041562215487, 'w_ExtraTrees_L2': 0.047759262413492265, 'w_LGBM_L2': 0.1045771489706561}. Best is trial 141 with value: 0.9020082148456374.\n",
      "[I 2025-07-23 09:47:00,878] Trial 168 finished with value: 0.9046002951232669 and parameters: {'w_Huber': 0.8059694460583116, 'w_BayesianRidge': 0.04495782704594611, 'w_Ridge': 0.12997256913403812, 'w_Lasso': 0.2559605883917334, 'w_ExtraTrees_L2': 0.059139751870562376, 'w_LGBM_L2': 0.0988569929650006}. Best is trial 141 with value: 0.9020082148456374.\n",
      "[I 2025-07-23 09:47:00,913] Trial 169 finished with value: 0.9068871710531907 and parameters: {'w_Huber': 0.8049341769051322, 'w_BayesianRidge': 0.045633541226864506, 'w_Ridge': 0.13149139541221794, 'w_Lasso': 0.23118286608177616, 'w_ExtraTrees_L2': 0.055747084208984055, 'w_LGBM_L2': 0.146377246721419}. Best is trial 141 with value: 0.9020082148456374.\n"
     ]
    },
    {
     "name": "stderr",
     "output_type": "stream",
     "text": [
      "Best trial: 141. Best value: 0.902008:  86%|████████▌ | 171/200 [00:05<00:01, 26.57it/s]"
     ]
    },
    {
     "name": "stdout",
     "output_type": "stream",
     "text": [
      "[I 2025-07-23 09:47:00,943] Trial 170 finished with value: 0.902887925674395 and parameters: {'w_Huber': 0.716896970827025, 'w_BayesianRidge': 0.037140972039754326, 'w_Ridge': 0.08910460322378677, 'w_Lasso': 0.1428176883438004, 'w_ExtraTrees_L2': 0.015625168642685393, 'w_LGBM_L2': 0.0982041056103874}. Best is trial 141 with value: 0.9020082148456374.\n",
      "[I 2025-07-23 09:47:00,979] Trial 171 finished with value: 0.9037474927443121 and parameters: {'w_Huber': 0.7465548579472101, 'w_BayesianRidge': 0.0011709931085685105, 'w_Ridge': 0.05400305930344994, 'w_Lasso': 0.07847283913403004, 'w_ExtraTrees_L2': 0.02092190718172543, 'w_LGBM_L2': 0.10179431421867806}. Best is trial 141 with value: 0.9020082148456374.\n"
     ]
    },
    {
     "name": "stderr",
     "output_type": "stream",
     "text": [
      "Best trial: 141. Best value: 0.902008:  88%|████████▊ | 175/200 [00:05<00:00, 27.31it/s]"
     ]
    },
    {
     "name": "stdout",
     "output_type": "stream",
     "text": [
      "[I 2025-07-23 09:47:01,015] Trial 172 finished with value: 0.9040901105538153 and parameters: {'w_Huber': 0.722621711171509, 'w_BayesianRidge': 0.010346081913199572, 'w_Ridge': 0.05326549491098257, 'w_Lasso': 0.08535301088874253, 'w_ExtraTrees_L2': 0.018621290874278558, 'w_LGBM_L2': 0.10777538309879642}. Best is trial 141 with value: 0.9020082148456374.\n",
      "[I 2025-07-23 09:47:01,048] Trial 173 finished with value: 0.9042703888938404 and parameters: {'w_Huber': 0.674103787244741, 'w_BayesianRidge': 0.0030284268383581076, 'w_Ridge': 0.08303659517667078, 'w_Lasso': 0.08639598637830963, 'w_ExtraTrees_L2': 0.019660887990804767, 'w_LGBM_L2': 0.10257458270486633}. Best is trial 141 with value: 0.9020082148456374.\n",
      "[I 2025-07-23 09:47:01,079] Trial 174 finished with value: 0.9068220701829949 and parameters: {'w_Huber': 0.8351560822892242, 'w_BayesianRidge': 0.029818247616245686, 'w_Ridge': 0.05394928522580157, 'w_Lasso': 0.06332581630445068, 'w_ExtraTrees_L2': 0.0004718816929775091, 'w_LGBM_L2': 0.13395458012576322}. Best is trial 141 with value: 0.9020082148456374.\n",
      "[I 2025-07-23 09:47:01,115] Trial 175 finished with value: 0.9045228029355499 and parameters: {'w_Huber': 0.7334993158288365, 'w_BayesianRidge': 0.0633435684479054, 'w_Ridge': 0.01791409928855764, 'w_Lasso': 0.14139024346184098, 'w_ExtraTrees_L2': 0.026618030714254594, 'w_LGBM_L2': 0.11522040760259927}. Best is trial 141 with value: 0.9020082148456374.\n"
     ]
    },
    {
     "name": "stderr",
     "output_type": "stream",
     "text": [
      "Best trial: 141. Best value: 0.902008:  89%|████████▉ | 178/200 [00:05<00:00, 28.39it/s]"
     ]
    },
    {
     "name": "stdout",
     "output_type": "stream",
     "text": [
      "[I 2025-07-23 09:47:01,145] Trial 176 finished with value: 0.9132110371875328 and parameters: {'w_Huber': 0.7274328251452223, 'w_BayesianRidge': 1.3321501290089466e-05, 'w_Ridge': 0.10127831841201007, 'w_Lasso': 0.058393971320505916, 'w_ExtraTrees_L2': 0.01925667640952873, 'w_LGBM_L2': 0.16980254582073287}. Best is trial 141 with value: 0.9020082148456374.\n",
      "[I 2025-07-23 09:47:01,180] Trial 177 finished with value: 0.9029242726901703 and parameters: {'w_Huber': 0.7549801132205771, 'w_BayesianRidge': 0.03233977162493751, 'w_Ridge': 0.045843055312464145, 'w_Lasso': 0.21620404545055782, 'w_ExtraTrees_L2': 0.04019376078188764, 'w_LGBM_L2': 0.09141831924991761}. Best is trial 141 with value: 0.9020082148456374.\n"
     ]
    },
    {
     "name": "stderr",
     "output_type": "stream",
     "text": [
      "Best trial: 141. Best value: 0.902008:  90%|█████████ | 181/200 [00:05<00:00, 28.35it/s]"
     ]
    },
    {
     "name": "stdout",
     "output_type": "stream",
     "text": [
      "[I 2025-07-23 09:47:01,215] Trial 178 finished with value: 0.9037129580821563 and parameters: {'w_Huber': 0.7047866746347813, 'w_BayesianRidge': 0.05913785373851328, 'w_Ridge': 0.05460534520557005, 'w_Lasso': 0.12569488214446298, 'w_ExtraTrees_L2': 0.04393428878992522, 'w_LGBM_L2': 0.08787179694312039}. Best is trial 141 with value: 0.9020082148456374.\n",
      "[I 2025-07-23 09:47:01,254] Trial 179 finished with value: 0.9031390447919087 and parameters: {'w_Huber': 0.7534298616483317, 'w_BayesianRidge': 0.06300548524777033, 'w_Ridge': 0.034100858692487274, 'w_Lasso': 0.22326756088973865, 'w_ExtraTrees_L2': 0.04471911224734741, 'w_LGBM_L2': 0.08796581574815694}. Best is trial 141 with value: 0.9020082148456374.\n",
      "[I 2025-07-23 09:47:01,284] Trial 180 finished with value: 0.9031406465208281 and parameters: {'w_Huber': 0.745497881609057, 'w_BayesianRidge': 0.06258662532010702, 'w_Ridge': 0.04250691740074268, 'w_Lasso': 0.2223557460287036, 'w_ExtraTrees_L2': 0.04534220821569086, 'w_LGBM_L2': 0.08502729269490861}. Best is trial 141 with value: 0.9020082148456374.\n"
     ]
    },
    {
     "name": "stderr",
     "output_type": "stream",
     "text": [
      "Best trial: 141. Best value: 0.902008:  90%|█████████ | 181/200 [00:05<00:00, 28.35it/s]"
     ]
    },
    {
     "name": "stdout",
     "output_type": "stream",
     "text": [
      "[I 2025-07-23 09:47:01,344] Trial 181 finished with value: 0.9023908997930248 and parameters: {'w_Huber': 0.7486578414933821, 'w_BayesianRidge': 0.06024705939924768, 'w_Ridge': 0.004065841990876385, 'w_Lasso': 0.1839384921551852, 'w_ExtraTrees_L2': 0.04377368058794165, 'w_LGBM_L2': 0.08390797196424696}. Best is trial 141 with value: 0.9020082148456374.\n"
     ]
    },
    {
     "name": "stderr",
     "output_type": "stream",
     "text": [
      "Best trial: 141. Best value: 0.902008:  92%|█████████▏| 184/200 [00:06<00:00, 22.99it/s]"
     ]
    },
    {
     "name": "stdout",
     "output_type": "stream",
     "text": [
      "[I 2025-07-23 09:47:01,413] Trial 182 finished with value: 0.9029328437476994 and parameters: {'w_Huber': 0.7558888750551933, 'w_BayesianRidge': 0.061648899135593224, 'w_Ridge': 0.006870914885072722, 'w_Lasso': 0.18295375173066558, 'w_ExtraTrees_L2': 0.06368494381904354, 'w_LGBM_L2': 0.07933581742242195}. Best is trial 141 with value: 0.9020082148456374.\n",
      "[I 2025-07-23 09:47:01,475] Trial 183 finished with value: 0.9039413491132755 and parameters: {'w_Huber': 0.7006355358170382, 'w_BayesianRidge': 0.06453218313890603, 'w_Ridge': 0.017321971508150746, 'w_Lasso': 0.12753301355217483, 'w_ExtraTrees_L2': 0.05895867803153686, 'w_LGBM_L2': 0.08301545270022546}. Best is trial 141 with value: 0.9020082148456374.\n"
     ]
    },
    {
     "name": "stderr",
     "output_type": "stream",
     "text": [
      "Best trial: 141. Best value: 0.902008:  92%|█████████▏| 184/200 [00:06<00:00, 22.99it/s]"
     ]
    },
    {
     "name": "stdout",
     "output_type": "stream",
     "text": [
      "[I 2025-07-23 09:47:01,544] Trial 184 finished with value: 0.9041321017145802 and parameters: {'w_Huber': 0.708503223106301, 'w_BayesianRidge': 0.0597278883935907, 'w_Ridge': 0.0018496517501881068, 'w_Lasso': 0.18310857159558985, 'w_ExtraTrees_L2': 0.06309429294620474, 'w_LGBM_L2': 0.08547474150341591}. Best is trial 141 with value: 0.9020082148456374.\n"
     ]
    },
    {
     "name": "stderr",
     "output_type": "stream",
     "text": [
      "Best trial: 186. Best value: 0.900697:  94%|█████████▎| 187/200 [00:06<00:00, 19.79it/s]"
     ]
    },
    {
     "name": "stdout",
     "output_type": "stream",
     "text": [
      "[I 2025-07-23 09:47:01,612] Trial 185 finished with value: 0.9009847753826941 and parameters: {'w_Huber': 0.7577409131321607, 'w_BayesianRidge': 0.04625557053172588, 'w_Ridge': 0.036232560779436776, 'w_Lasso': 0.21168046697862214, 'w_ExtraTrees_L2': 4.5260452132371565e-05, 'w_LGBM_L2': 0.0920818881383172}. Best is trial 185 with value: 0.9009847753826941.\n",
      "[I 2025-07-23 09:47:01,679] Trial 186 finished with value: 0.9006969938030274 and parameters: {'w_Huber': 0.7494688687457353, 'w_BayesianRidge': 0.06774197756325549, 'w_Ridge': 0.033078401086966046, 'w_Lasso': 0.20538098816108694, 'w_ExtraTrees_L2': 0.0036296297460783576, 'w_LGBM_L2': 0.08384191321151671}. Best is trial 186 with value: 0.9006969938030274.\n"
     ]
    },
    {
     "name": "stderr",
     "output_type": "stream",
     "text": [
      "Best trial: 186. Best value: 0.900697:  94%|█████████▎| 187/200 [00:06<00:00, 19.79it/s]"
     ]
    },
    {
     "name": "stdout",
     "output_type": "stream",
     "text": [
      "[I 2025-07-23 09:47:01,748] Trial 187 finished with value: 0.9020694571228713 and parameters: {'w_Huber': 0.6666442074382767, 'w_BayesianRidge': 0.06347473698236106, 'w_Ridge': 0.027572508585227196, 'w_Lasso': 0.20673961679098413, 'w_ExtraTrees_L2': 0.008628862598324336, 'w_LGBM_L2': 0.08129796070255657}. Best is trial 186 with value: 0.9006969938030274.\n"
     ]
    },
    {
     "name": "stderr",
     "output_type": "stream",
     "text": [
      "Best trial: 188. Best value: 0.899981:  95%|█████████▌| 190/200 [00:06<00:00, 18.12it/s]"
     ]
    },
    {
     "name": "stdout",
     "output_type": "stream",
     "text": [
      "[I 2025-07-23 09:47:01,811] Trial 188 finished with value: 0.8999810144562221 and parameters: {'w_Huber': 0.7516190798746712, 'w_BayesianRidge': 0.06579841898469954, 'w_Ridge': 0.032668349162744366, 'w_Lasso': 0.20801412844353726, 'w_ExtraTrees_L2': 0.000805834806774576, 'w_LGBM_L2': 0.07626055547534381}. Best is trial 188 with value: 0.8999810144562221.\n",
      "[I 2025-07-23 09:47:01,878] Trial 189 finished with value: 0.9003200082402095 and parameters: {'w_Huber': 0.7484720591253397, 'w_BayesianRidge': 0.07548843210848559, 'w_Ridge': 0.03145954701553011, 'w_Lasso': 0.21058931710806458, 'w_ExtraTrees_L2': 0.004697261544846013, 'w_LGBM_L2': 0.07593858374151237}. Best is trial 188 with value: 0.8999810144562221.\n"
     ]
    },
    {
     "name": "stderr",
     "output_type": "stream",
     "text": [
      "Best trial: 190. Best value: 0.899934:  95%|█████████▌| 190/200 [00:06<00:00, 18.12it/s]"
     ]
    },
    {
     "name": "stdout",
     "output_type": "stream",
     "text": [
      "[I 2025-07-23 09:47:01,945] Trial 190 finished with value: 0.899934486490013 and parameters: {'w_Huber': 0.7594973252848527, 'w_BayesianRidge': 0.07101711879424537, 'w_Ridge': 0.034665296448105704, 'w_Lasso': 0.21256933396983704, 'w_ExtraTrees_L2': 0.0033712701255266438, 'w_LGBM_L2': 0.0732081527417202}. Best is trial 190 with value: 0.899934486490013.\n"
     ]
    },
    {
     "name": "stderr",
     "output_type": "stream",
     "text": [
      "Best trial: 190. Best value: 0.899934:  96%|█████████▌| 192/200 [00:06<00:00, 17.30it/s]"
     ]
    },
    {
     "name": "stdout",
     "output_type": "stream",
     "text": [
      "[I 2025-07-23 09:47:02,012] Trial 191 finished with value: 0.9003532394669304 and parameters: {'w_Huber': 0.7529082113571559, 'w_BayesianRidge': 0.06830404585958028, 'w_Ridge': 0.029505230878382332, 'w_Lasso': 0.21308122985657563, 'w_ExtraTrees_L2': 0.011975500701446156, 'w_LGBM_L2': 0.07309382587633075}. Best is trial 190 with value: 0.899934486490013.\n",
      "[I 2025-07-23 09:47:02,079] Trial 192 finished with value: 0.8999874541396722 and parameters: {'w_Huber': 0.7495963828798465, 'w_BayesianRidge': 0.07256531150417245, 'w_Ridge': 0.03484438402954786, 'w_Lasso': 0.20443705469824267, 'w_ExtraTrees_L2': 0.0034880348591972477, 'w_LGBM_L2': 0.07406064759030999}. Best is trial 190 with value: 0.899934486490013.\n"
     ]
    },
    {
     "name": "stderr",
     "output_type": "stream",
     "text": [
      "Best trial: 193. Best value: 0.899444:  97%|█████████▋| 194/200 [00:06<00:00, 16.73it/s]"
     ]
    },
    {
     "name": "stdout",
     "output_type": "stream",
     "text": [
      "[I 2025-07-23 09:47:02,145] Trial 193 finished with value: 0.8994442722677547 and parameters: {'w_Huber': 0.749506649317594, 'w_BayesianRidge': 0.07118540533101816, 'w_Ridge': 0.03211594544683776, 'w_Lasso': 0.20286079960629008, 'w_ExtraTrees_L2': 0.0035948797909902686, 'w_LGBM_L2': 0.06761462904630898}. Best is trial 193 with value: 0.8994442722677547.\n"
     ]
    },
    {
     "name": "stderr",
     "output_type": "stream",
     "text": [
      "Best trial: 193. Best value: 0.899444:  98%|█████████▊| 196/200 [00:06<00:00, 16.13it/s]"
     ]
    },
    {
     "name": "stdout",
     "output_type": "stream",
     "text": [
      "[I 2025-07-23 09:47:02,212] Trial 194 finished with value: 0.8997751552939064 and parameters: {'w_Huber': 0.7520610312866379, 'w_BayesianRidge': 0.07531586800291858, 'w_Ridge': 0.030059534552086722, 'w_Lasso': 0.21195103526011105, 'w_ExtraTrees_L2': 0.0005071919254090521, 'w_LGBM_L2': 0.07157467431459998}. Best is trial 193 with value: 0.8994442722677547.\n",
      "[I 2025-07-23 09:47:02,280] Trial 195 finished with value: 0.8998865485590516 and parameters: {'w_Huber': 0.7514665932024085, 'w_BayesianRidge': 0.07727382968988282, 'w_Ridge': 0.02476296619759839, 'w_Lasso': 0.20914952176058638, 'w_ExtraTrees_L2': 0.0005511657811566196, 'w_LGBM_L2': 0.0743464537289719}. Best is trial 193 with value: 0.8994442722677547.\n"
     ]
    },
    {
     "name": "stderr",
     "output_type": "stream",
     "text": [
      "Best trial: 193. Best value: 0.899444:  98%|█████████▊| 196/200 [00:06<00:00, 16.13it/s]"
     ]
    },
    {
     "name": "stdout",
     "output_type": "stream",
     "text": [
      "[I 2025-07-23 09:47:02,347] Trial 196 finished with value: 0.8998996355830563 and parameters: {'w_Huber': 0.6702545680368857, 'w_BayesianRidge': 0.07536253123720166, 'w_Ridge': 0.029964485245721314, 'w_Lasso': 0.18214263229853303, 'w_ExtraTrees_L2': 0.0009256108699747857, 'w_LGBM_L2': 0.0653957084455489}. Best is trial 193 with value: 0.8994442722677547.\n"
     ]
    },
    {
     "name": "stderr",
     "output_type": "stream",
     "text": [
      "Best trial: 193. Best value: 0.899444:  99%|█████████▉| 198/200 [00:07<00:00, 16.01it/s]"
     ]
    },
    {
     "name": "stdout",
     "output_type": "stream",
     "text": [
      "[I 2025-07-23 09:47:02,411] Trial 197 finished with value: 0.8997267206028636 and parameters: {'w_Huber': 0.6542622601899597, 'w_BayesianRidge': 0.08285043549902323, 'w_Ridge': 0.008341614515607599, 'w_Lasso': 0.17878572394884049, 'w_ExtraTrees_L2': 0.002438661841642098, 'w_LGBM_L2': 0.061446287882745365}. Best is trial 193 with value: 0.8994442722677547.\n",
      "[I 2025-07-23 09:47:02,472] Trial 198 finished with value: 0.9007515366222363 and parameters: {'w_Huber': 0.6685664033292295, 'w_BayesianRidge': 0.09670582618853084, 'w_Ridge': 0.02777336192087624, 'w_Lasso': 0.2047911042257576, 'w_ExtraTrees_L2': 0.0005264957013044488, 'w_LGBM_L2': 0.0666474389215794}. Best is trial 193 with value: 0.8994442722677547.\n"
     ]
    },
    {
     "name": "stderr",
     "output_type": "stream",
     "text": [
      "Best trial: 193. Best value: 0.899444: 100%|██████████| 200/200 [00:07<00:00, 28.03it/s]"
     ]
    },
    {
     "name": "stdout",
     "output_type": "stream",
     "text": [
      "[I 2025-07-23 09:47:02,529] Trial 199 finished with value: 0.9005669887481538 and parameters: {'w_Huber': 0.655602229804877, 'w_BayesianRidge': 0.10127398766062101, 'w_Ridge': 0.02130775185318074, 'w_Lasso': 0.16819784055556242, 'w_ExtraTrees_L2': 0.0013730780579465536, 'w_LGBM_L2': 0.06861242449726004}. Best is trial 193 with value: 0.8994442722677547.\n",
      "\n",
      "✅ Final Ensemble MAPE: 0.899444\n",
      "💾 Saved: submission_final_ensemble.csv\n"
     ]
    },
    {
     "name": "stderr",
     "output_type": "stream",
     "text": [
      "\n"
     ]
    }
   ],
   "source": [
    "import warnings\n",
    "warnings.filterwarnings('ignore')\n",
    "\n",
    "import pandas as pd\n",
    "import numpy as np\n",
    "from sklearn.model_selection import KFold\n",
    "from sklearn.linear_model import Ridge, Lasso, ElasticNet, BayesianRidge, HuberRegressor\n",
    "from sklearn.ensemble import (\n",
    "    RandomForestRegressor, ExtraTreesRegressor, AdaBoostRegressor, \n",
    "    GradientBoostingRegressor, BaggingRegressor, HistGradientBoostingRegressor\n",
    ")\n",
    "from sklearn.neighbors import KNeighborsRegressor\n",
    "from sklearn.svm import SVR\n",
    "from sklearn.metrics import mean_absolute_percentage_error\n",
    "import xgboost as xgb\n",
    "import lightgbm as lgb\n",
    "import optuna\n",
    "import torch\n",
    "\n",
    "# Try TabPFN + TabM\n",
    "try:\n",
    "    from tabpfn import TabPFNRegressor\n",
    "    TABPFN_AVAILABLE = True\n",
    "except ImportError:\n",
    "    print(\"⚠️  TabPFN not available. Install with: pip install tabpfn\")\n",
    "    TABPFN_AVAILABLE = False\n",
    "\n",
    "try:\n",
    "    import tabm\n",
    "    if hasattr(tabm, 'TabMRegressor'):\n",
    "        TabMRegressor = tabm.TabMRegressor\n",
    "        TABM_AVAILABLE = True\n",
    "    elif hasattr(tabm, 'TabM'):\n",
    "        TabMRegressor = tabm.TabM\n",
    "        TABM_AVAILABLE = True\n",
    "    else:\n",
    "        print(f\"⚠️  TabM available attributes: {[attr for attr in dir(tabm) if not attr.startswith('_')]}\")\n",
    "        TABM_AVAILABLE = False\n",
    "except ImportError:\n",
    "    print(\"⚠️  TabM not available. Install with: pip install git+https://github.com/yandex-research/tabm.git\")\n",
    "    TABM_AVAILABLE = False\n",
    "\n",
    "print(\"📂 Loading data...\")\n",
    "train = pd.read_csv('train.csv')\n",
    "test = pd.read_csv('test.csv')\n",
    "X = train.drop([f'BlendProperty{i}' for i in range(1, 11)], axis=1)\n",
    "y = train[[f'BlendProperty{i}' for i in range(1, 11)]]\n",
    "X_test = test.drop(['ID'], axis=1)\n",
    "\n",
    "kf = KFold(n_splits=5, shuffle=True)\n",
    "\n",
    "print(\"🚀 Starting Level 1 training...\")\n",
    "\n",
    "# Level 1 models\n",
    "level1_names = ['XGB']\n",
    "if TABM_AVAILABLE:\n",
    "    level1_names.append('TabM')\n",
    "if TABPFN_AVAILABLE:\n",
    "    level1_names.append('TabPFN')\n",
    "\n",
    "level1_names.extend(['LGBM', 'RandomForest', 'ExtraTrees', 'HistGB', 'SVR'])\n",
    "\n",
    "print(f\"📊 Level 1 models: {', '.join(level1_names)}\")\n",
    "\n",
    "level1_oof = {name: np.zeros(y.shape) for name in level1_names}\n",
    "level1_test = {name: np.zeros((X_test.shape[0], y.shape[1])) for name in level1_names}\n",
    "\n",
    "for t in range(y.shape[1]):\n",
    "    print(f\"🎯 Training Level 1 for target BlendProperty{t+1}...\")\n",
    "    for fold, (tr_idx, val_idx) in enumerate(kf.split(X)):\n",
    "        print(f\"  Fold {fold+1}/5\")\n",
    "        X_tr, X_val = X.iloc[tr_idx], X.iloc[val_idx]\n",
    "        y_tr, y_val = y.iloc[tr_idx, t], y.iloc[val_idx, t]\n",
    "\n",
    "        # XGBoost\n",
    "        xgb_model = xgb.XGBRegressor(\n",
    "            n_estimators=200, max_depth=6, learning_rate=0.1,\n",
    "            subsample=0.8, colsample_bytree=0.8, verbosity=0, n_jobs=-1\n",
    "        )\n",
    "        xgb_model.fit(X_tr, y_tr)\n",
    "        level1_oof['XGB'][val_idx, t] = xgb_model.predict(X_val)\n",
    "        level1_test['XGB'][:, t] += xgb_model.predict(X_test) / kf.n_splits\n",
    "\n",
    "        # LightGBM\n",
    "        lgb_model = lgb.LGBMRegressor(\n",
    "            n_estimators=200, max_depth=6, learning_rate=0.1,\n",
    "            subsample=0.8, colsample_bytree=0.8, verbose=-1, n_jobs=-1\n",
    "        )\n",
    "        lgb_model.fit(X_tr, y_tr)\n",
    "        level1_oof['LGBM'][val_idx, t] = lgb_model.predict(X_val)\n",
    "        level1_test['LGBM'][:, t] += lgb_model.predict(X_test) / kf.n_splits\n",
    "\n",
    "        # RandomForest\n",
    "        rf = RandomForestRegressor(n_estimators=200, max_depth=10, n_jobs=-1)\n",
    "        rf.fit(X_tr, y_tr)\n",
    "        level1_oof['RandomForest'][val_idx, t] = rf.predict(X_val)\n",
    "        level1_test['RandomForest'][:, t] += rf.predict(X_test) / kf.n_splits\n",
    "\n",
    "        # ExtraTrees\n",
    "        et = ExtraTreesRegressor(n_estimators=200, max_depth=10, n_jobs=-1)\n",
    "        et.fit(X_tr, y_tr)\n",
    "        level1_oof['ExtraTrees'][val_idx, t] = et.predict(X_val)\n",
    "        level1_test['ExtraTrees'][:, t] += et.predict(X_test) / kf.n_splits\n",
    "\n",
    "        # ✅ HistGradientBoosting\n",
    "        histgb = HistGradientBoostingRegressor(max_iter=200, max_depth=6, learning_rate=0.1)\n",
    "        histgb.fit(X_tr, y_tr)\n",
    "        level1_oof['HistGB'][val_idx, t] = histgb.predict(X_val)\n",
    "        level1_test['HistGB'][:, t] += histgb.predict(X_test) / kf.n_splits\n",
    "\n",
    "        # ✅ SVR (can be slow)\n",
    "        svr = SVR(kernel='rbf', C=1.0, epsilon=0.1)\n",
    "        svr.fit(X_tr, y_tr)\n",
    "        level1_oof['SVR'][val_idx, t] = svr.predict(X_val)\n",
    "        level1_test['SVR'][:, t] += svr.predict(X_test) / kf.n_splits\n",
    "\n",
    "        # TabM\n",
    "        if 'TabM' in level1_names and TABM_AVAILABLE:\n",
    "            try:\n",
    "                tabm_model = TabMRegressor(device='cuda' if torch.cuda.is_available() else 'cpu')\n",
    "                tabm_model.fit(X_tr.values, y_tr.values)\n",
    "                level1_oof['TabM'][val_idx, t] = tabm_model.predict(X_val.values)\n",
    "                level1_test['TabM'][:, t] += tabm_model.predict(X_test.values) / kf.n_splits\n",
    "            except Exception as e:\n",
    "                print(f\"    Error with TabM: {e}\")\n",
    "                level1_names.remove('TabM')\n",
    "\n",
    "        # TabPFN\n",
    "        if 'TabPFN' in level1_names and TABPFN_AVAILABLE:\n",
    "            try:\n",
    "                tabpfn = TabPFNRegressor(device='cuda' if torch.cuda.is_available() else 'cpu')\n",
    "                tabpfn.fit(X_tr, y_tr.values)\n",
    "                level1_oof['TabPFN'][val_idx, t] = tabpfn.predict(X_val)\n",
    "                level1_test['TabPFN'][:, t] += tabpfn.predict(X_test) / kf.n_splits\n",
    "            except Exception as e:\n",
    "                print(f\"    Error with TabPFN: {e}\")\n",
    "                level1_names.remove('TabPFN')\n",
    "\n",
    "level1_names = [name for name in level1_names if level1_oof[name].sum() != 0]\n",
    "\n",
    "print(\"\\n📊 Level 1 MAPE Scores:\")\n",
    "for name in level1_names:\n",
    "    mape = mean_absolute_percentage_error(y, level1_oof[name])\n",
    "    print(f\"  {name}: {mape:.6f}\")\n",
    "\n",
    "# ---------------------------------------\n",
    "# LEVEL 2 STACKING\n",
    "# ---------------------------------------\n",
    "print(\"\\n🔄 Preparing Level 2 inputs...\")\n",
    "stack_X = np.concatenate([level1_oof[name] for name in level1_names], axis=1)\n",
    "stack_X_test = np.concatenate([level1_test[name] for name in level1_names], axis=1)\n",
    "\n",
    "level2_names = [\n",
    "    'Ridge', 'Lasso', 'ElasticNet', 'BayesianRidge', 'Huber',\n",
    "    'RandomForest_L2', 'ExtraTrees_L2', 'AdaBoost', 'GradientBoost',\n",
    "    'Bagging', 'KNN', 'SVR', 'XGB_L2', 'LGBM_L2'\n",
    "]\n",
    "\n",
    "level2_oof = {name: np.zeros(y.shape) for name in level2_names}\n",
    "level2_test = {name: np.zeros((X_test.shape[0], y.shape[1])) for name in level2_names}\n",
    "\n",
    "print(\"\\n🚀 Starting Level 2 training...\")\n",
    "for t in range(y.shape[1]):\n",
    "    print(f\"🎯 Level 2 for BlendProperty{t+1}...\")\n",
    "    for fold, (tr_idx, val_idx) in enumerate(kf.split(stack_X)):\n",
    "        print(f\"  Fold {fold+1}/5\")\n",
    "        X_tr, X_val = stack_X[tr_idx], stack_X[val_idx]\n",
    "        y_tr, y_val = y.iloc[tr_idx, t], y.iloc[val_idx, t]\n",
    "\n",
    "        Ridge(alpha=1.0).fit(X_tr, y_tr)\n",
    "        level2_oof['Ridge'][val_idx, t] = Ridge(alpha=1.0).fit(X_tr, y_tr).predict(X_val)\n",
    "        level2_test['Ridge'][:, t] += Ridge(alpha=1.0).fit(X_tr, y_tr).predict(stack_X_test) / kf.n_splits\n",
    "\n",
    "        lasso = Lasso(alpha=0.1, max_iter=1000)\n",
    "        lasso.fit(X_tr, y_tr)\n",
    "        level2_oof['Lasso'][val_idx, t] = lasso.predict(X_val)\n",
    "        level2_test['Lasso'][:, t] += lasso.predict(stack_X_test) / kf.n_splits\n",
    "\n",
    "        elastic = ElasticNet(alpha=0.1, max_iter=1000)\n",
    "        elastic.fit(X_tr, y_tr)\n",
    "        level2_oof['ElasticNet'][val_idx, t] = elastic.predict(X_val)\n",
    "        level2_test['ElasticNet'][:, t] += elastic.predict(stack_X_test) / kf.n_splits\n",
    "\n",
    "        bayesian = BayesianRidge()\n",
    "        bayesian.fit(X_tr, y_tr)\n",
    "        level2_oof['BayesianRidge'][val_idx, t] = bayesian.predict(X_val)\n",
    "        level2_test['BayesianRidge'][:, t] += bayesian.predict(stack_X_test) / kf.n_splits\n",
    "\n",
    "        huber = HuberRegressor()\n",
    "        huber.fit(X_tr, y_tr)\n",
    "        level2_oof['Huber'][val_idx, t] = huber.predict(X_val)\n",
    "        level2_test['Huber'][:, t] += huber.predict(stack_X_test) / kf.n_splits\n",
    "\n",
    "        rf2 = RandomForestRegressor(n_estimators=50)\n",
    "        rf2.fit(X_tr, y_tr)\n",
    "        level2_oof['RandomForest_L2'][val_idx, t] = rf2.predict(X_val)\n",
    "        level2_test['RandomForest_L2'][:, t] += rf2.predict(stack_X_test) / kf.n_splits\n",
    "\n",
    "        et2 = ExtraTreesRegressor(n_estimators=50)\n",
    "        et2.fit(X_tr, y_tr)\n",
    "        level2_oof['ExtraTrees_L2'][val_idx, t] = et2.predict(X_val)\n",
    "        level2_test['ExtraTrees_L2'][:, t] += et2.predict(stack_X_test) / kf.n_splits\n",
    "\n",
    "        ada = AdaBoostRegressor(n_estimators=50)\n",
    "        ada.fit(X_tr, y_tr)\n",
    "        level2_oof['AdaBoost'][val_idx, t] = ada.predict(X_val)\n",
    "        level2_test['AdaBoost'][:, t] += ada.predict(stack_X_test) / kf.n_splits\n",
    "\n",
    "        gb = GradientBoostingRegressor(n_estimators=100)\n",
    "        gb.fit(X_tr, y_tr)\n",
    "        level2_oof['GradientBoost'][val_idx, t] = gb.predict(X_val)\n",
    "        level2_test['GradientBoost'][:, t] += gb.predict(stack_X_test) / kf.n_splits\n",
    "\n",
    "        bag = BaggingRegressor(n_estimators=50)\n",
    "        bag.fit(X_tr, y_tr)\n",
    "        level2_oof['Bagging'][val_idx, t] = bag.predict(X_val)\n",
    "        level2_test['Bagging'][:, t] += bag.predict(stack_X_test) / kf.n_splits\n",
    "\n",
    "        knn = KNeighborsRegressor(n_neighbors=5)\n",
    "        knn.fit(X_tr, y_tr)\n",
    "        level2_oof['KNN'][val_idx, t] = knn.predict(X_val)\n",
    "        level2_test['KNN'][:, t] += knn.predict(stack_X_test) / kf.n_splits\n",
    "\n",
    "        svr2 = SVR(kernel='rbf')\n",
    "        svr2.fit(X_tr, y_tr)\n",
    "        level2_oof['SVR'][val_idx, t] = svr2.predict(X_val)\n",
    "        level2_test['SVR'][:, t] += svr2.predict(stack_X_test) / kf.n_splits\n",
    "\n",
    "        xgb2 = xgb.XGBRegressor()\n",
    "        xgb2.fit(X_tr, y_tr)\n",
    "        level2_oof['XGB_L2'][val_idx, t] = xgb2.predict(X_val)\n",
    "        level2_test['XGB_L2'][:, t] += xgb2.predict(stack_X_test) / kf.n_splits\n",
    "\n",
    "        lgb2 = lgb.LGBMRegressor()\n",
    "        lgb2.fit(X_tr, y_tr)\n",
    "        level2_oof['LGBM_L2'][val_idx, t] = lgb2.predict(X_val)\n",
    "        level2_test['LGBM_L2'][:, t] += lgb2.predict(stack_X_test) / kf.n_splits\n",
    "\n",
    "print(\"\\n📊 Level 2 MAPE Scores:\")\n",
    "level2_scores = {name: mean_absolute_percentage_error(y, level2_oof[name]) for name in level2_names}\n",
    "for name, mape in level2_scores.items():\n",
    "    print(f\"  {name}: {mape:.6f}\")\n",
    "\n",
    "print(\"\\n🔍 Starting Level 3 dynamic ensemble...\")\n",
    "\n",
    "TOP_K = min(6, len(level2_names))\n",
    "top_models = sorted(level2_scores, key=level2_scores.get)[:TOP_K]\n",
    "print(f\"📊 Top Level 2 models: {top_models}\")\n",
    "\n",
    "def objective(trial):\n",
    "    w = np.array([trial.suggest_float(f'w_{m}', 0.0, 1.0) for m in top_models])\n",
    "    w /= np.sum(w)\n",
    "    final_pred = sum(w[i] * level2_oof[top_models[i]] for i in range(len(top_models)))\n",
    "    return mean_absolute_percentage_error(y, final_pred)\n",
    "\n",
    "study = optuna.create_study(direction='minimize')\n",
    "study.optimize(objective, n_trials=200, show_progress_bar=True)\n",
    "\n",
    "w = np.array([study.best_params[f'w_{m}'] for m in top_models])\n",
    "w /= np.sum(w)\n",
    "\n",
    "final_pred = sum(w[i] * level2_oof[top_models[i]] for i in range(len(top_models)))\n",
    "final_test = sum(w[i] * level2_test[top_models[i]] for i in range(len(top_models)))\n",
    "final_mape = mean_absolute_percentage_error(y, final_pred)\n",
    "\n",
    "print(f\"\\n✅ Final Ensemble MAPE: {final_mape:.6f}\")\n",
    "\n",
    "submission = pd.DataFrame(final_test, columns=[f'BlendProperty{i}' for i in range(1, 11)])\n",
    "submission.insert(0, 'ID', test['ID'])\n",
    "submission.to_csv(f'submission_final_ensemble_last_stand.csv', index=False)\n",
    "print(\"💾 Saved: submission_final_ensemble.csv\")\n"
   ]
  }
 ],
 "metadata": {
  "kernelspec": {
   "display_name": ".venv",
   "language": "python",
   "name": "python3"
  },
  "language_info": {
   "codemirror_mode": {
    "name": "ipython",
    "version": 3
   },
   "file_extension": ".py",
   "mimetype": "text/x-python",
   "name": "python",
   "nbconvert_exporter": "python",
   "pygments_lexer": "ipython3",
   "version": "3.10.0"
  }
 },
 "nbformat": 4,
 "nbformat_minor": 5
}
