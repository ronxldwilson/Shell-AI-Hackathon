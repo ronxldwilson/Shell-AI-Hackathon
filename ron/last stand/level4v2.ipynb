{
 "cells": [
  {
   "cell_type": "markdown",
   "id": "518100b2",
   "metadata": {},
   "source": [
    "We are gonna revese it"
   ]
  },
  {
   "cell_type": "code",
   "execution_count": 4,
   "id": "5c5a5027",
   "metadata": {},
   "outputs": [
    {
     "name": "stdout",
     "output_type": "stream",
     "text": [
      "Loading data...\n",
      "🚀 Starting Level 1 training...\n",
      "🎯 Training Level 1 for target BlendProperty1...\n",
      "  Fold 1/5\n",
      "    Error with TabM: TabM.__init__() missing 1 required keyword-only argument: 'd_out'\n",
      "  Fold 2/5\n",
      "  Fold 3/5\n",
      "  Fold 4/5\n",
      "  Fold 5/5\n",
      "🎯 Training Level 1 for target BlendProperty2...\n",
      "  Fold 1/5\n",
      "  Fold 2/5\n",
      "  Fold 3/5\n",
      "  Fold 4/5\n",
      "  Fold 5/5\n",
      "🎯 Training Level 1 for target BlendProperty3...\n",
      "  Fold 1/5\n",
      "  Fold 2/5\n",
      "  Fold 3/5\n",
      "  Fold 4/5\n",
      "  Fold 5/5\n",
      "🎯 Training Level 1 for target BlendProperty4...\n",
      "  Fold 1/5\n",
      "  Fold 2/5\n",
      "  Fold 3/5\n",
      "  Fold 4/5\n",
      "  Fold 5/5\n",
      "🎯 Training Level 1 for target BlendProperty5...\n",
      "  Fold 1/5\n",
      "  Fold 2/5\n",
      "  Fold 3/5\n",
      "  Fold 4/5\n",
      "  Fold 5/5\n",
      "🎯 Training Level 1 for target BlendProperty6...\n",
      "  Fold 1/5\n",
      "  Fold 2/5\n",
      "  Fold 3/5\n",
      "  Fold 4/5\n",
      "  Fold 5/5\n",
      "🎯 Training Level 1 for target BlendProperty7...\n",
      "  Fold 1/5\n",
      "  Fold 2/5\n",
      "  Fold 3/5\n",
      "  Fold 4/5\n",
      "  Fold 5/5\n",
      "🎯 Training Level 1 for target BlendProperty8...\n",
      "  Fold 1/5\n",
      "  Fold 2/5\n",
      "  Fold 3/5\n",
      "  Fold 4/5\n",
      "  Fold 5/5\n",
      "🎯 Training Level 1 for target BlendProperty9...\n",
      "  Fold 1/5\n",
      "  Fold 2/5\n",
      "  Fold 3/5\n",
      "  Fold 4/5\n",
      "  Fold 5/5\n",
      "🎯 Training Level 1 for target BlendProperty10...\n",
      "  Fold 1/5\n",
      "  Fold 2/5\n",
      "  Fold 3/5\n",
      "  Fold 4/5\n",
      "  Fold 5/5\n",
      "\n",
      "📊 Level 1 MAPE Scores (using 1 models):\n",
      "  TabPFN: 0.507453\n",
      "\n",
      "🔄 Preparing Level 2 inputs from Level 1 outputs...\n",
      "\n",
      "🚀 Starting Level 2 stacking (Traditional ML Models)...\n",
      "🎯 Level 2 stacking for BlendProperty1...\n",
      "  Fold 1/5\n",
      "  Fold 2/5\n",
      "  Fold 3/5\n",
      "  Fold 4/5\n",
      "  Fold 5/5\n",
      "🎯 Level 2 stacking for BlendProperty2...\n",
      "  Fold 1/5\n",
      "  Fold 2/5\n",
      "  Fold 3/5\n",
      "  Fold 4/5\n",
      "  Fold 5/5\n",
      "🎯 Level 2 stacking for BlendProperty3...\n",
      "  Fold 1/5\n",
      "  Fold 2/5\n",
      "  Fold 3/5\n",
      "  Fold 4/5\n",
      "  Fold 5/5\n",
      "🎯 Level 2 stacking for BlendProperty4...\n",
      "  Fold 1/5\n",
      "  Fold 2/5\n",
      "  Fold 3/5\n",
      "  Fold 4/5\n",
      "  Fold 5/5\n",
      "🎯 Level 2 stacking for BlendProperty5...\n",
      "  Fold 1/5\n",
      "  Fold 2/5\n",
      "  Fold 3/5\n",
      "  Fold 4/5\n",
      "  Fold 5/5\n",
      "🎯 Level 2 stacking for BlendProperty6...\n",
      "  Fold 1/5\n",
      "  Fold 2/5\n",
      "  Fold 3/5\n",
      "  Fold 4/5\n",
      "  Fold 5/5\n",
      "🎯 Level 2 stacking for BlendProperty7...\n",
      "  Fold 1/5\n",
      "  Fold 2/5\n",
      "  Fold 3/5\n",
      "  Fold 4/5\n",
      "  Fold 5/5\n",
      "🎯 Level 2 stacking for BlendProperty8...\n",
      "  Fold 1/5\n",
      "  Fold 2/5\n",
      "  Fold 3/5\n",
      "  Fold 4/5\n",
      "  Fold 5/5\n",
      "🎯 Level 2 stacking for BlendProperty9...\n",
      "  Fold 1/5\n",
      "  Fold 2/5\n",
      "  Fold 3/5\n",
      "  Fold 4/5\n",
      "  Fold 5/5\n",
      "🎯 Level 2 stacking for BlendProperty10...\n",
      "  Fold 1/5\n",
      "  Fold 2/5\n",
      "  Fold 3/5\n",
      "  Fold 4/5\n",
      "  Fold 5/5\n"
     ]
    },
    {
     "name": "stderr",
     "output_type": "stream",
     "text": [
      "[I 2025-07-23 03:35:01,984] A new study created in memory with name: no-name-f4a9d265-d420-4d5f-ba75-dbdf1fb0b45b\n"
     ]
    },
    {
     "name": "stdout",
     "output_type": "stream",
     "text": [
      "\n",
      "📊 Level 2 MAPE Scores:\n",
      "  Ridge: 0.524448\n",
      "  Lasso: 0.497542\n",
      "  ElasticNet: 0.533723\n",
      "  BayesianRidge: 0.524154\n",
      "  Huber: 0.514973\n",
      "  RandomForest: 0.560418\n",
      "  ExtraTrees: 0.533252\n",
      "  AdaBoost: 0.669838\n",
      "  GradientBoost: 0.579397\n",
      "  Bagging: 0.551338\n",
      "  KNN: 2.019821\n",
      "  SVR: 0.596871\n",
      "  XGB_L2: 0.588618\n",
      "  LGBM_L2: 0.647879\n",
      "\n",
      "🔍 Starting Dynamic Level 3 optimization...\n",
      "\n",
      "🎯 Selected top 6 models for Level 3:\n",
      "  1. Lasso: 0.497542\n",
      "  2. Huber: 0.514973\n",
      "  3. BayesianRidge: 0.524154\n",
      "  4. Ridge: 0.524448\n",
      "  5. ExtraTrees: 0.533252\n",
      "  6. ElasticNet: 0.533723\n",
      "🔧 Optimizing ensemble weights...\n"
     ]
    },
    {
     "name": "stderr",
     "output_type": "stream",
     "text": [
      "Best trial: 10. Best value: 0.496592:   6%|▌         | 12/200 [00:00<00:01, 104.97it/s]"
     ]
    },
    {
     "name": "stdout",
     "output_type": "stream",
     "text": [
      "[I 2025-07-23 03:35:01,992] Trial 0 finished with value: 0.5018928440441229 and parameters: {'w_Lasso': 0.48372457343390274, 'w_Huber': 0.009338891243344527, 'w_BayesianRidge': 0.2429969951950708, 'w_Ridge': 0.6475425662382772, 'w_ExtraTrees': 0.9809345641198912, 'w_ElasticNet': 0.9346009907214455}. Best is trial 0 with value: 0.5018928440441229.\n",
      "[I 2025-07-23 03:35:01,997] Trial 1 finished with value: 0.5031934975946918 and parameters: {'w_Lasso': 0.3423204508157036, 'w_Huber': 0.6930214108210238, 'w_BayesianRidge': 0.39578415644104104, 'w_Ridge': 0.08668982162536965, 'w_ExtraTrees': 0.7044508254506294, 'w_ElasticNet': 0.9952384018659869}. Best is trial 0 with value: 0.5018928440441229.\n",
      "[I 2025-07-23 03:35:02,005] Trial 2 finished with value: 0.5142016152663127 and parameters: {'w_Lasso': 0.04903109849132603, 'w_Huber': 0.2660307190565857, 'w_BayesianRidge': 0.8893819530691486, 'w_Ridge': 0.8484223186256824, 'w_ExtraTrees': 0.00876521399375585, 'w_ElasticNet': 0.8774171923737691}. Best is trial 0 with value: 0.5018928440441229.\n",
      "[I 2025-07-23 03:35:02,014] Trial 3 finished with value: 0.5050873497818779 and parameters: {'w_Lasso': 0.045386165844825355, 'w_Huber': 0.4030210520244393, 'w_BayesianRidge': 0.13195827162787988, 'w_Ridge': 0.0102133977783615, 'w_ExtraTrees': 0.38607483629405914, 'w_ElasticNet': 0.5657006903786963}. Best is trial 0 with value: 0.5018928440441229.\n",
      "[I 2025-07-23 03:35:02,022] Trial 4 finished with value: 0.49874100768728474 and parameters: {'w_Lasso': 0.8620669588030705, 'w_Huber': 0.7935081516862831, 'w_BayesianRidge': 0.6027908132852181, 'w_Ridge': 0.1780144243183428, 'w_ExtraTrees': 0.9078513268695559, 'w_ElasticNet': 0.22075292359574117}. Best is trial 4 with value: 0.49874100768728474.\n",
      "[I 2025-07-23 03:35:02,028] Trial 5 finished with value: 0.5100501552539028 and parameters: {'w_Lasso': 0.008979204534208418, 'w_Huber': 0.5662482620378568, 'w_BayesianRidge': 0.41405750941659125, 'w_Ridge': 0.3447103488067832, 'w_ExtraTrees': 0.680708442412357, 'w_ElasticNet': 0.12178282687665454}. Best is trial 4 with value: 0.49874100768728474.\n",
      "[I 2025-07-23 03:35:02,037] Trial 6 finished with value: 0.5100271328142906 and parameters: {'w_Lasso': 0.17095921450994267, 'w_Huber': 0.06015084307297425, 'w_BayesianRidge': 0.9896600937373484, 'w_Ridge': 0.6182300111840308, 'w_ExtraTrees': 0.25353063142641563, 'w_ElasticNet': 0.8668807794278794}. Best is trial 4 with value: 0.49874100768728474.\n",
      "[I 2025-07-23 03:35:02,039] Trial 7 finished with value: 0.5061975603986705 and parameters: {'w_Lasso': 0.3499824824422211, 'w_Huber': 0.3490245270607678, 'w_BayesianRidge': 0.808049053672801, 'w_Ridge': 0.5488220794448091, 'w_ExtraTrees': 0.912712204397568, 'w_ElasticNet': 0.026747602291034456}. Best is trial 4 with value: 0.49874100768728474.\n",
      "[I 2025-07-23 03:35:02,049] Trial 8 finished with value: 0.5059153725207369 and parameters: {'w_Lasso': 0.3305558401536237, 'w_Huber': 0.04615801745898995, 'w_BayesianRidge': 0.706916310910688, 'w_Ridge': 0.4653117354562061, 'w_ExtraTrees': 0.4065208377899455, 'w_ElasticNet': 0.047153032898475944}. Best is trial 4 with value: 0.49874100768728474.\n",
      "[I 2025-07-23 03:35:02,057] Trial 9 finished with value: 0.5056516301496646 and parameters: {'w_Lasso': 0.2643724421278605, 'w_Huber': 0.7727141830806097, 'w_BayesianRidge': 0.5720326246763207, 'w_Ridge': 0.14750590416137055, 'w_ExtraTrees': 0.26814281258348993, 'w_ElasticNet': 0.34555372181378885}. Best is trial 4 with value: 0.49874100768728474.\n",
      "[I 2025-07-23 03:35:02,078] Trial 10 finished with value: 0.4965923539338003 and parameters: {'w_Lasso': 0.945454000075453, 'w_Huber': 0.9953881921873747, 'w_BayesianRidge': 0.003664208331506713, 'w_Ridge': 0.26885040603840543, 'w_ExtraTrees': 0.7392509598121799, 'w_ElasticNet': 0.347530137219708}. Best is trial 10 with value: 0.4965923539338003.\n",
      "[I 2025-07-23 03:35:02,100] Trial 11 finished with value: 0.4967926244233281 and parameters: {'w_Lasso': 0.9464839030170328, 'w_Huber': 0.9995954184958632, 'w_BayesianRidge': 0.06422608168786714, 'w_Ridge': 0.2548104441674748, 'w_ExtraTrees': 0.7526796339895822, 'w_ElasticNet': 0.33947032652902365}. Best is trial 10 with value: 0.4965923539338003.\n",
      "[I 2025-07-23 03:35:02,121] Trial 12 finished with value: 0.4973009341276116 and parameters: {'w_Lasso': 0.9947811407861928, 'w_Huber': 0.9856145055758252, 'w_BayesianRidge': 0.0067207403563888735, 'w_Ridge': 0.3605990703855876, 'w_ExtraTrees': 0.6635982749284708, 'w_ElasticNet': 0.47977743595574573}. Best is trial 10 with value: 0.4965923539338003.\n"
     ]
    },
    {
     "name": "stderr",
     "output_type": "stream",
     "text": [
      "Best trial: 10. Best value: 0.496592:   6%|▋         | 13/200 [00:00<00:01, 104.97it/s]"
     ]
    },
    {
     "name": "stdout",
     "output_type": "stream",
     "text": [
      "[I 2025-07-23 03:35:02,145] Trial 13 finished with value: 0.49840939420373254 and parameters: {'w_Lasso': 0.7436842861909098, 'w_Huber': 0.9641076323203169, 'w_BayesianRidge': 0.008970525616162073, 'w_Ridge': 0.2595033852226834, 'w_ExtraTrees': 0.7782647390586293, 'w_ElasticNet': 0.5933308638841857}. Best is trial 10 with value: 0.4965923539338003.\n"
     ]
    },
    {
     "name": "stderr",
     "output_type": "stream",
     "text": [
      "Best trial: 10. Best value: 0.496592:  10%|█         | 20/200 [00:00<00:01, 104.97it/s]"
     ]
    },
    {
     "name": "stdout",
     "output_type": "stream",
     "text": [
      "[I 2025-07-23 03:35:02,169] Trial 14 finished with value: 0.5002035941523497 and parameters: {'w_Lasso': 0.6529095961085805, 'w_Huber': 0.875191669815534, 'w_BayesianRidge': 0.23016567348525097, 'w_Ridge': 0.39088155984054807, 'w_ExtraTrees': 0.5787813438632348, 'w_ElasticNet': 0.36660153041473564}. Best is trial 10 with value: 0.4965923539338003.\n",
      "[I 2025-07-23 03:35:02,198] Trial 15 finished with value: 0.49728850907733924 and parameters: {'w_Lasso': 0.9834260877433434, 'w_Huber': 0.5997653739220611, 'w_BayesianRidge': 0.1649243939840399, 'w_Ridge': 0.25700080395932956, 'w_ExtraTrees': 0.8413535220249893, 'w_ElasticNet': 0.6921637949999849}. Best is trial 10 with value: 0.4965923539338003.\n",
      "[I 2025-07-23 03:35:02,222] Trial 16 finished with value: 0.501515522410261 and parameters: {'w_Lasso': 0.7927262364979655, 'w_Huber': 0.874596269648128, 'w_BayesianRidge': 0.33172626660877846, 'w_Ridge': 0.7934914293722131, 'w_ExtraTrees': 0.5342962687689432, 'w_ElasticNet': 0.24712991078877658}. Best is trial 10 with value: 0.4965923539338003.\n",
      "[I 2025-07-23 03:35:02,239] Trial 17 finished with value: 0.49869947240552837 and parameters: {'w_Lasso': 0.6092580352999795, 'w_Huber': 0.6717525726936634, 'w_BayesianRidge': 0.09572186289160672, 'w_Ridge': 0.29662699884126315, 'w_ExtraTrees': 0.7267702119248192, 'w_ElasticNet': 0.4175413269237468}. Best is trial 10 with value: 0.4965923539338003.\n",
      "[I 2025-07-23 03:35:02,266] Trial 18 finished with value: 0.4966370030540233 and parameters: {'w_Lasso': 0.8794750231795071, 'w_Huber': 0.8882901351645013, 'w_BayesianRidge': 0.28841107707328195, 'w_Ridge': 0.014660297638761977, 'w_ExtraTrees': 0.5984297595987313, 'w_ElasticNet': 0.29134027955269975}. Best is trial 10 with value: 0.4965923539338003.\n",
      "[I 2025-07-23 03:35:02,281] Trial 19 finished with value: 0.49860626608962433 and parameters: {'w_Lasso': 0.8600016733774727, 'w_Huber': 0.8040865564545268, 'w_BayesianRidge': 0.2912219992328485, 'w_Ridge': 0.023587112996520825, 'w_ExtraTrees': 0.5850695467986013, 'w_ElasticNet': 0.7297200318130246}. Best is trial 10 with value: 0.4965923539338003.\n",
      "[I 2025-07-23 03:35:02,307] Trial 20 finished with value: 0.5009808764257809 and parameters: {'w_Lasso': 0.5745081174299842, 'w_Huber': 0.8808251672124613, 'w_BayesianRidge': 0.486745186207307, 'w_Ridge': 0.14257453653808824, 'w_ExtraTrees': 0.43297599311267465, 'w_ElasticNet': 0.20038888446752934}. Best is trial 10 with value: 0.4965923539338003.\n"
     ]
    },
    {
     "name": "stderr",
     "output_type": "stream",
     "text": [
      "Best trial: 10. Best value: 0.496592:  12%|█▏        | 23/200 [00:00<00:03, 58.52it/s] "
     ]
    },
    {
     "name": "stdout",
     "output_type": "stream",
     "text": [
      "[I 2025-07-23 03:35:02,330] Trial 21 finished with value: 0.4967069224416793 and parameters: {'w_Lasso': 0.9248630466935175, 'w_Huber': 0.9667520191298015, 'w_BayesianRidge': 0.10654905527815461, 'w_Ridge': 0.19972232931196993, 'w_ExtraTrees': 0.7954774251850167, 'w_ElasticNet': 0.3316949018885686}. Best is trial 10 with value: 0.4965923539338003.\n",
      "[I 2025-07-23 03:35:02,350] Trial 22 finished with value: 0.5009402366951625 and parameters: {'w_Lasso': 0.8685937825681262, 'w_Huber': 0.9253524114583501, 'w_BayesianRidge': 0.18176594953584552, 'w_Ridge': 0.9968582617658023, 'w_ExtraTrees': 0.823807257869317, 'w_ElasticNet': 0.26137855114714437}. Best is trial 10 with value: 0.4965923539338003.\n"
     ]
    },
    {
     "name": "stderr",
     "output_type": "stream",
     "text": [
      "Best trial: 26. Best value: 0.496141:  14%|█▍        | 28/200 [00:00<00:02, 58.52it/s]"
     ]
    },
    {
     "name": "stdout",
     "output_type": "stream",
     "text": [
      "[I 2025-07-23 03:35:02,376] Trial 23 finished with value: 0.49701429438916733 and parameters: {'w_Lasso': 0.7373384324422796, 'w_Huber': 0.7039965967855693, 'w_BayesianRidge': 0.09499796646996561, 'w_Ridge': 0.081709627195369, 'w_ExtraTrees': 0.6216949795048033, 'w_ElasticNet': 0.47211759439810697}. Best is trial 10 with value: 0.4965923539338003.\n",
      "[I 2025-07-23 03:35:02,402] Trial 24 finished with value: 0.4971532765645872 and parameters: {'w_Lasso': 0.9056973735160333, 'w_Huber': 0.818558518851793, 'w_BayesianRidge': 0.32660008517884775, 'w_Ridge': 0.19632395312107254, 'w_ExtraTrees': 0.49499903031765813, 'w_ElasticNet': 0.13665268192993885}. Best is trial 10 with value: 0.4965923539338003.\n",
      "[I 2025-07-23 03:35:02,420] Trial 25 finished with value: 0.49915737009774636 and parameters: {'w_Lasso': 0.791196546790699, 'w_Huber': 0.9133784728553768, 'w_BayesianRidge': 0.21538002948515567, 'w_Ridge': 0.4515658615331808, 'w_ExtraTrees': 0.8810965197015497, 'w_ElasticNet': 0.3130427823320992}. Best is trial 10 with value: 0.4965923539338003.\n",
      "[I 2025-07-23 03:35:02,448] Trial 26 finished with value: 0.4961408023147495 and parameters: {'w_Lasso': 0.710555443390517, 'w_Huber': 0.18700931802450804, 'w_BayesianRidge': 0.004256482520578753, 'w_Ridge': 0.06519865685220835, 'w_ExtraTrees': 0.9818390206621802, 'w_ElasticNet': 0.4209339075511133}. Best is trial 26 with value: 0.4961408023147495.\n",
      "[I 2025-07-23 03:35:02,470] Trial 27 finished with value: 0.4971957942799047 and parameters: {'w_Lasso': 0.6830305369353912, 'w_Huber': 0.1519253722594095, 'w_BayesianRidge': 0.007132989593639538, 'w_Ridge': 0.08971112789733887, 'w_ExtraTrees': 0.966355911316761, 'w_ElasticNet': 0.5694778584075614}. Best is trial 26 with value: 0.4961408023147495.\n",
      "[I 2025-07-23 03:35:02,492] Trial 28 finished with value: 0.5009058101495018 and parameters: {'w_Lasso': 0.5503056554879392, 'w_Huber': 0.48449254188533325, 'w_BayesianRidge': 0.49202360038196036, 'w_Ridge': 0.02887913627530536, 'w_ExtraTrees': 0.2358612272948395, 'w_ElasticNet': 0.4247611645072441}. Best is trial 26 with value: 0.4961408023147495.\n"
     ]
    },
    {
     "name": "stderr",
     "output_type": "stream",
     "text": [
      "Best trial: 26. Best value: 0.496141:  15%|█▌        | 30/200 [00:00<00:03, 52.08it/s]"
     ]
    },
    {
     "name": "stdout",
     "output_type": "stream",
     "text": [
      "[I 2025-07-23 03:35:02,513] Trial 29 finished with value: 0.4990521022299109 and parameters: {'w_Lasso': 0.49417880851928764, 'w_Huber': 0.18860790199605418, 'w_BayesianRidge': 0.24172683918235094, 'w_Ridge': 0.09587338611507618, 'w_ExtraTrees': 0.9997024857182291, 'w_ElasticNet': 0.6672709230334561}. Best is trial 26 with value: 0.4961408023147495.\n",
      "[I 2025-07-23 03:35:02,537] Trial 30 finished with value: 0.4968206398056381 and parameters: {'w_Lasso': 0.7931967191732534, 'w_Huber': 0.47803428961563815, 'w_BayesianRidge': 0.3981222451484041, 'w_Ridge': 0.13673704961984595, 'w_ExtraTrees': 0.48605671276821316, 'w_ElasticNet': 0.15901650438865586}. Best is trial 26 with value: 0.4961408023147495.\n"
     ]
    },
    {
     "name": "stderr",
     "output_type": "stream",
     "text": [
      "Best trial: 35. Best value: 0.493851:  18%|█▊        | 36/200 [00:00<00:03, 48.81it/s]"
     ]
    },
    {
     "name": "stdout",
     "output_type": "stream",
     "text": [
      "[I 2025-07-23 03:35:02,560] Trial 31 finished with value: 0.49696402759557934 and parameters: {'w_Lasso': 0.8940797469684811, 'w_Huber': 0.9987008374504232, 'w_BayesianRidge': 0.06715538185756079, 'w_Ridge': 0.20035078950752083, 'w_ExtraTrees': 0.8281858512944744, 'w_ElasticNet': 0.39648227904147965}. Best is trial 26 with value: 0.4961408023147495.\n",
      "[I 2025-07-23 03:35:02,587] Trial 32 finished with value: 0.4957025184893583 and parameters: {'w_Lasso': 0.9346142892690206, 'w_Huber': 0.9280143897903431, 'w_BayesianRidge': 0.13455095410422616, 'w_Ridge': 0.04490007862467302, 'w_ExtraTrees': 0.7637075645408343, 'w_ElasticNet': 0.2830168061582448}. Best is trial 32 with value: 0.4957025184893583.\n",
      "[I 2025-07-23 03:35:02,612] Trial 33 finished with value: 0.49619745559379974 and parameters: {'w_Lasso': 0.7204101344027943, 'w_Huber': 0.742633049140546, 'w_BayesianRidge': 0.142150969685635, 'w_Ridge': 0.01015216824653803, 'w_ExtraTrees': 0.6295184717142288, 'w_ElasticNet': 0.2848182303682602}. Best is trial 32 with value: 0.4957025184893583.\n",
      "[I 2025-07-23 03:35:02,634] Trial 34 finished with value: 0.4977133542525315 and parameters: {'w_Lasso': 0.6894322189930331, 'w_Huber': 0.7248473462066107, 'w_BayesianRidge': 0.16419380548697762, 'w_Ridge': 0.06600134115930237, 'w_ExtraTrees': 0.6824779793306234, 'w_ElasticNet': 0.5062951385556227}. Best is trial 32 with value: 0.4957025184893583.\n",
      "[I 2025-07-23 03:35:02,656] Trial 35 finished with value: 0.49385066063320904 and parameters: {'w_Lasso': 0.8045728666177127, 'w_Huber': 0.38013435164771775, 'w_BayesianRidge': 0.046233101365981036, 'w_Ridge': 0.00011530574302109214, 'w_ExtraTrees': 0.9428182088884358, 'w_ElasticNet': 0.19209912944433327}. Best is trial 35 with value: 0.49385066063320904.\n",
      "[I 2025-07-23 03:35:02,680] Trial 36 finished with value: 0.4983109216910311 and parameters: {'w_Lasso': 0.43631707202962955, 'w_Huber': 0.2781927831578327, 'w_BayesianRidge': 0.13464661374073603, 'w_Ridge': 0.05859558191754646, 'w_ExtraTrees': 0.9456676047897744, 'w_ElasticNet': 0.08387702935232683}. Best is trial 35 with value: 0.49385066063320904.\n"
     ]
    },
    {
     "name": "stderr",
     "output_type": "stream",
     "text": [
      "Best trial: 37. Best value: 0.493618:  19%|█▉        | 38/200 [00:00<00:03, 48.81it/s]"
     ]
    },
    {
     "name": "stdout",
     "output_type": "stream",
     "text": [
      "[I 2025-07-23 03:35:02,705] Trial 37 finished with value: 0.49361817150767606 and parameters: {'w_Lasso': 0.8196031304012592, 'w_Huber': 0.367154080485326, 'w_BayesianRidge': 0.06061559158328909, 'w_Ridge': 0.007743477691806659, 'w_ExtraTrees': 0.8797437046056478, 'w_ElasticNet': 0.19892759972487742}. Best is trial 37 with value: 0.49361817150767606.\n",
      "[I 2025-07-23 03:35:02,730] Trial 38 finished with value: 0.49442460287154877 and parameters: {'w_Lasso': 0.7958362064668209, 'w_Huber': 0.40940767848973125, 'w_BayesianRidge': 0.05536474388246716, 'w_Ridge': 0.12038557965532888, 'w_ExtraTrees': 0.8783601646162181, 'w_ElasticNet': 0.2037944777251916}. Best is trial 37 with value: 0.49361817150767606.\n"
     ]
    },
    {
     "name": "stderr",
     "output_type": "stream",
     "text": [
      "Best trial: 42. Best value: 0.493307:  22%|██▏       | 44/200 [00:00<00:03, 45.90it/s]"
     ]
    },
    {
     "name": "stdout",
     "output_type": "stream",
     "text": [
      "[I 2025-07-23 03:35:02,753] Trial 39 finished with value: 0.4943227941981167 and parameters: {'w_Lasso': 0.8045463344210573, 'w_Huber': 0.42627679741819274, 'w_BayesianRidge': 0.06108014178000334, 'w_Ridge': 0.11252886450036648, 'w_ExtraTrees': 0.9016626030585801, 'w_ElasticNet': 0.16514721930147602}. Best is trial 37 with value: 0.49361817150767606.\n",
      "[I 2025-07-23 03:35:02,779] Trial 40 finished with value: 0.4981485477232873 and parameters: {'w_Lasso': 0.8127474546959267, 'w_Huber': 0.3955635639770551, 'w_BayesianRidge': 0.04437405007941908, 'w_Ridge': 0.752779665948973, 'w_ExtraTrees': 0.9072944953449468, 'w_ElasticNet': 0.19797754850048513}. Best is trial 37 with value: 0.49361817150767606.\n",
      "[I 2025-07-23 03:35:02,805] Trial 41 finished with value: 0.49330907550157244 and parameters: {'w_Lasso': 0.810374825111506, 'w_Huber': 0.3295881887552431, 'w_BayesianRidge': 0.060070630129033624, 'w_Ridge': 0.12592716564925419, 'w_ExtraTrees': 0.8653521698323391, 'w_ElasticNet': 0.0008402337422337425}. Best is trial 41 with value: 0.49330907550157244.\n",
      "[I 2025-07-23 03:35:02,829] Trial 42 finished with value: 0.49330669426522433 and parameters: {'w_Lasso': 0.8384420351694487, 'w_Huber': 0.3353153169543277, 'w_BayesianRidge': 0.05906948444475216, 'w_Ridge': 0.14677090892911315, 'w_ExtraTrees': 0.871705187861003, 'w_ElasticNet': 0.01205653896899236}. Best is trial 42 with value: 0.49330669426522433.\n",
      "[I 2025-07-23 03:35:02,851] Trial 43 finished with value: 0.49455915797459743 and parameters: {'w_Lasso': 0.8368356716495227, 'w_Huber': 0.3103326323340926, 'w_BayesianRidge': 0.19815963119570226, 'w_Ridge': 0.15861350775052455, 'w_ExtraTrees': 0.9360756284079321, 'w_ElasticNet': 0.0025531384058978257}. Best is trial 42 with value: 0.49330669426522433.\n",
      "[I 2025-07-23 03:35:02,874] Trial 44 finished with value: 0.49497392632345694 and parameters: {'w_Lasso': 0.6321462295416731, 'w_Huber': 0.4322247536654046, 'w_BayesianRidge': 0.08766165921723164, 'w_Ridge': 0.003309858485724431, 'w_ExtraTrees': 0.8727704220038116, 'w_ElasticNet': 0.06511542672441893}. Best is trial 42 with value: 0.49330669426522433.\n"
     ]
    },
    {
     "name": "stderr",
     "output_type": "stream",
     "text": [
      "Best trial: 42. Best value: 0.493307:  24%|██▎       | 47/200 [00:00<00:03, 45.46it/s]"
     ]
    },
    {
     "name": "stdout",
     "output_type": "stream",
     "text": [
      "[I 2025-07-23 03:35:02,896] Trial 45 finished with value: 0.5010643428555833 and parameters: {'w_Lasso': 0.7629157368556279, 'w_Huber': 0.3504628152475811, 'w_BayesianRidge': 0.7561131531076228, 'w_Ridge': 0.5641416766716327, 'w_ExtraTrees': 0.8507519573351398, 'w_ElasticNet': 0.09681119026725428}. Best is trial 42 with value: 0.49330669426522433.\n",
      "[I 2025-07-23 03:35:02,920] Trial 46 finished with value: 0.49694320294707045 and parameters: {'w_Lasso': 0.6749993201254004, 'w_Huber': 0.5498800113708637, 'w_BayesianRidge': 0.04750306921440644, 'w_Ridge': 0.30560039890439344, 'w_ExtraTrees': 0.9286222680998028, 'w_ElasticNet': 0.04295549036256336}. Best is trial 42 with value: 0.49330669426522433.\n"
     ]
    },
    {
     "name": "stderr",
     "output_type": "stream",
     "text": [
      "                                                                                      "
     ]
    },
    {
     "name": "stdout",
     "output_type": "stream",
     "text": [
      "[I 2025-07-23 03:35:02,946] Trial 47 finished with value: 0.5085123440787407 and parameters: {'w_Lasso': 0.11504607781507392, 'w_Huber': 0.3558302173617578, 'w_BayesianRidge': 0.9090755849166414, 'w_Ridge': 0.22196271894757197, 'w_ExtraTrees': 0.800199909864429, 'w_ElasticNet': 0.15671009321801604}. Best is trial 42 with value: 0.49330669426522433.\n",
      "[I 2025-07-23 03:35:02,970] Trial 48 finished with value: 0.49855915519093463 and parameters: {'w_Lasso': 0.8421778994738808, 'w_Huber': 0.2808944658674877, 'w_BayesianRidge': 0.6679912427773859, 'w_Ridge': 0.12158320184629082, 'w_ExtraTrees': 0.05192970846661027, 'w_ElasticNet': 0.01118044424386337}. Best is trial 42 with value: 0.49330669426522433.\n",
      "[I 2025-07-23 03:35:03,012] Trial 49 finished with value: 0.4954147702047925 and parameters: {'w_Lasso': 0.9672445307773644, 'w_Huber': 0.23975273595880037, 'w_BayesianRidge': 0.25826117593135733, 'w_Ridge': 0.4030132493265125, 'w_ExtraTrees': 0.7050088400195438, 'w_ElasticNet': 0.11350635907983052}. Best is trial 42 with value: 0.49330669426522433.\n",
      "[I 2025-07-23 03:35:03,045] Trial 50 finished with value: 0.49510070364332803 and parameters: {'w_Lasso': 0.7578190097423502, 'w_Huber': 0.44722069340410175, 'w_BayesianRidge': 0.10644236090644374, 'w_Ridge': 0.16420645950074078, 'w_ExtraTrees': 0.8940866628328054, 'w_ElasticNet': 0.055510254446496876}. Best is trial 42 with value: 0.49330669426522433.\n"
     ]
    },
    {
     "name": "stderr",
     "output_type": "stream",
     "text": [
      "Best trial: 42. Best value: 0.493307:  26%|██▌       | 52/200 [00:01<00:03, 40.86it/s]"
     ]
    },
    {
     "name": "stdout",
     "output_type": "stream",
     "text": [
      "[I 2025-07-23 03:35:03,074] Trial 51 finished with value: 0.49413219420637855 and parameters: {'w_Lasso': 0.8256078734780824, 'w_Huber': 0.3935583661537178, 'w_BayesianRidge': 0.04746291707886317, 'w_Ridge': 0.10943113733107704, 'w_ExtraTrees': 0.8680970358209437, 'w_ElasticNet': 0.22672358323619793}. Best is trial 42 with value: 0.49330669426522433.\n",
      "[I 2025-07-23 03:35:03,099] Trial 52 finished with value: 0.49430762744165613 and parameters: {'w_Lasso': 0.8285157655536748, 'w_Huber': 0.530517421661266, 'w_BayesianRidge': 0.04084253543250068, 'w_Ridge': 0.09646182800974817, 'w_ExtraTrees': 0.9571884461045534, 'w_ElasticNet': 0.11095701827989582}. Best is trial 42 with value: 0.49330669426522433.\n"
     ]
    },
    {
     "name": "stderr",
     "output_type": "stream",
     "text": [
      "Best trial: 58. Best value: 0.492777:  29%|██▉       | 58/200 [00:01<00:03, 40.53it/s]"
     ]
    },
    {
     "name": "stdout",
     "output_type": "stream",
     "text": [
      "[I 2025-07-23 03:35:03,124] Trial 53 finished with value: 0.49519763383475485 and parameters: {'w_Lasso': 0.8279300608581226, 'w_Huber': 0.5601584248333518, 'w_BayesianRidge': 0.03648037715456435, 'w_Ridge': 0.23289423619857808, 'w_ExtraTrees': 0.9510471599831567, 'w_ElasticNet': 0.10702754643261803}. Best is trial 42 with value: 0.49330669426522433.\n",
      "[I 2025-07-23 03:35:03,149] Trial 54 finished with value: 0.49556522689493504 and parameters: {'w_Lasso': 0.8934054989892178, 'w_Huber': 0.6209247077394685, 'w_BayesianRidge': 0.15302214214974763, 'w_Ridge': 0.17226408861553552, 'w_ExtraTrees': 0.8009242081000846, 'w_ElasticNet': 0.2346201388126286}. Best is trial 42 with value: 0.49330669426522433.\n",
      "[I 2025-07-23 03:35:03,174] Trial 55 finished with value: 0.5008362743661611 and parameters: {'w_Lasso': 0.4377490858925812, 'w_Huber': 0.377147098099873, 'w_BayesianRidge': 0.11467234993598219, 'w_Ridge': 0.05199029048710823, 'w_ExtraTrees': 0.8512257995853445, 'w_ElasticNet': 0.9620106563665545}. Best is trial 42 with value: 0.49330669426522433.\n",
      "[I 2025-07-23 03:35:03,199] Trial 56 finished with value: 0.49862216690489525 and parameters: {'w_Lasso': 0.7553161239046828, 'w_Huber': 0.5196840242415268, 'w_BayesianRidge': 0.4522692436859874, 'w_Ridge': 0.30630804883778284, 'w_ExtraTrees': 0.9913877810525337, 'w_ElasticNet': 0.03630411739224523}. Best is trial 42 with value: 0.49330669426522433.\n",
      "[I 2025-07-23 03:35:03,223] Trial 57 finished with value: 0.4967231957522709 and parameters: {'w_Lasso': 0.8551750002470997, 'w_Huber': 0.31902681266599786, 'w_BayesianRidge': 0.5812704923730684, 'w_Ridge': 0.0952866405540731, 'w_ExtraTrees': 0.7425642284024239, 'w_ElasticNet': 0.18726541506240543}. Best is trial 42 with value: 0.49330669426522433.\n",
      "[I 2025-07-23 03:35:03,246] Trial 58 finished with value: 0.49277677493921823 and parameters: {'w_Lasso': 0.9915979949717838, 'w_Huber': 0.21693732184602812, 'w_BayesianRidge': 0.0344657724445748, 'w_Ridge': 0.002674204055794188, 'w_ExtraTrees': 0.9271848320322452, 'w_ElasticNet': 0.13064804528514512}. Best is trial 58 with value: 0.49277677493921823.\n"
     ]
    },
    {
     "name": "stderr",
     "output_type": "stream",
     "text": [
      "Best trial: 58. Best value: 0.492777:  30%|███       | 60/200 [00:01<00:03, 40.53it/s]"
     ]
    },
    {
     "name": "stdout",
     "output_type": "stream",
     "text": [
      "[I 2025-07-23 03:35:03,271] Trial 59 finished with value: 0.5007453116994223 and parameters: {'w_Lasso': 0.9699071828475334, 'w_Huber': 0.22227245146126956, 'w_BayesianRidge': 0.17721913185253635, 'w_Ridge': 0.044155681635488046, 'w_ExtraTrees': 0.3204899225429346, 'w_ElasticNet': 0.8188585339148562}. Best is trial 58 with value: 0.49277677493921823.\n",
      "[I 2025-07-23 03:35:03,292] Trial 60 finished with value: 0.4928342499719621 and parameters: {'w_Lasso': 0.923588527382161, 'w_Huber': 0.12475558416649829, 'w_BayesianRidge': 0.0857233830402424, 'w_Ridge': 0.02138660589109148, 'w_ExtraTrees': 0.8205053625012172, 'w_ElasticNet': 0.13684205235795793}. Best is trial 58 with value: 0.49277677493921823.\n"
     ]
    },
    {
     "name": "stderr",
     "output_type": "stream",
     "text": [
      "Best trial: 65. Best value: 0.49207:  32%|███▎      | 65/200 [00:01<00:03, 40.93it/s] "
     ]
    },
    {
     "name": "stdout",
     "output_type": "stream",
     "text": [
      "[I 2025-07-23 03:35:03,319] Trial 61 finished with value: 0.4929726223067002 and parameters: {'w_Lasso': 0.9182961351915724, 'w_Huber': 0.09381626458181164, 'w_BayesianRidge': 0.00040287083283647995, 'w_Ridge': 0.0008186523620100292, 'w_ExtraTrees': 0.8244912360069485, 'w_ElasticNet': 0.07807382968277302}. Best is trial 58 with value: 0.49277677493921823.\n",
      "[I 2025-07-23 03:35:03,344] Trial 62 finished with value: 0.4928251133902015 and parameters: {'w_Lasso': 0.9413045038885967, 'w_Huber': 0.005576803349434112, 'w_BayesianRidge': 0.08374132507876689, 'w_Ridge': 0.004011077223521595, 'w_ExtraTrees': 0.8186318180233799, 'w_ElasticNet': 0.08583933066204744}. Best is trial 58 with value: 0.49277677493921823.\n",
      "[I 2025-07-23 03:35:03,370] Trial 63 finished with value: 0.4923288302184625 and parameters: {'w_Lasso': 0.9924670741677799, 'w_Huber': 0.000743603722605359, 'w_BayesianRidge': 0.08567846097298987, 'w_Ridge': 0.03399267382800472, 'w_ExtraTrees': 0.8258256566776713, 'w_ElasticNet': 0.07102356392943998}. Best is trial 63 with value: 0.4923288302184625.\n",
      "[I 2025-07-23 03:35:03,399] Trial 64 finished with value: 0.49241768199244007 and parameters: {'w_Lasso': 0.936638052220311, 'w_Huber': 0.024844038538711654, 'w_BayesianRidge': 0.088929471578853, 'w_Ridge': 0.045022360190250084, 'w_ExtraTrees': 0.7867441303733546, 'w_ElasticNet': 0.08126053799561034}. Best is trial 63 with value: 0.4923288302184625.\n",
      "[I 2025-07-23 03:35:03,427] Trial 65 finished with value: 0.49206998629276183 and parameters: {'w_Lasso': 0.9973810197261066, 'w_Huber': 0.08161983144002743, 'w_BayesianRidge': 0.08729401500426545, 'w_Ridge': 0.04312026736476628, 'w_ExtraTrees': 0.7786919590917452, 'w_ElasticNet': 0.08013183024177198}. Best is trial 65 with value: 0.49206998629276183.\n"
     ]
    },
    {
     "name": "stderr",
     "output_type": "stream",
     "text": [
      "Best trial: 66. Best value: 0.492017:  34%|███▎      | 67/200 [00:01<00:03, 39.90it/s]"
     ]
    },
    {
     "name": "stdout",
     "output_type": "stream",
     "text": [
      "[I 2025-07-23 03:35:03,452] Trial 66 finished with value: 0.4920170361366701 and parameters: {'w_Lasso': 0.9880849275120652, 'w_Huber': 0.007326015921636859, 'w_BayesianRidge': 0.11516832098715038, 'w_Ridge': 0.038526555657227526, 'w_ExtraTrees': 0.717201172255504, 'w_ElasticNet': 0.0805661428897044}. Best is trial 66 with value: 0.4920170361366701.\n",
      "[I 2025-07-23 03:35:03,476] Trial 67 finished with value: 0.4927521518221081 and parameters: {'w_Lasso': 0.9872924674410786, 'w_Huber': 0.00026200589573806624, 'w_BayesianRidge': 0.26784794652582544, 'w_Ridge': 0.03658954552477956, 'w_ExtraTrees': 0.7707260996495847, 'w_ElasticNet': 0.13581836844821485}. Best is trial 66 with value: 0.4920170361366701.\n"
     ]
    },
    {
     "name": "stderr",
     "output_type": "stream",
     "text": [
      "Best trial: 72. Best value: 0.491999:  36%|███▋      | 73/200 [00:01<00:03, 39.93it/s]"
     ]
    },
    {
     "name": "stdout",
     "output_type": "stream",
     "text": [
      "[I 2025-07-23 03:35:03,498] Trial 68 finished with value: 0.4930071256716224 and parameters: {'w_Lasso': 0.9998358796307426, 'w_Huber': 0.006789361486995963, 'w_BayesianRidge': 0.33117013619387486, 'w_Ridge': 0.0765634803940892, 'w_ExtraTrees': 0.713347220498978, 'w_ElasticNet': 0.14370822036164618}. Best is trial 66 with value: 0.4920170361366701.\n",
      "[I 2025-07-23 03:35:03,529] Trial 69 finished with value: 0.4920432953754449 and parameters: {'w_Lasso': 0.959174271687347, 'w_Huber': 0.04870806201001937, 'w_BayesianRidge': 0.2055339982142671, 'w_Ridge': 0.053839850119417665, 'w_ExtraTrees': 0.6555317607059726, 'w_ElasticNet': 0.07463474479176076}. Best is trial 66 with value: 0.4920170361366701.\n",
      "[I 2025-07-23 03:35:03,553] Trial 70 finished with value: 0.4961623761579606 and parameters: {'w_Lasso': 0.9681378618080115, 'w_Huber': 0.05311601497472304, 'w_BayesianRidge': 0.21361104163830563, 'w_Ridge': 0.6837054277695128, 'w_ExtraTrees': 0.6449171582306145, 'w_ElasticNet': 0.06481193740707372}. Best is trial 66 with value: 0.4920170361366701.\n",
      "[I 2025-07-23 03:35:03,578] Trial 71 finished with value: 0.49253699108223953 and parameters: {'w_Lasso': 0.9528848236282942, 'w_Huber': 0.03270292258522316, 'w_BayesianRidge': 0.25987500447231815, 'w_Ridge': 0.04294997147677718, 'w_ExtraTrees': 0.773760175842225, 'w_ElasticNet': 0.09172963251080292}. Best is trial 66 with value: 0.4920170361366701.\n",
      "[I 2025-07-23 03:35:03,600] Trial 72 finished with value: 0.49199917646315694 and parameters: {'w_Lasso': 0.9911444030369839, 'w_Huber': 0.08343588877025826, 'w_BayesianRidge': 0.2956744687651557, 'w_Ridge': 0.047785215445428464, 'w_ExtraTrees': 0.6730589778536467, 'w_ElasticNet': 0.04538792761579742}. Best is trial 72 with value: 0.49199917646315694.\n",
      "[I 2025-07-23 03:35:03,622] Trial 73 finished with value: 0.4925636632208703 and parameters: {'w_Lasso': 0.9517865981658766, 'w_Huber': 0.08221806575410817, 'w_BayesianRidge': 0.3702365767140248, 'w_Ridge': 0.04720606382399792, 'w_ExtraTrees': 0.6811348033977896, 'w_ElasticNet': 0.046414088533646765}. Best is trial 72 with value: 0.49199917646315694.\n"
     ]
    },
    {
     "name": "stderr",
     "output_type": "stream",
     "text": [
      "Best trial: 72. Best value: 0.491999:  38%|███▊      | 75/200 [00:01<00:03, 39.93it/s]"
     ]
    },
    {
     "name": "stdout",
     "output_type": "stream",
     "text": [
      "[I 2025-07-23 03:35:03,649] Trial 74 finished with value: 0.4924247234314284 and parameters: {'w_Lasso': 0.9505462545259975, 'w_Huber': 0.08388398523258078, 'w_BayesianRidge': 0.3470815427009567, 'w_Ridge': 0.06561963144340374, 'w_ExtraTrees': 0.6670923450123178, 'w_ElasticNet': 0.030959177659504067}. Best is trial 72 with value: 0.49199917646315694.\n",
      "[I 2025-07-23 03:35:03,670] Trial 75 finished with value: 0.4990346777290654 and parameters: {'w_Lasso': 0.8831858853946329, 'w_Huber': 0.04041535111628082, 'w_BayesianRidge': 0.29783915872640565, 'w_Ridge': 0.942278883269904, 'w_ExtraTrees': 0.5988313231510418, 'w_ElasticNet': 0.08362500271250975}. Best is trial 72 with value: 0.49199917646315694.\n"
     ]
    },
    {
     "name": "stderr",
     "output_type": "stream",
     "text": [
      "Best trial: 80. Best value: 0.491757:  41%|████      | 82/200 [00:01<00:02, 41.32it/s]"
     ]
    },
    {
     "name": "stdout",
     "output_type": "stream",
     "text": [
      "[I 2025-07-23 03:35:03,698] Trial 76 finished with value: 0.4932015349907162 and parameters: {'w_Lasso': 0.9519150716515221, 'w_Huber': 0.12659433929750535, 'w_BayesianRidge': 0.36514109385864535, 'w_Ridge': 0.0738771830075855, 'w_ExtraTrees': 0.5548243198386087, 'w_ElasticNet': 0.09985019049398774}. Best is trial 72 with value: 0.49199917646315694.\n",
      "[I 2025-07-23 03:35:03,724] Trial 77 finished with value: 0.49321564629112624 and parameters: {'w_Lasso': 0.9069643137143715, 'w_Huber': 0.033831917385165264, 'w_BayesianRidge': 0.4278365065520059, 'w_Ridge': 0.06992574091074968, 'w_ExtraTrees': 0.6628670171147966, 'w_ElasticNet': 0.04206283059484059}. Best is trial 72 with value: 0.49199917646315694.\n",
      "[I 2025-07-23 03:35:03,750] Trial 78 finished with value: 0.49382959858573516 and parameters: {'w_Lasso': 0.874890828451048, 'w_Huber': 0.0862253410847935, 'w_BayesianRidge': 0.21849058001740773, 'w_Ridge': 0.18995384514057911, 'w_ExtraTrees': 0.7405348559315872, 'w_ElasticNet': 0.1684080317437408}. Best is trial 72 with value: 0.49199917646315694.\n",
      "[I 2025-07-23 03:35:03,773] Trial 79 finished with value: 0.4924664072971714 and parameters: {'w_Lasso': 0.9359823054860891, 'w_Huber': 0.15014708017898482, 'w_BayesianRidge': 0.2988313351167945, 'w_Ridge': 0.03726602660140709, 'w_ExtraTrees': 0.7785688794303256, 'w_ElasticNet': 0.03933422858888783}. Best is trial 72 with value: 0.49199917646315694.\n",
      "[I 2025-07-23 03:35:03,798] Trial 80 finished with value: 0.49175722519516185 and parameters: {'w_Lasso': 0.9980649271559263, 'w_Huber': 0.10523992696545051, 'w_BayesianRidge': 0.19101295169765126, 'w_Ridge': 0.09134866868922503, 'w_ExtraTrees': 0.7025996670367587, 'w_ElasticNet': 0.030701962826362422}. Best is trial 80 with value: 0.49175722519516185.\n",
      "[I 2025-07-23 03:35:03,816] Trial 81 finished with value: 0.49272307302361973 and parameters: {'w_Lasso': 0.9289864987797676, 'w_Huber': 0.15064130200302914, 'w_BayesianRidge': 0.3017995099846028, 'w_Ridge': 0.08519980210733788, 'w_ExtraTrees': 0.7209439857763782, 'w_ElasticNet': 0.023562975571989206}. Best is trial 80 with value: 0.49175722519516185.\n"
     ]
    },
    {
     "name": "stderr",
     "output_type": "stream",
     "text": [
      "Best trial: 80. Best value: 0.491757:  42%|████▏     | 83/200 [00:01<00:02, 41.32it/s]"
     ]
    },
    {
     "name": "stdout",
     "output_type": "stream",
     "text": [
      "[I 2025-07-23 03:35:03,844] Trial 82 finished with value: 0.49192731266753853 and parameters: {'w_Lasso': 0.9768170207267678, 'w_Huber': 0.1137218075707804, 'w_BayesianRidge': 0.17000434787228869, 'w_Ridge': 0.13900050369820932, 'w_ExtraTrees': 0.6890443644475319, 'w_ElasticNet': 0.029860539290141132}. Best is trial 80 with value: 0.49175722519516185.\n",
      "[I 2025-07-23 03:35:03,871] Trial 83 finished with value: 0.4921898301526735 and parameters: {'w_Lasso': 0.9974370016603505, 'w_Huber': 0.10202725717792942, 'w_BayesianRidge': 0.18965944429837328, 'w_Ridge': 0.14259641093501244, 'w_ExtraTrees': 0.6550521096257014, 'w_ElasticNet': 0.06357110568167054}. Best is trial 80 with value: 0.49175722519516185.\n"
     ]
    },
    {
     "name": "stderr",
     "output_type": "stream",
     "text": [
      "Best trial: 87. Best value: 0.49166:  44%|████▍     | 89/200 [00:02<00:02, 40.86it/s] "
     ]
    },
    {
     "name": "stdout",
     "output_type": "stream",
     "text": [
      "[I 2025-07-23 03:35:03,894] Trial 84 finished with value: 0.4921901186490379 and parameters: {'w_Lasso': 0.9829138508869494, 'w_Huber': 0.11888509476777305, 'w_BayesianRidge': 0.17669892789848207, 'w_Ridge': 0.13749961072528957, 'w_ExtraTrees': 0.6333830751475723, 'w_ElasticNet': 0.06803349379761274}. Best is trial 80 with value: 0.49175722519516185.\n",
      "[I 2025-07-23 03:35:03,916] Trial 85 finished with value: 0.49235021181779237 and parameters: {'w_Lasso': 0.9991777803730184, 'w_Huber': 0.11648488362191509, 'w_BayesianRidge': 0.13284302774364004, 'w_Ridge': 0.2334311202588933, 'w_ExtraTrees': 0.6176640540794842, 'w_ElasticNet': 0.06145707631093533}. Best is trial 80 with value: 0.49175722519516185.\n",
      "[I 2025-07-23 03:35:03,942] Trial 86 finished with value: 0.49274087995325927 and parameters: {'w_Lasso': 0.9765457608624866, 'w_Huber': 0.17775901641632436, 'w_BayesianRidge': 0.19456690863984835, 'w_Ridge': 0.14280466388926216, 'w_ExtraTrees': 0.5227549024323823, 'w_ElasticNet': 0.1217581593682795}. Best is trial 80 with value: 0.49175722519516185.\n",
      "[I 2025-07-23 03:35:03,962] Trial 87 finished with value: 0.49166000649196767 and parameters: {'w_Lasso': 0.9008817872316297, 'w_Huber': 0.11309872773043775, 'w_BayesianRidge': 0.16764862306970882, 'w_Ridge': 0.1309615586045652, 'w_ExtraTrees': 0.5699038546943098, 'w_ElasticNet': 0.0017247453636113595}. Best is trial 87 with value: 0.49166000649196767.\n",
      "[I 2025-07-23 03:35:03,991] Trial 88 finished with value: 0.4922619266846814 and parameters: {'w_Lasso': 0.8987933603606346, 'w_Huber': 0.07155914871464142, 'w_BayesianRidge': 0.19665362138275452, 'w_Ridge': 0.20946040546807887, 'w_ExtraTrees': 0.5553530735983491, 'w_ElasticNet': 0.0010222462734266469}. Best is trial 87 with value: 0.49166000649196767.\n",
      "[I 2025-07-23 03:35:04,013] Trial 89 finished with value: 0.500891704150334 and parameters: {'w_Lasso': 0.30379998099112426, 'w_Huber': 0.10170936922814384, 'w_BayesianRidge': 0.16737547494642602, 'w_Ridge': 0.2783604146540881, 'w_ExtraTrees': 0.6473069289561506, 'w_ElasticNet': 0.014862905233266568}. Best is trial 87 with value: 0.49166000649196767.\n"
     ]
    },
    {
     "name": "stderr",
     "output_type": "stream",
     "text": [
      "Best trial: 87. Best value: 0.49166:  46%|████▌     | 92/200 [00:02<00:02, 40.38it/s]"
     ]
    },
    {
     "name": "stdout",
     "output_type": "stream",
     "text": [
      "[I 2025-07-23 03:35:04,039] Trial 90 finished with value: 0.49328645866774756 and parameters: {'w_Lasso': 0.973549666461188, 'w_Huber': 0.05994467007237009, 'w_BayesianRidge': 0.2477663956455669, 'w_Ridge': 0.13794155545118256, 'w_ExtraTrees': 0.6962057376614312, 'w_ElasticNet': 0.17061402241882268}. Best is trial 87 with value: 0.49166000649196767.\n",
      "[I 2025-07-23 03:35:04,068] Trial 91 finished with value: 0.4920171677965546 and parameters: {'w_Lasso': 0.9007562201182295, 'w_Huber': 0.0673195680777133, 'w_BayesianRidge': 0.19338854184675416, 'w_Ridge': 0.17677052401526508, 'w_ExtraTrees': 0.5720266031620261, 'w_ElasticNet': 0.007844996408848268}. Best is trial 87 with value: 0.49166000649196767.\n"
     ]
    },
    {
     "name": "stderr",
     "output_type": "stream",
     "text": [
      "Best trial: 87. Best value: 0.49166:  48%|████▊     | 97/200 [00:02<00:02, 39.61it/s]"
     ]
    },
    {
     "name": "stdout",
     "output_type": "stream",
     "text": [
      "[I 2025-07-23 03:35:04,095] Trial 92 finished with value: 0.49224324950658926 and parameters: {'w_Lasso': 0.9133417023013511, 'w_Huber': 0.17441545754205984, 'w_BayesianRidge': 0.23042367785061835, 'w_Ridge': 0.11093532908150545, 'w_ExtraTrees': 0.4651279946272434, 'w_ElasticNet': 0.027787677649322967}. Best is trial 87 with value: 0.49166000649196767.\n",
      "[I 2025-07-23 03:35:04,120] Trial 93 finished with value: 0.4920882873892986 and parameters: {'w_Lasso': 0.9624035633746449, 'w_Huber': 0.11261135336616349, 'w_BayesianRidge': 0.12109707180996213, 'w_Ridge': 0.17692815992512587, 'w_ExtraTrees': 0.5826552756911922, 'w_ElasticNet': 0.05678249910874362}. Best is trial 87 with value: 0.49166000649196767.\n",
      "[I 2025-07-23 03:35:04,148] Trial 94 finished with value: 0.4921651805286434 and parameters: {'w_Lasso': 0.8713983646932189, 'w_Huber': 0.061966431412462636, 'w_BayesianRidge': 0.12294089332000999, 'w_Ridge': 0.16152093444537635, 'w_ExtraTrees': 0.5716023983231979, 'w_ElasticNet': 0.05205123593550476}. Best is trial 87 with value: 0.49166000649196767.\n",
      "[I 2025-07-23 03:35:04,172] Trial 95 finished with value: 0.4919562549388622 and parameters: {'w_Lasso': 0.8754169740344473, 'w_Huber': 0.05491568303639137, 'w_BayesianRidge': 0.11283474886954203, 'w_Ridge': 0.18699894834727268, 'w_ExtraTrees': 0.5666948327182292, 'w_ElasticNet': 0.024037729796470092}. Best is trial 87 with value: 0.49166000649196767.\n",
      "[I 2025-07-23 03:35:04,198] Trial 96 finished with value: 0.4921138520496961 and parameters: {'w_Lasso': 0.8569596751361943, 'w_Huber': 0.14708194487925097, 'w_BayesianRidge': 0.13524607946714579, 'w_Ridge': 0.1772521812083591, 'w_ExtraTrees': 0.6047141742968523, 'w_ElasticNet': 0.0004068651133325586}. Best is trial 87 with value: 0.49166000649196767.\n"
     ]
    },
    {
     "name": "stderr",
     "output_type": "stream",
     "text": [
      "Best trial: 97. Best value: 0.491628:  50%|████▉     | 99/200 [00:02<00:02, 39.61it/s]"
     ]
    },
    {
     "name": "stdout",
     "output_type": "stream",
     "text": [
      "[I 2025-07-23 03:35:04,222] Trial 97 finished with value: 0.4916282156876234 and parameters: {'w_Lasso': 0.8985482904227263, 'w_Huber': 0.047448449456737006, 'w_BayesianRidge': 0.15221047084963998, 'w_Ridge': 0.10553266602621769, 'w_ExtraTrees': 0.5451374814610597, 'w_ElasticNet': 0.02498889584839989}. Best is trial 97 with value: 0.4916282156876234.\n",
      "[I 2025-07-23 03:35:04,248] Trial 98 finished with value: 0.4916446390440754 and parameters: {'w_Lasso': 0.8932777586205811, 'w_Huber': 0.02400139894404843, 'w_BayesianRidge': 0.15493152548129874, 'w_Ridge': 0.10391200632483605, 'w_ExtraTrees': 0.5085848764618441, 'w_ElasticNet': 0.028153916867466763}. Best is trial 97 with value: 0.4916282156876234.\n",
      "[I 2025-07-23 03:35:04,275] Trial 99 finished with value: 0.4929076447801105 and parameters: {'w_Lasso': 0.8962310295567569, 'w_Huber': 0.02525492407598387, 'w_BayesianRidge': 0.1489897290964061, 'w_Ridge': 0.3382733729873668, 'w_ExtraTrees': 0.5235353064744807, 'w_ElasticNet': 0.018311675822816658}. Best is trial 97 with value: 0.4916282156876234.\n"
     ]
    },
    {
     "name": "stderr",
     "output_type": "stream",
     "text": [
      "Best trial: 97. Best value: 0.491628:  52%|█████▏    | 103/200 [00:02<00:02, 39.28it/s]"
     ]
    },
    {
     "name": "stdout",
     "output_type": "stream",
     "text": [
      "[I 2025-07-23 03:35:04,302] Trial 100 finished with value: 0.4917081840043738 and parameters: {'w_Lasso': 0.9157036264199576, 'w_Huber': 0.05484162444227691, 'w_BayesianRidge': 0.15939341795659318, 'w_Ridge': 0.10593829826152355, 'w_ExtraTrees': 0.46689047980443404, 'w_ElasticNet': 0.0355541411895841}. Best is trial 97 with value: 0.4916282156876234.\n",
      "[I 2025-07-23 03:35:04,330] Trial 101 finished with value: 0.4916932973182585 and parameters: {'w_Lasso': 0.9134506871180016, 'w_Huber': 0.057087091112252866, 'w_BayesianRidge': 0.16234102270288475, 'w_Ridge': 0.11298036220526636, 'w_ExtraTrees': 0.4478252168399488, 'w_ElasticNet': 0.030065130089149926}. Best is trial 97 with value: 0.4916282156876234.\n",
      "[I 2025-07-23 03:35:04,357] Trial 102 finished with value: 0.4918731058842901 and parameters: {'w_Lasso': 0.7780960527034086, 'w_Huber': 0.05998403092502451, 'w_BayesianRidge': 0.1564244058551234, 'w_Ridge': 0.10397397538211033, 'w_ExtraTrees': 0.4306252363432832, 'w_ElasticNet': 0.029064066831778593}. Best is trial 97 with value: 0.4916282156876234.\n",
      "[I 2025-07-23 03:35:04,383] Trial 103 finished with value: 0.49169861530582837 and parameters: {'w_Lasso': 0.8556802509230055, 'w_Huber': 0.023588512540288372, 'w_BayesianRidge': 0.15431516305906642, 'w_Ridge': 0.10835090089066216, 'w_ExtraTrees': 0.3969335499013736, 'w_ElasticNet': 0.02663670016834953}. Best is trial 97 with value: 0.4916282156876234.\n"
     ]
    },
    {
     "name": "stderr",
     "output_type": "stream",
     "text": [
      "Best trial: 97. Best value: 0.491628:  53%|█████▎    | 106/200 [00:02<00:02, 38.80it/s]"
     ]
    },
    {
     "name": "stdout",
     "output_type": "stream",
     "text": [
      "[I 2025-07-23 03:35:04,407] Trial 104 finished with value: 0.491773212068842 and parameters: {'w_Lasso': 0.8628932667655137, 'w_Huber': 0.13668821048436275, 'w_BayesianRidge': 0.1583064973390458, 'w_Ridge': 0.10813582779838823, 'w_ExtraTrees': 0.3919645874146046, 'w_ElasticNet': 0.029012241716204083}. Best is trial 97 with value: 0.4916282156876234.\n",
      "[I 2025-07-23 03:35:04,436] Trial 105 finished with value: 0.49167288717842217 and parameters: {'w_Lasso': 0.8576644484966778, 'w_Huber': 0.1380517712533011, 'w_BayesianRidge': 0.15562659445323934, 'w_Ridge': 0.10231902729046288, 'w_ExtraTrees': 0.4260171973514014, 'w_ElasticNet': 0.023190402283440815}. Best is trial 97 with value: 0.4916282156876234.\n",
      "[I 2025-07-23 03:35:04,463] Trial 106 finished with value: 0.49280914272621346 and parameters: {'w_Lasso': 0.7850642134603684, 'w_Huber': 0.14133641455901025, 'w_BayesianRidge': 0.16802519890240464, 'w_Ridge': 0.10430088335981567, 'w_ExtraTrees': 0.38761896744012514, 'w_ElasticNet': 0.10335691110257295}. Best is trial 97 with value: 0.4916282156876234.\n"
     ]
    },
    {
     "name": "stderr",
     "output_type": "stream",
     "text": [
      "Best trial: 97. Best value: 0.491628:  55%|█████▌    | 110/200 [00:02<00:02, 38.86it/s]"
     ]
    },
    {
     "name": "stdout",
     "output_type": "stream",
     "text": [
      "[I 2025-07-23 03:35:04,487] Trial 107 finished with value: 0.49919384098670044 and parameters: {'w_Lasso': 0.7763920812507032, 'w_Huber': 0.20811693150370209, 'w_BayesianRidge': 0.15307764124365245, 'w_Ridge': 0.11611909027623665, 'w_ExtraTrees': 0.3448864350454357, 'w_ElasticNet': 0.6304686352332348}. Best is trial 97 with value: 0.4916282156876234.\n",
      "[I 2025-07-23 03:35:04,510] Trial 108 finished with value: 0.49179730387151555 and parameters: {'w_Lasso': 0.8465732554120796, 'w_Huber': 0.022392246195923733, 'w_BayesianRidge': 0.1542919289706833, 'w_Ridge': 0.12090493725466007, 'w_ExtraTrees': 0.43456133162967353, 'w_ElasticNet': 0.028947760897598956}. Best is trial 97 with value: 0.4916282156876234.\n",
      "[I 2025-07-23 03:35:04,542] Trial 109 finished with value: 0.4934190867730006 and parameters: {'w_Lasso': 0.8470010659252323, 'w_Huber': 0.020018713406410343, 'w_BayesianRidge': 0.22642778997710264, 'w_Ridge': 0.21163065329274877, 'w_ExtraTrees': 0.4410729226292611, 'w_ElasticNet': 0.11579881322665485}. Best is trial 97 with value: 0.4916282156876234.\n",
      "[I 2025-07-23 03:35:04,559] Trial 110 finished with value: 0.49164504030386647 and parameters: {'w_Lasso': 0.8740916787887835, 'w_Huber': 0.1677517834570833, 'w_BayesianRidge': 0.14801685264066428, 'w_Ridge': 0.09256759077400513, 'w_ExtraTrees': 0.41245665719078856, 'w_ElasticNet': 0.02872403045232952}. Best is trial 97 with value: 0.4916282156876234.\n"
     ]
    },
    {
     "name": "stderr",
     "output_type": "stream",
     "text": [
      "Best trial: 113. Best value: 0.491472:  56%|█████▋    | 113/200 [00:02<00:02, 38.63it/s]"
     ]
    },
    {
     "name": "stdout",
     "output_type": "stream",
     "text": [
      "[I 2025-07-23 03:35:04,593] Trial 111 finished with value: 0.4951145838111223 and parameters: {'w_Lasso': 0.8484248861907576, 'w_Huber': 0.17149995640159027, 'w_BayesianRidge': 0.5210742703600757, 'w_Ridge': 0.09184085530538695, 'w_ExtraTrees': 0.43891012762549597, 'w_ElasticNet': 0.03091442335682618}. Best is trial 97 with value: 0.4916282156876234.\n",
      "[I 2025-07-23 03:35:04,617] Trial 112 finished with value: 0.49317927850540155 and parameters: {'w_Lasso': 0.7279284777191817, 'w_Huber': 0.24644676527157655, 'w_BayesianRidge': 0.14091627418407163, 'w_Ridge': 0.12552124038358786, 'w_ExtraTrees': 0.4151907022933871, 'w_ElasticNet': 0.04754738326947771}. Best is trial 97 with value: 0.4916282156876234.\n",
      "[I 2025-07-23 03:35:04,646] Trial 113 finished with value: 0.4914717202444341 and parameters: {'w_Lasso': 0.8113193669357425, 'w_Huber': 0.045743845465918906, 'w_BayesianRidge': 0.15946280629989262, 'w_Ridge': 0.09348159046110563, 'w_ExtraTrees': 0.47738878028484344, 'w_ElasticNet': 0.0033400901772278994}. Best is trial 113 with value: 0.4914717202444341.\n"
     ]
    },
    {
     "name": "stderr",
     "output_type": "stream",
     "text": [
      "Best trial: 113. Best value: 0.491472:  59%|█████▉    | 118/200 [00:02<00:02, 37.97it/s]"
     ]
    },
    {
     "name": "stdout",
     "output_type": "stream",
     "text": [
      "[I 2025-07-23 03:35:04,670] Trial 114 finished with value: 0.49209646297124116 and parameters: {'w_Lasso': 0.8636865945080496, 'w_Huber': 0.04074618222154194, 'w_BayesianRidge': 0.24004860311408008, 'w_Ridge': 0.15811181649324552, 'w_ExtraTrees': 0.4805632546996121, 'w_ElasticNet': 0.0017902955496672105}. Best is trial 113 with value: 0.4914717202444341.\n",
      "[I 2025-07-23 03:35:04,697] Trial 115 finished with value: 0.5018074831174476 and parameters: {'w_Lasso': 0.8074338744636473, 'w_Huber': 0.13257680087738039, 'w_BayesianRidge': 0.10186317461205882, 'w_Ridge': 0.0808664655781321, 'w_ExtraTrees': 0.3439831073608623, 'w_ElasticNet': 0.8097681467612181}. Best is trial 113 with value: 0.4914717202444341.\n",
      "[I 2025-07-23 03:35:04,725] Trial 116 finished with value: 0.49206515604596257 and parameters: {'w_Lasso': 0.88362232687669, 'w_Huber': 0.19985787264424548, 'w_BayesianRidge': 0.14823215292967906, 'w_Ridge': 0.12206884698909888, 'w_ExtraTrees': 0.4642122731369547, 'w_ElasticNet': 0.051962873925578724}. Best is trial 113 with value: 0.4914717202444341.\n",
      "[I 2025-07-23 03:35:04,751] Trial 117 finished with value: 0.4925321840890522 and parameters: {'w_Lasso': 0.9146293237963421, 'w_Huber': 0.09751156961974929, 'w_BayesianRidge': 0.20929627634157322, 'w_Ridge': 0.09140958901966859, 'w_ExtraTrees': 0.3817332046126285, 'w_ElasticNet': 0.09522129819519781}. Best is trial 113 with value: 0.4914717202444341.\n",
      "[I 2025-07-23 03:35:04,776] Trial 118 finished with value: 0.4925368256600774 and parameters: {'w_Lasso': 0.8330046345937885, 'w_Huber': 0.021830253710222597, 'w_BayesianRidge': 0.17125699646349585, 'w_Ridge': 0.24133032229142598, 'w_ExtraTrees': 0.5074430004761054, 'w_ElasticNet': 0.022887652708041297}. Best is trial 113 with value: 0.4914717202444341.\n"
     ]
    },
    {
     "name": "stderr",
     "output_type": "stream",
     "text": [
      "Best trial: 113. Best value: 0.491472:  60%|██████    | 121/200 [00:02<00:02, 36.71it/s]"
     ]
    },
    {
     "name": "stdout",
     "output_type": "stream",
     "text": [
      "[I 2025-07-23 03:35:04,800] Trial 119 finished with value: 0.4926296325387711 and parameters: {'w_Lasso': 0.8639251853764497, 'w_Huber': 0.16481232600915102, 'w_BayesianRidge': 0.1851307547106279, 'w_Ridge': 0.15863934761671217, 'w_ExtraTrees': 0.38919393456293916, 'w_ElasticNet': 0.045936625833016526}. Best is trial 113 with value: 0.4914717202444341.\n",
      "[I 2025-07-23 03:35:04,842] Trial 120 finished with value: 0.49317244712157554 and parameters: {'w_Lasso': 0.9262606006005192, 'w_Huber': 0.03998917065479278, 'w_BayesianRidge': 0.07062171531482994, 'w_Ridge': 0.45380111150503283, 'w_ExtraTrees': 0.35785483667708984, 'w_ElasticNet': 0.014888427076137951}. Best is trial 113 with value: 0.4914717202444341.\n"
     ]
    },
    {
     "name": "stderr",
     "output_type": "stream",
     "text": [
      "Best trial: 113. Best value: 0.491472:  62%|██████▎   | 125/200 [00:02<00:02, 35.92it/s]"
     ]
    },
    {
     "name": "stdout",
     "output_type": "stream",
     "text": [
      "[I 2025-07-23 03:35:04,881] Trial 121 finished with value: 0.49332134132497324 and parameters: {'w_Lasso': 0.5363339836226206, 'w_Huber': 0.06798497084864422, 'w_BayesianRidge': 0.15329606344295052, 'w_Ridge': 0.10567929686308798, 'w_ExtraTrees': 0.41877435587074086, 'w_ElasticNet': 0.03635638872709165}. Best is trial 113 with value: 0.4914717202444341.\n",
      "[I 2025-07-23 03:35:04,911] Trial 122 finished with value: 0.49261837884266446 and parameters: {'w_Lasso': 0.7742949366124201, 'w_Huber': 0.054527305875135455, 'w_BayesianRidge': 0.27026994187489917, 'w_Ridge': 0.07177606094510297, 'w_ExtraTrees': 0.45805630154969795, 'w_ElasticNet': 0.06390338107874882}. Best is trial 113 with value: 0.4914717202444341.\n",
      "[I 2025-07-23 03:35:04,939] Trial 123 finished with value: 0.495326083595215 and parameters: {'w_Lasso': 0.8186986221708498, 'w_Huber': 0.10299331214769017, 'w_BayesianRidge': 0.10769462421574033, 'w_Ridge': 0.5458455161724733, 'w_ExtraTrees': 0.5009089091228751, 'w_ElasticNet': 0.002170195966862399}. Best is trial 113 with value: 0.4914717202444341.\n",
      "[I 2025-07-23 03:35:04,964] Trial 124 finished with value: 0.4993940433585478 and parameters: {'w_Lasso': 0.22833868775932775, 'w_Huber': 0.0742212633584845, 'w_BayesianRidge': 0.12930412801968905, 'w_Ridge': 0.10193357071660163, 'w_ExtraTrees': 0.4791139520195814, 'w_ElasticNet': 0.0299246298078028}. Best is trial 113 with value: 0.4914717202444341.\n"
     ]
    },
    {
     "name": "stderr",
     "output_type": "stream",
     "text": [
      "Best trial: 113. Best value: 0.491472:  64%|██████▎   | 127/200 [00:03<00:02, 35.92it/s]"
     ]
    },
    {
     "name": "stdout",
     "output_type": "stream",
     "text": [
      "[I 2025-07-23 03:35:04,990] Trial 125 finished with value: 0.49295350238730107 and parameters: {'w_Lasso': 0.8870309088093769, 'w_Huber': 0.020916039553579048, 'w_BayesianRidge': 0.21766923929947585, 'w_Ridge': 0.11958207941748052, 'w_ExtraTrees': 0.31947011844498197, 'w_ElasticNet': 0.100221299135074}. Best is trial 113 with value: 0.4914717202444341.\n",
      "[I 2025-07-23 03:35:05,015] Trial 126 finished with value: 0.49826840980319903 and parameters: {'w_Lasso': 0.8455926611995057, 'w_Huber': 0.04484565690957413, 'w_BayesianRidge': 0.9984320633674408, 'w_Ridge': 0.06280745688386431, 'w_ExtraTrees': 0.4021299567051274, 'w_ElasticNet': 0.07174048453815762}. Best is trial 113 with value: 0.4914717202444341.\n",
      "[I 2025-07-23 03:35:05,042] Trial 127 finished with value: 0.5064123221981351 and parameters: {'w_Lasso': 0.002359423158728613, 'w_Huber': 0.09092773934785003, 'w_BayesianRidge': 0.15977139636220997, 'w_Ridge': 0.15232502180020088, 'w_ExtraTrees': 0.432450949942496, 'w_ElasticNet': 0.5171355124790056}. Best is trial 113 with value: 0.4914717202444341.\n"
     ]
    },
    {
     "name": "stderr",
     "output_type": "stream",
     "text": [
      "Best trial: 113. Best value: 0.491472:  66%|██████▌   | 131/200 [00:03<00:01, 36.36it/s]"
     ]
    },
    {
     "name": "stdout",
     "output_type": "stream",
     "text": [
      "[I 2025-07-23 03:35:05,068] Trial 128 finished with value: 0.4929480955893869 and parameters: {'w_Lasso': 0.8056093792885628, 'w_Huber': 0.12471389815138095, 'w_BayesianRidge': 0.19059680017741418, 'w_Ridge': 0.08334786402372124, 'w_ExtraTrees': 0.5357548223178016, 'w_ElasticNet': 0.12620241830694792}. Best is trial 113 with value: 0.4914717202444341.\n",
      "[I 2025-07-23 03:35:05,093] Trial 129 finished with value: 0.4925411721221248 and parameters: {'w_Lasso': 0.7465742498105333, 'w_Huber': 0.003266582419141177, 'w_BayesianRidge': 0.12668571598947176, 'w_Ridge': 0.19717604629632968, 'w_ExtraTrees': 0.4515255670354417, 'w_ElasticNet': 0.04582197957945927}. Best is trial 113 with value: 0.4914717202444341.\n",
      "[I 2025-07-23 03:35:05,124] Trial 130 finished with value: 0.49175414849748333 and parameters: {'w_Lasso': 0.9077901789846222, 'w_Huber': 0.0740047092165494, 'w_BayesianRidge': 0.17485432598298634, 'w_Ridge': 0.12786467821237213, 'w_ExtraTrees': 0.42418428127412583, 'w_ElasticNet': 0.02320432999455962}. Best is trial 113 with value: 0.4914717202444341.\n",
      "[I 2025-07-23 03:35:05,149] Trial 131 finished with value: 0.4917081239826039 and parameters: {'w_Lasso': 0.9193905535955057, 'w_Huber': 0.0699397630672487, 'w_BayesianRidge': 0.14478091880103194, 'w_Ridge': 0.13339542446286917, 'w_ExtraTrees': 0.42265018964912415, 'w_ElasticNet': 0.028104867946092814}. Best is trial 113 with value: 0.4914717202444341.\n"
     ]
    },
    {
     "name": "stderr",
     "output_type": "stream",
     "text": [
      "Best trial: 113. Best value: 0.491472:  67%|██████▋   | 134/200 [00:03<00:01, 36.74it/s]"
     ]
    },
    {
     "name": "stdout",
     "output_type": "stream",
     "text": [
      "[I 2025-07-23 03:35:05,174] Trial 132 finished with value: 0.4918464983064855 and parameters: {'w_Lasso': 0.9041890536098223, 'w_Huber': 0.07840924926289201, 'w_BayesianRidge': 0.20762815561181988, 'w_Ridge': 0.1279203347932908, 'w_ExtraTrees': 0.37133289519929713, 'w_ElasticNet': 0.017564866627137268}. Best is trial 113 with value: 0.4914717202444341.\n",
      "[I 2025-07-23 03:35:05,200] Trial 133 finished with value: 0.4920344125180275 and parameters: {'w_Lasso': 0.920971776382115, 'w_Huber': 0.032160811386167984, 'w_BayesianRidge': 0.1796896607282907, 'w_Ridge': 0.08853900491543108, 'w_ExtraTrees': 0.40610528991258094, 'w_ElasticNet': 0.06213323473759166}. Best is trial 113 with value: 0.4914717202444341.\n",
      "[I 2025-07-23 03:35:05,230] Trial 134 finished with value: 0.4923040849548895 and parameters: {'w_Lasso': 0.8813420229392467, 'w_Huber': 0.13748681042788938, 'w_BayesianRidge': 0.10151834172301615, 'w_Ridge': 0.14262758442583978, 'w_ExtraTrees': 0.4894382180488369, 'w_ElasticNet': 0.0851628846538623}. Best is trial 113 with value: 0.4914717202444341.\n"
     ]
    },
    {
     "name": "stderr",
     "output_type": "stream",
     "text": [
      "Best trial: 135. Best value: 0.490869:  69%|██████▉   | 138/200 [00:03<00:01, 37.11it/s]"
     ]
    },
    {
     "name": "stdout",
     "output_type": "stream",
     "text": [
      "[I 2025-07-23 03:35:05,254] Trial 135 finished with value: 0.4908686601531828 and parameters: {'w_Lasso': 0.9421696274117848, 'w_Huber': 0.10152795342306511, 'w_BayesianRidge': 0.139264002293033, 'w_Ridge': 0.021759342524891798, 'w_ExtraTrees': 0.4645258871828476, 'w_ElasticNet': 0.004746066448225325}. Best is trial 135 with value: 0.4908686601531828.\n",
      "[I 2025-07-23 03:35:05,279] Trial 136 finished with value: 0.49121120903011395 and parameters: {'w_Lasso': 0.9420555463651716, 'w_Huber': 0.10302950818789663, 'w_BayesianRidge': 0.23598202825534995, 'w_Ridge': 0.024342814592144046, 'w_ExtraTrees': 0.5152692469442774, 'w_ElasticNet': 0.0006432788577043456}. Best is trial 135 with value: 0.4908686601531828.\n",
      "[I 2025-07-23 03:35:05,309] Trial 137 finished with value: 0.4912502691506444 and parameters: {'w_Lasso': 0.9343005726061531, 'w_Huber': 0.10626913099310592, 'w_BayesianRidge': 0.229736219743709, 'w_Ridge': 0.019401089361741508, 'w_ExtraTrees': 0.5033172284660268, 'w_ElasticNet': 0.00851809512044208}. Best is trial 135 with value: 0.4908686601531828.\n",
      "[I 2025-07-23 03:35:05,334] Trial 138 finished with value: 0.49132573289979387 and parameters: {'w_Lasso': 0.9366145234521659, 'w_Huber': 0.15459714853647857, 'w_BayesianRidge': 0.2428698935795213, 'w_Ridge': 0.02034520911801263, 'w_ExtraTrees': 0.5366889339880369, 'w_ElasticNet': 0.003492943043016311}. Best is trial 135 with value: 0.4908686601531828.\n"
     ]
    },
    {
     "name": "stderr",
     "output_type": "stream",
     "text": [
      "Best trial: 135. Best value: 0.490869:  70%|███████   | 141/200 [00:03<00:01, 36.29it/s]"
     ]
    },
    {
     "name": "stdout",
     "output_type": "stream",
     "text": [
      "[I 2025-07-23 03:35:05,362] Trial 139 finished with value: 0.491370131014619 and parameters: {'w_Lasso': 0.9344565989354823, 'w_Huber': 0.18162631616979868, 'w_BayesianRidge': 0.24336935826329512, 'w_Ridge': 0.025542535285729806, 'w_ExtraTrees': 0.53630662438402, 'w_ElasticNet': 0.0015474488439604019}. Best is trial 135 with value: 0.4908686601531828.\n",
      "[I 2025-07-23 03:35:05,394] Trial 140 finished with value: 0.4913489042125826 and parameters: {'w_Lasso': 0.9380655489878973, 'w_Huber': 0.19785080909555341, 'w_BayesianRidge': 0.23918176086239232, 'w_Ridge': 0.022579497947086746, 'w_ExtraTrees': 0.5422568189807031, 'w_ElasticNet': 0.0009038485665372395}. Best is trial 135 with value: 0.4908686601531828.\n",
      "[I 2025-07-23 03:35:05,420] Trial 141 finished with value: 0.49138241663869814 and parameters: {'w_Lasso': 0.9365883877460561, 'w_Huber': 0.16092296306267623, 'w_BayesianRidge': 0.24876583810990155, 'w_Ridge': 0.02410950905259561, 'w_ExtraTrees': 0.536764618763288, 'w_ElasticNet': 0.0041121963200234125}. Best is trial 135 with value: 0.4908686601531828.\n"
     ]
    },
    {
     "name": "stderr",
     "output_type": "stream",
     "text": [
      "Best trial: 135. Best value: 0.490869:  72%|███████▎  | 145/200 [00:03<00:01, 36.58it/s]"
     ]
    },
    {
     "name": "stdout",
     "output_type": "stream",
     "text": [
      "[I 2025-07-23 03:35:05,448] Trial 142 finished with value: 0.4914864200854051 and parameters: {'w_Lasso': 0.94825201595483, 'w_Huber': 0.19497720182161649, 'w_BayesianRidge': 0.26653741764505573, 'w_Ridge': 0.018098952942448628, 'w_ExtraTrees': 0.5422258189869388, 'w_ElasticNet': 0.001718456191552213}. Best is trial 135 with value: 0.4908686601531828.\n",
      "[I 2025-07-23 03:35:05,476] Trial 143 finished with value: 0.4918964904871747 and parameters: {'w_Lasso': 0.9489056876521481, 'w_Huber': 0.2343177964052916, 'w_BayesianRidge': 0.2824287682989652, 'w_Ridge': 0.019485632408668546, 'w_ExtraTrees': 0.5455767015452198, 'w_ElasticNet': 0.004030419133323235}. Best is trial 135 with value: 0.4908686601531828.\n",
      "[I 2025-07-23 03:35:05,500] Trial 144 finished with value: 0.4919166087725209 and parameters: {'w_Lasso': 0.9500968886388713, 'w_Huber': 0.19641376344598466, 'w_BayesianRidge': 0.3152506045853801, 'w_Ridge': 0.017629013685410828, 'w_ExtraTrees': 0.510393025230623, 'w_ElasticNet': 0.003175629484955595}. Best is trial 135 with value: 0.4908686601531828.\n",
      "[I 2025-07-23 03:35:05,532] Trial 145 finished with value: 0.4917009811958645 and parameters: {'w_Lasso': 0.9377691047317713, 'w_Huber': 0.2597170308958391, 'w_BayesianRidge': 0.24049081013233325, 'w_Ridge': 0.023081990327993115, 'w_ExtraTrees': 0.531727816024913, 'w_ElasticNet': 0.0009726035489003443}. Best is trial 135 with value: 0.4908686601531828.\n"
     ]
    },
    {
     "name": "stderr",
     "output_type": "stream",
     "text": [
      "Best trial: 135. Best value: 0.490869:  74%|███████▍  | 149/200 [00:03<00:01, 35.93it/s]"
     ]
    },
    {
     "name": "stdout",
     "output_type": "stream",
     "text": [
      "[I 2025-07-23 03:35:05,560] Trial 146 finished with value: 0.49183755346083463 and parameters: {'w_Lasso': 0.938582947118486, 'w_Huber': 0.16182008438153367, 'w_BayesianRidge': 0.2431825917590069, 'w_Ridge': 0.024576686269615556, 'w_ExtraTrees': 0.5119317154561063, 'w_ElasticNet': 0.05501722249487606}. Best is trial 135 with value: 0.4908686601531828.\n",
      "[I 2025-07-23 03:35:05,588] Trial 147 finished with value: 0.49257560948111345 and parameters: {'w_Lasso': 0.8869957955513753, 'w_Huber': 0.18521826928235252, 'w_BayesianRidge': 0.27242665807147626, 'w_Ridge': 0.05829292877031547, 'w_ExtraTrees': 0.5506462731724369, 'w_ElasticNet': 0.05163756384916282}. Best is trial 135 with value: 0.4908686601531828.\n",
      "[I 2025-07-23 03:35:05,616] Trial 148 finished with value: 0.4914069768568517 and parameters: {'w_Lasso': 0.9680735572507612, 'w_Huber': 0.2194148725101812, 'w_BayesianRidge': 0.26105942755659983, 'w_Ridge': 0.000163471282693433, 'w_ExtraTrees': 0.5946806072647537, 'w_ElasticNet': 0.004638135199008854}. Best is trial 135 with value: 0.4908686601531828.\n"
     ]
    },
    {
     "name": "stderr",
     "output_type": "stream",
     "text": [
      "Best trial: 135. Best value: 0.490869:  76%|███████▋  | 153/200 [00:03<00:01, 36.14it/s]"
     ]
    },
    {
     "name": "stdout",
     "output_type": "stream",
     "text": [
      "[I 2025-07-23 03:35:05,644] Trial 149 finished with value: 0.4913923380258363 and parameters: {'w_Lasso': 0.9661771130508593, 'w_Huber': 0.20309134648447563, 'w_BayesianRidge': 0.25736818942787104, 'w_Ridge': 0.012037053285158786, 'w_ExtraTrees': 0.6061892731171024, 'w_ElasticNet': 0.0005232143472121873}. Best is trial 135 with value: 0.4908686601531828.\n",
      "[I 2025-07-23 03:35:05,674] Trial 150 finished with value: 0.49190357034399507 and parameters: {'w_Lasso': 0.951227645617022, 'w_Huber': 0.2874386979832386, 'w_BayesianRidge': 0.26248747228613867, 'w_Ridge': 0.0023440053072870948, 'w_ExtraTrees': 0.5956642102630643, 'w_ElasticNet': 0.0030743400520217364}. Best is trial 135 with value: 0.4908686601531828.\n",
      "[I 2025-07-23 03:35:05,698] Trial 151 finished with value: 0.491361360067874 and parameters: {'w_Lasso': 0.9592706036922793, 'w_Huber': 0.21771508661707878, 'w_BayesianRidge': 0.2278600069047001, 'w_Ridge': 0.032522759704149994, 'w_ExtraTrees': 0.5370709176240411, 'w_ElasticNet': 0.004546825886578827}. Best is trial 135 with value: 0.4908686601531828.\n",
      "[I 2025-07-23 03:35:05,727] Trial 152 finished with value: 0.49146608378328926 and parameters: {'w_Lasso': 0.9693983806204017, 'w_Huber': 0.20633603944124246, 'w_BayesianRidge': 0.25265317724590114, 'w_Ridge': 0.02350802219260524, 'w_ExtraTrees': 0.6119102177126353, 'w_ElasticNet': 0.00013249341966325664}. Best is trial 135 with value: 0.4908686601531828.\n"
     ]
    },
    {
     "name": "stderr",
     "output_type": "stream",
     "text": [
      "Best trial: 135. Best value: 0.490869:  78%|███████▊  | 155/200 [00:03<00:01, 36.14it/s]"
     ]
    },
    {
     "name": "stdout",
     "output_type": "stream",
     "text": [
      "[I 2025-07-23 03:35:05,751] Trial 153 finished with value: 0.49167843611723505 and parameters: {'w_Lasso': 0.967038920316829, 'w_Huber': 0.2247081244322309, 'w_BayesianRidge': 0.25554821295062274, 'w_Ridge': 0.027649744948198118, 'w_ExtraTrees': 0.6169832537126211, 'w_ElasticNet': 0.0032933509324920007}. Best is trial 135 with value: 0.4908686601531828.\n",
      "[I 2025-07-23 03:35:05,781] Trial 154 finished with value: 0.4917214532960049 and parameters: {'w_Lasso': 0.9696510156059215, 'w_Huber': 0.2071782010310149, 'w_BayesianRidge': 0.2825042303515796, 'w_Ridge': 0.03183893989307651, 'w_ExtraTrees': 0.5392519044166141, 'w_ElasticNet': 0.0002026263032013642}. Best is trial 135 with value: 0.4908686601531828.\n",
      "[I 2025-07-23 03:35:05,809] Trial 155 finished with value: 0.49202063554876674 and parameters: {'w_Lasso': 0.9400001621829877, 'w_Huber': 0.17706887917980352, 'w_BayesianRidge': 0.30963564968185714, 'w_Ridge': 0.005234036645493267, 'w_ExtraTrees': 0.49442424223019543, 'w_ElasticNet': 0.0477014651403074}. Best is trial 135 with value: 0.4908686601531828.\n"
     ]
    },
    {
     "name": "stderr",
     "output_type": "stream",
     "text": [
      "Best trial: 135. Best value: 0.490869:  80%|███████▉  | 159/200 [00:03<00:01, 36.75it/s]"
     ]
    },
    {
     "name": "stdout",
     "output_type": "stream",
     "text": [
      "[I 2025-07-23 03:35:05,833] Trial 156 finished with value: 0.4923539646606274 and parameters: {'w_Lasso': 0.9619984194104697, 'w_Huber': 0.2665945688815866, 'w_BayesianRidge': 0.22739995636680255, 'w_Ridge': 0.056118569778147664, 'w_ExtraTrees': 0.556550972007892, 'w_ElasticNet': 0.0722232688725605}. Best is trial 135 with value: 0.4908686601531828.\n",
      "[I 2025-07-23 03:35:05,858] Trial 157 finished with value: 0.4927580220029869 and parameters: {'w_Lasso': 0.934098755224295, 'w_Huber': 0.22073089689348085, 'w_BayesianRidge': 0.3375153996233092, 'w_Ridge': 0.02329392547723549, 'w_ExtraTrees': 0.5799847099559496, 'w_ElasticNet': 0.04745356696108746}. Best is trial 135 with value: 0.4908686601531828.\n",
      "[I 2025-07-23 03:35:05,886] Trial 158 finished with value: 0.49212314505730265 and parameters: {'w_Lasso': 0.9790304069918214, 'w_Huber': 0.2959284392163679, 'w_BayesianRidge': 0.24966673766055256, 'w_Ridge': 0.04975650237937583, 'w_ExtraTrees': 0.522314597781984, 'w_ElasticNet': 0.014137127393602027}. Best is trial 135 with value: 0.4908686601531828.\n",
      "[I 2025-07-23 03:35:05,911] Trial 159 finished with value: 0.4918524746825856 and parameters: {'w_Lasso': 0.9333849175681407, 'w_Huber': 0.19452984561626535, 'w_BayesianRidge': 0.22227797600405386, 'w_Ridge': 0.0033344806709578872, 'w_ExtraTrees': 0.5970157158749954, 'w_ElasticNet': 0.06506772095071925}. Best is trial 135 with value: 0.4908686601531828.\n"
     ]
    },
    {
     "name": "stderr",
     "output_type": "stream",
     "text": [
      "Best trial: 135. Best value: 0.490869:  81%|████████  | 162/200 [00:04<00:01, 37.07it/s]"
     ]
    },
    {
     "name": "stdout",
     "output_type": "stream",
     "text": [
      "[I 2025-07-23 03:35:05,938] Trial 160 finished with value: 0.49226489557804004 and parameters: {'w_Lasso': 0.9701229672053778, 'w_Huber': 0.24490268498432174, 'w_BayesianRidge': 0.28118836322604696, 'w_Ridge': 0.03767703555178602, 'w_ExtraTrees': 0.48158630196169794, 'w_ElasticNet': 0.044946110350723836}. Best is trial 135 with value: 0.4908686601531828.\n",
      "[I 2025-07-23 03:35:05,965] Trial 161 finished with value: 0.4916856617419197 and parameters: {'w_Lasso': 0.9012701039589505, 'w_Huber': 0.15899873663648398, 'w_BayesianRidge': 0.2351316634206278, 'w_Ridge': 0.06243388553783187, 'w_ExtraTrees': 0.567729965490261, 'w_ElasticNet': 0.0009943823223974879}. Best is trial 135 with value: 0.4908686601531828.\n",
      "[I 2025-07-23 03:35:06,005] Trial 162 finished with value: 0.49690008013397485 and parameters: {'w_Lasso': 0.3845371046877325, 'w_Huber': 0.19235045434859918, 'w_BayesianRidge': 0.2611708724798829, 'w_Ridge': 0.0002520285769284647, 'w_ExtraTrees': 0.5311976748299176, 'w_ElasticNet': 0.01823208830598562}. Best is trial 135 with value: 0.4908686601531828.\n"
     ]
    },
    {
     "name": "stderr",
     "output_type": "stream",
     "text": [
      "Best trial: 135. Best value: 0.490869:  83%|████████▎ | 166/200 [00:04<00:00, 35.76it/s]"
     ]
    },
    {
     "name": "stdout",
     "output_type": "stream",
     "text": [
      "[I 2025-07-23 03:35:06,032] Trial 163 finished with value: 0.4945989584822783 and parameters: {'w_Lasso': 0.9557450793225599, 'w_Huber': 0.16024312184152503, 'w_BayesianRidge': 0.6418000736120546, 'w_Ridge': 0.024343347145695686, 'w_ExtraTrees': 0.5825609656486563, 'w_ElasticNet': 0.00028789340839501984}. Best is trial 135 with value: 0.4908686601531828.\n",
      "[I 2025-07-23 03:35:06,059] Trial 164 finished with value: 0.49182701275840446 and parameters: {'w_Lasso': 0.9246263625414457, 'w_Huber': 0.2140570931457279, 'w_BayesianRidge': 0.2043269231886042, 'w_Ridge': 0.0634966577514002, 'w_ExtraTrees': 0.6194151555728737, 'w_ElasticNet': 0.02011633362022131}. Best is trial 135 with value: 0.4908686601531828.\n",
      "[I 2025-07-23 03:35:06,087] Trial 165 finished with value: 0.5070361423947638 and parameters: {'w_Lasso': 0.06100274795227345, 'w_Huber': 0.18093659352966934, 'w_BayesianRidge': 0.21747588364421197, 'w_Ridge': 0.039130662123958486, 'w_ExtraTrees': 0.5430827948531507, 'w_ElasticNet': 0.0338280923519891}. Best is trial 135 with value: 0.4908686601531828.\n",
      "[I 2025-07-23 03:35:06,113] Trial 166 finished with value: 0.4921374332248388 and parameters: {'w_Lasso': 0.9012594401605242, 'w_Huber': 0.15317882221450588, 'w_BayesianRidge': 0.3214681130333751, 'w_Ridge': 0.020730824910331538, 'w_ExtraTrees': 0.5226872138420035, 'w_ElasticNet': 0.018322477233360647}. Best is trial 135 with value: 0.4908686601531828.\n"
     ]
    },
    {
     "name": "stderr",
     "output_type": "stream",
     "text": [
      "Best trial: 135. Best value: 0.490869:  84%|████████▍ | 169/200 [00:04<00:00, 36.22it/s]"
     ]
    },
    {
     "name": "stdout",
     "output_type": "stream",
     "text": [
      "[I 2025-07-23 03:35:06,139] Trial 167 finished with value: 0.4923497975876817 and parameters: {'w_Lasso': 0.948167435577252, 'w_Huber': 0.24353600847060897, 'w_BayesianRidge': 0.23922241953525603, 'w_Ridge': 0.07564259513538557, 'w_ExtraTrees': 0.5023284711572877, 'w_ElasticNet': 0.04537506749579044}. Best is trial 135 with value: 0.4908686601531828.\n",
      "[I 2025-07-23 03:35:06,166] Trial 168 finished with value: 0.4921423148149868 and parameters: {'w_Lasso': 0.9744529041082686, 'w_Huber': 0.12228542472495763, 'w_BayesianRidge': 0.27313175077028434, 'w_Ridge': 0.04841721738032284, 'w_ExtraTrees': 0.5607644105467166, 'w_ElasticNet': 0.07293643513572932}. Best is trial 135 with value: 0.4908686601531828.\n",
      "[I 2025-07-23 03:35:06,196] Trial 169 finished with value: 0.4926923999458901 and parameters: {'w_Lasso': 0.9251070709703153, 'w_Huber': 0.20844722291298645, 'w_BayesianRidge': 0.2540967567275798, 'w_Ridge': 0.036377233264028856, 'w_ExtraTrees': 0.09891871169041677, 'w_ElasticNet': 0.017751722680103343}. Best is trial 135 with value: 0.4908686601531828.\n"
     ]
    },
    {
     "name": "stderr",
     "output_type": "stream",
     "text": [
      "Best trial: 135. Best value: 0.490869:  86%|████████▋ | 173/200 [00:04<00:00, 35.81it/s]"
     ]
    },
    {
     "name": "stdout",
     "output_type": "stream",
     "text": [
      "[I 2025-07-23 03:35:06,222] Trial 170 finished with value: 0.4948037766145542 and parameters: {'w_Lasso': 0.8847415253654508, 'w_Huber': 0.23122321668852344, 'w_BayesianRidge': 0.29785772169651414, 'w_Ridge': 0.01556110049207099, 'w_ExtraTrees': 0.6082542566964323, 'w_ElasticNet': 0.3592136845669693}. Best is trial 135 with value: 0.4908686601531828.\n",
      "[I 2025-07-23 03:35:06,252] Trial 171 finished with value: 0.4915597132115595 and parameters: {'w_Lasso': 0.9039403693811363, 'w_Huber': 0.1349394790144175, 'w_BayesianRidge': 0.1926134378192326, 'w_Ridge': 0.07089878931612739, 'w_ExtraTrees': 0.4744850260019686, 'w_ElasticNet': 0.021115633026938432}. Best is trial 135 with value: 0.4908686601531828.\n",
      "[I 2025-07-23 03:35:06,280] Trial 172 finished with value: 0.49177095647344526 and parameters: {'w_Lasso': 0.9131775208987384, 'w_Huber': 0.17317048672720778, 'w_BayesianRidge': 0.20372412477541565, 'w_Ridge': 0.06698036059615572, 'w_ExtraTrees': 0.4710090010653992, 'w_ElasticNet': 0.03811767353469901}. Best is trial 135 with value: 0.4908686601531828.\n",
      "[I 2025-07-23 03:35:06,306] Trial 173 finished with value: 0.49150459817069647 and parameters: {'w_Lasso': 0.935884909770779, 'w_Huber': 0.1337142556209303, 'w_BayesianRidge': 0.22589728298788747, 'w_Ridge': 0.04677039622693048, 'w_ExtraTrees': 0.5016569196367295, 'w_ElasticNet': 0.01950196853828446}. Best is trial 135 with value: 0.4908686601531828.\n"
     ]
    },
    {
     "name": "stderr",
     "output_type": "stream",
     "text": [
      "Best trial: 135. Best value: 0.490869:  88%|████████▊ | 177/200 [00:04<00:00, 36.20it/s]"
     ]
    },
    {
     "name": "stdout",
     "output_type": "stream",
     "text": [
      "[I 2025-07-23 03:35:06,332] Trial 174 finished with value: 0.491235646354567 and parameters: {'w_Lasso': 0.957371210949318, 'w_Huber': 0.14106949576337083, 'w_BayesianRidge': 0.2239443899135743, 'w_Ridge': 0.0007507144818394754, 'w_ExtraTrees': 0.4999366993455157, 'w_ElasticNet': 0.01902165990748156}. Best is trial 135 with value: 0.4908686601531828.\n",
      "[I 2025-07-23 03:35:06,357] Trial 175 finished with value: 0.49191479654090386 and parameters: {'w_Lasso': 0.9618866748403097, 'w_Huber': 0.1474760910193008, 'w_BayesianRidge': 0.23557119811626132, 'w_Ridge': 0.046248130828703375, 'w_ExtraTrees': 0.4987744074500261, 'w_ElasticNet': 0.06081298462580583}. Best is trial 135 with value: 0.4908686601531828.\n",
      "[I 2025-07-23 03:35:06,386] Trial 176 finished with value: 0.491250247523381 and parameters: {'w_Lasso': 0.9829002614279928, 'w_Huber': 0.1242065675068819, 'w_BayesianRidge': 0.21948594287739745, 'w_Ridge': 0.014695837061081506, 'w_ExtraTrees': 0.5182582914086123, 'w_ElasticNet': 0.019113077788456136}. Best is trial 135 with value: 0.4908686601531828.\n"
     ]
    },
    {
     "name": "stderr",
     "output_type": "stream",
     "text": [
      "Best trial: 135. Best value: 0.490869:  90%|█████████ | 181/200 [00:04<00:00, 36.64it/s]"
     ]
    },
    {
     "name": "stdout",
     "output_type": "stream",
     "text": [
      "[I 2025-07-23 03:35:06,414] Trial 177 finished with value: 0.49127927617471423 and parameters: {'w_Lasso': 0.9862366181257504, 'w_Huber': 0.12786839702254596, 'w_BayesianRidge': 0.22124568436235273, 'w_Ridge': 0.018800250506004555, 'w_ExtraTrees': 0.5208301287440046, 'w_ElasticNet': 0.019593699717224893}. Best is trial 135 with value: 0.4908686601531828.\n",
      "[I 2025-07-23 03:35:06,441] Trial 178 finished with value: 0.4909335272448991 and parameters: {'w_Lasso': 0.999992240935928, 'w_Huber': 0.12965077682204304, 'w_BayesianRidge': 0.21357668229147336, 'w_Ridge': 0.0024794761550852792, 'w_ExtraTrees': 0.4822768687767157, 'w_ElasticNet': 0.00011968567926916654}. Best is trial 135 with value: 0.4908686601531828.\n",
      "[I 2025-07-23 03:35:06,469] Trial 179 finished with value: 0.49158403152430674 and parameters: {'w_Lasso': 0.9796229823514772, 'w_Huber': 0.11277786367893519, 'w_BayesianRidge': 0.2574332512198773, 'w_Ridge': 0.0030331206408958575, 'w_ExtraTrees': 0.5176593999034446, 'w_ElasticNet': 0.04405438896158642}. Best is trial 135 with value: 0.4908686601531828.\n",
      "[I 2025-07-23 03:35:06,494] Trial 180 finished with value: 0.49103419591765685 and parameters: {'w_Lasso': 0.9999793698087285, 'w_Huber': 0.19249967149365416, 'w_BayesianRidge': 0.2196766602270121, 'w_Ridge': 0.0008187662508301842, 'w_ExtraTrees': 0.49533155197880707, 'w_ElasticNet': 0.0033944198117223934}. Best is trial 135 with value: 0.4908686601531828.\n"
     ]
    },
    {
     "name": "stderr",
     "output_type": "stream",
     "text": [
      "Best trial: 135. Best value: 0.490869:  92%|█████████▏| 183/200 [00:04<00:00, 36.64it/s]"
     ]
    },
    {
     "name": "stdout",
     "output_type": "stream",
     "text": [
      "[I 2025-07-23 03:35:06,521] Trial 181 finished with value: 0.4911338966378828 and parameters: {'w_Lasso': 0.9862473398272704, 'w_Huber': 0.19466032578331927, 'w_BayesianRidge': 0.22228780564214884, 'w_Ridge': 0.021326531950012155, 'w_ExtraTrees': 0.4906158916579168, 'w_ElasticNet': 0.0004843050573580714}. Best is trial 135 with value: 0.4908686601531828.\n",
      "[I 2025-07-23 03:35:06,549] Trial 182 finished with value: 0.49113685560594533 and parameters: {'w_Lasso': 0.9995538175117049, 'w_Huber': 0.19027375736797145, 'w_BayesianRidge': 0.22029477578301632, 'w_Ridge': 0.01733439018781152, 'w_ExtraTrees': 0.5348507426599667, 'w_ElasticNet': 0.002781072306516667}. Best is trial 135 with value: 0.4908686601531828.\n",
      "[I 2025-07-23 03:35:06,580] Trial 183 finished with value: 0.49102175722196967 and parameters: {'w_Lasso': 0.9983156187853179, 'w_Huber': 0.1893855121461961, 'w_BayesianRidge': 0.21869734841422478, 'w_Ridge': 0.0013646005902751435, 'w_ExtraTrees': 0.48517230338145617, 'w_ElasticNet': 0.002847804189894592}. Best is trial 135 with value: 0.4908686601531828.\n"
     ]
    },
    {
     "name": "stderr",
     "output_type": "stream",
     "text": [
      "Best trial: 135. Best value: 0.490869:  93%|█████████▎| 186/200 [00:04<00:00, 36.33it/s]"
     ]
    },
    {
     "name": "stdout",
     "output_type": "stream",
     "text": [
      "[I 2025-07-23 03:35:06,606] Trial 184 finished with value: 0.4910792639254832 and parameters: {'w_Lasso': 0.9972212666275493, 'w_Huber': 0.2597492369557008, 'w_BayesianRidge': 0.21047844178985067, 'w_Ridge': 0.0036775532541956386, 'w_ExtraTrees': 0.5206719258788425, 'w_ElasticNet': 0.0011448876724546}. Best is trial 135 with value: 0.4908686601531828.\n",
      "[I 2025-07-23 03:35:06,632] Trial 185 finished with value: 0.4912651736593009 and parameters: {'w_Lasso': 0.9977657957826331, 'w_Huber': 0.2618167870747505, 'w_BayesianRidge': 0.21648072744619318, 'w_Ridge': 0.001686436796344646, 'w_ExtraTrees': 0.523069786321395, 'w_ElasticNet': 0.018930874309216885}. Best is trial 135 with value: 0.4908686601531828.\n",
      "[I 2025-07-23 03:35:06,675] Trial 186 finished with value: 0.4986462680482481 and parameters: {'w_Lasso': 0.9977569082672716, 'w_Huber': 0.18601279119588765, 'w_BayesianRidge': 0.21447359538212937, 'w_Ridge': 0.026066350373119548, 'w_ExtraTrees': 0.4902758338771662, 'w_ElasticNet': 0.7396676174684833}. Best is trial 135 with value: 0.4908686601531828.\n"
     ]
    },
    {
     "name": "stderr",
     "output_type": "stream",
     "text": [
      "Best trial: 135. Best value: 0.490869:  94%|█████████▍| 189/200 [00:04<00:00, 33.41it/s]"
     ]
    },
    {
     "name": "stdout",
     "output_type": "stream",
     "text": [
      "[I 2025-07-23 03:35:06,712] Trial 187 finished with value: 0.4915034147479823 and parameters: {'w_Lasso': 0.9939404008989227, 'w_Huber': 0.2623503810254878, 'w_BayesianRidge': 0.21069618937921086, 'w_Ridge': 0.003220168067800736, 'w_ExtraTrees': 0.5235188862739196, 'w_ElasticNet': 0.04464027091898735}. Best is trial 135 with value: 0.4908686601531828.\n",
      "[I 2025-07-23 03:35:06,748] Trial 188 finished with value: 0.4915584514348992 and parameters: {'w_Lasso': 0.9946369891797565, 'w_Huber': 0.15899271103098386, 'w_BayesianRidge': 0.23001789798237637, 'w_Ridge': 0.03327655050569141, 'w_ExtraTrees': 0.4904132756625471, 'w_ElasticNet': 0.03777898995573136}. Best is trial 135 with value: 0.4908686601531828.\n",
      "[I 2025-07-23 03:35:06,782] Trial 189 finished with value: 0.4915919994713895 and parameters: {'w_Lasso': 0.9895333180834286, 'w_Huber': 0.25096871680979893, 'w_BayesianRidge': 0.19843729891083756, 'w_Ridge': 0.0016230649865597788, 'w_ExtraTrees': 0.5147926913512167, 'w_ElasticNet': 0.05921482268157832}. Best is trial 135 with value: 0.4908686601531828.\n"
     ]
    },
    {
     "name": "stderr",
     "output_type": "stream",
     "text": [
      "Best trial: 135. Best value: 0.490869:  96%|█████████▋| 193/200 [00:04<00:00, 34.00it/s]"
     ]
    },
    {
     "name": "stdout",
     "output_type": "stream",
     "text": [
      "[I 2025-07-23 03:35:06,807] Trial 190 finished with value: 0.49134702353522447 and parameters: {'w_Lasso': 0.9971718867388674, 'w_Huber': 0.17899250553866788, 'w_BayesianRidge': 0.23269237795817566, 'w_Ridge': 0.019540246254081125, 'w_ExtraTrees': 0.4568221724022992, 'w_ElasticNet': 0.021608561011444358}. Best is trial 135 with value: 0.4908686601531828.\n",
      "[I 2025-07-23 03:35:06,835] Trial 191 finished with value: 0.49138571784139734 and parameters: {'w_Lasso': 0.9810388784878883, 'w_Huber': 0.17969362281873513, 'w_BayesianRidge': 0.23482761056751555, 'w_Ridge': 0.019734721959229106, 'w_ExtraTrees': 0.45799209781199973, 'w_ElasticNet': 0.02240118037988768}. Best is trial 135 with value: 0.4908686601531828.\n",
      "[I 2025-07-23 03:35:06,863] Trial 192 finished with value: 0.4914223613019824 and parameters: {'w_Lasso': 0.9965970981149906, 'w_Huber': 0.17183242839614038, 'w_BayesianRidge': 0.22898987460536208, 'w_Ridge': 0.03903847395481047, 'w_ExtraTrees': 0.4567258388181523, 'w_ElasticNet': 0.021610369285380633}. Best is trial 135 with value: 0.4908686601531828.\n"
     ]
    },
    {
     "name": "stderr",
     "output_type": "stream",
     "text": [
      "Best trial: 135. Best value: 0.490869:  98%|█████████▊| 197/200 [00:04<00:00, 34.61it/s]"
     ]
    },
    {
     "name": "stdout",
     "output_type": "stream",
     "text": [
      "[I 2025-07-23 03:35:06,891] Trial 193 finished with value: 0.4959810010374568 and parameters: {'w_Lasso': 0.9796439987257388, 'w_Huber': 0.1524854418887161, 'w_BayesianRidge': 0.2118072361671967, 'w_Ridge': 0.022802575189325772, 'w_ExtraTrees': 0.4541380364731208, 'w_ElasticNet': 0.4543295744244578}. Best is trial 135 with value: 0.4908686601531828.\n",
      "[I 2025-07-23 03:35:06,918] Trial 194 finished with value: 0.4958220664822471 and parameters: {'w_Lasso': 0.9985635794748574, 'w_Huber': 0.12420018731103485, 'w_BayesianRidge': 0.8177431827205103, 'w_Ridge': 0.05166310736056151, 'w_ExtraTrees': 0.4779375528469234, 'w_ElasticNet': 0.022061656003442367}. Best is trial 135 with value: 0.4908686601531828.\n",
      "[I 2025-07-23 03:35:06,947] Trial 195 finished with value: 0.49150083295718094 and parameters: {'w_Lasso': 0.9770043035265638, 'w_Huber': 0.1807873128411815, 'w_BayesianRidge': 0.24008089527741008, 'w_Ridge': 0.0008434208406057457, 'w_ExtraTrees': 0.5292693856518768, 'w_ElasticNet': 0.03816376910791872}. Best is trial 135 with value: 0.4908686601531828.\n",
      "[I 2025-07-23 03:35:06,973] Trial 196 finished with value: 0.494462035463277 and parameters: {'w_Lasso': 0.9571099329345045, 'w_Huber': 0.842939755217524, 'w_BayesianRidge': 0.19792046985688735, 'w_Ridge': 0.029408822363005602, 'w_ExtraTrees': 0.5005942960507391, 'w_ElasticNet': 0.01900125419927682}. Best is trial 135 with value: 0.4908686601531828.\n"
     ]
    },
    {
     "name": "stderr",
     "output_type": "stream",
     "text": [
      "Best trial: 135. Best value: 0.490869: 100%|██████████| 200/200 [00:05<00:00, 39.45it/s]"
     ]
    },
    {
     "name": "stdout",
     "output_type": "stream",
     "text": [
      "[I 2025-07-23 03:35:06,999] Trial 197 finished with value: 0.4951647906241252 and parameters: {'w_Lasso': 0.9812520107802518, 'w_Huber': 0.14802649977286908, 'w_BayesianRidge': 0.28193920402352085, 'w_Ridge': 0.41879290812471437, 'w_ExtraTrees': 0.4618608712197463, 'w_ElasticNet': 0.08242313288382117}. Best is trial 135 with value: 0.4908686601531828.\n",
      "[I 2025-07-23 03:35:07,026] Trial 198 finished with value: 0.49161347342324424 and parameters: {'w_Lasso': 0.9543322250909129, 'w_Huber': 0.09936968838165587, 'w_BayesianRidge': 0.1839331660269996, 'w_Ridge': 0.02202616688095308, 'w_ExtraTrees': 0.5521711106331125, 'w_ElasticNet': 0.05666701105357685}. Best is trial 135 with value: 0.4908686601531828.\n",
      "[I 2025-07-23 03:35:07,056] Trial 199 finished with value: 0.49132094223224626 and parameters: {'w_Lasso': 0.9984540065437278, 'w_Huber': 0.22376026162913132, 'w_BayesianRidge': 0.22774106115834872, 'w_Ridge': 0.049201563802613486, 'w_ExtraTrees': 0.5149183713149603, 'w_ElasticNet': 0.0004890138862556105}. Best is trial 135 with value: 0.4908686601531828.\n",
      "\n",
      "✅ Best MAPE: 0.490869\n",
      "🎯 Best weights:\n",
      "  w_Lasso: 0.9422\n",
      "  w_Huber: 0.1015\n",
      "  w_BayesianRidge: 0.1393\n",
      "  w_Ridge: 0.0218\n",
      "  w_ExtraTrees: 0.4645\n",
      "  w_ElasticNet: 0.0047\n",
      "\n",
      "📊 Normalized weights:\n",
      "  w_Lasso: 0.5628\n",
      "  w_Huber: 0.0607\n",
      "  w_BayesianRidge: 0.0832\n",
      "  w_Ridge: 0.0130\n",
      "  w_ExtraTrees: 0.2775\n",
      "  w_ElasticNet: 0.0028\n",
      "\n",
      "🎉 Final ensemble MAPE: 0.490869\n",
      "\n",
      "📊 Individual target MAPE scores:\n",
      "  BlendProperty1: 0.893129\n",
      "  BlendProperty2: 0.285018\n",
      "  BlendProperty3: 0.612840\n",
      "  BlendProperty4: 0.376940\n",
      "  BlendProperty5: 0.089059\n",
      "  BlendProperty6: 0.310901\n",
      "  BlendProperty7: 0.544645\n",
      "  BlendProperty8: 0.493510\n",
      "  BlendProperty9: 0.864049\n",
      "  BlendProperty10: 0.438595\n",
      "\n",
      "💾 Submission file saved as 'submission_advanced_ensemble_top6.csv'\n",
      "\n",
      "🎯 Advanced Dynamic Ensemble Summary:\n",
      "  Level 1: 1 advanced/strong models: TabPFN\n",
      "  Level 2: 14 traditional ML models stacking on Level 1 outputs\n",
      "  Level 3: Dynamic optimization with top 6 performers: Lasso, Huber, BayesianRidge, Ridge, ExtraTrees, ElasticNet\n",
      "  Final MAPE: 0.490869\n",
      "  Submission saved as: submission_advanced_ensemble_top6.csv\n",
      "\n",
      "📝 Installation Instructions:\n"
     ]
    },
    {
     "name": "stderr",
     "output_type": "stream",
     "text": [
      "\n"
     ]
    }
   ],
   "source": [
    "import warnings\n",
    "warnings.filterwarnings('ignore')\n",
    "\n",
    "import pandas as pd\n",
    "import numpy as np\n",
    "from sklearn.model_selection import KFold\n",
    "from sklearn.linear_model import Ridge, Lasso, ElasticNet, BayesianRidge, HuberRegressor\n",
    "from sklearn.ensemble import RandomForestRegressor, ExtraTreesRegressor, AdaBoostRegressor, GradientBoostingRegressor, BaggingRegressor\n",
    "from sklearn.neighbors import KNeighborsRegressor\n",
    "from sklearn.svm import SVR\n",
    "from sklearn.neural_network import MLPRegressor\n",
    "from sklearn.metrics import mean_absolute_percentage_error\n",
    "import xgboost as xgb\n",
    "import lightgbm as lgb\n",
    "import optuna\n",
    "import torch\n",
    "\n",
    "# Try to import TabPFN and TabM with fallbacks\n",
    "try:\n",
    "    from tabpfn import TabPFNRegressor\n",
    "    TABPFN_AVAILABLE = True\n",
    "except ImportError:\n",
    "    print(\"⚠️  TabPFN not available. Install with: pip install tabpfn\")\n",
    "    TABPFN_AVAILABLE = False\n",
    "\n",
    "# TabM proper import - check if it's available and get the correct class\n",
    "try:\n",
    "    import tabm\n",
    "    # Try different possible imports for TabM\n",
    "    if hasattr(tabm, 'TabMRegressor'):\n",
    "        TabMRegressor = tabm.TabMRegressor\n",
    "        TABM_AVAILABLE = True\n",
    "    elif hasattr(tabm, 'TabM'):\n",
    "        TabMRegressor = tabm.TabM\n",
    "        TABM_AVAILABLE = True\n",
    "    else:\n",
    "        # Fallback: inspect the module to find available classes\n",
    "        available_attrs = [attr for attr in dir(tabm) if not attr.startswith('_')]\n",
    "        print(f\"⚠️  TabM available attributes: {available_attrs}\")\n",
    "        TABM_AVAILABLE = False\n",
    "except ImportError:\n",
    "    print(\"⚠️  TabM not available. Install from GitHub: pip install git+https://github.com/yandex-research/tabm.git\")\n",
    "    TABM_AVAILABLE = False\n",
    "\n",
    "print(\"Loading data...\")\n",
    "train = pd.read_csv('train.csv')\n",
    "test = pd.read_csv('test.csv')\n",
    "X = train.drop([f'BlendProperty{i}' for i in range(1, 11)], axis=1)\n",
    "y = train[[f'BlendProperty{i}' for i in range(1, 11)]]\n",
    "X_test = test.drop(['ID'], axis=1)\n",
    "\n",
    "kf = KFold(n_splits=5, shuffle=True, random_state=42)\n",
    "\n",
    "print(\"🚀 Starting Level 1 training...\")\n",
    "\n",
    "# Level 1: Advanced models as base models (with fallbacks)\n",
    "level1_names = []\n",
    "level1_oof = {}\n",
    "level1_test = {}\n",
    "\n",
    "# Add available models to level 1\n",
    "available_models = []\n",
    "if TABM_AVAILABLE:\n",
    "    available_models.append('TabM')\n",
    "if TABPFN_AVAILABLE:\n",
    "    available_models.append('TabPFN')\n",
    "\n",
    "# If neither advanced model is available, use strong traditional models\n",
    "if not available_models:\n",
    "    print(\"⚠️  Advanced models not available. Using traditional models for Level 1.\")\n",
    "    available_models = ['XGB', 'LGBM', 'RandomForest', 'ExtraTrees']\n",
    "\n",
    "level1_names = available_models\n",
    "level1_oof = {name: np.zeros(y.shape) for name in level1_names}\n",
    "level1_test = {name: np.zeros((X_test.shape[0], y.shape[1])) for name in level1_names}\n",
    "\n",
    "for t in range(y.shape[1]):\n",
    "    print(f\"🎯 Training Level 1 for target BlendProperty{t+1}...\")\n",
    "    for fold, (tr_idx, val_idx) in enumerate(kf.split(X)):\n",
    "        print(f\"  Fold {fold+1}/5\")\n",
    "        X_tr, X_val = X.iloc[tr_idx], X.iloc[val_idx]\n",
    "        y_tr, y_val = y.iloc[tr_idx, t], y.iloc[val_idx, t]\n",
    "\n",
    "        # TabM (if available)\n",
    "        if 'TabM' in level1_names and TABM_AVAILABLE:\n",
    "            try:\n",
    "                # Create TabM model - adjust parameters as needed\n",
    "                tabm_model = TabMRegressor(\n",
    "                    random_state=42,\n",
    "                    device='cuda' if torch.cuda.is_available() else 'cpu'\n",
    "                )\n",
    "                tabm_model.fit(X_tr.values, y_tr.values)\n",
    "                level1_oof['TabM'][val_idx, t] = tabm_model.predict(X_val.values)\n",
    "                level1_test['TabM'][:, t] += tabm_model.predict(X_test.values) / kf.n_splits\n",
    "            except Exception as e:\n",
    "                print(f\"    Error with TabM: {e}\")\n",
    "                # Remove TabM from level1_names if it fails\n",
    "                if 'TabM' in level1_names:\n",
    "                    level1_names.remove('TabM')\n",
    "\n",
    "        # TabPFN (if available)\n",
    "        if 'TabPFN' in level1_names and TABPFN_AVAILABLE:\n",
    "            try:\n",
    "                tabpfn = TabPFNRegressor(device='cuda' if torch.cuda.is_available() else 'cpu')\n",
    "                tabpfn.fit(X_tr, y_tr.values)\n",
    "                level1_oof['TabPFN'][val_idx, t] = tabpfn.predict(X_val)\n",
    "                level1_test['TabPFN'][:, t] += tabpfn.predict(X_test) / kf.n_splits\n",
    "            except Exception as e:\n",
    "                print(f\"    Error with TabPFN: {e}\")\n",
    "                if 'TabPFN' in level1_names:\n",
    "                    level1_names.remove('TabPFN')\n",
    "\n",
    "        # Fallback models if advanced models not available\n",
    "        if 'XGB' in level1_names:\n",
    "            xgb_model = xgb.XGBRegressor(random_state=42, verbosity=0)\n",
    "            xgb_model.fit(X_tr, y_tr)\n",
    "            level1_oof['XGB'][val_idx, t] = xgb_model.predict(X_val)\n",
    "            level1_test['XGB'][:, t] += xgb_model.predict(X_test) / kf.n_splits\n",
    "\n",
    "        if 'LGBM' in level1_names:\n",
    "            lgb_model = lgb.LGBMRegressor(random_state=42, verbose=-1)\n",
    "            lgb_model.fit(X_tr, y_tr)\n",
    "            level1_oof['LGBM'][val_idx, t] = lgb_model.predict(X_val)\n",
    "            level1_test['LGBM'][:, t] += lgb_model.predict(X_test) / kf.n_splits\n",
    "\n",
    "        if 'RandomForest' in level1_names:\n",
    "            rf = RandomForestRegressor(n_estimators=100, random_state=42, n_jobs=-1)\n",
    "            rf.fit(X_tr, y_tr)\n",
    "            level1_oof['RandomForest'][val_idx, t] = rf.predict(X_val)\n",
    "            level1_test['RandomForest'][:, t] += rf.predict(X_test) / kf.n_splits\n",
    "\n",
    "        if 'ExtraTrees' in level1_names:\n",
    "            et = ExtraTreesRegressor(n_estimators=100, random_state=42, n_jobs=-1)\n",
    "            et.fit(X_tr, y_tr)\n",
    "            level1_oof['ExtraTrees'][val_idx, t] = et.predict(X_val)\n",
    "            level1_test['ExtraTrees'][:, t] += et.predict(X_test) / kf.n_splits\n",
    "\n",
    "# Remove empty entries from level1 dictionaries\n",
    "level1_names = [name for name in level1_names if name in level1_oof and level1_oof[name].sum() != 0]\n",
    "level1_oof = {name: level1_oof[name] for name in level1_names}\n",
    "level1_test = {name: level1_test[name] for name in level1_names}\n",
    "\n",
    "print(f\"\\n📊 Level 1 MAPE Scores (using {len(level1_names)} models):\")\n",
    "for name in level1_names:\n",
    "    mape = mean_absolute_percentage_error(y, level1_oof[name])\n",
    "    print(f\"  {name}: {mape:.6f}\")\n",
    "\n",
    "print(\"\\n🔄 Preparing Level 2 inputs from Level 1 outputs...\")\n",
    "stack_X = np.concatenate([level1_oof[name] for name in level1_names], axis=1)\n",
    "stack_X_test = np.concatenate([level1_test[name] for name in level1_names], axis=1)\n",
    "\n",
    "print(\"\\n🚀 Starting Level 2 stacking (Traditional ML Models)...\")\n",
    "\n",
    "# Level 2: Traditional ML models as stacking models\n",
    "level2_names = [\n",
    "    'Ridge', 'Lasso', 'ElasticNet', 'BayesianRidge', 'Huber',\n",
    "    'RandomForest', 'ExtraTrees', 'AdaBoost', 'GradientBoost', 'Bagging',\n",
    "    'KNN', 'SVR', 'XGB_L2', 'LGBM_L2'  # Added L2 suffix to avoid confusion\n",
    "]\n",
    "level2_oof = {name: np.zeros(y.shape) for name in level2_names}\n",
    "level2_test = {name: np.zeros((X_test.shape[0], y.shape[1])) for name in level2_names}\n",
    "\n",
    "for t in range(y.shape[1]):\n",
    "    print(f\"🎯 Level 2 stacking for BlendProperty{t+1}...\")\n",
    "    for fold, (tr_idx, val_idx) in enumerate(kf.split(stack_X)):\n",
    "        print(f\"  Fold {fold+1}/5\")\n",
    "        X_tr, X_val = stack_X[tr_idx], stack_X[val_idx]\n",
    "        y_tr, y_val = y.iloc[tr_idx, t], y.iloc[val_idx, t]\n",
    "\n",
    "        # Ridge\n",
    "        ridge = Ridge(alpha=1.0)\n",
    "        ridge.fit(X_tr, y_tr)\n",
    "        level2_oof['Ridge'][val_idx, t] = ridge.predict(X_val)\n",
    "        level2_test['Ridge'][:, t] += ridge.predict(stack_X_test) / kf.n_splits\n",
    "\n",
    "        # Lasso\n",
    "        lasso = Lasso(alpha=0.1, max_iter=1000)\n",
    "        lasso.fit(X_tr, y_tr)\n",
    "        level2_oof['Lasso'][val_idx, t] = lasso.predict(X_val)\n",
    "        level2_test['Lasso'][:, t] += lasso.predict(stack_X_test) / kf.n_splits\n",
    "\n",
    "        # ElasticNet\n",
    "        elastic = ElasticNet(alpha=0.1, max_iter=1000)\n",
    "        elastic.fit(X_tr, y_tr)\n",
    "        level2_oof['ElasticNet'][val_idx, t] = elastic.predict(X_val)\n",
    "        level2_test['ElasticNet'][:, t] += elastic.predict(stack_X_test) / kf.n_splits\n",
    "\n",
    "        # BayesianRidge\n",
    "        bayesian = BayesianRidge()\n",
    "        bayesian.fit(X_tr, y_tr)\n",
    "        level2_oof['BayesianRidge'][val_idx, t] = bayesian.predict(X_val)\n",
    "        level2_test['BayesianRidge'][:, t] += bayesian.predict(stack_X_test) / kf.n_splits\n",
    "\n",
    "        # Huber\n",
    "        huber = HuberRegressor()\n",
    "        huber.fit(X_tr, y_tr)\n",
    "        level2_oof['Huber'][val_idx, t] = huber.predict(X_val)\n",
    "        level2_test['Huber'][:, t] += huber.predict(stack_X_test) / kf.n_splits\n",
    "\n",
    "        # RandomForest\n",
    "        rf = RandomForestRegressor(n_estimators=50, random_state=42)\n",
    "        rf.fit(X_tr, y_tr)\n",
    "        level2_oof['RandomForest'][val_idx, t] = rf.predict(X_val)\n",
    "        level2_test['RandomForest'][:, t] += rf.predict(stack_X_test) / kf.n_splits\n",
    "\n",
    "        # ExtraTrees\n",
    "        et = ExtraTreesRegressor(n_estimators=50, random_state=42)\n",
    "        et.fit(X_tr, y_tr)\n",
    "        level2_oof['ExtraTrees'][val_idx, t] = et.predict(X_val)\n",
    "        level2_test['ExtraTrees'][:, t] += et.predict(stack_X_test) / kf.n_splits\n",
    "\n",
    "        # AdaBoost\n",
    "        ada = AdaBoostRegressor(random_state=42, n_estimators=50)\n",
    "        ada.fit(X_tr, y_tr)\n",
    "        level2_oof['AdaBoost'][val_idx, t] = ada.predict(X_val)\n",
    "        level2_test['AdaBoost'][:, t] += ada.predict(stack_X_test) / kf.n_splits\n",
    "\n",
    "        # GradientBoosting\n",
    "        gb = GradientBoostingRegressor(random_state=42, n_estimators=100)\n",
    "        gb.fit(X_tr, y_tr)\n",
    "        level2_oof['GradientBoost'][val_idx, t] = gb.predict(X_val)\n",
    "        level2_test['GradientBoost'][:, t] += gb.predict(stack_X_test) / kf.n_splits\n",
    "\n",
    "        # Bagging\n",
    "        bag = BaggingRegressor(random_state=42, n_estimators=50)\n",
    "        bag.fit(X_tr, y_tr)\n",
    "        level2_oof['Bagging'][val_idx, t] = bag.predict(X_val)\n",
    "        level2_test['Bagging'][:, t] += bag.predict(stack_X_test) / kf.n_splits\n",
    "\n",
    "        # KNN\n",
    "        knn = KNeighborsRegressor(n_neighbors=5)\n",
    "        knn.fit(X_tr, y_tr)\n",
    "        level2_oof['KNN'][val_idx, t] = knn.predict(X_val)\n",
    "        level2_test['KNN'][:, t] += knn.predict(stack_X_test) / kf.n_splits\n",
    "\n",
    "        # SVR\n",
    "        svr = SVR(kernel='rbf', gamma='scale')\n",
    "        svr.fit(X_tr, y_tr)\n",
    "        level2_oof['SVR'][val_idx, t] = svr.predict(X_val)\n",
    "        level2_test['SVR'][:, t] += svr.predict(stack_X_test) / kf.n_splits\n",
    "\n",
    "        # XGBoost (Level 2)\n",
    "        xgb_model = xgb.XGBRegressor(random_state=42, verbosity=0)\n",
    "        xgb_model.fit(X_tr, y_tr)\n",
    "        level2_oof['XGB_L2'][val_idx, t] = xgb_model.predict(X_val)\n",
    "        level2_test['XGB_L2'][:, t] += xgb_model.predict(stack_X_test) / kf.n_splits\n",
    "\n",
    "        # LightGBM (Level 2)\n",
    "        lgb_model = lgb.LGBMRegressor(random_state=42, verbose=-1)\n",
    "        lgb_model.fit(X_tr, y_tr)\n",
    "        level2_oof['LGBM_L2'][val_idx, t] = lgb_model.predict(X_val)\n",
    "        level2_test['LGBM_L2'][:, t] += lgb_model.predict(stack_X_test) / kf.n_splits\n",
    "\n",
    "print(\"\\n📊 Level 2 MAPE Scores:\")\n",
    "level2_scores = {}\n",
    "for name in level2_names:\n",
    "    mape = mean_absolute_percentage_error(y, level2_oof[name])\n",
    "    level2_scores[name] = mape\n",
    "    print(f\"  {name}: {mape:.6f}\")\n",
    "\n",
    "print(\"\\n🔍 Starting Dynamic Level 3 optimization...\")\n",
    "\n",
    "# Dynamic selection of top performers (configurable top K models)\n",
    "TOP_K = min(6, len(level2_names))  # Select top 6 models or all if less than 6\n",
    "sorted_models = sorted(level2_scores.items(), key=lambda x: x[1])\n",
    "top_models = [model[0] for model in sorted_models[:TOP_K]]\n",
    "\n",
    "print(f\"\\n🎯 Selected top {len(top_models)} models for Level 3:\")\n",
    "for i, model in enumerate(top_models):\n",
    "    print(f\"  {i+1}. {model}: {level2_scores[model]:.6f}\")\n",
    "\n",
    "# Prepare Level 3 inputs with top performers\n",
    "level3_oof = np.concatenate([level2_oof[model] for model in top_models], axis=1)\n",
    "level3_test = np.concatenate([level2_test[model] for model in top_models], axis=1)\n",
    "\n",
    "def objective(trial):\n",
    "    # Dynamically suggest weights for each top model\n",
    "    weights = {}\n",
    "    for model in top_models:\n",
    "        weights[model] = trial.suggest_float(f'w_{model}', 0.0, 1.0)\n",
    "    \n",
    "    # Normalize weights\n",
    "    total_weight = sum(weights.values())\n",
    "    if total_weight == 0:\n",
    "        return float('inf')\n",
    "    \n",
    "    normalized_weights = {k: v/total_weight for k, v in weights.items()}\n",
    "    \n",
    "    # Create weighted ensemble\n",
    "    ensemble_pred = sum(normalized_weights[model] * level2_oof[model] \n",
    "                       for model in top_models)\n",
    "    \n",
    "    # Calculate MAPE\n",
    "    mape = mean_absolute_percentage_error(y, ensemble_pred)\n",
    "    return mape\n",
    "\n",
    "# Optimize weights\n",
    "print(\"🔧 Optimizing ensemble weights...\")\n",
    "study = optuna.create_study(direction='minimize')\n",
    "study.optimize(objective, n_trials=200, show_progress_bar=True)\n",
    "\n",
    "print(f\"\\n✅ Best MAPE: {study.best_value:.6f}\")\n",
    "print(\"🎯 Best weights:\")\n",
    "best_params = study.best_params\n",
    "for param, value in best_params.items():\n",
    "    print(f\"  {param}: {value:.4f}\")\n",
    "\n",
    "# Normalize best weights\n",
    "total_weight = sum(best_params.values())\n",
    "normalized_weights = {k: v/total_weight for k, v in best_params.items()}\n",
    "\n",
    "print(\"\\n📊 Normalized weights:\")\n",
    "for param, value in normalized_weights.items():\n",
    "    print(f\"  {param}: {value:.4f}\")\n",
    "\n",
    "# Create final ensemble predictions\n",
    "final_test = sum(normalized_weights[f'w_{model}'] * level2_test[model] \n",
    "                 for model in top_models)\n",
    "\n",
    "# Final validation score\n",
    "final_oof = sum(normalized_weights[f'w_{model}'] * level2_oof[model] \n",
    "                for model in top_models)\n",
    "\n",
    "final_mape = mean_absolute_percentage_error(y, final_oof)\n",
    "print(f\"\\n🎉 Final ensemble MAPE: {final_mape:.6f}\")\n",
    "\n",
    "print(\"\\n📊 Individual target MAPE scores:\")\n",
    "for i in range(y.shape[1]):\n",
    "    target_mape = mean_absolute_percentage_error(y.iloc[:, i], final_oof[:, i])\n",
    "    print(f\"  BlendProperty{i+1}: {target_mape:.6f}\")\n",
    "\n",
    "# Save submission with descriptive filename\n",
    "submission = pd.DataFrame(final_test, columns=[f'BlendProperty{i}' for i in range(1, 11)])\n",
    "submission.insert(0, 'ID', test['ID'])\n",
    "submission_filename = f\"submission_advanced_ensemble_top{TOP_K}.csv\"\n",
    "submission.to_csv(submission_filename, index=False)\n",
    "print(f\"\\n💾 Submission file saved as '{submission_filename}'\")\n",
    "\n",
    "print(f\"\\n🎯 Advanced Dynamic Ensemble Summary:\")\n",
    "print(f\"  Level 1: {len(level1_names)} advanced/strong models: {', '.join(level1_names)}\")\n",
    "print(f\"  Level 2: {len(level2_names)} traditional ML models stacking on Level 1 outputs\") \n",
    "print(f\"  Level 3: Dynamic optimization with top {len(top_models)} performers: {', '.join(top_models)}\")\n",
    "print(f\"  Final MAPE: {final_mape:.6f}\")\n",
    "print(f\"  Submission saved as: {submission_filename}\")\n",
    "\n",
    "# Instructions for installing missing packages\n",
    "print(\"\\n📝 Installation Instructions:\")\n",
    "if not TABM_AVAILABLE:\n",
    "    print(\"  For TabM: pip install git+https://github.com/yandex-research/tabm.git\")\n",
    "if not TABPFN_AVAILABLE:\n",
    "    print(\"  For TabPFN: pip install tabpfn\")"
   ]
  }
 ],
 "metadata": {
  "kernelspec": {
   "display_name": ".venv",
   "language": "python",
   "name": "python3"
  },
  "language_info": {
   "codemirror_mode": {
    "name": "ipython",
    "version": 3
   },
   "file_extension": ".py",
   "mimetype": "text/x-python",
   "name": "python",
   "nbconvert_exporter": "python",
   "pygments_lexer": "ipython3",
   "version": "3.10.0"
  }
 },
 "nbformat": 4,
 "nbformat_minor": 5
}
