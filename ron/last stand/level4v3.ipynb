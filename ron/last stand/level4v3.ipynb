{
 "cells": [
  {
   "cell_type": "markdown",
   "id": "518100b2",
   "metadata": {},
   "source": [
    "We are gonna revese it"
   ]
  },
  {
   "cell_type": "code",
   "execution_count": 12,
   "id": "5c5a5027",
   "metadata": {},
   "outputs": [
    {
     "name": "stdout",
     "output_type": "stream",
     "text": [
      "Loading data...\n",
      "🚀 Starting Level 1 training...\n",
      "📊 Level 1 models: XGB, TabM, TabPFN, LGBM, RandomForest, ExtraTrees\n",
      "🎯 Training Level 1 for target BlendProperty1...\n",
      "  Fold 1/5\n",
      "    Error with TabM: TabM.__init__() missing 1 required keyword-only argument: 'd_out'\n",
      "  Fold 2/5\n",
      "  Fold 3/5\n",
      "  Fold 4/5\n",
      "  Fold 5/5\n",
      "🎯 Training Level 1 for target BlendProperty2...\n",
      "  Fold 1/5\n",
      "  Fold 2/5\n",
      "  Fold 3/5\n",
      "  Fold 4/5\n",
      "  Fold 5/5\n",
      "🎯 Training Level 1 for target BlendProperty3...\n",
      "  Fold 1/5\n",
      "  Fold 2/5\n",
      "  Fold 3/5\n",
      "  Fold 4/5\n",
      "  Fold 5/5\n",
      "🎯 Training Level 1 for target BlendProperty4...\n",
      "  Fold 1/5\n",
      "  Fold 2/5\n",
      "  Fold 3/5\n",
      "  Fold 4/5\n",
      "  Fold 5/5\n",
      "🎯 Training Level 1 for target BlendProperty5...\n",
      "  Fold 1/5\n",
      "  Fold 2/5\n",
      "  Fold 3/5\n",
      "  Fold 4/5\n",
      "  Fold 5/5\n",
      "🎯 Training Level 1 for target BlendProperty6...\n",
      "  Fold 1/5\n",
      "  Fold 2/5\n",
      "  Fold 3/5\n",
      "  Fold 4/5\n",
      "  Fold 5/5\n",
      "🎯 Training Level 1 for target BlendProperty7...\n",
      "  Fold 1/5\n",
      "  Fold 2/5\n",
      "  Fold 3/5\n",
      "  Fold 4/5\n",
      "  Fold 5/5\n",
      "🎯 Training Level 1 for target BlendProperty8...\n",
      "  Fold 1/5\n",
      "  Fold 2/5\n",
      "  Fold 3/5\n",
      "  Fold 4/5\n",
      "  Fold 5/5\n",
      "🎯 Training Level 1 for target BlendProperty9...\n",
      "  Fold 1/5\n",
      "  Fold 2/5\n",
      "  Fold 3/5\n",
      "  Fold 4/5\n",
      "  Fold 5/5\n",
      "🎯 Training Level 1 for target BlendProperty10...\n",
      "  Fold 1/5\n",
      "  Fold 2/5\n",
      "  Fold 3/5\n",
      "  Fold 4/5\n",
      "  Fold 5/5\n",
      "\n",
      "📊 Level 1 MAPE Scores (using 5 models):\n",
      "  XGB: 1.725059\n",
      "  TabPFN: 0.545405\n",
      "  LGBM: 1.499682\n",
      "  RandomForest: 2.143394\n",
      "  ExtraTrees: 2.358231\n",
      "\n",
      "🔄 Preparing Level 2 inputs from Level 1 outputs...\n",
      "\n",
      "🚀 Starting Level 2 stacking (Traditional ML Models)...\n",
      "🎯 Level 2 stacking for BlendProperty1...\n",
      "  Fold 1/5\n",
      "  Fold 2/5\n",
      "  Fold 3/5\n",
      "  Fold 4/5\n",
      "  Fold 5/5\n",
      "🎯 Level 2 stacking for BlendProperty2...\n",
      "  Fold 1/5\n",
      "  Fold 2/5\n",
      "  Fold 3/5\n",
      "  Fold 4/5\n",
      "  Fold 5/5\n",
      "🎯 Level 2 stacking for BlendProperty3...\n",
      "  Fold 1/5\n",
      "  Fold 2/5\n",
      "  Fold 3/5\n",
      "  Fold 4/5\n",
      "  Fold 5/5\n",
      "🎯 Level 2 stacking for BlendProperty4...\n",
      "  Fold 1/5\n",
      "  Fold 2/5\n",
      "  Fold 3/5\n",
      "  Fold 4/5\n",
      "  Fold 5/5\n",
      "🎯 Level 2 stacking for BlendProperty5...\n",
      "  Fold 1/5\n",
      "  Fold 2/5\n",
      "  Fold 3/5\n",
      "  Fold 4/5\n",
      "  Fold 5/5\n",
      "🎯 Level 2 stacking for BlendProperty6...\n",
      "  Fold 1/5\n",
      "  Fold 2/5\n",
      "  Fold 3/5\n",
      "  Fold 4/5\n",
      "  Fold 5/5\n",
      "🎯 Level 2 stacking for BlendProperty7...\n",
      "  Fold 1/5\n",
      "  Fold 2/5\n",
      "  Fold 3/5\n",
      "  Fold 4/5\n",
      "  Fold 5/5\n",
      "🎯 Level 2 stacking for BlendProperty8...\n",
      "  Fold 1/5\n",
      "  Fold 2/5\n",
      "  Fold 3/5\n",
      "  Fold 4/5\n",
      "  Fold 5/5\n",
      "🎯 Level 2 stacking for BlendProperty9...\n",
      "  Fold 1/5\n",
      "  Fold 2/5\n",
      "  Fold 3/5\n",
      "  Fold 4/5\n",
      "  Fold 5/5\n",
      "🎯 Level 2 stacking for BlendProperty10...\n",
      "  Fold 1/5\n",
      "  Fold 2/5\n",
      "  Fold 3/5\n",
      "  Fold 4/5\n",
      "  Fold 5/5\n"
     ]
    },
    {
     "name": "stderr",
     "output_type": "stream",
     "text": [
      "[I 2025-07-23 09:43:26,832] A new study created in memory with name: no-name-69bffc49-f779-4038-82ea-94eacf84f2f6\n"
     ]
    },
    {
     "name": "stdout",
     "output_type": "stream",
     "text": [
      "\n",
      "📊 Level 2 MAPE Scores:\n",
      "  Ridge: 0.515569\n",
      "  Lasso: 0.528366\n",
      "  ElasticNet: 0.636717\n",
      "  BayesianRidge: 0.517427\n",
      "  Huber: 0.537089\n",
      "  RandomForest_L2: 0.549829\n",
      "  ExtraTrees_L2: 0.564001\n",
      "  AdaBoost: 0.839170\n",
      "  GradientBoost: 0.540827\n",
      "  Bagging: 0.588813\n",
      "  KNN: 2.394996\n",
      "  SVR: 0.636229\n",
      "  XGB_L2: 0.573953\n",
      "  LGBM_L2: 0.580093\n",
      "\n",
      "🔍 Starting Dynamic Level 3 optimization...\n",
      "\n",
      "🎯 Selected top 6 models for Level 3:\n",
      "  1. Ridge: 0.515569\n",
      "  2. BayesianRidge: 0.517427\n",
      "  3. Lasso: 0.528366\n",
      "  4. Huber: 0.537089\n",
      "  5. GradientBoost: 0.540827\n",
      "  6. RandomForest_L2: 0.549829\n",
      "🔧 Optimizing ensemble weights...\n"
     ]
    },
    {
     "name": "stderr",
     "output_type": "stream",
     "text": [
      "Best trial: 4. Best value: 0.499434:   5%|▌         | 10/200 [00:00<00:01, 95.10it/s]"
     ]
    },
    {
     "name": "stdout",
     "output_type": "stream",
     "text": [
      "[I 2025-07-23 09:43:26,874] Trial 0 finished with value: 0.5096653983344902 and parameters: {'w_Ridge': 0.3777470641206069, 'w_BayesianRidge': 0.06731797475200196, 'w_Lasso': 0.09583469588460769, 'w_Huber': 0.9759376037490679, 'w_GradientBoost': 0.9350685961064421, 'w_RandomForest_L2': 0.11089082794374472}. Best is trial 0 with value: 0.5096653983344902.\n",
      "[I 2025-07-23 09:43:26,884] Trial 1 finished with value: 0.5020266642965664 and parameters: {'w_Ridge': 0.12003264767236921, 'w_BayesianRidge': 0.800742396896894, 'w_Lasso': 0.834121103289503, 'w_Huber': 0.6286495547476066, 'w_GradientBoost': 0.6585025551549453, 'w_RandomForest_L2': 0.16876551157098552}. Best is trial 1 with value: 0.5020266642965664.\n",
      "[I 2025-07-23 09:43:26,893] Trial 2 finished with value: 0.5074593236577419 and parameters: {'w_Ridge': 0.33164687209016774, 'w_BayesianRidge': 0.6881483159794258, 'w_Lasso': 0.5968503350217302, 'w_Huber': 0.806563719526527, 'w_GradientBoost': 0.31229549914666543, 'w_RandomForest_L2': 0.12816758955449303}. Best is trial 1 with value: 0.5020266642965664.\n",
      "[I 2025-07-23 09:43:26,902] Trial 3 finished with value: 0.5047692193932639 and parameters: {'w_Ridge': 0.12743537786064152, 'w_BayesianRidge': 0.4073883097836456, 'w_Lasso': 0.245712029964118, 'w_Huber': 0.09262210403189419, 'w_GradientBoost': 0.36901813671666617, 'w_RandomForest_L2': 0.8406070302132025}. Best is trial 1 with value: 0.5020266642965664.\n",
      "[I 2025-07-23 09:43:26,914] Trial 4 finished with value: 0.4994338656599992 and parameters: {'w_Ridge': 0.861904988651421, 'w_BayesianRidge': 0.27347434429895867, 'w_Lasso': 0.8438490093446682, 'w_Huber': 0.6771786044599976, 'w_GradientBoost': 0.40389930639591487, 'w_RandomForest_L2': 0.6944541458559002}. Best is trial 4 with value: 0.4994338656599992.\n",
      "[I 2025-07-23 09:43:26,923] Trial 5 finished with value: 0.502811225663048 and parameters: {'w_Ridge': 0.11582712561552855, 'w_BayesianRidge': 0.6478113968394632, 'w_Lasso': 0.38095505397879104, 'w_Huber': 0.006987349902361495, 'w_GradientBoost': 0.8287757647959497, 'w_RandomForest_L2': 0.8611826559811818}. Best is trial 4 with value: 0.4994338656599992.\n",
      "[I 2025-07-23 09:43:26,931] Trial 6 finished with value: 0.5011987146307313 and parameters: {'w_Ridge': 0.9551927745810697, 'w_BayesianRidge': 0.1102970152516044, 'w_Lasso': 0.6419277520107542, 'w_Huber': 0.7766481440696387, 'w_GradientBoost': 0.5210843457752582, 'w_RandomForest_L2': 0.4764726791896623}. Best is trial 4 with value: 0.4994338656599992.\n",
      "[I 2025-07-23 09:43:26,942] Trial 7 finished with value: 0.5015493450264861 and parameters: {'w_Ridge': 0.21953000667646994, 'w_BayesianRidge': 0.35101816285026755, 'w_Lasso': 0.4322453937364191, 'w_Huber': 0.49583192676781607, 'w_GradientBoost': 0.3365663047389901, 'w_RandomForest_L2': 0.2670863984523747}. Best is trial 4 with value: 0.4994338656599992.\n",
      "[I 2025-07-23 09:43:26,950] Trial 8 finished with value: 0.5047686331777999 and parameters: {'w_Ridge': 0.2811268945665778, 'w_BayesianRidge': 0.113659273167943, 'w_Lasso': 0.5027803472927834, 'w_Huber': 0.9018913266601095, 'w_GradientBoost': 0.8222639975107174, 'w_RandomForest_L2': 0.5476520711241266}. Best is trial 4 with value: 0.4994338656599992.\n",
      "[I 2025-07-23 09:43:26,957] Trial 9 finished with value: 0.5039203912354622 and parameters: {'w_Ridge': 0.2337833436313026, 'w_BayesianRidge': 0.415806286523003, 'w_Lasso': 0.8253072889017117, 'w_Huber': 0.18340258846163526, 'w_GradientBoost': 0.09106025855413447, 'w_RandomForest_L2': 0.1117527145989653}. Best is trial 4 with value: 0.4994338656599992.\n"
     ]
    },
    {
     "name": "stderr",
     "output_type": "stream",
     "text": [
      "Best trial: 4. Best value: 0.499434:   6%|▌         | 11/200 [00:00<00:01, 95.10it/s]"
     ]
    },
    {
     "name": "stdout",
     "output_type": "stream",
     "text": [
      "[I 2025-07-23 09:43:27,001] Trial 10 finished with value: 0.5003898957107723 and parameters: {'w_Ridge': 0.7792899009215195, 'w_BayesianRidge': 0.927484356003001, 'w_Lasso': 0.9787301055494604, 'w_Huber': 0.3826544055294244, 'w_GradientBoost': 0.09385767744990131, 'w_RandomForest_L2': 0.6482887934837991}. Best is trial 4 with value: 0.4994338656599992.\n",
      "[I 2025-07-23 09:43:27,042] Trial 11 finished with value: 0.5009499635327173 and parameters: {'w_Ridge': 0.8036741055787219, 'w_BayesianRidge': 0.9975053344317569, 'w_Lasso': 0.9636807475416989, 'w_Huber': 0.3645443657010835, 'w_GradientBoost': 0.03058783780482688, 'w_RandomForest_L2': 0.6435862883489848}. Best is trial 4 with value: 0.4994338656599992.\n"
     ]
    },
    {
     "name": "stderr",
     "output_type": "stream",
     "text": [
      "Best trial: 14. Best value: 0.497863:   7%|▋         | 14/200 [00:00<00:01, 95.10it/s]"
     ]
    },
    {
     "name": "stdout",
     "output_type": "stream",
     "text": [
      "[I 2025-07-23 09:43:27,091] Trial 12 finished with value: 0.4981074642590613 and parameters: {'w_Ridge': 0.6506838395180776, 'w_BayesianRidge': 0.2799035014774931, 'w_Lasso': 0.9711820048001681, 'w_Huber': 0.3521215874049761, 'w_GradientBoost': 0.21113191936363784, 'w_RandomForest_L2': 0.6606309008293565}. Best is trial 12 with value: 0.4981074642590613.\n",
      "[I 2025-07-23 09:43:27,130] Trial 13 finished with value: 0.49912072312349415 and parameters: {'w_Ridge': 0.6078109403213319, 'w_BayesianRidge': 0.26792264793945175, 'w_Lasso': 0.7831010991905573, 'w_Huber': 0.6205092989349241, 'w_GradientBoost': 0.21819408882112878, 'w_RandomForest_L2': 0.9623241059875866}. Best is trial 12 with value: 0.4981074642590613.\n",
      "[I 2025-07-23 09:43:27,163] Trial 14 finished with value: 0.4978627263537989 and parameters: {'w_Ridge': 0.60616255010884, 'w_BayesianRidge': 0.25392756897594737, 'w_Lasso': 0.7250943228618043, 'w_Huber': 0.29135077770056517, 'w_GradientBoost': 0.20126749873069924, 'w_RandomForest_L2': 0.9674280975498956}. Best is trial 14 with value: 0.4978627263537989.\n"
     ]
    },
    {
     "name": "stderr",
     "output_type": "stream",
     "text": [
      "Best trial: 14. Best value: 0.497863:   8%|▊         | 16/200 [00:00<00:01, 95.10it/s]"
     ]
    },
    {
     "name": "stdout",
     "output_type": "stream",
     "text": [
      "[I 2025-07-23 09:43:27,209] Trial 15 finished with value: 0.4997644049820658 and parameters: {'w_Ridge': 0.570863659713079, 'w_BayesianRidge': 0.553134550506219, 'w_Lasso': 0.6735849351396471, 'w_Huber': 0.28952518436517277, 'w_GradientBoost': 0.20576025426067845, 'w_RandomForest_L2': 0.39378748895660365}. Best is trial 14 with value: 0.4978627263537989.\n",
      "[I 2025-07-23 09:43:27,249] Trial 16 finished with value: 0.49932613122346803 and parameters: {'w_Ridge': 0.6559896537024912, 'w_BayesianRidge': 0.21800975760093377, 'w_Lasso': 0.7253621479745527, 'w_Huber': 0.2486981624726705, 'w_GradientBoost': 0.5790526123924267, 'w_RandomForest_L2': 0.9948943023300394}. Best is trial 14 with value: 0.4978627263537989.\n"
     ]
    },
    {
     "name": "stderr",
     "output_type": "stream",
     "text": [
      "Best trial: 14. Best value: 0.497863:  10%|█         | 20/200 [00:00<00:05, 35.61it/s]"
     ]
    },
    {
     "name": "stdout",
     "output_type": "stream",
     "text": [
      "[I 2025-07-23 09:43:27,288] Trial 17 finished with value: 0.4985626192009181 and parameters: {'w_Ridge': 0.43531527460303066, 'w_BayesianRidge': 0.5137703747553647, 'w_Lasso': 0.9920423460132611, 'w_Huber': 0.4702715051753093, 'w_GradientBoost': 0.20863238688038604, 'w_RandomForest_L2': 0.8137526177329601}. Best is trial 14 with value: 0.4978627263537989.\n",
      "[I 2025-07-23 09:43:27,331] Trial 18 finished with value: 0.49933920132814047 and parameters: {'w_Ridge': 0.4660774012382854, 'w_BayesianRidge': 0.18604177110763487, 'w_Lasso': 0.5568185002858719, 'w_Huber': 0.14124517137324055, 'w_GradientBoost': 0.45591679026123777, 'w_RandomForest_L2': 0.7271326144600316}. Best is trial 14 with value: 0.4978627263537989.\n",
      "[I 2025-07-23 09:43:27,361] Trial 19 finished with value: 0.5020936375392687 and parameters: {'w_Ridge': 0.7155646881226259, 'w_BayesianRidge': 0.3806136434361313, 'w_Lasso': 0.8928232207424254, 'w_Huber': 0.323371324234942, 'w_GradientBoost': 0.013798035587959917, 'w_RandomForest_L2': 0.3810200589132306}. Best is trial 14 with value: 0.4978627263537989.\n"
     ]
    },
    {
     "name": "stderr",
     "output_type": "stream",
     "text": [
      "Best trial: 14. Best value: 0.497863:  11%|█         | 22/200 [00:00<00:04, 35.61it/s]"
     ]
    },
    {
     "name": "stdout",
     "output_type": "stream",
     "text": [
      "[I 2025-07-23 09:43:27,394] Trial 20 finished with value: 0.4990549497171476 and parameters: {'w_Ridge': 0.5394167380359957, 'w_BayesianRidge': 0.024040958068953067, 'w_Lasso': 0.7002328978461223, 'w_Huber': 0.42473298824912176, 'w_GradientBoost': 0.26869465245278923, 'w_RandomForest_L2': 0.5537532786187644}. Best is trial 14 with value: 0.4978627263537989.\n",
      "[I 2025-07-23 09:43:27,425] Trial 21 finished with value: 0.4989265079530628 and parameters: {'w_Ridge': 0.446841901335329, 'w_BayesianRidge': 0.5179857839260547, 'w_Lasso': 0.9689665723314416, 'w_Huber': 0.5061288317726247, 'w_GradientBoost': 0.15841568760532304, 'w_RandomForest_L2': 0.8227312551769685}. Best is trial 14 with value: 0.4978627263537989.\n",
      "[I 2025-07-23 09:43:27,458] Trial 22 finished with value: 0.4982227619192465 and parameters: {'w_Ridge': 0.6734992002863923, 'w_BayesianRidge': 0.5767056985789023, 'w_Lasso': 0.9177562614697704, 'w_Huber': 0.45669165616797464, 'w_GradientBoost': 0.15424280758261177, 'w_RandomForest_L2': 0.900129009078347}. Best is trial 14 with value: 0.4978627263537989.\n"
     ]
    },
    {
     "name": "stderr",
     "output_type": "stream",
     "text": [
      "Best trial: 25. Best value: 0.495081:  13%|█▎        | 26/200 [00:00<00:05, 33.37it/s]"
     ]
    },
    {
     "name": "stdout",
     "output_type": "stream",
     "text": [
      "[I 2025-07-23 09:43:27,495] Trial 23 finished with value: 0.49677758041309544 and parameters: {'w_Ridge': 0.6929061127395931, 'w_BayesianRidge': 0.6351180101259404, 'w_Lasso': 0.9110130966182923, 'w_Huber': 0.24373911896221057, 'w_GradientBoost': 0.12722134270923657, 'w_RandomForest_L2': 0.948086762598386}. Best is trial 23 with value: 0.49677758041309544.\n",
      "[I 2025-07-23 09:43:27,532] Trial 24 finished with value: 0.5068455886444769 and parameters: {'w_Ridge': 0.9225310484955385, 'w_BayesianRidge': 0.7436417364976349, 'w_Lasso': 0.7704132939929444, 'w_Huber': 0.2314082991291695, 'w_GradientBoost': 0.1084402149750722, 'w_RandomForest_L2': 0.0053897405699435685}. Best is trial 23 with value: 0.49677758041309544.\n",
      "[I 2025-07-23 09:43:27,563] Trial 25 finished with value: 0.4950805170843238 and parameters: {'w_Ridge': 0.7432916506254001, 'w_BayesianRidge': 0.34787983606975126, 'w_Lasso': 0.8856664569980628, 'w_Huber': 0.037563911012373746, 'w_GradientBoost': 0.26983073454587214, 'w_RandomForest_L2': 0.773260381424422}. Best is trial 25 with value: 0.4950805170843238.\n"
     ]
    },
    {
     "name": "stderr",
     "output_type": "stream",
     "text": [
      "Best trial: 26. Best value: 0.494667:  14%|█▍        | 28/200 [00:00<00:05, 33.37it/s]"
     ]
    },
    {
     "name": "stdout",
     "output_type": "stream",
     "text": [
      "[I 2025-07-23 09:43:27,595] Trial 26 finished with value: 0.494667353687044 and parameters: {'w_Ridge': 0.7420962040293998, 'w_BayesianRidge': 0.4349295170945275, 'w_Lasso': 0.8779781480244327, 'w_Huber': 0.0067940368914301, 'w_GradientBoost': 0.2702989714457755, 'w_RandomForest_L2': 0.9381119356815601}. Best is trial 26 with value: 0.494667353687044.\n",
      "[I 2025-07-23 09:43:27,631] Trial 27 finished with value: 0.4948511400276285 and parameters: {'w_Ridge': 0.7388265180736695, 'w_BayesianRidge': 0.4441858573959032, 'w_Lasso': 0.8985569798188656, 'w_Huber': 0.01128555436761525, 'w_GradientBoost': 0.2929690119430182, 'w_RandomForest_L2': 0.7563975462595787}. Best is trial 26 with value: 0.494667353687044.\n",
      "[I 2025-07-23 09:43:27,666] Trial 28 finished with value: 0.49459104420564526 and parameters: {'w_Ridge': 0.7618342786835877, 'w_BayesianRidge': 0.4746301312423743, 'w_Lasso': 0.8512484618720437, 'w_Huber': 0.014612634255421648, 'w_GradientBoost': 0.43661837598349407, 'w_RandomForest_L2': 0.778155415098256}. Best is trial 28 with value: 0.49459104420564526.\n"
     ]
    },
    {
     "name": "stderr",
     "output_type": "stream",
     "text": [
      "Best trial: 28. Best value: 0.494591:  16%|█▌        | 31/200 [00:00<00:05, 32.43it/s]"
     ]
    },
    {
     "name": "stdout",
     "output_type": "stream",
     "text": [
      "[I 2025-07-23 09:43:27,698] Trial 29 finished with value: 0.49717029343578084 and parameters: {'w_Ridge': 0.8393678850703544, 'w_BayesianRidge': 0.4826891254713981, 'w_Lasso': 0.0868787286306345, 'w_Huber': 0.08803799549322938, 'w_GradientBoost': 0.43708926143927396, 'w_RandomForest_L2': 0.754172481024645}. Best is trial 28 with value: 0.49459104420564526.\n",
      "[I 2025-07-23 09:43:27,731] Trial 30 finished with value: 0.49612053953344637 and parameters: {'w_Ridge': 0.9864766487322564, 'w_BayesianRidge': 0.47036589020280795, 'w_Lasso': 0.2173638942496795, 'w_Huber': 0.0876442357020819, 'w_GradientBoost': 0.5539601079417169, 'w_RandomForest_L2': 0.913367307587499}. Best is trial 28 with value: 0.49459104420564526.\n",
      "[I 2025-07-23 09:43:27,764] Trial 31 finished with value: 0.49715092966729496 and parameters: {'w_Ridge': 0.7640217118055747, 'w_BayesianRidge': 0.3289474225883648, 'w_Lasso': 0.007454965539349767, 'w_Huber': 0.006537717552216618, 'w_GradientBoost': 0.2942336525833284, 'w_RandomForest_L2': 0.7797885885301826}. Best is trial 28 with value: 0.49459104420564526.\n"
     ]
    },
    {
     "name": "stderr",
     "output_type": "stream",
     "text": [
      "Best trial: 28. Best value: 0.494591:  16%|█▋        | 33/200 [00:00<00:05, 32.43it/s]"
     ]
    },
    {
     "name": "stdout",
     "output_type": "stream",
     "text": [
      "[I 2025-07-23 09:43:27,796] Trial 32 finished with value: 0.4948740017105018 and parameters: {'w_Ridge': 0.911091489166265, 'w_BayesianRidge': 0.4157645995643636, 'w_Lasso': 0.8679559626884468, 'w_Huber': 0.007680308295379083, 'w_GradientBoost': 0.4725672777818993, 'w_RandomForest_L2': 0.5795495414049715}. Best is trial 28 with value: 0.49459104420564526.\n",
      "[I 2025-07-23 09:43:27,848] Trial 33 finished with value: 0.4959072430630984 and parameters: {'w_Ridge': 0.9035307207181615, 'w_BayesianRidge': 0.4464580703937388, 'w_Lasso': 0.7952474835188391, 'w_Huber': 0.16140259861180536, 'w_GradientBoost': 0.6567246635554678, 'w_RandomForest_L2': 0.559275547574739}. Best is trial 28 with value: 0.49459104420564526.\n"
     ]
    },
    {
     "name": "stderr",
     "output_type": "stream",
     "text": [
      "Best trial: 28. Best value: 0.494591:  18%|█▊        | 36/200 [00:01<00:05, 29.90it/s]"
     ]
    },
    {
     "name": "stdout",
     "output_type": "stream",
     "text": [
      "[I 2025-07-23 09:43:27,893] Trial 34 finished with value: 0.4948618546226397 and parameters: {'w_Ridge': 0.8644378632491095, 'w_BayesianRidge': 0.5899933955163553, 'w_Lasso': 0.853502287926809, 'w_Huber': 0.06546823170422367, 'w_GradientBoost': 0.46457730682937926, 'w_RandomForest_L2': 0.8746986814026337}. Best is trial 28 with value: 0.49459104420564526.\n",
      "[I 2025-07-23 09:43:27,938] Trial 35 finished with value: 0.5018452046440696 and parameters: {'w_Ridge': 0.019701550470645812, 'w_BayesianRidge': 0.5753524694319917, 'w_Lasso': 0.7495066004135025, 'w_Huber': 0.08525813462259973, 'w_GradientBoost': 0.3718768684277585, 'w_RandomForest_L2': 0.8873208141504935}. Best is trial 28 with value: 0.49459104420564526.\n",
      "[I 2025-07-23 09:43:27,977] Trial 36 finished with value: 0.495417687663165 and parameters: {'w_Ridge': 0.8252413006679576, 'w_BayesianRidge': 0.7888569266418972, 'w_Lasso': 0.6126306895486948, 'w_Huber': 0.12047602585691486, 'w_GradientBoost': 0.6059802641769464, 'w_RandomForest_L2': 0.8702757527574865}. Best is trial 28 with value: 0.49459104420564526.\n"
     ]
    },
    {
     "name": "stderr",
     "output_type": "stream",
     "text": [
      "Best trial: 28. Best value: 0.494591:  20%|█▉        | 39/200 [00:01<00:05, 27.99it/s]"
     ]
    },
    {
     "name": "stdout",
     "output_type": "stream",
     "text": [
      "[I 2025-07-23 09:43:28,023] Trial 37 finished with value: 0.4949647229574035 and parameters: {'w_Ridge': 0.7503543844154035, 'w_BayesianRidge': 0.6429166009044454, 'w_Lasso': 0.8290118867103555, 'w_Huber': 0.06038097660367192, 'w_GradientBoost': 0.39533014314296366, 'w_RandomForest_L2': 0.8240980742449698}. Best is trial 28 with value: 0.49459104420564526.\n",
      "[I 2025-07-23 09:43:28,060] Trial 38 finished with value: 0.4971134725131585 and parameters: {'w_Ridge': 0.8781647059755079, 'w_BayesianRidge': 0.6873030764447119, 'w_Lasso': 0.2780567273543167, 'w_Huber': 0.18801457826325832, 'w_GradientBoost': 0.5172147616633974, 'w_RandomForest_L2': 0.738838324840472}. Best is trial 28 with value: 0.49459104420564526.\n"
     ]
    },
    {
     "name": "stderr",
     "output_type": "stream",
     "text": [
      "Best trial: 42. Best value: 0.494435:  22%|██▏       | 43/200 [00:01<00:05, 28.95it/s]"
     ]
    },
    {
     "name": "stdout",
     "output_type": "stream",
     "text": [
      "[I 2025-07-23 09:43:28,095] Trial 39 finished with value: 0.49503552684317975 and parameters: {'w_Ridge': 0.8443480357467238, 'w_BayesianRidge': 0.5910678104921875, 'w_Lasso': 0.5633849310574744, 'w_Huber': 0.059509461102988395, 'w_GradientBoost': 0.7231206107913889, 'w_RandomForest_L2': 0.6920173943617883}. Best is trial 28 with value: 0.49459104420564526.\n",
      "[I 2025-07-23 09:43:28,123] Trial 40 finished with value: 0.4957007795461467 and parameters: {'w_Ridge': 0.9465937629373893, 'w_BayesianRidge': 0.7235713031520159, 'w_Lasso': 0.831341725654404, 'w_Huber': 0.1412999300203448, 'w_GradientBoost': 0.3142600747361337, 'w_RandomForest_L2': 0.9371898724035617}. Best is trial 28 with value: 0.49459104420564526.\n",
      "[I 2025-07-23 09:43:28,158] Trial 41 finished with value: 0.494947311456335 and parameters: {'w_Ridge': 0.9931362048252914, 'w_BayesianRidge': 0.4190369955652352, 'w_Lasso': 0.8660494742860337, 'w_Huber': 0.016505054563131935, 'w_GradientBoost': 0.4791476024601062, 'w_RandomForest_L2': 0.5954738584533942}. Best is trial 28 with value: 0.49459104420564526.\n",
      "[I 2025-07-23 09:43:28,188] Trial 42 finished with value: 0.49443492003267586 and parameters: {'w_Ridge': 0.9031183340320441, 'w_BayesianRidge': 0.509937657056607, 'w_Lasso': 0.8599862395661694, 'w_Huber': 0.00434632875811488, 'w_GradientBoost': 0.4241797304612186, 'w_RandomForest_L2': 0.8538783945668805}. Best is trial 42 with value: 0.49443492003267586.\n"
     ]
    },
    {
     "name": "stderr",
     "output_type": "stream",
     "text": [
      "Best trial: 42. Best value: 0.494435:  22%|██▏       | 44/200 [00:01<00:05, 28.95it/s]"
     ]
    },
    {
     "name": "stdout",
     "output_type": "stream",
     "text": [
      "[I 2025-07-23 09:43:28,218] Trial 43 finished with value: 0.49530642396398605 and parameters: {'w_Ridge': 0.804177360332345, 'w_BayesianRidge': 0.5307219463784997, 'w_Lasso': 0.930382200647535, 'w_Huber': 0.11289649458359946, 'w_GradientBoost': 0.4177223629268604, 'w_RandomForest_L2': 0.8375845495377067}. Best is trial 42 with value: 0.49443492003267586.\n",
      "[I 2025-07-23 09:43:28,264] Trial 44 finished with value: 0.5010258231866237 and parameters: {'w_Ridge': 0.8698484247624781, 'w_BayesianRidge': 0.4809624218000101, 'w_Lasso': 0.8128323602124047, 'w_Huber': 0.9949496018467476, 'w_GradientBoost': 0.360037010323864, 'w_RandomForest_L2': 0.8633743800923516}. Best is trial 42 with value: 0.49443492003267586.\n"
     ]
    },
    {
     "name": "stderr",
     "output_type": "stream",
     "text": [
      "Best trial: 42. Best value: 0.494435:  24%|██▎       | 47/200 [00:01<00:05, 28.58it/s]"
     ]
    },
    {
     "name": "stdout",
     "output_type": "stream",
     "text": [
      "[I 2025-07-23 09:43:28,298] Trial 45 finished with value: 0.4949378336723318 and parameters: {'w_Ridge': 0.7245461891509187, 'w_BayesianRidge': 0.6119559559427035, 'w_Lasso': 0.9324202690248626, 'w_Huber': 0.053320844325490634, 'w_GradientBoost': 0.5125913232154505, 'w_RandomForest_L2': 0.791083650585069}. Best is trial 42 with value: 0.49443492003267586.\n",
      "[I 2025-07-23 09:43:28,332] Trial 46 finished with value: 0.4960435118525748 and parameters: {'w_Ridge': 0.8122236949075355, 'w_BayesianRidge': 0.3676045825956009, 'w_Lasso': 0.6898559195332851, 'w_Huber': 0.20344806526005263, 'w_GradientBoost': 0.40229401057996794, 'w_RandomForest_L2': 0.7067478545127378}. Best is trial 42 with value: 0.49443492003267586.\n",
      "[I 2025-07-23 09:43:28,366] Trial 47 finished with value: 0.5010642801918509 and parameters: {'w_Ridge': 0.6042858372160882, 'w_BayesianRidge': 0.45184643139566943, 'w_Lasso': 0.6449203228999081, 'w_Huber': 0.843265586328738, 'w_GradientBoost': 0.9810106380143021, 'w_RandomForest_L2': 0.46804077174716674}. Best is trial 42 with value: 0.49443492003267586.\n"
     ]
    },
    {
     "name": "stderr",
     "output_type": "stream",
     "text": [
      "Best trial: 42. Best value: 0.494435:  26%|██▌       | 51/200 [00:01<00:05, 28.85it/s]"
     ]
    },
    {
     "name": "stdout",
     "output_type": "stream",
     "text": [
      "[I 2025-07-23 09:43:28,403] Trial 48 finished with value: 0.4960752327686363 and parameters: {'w_Ridge': 0.7802255513809288, 'w_BayesianRidge': 0.3083844291026878, 'w_Lasso': 0.4279296532016018, 'w_Huber': 0.00020944364305391493, 'w_GradientBoost': 0.3323569876179618, 'w_RandomForest_L2': 0.9894804841512602}. Best is trial 42 with value: 0.49443492003267586.\n",
      "[I 2025-07-23 09:43:28,434] Trial 49 finished with value: 0.4995075964556469 and parameters: {'w_Ridge': 0.39191465460282326, 'w_BayesianRidge': 0.5398151284597383, 'w_Lasso': 0.8492777156052387, 'w_Huber': 0.678627833063737, 'w_GradientBoost': 0.25200309232500145, 'w_RandomForest_L2': 0.917003537966829}. Best is trial 42 with value: 0.49443492003267586.\n",
      "[I 2025-07-23 09:43:28,468] Trial 50 finished with value: 0.4957090231406317 and parameters: {'w_Ridge': 0.6306970069465285, 'w_BayesianRidge': 0.6726503331664548, 'w_Lasso': 0.7560126469865869, 'w_Huber': 0.11444941536695204, 'w_GradientBoost': 0.35195283426990737, 'w_RandomForest_L2': 0.6665899050675186}. Best is trial 42 with value: 0.49443492003267586.\n"
     ]
    },
    {
     "name": "stderr",
     "output_type": "stream",
     "text": [
      "Best trial: 42. Best value: 0.494435:  26%|██▌       | 52/200 [00:01<00:05, 28.85it/s]"
     ]
    },
    {
     "name": "stdout",
     "output_type": "stream",
     "text": [
      "[I 2025-07-23 09:43:28,507] Trial 51 finished with value: 0.49492650474625577 and parameters: {'w_Ridge': 0.9136023608883407, 'w_BayesianRidge': 0.3857776735602181, 'w_Lasso': 0.868888886549306, 'w_Huber': 0.023442671888512897, 'w_GradientBoost': 0.4596386967276295, 'w_RandomForest_L2': 0.6033588489726842}. Best is trial 42 with value: 0.49443492003267586.\n",
      "[I 2025-07-23 09:43:28,580] Trial 52 finished with value: 0.49486440465677684 and parameters: {'w_Ridge': 0.8868443531573017, 'w_BayesianRidge': 0.43165499133200014, 'w_Lasso': 0.9434116787542492, 'w_Huber': 0.060391285256808376, 'w_GradientBoost': 0.5731362354294973, 'w_RandomForest_L2': 0.8633959267940998}. Best is trial 42 with value: 0.49443492003267586.\n"
     ]
    },
    {
     "name": "stderr",
     "output_type": "stream",
     "text": [
      "Best trial: 42. Best value: 0.494435:  27%|██▋       | 54/200 [00:01<00:05, 24.52it/s]"
     ]
    },
    {
     "name": "stdout",
     "output_type": "stream",
     "text": [
      "[I 2025-07-23 09:43:28,649] Trial 53 finished with value: 0.4949450161547676 and parameters: {'w_Ridge': 0.9578483804599799, 'w_BayesianRidge': 0.4394934407528437, 'w_Lasso': 0.9979903016415279, 'w_Huber': 0.06114252564567387, 'w_GradientBoost': 0.611583401991576, 'w_RandomForest_L2': 0.7971356830580814}. Best is trial 42 with value: 0.49443492003267586.\n"
     ]
    },
    {
     "name": "stderr",
     "output_type": "stream",
     "text": [
      "Best trial: 42. Best value: 0.494435:  28%|██▊       | 57/200 [00:01<00:05, 23.91it/s]"
     ]
    },
    {
     "name": "stdout",
     "output_type": "stream",
     "text": [
      "[I 2025-07-23 09:43:28,700] Trial 54 finished with value: 0.49482361146180953 and parameters: {'w_Ridge': 0.8785104357546298, 'w_BayesianRidge': 0.5029696036613028, 'w_Lasso': 0.9441178449160517, 'w_Huber': 0.05528659511300125, 'w_GradientBoost': 0.6629210306028691, 'w_RandomForest_L2': 0.8554465467069012}. Best is trial 42 with value: 0.49443492003267586.\n",
      "[I 2025-07-23 09:43:28,745] Trial 55 finished with value: 0.4970146426809111 and parameters: {'w_Ridge': 0.6962998570112588, 'w_BayesianRidge': 0.5002928678717641, 'w_Lasso': 0.7898417286907935, 'w_Huber': 0.16143872916992535, 'w_GradientBoost': 0.7724626861610211, 'w_RandomForest_L2': 0.23269542087947837}. Best is trial 42 with value: 0.49443492003267586.\n",
      "[I 2025-07-23 09:43:28,785] Trial 56 finished with value: 0.49509909853034345 and parameters: {'w_Ridge': 0.7833874213845752, 'w_BayesianRidge': 0.5535978810014395, 'w_Lasso': 0.9027798114327152, 'w_Huber': 0.10429645076762137, 'w_GradientBoost': 0.655613369339616, 'w_RandomForest_L2': 0.9365116878964889}. Best is trial 42 with value: 0.49443492003267586.\n",
      "[I 2025-07-23 09:43:28,824] Trial 57 finished with value: 0.4978243683520122 and parameters: {'w_Ridge': 0.857255982294819, 'w_BayesianRidge': 0.5991386646577112, 'w_Lasso': 0.9508835118872131, 'w_Huber': 0.548705651790379, 'w_GradientBoost': 0.5295091157686945, 'w_RandomForest_L2': 0.891179481014109}. Best is trial 42 with value: 0.49443492003267586.\n"
     ]
    },
    {
     "name": "stderr",
     "output_type": "stream",
     "text": [
      "Best trial: 42. Best value: 0.494435:  29%|██▉       | 58/200 [00:02<00:05, 23.91it/s]"
     ]
    },
    {
     "name": "stdout",
     "output_type": "stream",
     "text": [
      "[I 2025-07-23 09:43:28,856] Trial 58 finished with value: 0.4984092876832575 and parameters: {'w_Ridge': 0.5577296462150964, 'w_BayesianRidge': 0.30389674765115154, 'w_Lasso': 0.8152199167428096, 'w_Huber': 0.1370338569501912, 'w_GradientBoost': 0.3040384768275519, 'w_RandomForest_L2': 0.9894104339186166}. Best is trial 42 with value: 0.49443492003267586.\n"
     ]
    },
    {
     "name": "stderr",
     "output_type": "stream",
     "text": [
      "Best trial: 42. Best value: 0.494435:  32%|███▏      | 63/200 [00:02<00:05, 25.71it/s]"
     ]
    },
    {
     "name": "stdout",
     "output_type": "stream",
     "text": [
      "[I 2025-07-23 09:43:28,890] Trial 59 finished with value: 0.4970129734975591 and parameters: {'w_Ridge': 0.7256354210146576, 'w_BayesianRidge': 0.499732193144654, 'w_Lasso': 0.7257727654510304, 'w_Huber': 0.20960442918903585, 'w_GradientBoost': 0.9060110683433228, 'w_RandomForest_L2': 0.8435762543178416}. Best is trial 42 with value: 0.49443492003267586.\n",
      "[I 2025-07-23 09:43:28,925] Trial 60 finished with value: 0.4963990982609771 and parameters: {'w_Ridge': 0.5095857848651706, 'w_BayesianRidge': 0.9055549789302486, 'w_Lasso': 0.9017606079509992, 'w_Huber': 0.27703596529079433, 'w_GradientBoost': 0.7039485099798981, 'w_RandomForest_L2': 0.752337438475093}. Best is trial 42 with value: 0.49443492003267586.\n",
      "[I 2025-07-23 09:43:28,966] Trial 61 finished with value: 0.49478545302046306 and parameters: {'w_Ridge': 0.8901763600955438, 'w_BayesianRidge': 0.3919187782973886, 'w_Lasso': 0.9482216111040835, 'w_Huber': 0.043125602845388106, 'w_GradientBoost': 0.5747876504519113, 'w_RandomForest_L2': 0.8671085931339452}. Best is trial 42 with value: 0.49443492003267586.\n",
      "[I 2025-07-23 09:43:28,999] Trial 62 finished with value: 0.4949531664579515 and parameters: {'w_Ridge': 0.9519514122153852, 'w_BayesianRidge': 0.3907803760225436, 'w_Lasso': 0.9662634560772492, 'w_Huber': 0.03518144705105343, 'w_GradientBoost': 0.6204964786760224, 'w_RandomForest_L2': 0.9591524044931026}. Best is trial 42 with value: 0.49443492003267586.\n",
      "[I 2025-07-23 09:43:29,033] Trial 63 finished with value: 0.4968510163757117 and parameters: {'w_Ridge': 0.8259842728963736, 'w_BayesianRidge': 0.22468955658920756, 'w_Lasso': 0.8517875831810591, 'w_Huber': 0.08019679638795882, 'w_GradientBoost': 0.6919601273724979, 'w_RandomForest_L2': 0.809912777907799}. Best is trial 42 with value: 0.49443492003267586.\n"
     ]
    },
    {
     "name": "stderr",
     "output_type": "stream",
     "text": [
      "Best trial: 42. Best value: 0.494435:  32%|███▏      | 64/200 [00:02<00:05, 25.71it/s]"
     ]
    },
    {
     "name": "stdout",
     "output_type": "stream",
     "text": [
      "[I 2025-07-23 09:43:29,072] Trial 64 finished with value: 0.4947016065039026 and parameters: {'w_Ridge': 0.8665957233098792, 'w_BayesianRidge': 0.34068752372183425, 'w_Lasso': 0.8833006174676543, 'w_Huber': 0.035619105423918315, 'w_GradientBoost': 0.43104897772844264, 'w_RandomForest_L2': 0.9041460011152289}. Best is trial 42 with value: 0.49443492003267586.\n"
     ]
    },
    {
     "name": "stderr",
     "output_type": "stream",
     "text": [
      "Best trial: 42. Best value: 0.494435:  34%|███▍      | 69/200 [00:02<00:05, 25.51it/s]"
     ]
    },
    {
     "name": "stdout",
     "output_type": "stream",
     "text": [
      "[I 2025-07-23 09:43:29,107] Trial 65 finished with value: 0.49491419758197736 and parameters: {'w_Ridge': 0.9300648904288074, 'w_BayesianRidge': 0.3558793920524791, 'w_Lasso': 0.9922154543033678, 'w_Huber': 0.025860374910535392, 'w_GradientBoost': 0.551351088600116, 'w_RandomForest_L2': 0.9278867753834695}. Best is trial 42 with value: 0.49443492003267586.\n",
      "[I 2025-07-23 09:43:29,143] Trial 66 finished with value: 0.49760850363505404 and parameters: {'w_Ridge': 0.7751970512862748, 'w_BayesianRidge': 0.1237221289136316, 'w_Lasso': 0.9189042330284244, 'w_Huber': 0.16169330848564717, 'w_GradientBoost': 0.4292819324461358, 'w_RandomForest_L2': 0.9013886263985759}. Best is trial 42 with value: 0.49443492003267586.\n",
      "[I 2025-07-23 09:43:29,185] Trial 67 finished with value: 0.49478476475092437 and parameters: {'w_Ridge': 0.9710526831857269, 'w_BayesianRidge': 0.32525569408983646, 'w_Lasso': 0.8872253557091557, 'w_Huber': 0.0026932907742408486, 'w_GradientBoost': 0.24861549702151853, 'w_RandomForest_L2': 0.7673547806238903}. Best is trial 42 with value: 0.49443492003267586.\n",
      "[I 2025-07-23 09:43:29,231] Trial 68 finished with value: 0.4955266222127365 and parameters: {'w_Ridge': 0.9813501972699786, 'w_BayesianRidge': 0.3120799994493621, 'w_Lasso': 0.9580214450725818, 'w_Huber': 0.04261735908030198, 'w_GradientBoost': 0.1850771168661107, 'w_RandomForest_L2': 0.7142657995658035}. Best is trial 42 with value: 0.49443492003267586.\n"
     ]
    },
    {
     "name": "stderr",
     "output_type": "stream",
     "text": [
      "Best trial: 42. Best value: 0.494435:  34%|███▍      | 69/200 [00:02<00:05, 25.51it/s]"
     ]
    },
    {
     "name": "stdout",
     "output_type": "stream",
     "text": [
      "[I 2025-07-23 09:43:29,268] Trial 69 finished with value: 0.49631904923425074 and parameters: {'w_Ridge': 0.8973334368406722, 'w_BayesianRidge': 0.27586814324708736, 'w_Lasso': 0.8786802879439018, 'w_Huber': 0.0002696598417069318, 'w_GradientBoost': 0.7748923614030465, 'w_RandomForest_L2': 0.835784502181325}. Best is trial 42 with value: 0.49443492003267586.\n"
     ]
    },
    {
     "name": "stderr",
     "output_type": "stream",
     "text": [
      "Best trial: 42. Best value: 0.494435:  36%|███▋      | 73/200 [00:02<00:05, 25.26it/s]"
     ]
    },
    {
     "name": "stdout",
     "output_type": "stream",
     "text": [
      "[I 2025-07-23 09:43:29,305] Trial 70 finished with value: 0.4949352766003569 and parameters: {'w_Ridge': 0.9685639942509074, 'w_BayesianRidge': 0.23210348115531126, 'w_Lasso': 0.7947876055649082, 'w_Huber': 0.08824624478074805, 'w_GradientBoost': 0.37678743130648595, 'w_RandomForest_L2': 0.9665933207387774}. Best is trial 42 with value: 0.49443492003267586.\n",
      "[I 2025-07-23 09:43:29,353] Trial 71 finished with value: 0.4948300670474942 and parameters: {'w_Ridge': 0.8509934137941451, 'w_BayesianRidge': 0.3388806361627048, 'w_Lasso': 0.8975397197551027, 'w_Huber': 0.04145059078061081, 'w_GradientBoost': 0.49773085362434527, 'w_RandomForest_L2': 0.784871857301844}. Best is trial 42 with value: 0.49443492003267586.\n",
      "[I 2025-07-23 09:43:29,397] Trial 72 finished with value: 0.49479885469414703 and parameters: {'w_Ridge': 0.9285184401579809, 'w_BayesianRidge': 0.33899353473969907, 'w_Lasso': 0.9323946848708526, 'w_Huber': 0.03849316585864882, 'w_GradientBoost': 0.4924399125961313, 'w_RandomForest_L2': 0.7805658098600657}. Best is trial 42 with value: 0.49443492003267586.\n",
      "[I 2025-07-23 09:43:29,434] Trial 73 finished with value: 0.49620336619727007 and parameters: {'w_Ridge': 0.9218296269133736, 'w_BayesianRidge': 0.38275650438847497, 'w_Lasso': 0.9359116349412671, 'w_Huber': 0.11570634362276805, 'w_GradientBoost': 0.05440246085361583, 'w_RandomForest_L2': 0.8473063063889821}. Best is trial 42 with value: 0.49443492003267586.\n"
     ]
    },
    {
     "name": "stderr",
     "output_type": "stream",
     "text": [
      "Best trial: 42. Best value: 0.494435:  38%|███▊      | 75/200 [00:02<00:04, 25.47it/s]"
     ]
    },
    {
     "name": "stdout",
     "output_type": "stream",
     "text": [
      "[I 2025-07-23 09:43:29,470] Trial 74 finished with value: 0.49520727288616956 and parameters: {'w_Ridge': 0.938610983272029, 'w_BayesianRidge': 0.47147662228918075, 'w_Lasso': 0.980252735391856, 'w_Huber': 0.03167960720320378, 'w_GradientBoost': 0.24014406487727077, 'w_RandomForest_L2': 0.8069739183399894}. Best is trial 42 with value: 0.49443492003267586.\n"
     ]
    },
    {
     "name": "stderr",
     "output_type": "stream",
     "text": [
      "Best trial: 42. Best value: 0.494435:  40%|███▉      | 79/200 [00:02<00:04, 26.26it/s]"
     ]
    },
    {
     "name": "stdout",
     "output_type": "stream",
     "text": [
      "[I 2025-07-23 09:43:29,501] Trial 75 finished with value: 0.494924356127714 and parameters: {'w_Ridge': 0.9995937952783048, 'w_BayesianRidge': 0.40813041907567316, 'w_Lasso': 0.818524280176895, 'w_Huber': 0.08742329475914215, 'w_GradientBoost': 0.44236441458988784, 'w_RandomForest_L2': 0.881496157500461}. Best is trial 42 with value: 0.49443492003267586.\n",
      "[I 2025-07-23 09:43:29,541] Trial 76 finished with value: 0.49569214381391447 and parameters: {'w_Ridge': 0.892717098908897, 'w_BayesianRidge': 0.24628172662154324, 'w_Lasso': 0.9277429850099375, 'w_Huber': 0.13892480484626266, 'w_GradientBoost': 0.4914139096695619, 'w_RandomForest_L2': 0.6783680260924249}. Best is trial 42 with value: 0.49443492003267586.\n",
      "[I 2025-07-23 09:43:29,579] Trial 77 finished with value: 0.4956745174523559 and parameters: {'w_Ridge': 0.8255071954851595, 'w_BayesianRidge': 0.19049764711859343, 'w_Lasso': 0.8857735834647307, 'w_Huber': 0.07173164516464563, 'w_GradientBoost': 0.5864283571634686, 'w_RandomForest_L2': 0.5035384168915764}. Best is trial 42 with value: 0.49443492003267586.\n",
      "[I 2025-07-23 09:43:29,612] Trial 78 finished with value: 0.4987355313959171 and parameters: {'w_Ridge': 0.28878718134481907, 'w_BayesianRidge': 0.34051998347501206, 'w_Lasso': 0.8420274101507541, 'w_Huber': 0.040382722554716755, 'w_GradientBoost': 0.39452471873567024, 'w_RandomForest_L2': 0.6398901436594973}. Best is trial 42 with value: 0.49443492003267586.\n",
      "[I 2025-07-23 09:43:29,644] Trial 79 finished with value: 0.49465874240683594 and parameters: {'w_Ridge': 0.7932245481947663, 'w_BayesianRidge': 0.3040544706585818, 'w_Lasso': 0.7738358038044555, 'w_Huber': 0.0008735680269518727, 'w_GradientBoost': 0.5465616064118319, 'w_RandomForest_L2': 0.7276973424236852}. Best is trial 42 with value: 0.49443492003267586.\n"
     ]
    },
    {
     "name": "stderr",
     "output_type": "stream",
     "text": [
      "Best trial: 42. Best value: 0.494435:  40%|████      | 80/200 [00:02<00:04, 26.26it/s]"
     ]
    },
    {
     "name": "stdout",
     "output_type": "stream",
     "text": [
      "[I 2025-07-23 09:43:29,681] Trial 80 finished with value: 0.4960041419180897 and parameters: {'w_Ridge': 0.6982001139846042, 'w_BayesianRidge': 0.2832825915858469, 'w_Lasso': 0.7751029696424191, 'w_Huber': 0.021906965366493836, 'w_GradientBoost': 0.5610787266052407, 'w_RandomForest_L2': 0.7323482699657495}. Best is trial 42 with value: 0.49443492003267586.\n"
     ]
    },
    {
     "name": "stderr",
     "output_type": "stream",
     "text": [
      "Best trial: 42. Best value: 0.494435:  42%|████▏     | 84/200 [00:02<00:04, 26.14it/s]"
     ]
    },
    {
     "name": "stdout",
     "output_type": "stream",
     "text": [
      "[I 2025-07-23 09:43:29,718] Trial 81 finished with value: 0.4948498795865454 and parameters: {'w_Ridge': 0.7947756614319362, 'w_BayesianRidge': 0.40093322820881827, 'w_Lasso': 0.8653662475213175, 'w_Huber': 0.0017497259198988831, 'w_GradientBoost': 0.6327659571153263, 'w_RandomForest_L2': 0.7796410463125433}. Best is trial 42 with value: 0.49443492003267586.\n",
      "[I 2025-07-23 09:43:29,760] Trial 82 finished with value: 0.49571164316733884 and parameters: {'w_Ridge': 0.8649513821400692, 'w_BayesianRidge': 0.18022630026007155, 'w_Lasso': 0.9525360345285567, 'w_Huber': 0.06663265301271987, 'w_GradientBoost': 0.5311178136967404, 'w_RandomForest_L2': 0.7604910477423696}. Best is trial 42 with value: 0.49443492003267586.\n",
      "[I 2025-07-23 09:43:29,803] Trial 83 finished with value: 0.4956872017881303 and parameters: {'w_Ridge': 0.8818891186741646, 'w_BayesianRidge': 0.3635076870843542, 'w_Lasso': 0.32224144938671684, 'w_Huber': 0.10866908423393463, 'w_GradientBoost': 0.47977315762657685, 'w_RandomForest_L2': 0.8240286859234536}. Best is trial 42 with value: 0.49443492003267586.\n",
      "[I 2025-07-23 09:43:29,843] Trial 84 finished with value: 0.49992510971027454 and parameters: {'w_Ridge': 0.8381218310661375, 'w_BayesianRidge': 0.4611044945292071, 'w_Lasso': 0.9226842778014676, 'w_Huber': 0.9392619832049496, 'w_GradientBoost': 0.541670747941599, 'w_RandomForest_L2': 0.9096119439169817}. Best is trial 42 with value: 0.49443492003267586.\n"
     ]
    },
    {
     "name": "stderr",
     "output_type": "stream",
     "text": [
      "Best trial: 42. Best value: 0.494435:  42%|████▎     | 85/200 [00:03<00:04, 26.14it/s]"
     ]
    },
    {
     "name": "stdout",
     "output_type": "stream",
     "text": [
      "[I 2025-07-23 09:43:29,878] Trial 85 finished with value: 0.494869182480108 and parameters: {'w_Ridge': 0.759469469271813, 'w_BayesianRidge': 0.3023074986197485, 'w_Lasso': 0.5157953707611844, 'w_Huber': 0.04148799967084546, 'w_GradientBoost': 0.3407027707418901, 'w_RandomForest_L2': 0.8546082181800402}. Best is trial 42 with value: 0.49443492003267586.\n"
     ]
    },
    {
     "name": "stderr",
     "output_type": "stream",
     "text": [
      "Best trial: 42. Best value: 0.494435:  44%|████▍     | 89/200 [00:03<00:04, 25.38it/s]"
     ]
    },
    {
     "name": "stdout",
     "output_type": "stream",
     "text": [
      "[I 2025-07-23 09:43:29,927] Trial 86 finished with value: 0.4944822335355516 and parameters: {'w_Ridge': 0.9688614164276028, 'w_BayesianRidge': 0.49510883765903196, 'w_Lasso': 0.8311662115743165, 'w_Huber': 0.0028521187983869215, 'w_GradientBoost': 0.5978986786566137, 'w_RandomForest_L2': 0.7231812204944627}. Best is trial 42 with value: 0.49443492003267586.\n",
      "[I 2025-07-23 09:43:29,971] Trial 87 finished with value: 0.4945698032236699 and parameters: {'w_Ridge': 0.9663333388186691, 'w_BayesianRidge': 0.3689067498810302, 'w_Lasso': 0.7471397930407613, 'w_Huber': 0.021921497062442258, 'w_GradientBoost': 0.4216984404776503, 'w_RandomForest_L2': 0.7265799676183249}. Best is trial 42 with value: 0.49443492003267586.\n",
      "[I 2025-07-23 09:43:30,010] Trial 88 finished with value: 0.4949436645262396 and parameters: {'w_Ridge': 0.9617604368283958, 'w_BayesianRidge': 0.4295149521352771, 'w_Lasso': 0.7419457447161248, 'w_Huber': 0.0004678306189169895, 'w_GradientBoost': 0.26902451618733114, 'w_RandomForest_L2': 0.6393198547547014}. Best is trial 42 with value: 0.49443492003267586.\n",
      "[I 2025-07-23 09:43:30,056] Trial 89 finished with value: 0.49519053044616623 and parameters: {'w_Ridge': 0.9829569372001167, 'w_BayesianRidge': 0.5558286591380881, 'w_Lasso': 0.6682598709959362, 'w_Huber': 0.0833138186103257, 'w_GradientBoost': 0.5890037698305088, 'w_RandomForest_L2': 0.7220911751624507}. Best is trial 42 with value: 0.49443492003267586.\n"
     ]
    },
    {
     "name": "stderr",
     "output_type": "stream",
     "text": [
      "Best trial: 42. Best value: 0.494435:  47%|████▋     | 94/200 [00:03<00:04, 23.89it/s]"
     ]
    },
    {
     "name": "stdout",
     "output_type": "stream",
     "text": [
      "[I 2025-07-23 09:43:30,104] Trial 90 finished with value: 0.49473161911621977 and parameters: {'w_Ridge': 0.9120872861471518, 'w_BayesianRidge': 0.5289001770996624, 'w_Lasso': 0.8044825567837175, 'w_Huber': 0.022003925580252513, 'w_GradientBoost': 0.4198457780535578, 'w_RandomForest_L2': 0.740584421686282}. Best is trial 42 with value: 0.49443492003267586.\n",
      "[I 2025-07-23 09:43:30,151] Trial 91 finished with value: 0.4946751539579667 and parameters: {'w_Ridge': 0.9145922844809593, 'w_BayesianRidge': 0.517041736338407, 'w_Lasso': 0.7677006622330151, 'w_Huber': 0.011365296915316158, 'w_GradientBoost': 0.453315883747946, 'w_RandomForest_L2': 0.6949148216401548}. Best is trial 42 with value: 0.49443492003267586.\n",
      "[I 2025-07-23 09:43:30,192] Trial 92 finished with value: 0.494823965244452 and parameters: {'w_Ridge': 0.945200910578868, 'w_BayesianRidge': 0.5203555343416337, 'w_Lasso': 0.7094128560385236, 'w_Huber': 0.021469116568075756, 'w_GradientBoost': 0.41172092825590556, 'w_RandomForest_L2': 0.691722778563259}. Best is trial 42 with value: 0.49443492003267586.\n",
      "[I 2025-07-23 09:43:30,232] Trial 93 finished with value: 0.49456875799120004 and parameters: {'w_Ridge': 0.9091892230425357, 'w_BayesianRidge': 0.5627851798098483, 'w_Lasso': 0.8040850851175387, 'w_Huber': 0.000767407860636702, 'w_GradientBoost': 0.44465830452638666, 'w_RandomForest_L2': 0.7442653520946239}. Best is trial 42 with value: 0.49443492003267586.\n",
      "[I 2025-07-23 09:43:30,267] Trial 94 finished with value: 0.49556042657455157 and parameters: {'w_Ridge': 0.91182460067282, 'w_BayesianRidge': 0.5571933691737208, 'w_Lasso': 0.7646274719874349, 'w_Huber': 0.10306677842956069, 'w_GradientBoost': 0.4477282892467962, 'w_RandomForest_L2': 0.6557698945214939}. Best is trial 42 with value: 0.49443492003267586.\n"
     ]
    },
    {
     "name": "stderr",
     "output_type": "stream",
     "text": [
      "Best trial: 42. Best value: 0.494435:  50%|████▉     | 99/200 [00:03<00:04, 23.41it/s]"
     ]
    },
    {
     "name": "stdout",
     "output_type": "stream",
     "text": [
      "[I 2025-07-23 09:43:30,315] Trial 95 finished with value: 0.49511701100733474 and parameters: {'w_Ridge': 0.810967470128725, 'w_BayesianRidge': 0.48562755067312785, 'w_Lasso': 0.784066603586503, 'w_Huber': 0.06904779917907172, 'w_GradientBoost': 0.379893297891837, 'w_RandomForest_L2': 0.7037908716263315}. Best is trial 42 with value: 0.49443492003267586.\n",
      "[I 2025-07-23 09:43:30,363] Trial 96 finished with value: 0.5000218757677828 and parameters: {'w_Ridge': 0.9084375170407566, 'w_BayesianRidge': 0.5245279911712855, 'w_Lasso': 0.8147653836037712, 'w_Huber': 0.6916513070824641, 'w_GradientBoost': 0.3230614968053, 'w_RandomForest_L2': 0.7430286213027857}. Best is trial 42 with value: 0.49443492003267586.\n",
      "[I 2025-07-23 09:43:30,409] Trial 97 finished with value: 0.49492934067556504 and parameters: {'w_Ridge': 0.8509421175521028, 'w_BayesianRidge': 0.6206832726045374, 'w_Lasso': 0.7325465138660567, 'w_Huber': 0.022542296906368497, 'w_GradientBoost': 0.42469799682883624, 'w_RandomForest_L2': 0.6690363991894097}. Best is trial 42 with value: 0.49443492003267586.\n",
      "[I 2025-07-23 09:43:30,452] Trial 98 finished with value: 0.49889983563322093 and parameters: {'w_Ridge': 0.1328980075696462, 'w_BayesianRidge': 0.5690764260874253, 'w_Lasso': 0.7057079209659934, 'w_Huber': 0.4121917783037513, 'w_GradientBoost': 0.46345011907672706, 'w_RandomForest_L2': 0.7221626056721928}. Best is trial 42 with value: 0.49443492003267586.\n",
      "[I 2025-07-23 09:43:30,494] Trial 99 finished with value: 0.49509340605095264 and parameters: {'w_Ridge': 0.6519860873876817, 'w_BayesianRidge': 0.5344683943238431, 'w_Lasso': 0.807149400786593, 'w_Huber': 0.05616240293819261, 'w_GradientBoost': 0.5194591532415104, 'w_RandomForest_L2': 0.6080402763655973}. Best is trial 42 with value: 0.49443492003267586.\n"
     ]
    },
    {
     "name": "stderr",
     "output_type": "stream",
     "text": [
      "Best trial: 42. Best value: 0.494435:  52%|█████▎    | 105/200 [00:03<00:03, 24.61it/s]"
     ]
    },
    {
     "name": "stdout",
     "output_type": "stream",
     "text": [
      "[I 2025-07-23 09:43:30,540] Trial 100 finished with value: 0.4977806740042494 and parameters: {'w_Ridge': 0.9370369977491809, 'w_BayesianRidge': 0.4954328922007454, 'w_Lasso': 0.831675417302514, 'w_Huber': 0.131988028979756, 'w_GradientBoost': 0.39465755719475354, 'w_RandomForest_L2': 0.3750888414228396}. Best is trial 42 with value: 0.49443492003267586.\n",
      "[I 2025-07-23 09:43:30,578] Trial 101 finished with value: 0.4945690684817877 and parameters: {'w_Ridge': 0.97146355324255, 'w_BayesianRidge': 0.4576991067522852, 'w_Lasso': 0.7680834080854466, 'w_Huber': 0.0005757630294927121, 'w_GradientBoost': 0.3531281315482677, 'w_RandomForest_L2': 0.7570149704897631}. Best is trial 42 with value: 0.49443492003267586.\n",
      "[I 2025-07-23 09:43:30,615] Trial 102 finished with value: 0.49509974676201685 and parameters: {'w_Ridge': 0.9995845969928039, 'w_BayesianRidge': 0.45480912189486816, 'w_Lasso': 0.8413596497454779, 'w_Huber': 0.01841925619745885, 'w_GradientBoost': 0.3536060682318005, 'w_RandomForest_L2': 0.6285368294645524}. Best is trial 42 with value: 0.49443492003267586.\n",
      "[I 2025-07-23 09:43:30,653] Trial 103 finished with value: 0.4946379021131954 and parameters: {'w_Ridge': 0.9582911543421069, 'w_BayesianRidge': 0.4675142611237415, 'w_Lasso': 0.7601888919770665, 'w_Huber': 0.022360961055766432, 'w_GradientBoost': 0.4350920614952035, 'w_RandomForest_L2': 0.7476949829942734}. Best is trial 42 with value: 0.49443492003267586.\n",
      "[I 2025-07-23 09:43:30,685] Trial 104 finished with value: 0.49516859008351705 and parameters: {'w_Ridge': 0.9577695178311049, 'w_BayesianRidge': 0.4212099233799673, 'w_Lasso': 0.7610527209290631, 'w_Huber': 0.07834377212984035, 'w_GradientBoost': 0.4448968250751957, 'w_RandomForest_L2': 0.6821315028660448}. Best is trial 42 with value: 0.49443492003267586.\n"
     ]
    },
    {
     "name": "stderr",
     "output_type": "stream",
     "text": [
      "Best trial: 105. Best value: 0.494373:  55%|█████▍    | 109/200 [00:04<00:03, 24.91it/s]"
     ]
    },
    {
     "name": "stdout",
     "output_type": "stream",
     "text": [
      "[I 2025-07-23 09:43:30,720] Trial 105 finished with value: 0.49437349264518876 and parameters: {'w_Ridge': 0.9735601717200514, 'w_BayesianRidge': 0.4707163897454131, 'w_Lasso': 0.602371472762609, 'w_Huber': 0.0004152205972939166, 'w_GradientBoost': 0.509958111317406, 'w_RandomForest_L2': 0.8063901830898862}. Best is trial 105 with value: 0.49437349264518876.\n",
      "[I 2025-07-23 09:43:30,762] Trial 106 finished with value: 0.4948368579623346 and parameters: {'w_Ridge': 0.9756632982961901, 'w_BayesianRidge': 0.4683489449122949, 'w_Lasso': 0.6107943664367779, 'w_Huber': 0.05184905207928997, 'w_GradientBoost': 0.5035983089015876, 'w_RandomForest_L2': 0.7606091061177693}. Best is trial 105 with value: 0.49437349264518876.\n",
      "[I 2025-07-23 09:43:30,802] Trial 107 finished with value: 0.49506513397213264 and parameters: {'w_Ridge': 0.9463063111989667, 'w_BayesianRidge': 0.44011366628404397, 'w_Lasso': 0.7787846769069924, 'w_Huber': 0.09618250484355048, 'w_GradientBoost': 0.4593999667132477, 'w_RandomForest_L2': 0.8093429354893}. Best is trial 105 with value: 0.49437349264518876.\n",
      "[I 2025-07-23 09:43:30,840] Trial 108 finished with value: 0.494389289037255 and parameters: {'w_Ridge': 0.6736972537031979, 'w_BayesianRidge': 0.485190791510958, 'w_Lasso': 0.6490976490199414, 'w_Huber': 0.0029859029881440097, 'w_GradientBoost': 0.37938681711299427, 'w_RandomForest_L2': 0.7045052366841453}. Best is trial 105 with value: 0.49437349264518876.\n",
      "[I 2025-07-23 09:43:30,875] Trial 109 finished with value: 0.49479587618289617 and parameters: {'w_Ridge': 0.7396382476912197, 'w_BayesianRidge': 0.48704286955726384, 'w_Lasso': 0.6800376365977575, 'w_Huber': 0.055971582176523614, 'w_GradientBoost': 0.36978806211699394, 'w_RandomForest_L2': 0.801797707890064}. Best is trial 105 with value: 0.49437349264518876.\n"
     ]
    },
    {
     "name": "stderr",
     "output_type": "stream",
     "text": [
      "Best trial: 112. Best value: 0.494308:  57%|█████▋    | 114/200 [00:04<00:03, 23.35it/s]"
     ]
    },
    {
     "name": "stdout",
     "output_type": "stream",
     "text": [
      "[I 2025-07-23 09:43:30,914] Trial 110 finished with value: 0.499219924354432 and parameters: {'w_Ridge': 0.6651969149121987, 'w_BayesianRidge': 0.5857922070191941, 'w_Lasso': 0.6470597186531223, 'w_Huber': 0.5600782609764603, 'w_GradientBoost': 0.28994535454630144, 'w_RandomForest_L2': 0.7102583961042318}. Best is trial 105 with value: 0.49437349264518876.\n",
      "[I 2025-07-23 09:43:30,961] Trial 111 finished with value: 0.49431946620359346 and parameters: {'w_Ridge': 0.6247943173266538, 'w_BayesianRidge': 0.5104869849149509, 'w_Lasso': 0.5524874339310315, 'w_Huber': 0.0013754361975797786, 'w_GradientBoost': 0.40936559371729553, 'w_RandomForest_L2': 0.7394190893301101}. Best is trial 111 with value: 0.49431946620359346.\n",
      "[I 2025-07-23 09:43:31,014] Trial 112 finished with value: 0.49430771207824636 and parameters: {'w_Ridge': 0.6254067503644298, 'w_BayesianRidge': 0.46281954516573326, 'w_Lasso': 0.5758750783486047, 'w_Huber': 0.0009766147600368267, 'w_GradientBoost': 0.34045525945590716, 'w_RandomForest_L2': 0.735559387068366}. Best is trial 112 with value: 0.49430771207824636.\n",
      "[I 2025-07-23 09:43:31,067] Trial 113 finished with value: 0.4945187711923126 and parameters: {'w_Ridge': 0.6066415586798319, 'w_BayesianRidge': 0.46300647641541665, 'w_Lasso': 0.5532511365981799, 'w_Huber': 0.02702093219444945, 'w_GradientBoost': 0.38665567733795825, 'w_RandomForest_L2': 0.7372847530571002}. Best is trial 112 with value: 0.49430771207824636.\n"
     ]
    },
    {
     "name": "stderr",
     "output_type": "stream",
     "text": [
      "Best trial: 112. Best value: 0.494308:  59%|█████▉    | 118/200 [00:04<00:03, 22.62it/s]"
     ]
    },
    {
     "name": "stdout",
     "output_type": "stream",
     "text": [
      "[I 2025-07-23 09:43:31,113] Trial 114 finished with value: 0.49454786071583356 and parameters: {'w_Ridge': 0.6337046204064181, 'w_BayesianRidge': 0.5026063492967731, 'w_Lasso': 0.5394951011237673, 'w_Huber': 0.025575936867775657, 'w_GradientBoost': 0.3874585041114459, 'w_RandomForest_L2': 0.7691805355534811}. Best is trial 112 with value: 0.49430771207824636.\n",
      "[I 2025-07-23 09:43:31,163] Trial 115 finished with value: 0.49500774487907995 and parameters: {'w_Ridge': 0.6129959029421934, 'w_BayesianRidge': 0.5082398156691413, 'w_Lasso': 0.5614050180072059, 'w_Huber': 0.07378788214700994, 'w_GradientBoost': 0.3330395010220384, 'w_RandomForest_L2': 0.7874793102089507}. Best is trial 112 with value: 0.49430771207824636.\n",
      "[I 2025-07-23 09:43:31,210] Trial 116 finished with value: 0.4946943762133563 and parameters: {'w_Ridge': 0.5823450786190326, 'w_BayesianRidge': 0.5456421276261708, 'w_Lasso': 0.5201992341034785, 'w_Huber': 0.03772387603382757, 'w_GradientBoost': 0.3915433771644468, 'w_RandomForest_L2': 0.7693974364262575}. Best is trial 112 with value: 0.49430771207824636.\n",
      "[I 2025-07-23 09:43:31,252] Trial 117 finished with value: 0.49571503045020454 and parameters: {'w_Ridge': 0.5029870662881227, 'w_BayesianRidge': 0.45094550387523474, 'w_Lasso': 0.5886549223123042, 'w_Huber': 0.05339718346582603, 'w_GradientBoost': 0.3591626996060537, 'w_RandomForest_L2': 0.822356500117617}. Best is trial 112 with value: 0.49430771207824636.\n",
      "[I 2025-07-23 09:43:31,283] Trial 118 finished with value: 0.49724295574456967 and parameters: {'w_Ridge': 0.5846913964061788, 'w_BayesianRidge': 0.48251904378991683, 'w_Lasso': 0.46436655369840146, 'w_Huber': 0.32777493884184083, 'w_GradientBoost': 0.4065306162970611, 'w_RandomForest_L2': 0.7947159451303455}. Best is trial 112 with value: 0.49430771207824636.\n"
     ]
    },
    {
     "name": "stderr",
     "output_type": "stream",
     "text": [
      "Best trial: 112. Best value: 0.494308:  62%|██████▏   | 123/200 [00:04<00:03, 23.70it/s]"
     ]
    },
    {
     "name": "stdout",
     "output_type": "stream",
     "text": [
      "[I 2025-07-23 09:43:31,321] Trial 119 finished with value: 0.4946550706695609 and parameters: {'w_Ridge': 0.6808818966395822, 'w_BayesianRidge': 0.569590522419458, 'w_Lasso': 0.5453244410215968, 'w_Huber': 0.022113742764223187, 'w_GradientBoost': 0.37536028341697447, 'w_RandomForest_L2': 0.7424156153503425}. Best is trial 112 with value: 0.49430771207824636.\n",
      "[I 2025-07-23 09:43:31,367] Trial 120 finished with value: 0.5011955339659918 and parameters: {'w_Ridge': 0.6329317289160343, 'w_BayesianRidge': 0.6143348719719322, 'w_Lasso': 0.5850624281892349, 'w_Huber': 0.0007654560388977889, 'w_GradientBoost': 0.3420997476790763, 'w_RandomForest_L2': 0.0015448237084881855}. Best is trial 112 with value: 0.49430771207824636.\n",
      "[I 2025-07-23 09:43:31,410] Trial 121 finished with value: 0.4944866693867104 and parameters: {'w_Ridge': 0.5479824892297345, 'w_BayesianRidge': 0.4641024568462997, 'w_Lasso': 0.5392449728193568, 'w_Huber': 0.02080397321018932, 'w_GradientBoost': 0.314647995169564, 'w_RandomForest_L2': 0.7568742629036342}. Best is trial 112 with value: 0.49430771207824636.\n",
      "[I 2025-07-23 09:43:31,449] Trial 122 finished with value: 0.49464512719455395 and parameters: {'w_Ridge': 0.5292408496824301, 'w_BayesianRidge': 0.5002309636775009, 'w_Lasso': 0.5360380459880294, 'w_Huber': 0.03460726731419493, 'w_GradientBoost': 0.3179765240148306, 'w_RandomForest_L2': 0.7661475104467379}. Best is trial 112 with value: 0.49430771207824636.\n",
      "[I 2025-07-23 09:43:31,486] Trial 123 finished with value: 0.4952527794054179 and parameters: {'w_Ridge': 0.5579978799989491, 'w_BayesianRidge': 0.408429617827094, 'w_Lasso': 0.6267711838164657, 'w_Huber': 0.09459334201915107, 'w_GradientBoost': 0.293758253986974, 'w_RandomForest_L2': 0.7043352820722467}. Best is trial 112 with value: 0.49430771207824636.\n"
     ]
    },
    {
     "name": "stderr",
     "output_type": "stream",
     "text": [
      "Best trial: 112. Best value: 0.494308:  64%|██████▍   | 129/200 [00:04<00:02, 23.97it/s]"
     ]
    },
    {
     "name": "stdout",
     "output_type": "stream",
     "text": [
      "[I 2025-07-23 09:43:31,528] Trial 124 finished with value: 0.49491871517070507 and parameters: {'w_Ridge': 0.6298973383706477, 'w_BayesianRidge': 0.42939999867201517, 'w_Lasso': 0.4832122228911572, 'w_Huber': 0.0662819984082006, 'w_GradientBoost': 0.40993941694146613, 'w_RandomForest_L2': 0.7286811944281251}. Best is trial 112 with value: 0.49430771207824636.\n",
      "[I 2025-07-23 09:43:31,572] Trial 125 finished with value: 0.4944739895888737 and parameters: {'w_Ridge': 0.4818255707948055, 'w_BayesianRidge': 0.4696801703818424, 'w_Lasso': 0.47528379499362383, 'w_Huber': 0.01760087480840297, 'w_GradientBoost': 0.35886953434039304, 'w_RandomForest_L2': 0.6744039951827214}. Best is trial 112 with value: 0.49430771207824636.\n",
      "[I 2025-07-23 09:43:31,614] Trial 126 finished with value: 0.49480816538879235 and parameters: {'w_Ridge': 0.48834107498617774, 'w_BayesianRidge': 0.453381985198919, 'w_Lasso': 0.452305463267611, 'w_Huber': 0.04700641436637057, 'w_GradientBoost': 0.3532851505851763, 'w_RandomForest_L2': 0.6600596305823482}. Best is trial 112 with value: 0.49430771207824636.\n",
      "[I 2025-07-23 09:43:31,657] Trial 127 finished with value: 0.494384014399828 and parameters: {'w_Ridge': 0.4095366269705298, 'w_BayesianRidge': 0.5401552411313824, 'w_Lasso': 0.570469113959265, 'w_Huber': 0.0013429605569096267, 'w_GradientBoost': 0.309670758987426, 'w_RandomForest_L2': 0.6768785564229813}. Best is trial 112 with value: 0.49430771207824636.\n",
      "[I 2025-07-23 09:43:31,696] Trial 128 finished with value: 0.4944595210217984 and parameters: {'w_Ridge': 0.4096873978128539, 'w_BayesianRidge': 0.5391414175675444, 'w_Lasso': 0.41841219512852496, 'w_Huber': 0.004392941942161381, 'w_GradientBoost': 0.3073841074448703, 'w_RandomForest_L2': 0.6869637282331834}. Best is trial 112 with value: 0.49430771207824636.\n"
     ]
    },
    {
     "name": "stderr",
     "output_type": "stream",
     "text": [
      "Best trial: 112. Best value: 0.494308:  66%|██████▌   | 132/200 [00:05<00:03, 21.53it/s]"
     ]
    },
    {
     "name": "stdout",
     "output_type": "stream",
     "text": [
      "[I 2025-07-23 09:43:31,751] Trial 129 finished with value: 0.5015869752728316 and parameters: {'w_Ridge': 0.37573382616300577, 'w_BayesianRidge': 0.5420228869723686, 'w_Lasso': 0.4920732394696293, 'w_Huber': 0.7685467590852162, 'w_GradientBoost': 0.2904277764375506, 'w_RandomForest_L2': 0.6163628693127445}. Best is trial 112 with value: 0.49430771207824636.\n",
      "[I 2025-07-23 09:43:31,814] Trial 130 finished with value: 0.4949082997340488 and parameters: {'w_Ridge': 0.4035496381475212, 'w_BayesianRidge': 0.5164657582634974, 'w_Lasso': 0.5783123314633933, 'w_Huber': 0.040913093252525096, 'w_GradientBoost': 0.3066155545789231, 'w_RandomForest_L2': 0.5826956161591306}. Best is trial 112 with value: 0.49430771207824636.\n",
      "[I 2025-07-23 09:43:31,859] Trial 131 finished with value: 0.4945863058240801 and parameters: {'w_Ridge': 0.4321080309277173, 'w_BayesianRidge': 0.6633373500503339, 'w_Lasso': 0.42742290724393206, 'w_Huber': 0.0014770832383691997, 'w_GradientBoost': 0.3262973162016856, 'w_RandomForest_L2': 0.7031809719308247}. Best is trial 112 with value: 0.49430771207824636.\n",
      "[I 2025-07-23 09:43:31,922] Trial 132 finished with value: 0.4946207533785076 and parameters: {'w_Ridge': 0.45030692124087285, 'w_BayesianRidge': 0.48149643431668615, 'w_Lasso': 0.3760694573383836, 'w_Huber': 0.0005228219418872125, 'w_GradientBoost': 0.3779912839285794, 'w_RandomForest_L2': 0.6776077993592786}. Best is trial 112 with value: 0.49430771207824636.\n"
     ]
    },
    {
     "name": "stderr",
     "output_type": "stream",
     "text": [
      "Best trial: 112. Best value: 0.494308:  69%|██████▉   | 138/200 [00:05<00:02, 21.74it/s]"
     ]
    },
    {
     "name": "stdout",
     "output_type": "stream",
     "text": [
      "[I 2025-07-23 09:43:31,966] Trial 133 finished with value: 0.49481272256283815 and parameters: {'w_Ridge': 0.5277649142231694, 'w_BayesianRidge': 0.5081890045209481, 'w_Lasso': 0.5362616896618749, 'w_Huber': 0.023526934101109318, 'w_GradientBoost': 0.22853481709835546, 'w_RandomForest_L2': 0.6512757177519378}. Best is trial 112 with value: 0.49430771207824636.\n",
      "[I 2025-07-23 09:43:32,017] Trial 134 finished with value: 0.5011813193409096 and parameters: {'w_Ridge': 0.35034415391543505, 'w_BayesianRidge': 0.5697529045321212, 'w_Lasso': 0.38745220531986135, 'w_Huber': 0.06018731448675257, 'w_GradientBoost': 0.274967917590165, 'w_RandomForest_L2': 0.03893072413013421}. Best is trial 112 with value: 0.49430771207824636.\n",
      "[I 2025-07-23 09:43:32,063] Trial 135 finished with value: 0.4947382788861393 and parameters: {'w_Ridge': 0.4811669611098949, 'w_BayesianRidge': 0.5965688561806566, 'w_Lasso': 0.6042626201806119, 'w_Huber': 0.032401725023956086, 'w_GradientBoost': 0.3442171620993984, 'w_RandomForest_L2': 0.6848878978654643}. Best is trial 112 with value: 0.49430771207824636.\n",
      "[I 2025-07-23 09:43:32,107] Trial 136 finished with value: 0.4951783515760268 and parameters: {'w_Ridge': 0.5930307327451767, 'w_BayesianRidge': 0.5364636977880608, 'w_Lasso': 0.5073617578271502, 'w_Huber': 0.07931217818794908, 'w_GradientBoost': 0.3147231962474183, 'w_RandomForest_L2': 0.7587742588694049}. Best is trial 112 with value: 0.49430771207824636.\n",
      "[I 2025-07-23 09:43:32,149] Trial 137 finished with value: 0.4966459587341633 and parameters: {'w_Ridge': 0.41233454957810406, 'w_BayesianRidge': 0.46981792326737554, 'w_Lasso': 0.5744280328568068, 'w_Huber': 0.018262729786379512, 'w_GradientBoost': 0.38399979488713415, 'w_RandomForest_L2': 0.8321030370361873}. Best is trial 112 with value: 0.49430771207824636.\n"
     ]
    },
    {
     "name": "stderr",
     "output_type": "stream",
     "text": [
      "Best trial: 112. Best value: 0.494308:  70%|███████   | 141/200 [00:05<00:02, 20.77it/s]"
     ]
    },
    {
     "name": "stdout",
     "output_type": "stream",
     "text": [
      "[I 2025-07-23 09:43:32,204] Trial 138 finished with value: 0.49433860087352155 and parameters: {'w_Ridge': 0.5415786363844114, 'w_BayesianRidge': 0.49624463574053757, 'w_Lasso': 0.47474545896598747, 'w_Huber': 0.0006250290968615796, 'w_GradientBoost': 0.3608500770908139, 'w_RandomForest_L2': 0.7164670083715549}. Best is trial 112 with value: 0.49430771207824636.\n",
      "[I 2025-07-23 09:43:32,259] Trial 139 finished with value: 0.4949028128882351 and parameters: {'w_Ridge': 0.5551111032953037, 'w_BayesianRidge': 0.49391572765980407, 'w_Lasso': 0.4653648115816986, 'w_Huber': 0.042251074485279254, 'w_GradientBoost': 0.26475873430364916, 'w_RandomForest_L2': 0.7117880139549102}. Best is trial 112 with value: 0.49430771207824636.\n",
      "[I 2025-07-23 09:43:32,306] Trial 140 finished with value: 0.49567973086647255 and parameters: {'w_Ridge': 0.6190159535039804, 'w_BayesianRidge': 0.5460198349958008, 'w_Lasso': 0.40089909988769495, 'w_Huber': 0.11651992935644723, 'w_GradientBoost': 0.4004894959978915, 'w_RandomForest_L2': 0.7375272335153509}. Best is trial 112 with value: 0.49430771207824636.\n",
      "[I 2025-07-23 09:43:32,346] Trial 141 finished with value: 0.49574402546873825 and parameters: {'w_Ridge': 0.45774798774321385, 'w_BayesianRidge': 0.44348059746399665, 'w_Lasso': 0.5490241260907622, 'w_Huber': 0.0006109455942115158, 'w_GradientBoost': 0.36888192696435446, 'w_RandomForest_L2': 0.7756779274083088}. Best is trial 112 with value: 0.49430771207824636.\n"
     ]
    },
    {
     "name": "stderr",
     "output_type": "stream",
     "text": [
      "Best trial: 112. Best value: 0.494308:  74%|███████▎  | 147/200 [00:05<00:02, 22.95it/s]"
     ]
    },
    {
     "name": "stdout",
     "output_type": "stream",
     "text": [
      "[I 2025-07-23 09:43:32,388] Trial 142 finished with value: 0.49535333294000816 and parameters: {'w_Ridge': 0.3214235590343915, 'w_BayesianRidge': 0.5089665381654359, 'w_Lasso': 0.5194475981877977, 'w_Huber': 0.019890769184396653, 'w_GradientBoost': 0.33889257972825, 'w_RandomForest_L2': 0.6678761005848465}. Best is trial 112 with value: 0.49430771207824636.\n",
      "[I 2025-07-23 09:43:32,430] Trial 143 finished with value: 0.49476870105534615 and parameters: {'w_Ridge': 0.5420018424317151, 'w_BayesianRidge': 0.46010543486338873, 'w_Lasso': 0.6350385862561773, 'w_Huber': 0.050102285812068506, 'w_GradientBoost': 0.3588298678200465, 'w_RandomForest_L2': 0.7522822210309716}. Best is trial 112 with value: 0.49430771207824636.\n",
      "[I 2025-07-23 09:43:32,470] Trial 144 finished with value: 0.49472067975615736 and parameters: {'w_Ridge': 0.6456855259443481, 'w_BayesianRidge': 0.5264899382550564, 'w_Lasso': 0.48738957800226557, 'w_Huber': 0.02018655231347575, 'w_GradientBoost': 0.3126061282779536, 'w_RandomForest_L2': 0.6924348715706662}. Best is trial 112 with value: 0.49430771207824636.\n",
      "[I 2025-07-23 09:43:32,507] Trial 145 finished with value: 0.494924627324065 and parameters: {'w_Ridge': 0.573063295829862, 'w_BayesianRidge': 0.4855951007659028, 'w_Lasso': 0.5661434923941773, 'w_Huber': 0.06929492351540396, 'w_GradientBoost': 0.40301897837983774, 'w_RandomForest_L2': 0.7198533342964784}. Best is trial 112 with value: 0.49430771207824636.\n",
      "[I 2025-07-23 09:43:32,542] Trial 146 finished with value: 0.49559033668392616 and parameters: {'w_Ridge': 0.4726792155930125, 'w_BayesianRidge': 0.432436477871621, 'w_Lasso': 0.4364765390088593, 'w_Huber': 0.001934722185583299, 'w_GradientBoost': 0.3278072401949439, 'w_RandomForest_L2': 0.7879258554285502}. Best is trial 112 with value: 0.49430771207824636.\n"
     ]
    },
    {
     "name": "stderr",
     "output_type": "stream",
     "text": [
      "Best trial: 112. Best value: 0.494308:  75%|███████▌  | 150/200 [00:05<00:02, 21.56it/s]"
     ]
    },
    {
     "name": "stdout",
     "output_type": "stream",
     "text": [
      "[I 2025-07-23 09:43:32,591] Trial 147 finished with value: 0.4947458674507554 and parameters: {'w_Ridge': 0.6019114891504346, 'w_BayesianRidge': 0.5552408164926689, 'w_Lasso': 0.5303843253705799, 'w_Huber': 0.03468109315122119, 'w_GradientBoost': 0.4737386633082492, 'w_RandomForest_L2': 0.6400106625953321}. Best is trial 112 with value: 0.49430771207824636.\n",
      "[I 2025-07-23 09:43:32,651] Trial 148 finished with value: 0.4969411958816942 and parameters: {'w_Ridge': 0.417478342455709, 'w_BayesianRidge': 0.408843919233024, 'w_Lasso': 0.5973531400042889, 'w_Huber': 0.054927168072615204, 'w_GradientBoost': 0.36191465105367404, 'w_RandomForest_L2': 0.8034063124244152}. Best is trial 112 with value: 0.49430771207824636.\n",
      "[I 2025-07-23 09:43:32,700] Trial 149 finished with value: 0.49571160244153384 and parameters: {'w_Ridge': 0.3613784819237227, 'w_BayesianRidge': 0.47322253639555084, 'w_Lasso': 0.5046739944322757, 'w_Huber': 0.018351350130255698, 'w_GradientBoost': 0.2774409283108301, 'w_RandomForest_L2': 0.7463834592310635}. Best is trial 112 with value: 0.49430771207824636.\n",
      "[I 2025-07-23 09:43:32,751] Trial 150 finished with value: 0.49434756965021254 and parameters: {'w_Ridge': 0.5635062274486236, 'w_BayesianRidge': 0.509343673089292, 'w_Lasso': 0.655487567665805, 'w_Huber': 9.114307608738175e-05, 'w_GradientBoost': 0.38990296562152965, 'w_RandomForest_L2': 0.7222649180696863}. Best is trial 112 with value: 0.49430771207824636.\n"
     ]
    },
    {
     "name": "stderr",
     "output_type": "stream",
     "text": [
      "Best trial: 151. Best value: 0.494276:  77%|███████▋  | 154/200 [00:06<00:02, 21.48it/s]"
     ]
    },
    {
     "name": "stdout",
     "output_type": "stream",
     "text": [
      "[I 2025-07-23 09:43:32,794] Trial 151 finished with value: 0.4942762222362204 and parameters: {'w_Ridge': 0.5298134092620965, 'w_BayesianRidge': 0.5022895812180852, 'w_Lasso': 0.5647119106353152, 'w_Huber': 0.00016198739946701892, 'w_GradientBoost': 0.38627656337950456, 'w_RandomForest_L2': 0.7200954510246894}. Best is trial 151 with value: 0.4942762222362204.\n",
      "[I 2025-07-23 09:43:32,840] Trial 152 finished with value: 0.4946684725473605 and parameters: {'w_Ridge': 0.5158100503031482, 'w_BayesianRidge': 0.5137337204444254, 'w_Lasso': 0.6604940139302825, 'w_Huber': 0.03153220548066546, 'w_GradientBoost': 0.42463829495126404, 'w_RandomForest_L2': 0.7162958064403417}. Best is trial 151 with value: 0.4942762222362204.\n",
      "[I 2025-07-23 09:43:32,899] Trial 153 finished with value: 0.4945135825379178 and parameters: {'w_Ridge': 0.5566196939027604, 'w_BayesianRidge': 0.49535850716945584, 'w_Lasso': 0.6170510010080106, 'w_Huber': 0.018691974612685527, 'w_GradientBoost': 0.38908160618926546, 'w_RandomForest_L2': 0.6693456854001117}. Best is trial 151 with value: 0.4942762222362204.\n",
      "[I 2025-07-23 09:43:32,958] Trial 154 finished with value: 0.494716464621041 and parameters: {'w_Ridge': 0.5447433046007658, 'w_BayesianRidge': 0.4948348523792978, 'w_Lasso': 0.6210021204857041, 'w_Huber': 0.04203663184086391, 'w_GradientBoost': 0.392776009307449, 'w_RandomForest_L2': 0.6801843741195257}. Best is trial 151 with value: 0.4942762222362204.\n"
     ]
    },
    {
     "name": "stderr",
     "output_type": "stream",
     "text": [
      "Best trial: 151. Best value: 0.494276:  78%|███████▊  | 157/200 [00:06<00:02, 19.86it/s]"
     ]
    },
    {
     "name": "stdout",
     "output_type": "stream",
     "text": [
      "[I 2025-07-23 09:43:33,018] Trial 155 finished with value: 0.4951730318327461 and parameters: {'w_Ridge': 0.5723975751198399, 'w_BayesianRidge': 0.5318259836523828, 'w_Lasso': 0.553487475057778, 'w_Huber': 0.0740108515152945, 'w_GradientBoost': 0.3769445415208978, 'w_RandomForest_L2': 0.6237837152592776}. Best is trial 151 with value: 0.4942762222362204.\n",
      "[I 2025-07-23 09:43:33,090] Trial 156 finished with value: 0.4946141639385721 and parameters: {'w_Ridge': 0.5156016213563227, 'w_BayesianRidge': 0.49877089656666274, 'w_Lasso': 0.6060565854724744, 'w_Huber': 0.019116543393226246, 'w_GradientBoost': 0.29937724476685856, 'w_RandomForest_L2': 0.6587870357731729}. Best is trial 151 with value: 0.4942762222362204.\n",
      "[I 2025-07-23 09:43:33,148] Trial 157 finished with value: 0.49488364249550304 and parameters: {'w_Ridge': 0.60054079388499, 'w_BayesianRidge': 0.4800319647733018, 'w_Lasso': 0.6503712014811998, 'w_Huber': 0.05398350602939273, 'w_GradientBoost': 0.33729888310383865, 'w_RandomForest_L2': 0.6952487507665882}. Best is trial 151 with value: 0.4942762222362204.\n"
     ]
    },
    {
     "name": "stderr",
     "output_type": "stream",
     "text": [
      "Best trial: 151. Best value: 0.494276:  80%|████████  | 161/200 [00:06<00:02, 17.53it/s]"
     ]
    },
    {
     "name": "stdout",
     "output_type": "stream",
     "text": [
      "[I 2025-07-23 09:43:33,208] Trial 158 finished with value: 0.4945631385241482 and parameters: {'w_Ridge': 0.49160864957378886, 'w_BayesianRidge': 0.5205461623760005, 'w_Lasso': 0.5781979719539613, 'w_Huber': 0.028810653288478275, 'w_GradientBoost': 0.3884081606409066, 'w_RandomForest_L2': 0.7284246605702098}. Best is trial 151 with value: 0.4942762222362204.\n",
      "[I 2025-07-23 09:43:33,282] Trial 159 finished with value: 0.495187999402923 and parameters: {'w_Ridge': 0.5671778377020256, 'w_BayesianRidge': 0.44624684766490613, 'w_Lasso': 0.4728727413569779, 'w_Huber': 0.09201087965799705, 'w_GradientBoost': 0.4244298029915633, 'w_RandomForest_L2': 0.6981198044809451}. Best is trial 151 with value: 0.4942762222362204.\n",
      "[I 2025-07-23 09:43:33,337] Trial 160 finished with value: 0.49498385053409966 and parameters: {'w_Ridge': 0.6342290156514675, 'w_BayesianRidge': 0.587301237828534, 'w_Lasso': 0.35578608881385443, 'w_Huber': 0.01673992689429394, 'w_GradientBoost': 0.3641093053219365, 'w_RandomForest_L2': 0.6760796371849438}. Best is trial 151 with value: 0.4942762222362204.\n"
     ]
    },
    {
     "name": "stderr",
     "output_type": "stream",
     "text": [
      "Best trial: 151. Best value: 0.494276:  82%|████████▏ | 164/200 [00:06<00:02, 17.84it/s]"
     ]
    },
    {
     "name": "stdout",
     "output_type": "stream",
     "text": [
      "[I 2025-07-23 09:43:33,392] Trial 161 finished with value: 0.4945887744693273 and parameters: {'w_Ridge': 0.49318825577573544, 'w_BayesianRidge': 0.5159376527731093, 'w_Lasso': 0.5726673656497135, 'w_Huber': 0.03203095893976446, 'w_GradientBoost': 0.3953449366218141, 'w_RandomForest_L2': 0.7263137338465309}. Best is trial 151 with value: 0.4942762222362204.\n",
      "[I 2025-07-23 09:43:33,443] Trial 162 finished with value: 0.49483373733436853 and parameters: {'w_Ridge': 0.43585559486911096, 'w_BayesianRidge': 0.5404818894622951, 'w_Lasso': 0.5972046799121213, 'w_Huber': 0.03459063601852641, 'w_GradientBoost': 0.3863696877162138, 'w_RandomForest_L2': 0.7331151465934946}. Best is trial 151 with value: 0.4942762222362204.\n",
      "[I 2025-07-23 09:43:33,499] Trial 163 finished with value: 0.49445018034498045 and parameters: {'w_Ridge': 0.5310304598653736, 'w_BayesianRidge': 0.46768942025711663, 'w_Lasso': 0.5503318402623658, 'w_Huber': 0.0023191306813047253, 'w_GradientBoost': 0.4122725745012473, 'w_RandomForest_L2': 0.715151108901491}. Best is trial 151 with value: 0.4942762222362204.\n",
      "[I 2025-07-23 09:43:33,550] Trial 164 finished with value: 0.49500273744044276 and parameters: {'w_Ridge': 0.5306985127374865, 'w_BayesianRidge': 0.4700339488985929, 'w_Lasso': 0.5524290871181952, 'w_Huber': 0.004549590297014985, 'w_GradientBoost': 0.4166613325178473, 'w_RandomForest_L2': 0.7738011786055089}. Best is trial 151 with value: 0.4942762222362204.\n"
     ]
    },
    {
     "name": "stderr",
     "output_type": "stream",
     "text": [
      "Best trial: 167. Best value: 0.494268:  84%|████████▍ | 168/200 [00:06<00:01, 18.67it/s]"
     ]
    },
    {
     "name": "stdout",
     "output_type": "stream",
     "text": [
      "[I 2025-07-23 09:43:33,599] Trial 165 finished with value: 0.49562574726345077 and parameters: {'w_Ridge': 0.5479863147864664, 'w_BayesianRidge': 0.49211024974068857, 'w_Lasso': 0.6276282664792422, 'w_Huber': 0.054744787137623534, 'w_GradientBoost': 0.3396307170764334, 'w_RandomForest_L2': 0.41545035374272815}. Best is trial 151 with value: 0.4942762222362204.\n",
      "[I 2025-07-23 09:43:33,660] Trial 166 finished with value: 0.4944014322073834 and parameters: {'w_Ridge': 0.5869826605763988, 'w_BayesianRidge': 0.42750477349011684, 'w_Lasso': 0.5046599263255923, 'w_Huber': 0.016667932099805837, 'w_GradientBoost': 0.4074621285185006, 'w_RandomForest_L2': 0.7096295639835113}. Best is trial 151 with value: 0.4942762222362204.\n",
      "[I 2025-07-23 09:43:33,699] Trial 167 finished with value: 0.4942678339587447 and parameters: {'w_Ridge': 0.5764689030174839, 'w_BayesianRidge': 0.4270018042367184, 'w_Lasso': 0.512019457966118, 'w_Huber': 0.0012035276211325163, 'w_GradientBoost': 0.4474809727656154, 'w_RandomForest_L2': 0.6503841943525456}. Best is trial 167 with value: 0.4942678339587447.\n",
      "[I 2025-07-23 09:43:33,752] Trial 168 finished with value: 0.4949042286969688 and parameters: {'w_Ridge': 0.5182248315582499, 'w_BayesianRidge': 0.4185244705476697, 'w_Lasso': 0.4414994735229662, 'w_Huber': 0.002217792971765435, 'w_GradientBoost': 0.4793758063536176, 'w_RandomForest_L2': 0.6454587336185088}. Best is trial 167 with value: 0.4942678339587447.\n"
     ]
    },
    {
     "name": "stderr",
     "output_type": "stream",
     "text": [
      "Best trial: 167. Best value: 0.494268:  86%|████████▌ | 172/200 [00:07<00:01, 19.44it/s]"
     ]
    },
    {
     "name": "stdout",
     "output_type": "stream",
     "text": [
      "[I 2025-07-23 09:43:33,790] Trial 169 finished with value: 0.4950369984843884 and parameters: {'w_Ridge': 0.5706714913876271, 'w_BayesianRidge': 0.42860706025433226, 'w_Lasso': 0.40815103174196854, 'w_Huber': 0.06580303825139339, 'w_GradientBoost': 0.4443877344363175, 'w_RandomForest_L2': 0.6576254959997568}. Best is trial 167 with value: 0.4942678339587447.\n",
      "[I 2025-07-23 09:43:33,846] Trial 170 finished with value: 0.4947189796288266 and parameters: {'w_Ridge': 0.5882896386424973, 'w_BayesianRidge': 0.3869750808918524, 'w_Lasso': 0.504871672961378, 'w_Huber': 0.0018983572181761929, 'w_GradientBoost': 0.459736383242776, 'w_RandomForest_L2': 0.6913148644881195}. Best is trial 167 with value: 0.4942678339587447.\n",
      "[I 2025-07-23 09:43:33,886] Trial 171 finished with value: 0.494438570532793 and parameters: {'w_Ridge': 0.610948276502689, 'w_BayesianRidge': 0.45615547649425625, 'w_Lasso': 0.5222697978921922, 'w_Huber': 0.016675967847994768, 'w_GradientBoost': 0.4045857617518226, 'w_RandomForest_L2': 0.7038889553745689}. Best is trial 167 with value: 0.4942678339587447.\n",
      "[I 2025-07-23 09:43:33,934] Trial 172 finished with value: 0.49443026688715674 and parameters: {'w_Ridge': 0.5458861725964981, 'w_BayesianRidge': 0.4407435954948731, 'w_Lasso': 0.523326977791377, 'w_Huber': 0.017164955496041374, 'w_GradientBoost': 0.4134938969755906, 'w_RandomForest_L2': 0.6970697221298459}. Best is trial 167 with value: 0.4942678339587447.\n"
     ]
    },
    {
     "name": "stderr",
     "output_type": "stream",
     "text": [
      "Best trial: 167. Best value: 0.494268:  88%|████████▊ | 177/200 [00:07<00:01, 20.31it/s]"
     ]
    },
    {
     "name": "stdout",
     "output_type": "stream",
     "text": [
      "[I 2025-07-23 09:43:33,986] Trial 173 finished with value: 0.49531305747032073 and parameters: {'w_Ridge': 0.46527331038757663, 'w_BayesianRidge': 0.44087328057849384, 'w_Lasso': 0.5207852559501249, 'w_Huber': 0.0008215469485936065, 'w_GradientBoost': 0.4115565022455275, 'w_RandomForest_L2': 0.7092731667331039}. Best is trial 167 with value: 0.4942678339587447.\n",
      "[I 2025-07-23 09:43:34,032] Trial 174 finished with value: 0.4949995806954086 and parameters: {'w_Ridge': 0.5336612581786153, 'w_BayesianRidge': 0.41733509981673345, 'w_Lasso': 0.4925719098965816, 'w_Huber': 0.041164594279737975, 'w_GradientBoost': 0.43584940403311756, 'w_RandomForest_L2': 0.6979814942950862}. Best is trial 167 with value: 0.4942678339587447.\n",
      "[I 2025-07-23 09:43:34,085] Trial 175 finished with value: 0.49476568970073453 and parameters: {'w_Ridge': 0.665764523234481, 'w_BayesianRidge': 0.4538014626493282, 'w_Lasso': 0.4796816875950927, 'w_Huber': 0.04441273440459533, 'w_GradientBoost': 0.41434847007336073, 'w_RandomForest_L2': 0.7147979112182399}. Best is trial 167 with value: 0.4942678339587447.\n",
      "[I 2025-07-23 09:43:34,131] Trial 176 finished with value: 0.4944118389913095 and parameters: {'w_Ridge': 0.585080067560524, 'w_BayesianRidge': 0.3952509245892705, 'w_Lasso': 0.5266726510466506, 'w_Huber': 0.01790334082608336, 'w_GradientBoost': 0.36363938813318564, 'w_RandomForest_L2': 0.6815989280961312}. Best is trial 167 with value: 0.4942678339587447.\n"
     ]
    },
    {
     "name": "stderr",
     "output_type": "stream",
     "text": [
      "Best trial: 167. Best value: 0.494268:  90%|█████████ | 181/200 [00:07<00:00, 21.17it/s]"
     ]
    },
    {
     "name": "stdout",
     "output_type": "stream",
     "text": [
      "[I 2025-07-23 09:43:34,169] Trial 177 finished with value: 0.4944668470573127 and parameters: {'w_Ridge': 0.5919828698138078, 'w_BayesianRidge': 0.3721762249942872, 'w_Lasso': 0.45088657505882956, 'w_Huber': 0.020794047290554243, 'w_GradientBoost': 0.36728016210350334, 'w_RandomForest_L2': 0.6733169962338803}. Best is trial 167 with value: 0.4942678339587447.\n",
      "[I 2025-07-23 09:43:34,216] Trial 178 finished with value: 0.4950055429386978 and parameters: {'w_Ridge': 0.5880913721910865, 'w_BayesianRidge': 0.4129271183817243, 'w_Lasso': 0.41290747418501883, 'w_Huber': 0.053674711387324256, 'w_GradientBoost': 0.35939471312316573, 'w_RandomForest_L2': 0.592126616398003}. Best is trial 167 with value: 0.4942678339587447.\n",
      "[I 2025-07-23 09:43:34,261] Trial 179 finished with value: 0.49506493503179716 and parameters: {'w_Ridge': 0.6188820068653134, 'w_BayesianRidge': 0.3700497215090998, 'w_Lasso': 0.45889231678283593, 'w_Huber': 0.07687476624217937, 'w_GradientBoost': 0.43412425108311514, 'w_RandomForest_L2': 0.6247554063325123}. Best is trial 167 with value: 0.4942678339587447.\n",
      "[I 2025-07-23 09:43:34,297] Trial 180 finished with value: 0.4946561311841057 and parameters: {'w_Ridge': 0.6064580413980312, 'w_BayesianRidge': 0.38326749341786975, 'w_Lasso': 0.5158830532895221, 'w_Huber': 0.018218993520385144, 'w_GradientBoost': 0.4899656795619116, 'w_RandomForest_L2': 0.6709822493729227}. Best is trial 167 with value: 0.4942678339587447.\n",
      "[I 2025-07-23 09:43:34,339] Trial 181 finished with value: 0.4942809476351561 and parameters: {'w_Ridge': 0.5774895591206493, 'w_BayesianRidge': 0.4377462537146366, 'w_Lasso': 0.5011601424866646, 'w_Huber': 0.0004329818827025836, 'w_GradientBoost': 0.3699982317724198, 'w_RandomForest_L2': 0.6798148645017328}. Best is trial 167 with value: 0.4942678339587447.\n"
     ]
    },
    {
     "name": "stderr",
     "output_type": "stream",
     "text": [
      "Best trial: 183. Best value: 0.494262:  93%|█████████▎| 186/200 [00:07<00:00, 22.35it/s]"
     ]
    },
    {
     "name": "stdout",
     "output_type": "stream",
     "text": [
      "[I 2025-07-23 09:43:34,378] Trial 182 finished with value: 0.4945147657379577 and parameters: {'w_Ridge': 0.5679039177733208, 'w_BayesianRidge': 0.4030027829590262, 'w_Lasso': 0.45033116310952337, 'w_Huber': 0.02077826553033877, 'w_GradientBoost': 0.3699812128939633, 'w_RandomForest_L2': 0.635464076771393}. Best is trial 167 with value: 0.4942678339587447.\n",
      "[I 2025-07-23 09:43:34,427] Trial 183 finished with value: 0.4942624982354629 and parameters: {'w_Ridge': 0.5810511548508774, 'w_BayesianRidge': 0.432756520736882, 'w_Lasso': 0.5038100759535414, 'w_Huber': 0.0011644485554273753, 'w_GradientBoost': 0.411869786482384, 'w_RandomForest_L2': 0.6791343660820401}. Best is trial 183 with value: 0.4942624982354629.\n",
      "[I 2025-07-23 09:43:34,474] Trial 184 finished with value: 0.4942785739028318 and parameters: {'w_Ridge': 0.5870887792674616, 'w_BayesianRidge': 0.4353729355286754, 'w_Lasso': 0.4979529395269492, 'w_Huber': 0.0002247327635161757, 'w_GradientBoost': 0.41146963545568294, 'w_RandomForest_L2': 0.6531489698874875}. Best is trial 183 with value: 0.4942624982354629.\n",
      "[I 2025-07-23 09:43:34,516] Trial 185 finished with value: 0.49434408047719725 and parameters: {'w_Ridge': 0.6552293539610626, 'w_BayesianRidge': 0.4297393264968795, 'w_Lasso': 0.493299004977621, 'w_Huber': 0.0017574183598735719, 'w_GradientBoost': 0.4092902765070736, 'w_RandomForest_L2': 0.6490011259511136}. Best is trial 183 with value: 0.4942624982354629.\n",
      "[I 2025-07-23 09:43:34,551] Trial 186 finished with value: 0.49475901860300125 and parameters: {'w_Ridge': 0.7058095715192345, 'w_BayesianRidge': 0.43335181068025863, 'w_Lasso': 0.4984070132598784, 'w_Huber': 0.04213320688605812, 'w_GradientBoost': 0.4580100602008647, 'w_RandomForest_L2': 0.6485966502268965}. Best is trial 183 with value: 0.4942624982354629.\n"
     ]
    },
    {
     "name": "stderr",
     "output_type": "stream",
     "text": [
      "Best trial: 189. Best value: 0.494258:  96%|█████████▌| 191/200 [00:07<00:00, 22.25it/s]"
     ]
    },
    {
     "name": "stdout",
     "output_type": "stream",
     "text": [
      "[I 2025-07-23 09:43:34,600] Trial 187 finished with value: 0.4947894426719096 and parameters: {'w_Ridge': 0.6404811440501409, 'w_BayesianRidge': 0.4427365627792294, 'w_Lasso': 0.5360220381879317, 'w_Huber': 0.03628305760402932, 'w_GradientBoost': 0.41514660177950874, 'w_RandomForest_L2': 0.5705796316110434}. Best is trial 183 with value: 0.4942624982354629.\n",
      "[I 2025-07-23 09:43:34,649] Trial 188 finished with value: 0.4943272151640777 and parameters: {'w_Ridge': 0.6805603841809486, 'w_BayesianRidge': 0.3963867529852035, 'w_Lasso': 0.5180373608700557, 'w_Huber': 0.001023124920971237, 'w_GradientBoost': 0.405581247758883, 'w_RandomForest_L2': 0.6200847659031788}. Best is trial 183 with value: 0.4942624982354629.\n",
      "[I 2025-07-23 09:43:34,683] Trial 189 finished with value: 0.494258000503916 and parameters: {'w_Ridge': 0.6177549652121137, 'w_BayesianRidge': 0.4088901796225676, 'w_Lasso': 0.5174544450692309, 'w_Huber': 0.0002704796661375376, 'w_GradientBoost': 0.4363799894679422, 'w_RandomForest_L2': 0.6402709707671268}. Best is trial 189 with value: 0.494258000503916.\n",
      "[I 2025-07-23 09:43:34,726] Trial 190 finished with value: 0.4943199472184629 and parameters: {'w_Ridge': 0.6788110106022767, 'w_BayesianRidge': 0.39306334513651564, 'w_Lasso': 0.4973147716522603, 'w_Huber': 0.00012054619694882793, 'w_GradientBoost': 0.4397955527590144, 'w_RandomForest_L2': 0.6046211978871873}. Best is trial 189 with value: 0.494258000503916.\n",
      "[I 2025-07-23 09:43:34,775] Trial 191 finished with value: 0.49466458032216465 and parameters: {'w_Ridge': 0.6712472307705202, 'w_BayesianRidge': 0.39073373150273044, 'w_Lasso': 0.5038424921266973, 'w_Huber': 0.034900673351793615, 'w_GradientBoost': 0.4330901254651251, 'w_RandomForest_L2': 0.6079705868439069}. Best is trial 189 with value: 0.494258000503916.\n"
     ]
    },
    {
     "name": "stderr",
     "output_type": "stream",
     "text": [
      "Best trial: 189. Best value: 0.494258:  98%|█████████▊| 195/200 [00:08<00:00, 22.52it/s]"
     ]
    },
    {
     "name": "stdout",
     "output_type": "stream",
     "text": [
      "[I 2025-07-23 09:43:34,821] Trial 192 finished with value: 0.49436565166915586 and parameters: {'w_Ridge': 0.6579167870656827, 'w_BayesianRidge': 0.3943113485197928, 'w_Lasso': 0.4860448602763962, 'w_Huber': 0.006477652341374698, 'w_GradientBoost': 0.4656684217504305, 'w_RandomForest_L2': 0.6123507776178693}. Best is trial 189 with value: 0.494258000503916.\n",
      "[I 2025-07-23 09:43:34,865] Trial 193 finished with value: 0.49444729428500345 and parameters: {'w_Ridge': 0.691320753571518, 'w_BayesianRidge': 0.3992802018303711, 'w_Lasso': 0.4854280631664657, 'w_Huber': 0.003960237306160624, 'w_GradientBoost': 0.5084048866556777, 'w_RandomForest_L2': 0.560656430462411}. Best is trial 189 with value: 0.494258000503916.\n",
      "[I 2025-07-23 09:43:34,907] Trial 194 finished with value: 0.4943259734821851 and parameters: {'w_Ridge': 0.6593936868738851, 'w_BayesianRidge': 0.40522446962371794, 'w_Lasso': 0.5031568156452034, 'w_Huber': 0.0014790863512325137, 'w_GradientBoost': 0.4677961189605116, 'w_RandomForest_L2': 0.6049733892769523}. Best is trial 189 with value: 0.494258000503916.\n",
      "[I 2025-07-23 09:43:34,949] Trial 195 finished with value: 0.4942847378999118 and parameters: {'w_Ridge': 0.6560942553520753, 'w_BayesianRidge': 0.355622793516078, 'w_Lasso': 0.473958884949239, 'w_Huber': 0.0024241743354727167, 'w_GradientBoost': 0.4706555792777921, 'w_RandomForest_L2': 0.6074597226370819}. Best is trial 189 with value: 0.494258000503916.\n"
     ]
    },
    {
     "name": "stderr",
     "output_type": "stream",
     "text": [
      "Best trial: 189. Best value: 0.494258: 100%|██████████| 200/200 [00:08<00:00, 24.03it/s]\n"
     ]
    },
    {
     "name": "stdout",
     "output_type": "stream",
     "text": [
      "[I 2025-07-23 09:43:34,999] Trial 196 finished with value: 0.4942901825615282 and parameters: {'w_Ridge': 0.6560913737551578, 'w_BayesianRidge': 0.35104214796485206, 'w_Lasso': 0.4689579219785603, 'w_Huber': 0.0009387803766608769, 'w_GradientBoost': 0.46144710669337424, 'w_RandomForest_L2': 0.5831439415101272}. Best is trial 189 with value: 0.494258000503916.\n",
      "[I 2025-07-23 09:43:35,059] Trial 197 finished with value: 0.4942964282349654 and parameters: {'w_Ridge': 0.6559038645447149, 'w_BayesianRidge': 0.3563651049649467, 'w_Lasso': 0.46738243985390054, 'w_Huber': 0.0016694853101510382, 'w_GradientBoost': 0.4695562422027543, 'w_RandomForest_L2': 0.5923902469295373}. Best is trial 189 with value: 0.494258000503916.\n",
      "[I 2025-07-23 09:43:35,120] Trial 198 finished with value: 0.494736951057502 and parameters: {'w_Ridge': 0.6595975960859178, 'w_BayesianRidge': 0.3428791460517311, 'w_Lasso': 0.46368591098112005, 'w_Huber': 0.04487768027937605, 'w_GradientBoost': 0.4838068414860288, 'w_RandomForest_L2': 0.5896305285753896}. Best is trial 189 with value: 0.494258000503916.\n",
      "[I 2025-07-23 09:43:35,172] Trial 199 finished with value: 0.4943472123018632 and parameters: {'w_Ridge': 0.6517350171685858, 'w_BayesianRidge': 0.35093089928932036, 'w_Lasso': 0.4783625268872443, 'w_Huber': 0.0014401267362859553, 'w_GradientBoost': 0.47740558418499784, 'w_RandomForest_L2': 0.5384813473558422}. Best is trial 189 with value: 0.494258000503916.\n",
      "\n",
      "✅ Best MAPE: 0.494258\n",
      "🎯 Best weights:\n",
      "  w_Ridge: 0.6178\n",
      "  w_BayesianRidge: 0.4089\n",
      "  w_Lasso: 0.5175\n",
      "  w_Huber: 0.0003\n",
      "  w_GradientBoost: 0.4364\n",
      "  w_RandomForest_L2: 0.6403\n",
      "\n",
      "📊 Normalized weights:\n",
      "  w_Ridge: 0.2357\n",
      "  w_BayesianRidge: 0.1560\n",
      "  w_Lasso: 0.1974\n",
      "  w_Huber: 0.0001\n",
      "  w_GradientBoost: 0.1665\n",
      "  w_RandomForest_L2: 0.2443\n",
      "\n",
      "🎉 Final ensemble MAPE: 0.494258\n",
      "\n",
      "📊 Individual target MAPE scores:\n",
      "  BlendProperty1: 1.064794\n",
      "  BlendProperty2: 0.290959\n",
      "  BlendProperty3: 0.597203\n",
      "  BlendProperty4: 0.377930\n",
      "  BlendProperty5: 0.073795\n",
      "  BlendProperty6: 0.336849\n",
      "  BlendProperty7: 0.474689\n",
      "  BlendProperty8: 0.530460\n",
      "  BlendProperty9: 0.813467\n",
      "  BlendProperty10: 0.382434\n",
      "\n",
      "💾 Submission file saved as 'submission_xgb_level1_ensemble_top6.csv'\n",
      "\n",
      "🎯 Advanced Dynamic Ensemble Summary:\n",
      "  Level 1: 5 strong models including XGBoost: XGB, TabPFN, LGBM, RandomForest, ExtraTrees\n",
      "  Level 2: 14 traditional ML models stacking on Level 1 outputs\n",
      "  Level 3: Dynamic optimization with top 6 performers: Ridge, BayesianRidge, Lasso, Huber, GradientBoost, RandomForest_L2\n",
      "  Final MAPE: 0.494258\n",
      "  Submission saved as: submission_xgb_level1_ensemble_top6.csv\n",
      "\n",
      "📝 Installation Instructions:\n"
     ]
    }
   ],
   "source": [
    "import warnings\n",
    "warnings.filterwarnings('ignore')\n",
    "\n",
    "import pandas as pd\n",
    "import numpy as np\n",
    "from sklearn.model_selection import KFold\n",
    "from sklearn.linear_model import Ridge, Lasso, ElasticNet, BayesianRidge, HuberRegressor\n",
    "from sklearn.ensemble import RandomForestRegressor, ExtraTreesRegressor, AdaBoostRegressor, GradientBoostingRegressor, BaggingRegressor\n",
    "from sklearn.neighbors import KNeighborsRegressor\n",
    "from sklearn.svm import SVR\n",
    "from sklearn.neural_network import MLPRegressor\n",
    "from sklearn.metrics import mean_absolute_percentage_error\n",
    "import xgboost as xgb\n",
    "import lightgbm as lgb\n",
    "import optuna\n",
    "import torch\n",
    "\n",
    "# Try to import TabPFN and TabM with fallbacks\n",
    "try:\n",
    "    from tabpfn import TabPFNRegressor\n",
    "    TABPFN_AVAILABLE = True\n",
    "except ImportError:\n",
    "    print(\"⚠️  TabPFN not available. Install with: pip install tabpfn\")\n",
    "    TABPFN_AVAILABLE = False\n",
    "\n",
    "# TabM proper import - check if it's available and get the correct class\n",
    "try:\n",
    "    import tabm\n",
    "    # Try different possible imports for TabM\n",
    "    if hasattr(tabm, 'TabMRegressor'):\n",
    "        TabMRegressor = tabm.TabMRegressor\n",
    "        TABM_AVAILABLE = True\n",
    "    elif hasattr(tabm, 'TabM'):\n",
    "        TabMRegressor = tabm.TabM\n",
    "        TABM_AVAILABLE = True\n",
    "    else:\n",
    "        # Fallback: inspect the module to find available classes\n",
    "        available_attrs = [attr for attr in dir(tabm) if not attr.startswith('_')]\n",
    "        print(f\"⚠️  TabM available attributes: {available_attrs}\")\n",
    "        TABM_AVAILABLE = False\n",
    "except ImportError:\n",
    "    print(\"⚠️  TabM not available. Install from GitHub: pip install git+https://github.com/yandex-research/tabm.git\")\n",
    "    TABM_AVAILABLE = False\n",
    "\n",
    "print(\"Loading data...\")\n",
    "train = pd.read_csv('train.csv')\n",
    "test = pd.read_csv('test.csv')\n",
    "X = train.drop([f'BlendProperty{i}' for i in range(1, 11)], axis=1)\n",
    "y = train[[f'BlendProperty{i}' for i in range(1, 11)]]\n",
    "X_test = test.drop(['ID'], axis=1)\n",
    "\n",
    "kf = KFold(n_splits=5, shuffle=True)\n",
    "\n",
    "print(\"🚀 Starting Level 1 training...\")\n",
    "\n",
    "# Level 1: Advanced models as base models - ALWAYS include XGBoost\n",
    "level1_names = ['XGB']  # XGBoost is always included in Level 1\n",
    "\n",
    "# Add available advanced models to level 1\n",
    "if TABM_AVAILABLE:\n",
    "    level1_names.append('TabM')\n",
    "if TABPFN_AVAILABLE:\n",
    "    level1_names.append('TabPFN')\n",
    "\n",
    "# Add additional strong models to Level 1 for better diversity\n",
    "level1_names.extend(['LGBM', 'RandomForest', 'ExtraTrees'])\n",
    "\n",
    "print(f\"📊 Level 1 models: {', '.join(level1_names)}\")\n",
    "\n",
    "level1_oof = {name: np.zeros(y.shape) for name in level1_names}\n",
    "level1_test = {name: np.zeros((X_test.shape[0], y.shape[1])) for name in level1_names}\n",
    "\n",
    "for t in range(y.shape[1]):\n",
    "    print(f\"🎯 Training Level 1 for target BlendProperty{t+1}...\")\n",
    "    for fold, (tr_idx, val_idx) in enumerate(kf.split(X)):\n",
    "        print(f\"  Fold {fold+1}/5\")\n",
    "        X_tr, X_val = X.iloc[tr_idx], X.iloc[val_idx]\n",
    "        y_tr, y_val = y.iloc[tr_idx, t], y.iloc[val_idx, t]\n",
    "\n",
    "        # XGBoost - ALWAYS included with optimized parameters\n",
    "        xgb_model = xgb.XGBRegressor(\n",
    "            n_estimators=200,\n",
    "            max_depth=6,\n",
    "            learning_rate=0.1,\n",
    "            subsample=0.8,\n",
    "            colsample_bytree=0.8,\n",
    "            verbosity=0,\n",
    "            n_jobs=-1\n",
    "        )\n",
    "        xgb_model.fit(X_tr, y_tr)\n",
    "        level1_oof['XGB'][val_idx, t] = xgb_model.predict(X_val)\n",
    "        level1_test['XGB'][:, t] += xgb_model.predict(X_test) / kf.n_splits\n",
    "\n",
    "        # LightGBM with optimized parameters\n",
    "        lgb_model = lgb.LGBMRegressor(\n",
    "            n_estimators=200,\n",
    "            max_depth=6,\n",
    "            learning_rate=0.1,\n",
    "            subsample=0.8,\n",
    "            colsample_bytree=0.8,\n",
    "            verbose=-1,\n",
    "            n_jobs=-1\n",
    "        )\n",
    "        lgb_model.fit(X_tr, y_tr)\n",
    "        level1_oof['LGBM'][val_idx, t] = lgb_model.predict(X_val)\n",
    "        level1_test['LGBM'][:, t] += lgb_model.predict(X_test) / kf.n_splits\n",
    "\n",
    "        # RandomForest with increased estimators\n",
    "        rf = RandomForestRegressor(\n",
    "            n_estimators=200,\n",
    "            max_depth=10,\n",
    "            n_jobs=-1\n",
    "        )\n",
    "        rf.fit(X_tr, y_tr)\n",
    "        level1_oof['RandomForest'][val_idx, t] = rf.predict(X_val)\n",
    "        level1_test['RandomForest'][:, t] += rf.predict(X_test) / kf.n_splits\n",
    "\n",
    "        # ExtraTrees with increased estimators\n",
    "        et = ExtraTreesRegressor(\n",
    "            n_estimators=200,\n",
    "            max_depth=10,\n",
    "            n_jobs=-1\n",
    "        )\n",
    "        et.fit(X_tr, y_tr)\n",
    "        level1_oof['ExtraTrees'][val_idx, t] = et.predict(X_val)\n",
    "        level1_test['ExtraTrees'][:, t] += et.predict(X_test) / kf.n_splits\n",
    "\n",
    "        # TabM (if available)\n",
    "        if 'TabM' in level1_names and TABM_AVAILABLE:\n",
    "            try:\n",
    "                # Create TabM model - adjust parameters as needed\n",
    "                tabm_model = TabMRegressor(\n",
    "                    device='cuda' if torch.cuda.is_available() else 'cpu'\n",
    "                )\n",
    "                tabm_model.fit(X_tr.values, y_tr.values)\n",
    "                level1_oof['TabM'][val_idx, t] = tabm_model.predict(X_val.values)\n",
    "                level1_test['TabM'][:, t] += tabm_model.predict(X_test.values) / kf.n_splits\n",
    "            except Exception as e:\n",
    "                print(f\"    Error with TabM: {e}\")\n",
    "                # Remove TabM from level1_names if it fails\n",
    "                if 'TabM' in level1_names:\n",
    "                    level1_names.remove('TabM')\n",
    "\n",
    "        # TabPFN (if available)\n",
    "        if 'TabPFN' in level1_names and TABPFN_AVAILABLE:\n",
    "            try:\n",
    "                tabpfn = TabPFNRegressor(device='cuda' if torch.cuda.is_available() else 'cpu')\n",
    "                tabpfn.fit(X_tr, y_tr.values)\n",
    "                level1_oof['TabPFN'][val_idx, t] = tabpfn.predict(X_val)\n",
    "                level1_test['TabPFN'][:, t] += tabpfn.predict(X_test) / kf.n_splits\n",
    "            except Exception as e:\n",
    "                print(f\"    Error with TabPFN: {e}\")\n",
    "                if 'TabPFN' in level1_names:\n",
    "                    level1_names.remove('TabPFN')\n",
    "\n",
    "# Remove empty entries from level1 dictionaries\n",
    "level1_names = [name for name in level1_names if name in level1_oof and level1_oof[name].sum() != 0]\n",
    "level1_oof = {name: level1_oof[name] for name in level1_names}\n",
    "level1_test = {name: level1_test[name] for name in level1_names}\n",
    "\n",
    "print(f\"\\n📊 Level 1 MAPE Scores (using {len(level1_names)} models):\")\n",
    "for name in level1_names:\n",
    "    mape = mean_absolute_percentage_error(y, level1_oof[name])\n",
    "    print(f\"  {name}: {mape:.6f}\")\n",
    "\n",
    "print(\"\\n🔄 Preparing Level 2 inputs from Level 1 outputs...\")\n",
    "stack_X = np.concatenate([level1_oof[name] for name in level1_names], axis=1)\n",
    "stack_X_test = np.concatenate([level1_test[name] for name in level1_names], axis=1)\n",
    "\n",
    "print(\"\\n🚀 Starting Level 2 stacking (Traditional ML Models)...\")\n",
    "\n",
    "# Level 2: Traditional ML models as stacking models\n",
    "level2_names = [\n",
    "    'Ridge', 'Lasso', 'ElasticNet', 'BayesianRidge', 'Huber',\n",
    "    'RandomForest_L2', 'ExtraTrees_L2', 'AdaBoost', 'GradientBoost', 'Bagging',\n",
    "    'KNN', 'SVR', 'XGB_L2', 'LGBM_L2'  # Added L2 suffix to avoid confusion\n",
    "]\n",
    "level2_oof = {name: np.zeros(y.shape) for name in level2_names}\n",
    "level2_test = {name: np.zeros((X_test.shape[0], y.shape[1])) for name in level2_names}\n",
    "\n",
    "for t in range(y.shape[1]):\n",
    "    print(f\"🎯 Level 2 stacking for BlendProperty{t+1}...\")\n",
    "    for fold, (tr_idx, val_idx) in enumerate(kf.split(stack_X)):\n",
    "        print(f\"  Fold {fold+1}/5\")\n",
    "        X_tr, X_val = stack_X[tr_idx], stack_X[val_idx]\n",
    "        y_tr, y_val = y.iloc[tr_idx, t], y.iloc[val_idx, t]\n",
    "\n",
    "        # Ridge\n",
    "        ridge = Ridge(alpha=1.0)\n",
    "        ridge.fit(X_tr, y_tr)\n",
    "        level2_oof['Ridge'][val_idx, t] = ridge.predict(X_val)\n",
    "        level2_test['Ridge'][:, t] += ridge.predict(stack_X_test) / kf.n_splits\n",
    "\n",
    "        # Lasso\n",
    "        lasso = Lasso(alpha=0.1, max_iter=1000)\n",
    "        lasso.fit(X_tr, y_tr)\n",
    "        level2_oof['Lasso'][val_idx, t] = lasso.predict(X_val)\n",
    "        level2_test['Lasso'][:, t] += lasso.predict(stack_X_test) / kf.n_splits\n",
    "\n",
    "        # ElasticNet\n",
    "        elastic = ElasticNet(alpha=0.1, max_iter=1000)\n",
    "        elastic.fit(X_tr, y_tr)\n",
    "        level2_oof['ElasticNet'][val_idx, t] = elastic.predict(X_val)\n",
    "        level2_test['ElasticNet'][:, t] += elastic.predict(stack_X_test) / kf.n_splits\n",
    "\n",
    "        # BayesianRidge\n",
    "        bayesian = BayesianRidge()\n",
    "        bayesian.fit(X_tr, y_tr)\n",
    "        level2_oof['BayesianRidge'][val_idx, t] = bayesian.predict(X_val)\n",
    "        level2_test['BayesianRidge'][:, t] += bayesian.predict(stack_X_test) / kf.n_splits\n",
    "\n",
    "        # Huber\n",
    "        huber = HuberRegressor()\n",
    "        huber.fit(X_tr, y_tr)\n",
    "        level2_oof['Huber'][val_idx, t] = huber.predict(X_val)\n",
    "        level2_test['Huber'][:, t] += huber.predict(stack_X_test) / kf.n_splits\n",
    "\n",
    "        # RandomForest (Level 2)\n",
    "        rf = RandomForestRegressor(n_estimators=50)\n",
    "        rf.fit(X_tr, y_tr)\n",
    "        level2_oof['RandomForest_L2'][val_idx, t] = rf.predict(X_val)\n",
    "        level2_test['RandomForest_L2'][:, t] += rf.predict(stack_X_test) / kf.n_splits\n",
    "\n",
    "        # ExtraTrees (Level 2)\n",
    "        et = ExtraTreesRegressor(n_estimators=50)\n",
    "        et.fit(X_tr, y_tr)\n",
    "        level2_oof['ExtraTrees_L2'][val_idx, t] = et.predict(X_val)\n",
    "        level2_test['ExtraTrees_L2'][:, t] += et.predict(stack_X_test) / kf.n_splits\n",
    "\n",
    "        # AdaBoost\n",
    "        ada = AdaBoostRegressor(n_estimators=50)\n",
    "        ada.fit(X_tr, y_tr)\n",
    "        level2_oof['AdaBoost'][val_idx, t] = ada.predict(X_val)\n",
    "        level2_test['AdaBoost'][:, t] += ada.predict(stack_X_test) / kf.n_splits\n",
    "\n",
    "        # GradientBoosting\n",
    "        gb = GradientBoostingRegressor(n_estimators=100)\n",
    "        gb.fit(X_tr, y_tr)\n",
    "        level2_oof['GradientBoost'][val_idx, t] = gb.predict(X_val)\n",
    "        level2_test['GradientBoost'][:, t] += gb.predict(stack_X_test) / kf.n_splits\n",
    "\n",
    "        # Bagging\n",
    "        bag = BaggingRegressor(n_estimators=50)\n",
    "        bag.fit(X_tr, y_tr)\n",
    "        level2_oof['Bagging'][val_idx, t] = bag.predict(X_val)\n",
    "        level2_test['Bagging'][:, t] += bag.predict(stack_X_test) / kf.n_splits\n",
    "\n",
    "        # KNN\n",
    "        knn = KNeighborsRegressor(n_neighbors=5)\n",
    "        knn.fit(X_tr, y_tr)\n",
    "        level2_oof['KNN'][val_idx, t] = knn.predict(X_val)\n",
    "        level2_test['KNN'][:, t] += knn.predict(stack_X_test) / kf.n_splits\n",
    "\n",
    "        # SVR\n",
    "        svr = SVR(kernel='rbf', gamma='scale')\n",
    "        svr.fit(X_tr, y_tr)\n",
    "        level2_oof['SVR'][val_idx, t] = svr.predict(X_val)\n",
    "        level2_test['SVR'][:, t] += svr.predict(stack_X_test) / kf.n_splits\n",
    "\n",
    "        # XGBoost (Level 2)\n",
    "        xgb_model = xgb.XGBRegressor(verbosity=0)\n",
    "        xgb_model.fit(X_tr, y_tr)\n",
    "        level2_oof['XGB_L2'][val_idx, t] = xgb_model.predict(X_val)\n",
    "        level2_test['XGB_L2'][:, t] += xgb_model.predict(stack_X_test) / kf.n_splits\n",
    "\n",
    "        # LightGBM (Level 2)\n",
    "        lgb_model = lgb.LGBMRegressor(verbose=-1)\n",
    "        lgb_model.fit(X_tr, y_tr)\n",
    "        level2_oof['LGBM_L2'][val_idx, t] = lgb_model.predict(X_val)\n",
    "        level2_test['LGBM_L2'][:, t] += lgb_model.predict(stack_X_test) / kf.n_splits\n",
    "\n",
    "print(\"\\n📊 Level 2 MAPE Scores:\")\n",
    "level2_scores = {}\n",
    "for name in level2_names:\n",
    "    mape = mean_absolute_percentage_error(y, level2_oof[name])\n",
    "    level2_scores[name] = mape\n",
    "    print(f\"  {name}: {mape:.6f}\")\n",
    "\n",
    "print(\"\\n🔍 Starting Dynamic Level 3 optimization...\")\n",
    "\n",
    "# Dynamic selection of top performers (configurable top K models)\n",
    "TOP_K = min(6, len(level2_names))  # Select top 6 models or all if less than 6\n",
    "sorted_models = sorted(level2_scores.items(), key=lambda x: x[1])\n",
    "top_models = [model[0] for model in sorted_models[:TOP_K]]\n",
    "\n",
    "print(f\"\\n🎯 Selected top {len(top_models)} models for Level 3:\")\n",
    "for i, model in enumerate(top_models):\n",
    "    print(f\"  {i+1}. {model}: {level2_scores[model]:.6f}\")\n",
    "\n",
    "# Prepare Level 3 inputs with top performers\n",
    "level3_oof = np.concatenate([level2_oof[model] for model in top_models], axis=1)\n",
    "level3_test = np.concatenate([level2_test[model] for model in top_models], axis=1)\n",
    "\n",
    "def objective(trial):\n",
    "    # Dynamically suggest weights for each top model\n",
    "    weights = {}\n",
    "    for model in top_models:\n",
    "        weights[model] = trial.suggest_float(f'w_{model}', 0.0, 1.0)\n",
    "    \n",
    "    # Normalize weights\n",
    "    total_weight = sum(weights.values())\n",
    "    if total_weight == 0:\n",
    "        return float('inf')\n",
    "    \n",
    "    normalized_weights = {k: v/total_weight for k, v in weights.items()}\n",
    "    \n",
    "    # Create weighted ensemble\n",
    "    ensemble_pred = sum(normalized_weights[model] * level2_oof[model] \n",
    "                       for model in top_models)\n",
    "    \n",
    "    # Calculate MAPE\n",
    "    mape = mean_absolute_percentage_error(y, ensemble_pred)\n",
    "    return mape\n",
    "\n",
    "# Optimize weights\n",
    "print(\"🔧 Optimizing ensemble weights...\")\n",
    "study = optuna.create_study(direction='minimize')\n",
    "study.optimize(objective, n_trials=200, show_progress_bar=True)\n",
    "\n",
    "print(f\"\\n✅ Best MAPE: {study.best_value:.6f}\")\n",
    "print(\"🎯 Best weights:\")\n",
    "best_params = study.best_params\n",
    "for param, value in best_params.items():\n",
    "    print(f\"  {param}: {value:.4f}\")\n",
    "\n",
    "# Normalize best weights\n",
    "total_weight = sum(best_params.values())\n",
    "normalized_weights = {k: v/total_weight for k, v in best_params.items()}\n",
    "\n",
    "print(\"\\n📊 Normalized weights:\")\n",
    "for param, value in normalized_weights.items():\n",
    "    print(f\"  {param}: {value:.4f}\")\n",
    "\n",
    "# Create final ensemble predictions\n",
    "final_test = sum(normalized_weights[f'w_{model}'] * level2_test[model] \n",
    "                 for model in top_models)\n",
    "\n",
    "# Final validation score\n",
    "final_oof = sum(normalized_weights[f'w_{model}'] * level2_oof[model] \n",
    "                for model in top_models)\n",
    "\n",
    "final_mape = mean_absolute_percentage_error(y, final_oof)\n",
    "print(f\"\\n🎉 Final ensemble MAPE: {final_mape:.6f}\")\n",
    "\n",
    "print(\"\\n📊 Individual target MAPE scores:\")\n",
    "for i in range(y.shape[1]):\n",
    "    target_mape = mean_absolute_percentage_error(y.iloc[:, i], final_oof[:, i])\n",
    "    print(f\"  BlendProperty{i+1}: {target_mape:.6f}\")\n",
    "\n",
    "# Save submission with descriptive filename\n",
    "submission = pd.DataFrame(final_test, columns=[f'BlendProperty{i}' for i in range(1, 11)])\n",
    "submission.insert(0, 'ID', test['ID'])\n",
    "submission_filename = f\"submission_xgb_level1_ensemble_top{TOP_K}.csv\"\n",
    "submission.to_csv(submission_filename, index=False)\n",
    "print(f\"\\n💾 Submission file saved as '{submission_filename}'\")\n",
    "\n",
    "print(f\"\\n🎯 Advanced Dynamic Ensemble Summary:\")\n",
    "print(f\"  Level 1: {len(level1_names)} strong models including XGBoost: {', '.join(level1_names)}\")\n",
    "print(f\"  Level 2: {len(level2_names)} traditional ML models stacking on Level 1 outputs\") \n",
    "print(f\"  Level 3: Dynamic optimization with top {len(top_models)} performers: {', '.join(top_models)}\")\n",
    "print(f\"  Final MAPE: {final_mape:.6f}\")\n",
    "print(f\"  Submission saved as: {submission_filename}\")\n",
    "\n",
    "# Instructions for installing missing packages\n",
    "print(\"\\n📝 Installation Instructions:\")\n",
    "if not TABM_AVAILABLE:\n",
    "    print(\"  For TabM: pip install git+https://github.com/yandex-research/tabm.git\")\n",
    "if not TABPFN_AVAILABLE:\n",
    "    print(\"  For TabPFN: pip install tabpfn\")"
   ]
  },
  {
   "cell_type": "markdown",
   "id": "5cf87f75",
   "metadata": {},
   "source": [
    "infinite loop"
   ]
  },
  {
   "cell_type": "code",
   "execution_count": 10,
   "id": "b15b27fe",
   "metadata": {},
   "outputs": [
    {
     "name": "stdout",
     "output_type": "stream",
     "text": [
      "\n",
      "🚀 🚀 🚀 Starting new run #1 🚀 🚀 🚀\n",
      "\n",
      "Loading data...\n",
      "🚀 Starting Level 1 training...\n",
      "📊 Level 1 models: XGB, TabM, TabPFN, LGBM, RandomForest, ExtraTrees\n",
      "🎯 Training Level 1 for target BlendProperty1...\n",
      "  Fold 1/5\n"
     ]
    },
    {
     "ename": "KeyboardInterrupt",
     "evalue": "",
     "output_type": "error",
     "traceback": [
      "\u001b[1;31m---------------------------------------------------------------------------\u001b[0m",
      "\u001b[1;31mKeyboardInterrupt\u001b[0m                         Traceback (most recent call last)",
      "Cell \u001b[1;32mIn[10], line 86\u001b[0m\n\u001b[0;32m     83\u001b[0m y_tr, y_val \u001b[38;5;241m=\u001b[39m y\u001b[38;5;241m.\u001b[39miloc[tr_idx, t], y\u001b[38;5;241m.\u001b[39miloc[val_idx, t]\n\u001b[0;32m     85\u001b[0m xgb_model \u001b[38;5;241m=\u001b[39m xgb\u001b[38;5;241m.\u001b[39mXGBRegressor(n_estimators\u001b[38;5;241m=\u001b[39m\u001b[38;5;241m200\u001b[39m, max_depth\u001b[38;5;241m=\u001b[39m\u001b[38;5;241m6\u001b[39m, learning_rate\u001b[38;5;241m=\u001b[39m\u001b[38;5;241m0.1\u001b[39m, subsample\u001b[38;5;241m=\u001b[39m\u001b[38;5;241m0.8\u001b[39m, colsample_bytree\u001b[38;5;241m=\u001b[39m\u001b[38;5;241m0.8\u001b[39m, verbosity\u001b[38;5;241m=\u001b[39m\u001b[38;5;241m0\u001b[39m, n_jobs\u001b[38;5;241m=\u001b[39m\u001b[38;5;241m-\u001b[39m\u001b[38;5;241m1\u001b[39m)\n\u001b[1;32m---> 86\u001b[0m \u001b[43mxgb_model\u001b[49m\u001b[38;5;241;43m.\u001b[39;49m\u001b[43mfit\u001b[49m\u001b[43m(\u001b[49m\u001b[43mX_tr\u001b[49m\u001b[43m,\u001b[49m\u001b[43m \u001b[49m\u001b[43my_tr\u001b[49m\u001b[43m)\u001b[49m\n\u001b[0;32m     87\u001b[0m level1_oof[\u001b[38;5;124m'\u001b[39m\u001b[38;5;124mXGB\u001b[39m\u001b[38;5;124m'\u001b[39m][val_idx, t] \u001b[38;5;241m=\u001b[39m xgb_model\u001b[38;5;241m.\u001b[39mpredict(X_val)\n\u001b[0;32m     88\u001b[0m level1_test[\u001b[38;5;124m'\u001b[39m\u001b[38;5;124mXGB\u001b[39m\u001b[38;5;124m'\u001b[39m][:, t] \u001b[38;5;241m+\u001b[39m\u001b[38;5;241m=\u001b[39m xgb_model\u001b[38;5;241m.\u001b[39mpredict(X_test) \u001b[38;5;241m/\u001b[39m kf\u001b[38;5;241m.\u001b[39mn_splits\n",
      "File \u001b[1;32mc:\\D Drive\\ron\\last stand\\.venv\\lib\\site-packages\\xgboost\\core.py:729\u001b[0m, in \u001b[0;36mrequire_keyword_args.<locals>.throw_if.<locals>.inner_f\u001b[1;34m(*args, **kwargs)\u001b[0m\n\u001b[0;32m    727\u001b[0m \u001b[38;5;28;01mfor\u001b[39;00m k, arg \u001b[38;5;129;01min\u001b[39;00m \u001b[38;5;28mzip\u001b[39m(sig\u001b[38;5;241m.\u001b[39mparameters, args):\n\u001b[0;32m    728\u001b[0m     kwargs[k] \u001b[38;5;241m=\u001b[39m arg\n\u001b[1;32m--> 729\u001b[0m \u001b[38;5;28;01mreturn\u001b[39;00m func(\u001b[38;5;241m*\u001b[39m\u001b[38;5;241m*\u001b[39mkwargs)\n",
      "File \u001b[1;32mc:\\D Drive\\ron\\last stand\\.venv\\lib\\site-packages\\xgboost\\sklearn.py:1247\u001b[0m, in \u001b[0;36mXGBModel.fit\u001b[1;34m(self, X, y, sample_weight, base_margin, eval_set, verbose, xgb_model, sample_weight_eval_set, base_margin_eval_set, feature_weights)\u001b[0m\n\u001b[0;32m   1244\u001b[0m \u001b[38;5;28;01melse\u001b[39;00m:\n\u001b[0;32m   1245\u001b[0m     obj \u001b[38;5;241m=\u001b[39m \u001b[38;5;28;01mNone\u001b[39;00m\n\u001b[1;32m-> 1247\u001b[0m \u001b[38;5;28mself\u001b[39m\u001b[38;5;241m.\u001b[39m_Booster \u001b[38;5;241m=\u001b[39m \u001b[43mtrain\u001b[49m\u001b[43m(\u001b[49m\n\u001b[0;32m   1248\u001b[0m \u001b[43m    \u001b[49m\u001b[43mparams\u001b[49m\u001b[43m,\u001b[49m\n\u001b[0;32m   1249\u001b[0m \u001b[43m    \u001b[49m\u001b[43mtrain_dmatrix\u001b[49m\u001b[43m,\u001b[49m\n\u001b[0;32m   1250\u001b[0m \u001b[43m    \u001b[49m\u001b[38;5;28;43mself\u001b[39;49m\u001b[38;5;241;43m.\u001b[39;49m\u001b[43mget_num_boosting_rounds\u001b[49m\u001b[43m(\u001b[49m\u001b[43m)\u001b[49m\u001b[43m,\u001b[49m\n\u001b[0;32m   1251\u001b[0m \u001b[43m    \u001b[49m\u001b[43mevals\u001b[49m\u001b[38;5;241;43m=\u001b[39;49m\u001b[43mevals\u001b[49m\u001b[43m,\u001b[49m\n\u001b[0;32m   1252\u001b[0m \u001b[43m    \u001b[49m\u001b[43mearly_stopping_rounds\u001b[49m\u001b[38;5;241;43m=\u001b[39;49m\u001b[38;5;28;43mself\u001b[39;49m\u001b[38;5;241;43m.\u001b[39;49m\u001b[43mearly_stopping_rounds\u001b[49m\u001b[43m,\u001b[49m\n\u001b[0;32m   1253\u001b[0m \u001b[43m    \u001b[49m\u001b[43mevals_result\u001b[49m\u001b[38;5;241;43m=\u001b[39;49m\u001b[43mevals_result\u001b[49m\u001b[43m,\u001b[49m\n\u001b[0;32m   1254\u001b[0m \u001b[43m    \u001b[49m\u001b[43mobj\u001b[49m\u001b[38;5;241;43m=\u001b[39;49m\u001b[43mobj\u001b[49m\u001b[43m,\u001b[49m\n\u001b[0;32m   1255\u001b[0m \u001b[43m    \u001b[49m\u001b[43mcustom_metric\u001b[49m\u001b[38;5;241;43m=\u001b[39;49m\u001b[43mmetric\u001b[49m\u001b[43m,\u001b[49m\n\u001b[0;32m   1256\u001b[0m \u001b[43m    \u001b[49m\u001b[43mverbose_eval\u001b[49m\u001b[38;5;241;43m=\u001b[39;49m\u001b[43mverbose\u001b[49m\u001b[43m,\u001b[49m\n\u001b[0;32m   1257\u001b[0m \u001b[43m    \u001b[49m\u001b[43mxgb_model\u001b[49m\u001b[38;5;241;43m=\u001b[39;49m\u001b[43mmodel\u001b[49m\u001b[43m,\u001b[49m\n\u001b[0;32m   1258\u001b[0m \u001b[43m    \u001b[49m\u001b[43mcallbacks\u001b[49m\u001b[38;5;241;43m=\u001b[39;49m\u001b[38;5;28;43mself\u001b[39;49m\u001b[38;5;241;43m.\u001b[39;49m\u001b[43mcallbacks\u001b[49m\u001b[43m,\u001b[49m\n\u001b[0;32m   1259\u001b[0m \u001b[43m\u001b[49m\u001b[43m)\u001b[49m\n\u001b[0;32m   1261\u001b[0m \u001b[38;5;28mself\u001b[39m\u001b[38;5;241m.\u001b[39m_set_evaluation_result(evals_result)\n\u001b[0;32m   1262\u001b[0m \u001b[38;5;28;01mreturn\u001b[39;00m \u001b[38;5;28mself\u001b[39m\n",
      "File \u001b[1;32mc:\\D Drive\\ron\\last stand\\.venv\\lib\\site-packages\\xgboost\\core.py:729\u001b[0m, in \u001b[0;36mrequire_keyword_args.<locals>.throw_if.<locals>.inner_f\u001b[1;34m(*args, **kwargs)\u001b[0m\n\u001b[0;32m    727\u001b[0m \u001b[38;5;28;01mfor\u001b[39;00m k, arg \u001b[38;5;129;01min\u001b[39;00m \u001b[38;5;28mzip\u001b[39m(sig\u001b[38;5;241m.\u001b[39mparameters, args):\n\u001b[0;32m    728\u001b[0m     kwargs[k] \u001b[38;5;241m=\u001b[39m arg\n\u001b[1;32m--> 729\u001b[0m \u001b[38;5;28;01mreturn\u001b[39;00m func(\u001b[38;5;241m*\u001b[39m\u001b[38;5;241m*\u001b[39mkwargs)\n",
      "File \u001b[1;32mc:\\D Drive\\ron\\last stand\\.venv\\lib\\site-packages\\xgboost\\training.py:183\u001b[0m, in \u001b[0;36mtrain\u001b[1;34m(params, dtrain, num_boost_round, evals, obj, maximize, early_stopping_rounds, evals_result, verbose_eval, xgb_model, callbacks, custom_metric)\u001b[0m\n\u001b[0;32m    181\u001b[0m \u001b[38;5;28;01mif\u001b[39;00m cb_container\u001b[38;5;241m.\u001b[39mbefore_iteration(bst, i, dtrain, evals):\n\u001b[0;32m    182\u001b[0m     \u001b[38;5;28;01mbreak\u001b[39;00m\n\u001b[1;32m--> 183\u001b[0m \u001b[43mbst\u001b[49m\u001b[38;5;241;43m.\u001b[39;49m\u001b[43mupdate\u001b[49m\u001b[43m(\u001b[49m\u001b[43mdtrain\u001b[49m\u001b[43m,\u001b[49m\u001b[43m \u001b[49m\u001b[43miteration\u001b[49m\u001b[38;5;241;43m=\u001b[39;49m\u001b[43mi\u001b[49m\u001b[43m,\u001b[49m\u001b[43m \u001b[49m\u001b[43mfobj\u001b[49m\u001b[38;5;241;43m=\u001b[39;49m\u001b[43mobj\u001b[49m\u001b[43m)\u001b[49m\n\u001b[0;32m    184\u001b[0m \u001b[38;5;28;01mif\u001b[39;00m cb_container\u001b[38;5;241m.\u001b[39mafter_iteration(bst, i, dtrain, evals):\n\u001b[0;32m    185\u001b[0m     \u001b[38;5;28;01mbreak\u001b[39;00m\n",
      "File \u001b[1;32mc:\\D Drive\\ron\\last stand\\.venv\\lib\\site-packages\\xgboost\\core.py:2247\u001b[0m, in \u001b[0;36mBooster.update\u001b[1;34m(self, dtrain, iteration, fobj)\u001b[0m\n\u001b[0;32m   2243\u001b[0m \u001b[38;5;28mself\u001b[39m\u001b[38;5;241m.\u001b[39m_assign_dmatrix_features(dtrain)\n\u001b[0;32m   2245\u001b[0m \u001b[38;5;28;01mif\u001b[39;00m fobj \u001b[38;5;129;01mis\u001b[39;00m \u001b[38;5;28;01mNone\u001b[39;00m:\n\u001b[0;32m   2246\u001b[0m     _check_call(\n\u001b[1;32m-> 2247\u001b[0m         \u001b[43m_LIB\u001b[49m\u001b[38;5;241;43m.\u001b[39;49m\u001b[43mXGBoosterUpdateOneIter\u001b[49m\u001b[43m(\u001b[49m\n\u001b[0;32m   2248\u001b[0m \u001b[43m            \u001b[49m\u001b[38;5;28;43mself\u001b[39;49m\u001b[38;5;241;43m.\u001b[39;49m\u001b[43mhandle\u001b[49m\u001b[43m,\u001b[49m\u001b[43m \u001b[49m\u001b[43mctypes\u001b[49m\u001b[38;5;241;43m.\u001b[39;49m\u001b[43mc_int\u001b[49m\u001b[43m(\u001b[49m\u001b[43miteration\u001b[49m\u001b[43m)\u001b[49m\u001b[43m,\u001b[49m\u001b[43m \u001b[49m\u001b[43mdtrain\u001b[49m\u001b[38;5;241;43m.\u001b[39;49m\u001b[43mhandle\u001b[49m\n\u001b[0;32m   2249\u001b[0m \u001b[43m        \u001b[49m\u001b[43m)\u001b[49m\n\u001b[0;32m   2250\u001b[0m     )\n\u001b[0;32m   2251\u001b[0m \u001b[38;5;28;01melse\u001b[39;00m:\n\u001b[0;32m   2252\u001b[0m     pred \u001b[38;5;241m=\u001b[39m \u001b[38;5;28mself\u001b[39m\u001b[38;5;241m.\u001b[39mpredict(dtrain, output_margin\u001b[38;5;241m=\u001b[39m\u001b[38;5;28;01mTrue\u001b[39;00m, training\u001b[38;5;241m=\u001b[39m\u001b[38;5;28;01mTrue\u001b[39;00m)\n",
      "\u001b[1;31mKeyboardInterrupt\u001b[0m: "
     ]
    }
   ],
   "source": [
    "import warnings\n",
    "warnings.filterwarnings('ignore')\n",
    "\n",
    "import os\n",
    "import pandas as pd\n",
    "import numpy as np\n",
    "from sklearn.model_selection import KFold\n",
    "from sklearn.linear_model import Ridge, Lasso, ElasticNet, BayesianRidge, HuberRegressor\n",
    "from sklearn.ensemble import RandomForestRegressor, ExtraTreesRegressor, AdaBoostRegressor, GradientBoostingRegressor, BaggingRegressor\n",
    "from sklearn.neighbors import KNeighborsRegressor\n",
    "from sklearn.svm import SVR\n",
    "from sklearn.metrics import mean_absolute_percentage_error\n",
    "import xgboost as xgb\n",
    "import lightgbm as lgb\n",
    "import optuna\n",
    "import torch\n",
    "from datetime import datetime\n",
    "\n",
    "# Try to import TabPFN and TabM with fallbacks\n",
    "try:\n",
    "    from tabpfn import TabPFNRegressor\n",
    "    TABPFN_AVAILABLE = True\n",
    "except ImportError:\n",
    "    print(\"⚠️  TabPFN not available. Install with: pip install tabpfn\")\n",
    "    TABPFN_AVAILABLE = False\n",
    "\n",
    "try:\n",
    "    import tabm\n",
    "    if hasattr(tabm, 'TabMRegressor'):\n",
    "        TabMRegressor = tabm.TabMRegressor\n",
    "        TABM_AVAILABLE = True\n",
    "    elif hasattr(tabm, 'TabM'):\n",
    "        TabMRegressor = tabm.TabM\n",
    "        TABM_AVAILABLE = True\n",
    "    else:\n",
    "        available_attrs = [attr for attr in dir(tabm) if not attr.startswith('_')]\n",
    "        print(f\"⚠️  TabM available attributes: {available_attrs}\")\n",
    "        TABM_AVAILABLE = False\n",
    "except ImportError:\n",
    "    print(\"⚠️  TabM not available. Install from GitHub: pip install git+https://github.com/yandex-research/tabm.git\")\n",
    "    TABM_AVAILABLE = False\n",
    "\n",
    "# Create output folder if it doesn't exist\n",
    "os.makedirs('submissions', exist_ok=True)\n",
    "\n",
    "# Create log CSV if it doesn't exist\n",
    "log_file = 'submissions/ensemble_log.csv'\n",
    "if not os.path.exists(log_file):\n",
    "    pd.DataFrame(columns=['timestamp', 'submission', 'final_mape', 'top_models', 'weights']).to_csv(log_file, index=False)\n",
    "\n",
    "run_number = 1\n",
    "while True:\n",
    "    print(f\"\\n🚀 🚀 🚀 Starting new run #{run_number} 🚀 🚀 🚀\\n\")\n",
    "\n",
    "    print(\"Loading data...\")\n",
    "    train = pd.read_csv('train.csv')\n",
    "    test = pd.read_csv('test.csv')\n",
    "    X = train.drop([f'BlendProperty{i}' for i in range(1, 11)], axis=1)\n",
    "    y = train[[f'BlendProperty{i}' for i in range(1, 11)]]\n",
    "    X_test = test.drop(['ID'], axis=1)\n",
    "\n",
    "    kf = KFold(n_splits=5, shuffle=True)\n",
    "\n",
    "    print(\"🚀 Starting Level 1 training...\")\n",
    "\n",
    "    level1_names = ['XGB']\n",
    "    if TABM_AVAILABLE:\n",
    "        level1_names.append('TabM')\n",
    "    if TABPFN_AVAILABLE:\n",
    "        level1_names.append('TabPFN')\n",
    "    level1_names.extend(['LGBM', 'RandomForest', 'ExtraTrees'])\n",
    "\n",
    "    print(f\"📊 Level 1 models: {', '.join(level1_names)}\")\n",
    "\n",
    "    level1_oof = {name: np.zeros(y.shape) for name in level1_names}\n",
    "    level1_test = {name: np.zeros((X_test.shape[0], y.shape[1])) for name in level1_names}\n",
    "\n",
    "    for t in range(y.shape[1]):\n",
    "        print(f\"🎯 Training Level 1 for target BlendProperty{t+1}...\")\n",
    "        for fold, (tr_idx, val_idx) in enumerate(kf.split(X)):\n",
    "            print(f\"  Fold {fold+1}/5\")\n",
    "            X_tr, X_val = X.iloc[tr_idx], X.iloc[val_idx]\n",
    "            y_tr, y_val = y.iloc[tr_idx, t], y.iloc[val_idx, t]\n",
    "\n",
    "            xgb_model = xgb.XGBRegressor(n_estimators=200, max_depth=6, learning_rate=0.1, subsample=0.8, colsample_bytree=0.8, verbosity=0, n_jobs=-1)\n",
    "            xgb_model.fit(X_tr, y_tr)\n",
    "            level1_oof['XGB'][val_idx, t] = xgb_model.predict(X_val)\n",
    "            level1_test['XGB'][:, t] += xgb_model.predict(X_test) / kf.n_splits\n",
    "\n",
    "            lgb_model = lgb.LGBMRegressor(n_estimators=200, max_depth=6, learning_rate=0.1, subsample=0.8, colsample_bytree=0.8, verbose=-1, n_jobs=-1)\n",
    "            lgb_model.fit(X_tr, y_tr)\n",
    "            level1_oof['LGBM'][val_idx, t] = lgb_model.predict(X_val)\n",
    "            level1_test['LGBM'][:, t] += lgb_model.predict(X_test) / kf.n_splits\n",
    "\n",
    "            rf = RandomForestRegressor(n_estimators=200, max_depth=10, n_jobs=-1)\n",
    "            rf.fit(X_tr, y_tr)\n",
    "            level1_oof['RandomForest'][val_idx, t] = rf.predict(X_val)\n",
    "            level1_test['RandomForest'][:, t] += rf.predict(X_test) / kf.n_splits\n",
    "\n",
    "            et = ExtraTreesRegressor(n_estimators=200, max_depth=10, n_jobs=-1)\n",
    "            et.fit(X_tr, y_tr)\n",
    "            level1_oof['ExtraTrees'][val_idx, t] = et.predict(X_val)\n",
    "            level1_test['ExtraTrees'][:, t] += et.predict(X_test) / kf.n_splits\n",
    "\n",
    "            if 'TabM' in level1_names and TABM_AVAILABLE:\n",
    "                try:\n",
    "                    tabm_model = TabMRegressor(device='cuda' if torch.cuda.is_available() else 'cpu')\n",
    "                    tabm_model.fit(X_tr.values, y_tr.values)\n",
    "                    level1_oof['TabM'][val_idx, t] = tabm_model.predict(X_val.values)\n",
    "                    level1_test['TabM'][:, t] += tabm_model.predict(X_test.values) / kf.n_splits\n",
    "                except Exception as e:\n",
    "                    print(f\"    Error with TabM: {e}\")\n",
    "                    level1_names.remove('TabM')\n",
    "\n",
    "            if 'TabPFN' in level1_names and TABPFN_AVAILABLE:\n",
    "                try:\n",
    "                    tabpfn = TabPFNRegressor(device='cuda' if torch.cuda.is_available() else 'cpu')\n",
    "                    tabpfn.fit(X_tr, y_tr.values)\n",
    "                    level1_oof['TabPFN'][val_idx, t] = tabpfn.predict(X_val)\n",
    "                    level1_test['TabPFN'][:, t] += tabpfn.predict(X_test) / kf.n_splits\n",
    "                except Exception as e:\n",
    "                    print(f\"    Error with TabPFN: {e}\")\n",
    "                    level1_names.remove('TabPFN')\n",
    "\n",
    "    level1_names = [name for name in level1_names if name in level1_oof and level1_oof[name].sum() != 0]\n",
    "    level1_oof = {name: level1_oof[name] for name in level1_names}\n",
    "    level1_test = {name: level1_test[name] for name in level1_names}\n",
    "\n",
    "    print(\"\\n🔄 Preparing Level 2 inputs...\")\n",
    "    stack_X = np.concatenate([level1_oof[name] for name in level1_names], axis=1)\n",
    "    stack_X_test = np.concatenate([level1_test[name] for name in level1_names], axis=1)\n",
    "\n",
    "    level2_names = ['Ridge', 'Lasso', 'ElasticNet', 'BayesianRidge', 'Huber', 'RandomForest_L2', 'ExtraTrees_L2', 'AdaBoost', 'GradientBoost', 'Bagging', 'KNN', 'SVR', 'XGB_L2', 'LGBM_L2']\n",
    "    level2_oof = {name: np.zeros(y.shape) for name in level2_names}\n",
    "    level2_test = {name: np.zeros((X_test.shape[0], y.shape[1])) for name in level2_names}\n",
    "\n",
    "    for t in range(y.shape[1]):\n",
    "        for fold, (tr_idx, val_idx) in enumerate(kf.split(stack_X)):\n",
    "            X_tr, X_val = stack_X[tr_idx], stack_X[val_idx]\n",
    "            y_tr, y_val = y.iloc[tr_idx, t], y.iloc[val_idx, t]\n",
    "\n",
    "            Ridge(alpha=1.0).fit(X_tr, y_tr)\n",
    "            level2_oof['Ridge'][val_idx, t] = Ridge(alpha=1.0).fit(X_tr, y_tr).predict(X_val)\n",
    "\n",
    "            lasso = Lasso(alpha=0.1).fit(X_tr, y_tr)\n",
    "            level2_oof['Lasso'][val_idx, t] = lasso.predict(X_val)\n",
    "\n",
    "            elastic = ElasticNet(alpha=0.1).fit(X_tr, y_tr)\n",
    "            level2_oof['ElasticNet'][val_idx, t] = elastic.predict(X_val)\n",
    "\n",
    "            bayesian = BayesianRidge().fit(X_tr, y_tr)\n",
    "            level2_oof['BayesianRidge'][val_idx, t] = bayesian.predict(X_val)\n",
    "\n",
    "            huber = HuberRegressor().fit(X_tr, y_tr)\n",
    "            level2_oof['Huber'][val_idx, t] = huber.predict(X_val)\n",
    "\n",
    "            rf = RandomForestRegressor(n_estimators=50).fit(X_tr, y_tr)\n",
    "            level2_oof['RandomForest_L2'][val_idx, t] = rf.predict(X_val)\n",
    "\n",
    "            et = ExtraTreesRegressor(n_estimators=50).fit(X_tr, y_tr)\n",
    "            level2_oof['ExtraTrees_L2'][val_idx, t] = et.predict(X_val)\n",
    "\n",
    "            ada = AdaBoostRegressor(n_estimators=50).fit(X_tr, y_tr)\n",
    "            level2_oof['AdaBoost'][val_idx, t] = ada.predict(X_val)\n",
    "\n",
    "            gb = GradientBoostingRegressor(n_estimators=100).fit(X_tr, y_tr)\n",
    "            level2_oof['GradientBoost'][val_idx, t] = gb.predict(X_val)\n",
    "\n",
    "            bag = BaggingRegressor(n_estimators=50).fit(X_tr, y_tr)\n",
    "            level2_oof['Bagging'][val_idx, t] = bag.predict(X_val)\n",
    "\n",
    "            knn = KNeighborsRegressor(n_neighbors=5).fit(X_tr, y_tr)\n",
    "            level2_oof['KNN'][val_idx, t] = knn.predict(X_val)\n",
    "\n",
    "            svr = SVR().fit(X_tr, y_tr)\n",
    "            level2_oof['SVR'][val_idx, t] = svr.predict(X_val)\n",
    "\n",
    "            xgb_model = xgb.XGBRegressor().fit(X_tr, y_tr)\n",
    "            level2_oof['XGB_L2'][val_idx, t] = xgb_model.predict(X_val)\n",
    "\n",
    "            lgb_model = lgb.LGBMRegressor().fit(X_tr, y_tr)\n",
    "            level2_oof['LGBM_L2'][val_idx, t] = lgb_model.predict(X_val)\n",
    "\n",
    "    level2_scores = {name: mean_absolute_percentage_error(y, level2_oof[name]) for name in level2_names}\n",
    "    top_models = sorted(level2_scores, key=level2_scores.get)[:6]\n",
    "\n",
    "    level3_oof = np.concatenate([level2_oof[name] for name in top_models], axis=1)\n",
    "    level3_test = np.concatenate([level2_test[name] for name in top_models], axis=1)\n",
    "\n",
    "    def objective(trial):\n",
    "        weights = np.array([trial.suggest_float(f'w_{m}', 0.0, 1.0) for m in top_models])\n",
    "        if weights.sum() == 0: return 1e6\n",
    "        weights /= weights.sum()\n",
    "        blended = sum(weights[i] * level2_oof[m] for i, m in enumerate(top_models))\n",
    "        return mean_absolute_percentage_error(y, blended)\n",
    "\n",
    "    study = optuna.create_study(direction='minimize')\n",
    "    study.optimize(objective, n_trials=50)\n",
    "\n",
    "    best_weights = np.array([study.best_params[f'w_{m}'] for m in top_models])\n",
    "    best_weights /= best_weights.sum()\n",
    "\n",
    "    final_pred = sum(best_weights[i] * level2_test[m] for i, m in enumerate(top_models))\n",
    "    final_mape = mean_absolute_percentage_error(y, sum(best_weights[i] * level2_oof[m] for i, m in enumerate(top_models)))\n",
    "\n",
    "    timestamp = datetime.now().strftime('%Y%m%d_%H%M%S')\n",
    "    submission_file = f'submissions/submission_{timestamp}_run{run_number}.csv'\n",
    "    submission = pd.DataFrame(final_pred, columns=[f'BlendProperty{i}' for i in range(1, 11)])\n",
    "    submission.insert(0, 'ID', test['ID'])\n",
    "    submission.to_csv(submission_file, index=False)\n",
    "\n",
    "    print(f\"\\n✅ Run #{run_number} complete! Final MAPE: {final_mape:.6f}\")\n",
    "    print(f\"Submission saved as: {submission_file}\")\n",
    "\n",
    "    log_df = pd.read_csv(log_file)\n",
    "    new_row = pd.DataFrame([{\n",
    "        'timestamp': timestamp,\n",
    "        'submission': submission_file,\n",
    "        'final_mape': final_mape,\n",
    "        'top_models': '|'.join(top_models),\n",
    "        'weights': '|'.join(f\"{w:.4f}\" for w in best_weights)\n",
    "    }])\n",
    "    log_df = pd.concat([log_df, new_row], ignore_index=True)\n",
    "    log_df.to_csv(log_file, index=False)\n",
    "\n",
    "\n",
    "    run_number += 1\n"
   ]
  }
 ],
 "metadata": {
  "kernelspec": {
   "display_name": ".venv",
   "language": "python",
   "name": "python3"
  },
  "language_info": {
   "codemirror_mode": {
    "name": "ipython",
    "version": 3
   },
   "file_extension": ".py",
   "mimetype": "text/x-python",
   "name": "python",
   "nbconvert_exporter": "python",
   "pygments_lexer": "ipython3",
   "version": "3.10.0"
  }
 },
 "nbformat": 4,
 "nbformat_minor": 5
}
