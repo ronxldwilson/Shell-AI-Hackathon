{
 "cells": [
  {
   "cell_type": "code",
   "execution_count": 1,
   "id": "886cfb0c",
   "metadata": {},
   "outputs": [
    {
     "name": "stderr",
     "output_type": "stream",
     "text": [
      "Epoch 1/300: 100%|██████████| 57/57 [00:05<00:00,  9.67it/s]\n"
     ]
    },
    {
     "name": "stdout",
     "output_type": "stream",
     "text": [
      "Epoch 1/300 | Train Loss: 0.4795 | Val Loss: 0.2699 | Val MAPE: 1928.50%\n"
     ]
    },
    {
     "name": "stderr",
     "output_type": "stream",
     "text": [
      "Epoch 2/300: 100%|██████████| 57/57 [00:05<00:00, 10.57it/s]\n"
     ]
    },
    {
     "name": "stdout",
     "output_type": "stream",
     "text": [
      "Epoch 2/300 | Train Loss: 0.2067 | Val Loss: 0.1555 | Val MAPE: 552.20%\n"
     ]
    },
    {
     "name": "stderr",
     "output_type": "stream",
     "text": [
      "Epoch 3/300: 100%|██████████| 57/57 [00:05<00:00, 10.94it/s]\n"
     ]
    },
    {
     "name": "stdout",
     "output_type": "stream",
     "text": [
      "Epoch 3/300 | Train Loss: 0.1288 | Val Loss: 0.1183 | Val MAPE: 399.75%\n"
     ]
    },
    {
     "name": "stderr",
     "output_type": "stream",
     "text": [
      "Epoch 4/300: 100%|██████████| 57/57 [00:05<00:00, 10.89it/s]\n"
     ]
    },
    {
     "name": "stdout",
     "output_type": "stream",
     "text": [
      "Epoch 4/300 | Train Loss: 0.0940 | Val Loss: 0.0938 | Val MAPE: 686.34%\n"
     ]
    },
    {
     "name": "stderr",
     "output_type": "stream",
     "text": [
      "Epoch 5/300: 100%|██████████| 57/57 [00:05<00:00, 10.79it/s]\n"
     ]
    },
    {
     "name": "stdout",
     "output_type": "stream",
     "text": [
      "Epoch 5/300 | Train Loss: 0.0734 | Val Loss: 0.0847 | Val MAPE: 863.61%\n"
     ]
    },
    {
     "name": "stderr",
     "output_type": "stream",
     "text": [
      "Epoch 6/300: 100%|██████████| 57/57 [00:05<00:00, 11.19it/s]\n"
     ]
    },
    {
     "name": "stdout",
     "output_type": "stream",
     "text": [
      "Epoch 6/300 | Train Loss: 0.0558 | Val Loss: 0.0822 | Val MAPE: 940.99%\n"
     ]
    },
    {
     "name": "stderr",
     "output_type": "stream",
     "text": [
      "Epoch 7/300: 100%|██████████| 57/57 [00:05<00:00, 11.03it/s]\n"
     ]
    },
    {
     "name": "stdout",
     "output_type": "stream",
     "text": [
      "Epoch 7/300 | Train Loss: 0.0503 | Val Loss: 0.0752 | Val MAPE: 747.24%\n"
     ]
    },
    {
     "name": "stderr",
     "output_type": "stream",
     "text": [
      "Epoch 8/300: 100%|██████████| 57/57 [00:05<00:00, 10.17it/s]\n"
     ]
    },
    {
     "name": "stdout",
     "output_type": "stream",
     "text": [
      "Epoch 8/300 | Train Loss: 0.0401 | Val Loss: 0.0599 | Val MAPE: 811.03%\n"
     ]
    },
    {
     "name": "stderr",
     "output_type": "stream",
     "text": [
      "Epoch 9/300: 100%|██████████| 57/57 [00:05<00:00, 10.16it/s]\n"
     ]
    },
    {
     "name": "stdout",
     "output_type": "stream",
     "text": [
      "Epoch 9/300 | Train Loss: 0.0358 | Val Loss: 0.0621 | Val MAPE: 936.49%\n"
     ]
    },
    {
     "name": "stderr",
     "output_type": "stream",
     "text": [
      "Epoch 10/300: 100%|██████████| 57/57 [00:05<00:00, 10.16it/s]\n"
     ]
    },
    {
     "name": "stdout",
     "output_type": "stream",
     "text": [
      "Epoch 10/300 | Train Loss: 0.0338 | Val Loss: 0.0622 | Val MAPE: 703.30%\n"
     ]
    },
    {
     "name": "stderr",
     "output_type": "stream",
     "text": [
      "Epoch 11/300: 100%|██████████| 57/57 [00:05<00:00, 10.71it/s]\n"
     ]
    },
    {
     "name": "stdout",
     "output_type": "stream",
     "text": [
      "Epoch 11/300 | Train Loss: 0.0306 | Val Loss: 0.0533 | Val MAPE: 611.24%\n"
     ]
    },
    {
     "name": "stderr",
     "output_type": "stream",
     "text": [
      "Epoch 12/300: 100%|██████████| 57/57 [00:05<00:00, 10.50it/s]\n"
     ]
    },
    {
     "name": "stdout",
     "output_type": "stream",
     "text": [
      "Epoch 12/300 | Train Loss: 0.0308 | Val Loss: 0.0521 | Val MAPE: 691.53%\n"
     ]
    },
    {
     "name": "stderr",
     "output_type": "stream",
     "text": [
      "Epoch 13/300: 100%|██████████| 57/57 [00:05<00:00,  9.65it/s]\n"
     ]
    },
    {
     "name": "stdout",
     "output_type": "stream",
     "text": [
      "Epoch 13/300 | Train Loss: 0.0276 | Val Loss: 0.0545 | Val MAPE: 596.42%\n"
     ]
    },
    {
     "name": "stderr",
     "output_type": "stream",
     "text": [
      "Epoch 14/300: 100%|██████████| 57/57 [00:05<00:00, 10.63it/s]\n"
     ]
    },
    {
     "name": "stdout",
     "output_type": "stream",
     "text": [
      "Epoch 14/300 | Train Loss: 0.0250 | Val Loss: 0.0513 | Val MAPE: 541.72%\n"
     ]
    },
    {
     "name": "stderr",
     "output_type": "stream",
     "text": [
      "Epoch 15/300: 100%|██████████| 57/57 [00:05<00:00, 10.96it/s]\n"
     ]
    },
    {
     "name": "stdout",
     "output_type": "stream",
     "text": [
      "Epoch 15/300 | Train Loss: 0.0229 | Val Loss: 0.0582 | Val MAPE: 574.28%\n"
     ]
    },
    {
     "name": "stderr",
     "output_type": "stream",
     "text": [
      "Epoch 16/300: 100%|██████████| 57/57 [00:05<00:00, 10.92it/s]\n"
     ]
    },
    {
     "name": "stdout",
     "output_type": "stream",
     "text": [
      "Epoch 16/300 | Train Loss: 0.0220 | Val Loss: 0.0584 | Val MAPE: 725.28%\n"
     ]
    },
    {
     "name": "stderr",
     "output_type": "stream",
     "text": [
      "Epoch 17/300: 100%|██████████| 57/57 [00:05<00:00, 11.00it/s]\n"
     ]
    },
    {
     "name": "stdout",
     "output_type": "stream",
     "text": [
      "Epoch 17/300 | Train Loss: 0.0211 | Val Loss: 0.0613 | Val MAPE: 597.47%\n"
     ]
    },
    {
     "name": "stderr",
     "output_type": "stream",
     "text": [
      "Epoch 18/300: 100%|██████████| 57/57 [00:05<00:00, 11.19it/s]\n"
     ]
    },
    {
     "name": "stdout",
     "output_type": "stream",
     "text": [
      "Epoch 18/300 | Train Loss: 0.0199 | Val Loss: 0.0512 | Val MAPE: 554.28%\n"
     ]
    },
    {
     "name": "stderr",
     "output_type": "stream",
     "text": [
      "Epoch 19/300: 100%|██████████| 57/57 [00:05<00:00, 10.72it/s]\n"
     ]
    },
    {
     "name": "stdout",
     "output_type": "stream",
     "text": [
      "Epoch 19/300 | Train Loss: 0.0184 | Val Loss: 0.0539 | Val MAPE: 272.09%\n"
     ]
    },
    {
     "name": "stderr",
     "output_type": "stream",
     "text": [
      "Epoch 20/300: 100%|██████████| 57/57 [00:05<00:00, 11.21it/s]\n"
     ]
    },
    {
     "name": "stdout",
     "output_type": "stream",
     "text": [
      "Epoch 20/300 | Train Loss: 0.0174 | Val Loss: 0.0488 | Val MAPE: 298.70%\n"
     ]
    },
    {
     "name": "stderr",
     "output_type": "stream",
     "text": [
      "Epoch 21/300: 100%|██████████| 57/57 [00:05<00:00, 11.11it/s]\n"
     ]
    },
    {
     "name": "stdout",
     "output_type": "stream",
     "text": [
      "Epoch 21/300 | Train Loss: 0.0168 | Val Loss: 0.0596 | Val MAPE: 530.47%\n"
     ]
    },
    {
     "name": "stderr",
     "output_type": "stream",
     "text": [
      "Epoch 22/300: 100%|██████████| 57/57 [00:05<00:00, 11.07it/s]\n"
     ]
    },
    {
     "name": "stdout",
     "output_type": "stream",
     "text": [
      "Epoch 22/300 | Train Loss: 0.0165 | Val Loss: 0.0451 | Val MAPE: 497.61%\n"
     ]
    },
    {
     "name": "stderr",
     "output_type": "stream",
     "text": [
      "Epoch 23/300: 100%|██████████| 57/57 [00:05<00:00, 11.21it/s]\n"
     ]
    },
    {
     "name": "stdout",
     "output_type": "stream",
     "text": [
      "Epoch 23/300 | Train Loss: 0.0156 | Val Loss: 0.0459 | Val MAPE: 257.96%\n"
     ]
    },
    {
     "name": "stderr",
     "output_type": "stream",
     "text": [
      "Epoch 24/300: 100%|██████████| 57/57 [00:05<00:00, 11.25it/s]\n"
     ]
    },
    {
     "name": "stdout",
     "output_type": "stream",
     "text": [
      "Epoch 24/300 | Train Loss: 0.0151 | Val Loss: 0.0505 | Val MAPE: 409.32%\n"
     ]
    },
    {
     "name": "stderr",
     "output_type": "stream",
     "text": [
      "Epoch 25/300: 100%|██████████| 57/57 [00:05<00:00, 11.04it/s]\n"
     ]
    },
    {
     "name": "stdout",
     "output_type": "stream",
     "text": [
      "Epoch 25/300 | Train Loss: 0.0147 | Val Loss: 0.0429 | Val MAPE: 541.12%\n"
     ]
    },
    {
     "name": "stderr",
     "output_type": "stream",
     "text": [
      "Epoch 26/300: 100%|██████████| 57/57 [00:05<00:00, 11.07it/s]\n"
     ]
    },
    {
     "name": "stdout",
     "output_type": "stream",
     "text": [
      "Epoch 26/300 | Train Loss: 0.0140 | Val Loss: 0.0501 | Val MAPE: 592.27%\n"
     ]
    },
    {
     "name": "stderr",
     "output_type": "stream",
     "text": [
      "Epoch 27/300: 100%|██████████| 57/57 [00:05<00:00, 10.74it/s]\n"
     ]
    },
    {
     "name": "stdout",
     "output_type": "stream",
     "text": [
      "Epoch 27/300 | Train Loss: 0.0139 | Val Loss: 0.0514 | Val MAPE: 433.97%\n"
     ]
    },
    {
     "name": "stderr",
     "output_type": "stream",
     "text": [
      "Epoch 28/300: 100%|██████████| 57/57 [00:05<00:00, 11.14it/s]\n"
     ]
    },
    {
     "name": "stdout",
     "output_type": "stream",
     "text": [
      "Epoch 28/300 | Train Loss: 0.0132 | Val Loss: 0.0469 | Val MAPE: 471.64%\n"
     ]
    },
    {
     "name": "stderr",
     "output_type": "stream",
     "text": [
      "Epoch 29/300: 100%|██████████| 57/57 [00:05<00:00, 11.13it/s]\n"
     ]
    },
    {
     "name": "stdout",
     "output_type": "stream",
     "text": [
      "Epoch 29/300 | Train Loss: 0.0131 | Val Loss: 0.0405 | Val MAPE: 313.77%\n"
     ]
    },
    {
     "name": "stderr",
     "output_type": "stream",
     "text": [
      "Epoch 30/300: 100%|██████████| 57/57 [00:05<00:00, 11.04it/s]\n"
     ]
    },
    {
     "name": "stdout",
     "output_type": "stream",
     "text": [
      "Epoch 30/300 | Train Loss: 0.0130 | Val Loss: 0.0436 | Val MAPE: 452.96%\n"
     ]
    },
    {
     "name": "stderr",
     "output_type": "stream",
     "text": [
      "Epoch 31/300: 100%|██████████| 57/57 [00:05<00:00, 11.28it/s]\n"
     ]
    },
    {
     "name": "stdout",
     "output_type": "stream",
     "text": [
      "Epoch 31/300 | Train Loss: 0.0131 | Val Loss: 0.0490 | Val MAPE: 497.30%\n"
     ]
    },
    {
     "name": "stderr",
     "output_type": "stream",
     "text": [
      "Epoch 32/300: 100%|██████████| 57/57 [00:05<00:00, 11.04it/s]\n"
     ]
    },
    {
     "name": "stdout",
     "output_type": "stream",
     "text": [
      "Epoch 32/300 | Train Loss: 0.0122 | Val Loss: 0.0429 | Val MAPE: 187.81%\n"
     ]
    },
    {
     "name": "stderr",
     "output_type": "stream",
     "text": [
      "Epoch 33/300: 100%|██████████| 57/57 [00:05<00:00, 10.80it/s]\n"
     ]
    },
    {
     "name": "stdout",
     "output_type": "stream",
     "text": [
      "Epoch 33/300 | Train Loss: 0.0125 | Val Loss: 0.0429 | Val MAPE: 352.60%\n"
     ]
    },
    {
     "name": "stderr",
     "output_type": "stream",
     "text": [
      "Epoch 34/300: 100%|██████████| 57/57 [00:05<00:00, 11.16it/s]\n"
     ]
    },
    {
     "name": "stdout",
     "output_type": "stream",
     "text": [
      "Epoch 34/300 | Train Loss: 0.0122 | Val Loss: 0.0432 | Val MAPE: 356.40%\n"
     ]
    },
    {
     "name": "stderr",
     "output_type": "stream",
     "text": [
      "Epoch 35/300: 100%|██████████| 57/57 [00:05<00:00, 10.96it/s]\n"
     ]
    },
    {
     "name": "stdout",
     "output_type": "stream",
     "text": [
      "Epoch 35/300 | Train Loss: 0.0118 | Val Loss: 0.0441 | Val MAPE: 487.13%\n"
     ]
    },
    {
     "name": "stderr",
     "output_type": "stream",
     "text": [
      "Epoch 36/300: 100%|██████████| 57/57 [00:05<00:00,  9.91it/s]\n"
     ]
    },
    {
     "name": "stdout",
     "output_type": "stream",
     "text": [
      "Epoch 36/300 | Train Loss: 0.0119 | Val Loss: 0.0443 | Val MAPE: 90.65%\n"
     ]
    },
    {
     "name": "stderr",
     "output_type": "stream",
     "text": [
      "Epoch 37/300: 100%|██████████| 57/57 [00:05<00:00, 10.43it/s]\n"
     ]
    },
    {
     "name": "stdout",
     "output_type": "stream",
     "text": [
      "Epoch 37/300 | Train Loss: 0.0117 | Val Loss: 0.0480 | Val MAPE: 229.75%\n"
     ]
    },
    {
     "name": "stderr",
     "output_type": "stream",
     "text": [
      "Epoch 38/300: 100%|██████████| 57/57 [00:05<00:00, 10.54it/s]\n"
     ]
    },
    {
     "name": "stdout",
     "output_type": "stream",
     "text": [
      "Epoch 38/300 | Train Loss: 0.0115 | Val Loss: 0.0391 | Val MAPE: 142.12%\n"
     ]
    },
    {
     "name": "stderr",
     "output_type": "stream",
     "text": [
      "Epoch 39/300: 100%|██████████| 57/57 [00:05<00:00, 10.90it/s]\n"
     ]
    },
    {
     "name": "stdout",
     "output_type": "stream",
     "text": [
      "Epoch 39/300 | Train Loss: 0.0113 | Val Loss: 0.0422 | Val MAPE: 463.98%\n"
     ]
    },
    {
     "name": "stderr",
     "output_type": "stream",
     "text": [
      "Epoch 40/300: 100%|██████████| 57/57 [00:05<00:00, 10.78it/s]\n"
     ]
    },
    {
     "name": "stdout",
     "output_type": "stream",
     "text": [
      "Epoch 40/300 | Train Loss: 0.0106 | Val Loss: 0.0438 | Val MAPE: 376.63%\n"
     ]
    },
    {
     "name": "stderr",
     "output_type": "stream",
     "text": [
      "Epoch 41/300: 100%|██████████| 57/57 [00:05<00:00, 10.62it/s]\n"
     ]
    },
    {
     "name": "stdout",
     "output_type": "stream",
     "text": [
      "Epoch 41/300 | Train Loss: 0.0108 | Val Loss: 0.0463 | Val MAPE: 469.95%\n"
     ]
    },
    {
     "name": "stderr",
     "output_type": "stream",
     "text": [
      "Epoch 42/300: 100%|██████████| 57/57 [00:05<00:00, 10.70it/s]\n"
     ]
    },
    {
     "name": "stdout",
     "output_type": "stream",
     "text": [
      "Epoch 42/300 | Train Loss: 0.0108 | Val Loss: 0.0480 | Val MAPE: 250.36%\n"
     ]
    },
    {
     "name": "stderr",
     "output_type": "stream",
     "text": [
      "Epoch 43/300: 100%|██████████| 57/57 [00:05<00:00, 10.98it/s]\n"
     ]
    },
    {
     "name": "stdout",
     "output_type": "stream",
     "text": [
      "Epoch 43/300 | Train Loss: 0.0106 | Val Loss: 0.0412 | Val MAPE: 215.15%\n"
     ]
    },
    {
     "name": "stderr",
     "output_type": "stream",
     "text": [
      "Epoch 44/300: 100%|██████████| 57/57 [00:05<00:00, 10.24it/s]\n"
     ]
    },
    {
     "name": "stdout",
     "output_type": "stream",
     "text": [
      "Epoch 44/300 | Train Loss: 0.0102 | Val Loss: 0.0385 | Val MAPE: 392.02%\n"
     ]
    },
    {
     "name": "stderr",
     "output_type": "stream",
     "text": [
      "Epoch 45/300: 100%|██████████| 57/57 [00:05<00:00, 10.18it/s]\n"
     ]
    },
    {
     "name": "stdout",
     "output_type": "stream",
     "text": [
      "Epoch 45/300 | Train Loss: 0.0104 | Val Loss: 0.0383 | Val MAPE: 290.13%\n"
     ]
    },
    {
     "name": "stderr",
     "output_type": "stream",
     "text": [
      "Epoch 46/300: 100%|██████████| 57/57 [00:05<00:00, 10.82it/s]\n"
     ]
    },
    {
     "name": "stdout",
     "output_type": "stream",
     "text": [
      "Epoch 46/300 | Train Loss: 0.0109 | Val Loss: 0.0418 | Val MAPE: 288.12%\n"
     ]
    },
    {
     "name": "stderr",
     "output_type": "stream",
     "text": [
      "Epoch 47/300: 100%|██████████| 57/57 [00:05<00:00, 10.69it/s]\n"
     ]
    },
    {
     "name": "stdout",
     "output_type": "stream",
     "text": [
      "Epoch 47/300 | Train Loss: 0.0116 | Val Loss: 0.0401 | Val MAPE: 489.25%\n"
     ]
    },
    {
     "name": "stderr",
     "output_type": "stream",
     "text": [
      "Epoch 48/300: 100%|██████████| 57/57 [00:05<00:00, 10.98it/s]\n"
     ]
    },
    {
     "name": "stdout",
     "output_type": "stream",
     "text": [
      "Epoch 48/300 | Train Loss: 0.0141 | Val Loss: 0.0451 | Val MAPE: 133.41%\n"
     ]
    },
    {
     "name": "stderr",
     "output_type": "stream",
     "text": [
      "Epoch 49/300: 100%|██████████| 57/57 [00:05<00:00, 10.87it/s]\n"
     ]
    },
    {
     "name": "stdout",
     "output_type": "stream",
     "text": [
      "Epoch 49/300 | Train Loss: 0.0131 | Val Loss: 0.0397 | Val MAPE: 99.54%\n"
     ]
    },
    {
     "name": "stderr",
     "output_type": "stream",
     "text": [
      "Epoch 50/300: 100%|██████████| 57/57 [00:05<00:00, 10.93it/s]\n"
     ]
    },
    {
     "name": "stdout",
     "output_type": "stream",
     "text": [
      "Epoch 50/300 | Train Loss: 0.0115 | Val Loss: 0.0571 | Val MAPE: 348.21%\n"
     ]
    },
    {
     "name": "stderr",
     "output_type": "stream",
     "text": [
      "Epoch 51/300: 100%|██████████| 57/57 [00:05<00:00, 11.24it/s]\n"
     ]
    },
    {
     "name": "stdout",
     "output_type": "stream",
     "text": [
      "Epoch 51/300 | Train Loss: 0.0106 | Val Loss: 0.0471 | Val MAPE: 324.04%\n"
     ]
    },
    {
     "name": "stderr",
     "output_type": "stream",
     "text": [
      "Epoch 52/300: 100%|██████████| 57/57 [00:05<00:00, 11.24it/s]\n"
     ]
    },
    {
     "name": "stdout",
     "output_type": "stream",
     "text": [
      "Epoch 52/300 | Train Loss: 0.0095 | Val Loss: 0.0438 | Val MAPE: 95.46%\n"
     ]
    },
    {
     "name": "stderr",
     "output_type": "stream",
     "text": [
      "Epoch 53/300: 100%|██████████| 57/57 [00:05<00:00, 11.19it/s]\n"
     ]
    },
    {
     "name": "stdout",
     "output_type": "stream",
     "text": [
      "Epoch 53/300 | Train Loss: 0.0092 | Val Loss: 0.0398 | Val MAPE: 248.45%\n"
     ]
    },
    {
     "name": "stderr",
     "output_type": "stream",
     "text": [
      "Epoch 54/300: 100%|██████████| 57/57 [00:05<00:00, 11.31it/s]\n"
     ]
    },
    {
     "name": "stdout",
     "output_type": "stream",
     "text": [
      "Epoch 54/300 | Train Loss: 0.0097 | Val Loss: 0.0330 | Val MAPE: 387.95%\n"
     ]
    },
    {
     "name": "stderr",
     "output_type": "stream",
     "text": [
      "Epoch 55/300: 100%|██████████| 57/57 [00:05<00:00, 11.02it/s]\n"
     ]
    },
    {
     "name": "stdout",
     "output_type": "stream",
     "text": [
      "Epoch 55/300 | Train Loss: 0.0102 | Val Loss: 0.0428 | Val MAPE: 414.50%\n"
     ]
    },
    {
     "name": "stderr",
     "output_type": "stream",
     "text": [
      "Epoch 56/300: 100%|██████████| 57/57 [00:05<00:00, 11.33it/s]\n"
     ]
    },
    {
     "name": "stdout",
     "output_type": "stream",
     "text": [
      "Epoch 56/300 | Train Loss: 0.0101 | Val Loss: 0.0379 | Val MAPE: 425.04%\n"
     ]
    },
    {
     "name": "stderr",
     "output_type": "stream",
     "text": [
      "Epoch 57/300: 100%|██████████| 57/57 [00:04<00:00, 11.42it/s]\n"
     ]
    },
    {
     "name": "stdout",
     "output_type": "stream",
     "text": [
      "Epoch 57/300 | Train Loss: 0.0096 | Val Loss: 0.0357 | Val MAPE: 571.04%\n"
     ]
    },
    {
     "name": "stderr",
     "output_type": "stream",
     "text": [
      "Epoch 58/300: 100%|██████████| 57/57 [00:05<00:00, 11.19it/s]\n"
     ]
    },
    {
     "name": "stdout",
     "output_type": "stream",
     "text": [
      "Epoch 58/300 | Train Loss: 0.0090 | Val Loss: 0.0350 | Val MAPE: 348.39%\n"
     ]
    },
    {
     "name": "stderr",
     "output_type": "stream",
     "text": [
      "Epoch 59/300: 100%|██████████| 57/57 [00:05<00:00, 11.29it/s]\n"
     ]
    },
    {
     "name": "stdout",
     "output_type": "stream",
     "text": [
      "Epoch 59/300 | Train Loss: 0.0088 | Val Loss: 0.0378 | Val MAPE: 265.93%\n"
     ]
    },
    {
     "name": "stderr",
     "output_type": "stream",
     "text": [
      "Epoch 60/300: 100%|██████████| 57/57 [00:05<00:00, 10.80it/s]\n"
     ]
    },
    {
     "name": "stdout",
     "output_type": "stream",
     "text": [
      "Epoch 60/300 | Train Loss: 0.0086 | Val Loss: 0.0411 | Val MAPE: 548.85%\n"
     ]
    },
    {
     "name": "stderr",
     "output_type": "stream",
     "text": [
      "Epoch 61/300: 100%|██████████| 57/57 [00:05<00:00, 10.49it/s]\n"
     ]
    },
    {
     "name": "stdout",
     "output_type": "stream",
     "text": [
      "Epoch 61/300 | Train Loss: 0.0083 | Val Loss: 0.0510 | Val MAPE: 217.21%\n"
     ]
    },
    {
     "name": "stderr",
     "output_type": "stream",
     "text": [
      "Epoch 62/300: 100%|██████████| 57/57 [00:05<00:00, 10.96it/s]\n"
     ]
    },
    {
     "name": "stdout",
     "output_type": "stream",
     "text": [
      "Epoch 62/300 | Train Loss: 0.0088 | Val Loss: 0.0403 | Val MAPE: 245.15%\n"
     ]
    },
    {
     "name": "stderr",
     "output_type": "stream",
     "text": [
      "Epoch 63/300: 100%|██████████| 57/57 [00:05<00:00, 11.01it/s]\n"
     ]
    },
    {
     "name": "stdout",
     "output_type": "stream",
     "text": [
      "Epoch 63/300 | Train Loss: 0.0089 | Val Loss: 0.0426 | Val MAPE: 268.73%\n"
     ]
    },
    {
     "name": "stderr",
     "output_type": "stream",
     "text": [
      "Epoch 64/300: 100%|██████████| 57/57 [00:05<00:00, 11.14it/s]\n"
     ]
    },
    {
     "name": "stdout",
     "output_type": "stream",
     "text": [
      "Epoch 64/300 | Train Loss: 0.0090 | Val Loss: 0.0445 | Val MAPE: 325.01%\n"
     ]
    },
    {
     "name": "stderr",
     "output_type": "stream",
     "text": [
      "Epoch 65/300: 100%|██████████| 57/57 [00:05<00:00, 11.20it/s]\n"
     ]
    },
    {
     "name": "stdout",
     "output_type": "stream",
     "text": [
      "Epoch 65/300 | Train Loss: 0.0082 | Val Loss: 0.0388 | Val MAPE: 347.70%\n"
     ]
    },
    {
     "name": "stderr",
     "output_type": "stream",
     "text": [
      "Epoch 66/300: 100%|██████████| 57/57 [00:05<00:00, 11.09it/s]\n"
     ]
    },
    {
     "name": "stdout",
     "output_type": "stream",
     "text": [
      "Epoch 66/300 | Train Loss: 0.0081 | Val Loss: 0.0353 | Val MAPE: 315.95%\n"
     ]
    },
    {
     "name": "stderr",
     "output_type": "stream",
     "text": [
      "Epoch 67/300: 100%|██████████| 57/57 [00:05<00:00, 11.04it/s]\n"
     ]
    },
    {
     "name": "stdout",
     "output_type": "stream",
     "text": [
      "Epoch 67/300 | Train Loss: 0.0083 | Val Loss: 0.0378 | Val MAPE: 388.05%\n"
     ]
    },
    {
     "name": "stderr",
     "output_type": "stream",
     "text": [
      "Epoch 68/300: 100%|██████████| 57/57 [00:05<00:00, 10.93it/s]\n"
     ]
    },
    {
     "name": "stdout",
     "output_type": "stream",
     "text": [
      "Epoch 68/300 | Train Loss: 0.0075 | Val Loss: 0.0372 | Val MAPE: 354.60%\n"
     ]
    },
    {
     "name": "stderr",
     "output_type": "stream",
     "text": [
      "Epoch 69/300: 100%|██████████| 57/57 [00:05<00:00, 11.08it/s]\n"
     ]
    },
    {
     "name": "stdout",
     "output_type": "stream",
     "text": [
      "Epoch 69/300 | Train Loss: 0.0077 | Val Loss: 0.0398 | Val MAPE: 375.85%\n"
     ]
    },
    {
     "name": "stderr",
     "output_type": "stream",
     "text": [
      "Epoch 70/300: 100%|██████████| 57/57 [00:05<00:00, 11.07it/s]\n"
     ]
    },
    {
     "name": "stdout",
     "output_type": "stream",
     "text": [
      "Epoch 70/300 | Train Loss: 0.0080 | Val Loss: 0.0444 | Val MAPE: 259.06%\n"
     ]
    },
    {
     "name": "stderr",
     "output_type": "stream",
     "text": [
      "Epoch 71/300: 100%|██████████| 57/57 [00:05<00:00, 11.29it/s]\n"
     ]
    },
    {
     "name": "stdout",
     "output_type": "stream",
     "text": [
      "Epoch 71/300 | Train Loss: 0.0075 | Val Loss: 0.0443 | Val MAPE: 246.35%\n"
     ]
    },
    {
     "name": "stderr",
     "output_type": "stream",
     "text": [
      "Epoch 72/300: 100%|██████████| 57/57 [00:05<00:00, 10.96it/s]\n"
     ]
    },
    {
     "name": "stdout",
     "output_type": "stream",
     "text": [
      "Epoch 72/300 | Train Loss: 0.0076 | Val Loss: 0.0422 | Val MAPE: 217.84%\n"
     ]
    },
    {
     "name": "stderr",
     "output_type": "stream",
     "text": [
      "Epoch 73/300: 100%|██████████| 57/57 [00:05<00:00, 11.11it/s]\n"
     ]
    },
    {
     "name": "stdout",
     "output_type": "stream",
     "text": [
      "Epoch 73/300 | Train Loss: 0.0078 | Val Loss: 0.0519 | Val MAPE: 207.07%\n"
     ]
    },
    {
     "name": "stderr",
     "output_type": "stream",
     "text": [
      "Epoch 74/300: 100%|██████████| 57/57 [00:05<00:00, 11.25it/s]\n"
     ]
    },
    {
     "name": "stdout",
     "output_type": "stream",
     "text": [
      "Epoch 74/300 | Train Loss: 0.0076 | Val Loss: 0.0478 | Val MAPE: 317.47%\n"
     ]
    },
    {
     "name": "stderr",
     "output_type": "stream",
     "text": [
      "Epoch 75/300: 100%|██████████| 57/57 [00:05<00:00, 11.29it/s]\n"
     ]
    },
    {
     "name": "stdout",
     "output_type": "stream",
     "text": [
      "Epoch 75/300 | Train Loss: 0.0075 | Val Loss: 0.0432 | Val MAPE: 358.70%\n"
     ]
    },
    {
     "name": "stderr",
     "output_type": "stream",
     "text": [
      "Epoch 76/300: 100%|██████████| 57/57 [00:05<00:00, 11.14it/s]\n"
     ]
    },
    {
     "name": "stdout",
     "output_type": "stream",
     "text": [
      "Epoch 76/300 | Train Loss: 0.0075 | Val Loss: 0.0548 | Val MAPE: 327.89%\n"
     ]
    },
    {
     "name": "stderr",
     "output_type": "stream",
     "text": [
      "Epoch 77/300: 100%|██████████| 57/57 [00:05<00:00, 10.66it/s]\n"
     ]
    },
    {
     "name": "stdout",
     "output_type": "stream",
     "text": [
      "Epoch 77/300 | Train Loss: 0.0075 | Val Loss: 0.0484 | Val MAPE: 251.30%\n"
     ]
    },
    {
     "name": "stderr",
     "output_type": "stream",
     "text": [
      "Epoch 78/300: 100%|██████████| 57/57 [00:05<00:00,  9.58it/s]\n"
     ]
    },
    {
     "name": "stdout",
     "output_type": "stream",
     "text": [
      "Epoch 78/300 | Train Loss: 0.0084 | Val Loss: 0.0368 | Val MAPE: 135.59%\n"
     ]
    },
    {
     "name": "stderr",
     "output_type": "stream",
     "text": [
      "Epoch 79/300: 100%|██████████| 57/57 [00:05<00:00, 10.81it/s]\n"
     ]
    },
    {
     "name": "stdout",
     "output_type": "stream",
     "text": [
      "Epoch 79/300 | Train Loss: 0.0077 | Val Loss: 0.0357 | Val MAPE: 132.82%\n"
     ]
    },
    {
     "name": "stderr",
     "output_type": "stream",
     "text": [
      "Epoch 80/300: 100%|██████████| 57/57 [00:05<00:00, 10.64it/s]\n"
     ]
    },
    {
     "name": "stdout",
     "output_type": "stream",
     "text": [
      "Epoch 80/300 | Train Loss: 0.0081 | Val Loss: 0.0436 | Val MAPE: 74.01%\n"
     ]
    },
    {
     "name": "stderr",
     "output_type": "stream",
     "text": [
      "Epoch 81/300: 100%|██████████| 57/57 [00:05<00:00, 10.46it/s]\n"
     ]
    },
    {
     "name": "stdout",
     "output_type": "stream",
     "text": [
      "Epoch 81/300 | Train Loss: 0.0074 | Val Loss: 0.0341 | Val MAPE: 109.30%\n"
     ]
    },
    {
     "name": "stderr",
     "output_type": "stream",
     "text": [
      "Epoch 82/300: 100%|██████████| 57/57 [00:05<00:00, 10.69it/s]\n"
     ]
    },
    {
     "name": "stdout",
     "output_type": "stream",
     "text": [
      "Epoch 82/300 | Train Loss: 0.0076 | Val Loss: 0.0514 | Val MAPE: 56.57%\n"
     ]
    },
    {
     "name": "stderr",
     "output_type": "stream",
     "text": [
      "Epoch 83/300: 100%|██████████| 57/57 [00:05<00:00, 10.56it/s]\n"
     ]
    },
    {
     "name": "stdout",
     "output_type": "stream",
     "text": [
      "Epoch 83/300 | Train Loss: 0.0078 | Val Loss: 0.0356 | Val MAPE: 91.77%\n"
     ]
    },
    {
     "name": "stderr",
     "output_type": "stream",
     "text": [
      "Epoch 84/300: 100%|██████████| 57/57 [00:05<00:00, 10.38it/s]\n"
     ]
    },
    {
     "name": "stdout",
     "output_type": "stream",
     "text": [
      "Epoch 84/300 | Train Loss: 0.0077 | Val Loss: 0.0452 | Val MAPE: 145.01%\n"
     ]
    },
    {
     "name": "stderr",
     "output_type": "stream",
     "text": [
      "Epoch 85/300: 100%|██████████| 57/57 [00:05<00:00, 10.83it/s]\n"
     ]
    },
    {
     "name": "stdout",
     "output_type": "stream",
     "text": [
      "Epoch 85/300 | Train Loss: 0.0084 | Val Loss: 0.0407 | Val MAPE: 82.90%\n"
     ]
    },
    {
     "name": "stderr",
     "output_type": "stream",
     "text": [
      "Epoch 86/300: 100%|██████████| 57/57 [00:05<00:00, 10.74it/s]\n"
     ]
    },
    {
     "name": "stdout",
     "output_type": "stream",
     "text": [
      "Epoch 86/300 | Train Loss: 0.0101 | Val Loss: 0.0423 | Val MAPE: 160.77%\n"
     ]
    },
    {
     "name": "stderr",
     "output_type": "stream",
     "text": [
      "Epoch 87/300: 100%|██████████| 57/57 [00:05<00:00, 10.66it/s]\n"
     ]
    },
    {
     "name": "stdout",
     "output_type": "stream",
     "text": [
      "Epoch 87/300 | Train Loss: 0.0132 | Val Loss: 0.0474 | Val MAPE: 162.92%\n"
     ]
    },
    {
     "name": "stderr",
     "output_type": "stream",
     "text": [
      "Epoch 88/300: 100%|██████████| 57/57 [00:05<00:00, 10.56it/s]\n"
     ]
    },
    {
     "name": "stdout",
     "output_type": "stream",
     "text": [
      "Epoch 88/300 | Train Loss: 0.0106 | Val Loss: 0.0487 | Val MAPE: 254.84%\n"
     ]
    },
    {
     "name": "stderr",
     "output_type": "stream",
     "text": [
      "Epoch 89/300: 100%|██████████| 57/57 [00:05<00:00, 10.40it/s]\n"
     ]
    },
    {
     "name": "stdout",
     "output_type": "stream",
     "text": [
      "Epoch 89/300 | Train Loss: 0.0085 | Val Loss: 0.0381 | Val MAPE: 129.68%\n"
     ]
    },
    {
     "name": "stderr",
     "output_type": "stream",
     "text": [
      "Epoch 90/300: 100%|██████████| 57/57 [00:05<00:00, 10.13it/s]\n"
     ]
    },
    {
     "name": "stdout",
     "output_type": "stream",
     "text": [
      "Epoch 90/300 | Train Loss: 0.0084 | Val Loss: 0.0514 | Val MAPE: 95.23%\n"
     ]
    },
    {
     "name": "stderr",
     "output_type": "stream",
     "text": [
      "Epoch 91/300: 100%|██████████| 57/57 [00:05<00:00, 10.21it/s]\n"
     ]
    },
    {
     "name": "stdout",
     "output_type": "stream",
     "text": [
      "Epoch 91/300 | Train Loss: 0.0095 | Val Loss: 0.0562 | Val MAPE: 299.63%\n"
     ]
    },
    {
     "name": "stderr",
     "output_type": "stream",
     "text": [
      "Epoch 92/300: 100%|██████████| 57/57 [00:05<00:00,  9.69it/s]\n"
     ]
    },
    {
     "name": "stdout",
     "output_type": "stream",
     "text": [
      "Epoch 92/300 | Train Loss: 0.0095 | Val Loss: 0.0366 | Val MAPE: 84.32%\n"
     ]
    },
    {
     "name": "stderr",
     "output_type": "stream",
     "text": [
      "Epoch 93/300: 100%|██████████| 57/57 [00:05<00:00, 10.86it/s]\n"
     ]
    },
    {
     "name": "stdout",
     "output_type": "stream",
     "text": [
      "Epoch 93/300 | Train Loss: 0.0087 | Val Loss: 0.0441 | Val MAPE: 239.09%\n"
     ]
    },
    {
     "name": "stderr",
     "output_type": "stream",
     "text": [
      "Epoch 94/300: 100%|██████████| 57/57 [00:05<00:00, 10.44it/s]\n"
     ]
    },
    {
     "name": "stdout",
     "output_type": "stream",
     "text": [
      "Epoch 94/300 | Train Loss: 0.0071 | Val Loss: 0.0421 | Val MAPE: 163.27%\n"
     ]
    },
    {
     "name": "stderr",
     "output_type": "stream",
     "text": [
      "Epoch 95/300: 100%|██████████| 57/57 [00:05<00:00, 10.99it/s]\n"
     ]
    },
    {
     "name": "stdout",
     "output_type": "stream",
     "text": [
      "Epoch 95/300 | Train Loss: 0.0066 | Val Loss: 0.0386 | Val MAPE: 165.39%\n"
     ]
    },
    {
     "name": "stderr",
     "output_type": "stream",
     "text": [
      "Epoch 96/300: 100%|██████████| 57/57 [00:05<00:00, 10.66it/s]\n"
     ]
    },
    {
     "name": "stdout",
     "output_type": "stream",
     "text": [
      "Epoch 96/300 | Train Loss: 0.0068 | Val Loss: 0.0474 | Val MAPE: 62.78%\n"
     ]
    },
    {
     "name": "stderr",
     "output_type": "stream",
     "text": [
      "Epoch 97/300: 100%|██████████| 57/57 [00:05<00:00, 10.59it/s]\n"
     ]
    },
    {
     "name": "stdout",
     "output_type": "stream",
     "text": [
      "Epoch 97/300 | Train Loss: 0.0065 | Val Loss: 0.0358 | Val MAPE: 104.02%\n"
     ]
    },
    {
     "name": "stderr",
     "output_type": "stream",
     "text": [
      "Epoch 98/300: 100%|██████████| 57/57 [00:05<00:00, 10.49it/s]\n"
     ]
    },
    {
     "name": "stdout",
     "output_type": "stream",
     "text": [
      "Epoch 98/300 | Train Loss: 0.0062 | Val Loss: 0.0362 | Val MAPE: 271.42%\n"
     ]
    },
    {
     "name": "stderr",
     "output_type": "stream",
     "text": [
      "Epoch 99/300: 100%|██████████| 57/57 [00:06<00:00,  9.27it/s]\n"
     ]
    },
    {
     "name": "stdout",
     "output_type": "stream",
     "text": [
      "Epoch 99/300 | Train Loss: 0.0066 | Val Loss: 0.0450 | Val MAPE: 74.33%\n"
     ]
    },
    {
     "name": "stderr",
     "output_type": "stream",
     "text": [
      "Epoch 100/300: 100%|██████████| 57/57 [00:05<00:00, 10.21it/s]\n"
     ]
    },
    {
     "name": "stdout",
     "output_type": "stream",
     "text": [
      "Epoch 100/300 | Train Loss: 0.0064 | Val Loss: 0.0570 | Val MAPE: 66.33%\n"
     ]
    },
    {
     "name": "stderr",
     "output_type": "stream",
     "text": [
      "Epoch 101/300: 100%|██████████| 57/57 [00:05<00:00, 11.01it/s]\n"
     ]
    },
    {
     "name": "stdout",
     "output_type": "stream",
     "text": [
      "Epoch 101/300 | Train Loss: 0.0063 | Val Loss: 0.0540 | Val MAPE: 93.72%\n"
     ]
    },
    {
     "name": "stderr",
     "output_type": "stream",
     "text": [
      "Epoch 102/300: 100%|██████████| 57/57 [00:05<00:00, 10.89it/s]\n"
     ]
    },
    {
     "name": "stdout",
     "output_type": "stream",
     "text": [
      "Epoch 102/300 | Train Loss: 0.0067 | Val Loss: 0.0413 | Val MAPE: 86.26%\n"
     ]
    },
    {
     "name": "stderr",
     "output_type": "stream",
     "text": [
      "Epoch 103/300: 100%|██████████| 57/57 [00:05<00:00, 11.08it/s]\n"
     ]
    },
    {
     "name": "stdout",
     "output_type": "stream",
     "text": [
      "Epoch 103/300 | Train Loss: 0.0063 | Val Loss: 0.0375 | Val MAPE: 119.65%\n"
     ]
    },
    {
     "name": "stderr",
     "output_type": "stream",
     "text": [
      "Epoch 104/300: 100%|██████████| 57/57 [00:05<00:00, 10.99it/s]\n"
     ]
    },
    {
     "name": "stdout",
     "output_type": "stream",
     "text": [
      "Epoch 104/300 | Train Loss: 0.0062 | Val Loss: 0.0362 | Val MAPE: 220.92%\n"
     ]
    },
    {
     "name": "stderr",
     "output_type": "stream",
     "text": [
      "Epoch 105/300: 100%|██████████| 57/57 [00:05<00:00, 10.74it/s]\n"
     ]
    },
    {
     "name": "stdout",
     "output_type": "stream",
     "text": [
      "Epoch 105/300 | Train Loss: 0.0059 | Val Loss: 0.0377 | Val MAPE: 261.35%\n"
     ]
    },
    {
     "name": "stderr",
     "output_type": "stream",
     "text": [
      "Epoch 106/300: 100%|██████████| 57/57 [00:05<00:00, 11.18it/s]\n"
     ]
    },
    {
     "name": "stdout",
     "output_type": "stream",
     "text": [
      "Epoch 106/300 | Train Loss: 0.0063 | Val Loss: 0.0386 | Val MAPE: 117.89%\n"
     ]
    },
    {
     "name": "stderr",
     "output_type": "stream",
     "text": [
      "Epoch 107/300: 100%|██████████| 57/57 [00:05<00:00, 11.04it/s]\n"
     ]
    },
    {
     "name": "stdout",
     "output_type": "stream",
     "text": [
      "Epoch 107/300 | Train Loss: 0.0059 | Val Loss: 0.0351 | Val MAPE: 81.40%\n"
     ]
    },
    {
     "name": "stderr",
     "output_type": "stream",
     "text": [
      "Epoch 108/300: 100%|██████████| 57/57 [00:05<00:00, 11.30it/s]\n"
     ]
    },
    {
     "name": "stdout",
     "output_type": "stream",
     "text": [
      "Epoch 108/300 | Train Loss: 0.0060 | Val Loss: 0.0334 | Val MAPE: 83.01%\n"
     ]
    },
    {
     "name": "stderr",
     "output_type": "stream",
     "text": [
      "Epoch 109/300: 100%|██████████| 57/57 [00:05<00:00, 10.85it/s]\n"
     ]
    },
    {
     "name": "stdout",
     "output_type": "stream",
     "text": [
      "Epoch 109/300 | Train Loss: 0.0056 | Val Loss: 0.0349 | Val MAPE: 67.29%\n"
     ]
    },
    {
     "name": "stderr",
     "output_type": "stream",
     "text": [
      "Epoch 110/300: 100%|██████████| 57/57 [00:05<00:00, 11.05it/s]\n"
     ]
    },
    {
     "name": "stdout",
     "output_type": "stream",
     "text": [
      "Epoch 110/300 | Train Loss: 0.0061 | Val Loss: 0.0350 | Val MAPE: 131.55%\n"
     ]
    },
    {
     "name": "stderr",
     "output_type": "stream",
     "text": [
      "Epoch 111/300: 100%|██████████| 57/57 [00:05<00:00, 10.91it/s]\n"
     ]
    },
    {
     "name": "stdout",
     "output_type": "stream",
     "text": [
      "Epoch 111/300 | Train Loss: 0.0059 | Val Loss: 0.0316 | Val MAPE: 51.14%\n"
     ]
    },
    {
     "name": "stderr",
     "output_type": "stream",
     "text": [
      "Epoch 112/300: 100%|██████████| 57/57 [00:05<00:00, 11.12it/s]\n"
     ]
    },
    {
     "name": "stdout",
     "output_type": "stream",
     "text": [
      "Epoch 112/300 | Train Loss: 0.0058 | Val Loss: 0.0604 | Val MAPE: 176.27%\n"
     ]
    },
    {
     "name": "stderr",
     "output_type": "stream",
     "text": [
      "Epoch 113/300: 100%|██████████| 57/57 [00:05<00:00, 10.35it/s]\n"
     ]
    },
    {
     "name": "stdout",
     "output_type": "stream",
     "text": [
      "Epoch 113/300 | Train Loss: 0.0059 | Val Loss: 0.0421 | Val MAPE: 189.22%\n"
     ]
    },
    {
     "name": "stderr",
     "output_type": "stream",
     "text": [
      "Epoch 114/300: 100%|██████████| 57/57 [00:05<00:00, 10.72it/s]\n"
     ]
    },
    {
     "name": "stdout",
     "output_type": "stream",
     "text": [
      "Epoch 114/300 | Train Loss: 0.0060 | Val Loss: 0.0443 | Val MAPE: 148.91%\n"
     ]
    },
    {
     "name": "stderr",
     "output_type": "stream",
     "text": [
      "Epoch 115/300: 100%|██████████| 57/57 [00:05<00:00, 10.65it/s]\n"
     ]
    },
    {
     "name": "stdout",
     "output_type": "stream",
     "text": [
      "Epoch 115/300 | Train Loss: 0.0057 | Val Loss: 0.0468 | Val MAPE: 134.11%\n"
     ]
    },
    {
     "name": "stderr",
     "output_type": "stream",
     "text": [
      "Epoch 116/300: 100%|██████████| 57/57 [00:05<00:00, 10.23it/s]\n"
     ]
    },
    {
     "name": "stdout",
     "output_type": "stream",
     "text": [
      "Epoch 116/300 | Train Loss: 0.0056 | Val Loss: 0.0382 | Val MAPE: 136.36%\n"
     ]
    },
    {
     "name": "stderr",
     "output_type": "stream",
     "text": [
      "Epoch 117/300: 100%|██████████| 57/57 [00:05<00:00, 10.31it/s]\n"
     ]
    },
    {
     "name": "stdout",
     "output_type": "stream",
     "text": [
      "Epoch 117/300 | Train Loss: 0.0051 | Val Loss: 0.0396 | Val MAPE: 198.86%\n"
     ]
    },
    {
     "name": "stderr",
     "output_type": "stream",
     "text": [
      "Epoch 118/300: 100%|██████████| 57/57 [00:05<00:00, 10.46it/s]\n"
     ]
    },
    {
     "name": "stdout",
     "output_type": "stream",
     "text": [
      "Epoch 118/300 | Train Loss: 0.0054 | Val Loss: 0.0416 | Val MAPE: 85.71%\n"
     ]
    },
    {
     "name": "stderr",
     "output_type": "stream",
     "text": [
      "Epoch 119/300: 100%|██████████| 57/57 [00:05<00:00, 10.21it/s]\n"
     ]
    },
    {
     "name": "stdout",
     "output_type": "stream",
     "text": [
      "Epoch 119/300 | Train Loss: 0.0053 | Val Loss: 0.0350 | Val MAPE: 77.97%\n"
     ]
    },
    {
     "name": "stderr",
     "output_type": "stream",
     "text": [
      "Epoch 120/300: 100%|██████████| 57/57 [00:05<00:00, 11.28it/s]\n"
     ]
    },
    {
     "name": "stdout",
     "output_type": "stream",
     "text": [
      "Epoch 120/300 | Train Loss: 0.0054 | Val Loss: 0.0398 | Val MAPE: 138.07%\n"
     ]
    },
    {
     "name": "stderr",
     "output_type": "stream",
     "text": [
      "Epoch 121/300: 100%|██████████| 57/57 [00:04<00:00, 11.99it/s]\n"
     ]
    },
    {
     "name": "stdout",
     "output_type": "stream",
     "text": [
      "Epoch 121/300 | Train Loss: 0.0054 | Val Loss: 0.0367 | Val MAPE: 75.56%\n"
     ]
    },
    {
     "name": "stderr",
     "output_type": "stream",
     "text": [
      "Epoch 122/300: 100%|██████████| 57/57 [00:05<00:00, 11.14it/s]\n"
     ]
    },
    {
     "name": "stdout",
     "output_type": "stream",
     "text": [
      "Epoch 122/300 | Train Loss: 0.0057 | Val Loss: 0.0450 | Val MAPE: 55.04%\n"
     ]
    },
    {
     "name": "stderr",
     "output_type": "stream",
     "text": [
      "Epoch 123/300: 100%|██████████| 57/57 [00:04<00:00, 11.65it/s]\n"
     ]
    },
    {
     "name": "stdout",
     "output_type": "stream",
     "text": [
      "Epoch 123/300 | Train Loss: 0.0055 | Val Loss: 0.0383 | Val MAPE: 64.46%\n"
     ]
    },
    {
     "name": "stderr",
     "output_type": "stream",
     "text": [
      "Epoch 124/300: 100%|██████████| 57/57 [00:05<00:00, 11.40it/s]\n"
     ]
    },
    {
     "name": "stdout",
     "output_type": "stream",
     "text": [
      "Epoch 124/300 | Train Loss: 0.0053 | Val Loss: 0.0448 | Val MAPE: 92.21%\n"
     ]
    },
    {
     "name": "stderr",
     "output_type": "stream",
     "text": [
      "Epoch 125/300: 100%|██████████| 57/57 [00:04<00:00, 11.97it/s]\n"
     ]
    },
    {
     "name": "stdout",
     "output_type": "stream",
     "text": [
      "Epoch 125/300 | Train Loss: 0.0058 | Val Loss: 0.0258 | Val MAPE: 147.03%\n"
     ]
    },
    {
     "name": "stderr",
     "output_type": "stream",
     "text": [
      "Epoch 126/300: 100%|██████████| 57/57 [00:04<00:00, 11.61it/s]\n"
     ]
    },
    {
     "name": "stdout",
     "output_type": "stream",
     "text": [
      "Epoch 126/300 | Train Loss: 0.0116 | Val Loss: 0.0635 | Val MAPE: 86.58%\n"
     ]
    },
    {
     "name": "stderr",
     "output_type": "stream",
     "text": [
      "Epoch 127/300: 100%|██████████| 57/57 [00:04<00:00, 11.94it/s]\n"
     ]
    },
    {
     "name": "stdout",
     "output_type": "stream",
     "text": [
      "Epoch 127/300 | Train Loss: 0.0165 | Val Loss: 0.0574 | Val MAPE: 166.22%\n"
     ]
    },
    {
     "name": "stderr",
     "output_type": "stream",
     "text": [
      "Epoch 128/300: 100%|██████████| 57/57 [00:05<00:00, 11.24it/s]\n"
     ]
    },
    {
     "name": "stdout",
     "output_type": "stream",
     "text": [
      "Epoch 128/300 | Train Loss: 0.0164 | Val Loss: 0.0395 | Val MAPE: 145.48%\n"
     ]
    },
    {
     "name": "stderr",
     "output_type": "stream",
     "text": [
      "Epoch 129/300: 100%|██████████| 57/57 [00:04<00:00, 11.55it/s]\n"
     ]
    },
    {
     "name": "stdout",
     "output_type": "stream",
     "text": [
      "Epoch 129/300 | Train Loss: 0.0147 | Val Loss: 0.0480 | Val MAPE: 104.16%\n"
     ]
    },
    {
     "name": "stderr",
     "output_type": "stream",
     "text": [
      "Epoch 130/300: 100%|██████████| 57/57 [00:05<00:00, 10.13it/s]\n"
     ]
    },
    {
     "name": "stdout",
     "output_type": "stream",
     "text": [
      "Epoch 130/300 | Train Loss: 0.0123 | Val Loss: 0.0341 | Val MAPE: 84.32%\n"
     ]
    },
    {
     "name": "stderr",
     "output_type": "stream",
     "text": [
      "Epoch 131/300: 100%|██████████| 57/57 [00:04<00:00, 11.60it/s]\n"
     ]
    },
    {
     "name": "stdout",
     "output_type": "stream",
     "text": [
      "Epoch 131/300 | Train Loss: 0.0091 | Val Loss: 0.0499 | Val MAPE: 110.12%\n"
     ]
    },
    {
     "name": "stderr",
     "output_type": "stream",
     "text": [
      "Epoch 132/300: 100%|██████████| 57/57 [00:05<00:00, 10.78it/s]\n"
     ]
    },
    {
     "name": "stdout",
     "output_type": "stream",
     "text": [
      "Epoch 132/300 | Train Loss: 0.0078 | Val Loss: 0.0472 | Val MAPE: 200.00%\n"
     ]
    },
    {
     "name": "stderr",
     "output_type": "stream",
     "text": [
      "Epoch 133/300: 100%|██████████| 57/57 [00:05<00:00, 10.99it/s]\n"
     ]
    },
    {
     "name": "stdout",
     "output_type": "stream",
     "text": [
      "Epoch 133/300 | Train Loss: 0.0066 | Val Loss: 0.0424 | Val MAPE: 181.18%\n"
     ]
    },
    {
     "name": "stderr",
     "output_type": "stream",
     "text": [
      "Epoch 134/300: 100%|██████████| 57/57 [00:05<00:00, 10.06it/s]\n"
     ]
    },
    {
     "name": "stdout",
     "output_type": "stream",
     "text": [
      "Epoch 134/300 | Train Loss: 0.0061 | Val Loss: 0.0408 | Val MAPE: 103.74%\n"
     ]
    },
    {
     "name": "stderr",
     "output_type": "stream",
     "text": [
      "Epoch 135/300: 100%|██████████| 57/57 [00:05<00:00, 10.87it/s]\n"
     ]
    },
    {
     "name": "stdout",
     "output_type": "stream",
     "text": [
      "Epoch 135/300 | Train Loss: 0.0061 | Val Loss: 0.0444 | Val MAPE: 134.57%\n"
     ]
    },
    {
     "name": "stderr",
     "output_type": "stream",
     "text": [
      "Epoch 136/300: 100%|██████████| 57/57 [00:05<00:00, 10.61it/s]\n"
     ]
    },
    {
     "name": "stdout",
     "output_type": "stream",
     "text": [
      "Epoch 136/300 | Train Loss: 0.0058 | Val Loss: 0.0413 | Val MAPE: 122.24%\n"
     ]
    },
    {
     "name": "stderr",
     "output_type": "stream",
     "text": [
      "Epoch 137/300: 100%|██████████| 57/57 [00:05<00:00, 10.55it/s]\n"
     ]
    },
    {
     "name": "stdout",
     "output_type": "stream",
     "text": [
      "Epoch 137/300 | Train Loss: 0.0060 | Val Loss: 0.0374 | Val MAPE: 170.44%\n"
     ]
    },
    {
     "name": "stderr",
     "output_type": "stream",
     "text": [
      "Epoch 138/300: 100%|██████████| 57/57 [00:05<00:00, 10.36it/s]\n"
     ]
    },
    {
     "name": "stdout",
     "output_type": "stream",
     "text": [
      "Epoch 138/300 | Train Loss: 0.0056 | Val Loss: 0.0366 | Val MAPE: 103.74%\n"
     ]
    },
    {
     "name": "stderr",
     "output_type": "stream",
     "text": [
      "Epoch 139/300: 100%|██████████| 57/57 [00:05<00:00, 10.29it/s]\n"
     ]
    },
    {
     "name": "stdout",
     "output_type": "stream",
     "text": [
      "Epoch 139/300 | Train Loss: 0.0054 | Val Loss: 0.0374 | Val MAPE: 102.33%\n"
     ]
    },
    {
     "name": "stderr",
     "output_type": "stream",
     "text": [
      "Epoch 140/300: 100%|██████████| 57/57 [00:05<00:00, 10.89it/s]\n"
     ]
    },
    {
     "name": "stdout",
     "output_type": "stream",
     "text": [
      "Epoch 140/300 | Train Loss: 0.0050 | Val Loss: 0.0370 | Val MAPE: 97.61%\n"
     ]
    },
    {
     "name": "stderr",
     "output_type": "stream",
     "text": [
      "Epoch 141/300: 100%|██████████| 57/57 [00:05<00:00, 10.90it/s]\n"
     ]
    },
    {
     "name": "stdout",
     "output_type": "stream",
     "text": [
      "Epoch 141/300 | Train Loss: 0.0051 | Val Loss: 0.0373 | Val MAPE: 80.63%\n"
     ]
    },
    {
     "name": "stderr",
     "output_type": "stream",
     "text": [
      "Epoch 142/300: 100%|██████████| 57/57 [00:05<00:00, 10.72it/s]\n"
     ]
    },
    {
     "name": "stdout",
     "output_type": "stream",
     "text": [
      "Epoch 142/300 | Train Loss: 0.0057 | Val Loss: 0.0386 | Val MAPE: 108.91%\n"
     ]
    },
    {
     "name": "stderr",
     "output_type": "stream",
     "text": [
      "Epoch 143/300: 100%|██████████| 57/57 [00:05<00:00, 10.82it/s]\n"
     ]
    },
    {
     "name": "stdout",
     "output_type": "stream",
     "text": [
      "Epoch 143/300 | Train Loss: 0.0055 | Val Loss: 0.0401 | Val MAPE: 180.79%\n"
     ]
    },
    {
     "name": "stderr",
     "output_type": "stream",
     "text": [
      "Epoch 144/300: 100%|██████████| 57/57 [00:05<00:00, 10.91it/s]\n"
     ]
    },
    {
     "name": "stdout",
     "output_type": "stream",
     "text": [
      "Epoch 144/300 | Train Loss: 0.0052 | Val Loss: 0.0377 | Val MAPE: 294.81%\n"
     ]
    },
    {
     "name": "stderr",
     "output_type": "stream",
     "text": [
      "Epoch 145/300: 100%|██████████| 57/57 [00:05<00:00, 10.67it/s]\n"
     ]
    },
    {
     "name": "stdout",
     "output_type": "stream",
     "text": [
      "Epoch 145/300 | Train Loss: 0.0051 | Val Loss: 0.0388 | Val MAPE: 96.89%\n"
     ]
    },
    {
     "name": "stderr",
     "output_type": "stream",
     "text": [
      "Epoch 146/300: 100%|██████████| 57/57 [00:05<00:00, 10.90it/s]\n"
     ]
    },
    {
     "name": "stdout",
     "output_type": "stream",
     "text": [
      "Epoch 146/300 | Train Loss: 0.0051 | Val Loss: 0.0407 | Val MAPE: 121.47%\n"
     ]
    },
    {
     "name": "stderr",
     "output_type": "stream",
     "text": [
      "Epoch 147/300: 100%|██████████| 57/57 [00:05<00:00, 10.86it/s]\n"
     ]
    },
    {
     "name": "stdout",
     "output_type": "stream",
     "text": [
      "Epoch 147/300 | Train Loss: 0.0050 | Val Loss: 0.0418 | Val MAPE: 128.69%\n"
     ]
    },
    {
     "name": "stderr",
     "output_type": "stream",
     "text": [
      "Epoch 148/300: 100%|██████████| 57/57 [00:05<00:00, 10.82it/s]\n"
     ]
    },
    {
     "name": "stdout",
     "output_type": "stream",
     "text": [
      "Epoch 148/300 | Train Loss: 0.0048 | Val Loss: 0.0438 | Val MAPE: 167.00%\n"
     ]
    },
    {
     "name": "stderr",
     "output_type": "stream",
     "text": [
      "Epoch 149/300: 100%|██████████| 57/57 [00:05<00:00, 10.91it/s]\n"
     ]
    },
    {
     "name": "stdout",
     "output_type": "stream",
     "text": [
      "Epoch 149/300 | Train Loss: 0.0050 | Val Loss: 0.0430 | Val MAPE: 154.15%\n"
     ]
    },
    {
     "name": "stderr",
     "output_type": "stream",
     "text": [
      "Epoch 150/300: 100%|██████████| 57/57 [00:05<00:00, 10.63it/s]\n"
     ]
    },
    {
     "name": "stdout",
     "output_type": "stream",
     "text": [
      "Epoch 150/300 | Train Loss: 0.0048 | Val Loss: 0.0438 | Val MAPE: 101.40%\n"
     ]
    },
    {
     "name": "stderr",
     "output_type": "stream",
     "text": [
      "Epoch 151/300: 100%|██████████| 57/57 [00:05<00:00, 10.87it/s]\n"
     ]
    },
    {
     "name": "stdout",
     "output_type": "stream",
     "text": [
      "Epoch 151/300 | Train Loss: 0.0048 | Val Loss: 0.0418 | Val MAPE: 55.81%\n"
     ]
    },
    {
     "name": "stderr",
     "output_type": "stream",
     "text": [
      "Epoch 152/300: 100%|██████████| 57/57 [00:05<00:00, 10.94it/s]\n"
     ]
    },
    {
     "name": "stdout",
     "output_type": "stream",
     "text": [
      "Epoch 152/300 | Train Loss: 0.0049 | Val Loss: 0.0410 | Val MAPE: 95.12%\n"
     ]
    },
    {
     "name": "stderr",
     "output_type": "stream",
     "text": [
      "Epoch 153/300: 100%|██████████| 57/57 [00:05<00:00, 10.99it/s]\n"
     ]
    },
    {
     "name": "stdout",
     "output_type": "stream",
     "text": [
      "Epoch 153/300 | Train Loss: 0.0047 | Val Loss: 0.0440 | Val MAPE: 115.14%\n"
     ]
    },
    {
     "name": "stderr",
     "output_type": "stream",
     "text": [
      "Epoch 154/300: 100%|██████████| 57/57 [00:05<00:00, 10.81it/s]\n"
     ]
    },
    {
     "name": "stdout",
     "output_type": "stream",
     "text": [
      "Epoch 154/300 | Train Loss: 0.0047 | Val Loss: 0.0412 | Val MAPE: 80.93%\n"
     ]
    },
    {
     "name": "stderr",
     "output_type": "stream",
     "text": [
      "Epoch 155/300: 100%|██████████| 57/57 [00:05<00:00, 10.82it/s]\n"
     ]
    },
    {
     "name": "stdout",
     "output_type": "stream",
     "text": [
      "Epoch 155/300 | Train Loss: 0.0048 | Val Loss: 0.0412 | Val MAPE: 80.48%\n"
     ]
    },
    {
     "name": "stderr",
     "output_type": "stream",
     "text": [
      "Epoch 156/300: 100%|██████████| 57/57 [00:05<00:00, 10.63it/s]\n"
     ]
    },
    {
     "name": "stdout",
     "output_type": "stream",
     "text": [
      "Epoch 156/300 | Train Loss: 0.0048 | Val Loss: 0.0417 | Val MAPE: 106.52%\n"
     ]
    },
    {
     "name": "stderr",
     "output_type": "stream",
     "text": [
      "Epoch 157/300: 100%|██████████| 57/57 [00:05<00:00, 10.74it/s]\n"
     ]
    },
    {
     "name": "stdout",
     "output_type": "stream",
     "text": [
      "Epoch 157/300 | Train Loss: 0.0046 | Val Loss: 0.0406 | Val MAPE: 198.37%\n"
     ]
    },
    {
     "name": "stderr",
     "output_type": "stream",
     "text": [
      "Epoch 158/300: 100%|██████████| 57/57 [00:05<00:00, 10.62it/s]\n"
     ]
    },
    {
     "name": "stdout",
     "output_type": "stream",
     "text": [
      "Epoch 158/300 | Train Loss: 0.0046 | Val Loss: 0.0409 | Val MAPE: 91.42%\n"
     ]
    },
    {
     "name": "stderr",
     "output_type": "stream",
     "text": [
      "Epoch 159/300: 100%|██████████| 57/57 [00:05<00:00, 10.76it/s]\n"
     ]
    },
    {
     "name": "stdout",
     "output_type": "stream",
     "text": [
      "Epoch 159/300 | Train Loss: 0.0044 | Val Loss: 0.0389 | Val MAPE: 206.74%\n"
     ]
    },
    {
     "name": "stderr",
     "output_type": "stream",
     "text": [
      "Epoch 160/300: 100%|██████████| 57/57 [00:05<00:00, 10.78it/s]\n"
     ]
    },
    {
     "name": "stdout",
     "output_type": "stream",
     "text": [
      "Epoch 160/300 | Train Loss: 0.0047 | Val Loss: 0.0399 | Val MAPE: 84.89%\n"
     ]
    },
    {
     "name": "stderr",
     "output_type": "stream",
     "text": [
      "Epoch 161/300: 100%|██████████| 57/57 [00:05<00:00, 10.45it/s]\n"
     ]
    },
    {
     "name": "stdout",
     "output_type": "stream",
     "text": [
      "Epoch 161/300 | Train Loss: 0.0045 | Val Loss: 0.0424 | Val MAPE: 86.25%\n"
     ]
    },
    {
     "name": "stderr",
     "output_type": "stream",
     "text": [
      "Epoch 162/300: 100%|██████████| 57/57 [00:05<00:00, 10.66it/s]\n"
     ]
    },
    {
     "name": "stdout",
     "output_type": "stream",
     "text": [
      "Epoch 162/300 | Train Loss: 0.0048 | Val Loss: 0.0380 | Val MAPE: 172.47%\n"
     ]
    },
    {
     "name": "stderr",
     "output_type": "stream",
     "text": [
      "Epoch 163/300: 100%|██████████| 57/57 [00:05<00:00, 10.87it/s]\n"
     ]
    },
    {
     "name": "stdout",
     "output_type": "stream",
     "text": [
      "Epoch 163/300 | Train Loss: 0.0047 | Val Loss: 0.0409 | Val MAPE: 114.58%\n"
     ]
    },
    {
     "name": "stderr",
     "output_type": "stream",
     "text": [
      "Epoch 164/300: 100%|██████████| 57/57 [00:05<00:00, 10.49it/s]\n"
     ]
    },
    {
     "name": "stdout",
     "output_type": "stream",
     "text": [
      "Epoch 164/300 | Train Loss: 0.0046 | Val Loss: 0.0408 | Val MAPE: 82.97%\n"
     ]
    },
    {
     "name": "stderr",
     "output_type": "stream",
     "text": [
      "Epoch 165/300: 100%|██████████| 57/57 [00:05<00:00, 10.84it/s]\n"
     ]
    },
    {
     "name": "stdout",
     "output_type": "stream",
     "text": [
      "Epoch 165/300 | Train Loss: 0.0048 | Val Loss: 0.0364 | Val MAPE: 117.30%\n"
     ]
    },
    {
     "name": "stderr",
     "output_type": "stream",
     "text": [
      "Epoch 166/300: 100%|██████████| 57/57 [00:05<00:00, 10.72it/s]\n"
     ]
    },
    {
     "name": "stdout",
     "output_type": "stream",
     "text": [
      "Epoch 166/300 | Train Loss: 0.0044 | Val Loss: 0.0381 | Val MAPE: 90.22%\n"
     ]
    },
    {
     "name": "stderr",
     "output_type": "stream",
     "text": [
      "Epoch 167/300: 100%|██████████| 57/57 [00:05<00:00, 10.62it/s]\n"
     ]
    },
    {
     "name": "stdout",
     "output_type": "stream",
     "text": [
      "Epoch 167/300 | Train Loss: 0.0044 | Val Loss: 0.0371 | Val MAPE: 141.62%\n"
     ]
    },
    {
     "name": "stderr",
     "output_type": "stream",
     "text": [
      "Epoch 168/300: 100%|██████████| 57/57 [00:05<00:00, 10.81it/s]\n"
     ]
    },
    {
     "name": "stdout",
     "output_type": "stream",
     "text": [
      "Epoch 168/300 | Train Loss: 0.0045 | Val Loss: 0.0396 | Val MAPE: 138.44%\n"
     ]
    },
    {
     "name": "stderr",
     "output_type": "stream",
     "text": [
      "Epoch 169/300: 100%|██████████| 57/57 [00:05<00:00, 10.85it/s]\n"
     ]
    },
    {
     "name": "stdout",
     "output_type": "stream",
     "text": [
      "Epoch 169/300 | Train Loss: 0.0043 | Val Loss: 0.0386 | Val MAPE: 70.72%\n"
     ]
    },
    {
     "name": "stderr",
     "output_type": "stream",
     "text": [
      "Epoch 170/300: 100%|██████████| 57/57 [00:05<00:00, 10.86it/s]\n"
     ]
    },
    {
     "name": "stdout",
     "output_type": "stream",
     "text": [
      "Epoch 170/300 | Train Loss: 0.0044 | Val Loss: 0.0385 | Val MAPE: 133.90%\n"
     ]
    },
    {
     "name": "stderr",
     "output_type": "stream",
     "text": [
      "Epoch 171/300: 100%|██████████| 57/57 [00:05<00:00, 10.97it/s]\n"
     ]
    },
    {
     "name": "stdout",
     "output_type": "stream",
     "text": [
      "Epoch 171/300 | Train Loss: 0.0043 | Val Loss: 0.0368 | Val MAPE: 126.00%\n"
     ]
    },
    {
     "name": "stderr",
     "output_type": "stream",
     "text": [
      "Epoch 172/300: 100%|██████████| 57/57 [00:05<00:00, 10.96it/s]\n"
     ]
    },
    {
     "name": "stdout",
     "output_type": "stream",
     "text": [
      "Epoch 172/300 | Train Loss: 0.0045 | Val Loss: 0.0373 | Val MAPE: 81.45%\n"
     ]
    },
    {
     "name": "stderr",
     "output_type": "stream",
     "text": [
      "Epoch 173/300: 100%|██████████| 57/57 [00:05<00:00, 10.75it/s]\n"
     ]
    },
    {
     "name": "stdout",
     "output_type": "stream",
     "text": [
      "Epoch 173/300 | Train Loss: 0.0044 | Val Loss: 0.0370 | Val MAPE: 80.24%\n"
     ]
    },
    {
     "name": "stderr",
     "output_type": "stream",
     "text": [
      "Epoch 174/300: 100%|██████████| 57/57 [00:05<00:00, 10.85it/s]\n"
     ]
    },
    {
     "name": "stdout",
     "output_type": "stream",
     "text": [
      "Epoch 174/300 | Train Loss: 0.0046 | Val Loss: 0.0381 | Val MAPE: 75.12%\n"
     ]
    },
    {
     "name": "stderr",
     "output_type": "stream",
     "text": [
      "Epoch 175/300: 100%|██████████| 57/57 [00:05<00:00, 11.06it/s]\n"
     ]
    },
    {
     "name": "stdout",
     "output_type": "stream",
     "text": [
      "Epoch 175/300 | Train Loss: 0.0047 | Val Loss: 0.0423 | Val MAPE: 162.91%\n"
     ]
    },
    {
     "name": "stderr",
     "output_type": "stream",
     "text": [
      "Epoch 176/300: 100%|██████████| 57/57 [00:05<00:00, 10.86it/s]\n"
     ]
    },
    {
     "name": "stdout",
     "output_type": "stream",
     "text": [
      "Epoch 176/300 | Train Loss: 0.0072 | Val Loss: 0.0294 | Val MAPE: 76.80%\n"
     ]
    },
    {
     "name": "stderr",
     "output_type": "stream",
     "text": [
      "Epoch 177/300: 100%|██████████| 57/57 [00:05<00:00, 10.84it/s]\n"
     ]
    },
    {
     "name": "stdout",
     "output_type": "stream",
     "text": [
      "Epoch 177/300 | Train Loss: 0.0067 | Val Loss: 0.0483 | Val MAPE: 153.81%\n"
     ]
    },
    {
     "name": "stderr",
     "output_type": "stream",
     "text": [
      "Epoch 178/300: 100%|██████████| 57/57 [00:05<00:00, 10.58it/s]\n"
     ]
    },
    {
     "name": "stdout",
     "output_type": "stream",
     "text": [
      "Epoch 178/300 | Train Loss: 0.0103 | Val Loss: 0.0571 | Val MAPE: 324.10%\n"
     ]
    },
    {
     "name": "stderr",
     "output_type": "stream",
     "text": [
      "Epoch 179/300: 100%|██████████| 57/57 [00:05<00:00, 10.75it/s]\n"
     ]
    },
    {
     "name": "stdout",
     "output_type": "stream",
     "text": [
      "Epoch 179/300 | Train Loss: 0.0144 | Val Loss: 0.0621 | Val MAPE: 255.25%\n"
     ]
    },
    {
     "name": "stderr",
     "output_type": "stream",
     "text": [
      "Epoch 180/300: 100%|██████████| 57/57 [00:05<00:00, 10.68it/s]\n"
     ]
    },
    {
     "name": "stdout",
     "output_type": "stream",
     "text": [
      "Epoch 180/300 | Train Loss: 0.0165 | Val Loss: 0.0592 | Val MAPE: 160.95%\n"
     ]
    },
    {
     "name": "stderr",
     "output_type": "stream",
     "text": [
      "Epoch 181/300: 100%|██████████| 57/57 [00:05<00:00, 10.76it/s]\n"
     ]
    },
    {
     "name": "stdout",
     "output_type": "stream",
     "text": [
      "Epoch 181/300 | Train Loss: 0.0114 | Val Loss: 0.0369 | Val MAPE: 125.10%\n"
     ]
    },
    {
     "name": "stderr",
     "output_type": "stream",
     "text": [
      "Epoch 182/300: 100%|██████████| 57/57 [00:05<00:00, 10.90it/s]\n"
     ]
    },
    {
     "name": "stdout",
     "output_type": "stream",
     "text": [
      "Epoch 182/300 | Train Loss: 0.0091 | Val Loss: 0.0620 | Val MAPE: 57.79%\n"
     ]
    },
    {
     "name": "stderr",
     "output_type": "stream",
     "text": [
      "Epoch 183/300: 100%|██████████| 57/57 [00:05<00:00, 10.76it/s]\n"
     ]
    },
    {
     "name": "stdout",
     "output_type": "stream",
     "text": [
      "Epoch 183/300 | Train Loss: 0.0067 | Val Loss: 0.0474 | Val MAPE: 151.53%\n"
     ]
    },
    {
     "name": "stderr",
     "output_type": "stream",
     "text": [
      "Epoch 184/300: 100%|██████████| 57/57 [00:05<00:00, 10.65it/s]\n"
     ]
    },
    {
     "name": "stdout",
     "output_type": "stream",
     "text": [
      "Epoch 184/300 | Train Loss: 0.0059 | Val Loss: 0.0570 | Val MAPE: 117.27%\n"
     ]
    },
    {
     "name": "stderr",
     "output_type": "stream",
     "text": [
      "Epoch 185/300: 100%|██████████| 57/57 [00:05<00:00, 10.94it/s]\n"
     ]
    },
    {
     "name": "stdout",
     "output_type": "stream",
     "text": [
      "Epoch 185/300 | Train Loss: 0.0055 | Val Loss: 0.0525 | Val MAPE: 61.27%\n"
     ]
    },
    {
     "name": "stderr",
     "output_type": "stream",
     "text": [
      "Epoch 186/300: 100%|██████████| 57/57 [00:05<00:00, 10.74it/s]\n"
     ]
    },
    {
     "name": "stdout",
     "output_type": "stream",
     "text": [
      "Epoch 186/300 | Train Loss: 0.0052 | Val Loss: 0.0509 | Val MAPE: 62.09%\n"
     ]
    },
    {
     "name": "stderr",
     "output_type": "stream",
     "text": [
      "Epoch 187/300: 100%|██████████| 57/57 [00:05<00:00, 10.83it/s]\n"
     ]
    },
    {
     "name": "stdout",
     "output_type": "stream",
     "text": [
      "Epoch 187/300 | Train Loss: 0.0055 | Val Loss: 0.0382 | Val MAPE: 58.29%\n"
     ]
    },
    {
     "name": "stderr",
     "output_type": "stream",
     "text": [
      "Epoch 188/300: 100%|██████████| 57/57 [00:05<00:00, 10.81it/s]\n"
     ]
    },
    {
     "name": "stdout",
     "output_type": "stream",
     "text": [
      "Epoch 188/300 | Train Loss: 0.0050 | Val Loss: 0.0460 | Val MAPE: 76.24%\n"
     ]
    },
    {
     "name": "stderr",
     "output_type": "stream",
     "text": [
      "Epoch 189/300: 100%|██████████| 57/57 [00:05<00:00, 10.29it/s]\n"
     ]
    },
    {
     "name": "stdout",
     "output_type": "stream",
     "text": [
      "Epoch 189/300 | Train Loss: 0.0049 | Val Loss: 0.0472 | Val MAPE: 112.53%\n"
     ]
    },
    {
     "name": "stderr",
     "output_type": "stream",
     "text": [
      "Epoch 190/300: 100%|██████████| 57/57 [00:05<00:00, 10.77it/s]\n"
     ]
    },
    {
     "name": "stdout",
     "output_type": "stream",
     "text": [
      "Epoch 190/300 | Train Loss: 0.0047 | Val Loss: 0.0464 | Val MAPE: 57.83%\n"
     ]
    },
    {
     "name": "stderr",
     "output_type": "stream",
     "text": [
      "Epoch 191/300: 100%|██████████| 57/57 [00:05<00:00, 10.95it/s]\n"
     ]
    },
    {
     "name": "stdout",
     "output_type": "stream",
     "text": [
      "Epoch 191/300 | Train Loss: 0.0045 | Val Loss: 0.0459 | Val MAPE: 66.50%\n"
     ]
    },
    {
     "name": "stderr",
     "output_type": "stream",
     "text": [
      "Epoch 192/300: 100%|██████████| 57/57 [00:05<00:00, 10.82it/s]\n"
     ]
    },
    {
     "name": "stdout",
     "output_type": "stream",
     "text": [
      "Epoch 192/300 | Train Loss: 0.0045 | Val Loss: 0.0479 | Val MAPE: 93.53%\n"
     ]
    },
    {
     "name": "stderr",
     "output_type": "stream",
     "text": [
      "Epoch 193/300: 100%|██████████| 57/57 [00:05<00:00, 10.90it/s]\n"
     ]
    },
    {
     "name": "stdout",
     "output_type": "stream",
     "text": [
      "Epoch 193/300 | Train Loss: 0.0045 | Val Loss: 0.0467 | Val MAPE: 98.93%\n"
     ]
    },
    {
     "name": "stderr",
     "output_type": "stream",
     "text": [
      "Epoch 194/300: 100%|██████████| 57/57 [00:05<00:00, 10.99it/s]\n"
     ]
    },
    {
     "name": "stdout",
     "output_type": "stream",
     "text": [
      "Epoch 194/300 | Train Loss: 0.0043 | Val Loss: 0.0391 | Val MAPE: 56.67%\n"
     ]
    },
    {
     "name": "stderr",
     "output_type": "stream",
     "text": [
      "Epoch 195/300: 100%|██████████| 57/57 [00:05<00:00, 10.65it/s]\n"
     ]
    },
    {
     "name": "stdout",
     "output_type": "stream",
     "text": [
      "Epoch 195/300 | Train Loss: 0.0043 | Val Loss: 0.0382 | Val MAPE: 95.66%\n"
     ]
    },
    {
     "name": "stderr",
     "output_type": "stream",
     "text": [
      "Epoch 196/300: 100%|██████████| 57/57 [00:05<00:00, 11.10it/s]\n"
     ]
    },
    {
     "name": "stdout",
     "output_type": "stream",
     "text": [
      "Epoch 196/300 | Train Loss: 0.0043 | Val Loss: 0.0404 | Val MAPE: 67.24%\n"
     ]
    },
    {
     "name": "stderr",
     "output_type": "stream",
     "text": [
      "Epoch 197/300: 100%|██████████| 57/57 [00:05<00:00, 10.92it/s]\n"
     ]
    },
    {
     "name": "stdout",
     "output_type": "stream",
     "text": [
      "Epoch 197/300 | Train Loss: 0.0042 | Val Loss: 0.0418 | Val MAPE: 53.53%\n"
     ]
    },
    {
     "name": "stderr",
     "output_type": "stream",
     "text": [
      "Epoch 198/300: 100%|██████████| 57/57 [00:05<00:00, 10.91it/s]\n"
     ]
    },
    {
     "name": "stdout",
     "output_type": "stream",
     "text": [
      "Epoch 198/300 | Train Loss: 0.0044 | Val Loss: 0.0424 | Val MAPE: 87.41%\n"
     ]
    },
    {
     "name": "stderr",
     "output_type": "stream",
     "text": [
      "Epoch 199/300: 100%|██████████| 57/57 [00:05<00:00, 10.74it/s]\n"
     ]
    },
    {
     "name": "stdout",
     "output_type": "stream",
     "text": [
      "Epoch 199/300 | Train Loss: 0.0041 | Val Loss: 0.0380 | Val MAPE: 73.00%\n"
     ]
    },
    {
     "name": "stderr",
     "output_type": "stream",
     "text": [
      "Epoch 200/300: 100%|██████████| 57/57 [00:05<00:00, 10.84it/s]\n"
     ]
    },
    {
     "name": "stdout",
     "output_type": "stream",
     "text": [
      "Epoch 200/300 | Train Loss: 0.0040 | Val Loss: 0.0374 | Val MAPE: 73.43%\n"
     ]
    },
    {
     "name": "stderr",
     "output_type": "stream",
     "text": [
      "Epoch 201/300: 100%|██████████| 57/57 [00:05<00:00, 10.53it/s]\n"
     ]
    },
    {
     "name": "stdout",
     "output_type": "stream",
     "text": [
      "Epoch 201/300 | Train Loss: 0.0042 | Val Loss: 0.0376 | Val MAPE: 87.11%\n"
     ]
    },
    {
     "name": "stderr",
     "output_type": "stream",
     "text": [
      "Epoch 202/300: 100%|██████████| 57/57 [00:05<00:00, 10.86it/s]\n"
     ]
    },
    {
     "name": "stdout",
     "output_type": "stream",
     "text": [
      "Epoch 202/300 | Train Loss: 0.0041 | Val Loss: 0.0355 | Val MAPE: 106.10%\n"
     ]
    },
    {
     "name": "stderr",
     "output_type": "stream",
     "text": [
      "Epoch 203/300: 100%|██████████| 57/57 [00:05<00:00, 10.76it/s]\n"
     ]
    },
    {
     "name": "stdout",
     "output_type": "stream",
     "text": [
      "Epoch 203/300 | Train Loss: 0.0039 | Val Loss: 0.0376 | Val MAPE: 122.25%\n"
     ]
    },
    {
     "name": "stderr",
     "output_type": "stream",
     "text": [
      "Epoch 204/300: 100%|██████████| 57/57 [00:05<00:00, 10.85it/s]\n"
     ]
    },
    {
     "name": "stdout",
     "output_type": "stream",
     "text": [
      "Epoch 204/300 | Train Loss: 0.0039 | Val Loss: 0.0414 | Val MAPE: 49.82%\n"
     ]
    },
    {
     "name": "stderr",
     "output_type": "stream",
     "text": [
      "Epoch 205/300: 100%|██████████| 57/57 [00:05<00:00, 10.89it/s]\n"
     ]
    },
    {
     "name": "stdout",
     "output_type": "stream",
     "text": [
      "Epoch 205/300 | Train Loss: 0.0038 | Val Loss: 0.0425 | Val MAPE: 63.40%\n"
     ]
    },
    {
     "name": "stderr",
     "output_type": "stream",
     "text": [
      "Epoch 206/300: 100%|██████████| 57/57 [00:05<00:00, 10.63it/s]\n"
     ]
    },
    {
     "name": "stdout",
     "output_type": "stream",
     "text": [
      "Epoch 206/300 | Train Loss: 0.0037 | Val Loss: 0.0357 | Val MAPE: 215.24%\n"
     ]
    },
    {
     "name": "stderr",
     "output_type": "stream",
     "text": [
      "Epoch 207/300: 100%|██████████| 57/57 [00:05<00:00, 10.97it/s]\n"
     ]
    },
    {
     "name": "stdout",
     "output_type": "stream",
     "text": [
      "Epoch 207/300 | Train Loss: 0.0040 | Val Loss: 0.0362 | Val MAPE: 183.60%\n"
     ]
    },
    {
     "name": "stderr",
     "output_type": "stream",
     "text": [
      "Epoch 208/300: 100%|██████████| 57/57 [00:05<00:00, 10.79it/s]\n"
     ]
    },
    {
     "name": "stdout",
     "output_type": "stream",
     "text": [
      "Epoch 208/300 | Train Loss: 0.0042 | Val Loss: 0.0372 | Val MAPE: 172.99%\n"
     ]
    },
    {
     "name": "stderr",
     "output_type": "stream",
     "text": [
      "Epoch 209/300: 100%|██████████| 57/57 [00:05<00:00, 10.81it/s]\n"
     ]
    },
    {
     "name": "stdout",
     "output_type": "stream",
     "text": [
      "Epoch 209/300 | Train Loss: 0.0043 | Val Loss: 0.0345 | Val MAPE: 125.18%\n"
     ]
    },
    {
     "name": "stderr",
     "output_type": "stream",
     "text": [
      "Epoch 210/300: 100%|██████████| 57/57 [00:05<00:00, 10.96it/s]\n"
     ]
    },
    {
     "name": "stdout",
     "output_type": "stream",
     "text": [
      "Epoch 210/300 | Train Loss: 0.0044 | Val Loss: 0.0430 | Val MAPE: 89.11%\n"
     ]
    },
    {
     "name": "stderr",
     "output_type": "stream",
     "text": [
      "Epoch 211/300: 100%|██████████| 57/57 [00:05<00:00, 10.92it/s]\n"
     ]
    },
    {
     "name": "stdout",
     "output_type": "stream",
     "text": [
      "Epoch 211/300 | Train Loss: 0.0042 | Val Loss: 0.0436 | Val MAPE: 65.52%\n"
     ]
    },
    {
     "name": "stderr",
     "output_type": "stream",
     "text": [
      "Epoch 212/300: 100%|██████████| 57/57 [00:05<00:00, 10.60it/s]\n"
     ]
    },
    {
     "name": "stdout",
     "output_type": "stream",
     "text": [
      "Epoch 212/300 | Train Loss: 0.0040 | Val Loss: 0.0414 | Val MAPE: 105.70%\n"
     ]
    },
    {
     "name": "stderr",
     "output_type": "stream",
     "text": [
      "Epoch 213/300: 100%|██████████| 57/57 [00:05<00:00, 10.89it/s]\n"
     ]
    },
    {
     "name": "stdout",
     "output_type": "stream",
     "text": [
      "Epoch 213/300 | Train Loss: 0.0039 | Val Loss: 0.0402 | Val MAPE: 58.31%\n"
     ]
    },
    {
     "name": "stderr",
     "output_type": "stream",
     "text": [
      "Epoch 214/300: 100%|██████████| 57/57 [00:05<00:00, 10.90it/s]\n"
     ]
    },
    {
     "name": "stdout",
     "output_type": "stream",
     "text": [
      "Epoch 214/300 | Train Loss: 0.0041 | Val Loss: 0.0389 | Val MAPE: 94.29%\n"
     ]
    },
    {
     "name": "stderr",
     "output_type": "stream",
     "text": [
      "Epoch 215/300: 100%|██████████| 57/57 [00:05<00:00, 10.77it/s]\n"
     ]
    },
    {
     "name": "stdout",
     "output_type": "stream",
     "text": [
      "Epoch 215/300 | Train Loss: 0.0043 | Val Loss: 0.0391 | Val MAPE: 192.78%\n"
     ]
    },
    {
     "name": "stderr",
     "output_type": "stream",
     "text": [
      "Epoch 216/300: 100%|██████████| 57/57 [00:05<00:00, 10.76it/s]\n"
     ]
    },
    {
     "name": "stdout",
     "output_type": "stream",
     "text": [
      "Epoch 216/300 | Train Loss: 0.0039 | Val Loss: 0.0402 | Val MAPE: 118.35%\n"
     ]
    },
    {
     "name": "stderr",
     "output_type": "stream",
     "text": [
      "Epoch 217/300: 100%|██████████| 57/57 [00:05<00:00, 10.76it/s]\n"
     ]
    },
    {
     "name": "stdout",
     "output_type": "stream",
     "text": [
      "Epoch 217/300 | Train Loss: 0.0039 | Val Loss: 0.0382 | Val MAPE: 104.46%\n"
     ]
    },
    {
     "name": "stderr",
     "output_type": "stream",
     "text": [
      "Epoch 218/300: 100%|██████████| 57/57 [00:05<00:00, 10.89it/s]\n"
     ]
    },
    {
     "name": "stdout",
     "output_type": "stream",
     "text": [
      "Epoch 218/300 | Train Loss: 0.0037 | Val Loss: 0.0403 | Val MAPE: 57.23%\n"
     ]
    },
    {
     "name": "stderr",
     "output_type": "stream",
     "text": [
      "Epoch 219/300: 100%|██████████| 57/57 [00:05<00:00, 10.86it/s]\n"
     ]
    },
    {
     "name": "stdout",
     "output_type": "stream",
     "text": [
      "Epoch 219/300 | Train Loss: 0.0038 | Val Loss: 0.0404 | Val MAPE: 127.12%\n"
     ]
    },
    {
     "name": "stderr",
     "output_type": "stream",
     "text": [
      "Epoch 220/300: 100%|██████████| 57/57 [00:05<00:00, 10.82it/s]\n"
     ]
    },
    {
     "name": "stdout",
     "output_type": "stream",
     "text": [
      "Epoch 220/300 | Train Loss: 0.0039 | Val Loss: 0.0413 | Val MAPE: 143.29%\n"
     ]
    },
    {
     "name": "stderr",
     "output_type": "stream",
     "text": [
      "Epoch 221/300: 100%|██████████| 57/57 [00:05<00:00, 10.54it/s]\n"
     ]
    },
    {
     "name": "stdout",
     "output_type": "stream",
     "text": [
      "Epoch 221/300 | Train Loss: 0.0039 | Val Loss: 0.0416 | Val MAPE: 118.56%\n"
     ]
    },
    {
     "name": "stderr",
     "output_type": "stream",
     "text": [
      "Epoch 222/300: 100%|██████████| 57/57 [00:05<00:00, 10.85it/s]\n"
     ]
    },
    {
     "name": "stdout",
     "output_type": "stream",
     "text": [
      "Epoch 222/300 | Train Loss: 0.0041 | Val Loss: 0.0380 | Val MAPE: 143.57%\n"
     ]
    },
    {
     "name": "stderr",
     "output_type": "stream",
     "text": [
      "Epoch 223/300: 100%|██████████| 57/57 [00:05<00:00, 10.54it/s]\n"
     ]
    },
    {
     "name": "stdout",
     "output_type": "stream",
     "text": [
      "Epoch 223/300 | Train Loss: 0.0039 | Val Loss: 0.0353 | Val MAPE: 141.15%\n"
     ]
    },
    {
     "name": "stderr",
     "output_type": "stream",
     "text": [
      "Epoch 224/300: 100%|██████████| 57/57 [00:05<00:00, 10.79it/s]\n"
     ]
    },
    {
     "name": "stdout",
     "output_type": "stream",
     "text": [
      "Epoch 224/300 | Train Loss: 0.0039 | Val Loss: 0.0426 | Val MAPE: 117.75%\n"
     ]
    },
    {
     "name": "stderr",
     "output_type": "stream",
     "text": [
      "Epoch 225/300: 100%|██████████| 57/57 [00:05<00:00, 10.77it/s]\n"
     ]
    },
    {
     "name": "stdout",
     "output_type": "stream",
     "text": [
      "Epoch 225/300 | Train Loss: 0.0043 | Val Loss: 0.0428 | Val MAPE: 90.72%\n"
     ]
    },
    {
     "name": "stderr",
     "output_type": "stream",
     "text": [
      "Epoch 226/300: 100%|██████████| 57/57 [00:05<00:00, 10.77it/s]\n"
     ]
    },
    {
     "name": "stdout",
     "output_type": "stream",
     "text": [
      "Epoch 226/300 | Train Loss: 0.0045 | Val Loss: 0.0290 | Val MAPE: 84.21%\n"
     ]
    },
    {
     "name": "stderr",
     "output_type": "stream",
     "text": [
      "Epoch 227/300: 100%|██████████| 57/57 [00:05<00:00, 10.89it/s]\n"
     ]
    },
    {
     "name": "stdout",
     "output_type": "stream",
     "text": [
      "Epoch 227/300 | Train Loss: 0.0041 | Val Loss: 0.0363 | Val MAPE: 91.58%\n"
     ]
    },
    {
     "name": "stderr",
     "output_type": "stream",
     "text": [
      "Epoch 228/300: 100%|██████████| 57/57 [00:05<00:00, 10.61it/s]\n"
     ]
    },
    {
     "name": "stdout",
     "output_type": "stream",
     "text": [
      "Epoch 228/300 | Train Loss: 0.0040 | Val Loss: 0.0347 | Val MAPE: 113.10%\n"
     ]
    },
    {
     "name": "stderr",
     "output_type": "stream",
     "text": [
      "Epoch 229/300: 100%|██████████| 57/57 [00:05<00:00, 10.61it/s]\n"
     ]
    },
    {
     "name": "stdout",
     "output_type": "stream",
     "text": [
      "Epoch 229/300 | Train Loss: 0.0042 | Val Loss: 0.0417 | Val MAPE: 46.14%\n"
     ]
    },
    {
     "name": "stderr",
     "output_type": "stream",
     "text": [
      "Epoch 230/300: 100%|██████████| 57/57 [00:05<00:00, 10.90it/s]\n"
     ]
    },
    {
     "name": "stdout",
     "output_type": "stream",
     "text": [
      "Epoch 230/300 | Train Loss: 0.0040 | Val Loss: 0.0386 | Val MAPE: 196.69%\n"
     ]
    },
    {
     "name": "stderr",
     "output_type": "stream",
     "text": [
      "Epoch 231/300: 100%|██████████| 57/57 [00:05<00:00, 10.94it/s]\n"
     ]
    },
    {
     "name": "stdout",
     "output_type": "stream",
     "text": [
      "Epoch 231/300 | Train Loss: 0.0037 | Val Loss: 0.0428 | Val MAPE: 68.63%\n"
     ]
    },
    {
     "name": "stderr",
     "output_type": "stream",
     "text": [
      "Epoch 232/300: 100%|██████████| 57/57 [00:05<00:00, 10.93it/s]\n"
     ]
    },
    {
     "name": "stdout",
     "output_type": "stream",
     "text": [
      "Epoch 232/300 | Train Loss: 0.0053 | Val Loss: 0.0282 | Val MAPE: 64.06%\n"
     ]
    },
    {
     "name": "stderr",
     "output_type": "stream",
     "text": [
      "Epoch 233/300: 100%|██████████| 57/57 [00:05<00:00, 10.86it/s]\n"
     ]
    },
    {
     "name": "stdout",
     "output_type": "stream",
     "text": [
      "Epoch 233/300 | Train Loss: 0.0053 | Val Loss: 0.0365 | Val MAPE: 83.76%\n"
     ]
    },
    {
     "name": "stderr",
     "output_type": "stream",
     "text": [
      "Epoch 234/300: 100%|██████████| 57/57 [00:05<00:00, 10.60it/s]\n"
     ]
    },
    {
     "name": "stdout",
     "output_type": "stream",
     "text": [
      "Epoch 234/300 | Train Loss: 0.0091 | Val Loss: 0.0439 | Val MAPE: 101.89%\n"
     ]
    },
    {
     "name": "stderr",
     "output_type": "stream",
     "text": [
      "Epoch 235/300: 100%|██████████| 57/57 [00:05<00:00, 10.81it/s]\n"
     ]
    },
    {
     "name": "stdout",
     "output_type": "stream",
     "text": [
      "Epoch 235/300 | Train Loss: 0.0138 | Val Loss: 0.0603 | Val MAPE: 113.74%\n"
     ]
    },
    {
     "name": "stderr",
     "output_type": "stream",
     "text": [
      "Epoch 236/300: 100%|██████████| 57/57 [00:05<00:00, 10.82it/s]\n"
     ]
    },
    {
     "name": "stdout",
     "output_type": "stream",
     "text": [
      "Epoch 236/300 | Train Loss: 0.0116 | Val Loss: 0.0421 | Val MAPE: 91.69%\n"
     ]
    },
    {
     "name": "stderr",
     "output_type": "stream",
     "text": [
      "Epoch 237/300: 100%|██████████| 57/57 [00:05<00:00, 10.92it/s]\n"
     ]
    },
    {
     "name": "stdout",
     "output_type": "stream",
     "text": [
      "Epoch 237/300 | Train Loss: 0.0091 | Val Loss: 0.0455 | Val MAPE: 75.48%\n"
     ]
    },
    {
     "name": "stderr",
     "output_type": "stream",
     "text": [
      "Epoch 238/300: 100%|██████████| 57/57 [00:05<00:00, 10.92it/s]\n"
     ]
    },
    {
     "name": "stdout",
     "output_type": "stream",
     "text": [
      "Epoch 238/300 | Train Loss: 0.0066 | Val Loss: 0.0384 | Val MAPE: 132.28%\n"
     ]
    },
    {
     "name": "stderr",
     "output_type": "stream",
     "text": [
      "Epoch 239/300: 100%|██████████| 57/57 [00:05<00:00, 10.92it/s]\n"
     ]
    },
    {
     "name": "stdout",
     "output_type": "stream",
     "text": [
      "Epoch 239/300 | Train Loss: 0.0058 | Val Loss: 0.0326 | Val MAPE: 90.50%\n"
     ]
    },
    {
     "name": "stderr",
     "output_type": "stream",
     "text": [
      "Epoch 240/300: 100%|██████████| 57/57 [00:05<00:00, 10.71it/s]\n"
     ]
    },
    {
     "name": "stdout",
     "output_type": "stream",
     "text": [
      "Epoch 240/300 | Train Loss: 0.0052 | Val Loss: 0.0331 | Val MAPE: 221.45%\n"
     ]
    },
    {
     "name": "stderr",
     "output_type": "stream",
     "text": [
      "Epoch 241/300: 100%|██████████| 57/57 [00:05<00:00, 10.88it/s]\n"
     ]
    },
    {
     "name": "stdout",
     "output_type": "stream",
     "text": [
      "Epoch 241/300 | Train Loss: 0.0048 | Val Loss: 0.0522 | Val MAPE: 115.53%\n"
     ]
    },
    {
     "name": "stderr",
     "output_type": "stream",
     "text": [
      "Epoch 242/300: 100%|██████████| 57/57 [00:05<00:00, 10.90it/s]\n"
     ]
    },
    {
     "name": "stdout",
     "output_type": "stream",
     "text": [
      "Epoch 242/300 | Train Loss: 0.0046 | Val Loss: 0.0486 | Val MAPE: 58.22%\n"
     ]
    },
    {
     "name": "stderr",
     "output_type": "stream",
     "text": [
      "Epoch 243/300: 100%|██████████| 57/57 [00:05<00:00, 10.92it/s]\n"
     ]
    },
    {
     "name": "stdout",
     "output_type": "stream",
     "text": [
      "Epoch 243/300 | Train Loss: 0.0047 | Val Loss: 0.0435 | Val MAPE: 121.69%\n"
     ]
    },
    {
     "name": "stderr",
     "output_type": "stream",
     "text": [
      "Epoch 244/300: 100%|██████████| 57/57 [00:05<00:00, 10.91it/s]\n"
     ]
    },
    {
     "name": "stdout",
     "output_type": "stream",
     "text": [
      "Epoch 244/300 | Train Loss: 0.0044 | Val Loss: 0.0404 | Val MAPE: 126.04%\n"
     ]
    },
    {
     "name": "stderr",
     "output_type": "stream",
     "text": [
      "Epoch 245/300: 100%|██████████| 57/57 [00:05<00:00, 10.53it/s]\n"
     ]
    },
    {
     "name": "stdout",
     "output_type": "stream",
     "text": [
      "Epoch 245/300 | Train Loss: 0.0048 | Val Loss: 0.0365 | Val MAPE: 198.18%\n"
     ]
    },
    {
     "name": "stderr",
     "output_type": "stream",
     "text": [
      "Epoch 246/300: 100%|██████████| 57/57 [00:05<00:00, 10.76it/s]\n"
     ]
    },
    {
     "name": "stdout",
     "output_type": "stream",
     "text": [
      "Epoch 246/300 | Train Loss: 0.0043 | Val Loss: 0.0399 | Val MAPE: 153.57%\n"
     ]
    },
    {
     "name": "stderr",
     "output_type": "stream",
     "text": [
      "Epoch 247/300: 100%|██████████| 57/57 [00:05<00:00, 10.90it/s]\n"
     ]
    },
    {
     "name": "stdout",
     "output_type": "stream",
     "text": [
      "Epoch 247/300 | Train Loss: 0.0046 | Val Loss: 0.0399 | Val MAPE: 137.58%\n"
     ]
    },
    {
     "name": "stderr",
     "output_type": "stream",
     "text": [
      "Epoch 248/300: 100%|██████████| 57/57 [00:05<00:00, 10.77it/s]\n"
     ]
    },
    {
     "name": "stdout",
     "output_type": "stream",
     "text": [
      "Epoch 248/300 | Train Loss: 0.0042 | Val Loss: 0.0414 | Val MAPE: 138.83%\n"
     ]
    },
    {
     "name": "stderr",
     "output_type": "stream",
     "text": [
      "Epoch 249/300: 100%|██████████| 57/57 [00:05<00:00, 10.69it/s]\n"
     ]
    },
    {
     "name": "stdout",
     "output_type": "stream",
     "text": [
      "Epoch 249/300 | Train Loss: 0.0042 | Val Loss: 0.0396 | Val MAPE: 57.57%\n"
     ]
    },
    {
     "name": "stderr",
     "output_type": "stream",
     "text": [
      "Epoch 250/300: 100%|██████████| 57/57 [00:05<00:00, 10.75it/s]\n"
     ]
    },
    {
     "name": "stdout",
     "output_type": "stream",
     "text": [
      "Epoch 250/300 | Train Loss: 0.0049 | Val Loss: 0.0329 | Val MAPE: 113.08%\n"
     ]
    },
    {
     "name": "stderr",
     "output_type": "stream",
     "text": [
      "Epoch 251/300: 100%|██████████| 57/57 [00:05<00:00, 10.55it/s]\n"
     ]
    },
    {
     "name": "stdout",
     "output_type": "stream",
     "text": [
      "Epoch 251/300 | Train Loss: 0.0059 | Val Loss: 0.0321 | Val MAPE: 103.52%\n"
     ]
    },
    {
     "name": "stderr",
     "output_type": "stream",
     "text": [
      "Epoch 252/300: 100%|██████████| 57/57 [00:05<00:00, 10.82it/s]\n"
     ]
    },
    {
     "name": "stdout",
     "output_type": "stream",
     "text": [
      "Epoch 252/300 | Train Loss: 0.0048 | Val Loss: 0.0336 | Val MAPE: 152.25%\n"
     ]
    },
    {
     "name": "stderr",
     "output_type": "stream",
     "text": [
      "Epoch 253/300: 100%|██████████| 57/57 [00:05<00:00, 11.22it/s]\n"
     ]
    },
    {
     "name": "stdout",
     "output_type": "stream",
     "text": [
      "Epoch 253/300 | Train Loss: 0.0043 | Val Loss: 0.0404 | Val MAPE: 88.82%\n"
     ]
    },
    {
     "name": "stderr",
     "output_type": "stream",
     "text": [
      "Epoch 254/300: 100%|██████████| 57/57 [00:05<00:00, 11.04it/s]\n"
     ]
    },
    {
     "name": "stdout",
     "output_type": "stream",
     "text": [
      "Epoch 254/300 | Train Loss: 0.0041 | Val Loss: 0.0373 | Val MAPE: 120.12%\n"
     ]
    },
    {
     "name": "stderr",
     "output_type": "stream",
     "text": [
      "Epoch 255/300: 100%|██████████| 57/57 [00:05<00:00, 11.19it/s]\n"
     ]
    },
    {
     "name": "stdout",
     "output_type": "stream",
     "text": [
      "Epoch 255/300 | Train Loss: 0.0039 | Val Loss: 0.0367 | Val MAPE: 64.20%\n"
     ]
    },
    {
     "name": "stderr",
     "output_type": "stream",
     "text": [
      "Epoch 256/300: 100%|██████████| 57/57 [00:05<00:00, 11.14it/s]\n"
     ]
    },
    {
     "name": "stdout",
     "output_type": "stream",
     "text": [
      "Epoch 256/300 | Train Loss: 0.0037 | Val Loss: 0.0327 | Val MAPE: 138.51%\n"
     ]
    },
    {
     "name": "stderr",
     "output_type": "stream",
     "text": [
      "Epoch 257/300: 100%|██████████| 57/57 [00:05<00:00, 11.06it/s]\n"
     ]
    },
    {
     "name": "stdout",
     "output_type": "stream",
     "text": [
      "Epoch 257/300 | Train Loss: 0.0037 | Val Loss: 0.0329 | Val MAPE: 185.97%\n"
     ]
    },
    {
     "name": "stderr",
     "output_type": "stream",
     "text": [
      "Epoch 258/300: 100%|██████████| 57/57 [00:05<00:00, 11.29it/s]\n"
     ]
    },
    {
     "name": "stdout",
     "output_type": "stream",
     "text": [
      "Epoch 258/300 | Train Loss: 0.0036 | Val Loss: 0.0371 | Val MAPE: 117.83%\n"
     ]
    },
    {
     "name": "stderr",
     "output_type": "stream",
     "text": [
      "Epoch 259/300: 100%|██████████| 57/57 [00:05<00:00, 11.22it/s]\n"
     ]
    },
    {
     "name": "stdout",
     "output_type": "stream",
     "text": [
      "Epoch 259/300 | Train Loss: 0.0038 | Val Loss: 0.0350 | Val MAPE: 152.78%\n"
     ]
    },
    {
     "name": "stderr",
     "output_type": "stream",
     "text": [
      "Epoch 260/300: 100%|██████████| 57/57 [00:05<00:00, 11.22it/s]\n"
     ]
    },
    {
     "name": "stdout",
     "output_type": "stream",
     "text": [
      "Epoch 260/300 | Train Loss: 0.0037 | Val Loss: 0.0373 | Val MAPE: 117.04%\n"
     ]
    },
    {
     "name": "stderr",
     "output_type": "stream",
     "text": [
      "Epoch 261/300: 100%|██████████| 57/57 [00:05<00:00, 11.13it/s]\n"
     ]
    },
    {
     "name": "stdout",
     "output_type": "stream",
     "text": [
      "Epoch 261/300 | Train Loss: 0.0037 | Val Loss: 0.0372 | Val MAPE: 142.81%\n"
     ]
    },
    {
     "name": "stderr",
     "output_type": "stream",
     "text": [
      "Epoch 262/300: 100%|██████████| 57/57 [00:05<00:00, 10.87it/s]\n"
     ]
    },
    {
     "name": "stdout",
     "output_type": "stream",
     "text": [
      "Epoch 262/300 | Train Loss: 0.0037 | Val Loss: 0.0361 | Val MAPE: 97.28%\n"
     ]
    },
    {
     "name": "stderr",
     "output_type": "stream",
     "text": [
      "Epoch 263/300: 100%|██████████| 57/57 [00:05<00:00, 10.98it/s]\n"
     ]
    },
    {
     "name": "stdout",
     "output_type": "stream",
     "text": [
      "Epoch 263/300 | Train Loss: 0.0037 | Val Loss: 0.0415 | Val MAPE: 96.18%\n"
     ]
    },
    {
     "name": "stderr",
     "output_type": "stream",
     "text": [
      "Epoch 264/300: 100%|██████████| 57/57 [00:05<00:00, 11.30it/s]\n"
     ]
    },
    {
     "name": "stdout",
     "output_type": "stream",
     "text": [
      "Epoch 264/300 | Train Loss: 0.0035 | Val Loss: 0.0408 | Val MAPE: 104.37%\n"
     ]
    },
    {
     "name": "stderr",
     "output_type": "stream",
     "text": [
      "Epoch 265/300: 100%|██████████| 57/57 [00:05<00:00, 11.29it/s]\n"
     ]
    },
    {
     "name": "stdout",
     "output_type": "stream",
     "text": [
      "Epoch 265/300 | Train Loss: 0.0035 | Val Loss: 0.0382 | Val MAPE: 98.77%\n"
     ]
    },
    {
     "name": "stderr",
     "output_type": "stream",
     "text": [
      "Epoch 266/300: 100%|██████████| 57/57 [00:05<00:00, 11.16it/s]\n"
     ]
    },
    {
     "name": "stdout",
     "output_type": "stream",
     "text": [
      "Epoch 266/300 | Train Loss: 0.0036 | Val Loss: 0.0382 | Val MAPE: 82.09%\n"
     ]
    },
    {
     "name": "stderr",
     "output_type": "stream",
     "text": [
      "Epoch 267/300: 100%|██████████| 57/57 [00:05<00:00, 11.18it/s]\n"
     ]
    },
    {
     "name": "stdout",
     "output_type": "stream",
     "text": [
      "Epoch 267/300 | Train Loss: 0.0035 | Val Loss: 0.0378 | Val MAPE: 91.14%\n"
     ]
    },
    {
     "name": "stderr",
     "output_type": "stream",
     "text": [
      "Epoch 268/300: 100%|██████████| 57/57 [00:05<00:00, 10.91it/s]\n"
     ]
    },
    {
     "name": "stdout",
     "output_type": "stream",
     "text": [
      "Epoch 268/300 | Train Loss: 0.0036 | Val Loss: 0.0388 | Val MAPE: 71.44%\n"
     ]
    },
    {
     "name": "stderr",
     "output_type": "stream",
     "text": [
      "Epoch 269/300: 100%|██████████| 57/57 [00:05<00:00, 11.17it/s]\n"
     ]
    },
    {
     "name": "stdout",
     "output_type": "stream",
     "text": [
      "Epoch 269/300 | Train Loss: 0.0037 | Val Loss: 0.0374 | Val MAPE: 188.39%\n"
     ]
    },
    {
     "name": "stderr",
     "output_type": "stream",
     "text": [
      "Epoch 270/300: 100%|██████████| 57/57 [00:05<00:00, 11.33it/s]\n"
     ]
    },
    {
     "name": "stdout",
     "output_type": "stream",
     "text": [
      "Epoch 270/300 | Train Loss: 0.0037 | Val Loss: 0.0424 | Val MAPE: 215.32%\n"
     ]
    },
    {
     "name": "stderr",
     "output_type": "stream",
     "text": [
      "Epoch 271/300: 100%|██████████| 57/57 [00:05<00:00, 11.00it/s]\n"
     ]
    },
    {
     "name": "stdout",
     "output_type": "stream",
     "text": [
      "Epoch 271/300 | Train Loss: 0.0037 | Val Loss: 0.0424 | Val MAPE: 147.60%\n"
     ]
    },
    {
     "name": "stderr",
     "output_type": "stream",
     "text": [
      "Epoch 272/300: 100%|██████████| 57/57 [00:05<00:00, 11.11it/s]\n"
     ]
    },
    {
     "name": "stdout",
     "output_type": "stream",
     "text": [
      "Epoch 272/300 | Train Loss: 0.0037 | Val Loss: 0.0326 | Val MAPE: 157.97%\n"
     ]
    },
    {
     "name": "stderr",
     "output_type": "stream",
     "text": [
      "Epoch 273/300: 100%|██████████| 57/57 [00:05<00:00, 11.28it/s]\n"
     ]
    },
    {
     "name": "stdout",
     "output_type": "stream",
     "text": [
      "Epoch 273/300 | Train Loss: 0.0037 | Val Loss: 0.0337 | Val MAPE: 94.00%\n"
     ]
    },
    {
     "name": "stderr",
     "output_type": "stream",
     "text": [
      "Epoch 274/300: 100%|██████████| 57/57 [00:05<00:00, 10.88it/s]\n"
     ]
    },
    {
     "name": "stdout",
     "output_type": "stream",
     "text": [
      "Epoch 274/300 | Train Loss: 0.0036 | Val Loss: 0.0353 | Val MAPE: 148.34%\n"
     ]
    },
    {
     "name": "stderr",
     "output_type": "stream",
     "text": [
      "Epoch 275/300: 100%|██████████| 57/57 [00:05<00:00, 11.10it/s]\n"
     ]
    },
    {
     "name": "stdout",
     "output_type": "stream",
     "text": [
      "Epoch 275/300 | Train Loss: 0.0034 | Val Loss: 0.0349 | Val MAPE: 173.99%\n"
     ]
    },
    {
     "name": "stderr",
     "output_type": "stream",
     "text": [
      "Epoch 276/300: 100%|██████████| 57/57 [00:05<00:00, 11.19it/s]\n"
     ]
    },
    {
     "name": "stdout",
     "output_type": "stream",
     "text": [
      "Epoch 276/300 | Train Loss: 0.0035 | Val Loss: 0.0347 | Val MAPE: 56.80%\n"
     ]
    },
    {
     "name": "stderr",
     "output_type": "stream",
     "text": [
      "Epoch 277/300: 100%|██████████| 57/57 [00:05<00:00, 11.30it/s]\n"
     ]
    },
    {
     "name": "stdout",
     "output_type": "stream",
     "text": [
      "Epoch 277/300 | Train Loss: 0.0036 | Val Loss: 0.0327 | Val MAPE: 205.03%\n"
     ]
    },
    {
     "name": "stderr",
     "output_type": "stream",
     "text": [
      "Epoch 278/300: 100%|██████████| 57/57 [00:05<00:00, 11.25it/s]\n"
     ]
    },
    {
     "name": "stdout",
     "output_type": "stream",
     "text": [
      "Epoch 278/300 | Train Loss: 0.0034 | Val Loss: 0.0365 | Val MAPE: 154.76%\n"
     ]
    },
    {
     "name": "stderr",
     "output_type": "stream",
     "text": [
      "Epoch 279/300: 100%|██████████| 57/57 [00:05<00:00, 11.30it/s]\n"
     ]
    },
    {
     "name": "stdout",
     "output_type": "stream",
     "text": [
      "Epoch 279/300 | Train Loss: 0.0035 | Val Loss: 0.0371 | Val MAPE: 102.99%\n"
     ]
    },
    {
     "name": "stderr",
     "output_type": "stream",
     "text": [
      "Epoch 280/300: 100%|██████████| 57/57 [00:05<00:00, 11.02it/s]\n"
     ]
    },
    {
     "name": "stdout",
     "output_type": "stream",
     "text": [
      "Epoch 280/300 | Train Loss: 0.0035 | Val Loss: 0.0344 | Val MAPE: 81.31%\n"
     ]
    },
    {
     "name": "stderr",
     "output_type": "stream",
     "text": [
      "Epoch 281/300: 100%|██████████| 57/57 [00:05<00:00, 11.28it/s]\n"
     ]
    },
    {
     "name": "stdout",
     "output_type": "stream",
     "text": [
      "Epoch 281/300 | Train Loss: 0.0036 | Val Loss: 0.0347 | Val MAPE: 138.21%\n"
     ]
    },
    {
     "name": "stderr",
     "output_type": "stream",
     "text": [
      "Epoch 282/300: 100%|██████████| 57/57 [00:05<00:00, 11.21it/s]\n"
     ]
    },
    {
     "name": "stdout",
     "output_type": "stream",
     "text": [
      "Epoch 282/300 | Train Loss: 0.0036 | Val Loss: 0.0301 | Val MAPE: 178.94%\n"
     ]
    },
    {
     "name": "stderr",
     "output_type": "stream",
     "text": [
      "Epoch 283/300: 100%|██████████| 57/57 [00:05<00:00, 11.18it/s]\n"
     ]
    },
    {
     "name": "stdout",
     "output_type": "stream",
     "text": [
      "Epoch 283/300 | Train Loss: 0.0038 | Val Loss: 0.0405 | Val MAPE: 97.48%\n"
     ]
    },
    {
     "name": "stderr",
     "output_type": "stream",
     "text": [
      "Epoch 284/300: 100%|██████████| 57/57 [00:05<00:00, 11.17it/s]\n"
     ]
    },
    {
     "name": "stdout",
     "output_type": "stream",
     "text": [
      "Epoch 284/300 | Train Loss: 0.0036 | Val Loss: 0.0399 | Val MAPE: 144.53%\n"
     ]
    },
    {
     "name": "stderr",
     "output_type": "stream",
     "text": [
      "Epoch 285/300: 100%|██████████| 57/57 [00:05<00:00, 10.86it/s]\n"
     ]
    },
    {
     "name": "stdout",
     "output_type": "stream",
     "text": [
      "Epoch 285/300 | Train Loss: 0.0035 | Val Loss: 0.0355 | Val MAPE: 112.92%\n"
     ]
    },
    {
     "name": "stderr",
     "output_type": "stream",
     "text": [
      "Epoch 286/300: 100%|██████████| 57/57 [00:05<00:00, 11.25it/s]\n"
     ]
    },
    {
     "name": "stdout",
     "output_type": "stream",
     "text": [
      "Epoch 286/300 | Train Loss: 0.0034 | Val Loss: 0.0363 | Val MAPE: 131.00%\n"
     ]
    },
    {
     "name": "stderr",
     "output_type": "stream",
     "text": [
      "Epoch 287/300: 100%|██████████| 57/57 [00:05<00:00, 11.36it/s]\n"
     ]
    },
    {
     "name": "stdout",
     "output_type": "stream",
     "text": [
      "Epoch 287/300 | Train Loss: 0.0033 | Val Loss: 0.0349 | Val MAPE: 154.47%\n"
     ]
    },
    {
     "name": "stderr",
     "output_type": "stream",
     "text": [
      "Epoch 288/300: 100%|██████████| 57/57 [00:05<00:00, 11.31it/s]\n"
     ]
    },
    {
     "name": "stdout",
     "output_type": "stream",
     "text": [
      "Epoch 288/300 | Train Loss: 0.0035 | Val Loss: 0.0338 | Val MAPE: 142.33%\n"
     ]
    },
    {
     "name": "stderr",
     "output_type": "stream",
     "text": [
      "Epoch 289/300: 100%|██████████| 57/57 [00:05<00:00, 11.18it/s]\n"
     ]
    },
    {
     "name": "stdout",
     "output_type": "stream",
     "text": [
      "Epoch 289/300 | Train Loss: 0.0035 | Val Loss: 0.0327 | Val MAPE: 87.96%\n"
     ]
    },
    {
     "name": "stderr",
     "output_type": "stream",
     "text": [
      "Epoch 290/300: 100%|██████████| 57/57 [00:05<00:00, 11.17it/s]\n"
     ]
    },
    {
     "name": "stdout",
     "output_type": "stream",
     "text": [
      "Epoch 290/300 | Train Loss: 0.0035 | Val Loss: 0.0325 | Val MAPE: 122.45%\n"
     ]
    },
    {
     "name": "stderr",
     "output_type": "stream",
     "text": [
      "Epoch 291/300: 100%|██████████| 57/57 [00:05<00:00, 11.01it/s]\n"
     ]
    },
    {
     "name": "stdout",
     "output_type": "stream",
     "text": [
      "Epoch 291/300 | Train Loss: 0.0034 | Val Loss: 0.0319 | Val MAPE: 195.24%\n"
     ]
    },
    {
     "name": "stderr",
     "output_type": "stream",
     "text": [
      "Epoch 292/300: 100%|██████████| 57/57 [00:05<00:00, 11.14it/s]\n"
     ]
    },
    {
     "name": "stdout",
     "output_type": "stream",
     "text": [
      "Epoch 292/300 | Train Loss: 0.0034 | Val Loss: 0.0332 | Val MAPE: 173.73%\n"
     ]
    },
    {
     "name": "stderr",
     "output_type": "stream",
     "text": [
      "Epoch 293/300: 100%|██████████| 57/57 [00:05<00:00, 10.98it/s]\n"
     ]
    },
    {
     "name": "stdout",
     "output_type": "stream",
     "text": [
      "Epoch 293/300 | Train Loss: 0.0036 | Val Loss: 0.0330 | Val MAPE: 209.94%\n"
     ]
    },
    {
     "name": "stderr",
     "output_type": "stream",
     "text": [
      "Epoch 294/300: 100%|██████████| 57/57 [00:05<00:00, 11.21it/s]\n"
     ]
    },
    {
     "name": "stdout",
     "output_type": "stream",
     "text": [
      "Epoch 294/300 | Train Loss: 0.0033 | Val Loss: 0.0310 | Val MAPE: 84.12%\n"
     ]
    },
    {
     "name": "stderr",
     "output_type": "stream",
     "text": [
      "Epoch 295/300: 100%|██████████| 57/57 [00:05<00:00, 11.22it/s]\n"
     ]
    },
    {
     "name": "stdout",
     "output_type": "stream",
     "text": [
      "Epoch 295/300 | Train Loss: 0.0036 | Val Loss: 0.0338 | Val MAPE: 117.32%\n"
     ]
    },
    {
     "name": "stderr",
     "output_type": "stream",
     "text": [
      "Epoch 296/300: 100%|██████████| 57/57 [00:05<00:00, 10.91it/s]\n"
     ]
    },
    {
     "name": "stdout",
     "output_type": "stream",
     "text": [
      "Epoch 296/300 | Train Loss: 0.0034 | Val Loss: 0.0297 | Val MAPE: 102.97%\n"
     ]
    },
    {
     "name": "stderr",
     "output_type": "stream",
     "text": [
      "Epoch 297/300: 100%|██████████| 57/57 [00:05<00:00, 10.99it/s]\n"
     ]
    },
    {
     "name": "stdout",
     "output_type": "stream",
     "text": [
      "Epoch 297/300 | Train Loss: 0.0034 | Val Loss: 0.0296 | Val MAPE: 51.18%\n"
     ]
    },
    {
     "name": "stderr",
     "output_type": "stream",
     "text": [
      "Epoch 298/300: 100%|██████████| 57/57 [00:05<00:00, 11.29it/s]\n"
     ]
    },
    {
     "name": "stdout",
     "output_type": "stream",
     "text": [
      "Epoch 298/300 | Train Loss: 0.0035 | Val Loss: 0.0318 | Val MAPE: 184.52%\n"
     ]
    },
    {
     "name": "stderr",
     "output_type": "stream",
     "text": [
      "Epoch 299/300: 100%|██████████| 57/57 [00:05<00:00, 11.09it/s]\n"
     ]
    },
    {
     "name": "stdout",
     "output_type": "stream",
     "text": [
      "Epoch 299/300 | Train Loss: 0.0054 | Val Loss: 0.0346 | Val MAPE: 65.23%\n"
     ]
    },
    {
     "name": "stderr",
     "output_type": "stream",
     "text": [
      "Epoch 300/300: 100%|██████████| 57/57 [00:05<00:00, 11.07it/s]\n"
     ]
    },
    {
     "name": "stdout",
     "output_type": "stream",
     "text": [
      "Epoch 300/300 | Train Loss: 0.0042 | Val Loss: 0.0421 | Val MAPE: 162.80%\n",
      "✅ Submission saved to submission.csv\n"
     ]
    }
   ],
   "source": [
    "import pandas as pd\n",
    "import numpy as np\n",
    "from sklearn.model_selection import train_test_split\n",
    "from sklearn.preprocessing import RobustScaler\n",
    "from sklearn.metrics import mean_absolute_percentage_error\n",
    "import torch\n",
    "from torch import nn\n",
    "from torch.utils.data import Dataset, DataLoader\n",
    "from tqdm import tqdm\n",
    "from tabm import TabM  # Ensure TabM is installed and imported  \n",
    "\n",
    "# ------------------------------ Config ------------------------------\n",
    "\n",
    "class Config:\n",
    "    TRAIN_PATH = 'train.csv'\n",
    "    TEST_PATH = 'test.csv'\n",
    "    TARGET_COLS = [f'BlendProperty{i}' for i in range(1, 11)]\n",
    "    TEST_SIZE = 0.1\n",
    "    BATCH_SIZE = 32\n",
    "    LR = 1e-3\n",
    "    EPOCHS = 300\n",
    "    DEVICE = 'cuda' if torch.cuda.is_available() else 'cpu'\n",
    "    K_ENSEMBLE = 64\n",
    "    RANDOM_STATE = 42\n",
    "\n",
    "# ------------------------------ Dataset ------------------------------\n",
    "\n",
    "class TabularDataset(Dataset):\n",
    "    def __init__(self, X, y=None):\n",
    "        self.X = torch.tensor(X, dtype=torch.float32)\n",
    "        self.y = torch.tensor(y, dtype=torch.float32) if y is not None else None\n",
    "\n",
    "    def __len__(self):\n",
    "        return len(self.X)\n",
    "\n",
    "    def __getitem__(self, idx):\n",
    "        if self.y is not None:\n",
    "            return self.X[idx], self.y[idx]\n",
    "        else:\n",
    "            return self.X[idx]\n",
    "\n",
    "# ------------------------------ Trainer ------------------------------\n",
    "\n",
    "class Trainer:\n",
    "    def __init__(self, config):\n",
    "        self.config = config\n",
    "        self.device = config.DEVICE\n",
    "        self.criterion_mse = nn.MSELoss()\n",
    "        self.load_and_prepare_data()\n",
    "        self.create_model()\n",
    "\n",
    "    def load_and_prepare_data(self):\n",
    "        train_df = pd.read_csv(self.config.TRAIN_PATH)\n",
    "        test_df = pd.read_csv(self.config.TEST_PATH)\n",
    "        train_df = self.feature_engineering(train_df, fit=True)\n",
    "        test_df = self.feature_engineering(test_df, fit=False)\n",
    "\n",
    "        self.X_train, self.X_val, self.y_train, self.y_val = train_test_split(\n",
    "            train_df.drop(columns=self.target_cols).values,\n",
    "            train_df[self.target_cols].values,\n",
    "            test_size=self.config.TEST_SIZE,\n",
    "            random_state=self.config.RANDOM_STATE\n",
    "        )\n",
    "\n",
    "        self.X_test = test_df.drop(columns=self.target_cols, errors='ignore').values\n",
    "        self.test_ids = test_df['ID'].values if 'ID' in test_df.columns else np.arange(len(test_df))\n",
    "\n",
    "        self.num_scaler = RobustScaler()\n",
    "        self.y_scaler = RobustScaler()\n",
    "\n",
    "        self.X_train = self.num_scaler.fit_transform(self.X_train)\n",
    "        self.X_val = self.num_scaler.transform(self.X_val)\n",
    "        self.X_test = self.num_scaler.transform(self.X_test)\n",
    "\n",
    "        self.y_train = self.y_scaler.fit_transform(self.y_train)\n",
    "        self.y_val = self.y_scaler.transform(self.y_val)\n",
    "\n",
    "        self.train_loader = DataLoader(TabularDataset(self.X_train, self.y_train), batch_size=self.config.BATCH_SIZE, shuffle=True)\n",
    "        self.val_loader = DataLoader(TabularDataset(self.X_val, self.y_val), batch_size=self.config.BATCH_SIZE, shuffle=False)\n",
    "        self.test_loader = DataLoader(TabularDataset(self.X_test), batch_size=self.config.BATCH_SIZE, shuffle=False)\n",
    "\n",
    "    def feature_engineering(self, df, fit=False):\n",
    "        df = df.copy()\n",
    "        \n",
    "        # Ensure all target columns exist — fill missing with zeros\n",
    "        for col in Config.TARGET_COLS:\n",
    "            if col not in df.columns:\n",
    "                df[col] = 0\n",
    "\n",
    "        # Drop identifier columns if present (e.g. 'ID', 'BlendID')\n",
    "        id_cols = ['ID', 'BlendID']\n",
    "        df.drop(columns=[col for col in id_cols if col in df.columns], inplace=True)\n",
    "\n",
    "        if fit:\n",
    "            # Determine feature columns during training\n",
    "            self.feature_cols = [col for col in df.columns if col not in Config.TARGET_COLS]\n",
    "            self.target_cols = Config.TARGET_COLS\n",
    "\n",
    "        # Ensure consistent column ordering\n",
    "        df = df[self.feature_cols + self.target_cols]\n",
    "\n",
    "        return df\n",
    "\n",
    "\n",
    "    def create_model(self):\n",
    "        self.model = TabM.make(\n",
    "            n_num_features=self.train_loader.dataset.X.shape[1],\n",
    "            cat_cardinalities=None,\n",
    "            d_out=len(self.target_cols),\n",
    "            k=self.config.K_ENSEMBLE\n",
    "        ).to(self.device)\n",
    "\n",
    "        self.optimizer = torch.optim.AdamW(self.model.parameters(), lr=self.config.LR)\n",
    "\n",
    "    def train_epoch(self, epoch):\n",
    "        self.model.train()\n",
    "        total_loss = 0\n",
    "        for X, y in tqdm(self.train_loader, desc=f\"Epoch {epoch+1}/{self.config.EPOCHS}\"):\n",
    "            X, y = X.to(self.device), y.to(self.device)\n",
    "            preds = self.model(X)\n",
    "            preds_median = torch.median(preds, dim=1)[0]\n",
    "            loss = self.criterion_mse(preds_median, y)\n",
    "\n",
    "            self.optimizer.zero_grad()\n",
    "            loss.backward()\n",
    "            self.optimizer.step()\n",
    "            total_loss += loss.item()\n",
    "        return total_loss / len(self.train_loader)\n",
    "\n",
    "    def validate(self):\n",
    "        self.model.eval()\n",
    "        total_loss = 0\n",
    "        all_preds, all_targets = [], []\n",
    "\n",
    "        with torch.no_grad():\n",
    "            for X, y in self.val_loader:\n",
    "                X, y = X.to(self.device), y.to(self.device)\n",
    "                preds = self.model(X)\n",
    "                preds_median = torch.median(preds, dim=1)[0]\n",
    "                loss = self.criterion_mse(preds_median, y)\n",
    "                total_loss += loss.item()\n",
    "\n",
    "                all_preds.append(preds_median.cpu().numpy())\n",
    "                all_targets.append(y.cpu().numpy())\n",
    "\n",
    "        preds_all = np.vstack(all_preds)\n",
    "        targets_all = np.vstack(all_targets)\n",
    "\n",
    "        preds_all_orig = self.y_scaler.inverse_transform(preds_all)\n",
    "        targets_all_orig = self.y_scaler.inverse_transform(targets_all)\n",
    "        mape = mean_absolute_percentage_error(targets_all_orig, preds_all_orig) * 100\n",
    "\n",
    "        return total_loss / len(self.val_loader), mape\n",
    "\n",
    "    def train(self):\n",
    "        for epoch in range(self.config.EPOCHS):\n",
    "            train_loss = self.train_epoch(epoch)\n",
    "            val_loss, val_mape = self.validate()\n",
    "            print(f\"Epoch {epoch+1}/{self.config.EPOCHS} | Train Loss: {train_loss:.4f} | Val Loss: {val_loss:.4f} | Val MAPE: {val_mape:.2f}%\")\n",
    "\n",
    "    def predict(self):\n",
    "        self.model.eval()\n",
    "        preds_all = []\n",
    "\n",
    "        with torch.no_grad():\n",
    "            for X in self.test_loader:\n",
    "                X = X.to(self.device)\n",
    "                preds = self.model(X)\n",
    "                preds_median = torch.median(preds, dim=1)[0]\n",
    "                preds_all.append(preds_median.cpu().numpy())\n",
    "\n",
    "        preds_all = np.vstack(preds_all)\n",
    "        preds_orig = self.y_scaler.inverse_transform(preds_all)\n",
    "\n",
    "        submission = pd.DataFrame(preds_orig, columns=self.target_cols)\n",
    "        submission.insert(0, 'ID', self.test_ids)\n",
    "        submission.to_csv('submission3(1).csv', index=False)\n",
    "        print(\"✅ Submission saved to submission.csv\")\n",
    "\n",
    "# ------------------------------ Run ------------------------------\n",
    "\n",
    "if __name__ == '__main__':\n",
    "    config = Config()\n",
    "    trainer = Trainer(config)\n",
    "    trainer.train()\n",
    "    trainer.predict()\n"
   ]
  },
  {
   "cell_type": "code",
   "execution_count": 2,
   "id": "44e92382",
   "metadata": {},
   "outputs": [
    {
     "name": "stderr",
     "output_type": "stream",
     "text": [
      "Epoch 1/300: 100%|██████████| 57/57 [00:05<00:00, 10.97it/s]\n"
     ]
    },
    {
     "name": "stdout",
     "output_type": "stream",
     "text": [
      "Epoch 1/300 | Train Loss: 0.5438 | Val Loss: 0.5266 | Val MAPE: 181.83%\n"
     ]
    },
    {
     "name": "stderr",
     "output_type": "stream",
     "text": [
      "Epoch 2/300: 100%|██████████| 57/57 [00:05<00:00, 10.92it/s]\n"
     ]
    },
    {
     "name": "stdout",
     "output_type": "stream",
     "text": [
      "Epoch 2/300 | Train Loss: 0.5414 | Val Loss: 0.5227 | Val MAPE: 182.69%\n"
     ]
    },
    {
     "name": "stderr",
     "output_type": "stream",
     "text": [
      "Epoch 3/300: 100%|██████████| 57/57 [00:05<00:00, 10.59it/s]\n"
     ]
    },
    {
     "name": "stdout",
     "output_type": "stream",
     "text": [
      "Epoch 3/300 | Train Loss: 0.5394 | Val Loss: 0.5158 | Val MAPE: 193.55%\n"
     ]
    },
    {
     "name": "stderr",
     "output_type": "stream",
     "text": [
      "Epoch 4/300: 100%|██████████| 57/57 [00:05<00:00, 11.13it/s]\n"
     ]
    },
    {
     "name": "stdout",
     "output_type": "stream",
     "text": [
      "Epoch 4/300 | Train Loss: 0.5281 | Val Loss: 0.5023 | Val MAPE: 177.04%\n"
     ]
    },
    {
     "name": "stderr",
     "output_type": "stream",
     "text": [
      "Epoch 5/300: 100%|██████████| 57/57 [00:05<00:00, 11.16it/s]\n"
     ]
    },
    {
     "name": "stdout",
     "output_type": "stream",
     "text": [
      "Epoch 5/300 | Train Loss: 0.5073 | Val Loss: 0.4590 | Val MAPE: 153.89%\n"
     ]
    },
    {
     "name": "stderr",
     "output_type": "stream",
     "text": [
      "Epoch 6/300: 100%|██████████| 57/57 [00:05<00:00, 11.06it/s]\n"
     ]
    },
    {
     "name": "stdout",
     "output_type": "stream",
     "text": [
      "Epoch 6/300 | Train Loss: 0.4102 | Val Loss: 0.3209 | Val MAPE: 418.83%\n"
     ]
    },
    {
     "name": "stderr",
     "output_type": "stream",
     "text": [
      "Epoch 7/300: 100%|██████████| 57/57 [00:05<00:00, 11.00it/s]\n"
     ]
    },
    {
     "name": "stdout",
     "output_type": "stream",
     "text": [
      "Epoch 7/300 | Train Loss: 0.2664 | Val Loss: 0.2348 | Val MAPE: 301.93%\n"
     ]
    },
    {
     "name": "stderr",
     "output_type": "stream",
     "text": [
      "Epoch 8/300: 100%|██████████| 57/57 [00:05<00:00, 10.78it/s]\n"
     ]
    },
    {
     "name": "stdout",
     "output_type": "stream",
     "text": [
      "Epoch 8/300 | Train Loss: 0.2147 | Val Loss: 0.1955 | Val MAPE: 950.92%\n"
     ]
    },
    {
     "name": "stderr",
     "output_type": "stream",
     "text": [
      "Epoch 9/300: 100%|██████████| 57/57 [00:05<00:00, 10.88it/s]\n"
     ]
    },
    {
     "name": "stdout",
     "output_type": "stream",
     "text": [
      "Epoch 9/300 | Train Loss: 0.1822 | Val Loss: 0.1693 | Val MAPE: 777.89%\n"
     ]
    },
    {
     "name": "stderr",
     "output_type": "stream",
     "text": [
      "Epoch 10/300: 100%|██████████| 57/57 [00:05<00:00, 10.88it/s]\n"
     ]
    },
    {
     "name": "stdout",
     "output_type": "stream",
     "text": [
      "Epoch 10/300 | Train Loss: 0.1579 | Val Loss: 0.1520 | Val MAPE: 497.58%\n"
     ]
    },
    {
     "name": "stderr",
     "output_type": "stream",
     "text": [
      "Epoch 11/300: 100%|██████████| 57/57 [00:05<00:00, 11.06it/s]\n"
     ]
    },
    {
     "name": "stdout",
     "output_type": "stream",
     "text": [
      "Epoch 11/300 | Train Loss: 0.1405 | Val Loss: 0.1410 | Val MAPE: 754.01%\n"
     ]
    },
    {
     "name": "stderr",
     "output_type": "stream",
     "text": [
      "Epoch 12/300: 100%|██████████| 57/57 [00:05<00:00, 10.45it/s]\n"
     ]
    },
    {
     "name": "stdout",
     "output_type": "stream",
     "text": [
      "Epoch 12/300 | Train Loss: 0.1292 | Val Loss: 0.1266 | Val MAPE: 573.29%\n"
     ]
    },
    {
     "name": "stderr",
     "output_type": "stream",
     "text": [
      "Epoch 13/300: 100%|██████████| 57/57 [00:05<00:00, 10.42it/s]\n"
     ]
    },
    {
     "name": "stdout",
     "output_type": "stream",
     "text": [
      "Epoch 13/300 | Train Loss: 0.1199 | Val Loss: 0.1186 | Val MAPE: 913.10%\n"
     ]
    },
    {
     "name": "stderr",
     "output_type": "stream",
     "text": [
      "Epoch 14/300: 100%|██████████| 57/57 [00:05<00:00, 10.19it/s]\n"
     ]
    },
    {
     "name": "stdout",
     "output_type": "stream",
     "text": [
      "Epoch 14/300 | Train Loss: 0.1120 | Val Loss: 0.1159 | Val MAPE: 797.61%\n"
     ]
    },
    {
     "name": "stderr",
     "output_type": "stream",
     "text": [
      "Epoch 15/300: 100%|██████████| 57/57 [00:05<00:00, 10.91it/s]\n"
     ]
    },
    {
     "name": "stdout",
     "output_type": "stream",
     "text": [
      "Epoch 15/300 | Train Loss: 0.1051 | Val Loss: 0.1122 | Val MAPE: 706.74%\n"
     ]
    },
    {
     "name": "stderr",
     "output_type": "stream",
     "text": [
      "Epoch 16/300: 100%|██████████| 57/57 [00:05<00:00, 10.78it/s]\n"
     ]
    },
    {
     "name": "stdout",
     "output_type": "stream",
     "text": [
      "Epoch 16/300 | Train Loss: 0.1000 | Val Loss: 0.1101 | Val MAPE: 793.47%\n"
     ]
    },
    {
     "name": "stderr",
     "output_type": "stream",
     "text": [
      "Epoch 17/300: 100%|██████████| 57/57 [00:04<00:00, 11.86it/s]\n"
     ]
    },
    {
     "name": "stdout",
     "output_type": "stream",
     "text": [
      "Epoch 17/300 | Train Loss: 0.0961 | Val Loss: 0.1080 | Val MAPE: 678.95%\n"
     ]
    },
    {
     "name": "stderr",
     "output_type": "stream",
     "text": [
      "Epoch 18/300: 100%|██████████| 57/57 [00:04<00:00, 11.61it/s]\n"
     ]
    },
    {
     "name": "stdout",
     "output_type": "stream",
     "text": [
      "Epoch 18/300 | Train Loss: 0.0920 | Val Loss: 0.1050 | Val MAPE: 570.33%\n"
     ]
    },
    {
     "name": "stderr",
     "output_type": "stream",
     "text": [
      "Epoch 19/300: 100%|██████████| 57/57 [00:04<00:00, 11.87it/s]\n"
     ]
    },
    {
     "name": "stdout",
     "output_type": "stream",
     "text": [
      "Epoch 19/300 | Train Loss: 0.0860 | Val Loss: 0.1019 | Val MAPE: 892.75%\n"
     ]
    },
    {
     "name": "stderr",
     "output_type": "stream",
     "text": [
      "Epoch 20/300: 100%|██████████| 57/57 [00:04<00:00, 11.44it/s]\n"
     ]
    },
    {
     "name": "stdout",
     "output_type": "stream",
     "text": [
      "Epoch 20/300 | Train Loss: 0.0833 | Val Loss: 0.0984 | Val MAPE: 894.77%\n"
     ]
    },
    {
     "name": "stderr",
     "output_type": "stream",
     "text": [
      "Epoch 21/300: 100%|██████████| 57/57 [00:04<00:00, 12.11it/s]\n"
     ]
    },
    {
     "name": "stdout",
     "output_type": "stream",
     "text": [
      "Epoch 21/300 | Train Loss: 0.0795 | Val Loss: 0.1009 | Val MAPE: 628.78%\n"
     ]
    },
    {
     "name": "stderr",
     "output_type": "stream",
     "text": [
      "Epoch 22/300: 100%|██████████| 57/57 [00:04<00:00, 12.03it/s]\n"
     ]
    },
    {
     "name": "stdout",
     "output_type": "stream",
     "text": [
      "Epoch 22/300 | Train Loss: 0.0769 | Val Loss: 0.0971 | Val MAPE: 795.30%\n"
     ]
    },
    {
     "name": "stderr",
     "output_type": "stream",
     "text": [
      "Epoch 23/300: 100%|██████████| 57/57 [00:04<00:00, 12.08it/s]\n"
     ]
    },
    {
     "name": "stdout",
     "output_type": "stream",
     "text": [
      "Epoch 23/300 | Train Loss: 0.0749 | Val Loss: 0.0968 | Val MAPE: 608.69%\n"
     ]
    },
    {
     "name": "stderr",
     "output_type": "stream",
     "text": [
      "Epoch 24/300: 100%|██████████| 57/57 [00:04<00:00, 12.06it/s]\n"
     ]
    },
    {
     "name": "stdout",
     "output_type": "stream",
     "text": [
      "Epoch 24/300 | Train Loss: 0.0718 | Val Loss: 0.0936 | Val MAPE: 587.21%\n"
     ]
    },
    {
     "name": "stderr",
     "output_type": "stream",
     "text": [
      "Epoch 25/300: 100%|██████████| 57/57 [00:05<00:00, 11.29it/s]\n"
     ]
    },
    {
     "name": "stdout",
     "output_type": "stream",
     "text": [
      "Epoch 25/300 | Train Loss: 0.0683 | Val Loss: 0.0950 | Val MAPE: 487.56%\n"
     ]
    },
    {
     "name": "stderr",
     "output_type": "stream",
     "text": [
      "Epoch 26/300: 100%|██████████| 57/57 [00:05<00:00, 10.88it/s]\n"
     ]
    },
    {
     "name": "stdout",
     "output_type": "stream",
     "text": [
      "Epoch 26/300 | Train Loss: 0.0665 | Val Loss: 0.0970 | Val MAPE: 423.09%\n"
     ]
    },
    {
     "name": "stderr",
     "output_type": "stream",
     "text": [
      "Epoch 27/300: 100%|██████████| 57/57 [00:04<00:00, 11.54it/s]\n"
     ]
    },
    {
     "name": "stdout",
     "output_type": "stream",
     "text": [
      "Epoch 27/300 | Train Loss: 0.0650 | Val Loss: 0.0920 | Val MAPE: 649.07%\n"
     ]
    },
    {
     "name": "stderr",
     "output_type": "stream",
     "text": [
      "Epoch 28/300: 100%|██████████| 57/57 [00:04<00:00, 12.08it/s]\n"
     ]
    },
    {
     "name": "stdout",
     "output_type": "stream",
     "text": [
      "Epoch 28/300 | Train Loss: 0.0626 | Val Loss: 0.0871 | Val MAPE: 613.65%\n"
     ]
    },
    {
     "name": "stderr",
     "output_type": "stream",
     "text": [
      "Epoch 29/300: 100%|██████████| 57/57 [00:04<00:00, 11.98it/s]\n"
     ]
    },
    {
     "name": "stdout",
     "output_type": "stream",
     "text": [
      "Epoch 29/300 | Train Loss: 0.0602 | Val Loss: 0.0892 | Val MAPE: 443.90%\n"
     ]
    },
    {
     "name": "stderr",
     "output_type": "stream",
     "text": [
      "Epoch 30/300: 100%|██████████| 57/57 [00:04<00:00, 12.04it/s]\n"
     ]
    },
    {
     "name": "stdout",
     "output_type": "stream",
     "text": [
      "Epoch 30/300 | Train Loss: 0.0588 | Val Loss: 0.0887 | Val MAPE: 535.96%\n"
     ]
    },
    {
     "name": "stderr",
     "output_type": "stream",
     "text": [
      "Epoch 31/300: 100%|██████████| 57/57 [00:04<00:00, 12.04it/s]\n"
     ]
    },
    {
     "name": "stdout",
     "output_type": "stream",
     "text": [
      "Epoch 31/300 | Train Loss: 0.0565 | Val Loss: 0.0912 | Val MAPE: 555.33%\n"
     ]
    },
    {
     "name": "stderr",
     "output_type": "stream",
     "text": [
      "Epoch 32/300: 100%|██████████| 57/57 [00:05<00:00, 11.30it/s]\n"
     ]
    },
    {
     "name": "stdout",
     "output_type": "stream",
     "text": [
      "Epoch 32/300 | Train Loss: 0.0547 | Val Loss: 0.0865 | Val MAPE: 570.91%\n"
     ]
    },
    {
     "name": "stderr",
     "output_type": "stream",
     "text": [
      "Epoch 33/300: 100%|██████████| 57/57 [00:04<00:00, 12.12it/s]\n"
     ]
    },
    {
     "name": "stdout",
     "output_type": "stream",
     "text": [
      "Epoch 33/300 | Train Loss: 0.0538 | Val Loss: 0.0876 | Val MAPE: 618.58%\n"
     ]
    },
    {
     "name": "stderr",
     "output_type": "stream",
     "text": [
      "Epoch 34/300: 100%|██████████| 57/57 [00:04<00:00, 12.12it/s]\n"
     ]
    },
    {
     "name": "stdout",
     "output_type": "stream",
     "text": [
      "Epoch 34/300 | Train Loss: 0.0513 | Val Loss: 0.0872 | Val MAPE: 500.65%\n"
     ]
    },
    {
     "name": "stderr",
     "output_type": "stream",
     "text": [
      "Epoch 35/300: 100%|██████████| 57/57 [00:04<00:00, 12.48it/s]\n"
     ]
    },
    {
     "name": "stdout",
     "output_type": "stream",
     "text": [
      "Epoch 35/300 | Train Loss: 0.0499 | Val Loss: 0.0852 | Val MAPE: 653.05%\n"
     ]
    },
    {
     "name": "stderr",
     "output_type": "stream",
     "text": [
      "Epoch 36/300: 100%|██████████| 57/57 [00:04<00:00, 12.17it/s]\n"
     ]
    },
    {
     "name": "stdout",
     "output_type": "stream",
     "text": [
      "Epoch 36/300 | Train Loss: 0.0496 | Val Loss: 0.0856 | Val MAPE: 467.08%\n"
     ]
    },
    {
     "name": "stderr",
     "output_type": "stream",
     "text": [
      "Epoch 37/300: 100%|██████████| 57/57 [00:04<00:00, 11.98it/s]\n"
     ]
    },
    {
     "name": "stdout",
     "output_type": "stream",
     "text": [
      "Epoch 37/300 | Train Loss: 0.0479 | Val Loss: 0.0860 | Val MAPE: 428.81%\n"
     ]
    },
    {
     "name": "stderr",
     "output_type": "stream",
     "text": [
      "Epoch 38/300: 100%|██████████| 57/57 [00:04<00:00, 11.57it/s]\n"
     ]
    },
    {
     "name": "stdout",
     "output_type": "stream",
     "text": [
      "Epoch 38/300 | Train Loss: 0.0475 | Val Loss: 0.0843 | Val MAPE: 380.62%\n"
     ]
    },
    {
     "name": "stderr",
     "output_type": "stream",
     "text": [
      "Epoch 39/300: 100%|██████████| 57/57 [00:04<00:00, 11.86it/s]\n"
     ]
    },
    {
     "name": "stdout",
     "output_type": "stream",
     "text": [
      "Epoch 39/300 | Train Loss: 0.0464 | Val Loss: 0.0804 | Val MAPE: 241.32%\n"
     ]
    },
    {
     "name": "stderr",
     "output_type": "stream",
     "text": [
      "Epoch 40/300: 100%|██████████| 57/57 [00:04<00:00, 12.14it/s]\n"
     ]
    },
    {
     "name": "stdout",
     "output_type": "stream",
     "text": [
      "Epoch 40/300 | Train Loss: 0.0447 | Val Loss: 0.0770 | Val MAPE: 369.26%\n"
     ]
    },
    {
     "name": "stderr",
     "output_type": "stream",
     "text": [
      "Epoch 41/300: 100%|██████████| 57/57 [00:04<00:00, 12.17it/s]\n"
     ]
    },
    {
     "name": "stdout",
     "output_type": "stream",
     "text": [
      "Epoch 41/300 | Train Loss: 0.0435 | Val Loss: 0.0855 | Val MAPE: 579.36%\n"
     ]
    },
    {
     "name": "stderr",
     "output_type": "stream",
     "text": [
      "Epoch 42/300: 100%|██████████| 57/57 [00:04<00:00, 11.96it/s]\n"
     ]
    },
    {
     "name": "stdout",
     "output_type": "stream",
     "text": [
      "Epoch 42/300 | Train Loss: 0.0435 | Val Loss: 0.0832 | Val MAPE: 461.76%\n"
     ]
    },
    {
     "name": "stderr",
     "output_type": "stream",
     "text": [
      "Epoch 43/300: 100%|██████████| 57/57 [00:04<00:00, 12.00it/s]\n"
     ]
    },
    {
     "name": "stdout",
     "output_type": "stream",
     "text": [
      "Epoch 43/300 | Train Loss: 0.0417 | Val Loss: 0.0780 | Val MAPE: 637.42%\n"
     ]
    },
    {
     "name": "stderr",
     "output_type": "stream",
     "text": [
      "Epoch 44/300: 100%|██████████| 57/57 [00:04<00:00, 11.56it/s]\n"
     ]
    },
    {
     "name": "stdout",
     "output_type": "stream",
     "text": [
      "Epoch 44/300 | Train Loss: 0.0406 | Val Loss: 0.0818 | Val MAPE: 552.37%\n"
     ]
    },
    {
     "name": "stderr",
     "output_type": "stream",
     "text": [
      "Epoch 45/300: 100%|██████████| 57/57 [00:04<00:00, 12.03it/s]\n"
     ]
    },
    {
     "name": "stdout",
     "output_type": "stream",
     "text": [
      "Epoch 45/300 | Train Loss: 0.0405 | Val Loss: 0.0756 | Val MAPE: 433.22%\n"
     ]
    },
    {
     "name": "stderr",
     "output_type": "stream",
     "text": [
      "Epoch 46/300: 100%|██████████| 57/57 [00:04<00:00, 12.16it/s]\n"
     ]
    },
    {
     "name": "stdout",
     "output_type": "stream",
     "text": [
      "Epoch 46/300 | Train Loss: 0.0385 | Val Loss: 0.0815 | Val MAPE: 534.39%\n"
     ]
    },
    {
     "name": "stderr",
     "output_type": "stream",
     "text": [
      "Epoch 47/300: 100%|██████████| 57/57 [00:04<00:00, 12.09it/s]\n"
     ]
    },
    {
     "name": "stdout",
     "output_type": "stream",
     "text": [
      "Epoch 47/300 | Train Loss: 0.0382 | Val Loss: 0.0762 | Val MAPE: 510.41%\n"
     ]
    },
    {
     "name": "stderr",
     "output_type": "stream",
     "text": [
      "Epoch 48/300: 100%|██████████| 57/57 [00:04<00:00, 12.12it/s]\n"
     ]
    },
    {
     "name": "stdout",
     "output_type": "stream",
     "text": [
      "Epoch 48/300 | Train Loss: 0.0365 | Val Loss: 0.0753 | Val MAPE: 581.84%\n"
     ]
    },
    {
     "name": "stderr",
     "output_type": "stream",
     "text": [
      "Epoch 49/300: 100%|██████████| 57/57 [00:05<00:00, 11.03it/s]\n"
     ]
    },
    {
     "name": "stdout",
     "output_type": "stream",
     "text": [
      "Epoch 49/300 | Train Loss: 0.0362 | Val Loss: 0.0712 | Val MAPE: 399.72%\n"
     ]
    },
    {
     "name": "stderr",
     "output_type": "stream",
     "text": [
      "Epoch 50/300: 100%|██████████| 57/57 [00:05<00:00, 11.02it/s]\n"
     ]
    },
    {
     "name": "stdout",
     "output_type": "stream",
     "text": [
      "Epoch 50/300 | Train Loss: 0.0358 | Val Loss: 0.0798 | Val MAPE: 480.03%\n"
     ]
    },
    {
     "name": "stderr",
     "output_type": "stream",
     "text": [
      "Epoch 51/300: 100%|██████████| 57/57 [00:05<00:00, 10.98it/s]\n"
     ]
    },
    {
     "name": "stdout",
     "output_type": "stream",
     "text": [
      "Epoch 51/300 | Train Loss: 0.0353 | Val Loss: 0.0760 | Val MAPE: 504.93%\n"
     ]
    },
    {
     "name": "stderr",
     "output_type": "stream",
     "text": [
      "Epoch 52/300: 100%|██████████| 57/57 [00:04<00:00, 11.42it/s]\n"
     ]
    },
    {
     "name": "stdout",
     "output_type": "stream",
     "text": [
      "Epoch 52/300 | Train Loss: 0.0334 | Val Loss: 0.0717 | Val MAPE: 428.16%\n"
     ]
    },
    {
     "name": "stderr",
     "output_type": "stream",
     "text": [
      "Epoch 53/300: 100%|██████████| 57/57 [00:04<00:00, 12.07it/s]\n"
     ]
    },
    {
     "name": "stdout",
     "output_type": "stream",
     "text": [
      "Epoch 53/300 | Train Loss: 0.0337 | Val Loss: 0.0818 | Val MAPE: 483.01%\n"
     ]
    },
    {
     "name": "stderr",
     "output_type": "stream",
     "text": [
      "Epoch 54/300: 100%|██████████| 57/57 [00:05<00:00, 10.60it/s]\n"
     ]
    },
    {
     "name": "stdout",
     "output_type": "stream",
     "text": [
      "Epoch 54/300 | Train Loss: 0.0329 | Val Loss: 0.0734 | Val MAPE: 498.04%\n"
     ]
    },
    {
     "name": "stderr",
     "output_type": "stream",
     "text": [
      "Epoch 55/300: 100%|██████████| 57/57 [00:04<00:00, 11.68it/s]\n"
     ]
    },
    {
     "name": "stdout",
     "output_type": "stream",
     "text": [
      "Epoch 55/300 | Train Loss: 0.0323 | Val Loss: 0.0738 | Val MAPE: 450.18%\n"
     ]
    },
    {
     "name": "stderr",
     "output_type": "stream",
     "text": [
      "Epoch 56/300: 100%|██████████| 57/57 [00:04<00:00, 11.52it/s]\n"
     ]
    },
    {
     "name": "stdout",
     "output_type": "stream",
     "text": [
      "Epoch 56/300 | Train Loss: 0.0317 | Val Loss: 0.0766 | Val MAPE: 350.96%\n"
     ]
    },
    {
     "name": "stderr",
     "output_type": "stream",
     "text": [
      "Epoch 57/300: 100%|██████████| 57/57 [00:05<00:00, 11.25it/s]\n"
     ]
    },
    {
     "name": "stdout",
     "output_type": "stream",
     "text": [
      "Epoch 57/300 | Train Loss: 0.0304 | Val Loss: 0.0726 | Val MAPE: 419.64%\n"
     ]
    },
    {
     "name": "stderr",
     "output_type": "stream",
     "text": [
      "Epoch 58/300: 100%|██████████| 57/57 [00:05<00:00, 10.05it/s]\n"
     ]
    },
    {
     "name": "stdout",
     "output_type": "stream",
     "text": [
      "Epoch 58/300 | Train Loss: 0.0314 | Val Loss: 0.0722 | Val MAPE: 312.07%\n"
     ]
    },
    {
     "name": "stderr",
     "output_type": "stream",
     "text": [
      "Epoch 59/300: 100%|██████████| 57/57 [00:05<00:00, 10.41it/s]\n"
     ]
    },
    {
     "name": "stdout",
     "output_type": "stream",
     "text": [
      "Epoch 59/300 | Train Loss: 0.0300 | Val Loss: 0.0695 | Val MAPE: 356.73%\n"
     ]
    },
    {
     "name": "stderr",
     "output_type": "stream",
     "text": [
      "Epoch 60/300: 100%|██████████| 57/57 [00:06<00:00,  9.42it/s]\n"
     ]
    },
    {
     "name": "stdout",
     "output_type": "stream",
     "text": [
      "Epoch 60/300 | Train Loss: 0.0298 | Val Loss: 0.0750 | Val MAPE: 405.15%\n"
     ]
    },
    {
     "name": "stderr",
     "output_type": "stream",
     "text": [
      "Epoch 61/300: 100%|██████████| 57/57 [00:06<00:00,  9.43it/s]\n"
     ]
    },
    {
     "name": "stdout",
     "output_type": "stream",
     "text": [
      "Epoch 61/300 | Train Loss: 0.0291 | Val Loss: 0.0701 | Val MAPE: 517.68%\n"
     ]
    },
    {
     "name": "stderr",
     "output_type": "stream",
     "text": [
      "Epoch 62/300: 100%|██████████| 57/57 [00:05<00:00, 10.53it/s]\n"
     ]
    },
    {
     "name": "stdout",
     "output_type": "stream",
     "text": [
      "Epoch 62/300 | Train Loss: 0.0276 | Val Loss: 0.0748 | Val MAPE: 387.03%\n"
     ]
    },
    {
     "name": "stderr",
     "output_type": "stream",
     "text": [
      "Epoch 63/300: 100%|██████████| 57/57 [00:05<00:00, 10.44it/s]\n"
     ]
    },
    {
     "name": "stdout",
     "output_type": "stream",
     "text": [
      "Epoch 63/300 | Train Loss: 0.0285 | Val Loss: 0.0701 | Val MAPE: 530.22%\n"
     ]
    },
    {
     "name": "stderr",
     "output_type": "stream",
     "text": [
      "Epoch 64/300: 100%|██████████| 57/57 [00:05<00:00, 10.52it/s]\n"
     ]
    },
    {
     "name": "stdout",
     "output_type": "stream",
     "text": [
      "Epoch 64/300 | Train Loss: 0.0275 | Val Loss: 0.0697 | Val MAPE: 549.41%\n"
     ]
    },
    {
     "name": "stderr",
     "output_type": "stream",
     "text": [
      "Epoch 65/300: 100%|██████████| 57/57 [00:05<00:00, 10.02it/s]\n"
     ]
    },
    {
     "name": "stdout",
     "output_type": "stream",
     "text": [
      "Epoch 65/300 | Train Loss: 0.0270 | Val Loss: 0.0699 | Val MAPE: 479.82%\n"
     ]
    },
    {
     "name": "stderr",
     "output_type": "stream",
     "text": [
      "Epoch 66/300: 100%|██████████| 57/57 [00:05<00:00, 10.00it/s]\n"
     ]
    },
    {
     "name": "stdout",
     "output_type": "stream",
     "text": [
      "Epoch 66/300 | Train Loss: 0.0274 | Val Loss: 0.0703 | Val MAPE: 377.07%\n"
     ]
    },
    {
     "name": "stderr",
     "output_type": "stream",
     "text": [
      "Epoch 67/300: 100%|██████████| 57/57 [00:05<00:00, 10.55it/s]\n"
     ]
    },
    {
     "name": "stdout",
     "output_type": "stream",
     "text": [
      "Epoch 67/300 | Train Loss: 0.0265 | Val Loss: 0.0673 | Val MAPE: 346.06%\n"
     ]
    },
    {
     "name": "stderr",
     "output_type": "stream",
     "text": [
      "Epoch 68/300: 100%|██████████| 57/57 [00:05<00:00, 11.08it/s]\n"
     ]
    },
    {
     "name": "stdout",
     "output_type": "stream",
     "text": [
      "Epoch 68/300 | Train Loss: 0.0258 | Val Loss: 0.0680 | Val MAPE: 464.52%\n"
     ]
    },
    {
     "name": "stderr",
     "output_type": "stream",
     "text": [
      "Epoch 69/300: 100%|██████████| 57/57 [00:06<00:00,  9.44it/s]\n"
     ]
    },
    {
     "name": "stdout",
     "output_type": "stream",
     "text": [
      "Epoch 69/300 | Train Loss: 0.0252 | Val Loss: 0.0693 | Val MAPE: 381.78%\n"
     ]
    },
    {
     "name": "stderr",
     "output_type": "stream",
     "text": [
      "Epoch 70/300: 100%|██████████| 57/57 [00:05<00:00,  9.59it/s]\n"
     ]
    },
    {
     "name": "stdout",
     "output_type": "stream",
     "text": [
      "Epoch 70/300 | Train Loss: 0.0252 | Val Loss: 0.0709 | Val MAPE: 440.29%\n"
     ]
    },
    {
     "name": "stderr",
     "output_type": "stream",
     "text": [
      "Epoch 71/300: 100%|██████████| 57/57 [00:05<00:00, 10.81it/s]\n"
     ]
    },
    {
     "name": "stdout",
     "output_type": "stream",
     "text": [
      "Epoch 71/300 | Train Loss: 0.0249 | Val Loss: 0.0693 | Val MAPE: 524.00%\n"
     ]
    },
    {
     "name": "stderr",
     "output_type": "stream",
     "text": [
      "Epoch 72/300: 100%|██████████| 57/57 [00:05<00:00,  9.90it/s]\n"
     ]
    },
    {
     "name": "stdout",
     "output_type": "stream",
     "text": [
      "Epoch 72/300 | Train Loss: 0.0238 | Val Loss: 0.0663 | Val MAPE: 391.27%\n"
     ]
    },
    {
     "name": "stderr",
     "output_type": "stream",
     "text": [
      "Epoch 73/300: 100%|██████████| 57/57 [00:05<00:00, 11.08it/s]\n"
     ]
    },
    {
     "name": "stdout",
     "output_type": "stream",
     "text": [
      "Epoch 73/300 | Train Loss: 0.0234 | Val Loss: 0.0666 | Val MAPE: 383.75%\n"
     ]
    },
    {
     "name": "stderr",
     "output_type": "stream",
     "text": [
      "Epoch 74/300: 100%|██████████| 57/57 [00:04<00:00, 11.88it/s]\n"
     ]
    },
    {
     "name": "stdout",
     "output_type": "stream",
     "text": [
      "Epoch 74/300 | Train Loss: 0.0240 | Val Loss: 0.0675 | Val MAPE: 475.42%\n"
     ]
    },
    {
     "name": "stderr",
     "output_type": "stream",
     "text": [
      "Epoch 75/300: 100%|██████████| 57/57 [00:05<00:00, 11.05it/s]\n"
     ]
    },
    {
     "name": "stdout",
     "output_type": "stream",
     "text": [
      "Epoch 75/300 | Train Loss: 0.0234 | Val Loss: 0.0667 | Val MAPE: 385.19%\n"
     ]
    },
    {
     "name": "stderr",
     "output_type": "stream",
     "text": [
      "Epoch 76/300: 100%|██████████| 57/57 [00:05<00:00, 10.80it/s]\n"
     ]
    },
    {
     "name": "stdout",
     "output_type": "stream",
     "text": [
      "Epoch 76/300 | Train Loss: 0.0229 | Val Loss: 0.0677 | Val MAPE: 368.52%\n"
     ]
    },
    {
     "name": "stderr",
     "output_type": "stream",
     "text": [
      "Epoch 77/300: 100%|██████████| 57/57 [00:05<00:00, 11.27it/s]\n"
     ]
    },
    {
     "name": "stdout",
     "output_type": "stream",
     "text": [
      "Epoch 77/300 | Train Loss: 0.0228 | Val Loss: 0.0659 | Val MAPE: 300.76%\n"
     ]
    },
    {
     "name": "stderr",
     "output_type": "stream",
     "text": [
      "Epoch 78/300: 100%|██████████| 57/57 [00:05<00:00, 10.83it/s]\n"
     ]
    },
    {
     "name": "stdout",
     "output_type": "stream",
     "text": [
      "Epoch 78/300 | Train Loss: 0.0226 | Val Loss: 0.0629 | Val MAPE: 424.79%\n"
     ]
    },
    {
     "name": "stderr",
     "output_type": "stream",
     "text": [
      "Epoch 79/300: 100%|██████████| 57/57 [00:06<00:00,  9.49it/s]\n"
     ]
    },
    {
     "name": "stdout",
     "output_type": "stream",
     "text": [
      "Epoch 79/300 | Train Loss: 0.0219 | Val Loss: 0.0678 | Val MAPE: 353.98%\n"
     ]
    },
    {
     "name": "stderr",
     "output_type": "stream",
     "text": [
      "Epoch 80/300: 100%|██████████| 57/57 [00:05<00:00, 10.22it/s]\n"
     ]
    },
    {
     "name": "stdout",
     "output_type": "stream",
     "text": [
      "Epoch 80/300 | Train Loss: 0.0219 | Val Loss: 0.0648 | Val MAPE: 394.74%\n"
     ]
    },
    {
     "name": "stderr",
     "output_type": "stream",
     "text": [
      "Epoch 81/300: 100%|██████████| 57/57 [00:04<00:00, 11.46it/s]\n"
     ]
    },
    {
     "name": "stdout",
     "output_type": "stream",
     "text": [
      "Epoch 81/300 | Train Loss: 0.0212 | Val Loss: 0.0628 | Val MAPE: 415.00%\n"
     ]
    },
    {
     "name": "stderr",
     "output_type": "stream",
     "text": [
      "Epoch 82/300: 100%|██████████| 57/57 [00:05<00:00,  9.62it/s]\n"
     ]
    },
    {
     "name": "stdout",
     "output_type": "stream",
     "text": [
      "Epoch 82/300 | Train Loss: 0.0213 | Val Loss: 0.0671 | Val MAPE: 341.05%\n"
     ]
    },
    {
     "name": "stderr",
     "output_type": "stream",
     "text": [
      "Epoch 83/300: 100%|██████████| 57/57 [00:05<00:00,  9.63it/s]\n"
     ]
    },
    {
     "name": "stdout",
     "output_type": "stream",
     "text": [
      "Epoch 83/300 | Train Loss: 0.0209 | Val Loss: 0.0668 | Val MAPE: 347.63%\n"
     ]
    },
    {
     "name": "stderr",
     "output_type": "stream",
     "text": [
      "Epoch 84/300: 100%|██████████| 57/57 [00:06<00:00,  9.27it/s]\n"
     ]
    },
    {
     "name": "stdout",
     "output_type": "stream",
     "text": [
      "Epoch 84/300 | Train Loss: 0.0209 | Val Loss: 0.0620 | Val MAPE: 398.73%\n"
     ]
    },
    {
     "name": "stderr",
     "output_type": "stream",
     "text": [
      "Epoch 85/300: 100%|██████████| 57/57 [00:05<00:00,  9.91it/s]\n"
     ]
    },
    {
     "name": "stdout",
     "output_type": "stream",
     "text": [
      "Epoch 85/300 | Train Loss: 0.0204 | Val Loss: 0.0628 | Val MAPE: 237.93%\n"
     ]
    },
    {
     "name": "stderr",
     "output_type": "stream",
     "text": [
      "Epoch 86/300: 100%|██████████| 57/57 [00:04<00:00, 11.70it/s]\n"
     ]
    },
    {
     "name": "stdout",
     "output_type": "stream",
     "text": [
      "Epoch 86/300 | Train Loss: 0.0201 | Val Loss: 0.0599 | Val MAPE: 359.18%\n"
     ]
    },
    {
     "name": "stderr",
     "output_type": "stream",
     "text": [
      "Epoch 87/300: 100%|██████████| 57/57 [00:04<00:00, 11.74it/s]\n"
     ]
    },
    {
     "name": "stdout",
     "output_type": "stream",
     "text": [
      "Epoch 87/300 | Train Loss: 0.0198 | Val Loss: 0.0632 | Val MAPE: 327.77%\n"
     ]
    },
    {
     "name": "stderr",
     "output_type": "stream",
     "text": [
      "Epoch 88/300: 100%|██████████| 57/57 [00:05<00:00, 11.00it/s]\n"
     ]
    },
    {
     "name": "stdout",
     "output_type": "stream",
     "text": [
      "Epoch 88/300 | Train Loss: 0.0200 | Val Loss: 0.0622 | Val MAPE: 475.90%\n"
     ]
    },
    {
     "name": "stderr",
     "output_type": "stream",
     "text": [
      "Epoch 89/300: 100%|██████████| 57/57 [00:05<00:00, 10.43it/s]\n"
     ]
    },
    {
     "name": "stdout",
     "output_type": "stream",
     "text": [
      "Epoch 89/300 | Train Loss: 0.0193 | Val Loss: 0.0601 | Val MAPE: 275.49%\n"
     ]
    },
    {
     "name": "stderr",
     "output_type": "stream",
     "text": [
      "Epoch 90/300: 100%|██████████| 57/57 [00:05<00:00, 10.17it/s]\n"
     ]
    },
    {
     "name": "stdout",
     "output_type": "stream",
     "text": [
      "Epoch 90/300 | Train Loss: 0.0194 | Val Loss: 0.0629 | Val MAPE: 310.77%\n"
     ]
    },
    {
     "name": "stderr",
     "output_type": "stream",
     "text": [
      "Epoch 91/300: 100%|██████████| 57/57 [00:05<00:00, 10.83it/s]\n"
     ]
    },
    {
     "name": "stdout",
     "output_type": "stream",
     "text": [
      "Epoch 91/300 | Train Loss: 0.0195 | Val Loss: 0.0603 | Val MAPE: 263.82%\n"
     ]
    },
    {
     "name": "stderr",
     "output_type": "stream",
     "text": [
      "Epoch 92/300: 100%|██████████| 57/57 [00:05<00:00, 10.93it/s]\n"
     ]
    },
    {
     "name": "stdout",
     "output_type": "stream",
     "text": [
      "Epoch 92/300 | Train Loss: 0.0188 | Val Loss: 0.0618 | Val MAPE: 285.57%\n"
     ]
    },
    {
     "name": "stderr",
     "output_type": "stream",
     "text": [
      "Epoch 93/300: 100%|██████████| 57/57 [00:04<00:00, 11.54it/s]\n"
     ]
    },
    {
     "name": "stdout",
     "output_type": "stream",
     "text": [
      "Epoch 93/300 | Train Loss: 0.0188 | Val Loss: 0.0624 | Val MAPE: 297.07%\n"
     ]
    },
    {
     "name": "stderr",
     "output_type": "stream",
     "text": [
      "Epoch 94/300: 100%|██████████| 57/57 [00:05<00:00, 10.96it/s]\n"
     ]
    },
    {
     "name": "stdout",
     "output_type": "stream",
     "text": [
      "Epoch 94/300 | Train Loss: 0.0181 | Val Loss: 0.0603 | Val MAPE: 303.22%\n"
     ]
    },
    {
     "name": "stderr",
     "output_type": "stream",
     "text": [
      "Epoch 95/300: 100%|██████████| 57/57 [00:04<00:00, 11.75it/s]\n"
     ]
    },
    {
     "name": "stdout",
     "output_type": "stream",
     "text": [
      "Epoch 95/300 | Train Loss: 0.0176 | Val Loss: 0.0604 | Val MAPE: 339.83%\n"
     ]
    },
    {
     "name": "stderr",
     "output_type": "stream",
     "text": [
      "Epoch 96/300: 100%|██████████| 57/57 [00:05<00:00, 10.78it/s]\n"
     ]
    },
    {
     "name": "stdout",
     "output_type": "stream",
     "text": [
      "Epoch 96/300 | Train Loss: 0.0181 | Val Loss: 0.0601 | Val MAPE: 293.49%\n"
     ]
    },
    {
     "name": "stderr",
     "output_type": "stream",
     "text": [
      "Epoch 97/300: 100%|██████████| 57/57 [00:05<00:00, 11.29it/s]\n"
     ]
    },
    {
     "name": "stdout",
     "output_type": "stream",
     "text": [
      "Epoch 97/300 | Train Loss: 0.0178 | Val Loss: 0.0603 | Val MAPE: 213.22%\n"
     ]
    },
    {
     "name": "stderr",
     "output_type": "stream",
     "text": [
      "Epoch 98/300: 100%|██████████| 57/57 [00:04<00:00, 11.48it/s]\n"
     ]
    },
    {
     "name": "stdout",
     "output_type": "stream",
     "text": [
      "Epoch 98/300 | Train Loss: 0.0178 | Val Loss: 0.0606 | Val MAPE: 358.26%\n"
     ]
    },
    {
     "name": "stderr",
     "output_type": "stream",
     "text": [
      "Epoch 99/300: 100%|██████████| 57/57 [00:04<00:00, 11.97it/s]\n"
     ]
    },
    {
     "name": "stdout",
     "output_type": "stream",
     "text": [
      "Epoch 99/300 | Train Loss: 0.0174 | Val Loss: 0.0628 | Val MAPE: 294.95%\n"
     ]
    },
    {
     "name": "stderr",
     "output_type": "stream",
     "text": [
      "Epoch 100/300: 100%|██████████| 57/57 [00:05<00:00, 10.94it/s]\n"
     ]
    },
    {
     "name": "stdout",
     "output_type": "stream",
     "text": [
      "Epoch 100/300 | Train Loss: 0.0170 | Val Loss: 0.0615 | Val MAPE: 277.26%\n"
     ]
    },
    {
     "name": "stderr",
     "output_type": "stream",
     "text": [
      "Epoch 101/300: 100%|██████████| 57/57 [00:04<00:00, 11.51it/s]\n"
     ]
    },
    {
     "name": "stdout",
     "output_type": "stream",
     "text": [
      "Epoch 101/300 | Train Loss: 0.0168 | Val Loss: 0.0603 | Val MAPE: 215.55%\n"
     ]
    },
    {
     "name": "stderr",
     "output_type": "stream",
     "text": [
      "Epoch 102/300: 100%|██████████| 57/57 [00:05<00:00, 10.51it/s]\n"
     ]
    },
    {
     "name": "stdout",
     "output_type": "stream",
     "text": [
      "Epoch 102/300 | Train Loss: 0.0168 | Val Loss: 0.0650 | Val MAPE: 310.83%\n"
     ]
    },
    {
     "name": "stderr",
     "output_type": "stream",
     "text": [
      "Epoch 103/300: 100%|██████████| 57/57 [00:05<00:00,  9.76it/s]\n"
     ]
    },
    {
     "name": "stdout",
     "output_type": "stream",
     "text": [
      "Epoch 103/300 | Train Loss: 0.0163 | Val Loss: 0.0599 | Val MAPE: 303.99%\n"
     ]
    },
    {
     "name": "stderr",
     "output_type": "stream",
     "text": [
      "Epoch 104/300: 100%|██████████| 57/57 [00:05<00:00, 10.04it/s]\n"
     ]
    },
    {
     "name": "stdout",
     "output_type": "stream",
     "text": [
      "Epoch 104/300 | Train Loss: 0.0168 | Val Loss: 0.0589 | Val MAPE: 383.83%\n"
     ]
    },
    {
     "name": "stderr",
     "output_type": "stream",
     "text": [
      "Epoch 105/300: 100%|██████████| 57/57 [00:05<00:00, 11.10it/s]\n"
     ]
    },
    {
     "name": "stdout",
     "output_type": "stream",
     "text": [
      "Epoch 105/300 | Train Loss: 0.0161 | Val Loss: 0.0615 | Val MAPE: 261.17%\n"
     ]
    },
    {
     "name": "stderr",
     "output_type": "stream",
     "text": [
      "Epoch 106/300: 100%|██████████| 57/57 [00:05<00:00,  9.79it/s]\n"
     ]
    },
    {
     "name": "stdout",
     "output_type": "stream",
     "text": [
      "Epoch 106/300 | Train Loss: 0.0161 | Val Loss: 0.0623 | Val MAPE: 446.00%\n"
     ]
    },
    {
     "name": "stderr",
     "output_type": "stream",
     "text": [
      "Epoch 107/300: 100%|██████████| 57/57 [00:05<00:00,  9.93it/s]\n"
     ]
    },
    {
     "name": "stdout",
     "output_type": "stream",
     "text": [
      "Epoch 107/300 | Train Loss: 0.0161 | Val Loss: 0.0596 | Val MAPE: 374.88%\n"
     ]
    },
    {
     "name": "stderr",
     "output_type": "stream",
     "text": [
      "Epoch 108/300: 100%|██████████| 57/57 [00:05<00:00, 10.80it/s]\n"
     ]
    },
    {
     "name": "stdout",
     "output_type": "stream",
     "text": [
      "Epoch 108/300 | Train Loss: 0.0157 | Val Loss: 0.0597 | Val MAPE: 217.17%\n"
     ]
    },
    {
     "name": "stderr",
     "output_type": "stream",
     "text": [
      "Epoch 109/300: 100%|██████████| 57/57 [00:05<00:00, 10.59it/s]\n"
     ]
    },
    {
     "name": "stdout",
     "output_type": "stream",
     "text": [
      "Epoch 109/300 | Train Loss: 0.0155 | Val Loss: 0.0599 | Val MAPE: 326.45%\n"
     ]
    },
    {
     "name": "stderr",
     "output_type": "stream",
     "text": [
      "Epoch 110/300: 100%|██████████| 57/57 [00:05<00:00, 10.60it/s]\n"
     ]
    },
    {
     "name": "stdout",
     "output_type": "stream",
     "text": [
      "Epoch 110/300 | Train Loss: 0.0151 | Val Loss: 0.0566 | Val MAPE: 411.37%\n"
     ]
    },
    {
     "name": "stderr",
     "output_type": "stream",
     "text": [
      "Epoch 111/300: 100%|██████████| 57/57 [00:05<00:00,  9.67it/s]\n"
     ]
    },
    {
     "name": "stdout",
     "output_type": "stream",
     "text": [
      "Epoch 111/300 | Train Loss: 0.0157 | Val Loss: 0.0588 | Val MAPE: 292.88%\n"
     ]
    },
    {
     "name": "stderr",
     "output_type": "stream",
     "text": [
      "Epoch 112/300: 100%|██████████| 57/57 [00:05<00:00, 10.17it/s]\n"
     ]
    },
    {
     "name": "stdout",
     "output_type": "stream",
     "text": [
      "Epoch 112/300 | Train Loss: 0.0155 | Val Loss: 0.0601 | Val MAPE: 256.35%\n"
     ]
    },
    {
     "name": "stderr",
     "output_type": "stream",
     "text": [
      "Epoch 113/300: 100%|██████████| 57/57 [00:05<00:00, 10.35it/s]\n"
     ]
    },
    {
     "name": "stdout",
     "output_type": "stream",
     "text": [
      "Epoch 113/300 | Train Loss: 0.0153 | Val Loss: 0.0622 | Val MAPE: 350.47%\n"
     ]
    },
    {
     "name": "stderr",
     "output_type": "stream",
     "text": [
      "Epoch 114/300: 100%|██████████| 57/57 [00:05<00:00, 11.26it/s]\n"
     ]
    },
    {
     "name": "stdout",
     "output_type": "stream",
     "text": [
      "Epoch 114/300 | Train Loss: 0.0151 | Val Loss: 0.0614 | Val MAPE: 379.95%\n"
     ]
    },
    {
     "name": "stderr",
     "output_type": "stream",
     "text": [
      "Epoch 115/300: 100%|██████████| 57/57 [00:05<00:00, 11.31it/s]\n"
     ]
    },
    {
     "name": "stdout",
     "output_type": "stream",
     "text": [
      "Epoch 115/300 | Train Loss: 0.0148 | Val Loss: 0.0659 | Val MAPE: 313.15%\n"
     ]
    },
    {
     "name": "stderr",
     "output_type": "stream",
     "text": [
      "Epoch 116/300: 100%|██████████| 57/57 [00:05<00:00, 10.28it/s]\n"
     ]
    },
    {
     "name": "stdout",
     "output_type": "stream",
     "text": [
      "Epoch 116/300 | Train Loss: 0.0146 | Val Loss: 0.0598 | Val MAPE: 377.76%\n"
     ]
    },
    {
     "name": "stderr",
     "output_type": "stream",
     "text": [
      "Epoch 117/300: 100%|██████████| 57/57 [00:05<00:00, 10.73it/s]\n"
     ]
    },
    {
     "name": "stdout",
     "output_type": "stream",
     "text": [
      "Epoch 117/300 | Train Loss: 0.0145 | Val Loss: 0.0573 | Val MAPE: 300.53%\n"
     ]
    },
    {
     "name": "stderr",
     "output_type": "stream",
     "text": [
      "Epoch 118/300: 100%|██████████| 57/57 [00:05<00:00,  9.68it/s]\n"
     ]
    },
    {
     "name": "stdout",
     "output_type": "stream",
     "text": [
      "Epoch 118/300 | Train Loss: 0.0145 | Val Loss: 0.0569 | Val MAPE: 247.98%\n"
     ]
    },
    {
     "name": "stderr",
     "output_type": "stream",
     "text": [
      "Epoch 119/300: 100%|██████████| 57/57 [00:05<00:00, 10.89it/s]\n"
     ]
    },
    {
     "name": "stdout",
     "output_type": "stream",
     "text": [
      "Epoch 119/300 | Train Loss: 0.0143 | Val Loss: 0.0584 | Val MAPE: 266.75%\n"
     ]
    },
    {
     "name": "stderr",
     "output_type": "stream",
     "text": [
      "Epoch 120/300: 100%|██████████| 57/57 [00:05<00:00,  9.99it/s]\n"
     ]
    },
    {
     "name": "stdout",
     "output_type": "stream",
     "text": [
      "Epoch 120/300 | Train Loss: 0.0143 | Val Loss: 0.0553 | Val MAPE: 380.87%\n"
     ]
    },
    {
     "name": "stderr",
     "output_type": "stream",
     "text": [
      "Epoch 121/300: 100%|██████████| 57/57 [00:05<00:00, 10.76it/s]\n"
     ]
    },
    {
     "name": "stdout",
     "output_type": "stream",
     "text": [
      "Epoch 121/300 | Train Loss: 0.0146 | Val Loss: 0.0574 | Val MAPE: 319.86%\n"
     ]
    },
    {
     "name": "stderr",
     "output_type": "stream",
     "text": [
      "Epoch 122/300: 100%|██████████| 57/57 [00:04<00:00, 11.53it/s]\n"
     ]
    },
    {
     "name": "stdout",
     "output_type": "stream",
     "text": [
      "Epoch 122/300 | Train Loss: 0.0142 | Val Loss: 0.0632 | Val MAPE: 189.64%\n"
     ]
    },
    {
     "name": "stderr",
     "output_type": "stream",
     "text": [
      "Epoch 123/300: 100%|██████████| 57/57 [00:05<00:00, 11.18it/s]\n"
     ]
    },
    {
     "name": "stdout",
     "output_type": "stream",
     "text": [
      "Epoch 123/300 | Train Loss: 0.0143 | Val Loss: 0.0603 | Val MAPE: 345.21%\n"
     ]
    },
    {
     "name": "stderr",
     "output_type": "stream",
     "text": [
      "Epoch 124/300: 100%|██████████| 57/57 [00:05<00:00, 11.12it/s]\n"
     ]
    },
    {
     "name": "stdout",
     "output_type": "stream",
     "text": [
      "Epoch 124/300 | Train Loss: 0.0136 | Val Loss: 0.0595 | Val MAPE: 268.26%\n"
     ]
    },
    {
     "name": "stderr",
     "output_type": "stream",
     "text": [
      "Epoch 125/300: 100%|██████████| 57/57 [00:05<00:00, 10.57it/s]\n"
     ]
    },
    {
     "name": "stdout",
     "output_type": "stream",
     "text": [
      "Epoch 125/300 | Train Loss: 0.0135 | Val Loss: 0.0603 | Val MAPE: 296.97%\n"
     ]
    },
    {
     "name": "stderr",
     "output_type": "stream",
     "text": [
      "Epoch 126/300: 100%|██████████| 57/57 [00:05<00:00, 10.68it/s]\n"
     ]
    },
    {
     "name": "stdout",
     "output_type": "stream",
     "text": [
      "Epoch 126/300 | Train Loss: 0.0135 | Val Loss: 0.0624 | Val MAPE: 331.62%\n"
     ]
    },
    {
     "name": "stderr",
     "output_type": "stream",
     "text": [
      "Epoch 127/300: 100%|██████████| 57/57 [00:05<00:00,  9.92it/s]\n"
     ]
    },
    {
     "name": "stdout",
     "output_type": "stream",
     "text": [
      "Epoch 127/300 | Train Loss: 0.0135 | Val Loss: 0.0589 | Val MAPE: 248.14%\n"
     ]
    },
    {
     "name": "stderr",
     "output_type": "stream",
     "text": [
      "Epoch 128/300: 100%|██████████| 57/57 [00:04<00:00, 11.50it/s]\n"
     ]
    },
    {
     "name": "stdout",
     "output_type": "stream",
     "text": [
      "Epoch 128/300 | Train Loss: 0.0134 | Val Loss: 0.0570 | Val MAPE: 302.35%\n"
     ]
    },
    {
     "name": "stderr",
     "output_type": "stream",
     "text": [
      "Epoch 129/300: 100%|██████████| 57/57 [00:05<00:00, 11.12it/s]\n"
     ]
    },
    {
     "name": "stdout",
     "output_type": "stream",
     "text": [
      "Epoch 129/300 | Train Loss: 0.0136 | Val Loss: 0.0595 | Val MAPE: 328.83%\n"
     ]
    },
    {
     "name": "stderr",
     "output_type": "stream",
     "text": [
      "Epoch 130/300: 100%|██████████| 57/57 [00:05<00:00, 10.71it/s]\n"
     ]
    },
    {
     "name": "stdout",
     "output_type": "stream",
     "text": [
      "Epoch 130/300 | Train Loss: 0.0132 | Val Loss: 0.0565 | Val MAPE: 234.89%\n"
     ]
    },
    {
     "name": "stderr",
     "output_type": "stream",
     "text": [
      "Epoch 131/300: 100%|██████████| 57/57 [00:04<00:00, 11.44it/s]\n"
     ]
    },
    {
     "name": "stdout",
     "output_type": "stream",
     "text": [
      "Epoch 131/300 | Train Loss: 0.0134 | Val Loss: 0.0626 | Val MAPE: 350.83%\n"
     ]
    },
    {
     "name": "stderr",
     "output_type": "stream",
     "text": [
      "Epoch 132/300: 100%|██████████| 57/57 [00:05<00:00, 10.62it/s]\n"
     ]
    },
    {
     "name": "stdout",
     "output_type": "stream",
     "text": [
      "Epoch 132/300 | Train Loss: 0.0133 | Val Loss: 0.0551 | Val MAPE: 198.36%\n"
     ]
    },
    {
     "name": "stderr",
     "output_type": "stream",
     "text": [
      "Epoch 133/300: 100%|██████████| 57/57 [00:05<00:00, 10.71it/s]\n"
     ]
    },
    {
     "name": "stdout",
     "output_type": "stream",
     "text": [
      "Epoch 133/300 | Train Loss: 0.0130 | Val Loss: 0.0552 | Val MAPE: 275.08%\n"
     ]
    },
    {
     "name": "stderr",
     "output_type": "stream",
     "text": [
      "Epoch 134/300: 100%|██████████| 57/57 [00:05<00:00, 10.85it/s]\n"
     ]
    },
    {
     "name": "stdout",
     "output_type": "stream",
     "text": [
      "Epoch 134/300 | Train Loss: 0.0128 | Val Loss: 0.0572 | Val MAPE: 255.10%\n"
     ]
    },
    {
     "name": "stderr",
     "output_type": "stream",
     "text": [
      "Epoch 135/300: 100%|██████████| 57/57 [00:05<00:00, 11.37it/s]\n"
     ]
    },
    {
     "name": "stdout",
     "output_type": "stream",
     "text": [
      "Epoch 135/300 | Train Loss: 0.0126 | Val Loss: 0.0582 | Val MAPE: 177.35%\n"
     ]
    },
    {
     "name": "stderr",
     "output_type": "stream",
     "text": [
      "Epoch 136/300: 100%|██████████| 57/57 [00:05<00:00, 10.88it/s]\n"
     ]
    },
    {
     "name": "stdout",
     "output_type": "stream",
     "text": [
      "Epoch 136/300 | Train Loss: 0.0130 | Val Loss: 0.0570 | Val MAPE: 171.46%\n"
     ]
    },
    {
     "name": "stderr",
     "output_type": "stream",
     "text": [
      "Epoch 137/300: 100%|██████████| 57/57 [00:05<00:00, 10.96it/s]\n"
     ]
    },
    {
     "name": "stdout",
     "output_type": "stream",
     "text": [
      "Epoch 137/300 | Train Loss: 0.0128 | Val Loss: 0.0586 | Val MAPE: 282.96%\n"
     ]
    },
    {
     "name": "stderr",
     "output_type": "stream",
     "text": [
      "Epoch 138/300: 100%|██████████| 57/57 [00:05<00:00, 10.36it/s]\n"
     ]
    },
    {
     "name": "stdout",
     "output_type": "stream",
     "text": [
      "Epoch 138/300 | Train Loss: 0.0123 | Val Loss: 0.0554 | Val MAPE: 322.29%\n"
     ]
    },
    {
     "name": "stderr",
     "output_type": "stream",
     "text": [
      "Epoch 139/300: 100%|██████████| 57/57 [00:05<00:00, 10.36it/s]\n"
     ]
    },
    {
     "name": "stdout",
     "output_type": "stream",
     "text": [
      "Epoch 139/300 | Train Loss: 0.0122 | Val Loss: 0.0578 | Val MAPE: 262.50%\n"
     ]
    },
    {
     "name": "stderr",
     "output_type": "stream",
     "text": [
      "Epoch 140/300: 100%|██████████| 57/57 [00:05<00:00, 10.77it/s]\n"
     ]
    },
    {
     "name": "stdout",
     "output_type": "stream",
     "text": [
      "Epoch 140/300 | Train Loss: 0.0123 | Val Loss: 0.0582 | Val MAPE: 262.80%\n"
     ]
    },
    {
     "name": "stderr",
     "output_type": "stream",
     "text": [
      "Epoch 141/300: 100%|██████████| 57/57 [00:05<00:00, 10.73it/s]\n"
     ]
    },
    {
     "name": "stdout",
     "output_type": "stream",
     "text": [
      "Epoch 141/300 | Train Loss: 0.0125 | Val Loss: 0.0554 | Val MAPE: 298.52%\n"
     ]
    },
    {
     "name": "stderr",
     "output_type": "stream",
     "text": [
      "Epoch 142/300: 100%|██████████| 57/57 [00:05<00:00, 10.63it/s]\n"
     ]
    },
    {
     "name": "stdout",
     "output_type": "stream",
     "text": [
      "Epoch 142/300 | Train Loss: 0.0122 | Val Loss: 0.0579 | Val MAPE: 207.65%\n"
     ]
    },
    {
     "name": "stderr",
     "output_type": "stream",
     "text": [
      "Epoch 143/300: 100%|██████████| 57/57 [00:05<00:00, 11.04it/s]\n"
     ]
    },
    {
     "name": "stdout",
     "output_type": "stream",
     "text": [
      "Epoch 143/300 | Train Loss: 0.0119 | Val Loss: 0.0607 | Val MAPE: 278.23%\n"
     ]
    },
    {
     "name": "stderr",
     "output_type": "stream",
     "text": [
      "Epoch 144/300: 100%|██████████| 57/57 [00:05<00:00, 10.23it/s]\n"
     ]
    },
    {
     "name": "stdout",
     "output_type": "stream",
     "text": [
      "Epoch 144/300 | Train Loss: 0.0120 | Val Loss: 0.0560 | Val MAPE: 295.81%\n"
     ]
    },
    {
     "name": "stderr",
     "output_type": "stream",
     "text": [
      "Epoch 145/300: 100%|██████████| 57/57 [00:05<00:00, 10.35it/s]\n"
     ]
    },
    {
     "name": "stdout",
     "output_type": "stream",
     "text": [
      "Epoch 145/300 | Train Loss: 0.0120 | Val Loss: 0.0569 | Val MAPE: 310.97%\n"
     ]
    },
    {
     "name": "stderr",
     "output_type": "stream",
     "text": [
      "Epoch 146/300: 100%|██████████| 57/57 [00:05<00:00, 11.00it/s]\n"
     ]
    },
    {
     "name": "stdout",
     "output_type": "stream",
     "text": [
      "Epoch 146/300 | Train Loss: 0.0117 | Val Loss: 0.0578 | Val MAPE: 299.75%\n"
     ]
    },
    {
     "name": "stderr",
     "output_type": "stream",
     "text": [
      "Epoch 147/300: 100%|██████████| 57/57 [00:05<00:00, 10.68it/s]\n"
     ]
    },
    {
     "name": "stdout",
     "output_type": "stream",
     "text": [
      "Epoch 147/300 | Train Loss: 0.0117 | Val Loss: 0.0548 | Val MAPE: 266.16%\n"
     ]
    },
    {
     "name": "stderr",
     "output_type": "stream",
     "text": [
      "Epoch 148/300: 100%|██████████| 57/57 [00:05<00:00, 10.36it/s]\n"
     ]
    },
    {
     "name": "stdout",
     "output_type": "stream",
     "text": [
      "Epoch 148/300 | Train Loss: 0.0117 | Val Loss: 0.0578 | Val MAPE: 181.47%\n"
     ]
    },
    {
     "name": "stderr",
     "output_type": "stream",
     "text": [
      "Epoch 149/300: 100%|██████████| 57/57 [00:05<00:00, 10.18it/s]\n"
     ]
    },
    {
     "name": "stdout",
     "output_type": "stream",
     "text": [
      "Epoch 149/300 | Train Loss: 0.0117 | Val Loss: 0.0592 | Val MAPE: 266.20%\n"
     ]
    },
    {
     "name": "stderr",
     "output_type": "stream",
     "text": [
      "Epoch 150/300: 100%|██████████| 57/57 [00:04<00:00, 11.43it/s]\n"
     ]
    },
    {
     "name": "stdout",
     "output_type": "stream",
     "text": [
      "Epoch 150/300 | Train Loss: 0.0113 | Val Loss: 0.0574 | Val MAPE: 124.61%\n"
     ]
    },
    {
     "name": "stderr",
     "output_type": "stream",
     "text": [
      "Epoch 151/300: 100%|██████████| 57/57 [00:05<00:00, 10.74it/s]\n"
     ]
    },
    {
     "name": "stdout",
     "output_type": "stream",
     "text": [
      "Epoch 151/300 | Train Loss: 0.0114 | Val Loss: 0.0545 | Val MAPE: 194.94%\n"
     ]
    },
    {
     "name": "stderr",
     "output_type": "stream",
     "text": [
      "Epoch 152/300: 100%|██████████| 57/57 [00:05<00:00, 10.48it/s]\n"
     ]
    },
    {
     "name": "stdout",
     "output_type": "stream",
     "text": [
      "Epoch 152/300 | Train Loss: 0.0112 | Val Loss: 0.0530 | Val MAPE: 185.24%\n"
     ]
    },
    {
     "name": "stderr",
     "output_type": "stream",
     "text": [
      "Epoch 153/300: 100%|██████████| 57/57 [00:05<00:00, 10.29it/s]\n"
     ]
    },
    {
     "name": "stdout",
     "output_type": "stream",
     "text": [
      "Epoch 153/300 | Train Loss: 0.0114 | Val Loss: 0.0558 | Val MAPE: 109.99%\n"
     ]
    },
    {
     "name": "stderr",
     "output_type": "stream",
     "text": [
      "Epoch 154/300: 100%|██████████| 57/57 [00:05<00:00, 10.84it/s]\n"
     ]
    },
    {
     "name": "stdout",
     "output_type": "stream",
     "text": [
      "Epoch 154/300 | Train Loss: 0.0111 | Val Loss: 0.0538 | Val MAPE: 213.95%\n"
     ]
    },
    {
     "name": "stderr",
     "output_type": "stream",
     "text": [
      "Epoch 155/300: 100%|██████████| 57/57 [00:05<00:00, 10.41it/s]\n"
     ]
    },
    {
     "name": "stdout",
     "output_type": "stream",
     "text": [
      "Epoch 155/300 | Train Loss: 0.0113 | Val Loss: 0.0545 | Val MAPE: 151.18%\n"
     ]
    },
    {
     "name": "stderr",
     "output_type": "stream",
     "text": [
      "Epoch 156/300: 100%|██████████| 57/57 [00:05<00:00, 10.31it/s]\n"
     ]
    },
    {
     "name": "stdout",
     "output_type": "stream",
     "text": [
      "Epoch 156/300 | Train Loss: 0.0109 | Val Loss: 0.0530 | Val MAPE: 216.56%\n"
     ]
    },
    {
     "name": "stderr",
     "output_type": "stream",
     "text": [
      "Epoch 157/300: 100%|██████████| 57/57 [00:05<00:00, 10.84it/s]\n"
     ]
    },
    {
     "name": "stdout",
     "output_type": "stream",
     "text": [
      "Epoch 157/300 | Train Loss: 0.0111 | Val Loss: 0.0569 | Val MAPE: 195.80%\n"
     ]
    },
    {
     "name": "stderr",
     "output_type": "stream",
     "text": [
      "Epoch 158/300: 100%|██████████| 57/57 [00:05<00:00, 10.73it/s]\n"
     ]
    },
    {
     "name": "stdout",
     "output_type": "stream",
     "text": [
      "Epoch 158/300 | Train Loss: 0.0108 | Val Loss: 0.0555 | Val MAPE: 251.02%\n"
     ]
    },
    {
     "name": "stderr",
     "output_type": "stream",
     "text": [
      "Epoch 159/300: 100%|██████████| 57/57 [00:05<00:00, 10.90it/s]\n"
     ]
    },
    {
     "name": "stdout",
     "output_type": "stream",
     "text": [
      "Epoch 159/300 | Train Loss: 0.0107 | Val Loss: 0.0584 | Val MAPE: 256.40%\n"
     ]
    },
    {
     "name": "stderr",
     "output_type": "stream",
     "text": [
      "Epoch 160/300: 100%|██████████| 57/57 [00:05<00:00, 10.29it/s]\n"
     ]
    },
    {
     "name": "stdout",
     "output_type": "stream",
     "text": [
      "Epoch 160/300 | Train Loss: 0.0106 | Val Loss: 0.0584 | Val MAPE: 260.80%\n"
     ]
    },
    {
     "name": "stderr",
     "output_type": "stream",
     "text": [
      "Epoch 161/300: 100%|██████████| 57/57 [00:05<00:00, 10.72it/s]\n"
     ]
    },
    {
     "name": "stdout",
     "output_type": "stream",
     "text": [
      "Epoch 161/300 | Train Loss: 0.0106 | Val Loss: 0.0560 | Val MAPE: 225.36%\n"
     ]
    },
    {
     "name": "stderr",
     "output_type": "stream",
     "text": [
      "Epoch 162/300: 100%|██████████| 57/57 [00:05<00:00, 10.71it/s]\n"
     ]
    },
    {
     "name": "stdout",
     "output_type": "stream",
     "text": [
      "Epoch 162/300 | Train Loss: 0.0107 | Val Loss: 0.0553 | Val MAPE: 258.62%\n"
     ]
    },
    {
     "name": "stderr",
     "output_type": "stream",
     "text": [
      "Epoch 163/300: 100%|██████████| 57/57 [00:05<00:00, 11.03it/s]\n"
     ]
    },
    {
     "name": "stdout",
     "output_type": "stream",
     "text": [
      "Epoch 163/300 | Train Loss: 0.0107 | Val Loss: 0.0567 | Val MAPE: 248.58%\n"
     ]
    },
    {
     "name": "stderr",
     "output_type": "stream",
     "text": [
      "Epoch 164/300: 100%|██████████| 57/57 [00:05<00:00, 10.70it/s]\n"
     ]
    },
    {
     "name": "stdout",
     "output_type": "stream",
     "text": [
      "Epoch 164/300 | Train Loss: 0.0103 | Val Loss: 0.0562 | Val MAPE: 170.37%\n"
     ]
    },
    {
     "name": "stderr",
     "output_type": "stream",
     "text": [
      "Epoch 165/300: 100%|██████████| 57/57 [00:05<00:00, 10.83it/s]\n"
     ]
    },
    {
     "name": "stdout",
     "output_type": "stream",
     "text": [
      "Epoch 165/300 | Train Loss: 0.0109 | Val Loss: 0.0538 | Val MAPE: 164.67%\n"
     ]
    },
    {
     "name": "stderr",
     "output_type": "stream",
     "text": [
      "Epoch 166/300: 100%|██████████| 57/57 [00:05<00:00, 10.91it/s]\n"
     ]
    },
    {
     "name": "stdout",
     "output_type": "stream",
     "text": [
      "Epoch 166/300 | Train Loss: 0.0111 | Val Loss: 0.0536 | Val MAPE: 208.18%\n"
     ]
    },
    {
     "name": "stderr",
     "output_type": "stream",
     "text": [
      "Epoch 167/300: 100%|██████████| 57/57 [00:05<00:00, 11.03it/s]\n"
     ]
    },
    {
     "name": "stdout",
     "output_type": "stream",
     "text": [
      "Epoch 167/300 | Train Loss: 0.0105 | Val Loss: 0.0548 | Val MAPE: 238.10%\n"
     ]
    },
    {
     "name": "stderr",
     "output_type": "stream",
     "text": [
      "Epoch 168/300: 100%|██████████| 57/57 [00:05<00:00, 10.88it/s]\n"
     ]
    },
    {
     "name": "stdout",
     "output_type": "stream",
     "text": [
      "Epoch 168/300 | Train Loss: 0.0102 | Val Loss: 0.0566 | Val MAPE: 226.14%\n"
     ]
    },
    {
     "name": "stderr",
     "output_type": "stream",
     "text": [
      "Epoch 169/300: 100%|██████████| 57/57 [00:05<00:00, 11.26it/s]\n"
     ]
    },
    {
     "name": "stdout",
     "output_type": "stream",
     "text": [
      "Epoch 169/300 | Train Loss: 0.0101 | Val Loss: 0.0575 | Val MAPE: 269.31%\n"
     ]
    },
    {
     "name": "stderr",
     "output_type": "stream",
     "text": [
      "Epoch 170/300: 100%|██████████| 57/57 [00:05<00:00, 10.68it/s]\n"
     ]
    },
    {
     "name": "stdout",
     "output_type": "stream",
     "text": [
      "Epoch 170/300 | Train Loss: 0.0101 | Val Loss: 0.0536 | Val MAPE: 271.11%\n"
     ]
    },
    {
     "name": "stderr",
     "output_type": "stream",
     "text": [
      "Epoch 171/300: 100%|██████████| 57/57 [00:05<00:00, 10.93it/s]\n"
     ]
    },
    {
     "name": "stdout",
     "output_type": "stream",
     "text": [
      "Epoch 171/300 | Train Loss: 0.0100 | Val Loss: 0.0532 | Val MAPE: 268.52%\n"
     ]
    },
    {
     "name": "stderr",
     "output_type": "stream",
     "text": [
      "Epoch 172/300: 100%|██████████| 57/57 [00:05<00:00, 10.56it/s]\n"
     ]
    },
    {
     "name": "stdout",
     "output_type": "stream",
     "text": [
      "Epoch 172/300 | Train Loss: 0.0100 | Val Loss: 0.0567 | Val MAPE: 259.28%\n"
     ]
    },
    {
     "name": "stderr",
     "output_type": "stream",
     "text": [
      "Epoch 173/300: 100%|██████████| 57/57 [00:05<00:00, 10.88it/s]\n"
     ]
    },
    {
     "name": "stdout",
     "output_type": "stream",
     "text": [
      "Epoch 173/300 | Train Loss: 0.0103 | Val Loss: 0.0527 | Val MAPE: 239.22%\n"
     ]
    },
    {
     "name": "stderr",
     "output_type": "stream",
     "text": [
      "Epoch 174/300: 100%|██████████| 57/57 [00:05<00:00, 10.50it/s]\n"
     ]
    },
    {
     "name": "stdout",
     "output_type": "stream",
     "text": [
      "Epoch 174/300 | Train Loss: 0.0100 | Val Loss: 0.0555 | Val MAPE: 225.77%\n"
     ]
    },
    {
     "name": "stderr",
     "output_type": "stream",
     "text": [
      "Epoch 175/300: 100%|██████████| 57/57 [00:05<00:00, 10.90it/s]\n"
     ]
    },
    {
     "name": "stdout",
     "output_type": "stream",
     "text": [
      "Epoch 175/300 | Train Loss: 0.0102 | Val Loss: 0.0569 | Val MAPE: 241.27%\n"
     ]
    },
    {
     "name": "stderr",
     "output_type": "stream",
     "text": [
      "Epoch 176/300: 100%|██████████| 57/57 [00:05<00:00, 10.94it/s]\n"
     ]
    },
    {
     "name": "stdout",
     "output_type": "stream",
     "text": [
      "Epoch 176/300 | Train Loss: 0.0098 | Val Loss: 0.0552 | Val MAPE: 204.74%\n"
     ]
    },
    {
     "name": "stderr",
     "output_type": "stream",
     "text": [
      "Epoch 177/300: 100%|██████████| 57/57 [00:05<00:00, 10.18it/s]\n"
     ]
    },
    {
     "name": "stdout",
     "output_type": "stream",
     "text": [
      "Epoch 177/300 | Train Loss: 0.0100 | Val Loss: 0.0556 | Val MAPE: 328.08%\n"
     ]
    },
    {
     "name": "stderr",
     "output_type": "stream",
     "text": [
      "Epoch 178/300: 100%|██████████| 57/57 [00:05<00:00, 11.07it/s]\n"
     ]
    },
    {
     "name": "stdout",
     "output_type": "stream",
     "text": [
      "Epoch 178/300 | Train Loss: 0.0097 | Val Loss: 0.0548 | Val MAPE: 265.73%\n"
     ]
    },
    {
     "name": "stderr",
     "output_type": "stream",
     "text": [
      "Epoch 179/300: 100%|██████████| 57/57 [00:05<00:00, 11.11it/s]\n"
     ]
    },
    {
     "name": "stdout",
     "output_type": "stream",
     "text": [
      "Epoch 179/300 | Train Loss: 0.0096 | Val Loss: 0.0555 | Val MAPE: 231.41%\n"
     ]
    },
    {
     "name": "stderr",
     "output_type": "stream",
     "text": [
      "Epoch 180/300: 100%|██████████| 57/57 [00:05<00:00,  9.58it/s]\n"
     ]
    },
    {
     "name": "stdout",
     "output_type": "stream",
     "text": [
      "Epoch 180/300 | Train Loss: 0.0100 | Val Loss: 0.0553 | Val MAPE: 252.85%\n"
     ]
    },
    {
     "name": "stderr",
     "output_type": "stream",
     "text": [
      "Epoch 181/300: 100%|██████████| 57/57 [00:05<00:00, 10.53it/s]\n"
     ]
    },
    {
     "name": "stdout",
     "output_type": "stream",
     "text": [
      "Epoch 181/300 | Train Loss: 0.0095 | Val Loss: 0.0531 | Val MAPE: 337.74%\n"
     ]
    },
    {
     "name": "stderr",
     "output_type": "stream",
     "text": [
      "Epoch 182/300: 100%|██████████| 57/57 [00:05<00:00, 10.10it/s]\n"
     ]
    },
    {
     "name": "stdout",
     "output_type": "stream",
     "text": [
      "Epoch 182/300 | Train Loss: 0.0096 | Val Loss: 0.0555 | Val MAPE: 273.79%\n"
     ]
    },
    {
     "name": "stderr",
     "output_type": "stream",
     "text": [
      "Epoch 183/300: 100%|██████████| 57/57 [00:05<00:00, 11.21it/s]\n"
     ]
    },
    {
     "name": "stdout",
     "output_type": "stream",
     "text": [
      "Epoch 183/300 | Train Loss: 0.0094 | Val Loss: 0.0545 | Val MAPE: 237.18%\n"
     ]
    },
    {
     "name": "stderr",
     "output_type": "stream",
     "text": [
      "Epoch 184/300: 100%|██████████| 57/57 [00:05<00:00, 10.68it/s]\n"
     ]
    },
    {
     "name": "stdout",
     "output_type": "stream",
     "text": [
      "Epoch 184/300 | Train Loss: 0.0097 | Val Loss: 0.0531 | Val MAPE: 243.73%\n"
     ]
    },
    {
     "name": "stderr",
     "output_type": "stream",
     "text": [
      "Epoch 185/300: 100%|██████████| 57/57 [00:05<00:00, 10.93it/s]\n"
     ]
    },
    {
     "name": "stdout",
     "output_type": "stream",
     "text": [
      "Epoch 185/300 | Train Loss: 0.0098 | Val Loss: 0.0549 | Val MAPE: 253.56%\n"
     ]
    },
    {
     "name": "stderr",
     "output_type": "stream",
     "text": [
      "Epoch 186/300: 100%|██████████| 57/57 [00:05<00:00, 10.34it/s]\n"
     ]
    },
    {
     "name": "stdout",
     "output_type": "stream",
     "text": [
      "Epoch 186/300 | Train Loss: 0.0095 | Val Loss: 0.0546 | Val MAPE: 168.48%\n"
     ]
    },
    {
     "name": "stderr",
     "output_type": "stream",
     "text": [
      "Epoch 187/300: 100%|██████████| 57/57 [00:05<00:00, 10.39it/s]\n"
     ]
    },
    {
     "name": "stdout",
     "output_type": "stream",
     "text": [
      "Epoch 187/300 | Train Loss: 0.0094 | Val Loss: 0.0522 | Val MAPE: 240.51%\n"
     ]
    },
    {
     "name": "stderr",
     "output_type": "stream",
     "text": [
      "Epoch 188/300: 100%|██████████| 57/57 [00:05<00:00,  9.74it/s]\n"
     ]
    },
    {
     "name": "stdout",
     "output_type": "stream",
     "text": [
      "Epoch 188/300 | Train Loss: 0.0092 | Val Loss: 0.0538 | Val MAPE: 243.67%\n"
     ]
    },
    {
     "name": "stderr",
     "output_type": "stream",
     "text": [
      "Epoch 189/300: 100%|██████████| 57/57 [00:05<00:00, 10.99it/s]\n"
     ]
    },
    {
     "name": "stdout",
     "output_type": "stream",
     "text": [
      "Epoch 189/300 | Train Loss: 0.0090 | Val Loss: 0.0537 | Val MAPE: 218.22%\n"
     ]
    },
    {
     "name": "stderr",
     "output_type": "stream",
     "text": [
      "Epoch 190/300: 100%|██████████| 57/57 [00:05<00:00,  9.63it/s]\n"
     ]
    },
    {
     "name": "stdout",
     "output_type": "stream",
     "text": [
      "Epoch 190/300 | Train Loss: 0.0092 | Val Loss: 0.0522 | Val MAPE: 242.04%\n"
     ]
    },
    {
     "name": "stderr",
     "output_type": "stream",
     "text": [
      "Epoch 191/300: 100%|██████████| 57/57 [00:05<00:00, 10.30it/s]\n"
     ]
    },
    {
     "name": "stdout",
     "output_type": "stream",
     "text": [
      "Epoch 191/300 | Train Loss: 0.0091 | Val Loss: 0.0520 | Val MAPE: 245.34%\n"
     ]
    },
    {
     "name": "stderr",
     "output_type": "stream",
     "text": [
      "Epoch 192/300: 100%|██████████| 57/57 [00:05<00:00,  9.77it/s]\n"
     ]
    },
    {
     "name": "stdout",
     "output_type": "stream",
     "text": [
      "Epoch 192/300 | Train Loss: 0.0091 | Val Loss: 0.0544 | Val MAPE: 221.29%\n"
     ]
    },
    {
     "name": "stderr",
     "output_type": "stream",
     "text": [
      "Epoch 193/300: 100%|██████████| 57/57 [00:06<00:00,  8.82it/s]\n"
     ]
    },
    {
     "name": "stdout",
     "output_type": "stream",
     "text": [
      "Epoch 193/300 | Train Loss: 0.0092 | Val Loss: 0.0516 | Val MAPE: 173.59%\n"
     ]
    },
    {
     "name": "stderr",
     "output_type": "stream",
     "text": [
      "Epoch 194/300: 100%|██████████| 57/57 [00:07<00:00,  7.48it/s]\n"
     ]
    },
    {
     "name": "stdout",
     "output_type": "stream",
     "text": [
      "Epoch 194/300 | Train Loss: 0.0092 | Val Loss: 0.0567 | Val MAPE: 269.35%\n"
     ]
    },
    {
     "name": "stderr",
     "output_type": "stream",
     "text": [
      "Epoch 195/300: 100%|██████████| 57/57 [00:08<00:00,  6.66it/s]\n"
     ]
    },
    {
     "name": "stdout",
     "output_type": "stream",
     "text": [
      "Epoch 195/300 | Train Loss: 0.0091 | Val Loss: 0.0517 | Val MAPE: 286.43%\n"
     ]
    },
    {
     "name": "stderr",
     "output_type": "stream",
     "text": [
      "Epoch 196/300: 100%|██████████| 57/57 [00:08<00:00,  6.62it/s]\n"
     ]
    },
    {
     "name": "stdout",
     "output_type": "stream",
     "text": [
      "Epoch 196/300 | Train Loss: 0.0087 | Val Loss: 0.0537 | Val MAPE: 194.84%\n"
     ]
    },
    {
     "name": "stderr",
     "output_type": "stream",
     "text": [
      "Epoch 197/300: 100%|██████████| 57/57 [00:09<00:00,  6.19it/s]\n"
     ]
    },
    {
     "name": "stdout",
     "output_type": "stream",
     "text": [
      "Epoch 197/300 | Train Loss: 0.0088 | Val Loss: 0.0583 | Val MAPE: 328.38%\n"
     ]
    },
    {
     "name": "stderr",
     "output_type": "stream",
     "text": [
      "Epoch 198/300: 100%|██████████| 57/57 [00:09<00:00,  6.02it/s]\n"
     ]
    },
    {
     "name": "stdout",
     "output_type": "stream",
     "text": [
      "Epoch 198/300 | Train Loss: 0.0089 | Val Loss: 0.0556 | Val MAPE: 245.91%\n"
     ]
    },
    {
     "name": "stderr",
     "output_type": "stream",
     "text": [
      "Epoch 199/300: 100%|██████████| 57/57 [00:09<00:00,  5.95it/s]\n"
     ]
    },
    {
     "name": "stdout",
     "output_type": "stream",
     "text": [
      "Epoch 199/300 | Train Loss: 0.0086 | Val Loss: 0.0538 | Val MAPE: 237.95%\n"
     ]
    },
    {
     "name": "stderr",
     "output_type": "stream",
     "text": [
      "Epoch 200/300:  95%|█████████▍| 54/57 [00:08<00:00,  6.15it/s]\n"
     ]
    },
    {
     "ename": "KeyboardInterrupt",
     "evalue": "",
     "output_type": "error",
     "traceback": [
      "\u001b[1;31m---------------------------------------------------------------------------\u001b[0m",
      "\u001b[1;31mKeyboardInterrupt\u001b[0m                         Traceback (most recent call last)",
      "Cell \u001b[1;32mIn[2], line 185\u001b[0m\n\u001b[0;32m    183\u001b[0m config \u001b[38;5;241m=\u001b[39m Config()\n\u001b[0;32m    184\u001b[0m trainer \u001b[38;5;241m=\u001b[39m Trainer(config)\n\u001b[1;32m--> 185\u001b[0m \u001b[43mtrainer\u001b[49m\u001b[38;5;241;43m.\u001b[39;49m\u001b[43mtrain\u001b[49m\u001b[43m(\u001b[49m\u001b[43m)\u001b[49m\n\u001b[0;32m    186\u001b[0m trainer\u001b[38;5;241m.\u001b[39mpredict()\n",
      "Cell \u001b[1;32mIn[2], line 157\u001b[0m, in \u001b[0;36mTrainer.train\u001b[1;34m(self)\u001b[0m\n\u001b[0;32m    155\u001b[0m \u001b[38;5;28;01mdef\u001b[39;00m\u001b[38;5;250m \u001b[39m\u001b[38;5;21mtrain\u001b[39m(\u001b[38;5;28mself\u001b[39m):\n\u001b[0;32m    156\u001b[0m     \u001b[38;5;28;01mfor\u001b[39;00m epoch \u001b[38;5;129;01min\u001b[39;00m \u001b[38;5;28mrange\u001b[39m(\u001b[38;5;28mself\u001b[39m\u001b[38;5;241m.\u001b[39mconfig\u001b[38;5;241m.\u001b[39mEPOCHS):\n\u001b[1;32m--> 157\u001b[0m         train_loss \u001b[38;5;241m=\u001b[39m \u001b[38;5;28;43mself\u001b[39;49m\u001b[38;5;241;43m.\u001b[39;49m\u001b[43mtrain_epoch\u001b[49m\u001b[43m(\u001b[49m\u001b[43mepoch\u001b[49m\u001b[43m)\u001b[49m\n\u001b[0;32m    158\u001b[0m         val_loss, val_mape \u001b[38;5;241m=\u001b[39m \u001b[38;5;28mself\u001b[39m\u001b[38;5;241m.\u001b[39mvalidate()\n\u001b[0;32m    159\u001b[0m         \u001b[38;5;28mprint\u001b[39m(\u001b[38;5;124mf\u001b[39m\u001b[38;5;124m\"\u001b[39m\u001b[38;5;124mEpoch \u001b[39m\u001b[38;5;132;01m{\u001b[39;00mepoch\u001b[38;5;241m+\u001b[39m\u001b[38;5;241m1\u001b[39m\u001b[38;5;132;01m}\u001b[39;00m\u001b[38;5;124m/\u001b[39m\u001b[38;5;132;01m{\u001b[39;00m\u001b[38;5;28mself\u001b[39m\u001b[38;5;241m.\u001b[39mconfig\u001b[38;5;241m.\u001b[39mEPOCHS\u001b[38;5;132;01m}\u001b[39;00m\u001b[38;5;124m | Train Loss: \u001b[39m\u001b[38;5;132;01m{\u001b[39;00mtrain_loss\u001b[38;5;132;01m:\u001b[39;00m\u001b[38;5;124m.4f\u001b[39m\u001b[38;5;132;01m}\u001b[39;00m\u001b[38;5;124m | Val Loss: \u001b[39m\u001b[38;5;132;01m{\u001b[39;00mval_loss\u001b[38;5;132;01m:\u001b[39;00m\u001b[38;5;124m.4f\u001b[39m\u001b[38;5;132;01m}\u001b[39;00m\u001b[38;5;124m | Val MAPE: \u001b[39m\u001b[38;5;132;01m{\u001b[39;00mval_mape\u001b[38;5;132;01m:\u001b[39;00m\u001b[38;5;124m.2f\u001b[39m\u001b[38;5;132;01m}\u001b[39;00m\u001b[38;5;124m%\u001b[39m\u001b[38;5;124m\"\u001b[39m)\n",
      "Cell \u001b[1;32mIn[2], line 125\u001b[0m, in \u001b[0;36mTrainer.train_epoch\u001b[1;34m(self, epoch)\u001b[0m\n\u001b[0;32m    122\u001b[0m loss \u001b[38;5;241m=\u001b[39m \u001b[38;5;28mself\u001b[39m\u001b[38;5;241m.\u001b[39mcriterion_mse(preds_median, y)\n\u001b[0;32m    124\u001b[0m \u001b[38;5;28mself\u001b[39m\u001b[38;5;241m.\u001b[39moptimizer\u001b[38;5;241m.\u001b[39mzero_grad()\n\u001b[1;32m--> 125\u001b[0m \u001b[43mloss\u001b[49m\u001b[38;5;241;43m.\u001b[39;49m\u001b[43mbackward\u001b[49m\u001b[43m(\u001b[49m\u001b[43m)\u001b[49m\n\u001b[0;32m    126\u001b[0m \u001b[38;5;28mself\u001b[39m\u001b[38;5;241m.\u001b[39moptimizer\u001b[38;5;241m.\u001b[39mstep()\n\u001b[0;32m    127\u001b[0m total_loss \u001b[38;5;241m+\u001b[39m\u001b[38;5;241m=\u001b[39m loss\u001b[38;5;241m.\u001b[39mitem()\n",
      "File \u001b[1;32mc:\\D Drive\\ron\\TabM\\.venv\\lib\\site-packages\\torch\\_tensor.py:648\u001b[0m, in \u001b[0;36mTensor.backward\u001b[1;34m(self, gradient, retain_graph, create_graph, inputs)\u001b[0m\n\u001b[0;32m    638\u001b[0m \u001b[38;5;28;01mif\u001b[39;00m has_torch_function_unary(\u001b[38;5;28mself\u001b[39m):\n\u001b[0;32m    639\u001b[0m     \u001b[38;5;28;01mreturn\u001b[39;00m handle_torch_function(\n\u001b[0;32m    640\u001b[0m         Tensor\u001b[38;5;241m.\u001b[39mbackward,\n\u001b[0;32m    641\u001b[0m         (\u001b[38;5;28mself\u001b[39m,),\n\u001b[1;32m   (...)\u001b[0m\n\u001b[0;32m    646\u001b[0m         inputs\u001b[38;5;241m=\u001b[39minputs,\n\u001b[0;32m    647\u001b[0m     )\n\u001b[1;32m--> 648\u001b[0m \u001b[43mtorch\u001b[49m\u001b[38;5;241;43m.\u001b[39;49m\u001b[43mautograd\u001b[49m\u001b[38;5;241;43m.\u001b[39;49m\u001b[43mbackward\u001b[49m\u001b[43m(\u001b[49m\n\u001b[0;32m    649\u001b[0m \u001b[43m    \u001b[49m\u001b[38;5;28;43mself\u001b[39;49m\u001b[43m,\u001b[49m\u001b[43m \u001b[49m\u001b[43mgradient\u001b[49m\u001b[43m,\u001b[49m\u001b[43m \u001b[49m\u001b[43mretain_graph\u001b[49m\u001b[43m,\u001b[49m\u001b[43m \u001b[49m\u001b[43mcreate_graph\u001b[49m\u001b[43m,\u001b[49m\u001b[43m \u001b[49m\u001b[43minputs\u001b[49m\u001b[38;5;241;43m=\u001b[39;49m\u001b[43minputs\u001b[49m\n\u001b[0;32m    650\u001b[0m \u001b[43m\u001b[49m\u001b[43m)\u001b[49m\n",
      "File \u001b[1;32mc:\\D Drive\\ron\\TabM\\.venv\\lib\\site-packages\\torch\\autograd\\__init__.py:353\u001b[0m, in \u001b[0;36mbackward\u001b[1;34m(tensors, grad_tensors, retain_graph, create_graph, grad_variables, inputs)\u001b[0m\n\u001b[0;32m    348\u001b[0m     retain_graph \u001b[38;5;241m=\u001b[39m create_graph\n\u001b[0;32m    350\u001b[0m \u001b[38;5;66;03m# The reason we repeat the same comment below is that\u001b[39;00m\n\u001b[0;32m    351\u001b[0m \u001b[38;5;66;03m# some Python versions print out the first line of a multi-line function\u001b[39;00m\n\u001b[0;32m    352\u001b[0m \u001b[38;5;66;03m# calls in the traceback and some print out the last line\u001b[39;00m\n\u001b[1;32m--> 353\u001b[0m \u001b[43m_engine_run_backward\u001b[49m\u001b[43m(\u001b[49m\n\u001b[0;32m    354\u001b[0m \u001b[43m    \u001b[49m\u001b[43mtensors\u001b[49m\u001b[43m,\u001b[49m\n\u001b[0;32m    355\u001b[0m \u001b[43m    \u001b[49m\u001b[43mgrad_tensors_\u001b[49m\u001b[43m,\u001b[49m\n\u001b[0;32m    356\u001b[0m \u001b[43m    \u001b[49m\u001b[43mretain_graph\u001b[49m\u001b[43m,\u001b[49m\n\u001b[0;32m    357\u001b[0m \u001b[43m    \u001b[49m\u001b[43mcreate_graph\u001b[49m\u001b[43m,\u001b[49m\n\u001b[0;32m    358\u001b[0m \u001b[43m    \u001b[49m\u001b[43minputs\u001b[49m\u001b[43m,\u001b[49m\n\u001b[0;32m    359\u001b[0m \u001b[43m    \u001b[49m\u001b[43mallow_unreachable\u001b[49m\u001b[38;5;241;43m=\u001b[39;49m\u001b[38;5;28;43;01mTrue\u001b[39;49;00m\u001b[43m,\u001b[49m\n\u001b[0;32m    360\u001b[0m \u001b[43m    \u001b[49m\u001b[43maccumulate_grad\u001b[49m\u001b[38;5;241;43m=\u001b[39;49m\u001b[38;5;28;43;01mTrue\u001b[39;49;00m\u001b[43m,\u001b[49m\n\u001b[0;32m    361\u001b[0m \u001b[43m\u001b[49m\u001b[43m)\u001b[49m\n",
      "File \u001b[1;32mc:\\D Drive\\ron\\TabM\\.venv\\lib\\site-packages\\torch\\autograd\\graph.py:824\u001b[0m, in \u001b[0;36m_engine_run_backward\u001b[1;34m(t_outputs, *args, **kwargs)\u001b[0m\n\u001b[0;32m    822\u001b[0m     unregister_hooks \u001b[38;5;241m=\u001b[39m _register_logging_hooks_on_whole_graph(t_outputs)\n\u001b[0;32m    823\u001b[0m \u001b[38;5;28;01mtry\u001b[39;00m:\n\u001b[1;32m--> 824\u001b[0m     \u001b[38;5;28;01mreturn\u001b[39;00m Variable\u001b[38;5;241m.\u001b[39m_execution_engine\u001b[38;5;241m.\u001b[39mrun_backward(  \u001b[38;5;66;03m# Calls into the C++ engine to run the backward pass\u001b[39;00m\n\u001b[0;32m    825\u001b[0m         t_outputs, \u001b[38;5;241m*\u001b[39margs, \u001b[38;5;241m*\u001b[39m\u001b[38;5;241m*\u001b[39mkwargs\n\u001b[0;32m    826\u001b[0m     )  \u001b[38;5;66;03m# Calls into the C++ engine to run the backward pass\u001b[39;00m\n\u001b[0;32m    827\u001b[0m \u001b[38;5;28;01mfinally\u001b[39;00m:\n\u001b[0;32m    828\u001b[0m     \u001b[38;5;28;01mif\u001b[39;00m attach_logging_hooks:\n",
      "\u001b[1;31mKeyboardInterrupt\u001b[0m: "
     ]
    }
   ],
   "source": [
    "import pandas as pd\n",
    "import numpy as np\n",
    "from sklearn.model_selection import train_test_split\n",
    "from sklearn.preprocessing import RobustScaler\n",
    "from sklearn.metrics import mean_absolute_percentage_error\n",
    "import torch\n",
    "from torch import nn\n",
    "from torch.utils.data import Dataset, DataLoader\n",
    "from tqdm import tqdm\n",
    "from tabm import TabM  # Ensure TabM is installed and imported\n",
    "\n",
    "# ------------------------------ Config ------------------------------\n",
    "\n",
    "class Config:\n",
    "    TRAIN_PATH = 'train.csv'\n",
    "    TEST_PATH = 'test.csv'\n",
    "    TARGET_COLS = [f'BlendProperty{i}' for i in range(1, 11)]\n",
    "    TEST_SIZE = 0.1\n",
    "    BATCH_SIZE = 32\n",
    "    LR = 1e-4\n",
    "    EPOCHS = 300\n",
    "    DEVICE = 'cuda' if torch.cuda.is_available() else 'cpu'\n",
    "    K_ENSEMBLE = 64\n",
    "    RANDOM_STATE = 42\n",
    "\n",
    "# ------------------------------ Dataset ------------------------------\n",
    "\n",
    "class TabularDataset(Dataset):\n",
    "    def __init__(self, X, y=None):\n",
    "        self.X = torch.tensor(X, dtype=torch.float32)\n",
    "        self.y = torch.tensor(y, dtype=torch.float32) if y is not None else None\n",
    "\n",
    "    def __len__(self):\n",
    "        return len(self.X)\n",
    "\n",
    "    def __getitem__(self, idx):\n",
    "        if self.y is not None:\n",
    "            return self.X[idx], self.y[idx]\n",
    "        else:\n",
    "            return self.X[idx]\n",
    "\n",
    "# ------------------------------ Trainer ------------------------------\n",
    "\n",
    "class Trainer:\n",
    "    def __init__(self, config):\n",
    "        self.config = config\n",
    "        self.device = config.DEVICE\n",
    "        self.criterion_mse = nn.MSELoss()\n",
    "        self.load_and_prepare_data()\n",
    "        self.create_model()\n",
    "\n",
    "    def load_and_prepare_data(self):\n",
    "        train_df = pd.read_csv(self.config.TRAIN_PATH)\n",
    "        test_df = pd.read_csv(self.config.TEST_PATH)\n",
    "        train_df = self.feature_engineering(train_df, fit=True)\n",
    "        test_df = self.feature_engineering(test_df, fit=False)\n",
    "\n",
    "        self.X_train, self.X_val, self.y_train, self.y_val = train_test_split(\n",
    "            train_df.drop(columns=self.target_cols).values,\n",
    "            train_df[self.target_cols].values,\n",
    "            test_size=self.config.TEST_SIZE,\n",
    "            random_state=self.config.RANDOM_STATE\n",
    "        )\n",
    "\n",
    "        self.X_test = test_df.drop(columns=self.target_cols, errors='ignore').values\n",
    "        self.test_ids = test_df['ID'].values if 'ID' in test_df.columns else np.arange(len(test_df))\n",
    "\n",
    "        self.num_scaler = RobustScaler()\n",
    "        self.y_scaler = RobustScaler()\n",
    "\n",
    "        self.X_train = self.num_scaler.fit_transform(self.X_train)\n",
    "        self.X_val = self.num_scaler.transform(self.X_val)\n",
    "        self.X_test = self.num_scaler.transform(self.X_test)\n",
    "\n",
    "        self.y_train = self.y_scaler.fit_transform(self.y_train)\n",
    "        self.y_val = self.y_scaler.transform(self.y_val)\n",
    "\n",
    "        self.train_loader = DataLoader(TabularDataset(self.X_train, self.y_train), batch_size=self.config.BATCH_SIZE, shuffle=True)\n",
    "        self.val_loader = DataLoader(TabularDataset(self.X_val, self.y_val), batch_size=self.config.BATCH_SIZE, shuffle=False)\n",
    "        self.test_loader = DataLoader(TabularDataset(self.X_test), batch_size=self.config.BATCH_SIZE, shuffle=False)\n",
    "\n",
    "    def feature_engineering(self, df, fit=False):\n",
    "        df = df.copy()\n",
    "        \n",
    "        # Ensure all target columns exist — fill missing with zeros\n",
    "        for col in Config.TARGET_COLS:\n",
    "            if col not in df.columns:\n",
    "                df[col] = 0\n",
    "\n",
    "        # Drop identifier columns if present (e.g. 'ID', 'BlendID')\n",
    "        id_cols = ['ID', 'BlendID']\n",
    "        df.drop(columns=[col for col in id_cols if col in df.columns], inplace=True)\n",
    "\n",
    "        if fit:\n",
    "            # Determine feature columns during training\n",
    "            self.feature_cols = [col for col in df.columns if col not in Config.TARGET_COLS]\n",
    "            self.target_cols = Config.TARGET_COLS\n",
    "\n",
    "        # Ensure consistent column ordering\n",
    "        df = df[self.feature_cols + self.target_cols]\n",
    "\n",
    "        return df\n",
    "\n",
    "\n",
    "    def create_model(self):\n",
    "        self.model = TabM.make(\n",
    "            n_num_features=self.train_loader.dataset.X.shape[1],\n",
    "            cat_cardinalities=None,\n",
    "            d_out=len(self.target_cols),\n",
    "            k=self.config.K_ENSEMBLE\n",
    "        ).to(self.device)\n",
    "\n",
    "        self.optimizer = torch.optim.AdamW(self.model.parameters(), lr=self.config.LR)\n",
    "\n",
    "    def train_epoch(self, epoch):\n",
    "        self.model.train()\n",
    "        total_loss = 0\n",
    "        for X, y in tqdm(self.train_loader, desc=f\"Epoch {epoch+1}/{self.config.EPOCHS}\"):\n",
    "            X, y = X.to(self.device), y.to(self.device)\n",
    "            preds = self.model(X)\n",
    "            preds_median = torch.median(preds, dim=1)[0]\n",
    "            loss = self.criterion_mse(preds_median, y)\n",
    "\n",
    "            self.optimizer.zero_grad()\n",
    "            loss.backward()\n",
    "            self.optimizer.step()\n",
    "            total_loss += loss.item()\n",
    "        return total_loss / len(self.train_loader)\n",
    "\n",
    "    def validate(self):\n",
    "        self.model.eval()\n",
    "        total_loss = 0\n",
    "        all_preds, all_targets = [], []\n",
    "\n",
    "        with torch.no_grad():\n",
    "            for X, y in self.val_loader:\n",
    "                X, y = X.to(self.device), y.to(self.device)\n",
    "                preds = self.model(X)\n",
    "                preds_median = torch.median(preds, dim=1)[0]\n",
    "                loss = self.criterion_mse(preds_median, y)\n",
    "                total_loss += loss.item()\n",
    "\n",
    "                all_preds.append(preds_median.cpu().numpy())\n",
    "                all_targets.append(y.cpu().numpy())\n",
    "\n",
    "        preds_all = np.vstack(all_preds)\n",
    "        targets_all = np.vstack(all_targets)\n",
    "\n",
    "        preds_all_orig = self.y_scaler.inverse_transform(preds_all)\n",
    "        targets_all_orig = self.y_scaler.inverse_transform(targets_all)\n",
    "        mape = mean_absolute_percentage_error(targets_all_orig, preds_all_orig) * 100\n",
    "\n",
    "        return total_loss / len(self.val_loader), mape\n",
    "\n",
    "    def train(self):\n",
    "        for epoch in range(self.config.EPOCHS):\n",
    "            train_loss = self.train_epoch(epoch)\n",
    "            val_loss, val_mape = self.validate()\n",
    "            print(f\"Epoch {epoch+1}/{self.config.EPOCHS} | Train Loss: {train_loss:.4f} | Val Loss: {val_loss:.4f} | Val MAPE: {val_mape:.2f}%\")\n",
    "\n",
    "    def predict(self):\n",
    "        self.model.eval()\n",
    "        preds_all = []\n",
    "\n",
    "        with torch.no_grad():\n",
    "            for X in self.test_loader:\n",
    "                X = X.to(self.device)\n",
    "                preds = self.model(X)\n",
    "                preds_median = torch.median(preds, dim=1)[0]\n",
    "                preds_all.append(preds_median.cpu().numpy())\n",
    "\n",
    "        preds_all = np.vstack(preds_all)\n",
    "        preds_orig = self.y_scaler.inverse_transform(preds_all)\n",
    "\n",
    "        submission = pd.DataFrame(preds_orig, columns=self.target_cols)\n",
    "        submission.insert(0, 'ID', self.test_ids)\n",
    "        submission.to_csv('submission3(2).csv', index=False)\n",
    "        print(\"✅ Submission saved to submission.csv\")\n",
    "\n",
    "# ------------------------------ Run ------------------------------\n",
    "\n",
    "if __name__ == '__main__':\n",
    "    config = Config()\n",
    "    trainer = Trainer(config)\n",
    "    trainer.train()\n",
    "    trainer.predict()\n"
   ]
  },
  {
   "cell_type": "code",
   "execution_count": null,
   "id": "50bfd060",
   "metadata": {},
   "outputs": [],
   "source": [
    "import pandas as pd\n",
    "import numpy as np\n",
    "from sklearn.model_selection import train_test_split\n",
    "from sklearn.preprocessing import RobustScaler\n",
    "from sklearn.metrics import mean_absolute_percentage_error\n",
    "import torch\n",
    "from torch import nn\n",
    "from torch.utils.data import Dataset, DataLoader\n",
    "from tqdm import tqdm\n",
    "from tabm import TabM  # Ensure TabM is installed and imported\n",
    "\n",
    "# ------------------------------ Config ------------------------------\n",
    "\n",
    "class Config:\n",
    "    TRAIN_PATH = 'train.csv'\n",
    "    TEST_PATH = 'test.csv'\n",
    "    TARGET_COLS = [f'BlendProperty{i}' for i in range(1, 11)]\n",
    "    TEST_SIZE = 0.1\n",
    "    BATCH_SIZE = 32\n",
    "    LR = 1e-5\n",
    "    EPOCHS = 300\n",
    "    DEVICE = 'cuda' if torch.cuda.is_available() else 'cpu'\n",
    "    K_ENSEMBLE = 64\n",
    "    RANDOM_STATE = 42\n",
    "\n",
    "# ------------------------------ Dataset ------------------------------\n",
    "\n",
    "class TabularDataset(Dataset):\n",
    "    def __init__(self, X, y=None):\n",
    "        self.X = torch.tensor(X, dtype=torch.float32)\n",
    "        self.y = torch.tensor(y, dtype=torch.float32) if y is not None else None\n",
    "\n",
    "    def __len__(self):\n",
    "        return len(self.X)\n",
    "\n",
    "    def __getitem__(self, idx):\n",
    "        if self.y is not None:\n",
    "            return self.X[idx], self.y[idx]\n",
    "        else:\n",
    "            return self.X[idx]\n",
    "\n",
    "# ------------------------------ Trainer ------------------------------\n",
    "\n",
    "class Trainer:\n",
    "    def __init__(self, config):\n",
    "        self.config = config\n",
    "        self.device = config.DEVICE\n",
    "        self.criterion_mse = nn.MSELoss()\n",
    "        self.load_and_prepare_data()\n",
    "        self.create_model()\n",
    "\n",
    "    def load_and_prepare_data(self):\n",
    "        train_df = pd.read_csv(self.config.TRAIN_PATH)\n",
    "        test_df = pd.read_csv(self.config.TEST_PATH)\n",
    "        train_df = self.feature_engineering(train_df, fit=True)\n",
    "        test_df = self.feature_engineering(test_df, fit=False)\n",
    "\n",
    "        self.X_train, self.X_val, self.y_train, self.y_val = train_test_split(\n",
    "            train_df.drop(columns=self.target_cols).values,\n",
    "            train_df[self.target_cols].values,\n",
    "            test_size=self.config.TEST_SIZE,\n",
    "            random_state=self.config.RANDOM_STATE\n",
    "        )\n",
    "\n",
    "        self.X_test = test_df.drop(columns=self.target_cols, errors='ignore').values\n",
    "        self.test_ids = test_df['ID'].values if 'ID' in test_df.columns else np.arange(len(test_df))\n",
    "\n",
    "        self.num_scaler = RobustScaler()\n",
    "        self.y_scaler = RobustScaler()\n",
    "\n",
    "        self.X_train = self.num_scaler.fit_transform(self.X_train)\n",
    "        self.X_val = self.num_scaler.transform(self.X_val)\n",
    "        self.X_test = self.num_scaler.transform(self.X_test)\n",
    "\n",
    "        self.y_train = self.y_scaler.fit_transform(self.y_train)\n",
    "        self.y_val = self.y_scaler.transform(self.y_val)\n",
    "\n",
    "        self.train_loader = DataLoader(TabularDataset(self.X_train, self.y_train), batch_size=self.config.BATCH_SIZE, shuffle=True)\n",
    "        self.val_loader = DataLoader(TabularDataset(self.X_val, self.y_val), batch_size=self.config.BATCH_SIZE, shuffle=False)\n",
    "        self.test_loader = DataLoader(TabularDataset(self.X_test), batch_size=self.config.BATCH_SIZE, shuffle=False)\n",
    "\n",
    "    def feature_engineering(self, df, fit=False):\n",
    "        df = df.copy()\n",
    "        \n",
    "        # Ensure all target columns exist — fill missing with zeros\n",
    "        for col in Config.TARGET_COLS:\n",
    "            if col not in df.columns:\n",
    "                df[col] = 0\n",
    "\n",
    "        # Drop identifier columns if present (e.g. 'ID', 'BlendID')\n",
    "        id_cols = ['ID', 'BlendID']\n",
    "        df.drop(columns=[col for col in id_cols if col in df.columns], inplace=True)\n",
    "\n",
    "        if fit:\n",
    "            # Determine feature columns during training\n",
    "            self.feature_cols = [col for col in df.columns if col not in Config.TARGET_COLS]\n",
    "            self.target_cols = Config.TARGET_COLS\n",
    "\n",
    "        # Ensure consistent column ordering\n",
    "        df = df[self.feature_cols + self.target_cols]\n",
    "\n",
    "        return df\n",
    "\n",
    "\n",
    "    def create_model(self):\n",
    "        self.model = TabM.make(\n",
    "            n_num_features=self.train_loader.dataset.X.shape[1],\n",
    "            cat_cardinalities=None,\n",
    "            d_out=len(self.target_cols),\n",
    "            k=self.config.K_ENSEMBLE\n",
    "        ).to(self.device)\n",
    "\n",
    "        self.optimizer = torch.optim.AdamW(self.model.parameters(), lr=self.config.LR)\n",
    "\n",
    "    def train_epoch(self, epoch):\n",
    "        self.model.train()\n",
    "        total_loss = 0\n",
    "        for X, y in tqdm(self.train_loader, desc=f\"Epoch {epoch+1}/{self.config.EPOCHS}\"):\n",
    "            X, y = X.to(self.device), y.to(self.device)\n",
    "            preds = self.model(X)\n",
    "            preds_median = torch.median(preds, dim=1)[0]\n",
    "            loss = self.criterion_mse(preds_median, y)\n",
    "\n",
    "            self.optimizer.zero_grad()\n",
    "            loss.backward()\n",
    "            self.optimizer.step()\n",
    "            total_loss += loss.item()\n",
    "        return total_loss / len(self.train_loader)\n",
    "\n",
    "    def validate(self):\n",
    "        self.model.eval()\n",
    "        total_loss = 0\n",
    "        all_preds, all_targets = [], []\n",
    "\n",
    "        with torch.no_grad():\n",
    "            for X, y in self.val_loader:\n",
    "                X, y = X.to(self.device), y.to(self.device)\n",
    "                preds = self.model(X)\n",
    "                preds_median = torch.median(preds, dim=1)[0]\n",
    "                loss = self.criterion_mse(preds_median, y)\n",
    "                total_loss += loss.item()\n",
    "\n",
    "                all_preds.append(preds_median.cpu().numpy())\n",
    "                all_targets.append(y.cpu().numpy())\n",
    "\n",
    "        preds_all = np.vstack(all_preds)\n",
    "        targets_all = np.vstack(all_targets)\n",
    "\n",
    "        preds_all_orig = self.y_scaler.inverse_transform(preds_all)\n",
    "        targets_all_orig = self.y_scaler.inverse_transform(targets_all)\n",
    "        mape = mean_absolute_percentage_error(targets_all_orig, preds_all_orig) * 100\n",
    "\n",
    "        return total_loss / len(self.val_loader), mape\n",
    "\n",
    "    def train(self):\n",
    "        for epoch in range(self.config.EPOCHS):\n",
    "            train_loss = self.train_epoch(epoch)\n",
    "            val_loss, val_mape = self.validate()\n",
    "            print(f\"Epoch {epoch+1}/{self.config.EPOCHS} | Train Loss: {train_loss:.4f} | Val Loss: {val_loss:.4f} | Val MAPE: {val_mape:.2f}%\")\n",
    "\n",
    "    def predict(self):\n",
    "        self.model.eval()\n",
    "        preds_all = []\n",
    "\n",
    "        with torch.no_grad():\n",
    "            for X in self.test_loader:\n",
    "                X = X.to(self.device)\n",
    "                preds = self.model(X)\n",
    "                preds_median = torch.median(preds, dim=1)[0]\n",
    "                preds_all.append(preds_median.cpu().numpy())\n",
    "\n",
    "        preds_all = np.vstack(preds_all)\n",
    "        preds_orig = self.y_scaler.inverse_transform(preds_all)\n",
    "\n",
    "        submission = pd.DataFrame(preds_orig, columns=self.target_cols)\n",
    "        submission.insert(0, 'ID', self.test_ids)\n",
    "        submission.to_csv('submission3(3).csv', index=False)\n",
    "        print(\"✅ Submission saved to submission.csv\")\n",
    "\n",
    "# ------------------------------ Run ------------------------------\n",
    "\n",
    "if __name__ == '__main__':\n",
    "    config = Config()\n",
    "    trainer = Trainer(config)\n",
    "    trainer.train()\n",
    "    trainer.predict()\n"
   ]
  },
  {
   "cell_type": "code",
   "execution_count": null,
   "id": "c6c18e4e",
   "metadata": {},
   "outputs": [],
   "source": [
    "import pandas as pd\n",
    "import numpy as np\n",
    "from sklearn.model_selection import train_test_split\n",
    "from sklearn.preprocessing import RobustScaler\n",
    "from sklearn.metrics import mean_absolute_percentage_error\n",
    "import torch\n",
    "from torch import nn\n",
    "from torch.utils.data import Dataset, DataLoader\n",
    "from tqdm import tqdm\n",
    "from tabm import TabM  # Ensure TabM is installed and imported\n",
    "\n",
    "# ------------------------------ Config ------------------------------\n",
    "\n",
    "class Config:\n",
    "    TRAIN_PATH = 'train.csv'\n",
    "    TEST_PATH = 'test.csv'\n",
    "    TARGET_COLS = [f'BlendProperty{i}' for i in range(1, 11)]\n",
    "    TEST_SIZE = 0.1\n",
    "    BATCH_SIZE = 32\n",
    "    LR = 1e-3\n",
    "    EPOCHS = 300\n",
    "    DEVICE = 'cuda' if torch.cuda.is_available() else 'cpu'\n",
    "    K_ENSEMBLE = 100\n",
    "    RANDOM_STATE = 42\n",
    "\n",
    "# ------------------------------ Dataset ------------------------------\n",
    "\n",
    "class TabularDataset(Dataset):\n",
    "    def __init__(self, X, y=None):\n",
    "        self.X = torch.tensor(X, dtype=torch.float32)\n",
    "        self.y = torch.tensor(y, dtype=torch.float32) if y is not None else None\n",
    "\n",
    "    def __len__(self):\n",
    "        return len(self.X)\n",
    "\n",
    "    def __getitem__(self, idx):\n",
    "        if self.y is not None:\n",
    "            return self.X[idx], self.y[idx]\n",
    "        else:\n",
    "            return self.X[idx]\n",
    "\n",
    "# ------------------------------ Trainer ------------------------------\n",
    "\n",
    "class Trainer:\n",
    "    def __init__(self, config):\n",
    "        self.config = config\n",
    "        self.device = config.DEVICE\n",
    "        self.criterion_mse = nn.MSELoss()\n",
    "        self.load_and_prepare_data()\n",
    "        self.create_model()\n",
    "\n",
    "    def load_and_prepare_data(self):\n",
    "        train_df = pd.read_csv(self.config.TRAIN_PATH)\n",
    "        test_df = pd.read_csv(self.config.TEST_PATH)\n",
    "        train_df = self.feature_engineering(train_df, fit=True)\n",
    "        test_df = self.feature_engineering(test_df, fit=False)\n",
    "\n",
    "        self.X_train, self.X_val, self.y_train, self.y_val = train_test_split(\n",
    "            train_df.drop(columns=self.target_cols).values,\n",
    "            train_df[self.target_cols].values,\n",
    "            test_size=self.config.TEST_SIZE,\n",
    "            random_state=self.config.RANDOM_STATE\n",
    "        )\n",
    "\n",
    "        self.X_test = test_df.drop(columns=self.target_cols, errors='ignore').values\n",
    "        self.test_ids = test_df['ID'].values if 'ID' in test_df.columns else np.arange(len(test_df))\n",
    "\n",
    "        self.num_scaler = RobustScaler()\n",
    "        self.y_scaler = RobustScaler()\n",
    "\n",
    "        self.X_train = self.num_scaler.fit_transform(self.X_train)\n",
    "        self.X_val = self.num_scaler.transform(self.X_val)\n",
    "        self.X_test = self.num_scaler.transform(self.X_test)\n",
    "\n",
    "        self.y_train = self.y_scaler.fit_transform(self.y_train)\n",
    "        self.y_val = self.y_scaler.transform(self.y_val)\n",
    "\n",
    "        self.train_loader = DataLoader(TabularDataset(self.X_train, self.y_train), batch_size=self.config.BATCH_SIZE, shuffle=True)\n",
    "        self.val_loader = DataLoader(TabularDataset(self.X_val, self.y_val), batch_size=self.config.BATCH_SIZE, shuffle=False)\n",
    "        self.test_loader = DataLoader(TabularDataset(self.X_test), batch_size=self.config.BATCH_SIZE, shuffle=False)\n",
    "\n",
    "    def feature_engineering(self, df, fit=False):\n",
    "        df = df.copy()\n",
    "        \n",
    "        # Ensure all target columns exist — fill missing with zeros\n",
    "        for col in Config.TARGET_COLS:\n",
    "            if col not in df.columns:\n",
    "                df[col] = 0\n",
    "\n",
    "        # Drop identifier columns if present (e.g. 'ID', 'BlendID')\n",
    "        id_cols = ['ID', 'BlendID']\n",
    "        df.drop(columns=[col for col in id_cols if col in df.columns], inplace=True)\n",
    "\n",
    "        if fit:\n",
    "            # Determine feature columns during training\n",
    "            self.feature_cols = [col for col in df.columns if col not in Config.TARGET_COLS]\n",
    "            self.target_cols = Config.TARGET_COLS\n",
    "\n",
    "        # Ensure consistent column ordering\n",
    "        df = df[self.feature_cols + self.target_cols]\n",
    "\n",
    "        return df\n",
    "\n",
    "\n",
    "    def create_model(self):\n",
    "        self.model = TabM.make(\n",
    "            n_num_features=self.train_loader.dataset.X.shape[1],\n",
    "            cat_cardinalities=None,\n",
    "            d_out=len(self.target_cols),\n",
    "            k=self.config.K_ENSEMBLE\n",
    "        ).to(self.device)\n",
    "\n",
    "        self.optimizer = torch.optim.AdamW(self.model.parameters(), lr=self.config.LR)\n",
    "\n",
    "    def train_epoch(self, epoch):\n",
    "        self.model.train()\n",
    "        total_loss = 0\n",
    "        for X, y in tqdm(self.train_loader, desc=f\"Epoch {epoch+1}/{self.config.EPOCHS}\"):\n",
    "            X, y = X.to(self.device), y.to(self.device)\n",
    "            preds = self.model(X)\n",
    "            preds_median = torch.median(preds, dim=1)[0]\n",
    "            loss = self.criterion_mse(preds_median, y)\n",
    "\n",
    "            self.optimizer.zero_grad()\n",
    "            loss.backward()\n",
    "            self.optimizer.step()\n",
    "            total_loss += loss.item()\n",
    "        return total_loss / len(self.train_loader)\n",
    "\n",
    "    def validate(self):\n",
    "        self.model.eval()\n",
    "        total_loss = 0\n",
    "        all_preds, all_targets = [], []\n",
    "\n",
    "        with torch.no_grad():\n",
    "            for X, y in self.val_loader:\n",
    "                X, y = X.to(self.device), y.to(self.device)\n",
    "                preds = self.model(X)\n",
    "                preds_median = torch.median(preds, dim=1)[0]\n",
    "                loss = self.criterion_mse(preds_median, y)\n",
    "                total_loss += loss.item()\n",
    "\n",
    "                all_preds.append(preds_median.cpu().numpy())\n",
    "                all_targets.append(y.cpu().numpy())\n",
    "\n",
    "        preds_all = np.vstack(all_preds)\n",
    "        targets_all = np.vstack(all_targets)\n",
    "\n",
    "        preds_all_orig = self.y_scaler.inverse_transform(preds_all)\n",
    "        targets_all_orig = self.y_scaler.inverse_transform(targets_all)\n",
    "        mape = mean_absolute_percentage_error(targets_all_orig, preds_all_orig) * 100\n",
    "\n",
    "        return total_loss / len(self.val_loader), mape\n",
    "\n",
    "    def train(self):\n",
    "        for epoch in range(self.config.EPOCHS):\n",
    "            train_loss = self.train_epoch(epoch)\n",
    "            val_loss, val_mape = self.validate()\n",
    "            print(f\"Epoch {epoch+1}/{self.config.EPOCHS} | Train Loss: {train_loss:.4f} | Val Loss: {val_loss:.4f} | Val MAPE: {val_mape:.2f}%\")\n",
    "\n",
    "    def predict(self):\n",
    "        self.model.eval()\n",
    "        preds_all = []\n",
    "\n",
    "        with torch.no_grad():\n",
    "            for X in self.test_loader:\n",
    "                X = X.to(self.device)\n",
    "                preds = self.model(X)\n",
    "                preds_median = torch.median(preds, dim=1)[0]\n",
    "                preds_all.append(preds_median.cpu().numpy())\n",
    "\n",
    "        preds_all = np.vstack(preds_all)\n",
    "        preds_orig = self.y_scaler.inverse_transform(preds_all)\n",
    "\n",
    "        submission = pd.DataFrame(preds_orig, columns=self.target_cols)\n",
    "        submission.insert(0, 'ID', self.test_ids)\n",
    "        submission.to_csv('submission3(4).csv', index=False)\n",
    "        print(\"✅ Submission saved to submission.csv\")\n",
    "\n",
    "# ------------------------------ Run ------------------------------\n",
    "\n",
    "if __name__ == '__main__':\n",
    "    config = Config()\n",
    "    trainer = Trainer(config)\n",
    "    trainer.train()\n",
    "    trainer.predict()\n"
   ]
  },
  {
   "cell_type": "code",
   "execution_count": null,
   "id": "4971b935",
   "metadata": {},
   "outputs": [],
   "source": [
    "import pandas as pd\n",
    "import numpy as np\n",
    "from sklearn.model_selection import train_test_split\n",
    "from sklearn.preprocessing import RobustScaler\n",
    "from sklearn.metrics import mean_absolute_percentage_error\n",
    "import torch\n",
    "from torch import nn\n",
    "from torch.utils.data import Dataset, DataLoader\n",
    "from tqdm import tqdm\n",
    "from tabm import TabM  # Ensure TabM is installed and imported\n",
    "\n",
    "# ------------------------------ Config ------------------------------\n",
    "\n",
    "class Config:\n",
    "    TRAIN_PATH = 'train.csv'\n",
    "    TEST_PATH = 'test.csv'\n",
    "    TARGET_COLS = [f'BlendProperty{i}' for i in range(1, 11)]\n",
    "    TEST_SIZE = 0.1\n",
    "    BATCH_SIZE = 32\n",
    "    LR = 1e-3\n",
    "    EPOCHS = 300\n",
    "    DEVICE = 'cuda' if torch.cuda.is_available() else 'cpu'\n",
    "    K_ENSEMBLE = 200\n",
    "    RANDOM_STATE = 42\n",
    "\n",
    "# ------------------------------ Dataset ------------------------------\n",
    "\n",
    "class TabularDataset(Dataset):\n",
    "    def __init__(self, X, y=None):\n",
    "        self.X = torch.tensor(X, dtype=torch.float32)\n",
    "        self.y = torch.tensor(y, dtype=torch.float32) if y is not None else None\n",
    "\n",
    "    def __len__(self):\n",
    "        return len(self.X)\n",
    "\n",
    "    def __getitem__(self, idx):\n",
    "        if self.y is not None:\n",
    "            return self.X[idx], self.y[idx]\n",
    "        else:\n",
    "            return self.X[idx]\n",
    "\n",
    "# ------------------------------ Trainer ------------------------------\n",
    "\n",
    "class Trainer:\n",
    "    def __init__(self, config):\n",
    "        self.config = config\n",
    "        self.device = config.DEVICE\n",
    "        self.criterion_mse = nn.MSELoss()\n",
    "        self.load_and_prepare_data()\n",
    "        self.create_model()\n",
    "\n",
    "    def load_and_prepare_data(self):\n",
    "        train_df = pd.read_csv(self.config.TRAIN_PATH)\n",
    "        test_df = pd.read_csv(self.config.TEST_PATH)\n",
    "        train_df = self.feature_engineering(train_df, fit=True)\n",
    "        test_df = self.feature_engineering(test_df, fit=False)\n",
    "\n",
    "        self.X_train, self.X_val, self.y_train, self.y_val = train_test_split(\n",
    "            train_df.drop(columns=self.target_cols).values,\n",
    "            train_df[self.target_cols].values,\n",
    "            test_size=self.config.TEST_SIZE,\n",
    "            random_state=self.config.RANDOM_STATE\n",
    "        )\n",
    "\n",
    "        self.X_test = test_df.drop(columns=self.target_cols, errors='ignore').values\n",
    "        self.test_ids = test_df['ID'].values if 'ID' in test_df.columns else np.arange(len(test_df))\n",
    "\n",
    "        self.num_scaler = RobustScaler()\n",
    "        self.y_scaler = RobustScaler()\n",
    "\n",
    "        self.X_train = self.num_scaler.fit_transform(self.X_train)\n",
    "        self.X_val = self.num_scaler.transform(self.X_val)\n",
    "        self.X_test = self.num_scaler.transform(self.X_test)\n",
    "\n",
    "        self.y_train = self.y_scaler.fit_transform(self.y_train)\n",
    "        self.y_val = self.y_scaler.transform(self.y_val)\n",
    "\n",
    "        self.train_loader = DataLoader(TabularDataset(self.X_train, self.y_train), batch_size=self.config.BATCH_SIZE, shuffle=True)\n",
    "        self.val_loader = DataLoader(TabularDataset(self.X_val, self.y_val), batch_size=self.config.BATCH_SIZE, shuffle=False)\n",
    "        self.test_loader = DataLoader(TabularDataset(self.X_test), batch_size=self.config.BATCH_SIZE, shuffle=False)\n",
    "\n",
    "    def feature_engineering(self, df, fit=False):\n",
    "        df = df.copy()\n",
    "        \n",
    "        # Ensure all target columns exist — fill missing with zeros\n",
    "        for col in Config.TARGET_COLS:\n",
    "            if col not in df.columns:\n",
    "                df[col] = 0\n",
    "\n",
    "        # Drop identifier columns if present (e.g. 'ID', 'BlendID')\n",
    "        id_cols = ['ID', 'BlendID']\n",
    "        df.drop(columns=[col for col in id_cols if col in df.columns], inplace=True)\n",
    "\n",
    "        if fit:\n",
    "            # Determine feature columns during training\n",
    "            self.feature_cols = [col for col in df.columns if col not in Config.TARGET_COLS]\n",
    "            self.target_cols = Config.TARGET_COLS\n",
    "\n",
    "        # Ensure consistent column ordering\n",
    "        df = df[self.feature_cols + self.target_cols]\n",
    "\n",
    "        return df\n",
    "\n",
    "\n",
    "    def create_model(self):\n",
    "        self.model = TabM.make(\n",
    "            n_num_features=self.train_loader.dataset.X.shape[1],\n",
    "            cat_cardinalities=None,\n",
    "            d_out=len(self.target_cols),\n",
    "            k=self.config.K_ENSEMBLE\n",
    "        ).to(self.device)\n",
    "\n",
    "        self.optimizer = torch.optim.AdamW(self.model.parameters(), lr=self.config.LR)\n",
    "\n",
    "    def train_epoch(self, epoch):\n",
    "        self.model.train()\n",
    "        total_loss = 0\n",
    "        for X, y in tqdm(self.train_loader, desc=f\"Epoch {epoch+1}/{self.config.EPOCHS}\"):\n",
    "            X, y = X.to(self.device), y.to(self.device)\n",
    "            preds = self.model(X)\n",
    "            preds_median = torch.median(preds, dim=1)[0]\n",
    "            loss = self.criterion_mse(preds_median, y)\n",
    "\n",
    "            self.optimizer.zero_grad()\n",
    "            loss.backward()\n",
    "            self.optimizer.step()\n",
    "            total_loss += loss.item()\n",
    "        return total_loss / len(self.train_loader)\n",
    "\n",
    "    def validate(self):\n",
    "        self.model.eval()\n",
    "        total_loss = 0\n",
    "        all_preds, all_targets = [], []\n",
    "\n",
    "        with torch.no_grad():\n",
    "            for X, y in self.val_loader:\n",
    "                X, y = X.to(self.device), y.to(self.device)\n",
    "                preds = self.model(X)\n",
    "                preds_median = torch.median(preds, dim=1)[0]\n",
    "                loss = self.criterion_mse(preds_median, y)\n",
    "                total_loss += loss.item()\n",
    "\n",
    "                all_preds.append(preds_median.cpu().numpy())\n",
    "                all_targets.append(y.cpu().numpy())\n",
    "\n",
    "        preds_all = np.vstack(all_preds)\n",
    "        targets_all = np.vstack(all_targets)\n",
    "\n",
    "        preds_all_orig = self.y_scaler.inverse_transform(preds_all)\n",
    "        targets_all_orig = self.y_scaler.inverse_transform(targets_all)\n",
    "        mape = mean_absolute_percentage_error(targets_all_orig, preds_all_orig) * 100\n",
    "\n",
    "        return total_loss / len(self.val_loader), mape\n",
    "\n",
    "    def train(self):\n",
    "        for epoch in range(self.config.EPOCHS):\n",
    "            train_loss = self.train_epoch(epoch)\n",
    "            val_loss, val_mape = self.validate()\n",
    "            print(f\"Epoch {epoch+1}/{self.config.EPOCHS} | Train Loss: {train_loss:.4f} | Val Loss: {val_loss:.4f} | Val MAPE: {val_mape:.2f}%\")\n",
    "\n",
    "    def predict(self):\n",
    "        self.model.eval()\n",
    "        preds_all = []\n",
    "\n",
    "        with torch.no_grad():\n",
    "            for X in self.test_loader:\n",
    "                X = X.to(self.device)\n",
    "                preds = self.model(X)\n",
    "                preds_median = torch.median(preds, dim=1)[0]\n",
    "                preds_all.append(preds_median.cpu().numpy())\n",
    "\n",
    "        preds_all = np.vstack(preds_all)\n",
    "        preds_orig = self.y_scaler.inverse_transform(preds_all)\n",
    "\n",
    "        submission = pd.DataFrame(preds_orig, columns=self.target_cols)\n",
    "        submission.insert(0, 'ID', self.test_ids)\n",
    "        submission.to_csv('submission3(5).csv', index=False)\n",
    "        print(\"✅ Submission saved to submission.csv\")\n",
    "\n",
    "# ------------------------------ Run ------------------------------\n",
    "\n",
    "if __name__ == '__main__':\n",
    "    config = Config()\n",
    "    trainer = Trainer(config)\n",
    "    trainer.train()\n",
    "    trainer.predict()\n"
   ]
  },
  {
   "cell_type": "code",
   "execution_count": null,
   "id": "e87fc007",
   "metadata": {},
   "outputs": [],
   "source": [
    "import pandas as pd\n",
    "import numpy as np\n",
    "from sklearn.model_selection import train_test_split\n",
    "from sklearn.preprocessing import RobustScaler\n",
    "from sklearn.metrics import mean_absolute_percentage_error\n",
    "import torch\n",
    "from torch import nn\n",
    "from torch.utils.data import Dataset, DataLoader\n",
    "from tqdm import tqdm\n",
    "from tabm import TabM  # Ensure TabM is installed and imported\n",
    "\n",
    "# ------------------------------ Config ------------------------------\n",
    "\n",
    "class Config:\n",
    "    TRAIN_PATH = 'train.csv'\n",
    "    TEST_PATH = 'test.csv'\n",
    "    TARGET_COLS = [f'BlendProperty{i}' for i in range(1, 11)]\n",
    "    TEST_SIZE = 0.1\n",
    "    BATCH_SIZE = 32\n",
    "    LR = 1e-4\n",
    "    EPOCHS = 300\n",
    "    DEVICE = 'cuda' if torch.cuda.is_available() else 'cpu'\n",
    "    K_ENSEMBLE = 200\n",
    "    RANDOM_STATE = 42\n",
    "\n",
    "# ------------------------------ Dataset ------------------------------\n",
    "\n",
    "class TabularDataset(Dataset):\n",
    "    def __init__(self, X, y=None):\n",
    "        self.X = torch.tensor(X, dtype=torch.float32)\n",
    "        self.y = torch.tensor(y, dtype=torch.float32) if y is not None else None\n",
    "\n",
    "    def __len__(self):\n",
    "        return len(self.X)\n",
    "\n",
    "    def __getitem__(self, idx):\n",
    "        if self.y is not None:\n",
    "            return self.X[idx], self.y[idx]\n",
    "        else:\n",
    "            return self.X[idx]\n",
    "\n",
    "# ------------------------------ Trainer ------------------------------\n",
    "\n",
    "class Trainer:\n",
    "    def __init__(self, config):\n",
    "        self.config = config\n",
    "        self.device = config.DEVICE\n",
    "        self.criterion_mse = nn.MSELoss()\n",
    "        self.load_and_prepare_data()\n",
    "        self.create_model()\n",
    "\n",
    "    def load_and_prepare_data(self):\n",
    "        train_df = pd.read_csv(self.config.TRAIN_PATH)\n",
    "        test_df = pd.read_csv(self.config.TEST_PATH)\n",
    "        train_df = self.feature_engineering(train_df, fit=True)\n",
    "        test_df = self.feature_engineering(test_df, fit=False)\n",
    "\n",
    "        self.X_train, self.X_val, self.y_train, self.y_val = train_test_split(\n",
    "            train_df.drop(columns=self.target_cols).values,\n",
    "            train_df[self.target_cols].values,\n",
    "            test_size=self.config.TEST_SIZE,\n",
    "            random_state=self.config.RANDOM_STATE\n",
    "        )\n",
    "\n",
    "        self.X_test = test_df.drop(columns=self.target_cols, errors='ignore').values\n",
    "        self.test_ids = test_df['ID'].values if 'ID' in test_df.columns else np.arange(len(test_df))\n",
    "\n",
    "        self.num_scaler = RobustScaler()\n",
    "        self.y_scaler = RobustScaler()\n",
    "\n",
    "        self.X_train = self.num_scaler.fit_transform(self.X_train)\n",
    "        self.X_val = self.num_scaler.transform(self.X_val)\n",
    "        self.X_test = self.num_scaler.transform(self.X_test)\n",
    "\n",
    "        self.y_train = self.y_scaler.fit_transform(self.y_train)\n",
    "        self.y_val = self.y_scaler.transform(self.y_val)\n",
    "\n",
    "        self.train_loader = DataLoader(TabularDataset(self.X_train, self.y_train), batch_size=self.config.BATCH_SIZE, shuffle=True)\n",
    "        self.val_loader = DataLoader(TabularDataset(self.X_val, self.y_val), batch_size=self.config.BATCH_SIZE, shuffle=False)\n",
    "        self.test_loader = DataLoader(TabularDataset(self.X_test), batch_size=self.config.BATCH_SIZE, shuffle=False)\n",
    "\n",
    "    def feature_engineering(self, df, fit=False):\n",
    "        df = df.copy()\n",
    "        \n",
    "        # Ensure all target columns exist — fill missing with zeros\n",
    "        for col in Config.TARGET_COLS:\n",
    "            if col not in df.columns:\n",
    "                df[col] = 0\n",
    "\n",
    "        # Drop identifier columns if present (e.g. 'ID', 'BlendID')\n",
    "        id_cols = ['ID', 'BlendID']\n",
    "        df.drop(columns=[col for col in id_cols if col in df.columns], inplace=True)\n",
    "\n",
    "        if fit:\n",
    "            # Determine feature columns during training\n",
    "            self.feature_cols = [col for col in df.columns if col not in Config.TARGET_COLS]\n",
    "            self.target_cols = Config.TARGET_COLS\n",
    "\n",
    "        # Ensure consistent column ordering\n",
    "        df = df[self.feature_cols + self.target_cols]\n",
    "\n",
    "        return df\n",
    "\n",
    "\n",
    "    def create_model(self):\n",
    "        self.model = TabM.make(\n",
    "            n_num_features=self.train_loader.dataset.X.shape[1],\n",
    "            cat_cardinalities=None,\n",
    "            d_out=len(self.target_cols),\n",
    "            k=self.config.K_ENSEMBLE\n",
    "        ).to(self.device)\n",
    "\n",
    "        self.optimizer = torch.optim.AdamW(self.model.parameters(), lr=self.config.LR)\n",
    "\n",
    "    def train_epoch(self, epoch):\n",
    "        self.model.train()\n",
    "        total_loss = 0\n",
    "        for X, y in tqdm(self.train_loader, desc=f\"Epoch {epoch+1}/{self.config.EPOCHS}\"):\n",
    "            X, y = X.to(self.device), y.to(self.device)\n",
    "            preds = self.model(X)\n",
    "            preds_median = torch.median(preds, dim=1)[0]\n",
    "            loss = self.criterion_mse(preds_median, y)\n",
    "\n",
    "            self.optimizer.zero_grad()\n",
    "            loss.backward()\n",
    "            self.optimizer.step()\n",
    "            total_loss += loss.item()\n",
    "        return total_loss / len(self.train_loader)\n",
    "\n",
    "    def validate(self):\n",
    "        self.model.eval()\n",
    "        total_loss = 0\n",
    "        all_preds, all_targets = [], []\n",
    "\n",
    "        with torch.no_grad():\n",
    "            for X, y in self.val_loader:\n",
    "                X, y = X.to(self.device), y.to(self.device)\n",
    "                preds = self.model(X)\n",
    "                preds_median = torch.median(preds, dim=1)[0]\n",
    "                loss = self.criterion_mse(preds_median, y)\n",
    "                total_loss += loss.item()\n",
    "\n",
    "                all_preds.append(preds_median.cpu().numpy())\n",
    "                all_targets.append(y.cpu().numpy())\n",
    "\n",
    "        preds_all = np.vstack(all_preds)\n",
    "        targets_all = np.vstack(all_targets)\n",
    "\n",
    "        preds_all_orig = self.y_scaler.inverse_transform(preds_all)\n",
    "        targets_all_orig = self.y_scaler.inverse_transform(targets_all)\n",
    "        mape = mean_absolute_percentage_error(targets_all_orig, preds_all_orig) * 100\n",
    "\n",
    "        return total_loss / len(self.val_loader), mape\n",
    "\n",
    "    def train(self):\n",
    "        for epoch in range(self.config.EPOCHS):\n",
    "            train_loss = self.train_epoch(epoch)\n",
    "            val_loss, val_mape = self.validate()\n",
    "            print(f\"Epoch {epoch+1}/{self.config.EPOCHS} | Train Loss: {train_loss:.4f} | Val Loss: {val_loss:.4f} | Val MAPE: {val_mape:.2f}%\")\n",
    "\n",
    "    def predict(self):\n",
    "        self.model.eval()\n",
    "        preds_all = []\n",
    "\n",
    "        with torch.no_grad():\n",
    "            for X in self.test_loader:\n",
    "                X = X.to(self.device)\n",
    "                preds = self.model(X)\n",
    "                preds_median = torch.median(preds, dim=1)[0]\n",
    "                preds_all.append(preds_median.cpu().numpy())\n",
    "\n",
    "        preds_all = np.vstack(preds_all)\n",
    "        preds_orig = self.y_scaler.inverse_transform(preds_all)\n",
    "\n",
    "        submission = pd.DataFrame(preds_orig, columns=self.target_cols)\n",
    "        submission.insert(0, 'ID', self.test_ids)\n",
    "        submission.to_csv('submission3(6).csv', index=False)\n",
    "        print(\"✅ Submission saved to submission.csv\")\n",
    "\n",
    "# ------------------------------ Run ------------------------------\n",
    "\n",
    "if __name__ == '__main__':\n",
    "    config = Config()\n",
    "    trainer = Trainer(config)\n",
    "    trainer.train()\n",
    "    trainer.predict()\n"
   ]
  }
 ],
 "metadata": {
  "kernelspec": {
   "display_name": ".venv",
   "language": "python",
   "name": "python3"
  },
  "language_info": {
   "codemirror_mode": {
    "name": "ipython",
    "version": 3
   },
   "file_extension": ".py",
   "mimetype": "text/x-python",
   "name": "python",
   "nbconvert_exporter": "python",
   "pygments_lexer": "ipython3",
   "version": "3.10.0"
  }
 },
 "nbformat": 4,
 "nbformat_minor": 5
}
