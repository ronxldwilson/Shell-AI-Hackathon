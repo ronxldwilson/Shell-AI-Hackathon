{
 "cells": [
  {
   "cell_type": "code",
   "execution_count": 8,
   "id": "d3a2f624",
   "metadata": {},
   "outputs": [
    {
     "name": "stdout",
     "output_type": "stream",
     "text": [
      "Requirement already satisfied: pandas in c:\\d drive\\ron\\tabm\\.venv\\lib\\site-packages (2.3.1)\n",
      "Requirement already satisfied: numpy in c:\\d drive\\ron\\tabm\\.venv\\lib\\site-packages (2.2.6)\n",
      "Requirement already satisfied: torch in c:\\d drive\\ron\\tabm\\.venv\\lib\\site-packages (2.7.1)\n",
      "Requirement already satisfied: scipy in c:\\d drive\\ron\\tabm\\.venv\\lib\\site-packages (1.15.3)\n",
      "Requirement already satisfied: scikit-learn in c:\\d drive\\ron\\tabm\\.venv\\lib\\site-packages (1.7.0)\n",
      "Collecting matplotlib\n",
      "  Using cached matplotlib-3.10.3-cp310-cp310-win_amd64.whl.metadata (11 kB)\n",
      "Requirement already satisfied: python-dateutil>=2.8.2 in c:\\d drive\\ron\\tabm\\.venv\\lib\\site-packages (from pandas) (2.9.0.post0)\n",
      "Requirement already satisfied: pytz>=2020.1 in c:\\d drive\\ron\\tabm\\.venv\\lib\\site-packages (from pandas) (2025.2)\n",
      "Requirement already satisfied: tzdata>=2022.7 in c:\\d drive\\ron\\tabm\\.venv\\lib\\site-packages (from pandas) (2025.2)\n",
      "Requirement already satisfied: filelock in c:\\d drive\\ron\\tabm\\.venv\\lib\\site-packages (from torch) (3.18.0)\n",
      "Requirement already satisfied: typing-extensions>=4.10.0 in c:\\d drive\\ron\\tabm\\.venv\\lib\\site-packages (from torch) (4.14.1)\n",
      "Requirement already satisfied: sympy>=1.13.3 in c:\\d drive\\ron\\tabm\\.venv\\lib\\site-packages (from torch) (1.14.0)\n",
      "Requirement already satisfied: networkx in c:\\d drive\\ron\\tabm\\.venv\\lib\\site-packages (from torch) (3.4.2)\n",
      "Requirement already satisfied: jinja2 in c:\\d drive\\ron\\tabm\\.venv\\lib\\site-packages (from torch) (3.1.6)\n",
      "Requirement already satisfied: fsspec in c:\\d drive\\ron\\tabm\\.venv\\lib\\site-packages (from torch) (2025.7.0)\n",
      "Requirement already satisfied: joblib>=1.2.0 in c:\\d drive\\ron\\tabm\\.venv\\lib\\site-packages (from scikit-learn) (1.5.1)\n",
      "Requirement already satisfied: threadpoolctl>=3.1.0 in c:\\d drive\\ron\\tabm\\.venv\\lib\\site-packages (from scikit-learn) (3.6.0)\n",
      "Collecting contourpy>=1.0.1 (from matplotlib)\n",
      "  Using cached contourpy-1.3.2-cp310-cp310-win_amd64.whl.metadata (5.5 kB)\n",
      "Collecting cycler>=0.10 (from matplotlib)\n",
      "  Using cached cycler-0.12.1-py3-none-any.whl.metadata (3.8 kB)\n",
      "Collecting fonttools>=4.22.0 (from matplotlib)\n",
      "  Downloading fonttools-4.59.0-cp310-cp310-win_amd64.whl.metadata (110 kB)\n",
      "Collecting kiwisolver>=1.3.1 (from matplotlib)\n",
      "  Using cached kiwisolver-1.4.8-cp310-cp310-win_amd64.whl.metadata (6.3 kB)\n",
      "Requirement already satisfied: packaging>=20.0 in c:\\d drive\\ron\\tabm\\.venv\\lib\\site-packages (from matplotlib) (25.0)\n",
      "Collecting pillow>=8 (from matplotlib)\n",
      "  Using cached pillow-11.3.0-cp310-cp310-win_amd64.whl.metadata (9.2 kB)\n",
      "Collecting pyparsing>=2.3.1 (from matplotlib)\n",
      "  Using cached pyparsing-3.2.3-py3-none-any.whl.metadata (5.0 kB)\n",
      "Requirement already satisfied: six>=1.5 in c:\\d drive\\ron\\tabm\\.venv\\lib\\site-packages (from python-dateutil>=2.8.2->pandas) (1.17.0)\n",
      "Requirement already satisfied: mpmath<1.4,>=1.1.0 in c:\\d drive\\ron\\tabm\\.venv\\lib\\site-packages (from sympy>=1.13.3->torch) (1.3.0)\n",
      "Requirement already satisfied: MarkupSafe>=2.0 in c:\\d drive\\ron\\tabm\\.venv\\lib\\site-packages (from jinja2->torch) (3.0.2)\n",
      "Using cached matplotlib-3.10.3-cp310-cp310-win_amd64.whl (8.1 MB)\n",
      "Using cached contourpy-1.3.2-cp310-cp310-win_amd64.whl (221 kB)\n",
      "Using cached cycler-0.12.1-py3-none-any.whl (8.3 kB)\n",
      "Downloading fonttools-4.59.0-cp310-cp310-win_amd64.whl (2.3 MB)\n",
      "   ---------------------------------------- 0.0/2.3 MB ? eta -:--:--\n",
      "   ---------------------------------------- 2.3/2.3 MB 12.8 MB/s eta 0:00:00\n",
      "Using cached kiwisolver-1.4.8-cp310-cp310-win_amd64.whl (71 kB)\n",
      "Using cached pillow-11.3.0-cp310-cp310-win_amd64.whl (7.0 MB)\n",
      "Using cached pyparsing-3.2.3-py3-none-any.whl (111 kB)\n",
      "Installing collected packages: pyparsing, pillow, kiwisolver, fonttools, cycler, contourpy, matplotlib\n",
      "\n",
      "   ---------------------------------------- 0/7 [pyparsing]\n",
      "   ----- ---------------------------------- 1/7 [pillow]\n",
      "   ----- ---------------------------------- 1/7 [pillow]\n",
      "   ----- ---------------------------------- 1/7 [pillow]\n",
      "   ----- ---------------------------------- 1/7 [pillow]\n",
      "   ----- ---------------------------------- 1/7 [pillow]\n",
      "   ----- ---------------------------------- 1/7 [pillow]\n",
      "   ----- ---------------------------------- 1/7 [pillow]\n",
      "   ----- ---------------------------------- 1/7 [pillow]\n",
      "   ----------------- ---------------------- 3/7 [fonttools]\n",
      "   ----------------- ---------------------- 3/7 [fonttools]\n",
      "   ----------------- ---------------------- 3/7 [fonttools]\n",
      "   ----------------- ---------------------- 3/7 [fonttools]\n",
      "   ----------------- ---------------------- 3/7 [fonttools]\n",
      "   ----------------- ---------------------- 3/7 [fonttools]\n",
      "   ----------------- ---------------------- 3/7 [fonttools]\n",
      "   ----------------- ---------------------- 3/7 [fonttools]\n",
      "   ----------------- ---------------------- 3/7 [fonttools]\n",
      "   ----------------- ---------------------- 3/7 [fonttools]\n",
      "   ----------------- ---------------------- 3/7 [fonttools]\n",
      "   ----------------- ---------------------- 3/7 [fonttools]\n",
      "   ----------------- ---------------------- 3/7 [fonttools]\n",
      "   ----------------- ---------------------- 3/7 [fonttools]\n",
      "   ----------------- ---------------------- 3/7 [fonttools]\n",
      "   ----------------- ---------------------- 3/7 [fonttools]\n",
      "   ----------------- ---------------------- 3/7 [fonttools]\n",
      "   ----------------- ---------------------- 3/7 [fonttools]\n",
      "   ----------------- ---------------------- 3/7 [fonttools]\n",
      "   ----------------- ---------------------- 3/7 [fonttools]\n",
      "   ----------------- ---------------------- 3/7 [fonttools]\n",
      "   ----------------- ---------------------- 3/7 [fonttools]\n",
      "   ----------------- ---------------------- 3/7 [fonttools]\n",
      "   ----------------- ---------------------- 3/7 [fonttools]\n",
      "   ----------------- ---------------------- 3/7 [fonttools]\n",
      "   ----------------- ---------------------- 3/7 [fonttools]\n",
      "   ---------------------- ----------------- 4/7 [cycler]\n",
      "   ---------------------------- ----------- 5/7 [contourpy]\n",
      "   ---------------------------------- ----- 6/7 [matplotlib]\n",
      "   ---------------------------------- ----- 6/7 [matplotlib]\n",
      "   ---------------------------------- ----- 6/7 [matplotlib]\n",
      "   ---------------------------------- ----- 6/7 [matplotlib]\n",
      "   ---------------------------------- ----- 6/7 [matplotlib]\n",
      "   ---------------------------------- ----- 6/7 [matplotlib]\n",
      "   ---------------------------------- ----- 6/7 [matplotlib]\n",
      "   ---------------------------------- ----- 6/7 [matplotlib]\n",
      "   ---------------------------------- ----- 6/7 [matplotlib]\n",
      "   ---------------------------------- ----- 6/7 [matplotlib]\n",
      "   ---------------------------------- ----- 6/7 [matplotlib]\n",
      "   ---------------------------------- ----- 6/7 [matplotlib]\n",
      "   ---------------------------------- ----- 6/7 [matplotlib]\n",
      "   ---------------------------------- ----- 6/7 [matplotlib]\n",
      "   ---------------------------------- ----- 6/7 [matplotlib]\n",
      "   ---------------------------------- ----- 6/7 [matplotlib]\n",
      "   ---------------------------------- ----- 6/7 [matplotlib]\n",
      "   ---------------------------------- ----- 6/7 [matplotlib]\n",
      "   ---------------------------------- ----- 6/7 [matplotlib]\n",
      "   ---------------------------------- ----- 6/7 [matplotlib]\n",
      "   ---------------------------------- ----- 6/7 [matplotlib]\n",
      "   ---------------------------------- ----- 6/7 [matplotlib]\n",
      "   ---------------------------------- ----- 6/7 [matplotlib]\n",
      "   ---------------------------------- ----- 6/7 [matplotlib]\n",
      "   ---------------------------------- ----- 6/7 [matplotlib]\n",
      "   ---------------------------------- ----- 6/7 [matplotlib]\n",
      "   ---------------------------------- ----- 6/7 [matplotlib]\n",
      "   ---------------------------------------- 7/7 [matplotlib]\n",
      "\n",
      "Successfully installed contourpy-1.3.2 cycler-0.12.1 fonttools-4.59.0 kiwisolver-1.4.8 matplotlib-3.10.3 pillow-11.3.0 pyparsing-3.2.3\n",
      "Note: you may need to restart the kernel to use updated packages.\n"
     ]
    }
   ],
   "source": [
    "pip install pandas numpy torch scipy scikit-learn matplotlib\n"
   ]
  },
  {
   "cell_type": "code",
   "execution_count": 4,
   "id": "6453010e",
   "metadata": {},
   "outputs": [
    {
     "name": "stdout",
     "output_type": "stream",
     "text": [
      "Collecting tabm\n",
      "  Downloading tabm-0.0.1-py3-none-any.whl.metadata (936 bytes)\n",
      "Requirement already satisfied: torch<3,>=1.12 in c:\\d drive\\ron\\tabm\\.venv\\lib\\site-packages (from tabm) (2.7.1)\n",
      "Collecting rtdl_num_embeddings<0.1,>=0.0.12 (from tabm)\n",
      "  Downloading rtdl_num_embeddings-0.0.12-py3-none-any.whl.metadata (903 bytes)\n",
      "Requirement already satisfied: typing_extensions<5,>=4.6.0 in c:\\d drive\\ron\\tabm\\.venv\\lib\\site-packages (from tabm) (4.14.1)\n",
      "Requirement already satisfied: filelock in c:\\d drive\\ron\\tabm\\.venv\\lib\\site-packages (from torch<3,>=1.12->tabm) (3.18.0)\n",
      "Requirement already satisfied: sympy>=1.13.3 in c:\\d drive\\ron\\tabm\\.venv\\lib\\site-packages (from torch<3,>=1.12->tabm) (1.14.0)\n",
      "Requirement already satisfied: networkx in c:\\d drive\\ron\\tabm\\.venv\\lib\\site-packages (from torch<3,>=1.12->tabm) (3.4.2)\n",
      "Requirement already satisfied: jinja2 in c:\\d drive\\ron\\tabm\\.venv\\lib\\site-packages (from torch<3,>=1.12->tabm) (3.1.6)\n",
      "Requirement already satisfied: fsspec in c:\\d drive\\ron\\tabm\\.venv\\lib\\site-packages (from torch<3,>=1.12->tabm) (2025.7.0)\n",
      "Requirement already satisfied: mpmath<1.4,>=1.1.0 in c:\\d drive\\ron\\tabm\\.venv\\lib\\site-packages (from sympy>=1.13.3->torch<3,>=1.12->tabm) (1.3.0)\n",
      "Requirement already satisfied: MarkupSafe>=2.0 in c:\\d drive\\ron\\tabm\\.venv\\lib\\site-packages (from jinja2->torch<3,>=1.12->tabm) (3.0.2)\n",
      "Downloading tabm-0.0.1-py3-none-any.whl (17 kB)\n",
      "Downloading rtdl_num_embeddings-0.0.12-py3-none-any.whl (13 kB)\n",
      "Installing collected packages: rtdl_num_embeddings, tabm\n",
      "\n",
      "   ---------------------------------------- 2/2 [tabm]\n",
      "\n",
      "Successfully installed rtdl_num_embeddings-0.0.12 tabm-0.0.1\n"
     ]
    }
   ],
   "source": [
    "!pip install tabm"
   ]
  },
  {
   "cell_type": "code",
   "execution_count": null,
   "id": "1618cdf9",
   "metadata": {},
   "outputs": [
    {
     "name": "stderr",
     "output_type": "stream",
     "text": [
      "2025-07-17 23:00:38,452 - INFO - Using device: cpu\n",
      "2025-07-17 23:00:38,452 - INFO - Loading CSVs...\n"
     ]
    },
    {
     "name": "stdout",
     "output_type": "stream",
     "text": [
      "Using device: cpu\n",
      "Running feature engineering on training data...\n",
      "Starting feature engineering...\n",
      "Dropped 1 highly correlated features.\n",
      "Feature engineering done. Shape: (2000, 75)\n",
      "Running feature engineering on test data...\n",
      "Starting feature engineering...\n",
      "Feature engineering done. Shape: (500, 75)\n",
      "Train X shape: (2000, 65) | y shape: (2000, 10) | Test X shape: (500, 65)\n",
      "Data loaders created.\n",
      "Model created. Total parameters: 1152192\n",
      "Epoch 1/300 | Train Loss: 0.4798 | Val Loss: 0.4929 | Val MAPE: 34225.15%\n",
      "New best model saved with Val MAPE: 34225.15%\n",
      "Epoch 2/300 | Train Loss: 0.4764 | Val Loss: 0.4908 | Val MAPE: 27668.94%\n",
      "New best model saved with Val MAPE: 27668.94%\n",
      "Epoch 3/300 | Train Loss: 0.4850 | Val Loss: 0.4875 | Val MAPE: 25453.98%\n",
      "New best model saved with Val MAPE: 25453.98%\n",
      "Epoch 4/300 | Train Loss: 0.4747 | Val Loss: 0.4820 | Val MAPE: 24230.61%\n",
      "New best model saved with Val MAPE: 24230.61%\n",
      "Epoch 5/300 | Train Loss: 0.4755 | Val Loss: 0.4721 | Val MAPE: 32915.25%\n",
      "Epoch 6/300 | Train Loss: 0.4619 | Val Loss: 0.4553 | Val MAPE: 41930.43%\n",
      "Epoch 7/300 | Train Loss: 0.4474 | Val Loss: 0.4271 | Val MAPE: 52364.75%\n",
      "Epoch 8/300 | Train Loss: 0.4075 | Val Loss: 0.3803 | Val MAPE: 58402.53%\n",
      "Epoch 9/300 | Train Loss: 0.3589 | Val Loss: 0.3112 | Val MAPE: 63904.50%\n",
      "Epoch 10/300 | Train Loss: 0.2937 | Val Loss: 0.2464 | Val MAPE: 66300.13%\n",
      "Epoch 11/300 | Train Loss: 0.2698 | Val Loss: 0.2267 | Val MAPE: 74104.34%\n",
      "Epoch 12/300 | Train Loss: 0.2342 | Val Loss: 0.2148 | Val MAPE: 67640.77%\n",
      "Epoch 13/300 | Train Loss: 0.2248 | Val Loss: 0.2155 | Val MAPE: 62427.22%\n",
      "Epoch 14/300 | Train Loss: 0.2084 | Val Loss: 0.1950 | Val MAPE: 64783.49%\n",
      "Epoch 15/300 | Train Loss: 0.1971 | Val Loss: 0.1869 | Val MAPE: 64601.45%\n",
      "Epoch 16/300 | Train Loss: 0.1982 | Val Loss: 0.1806 | Val MAPE: 59035.28%\n",
      "Epoch 17/300 | Train Loss: 0.1897 | Val Loss: 0.1688 | Val MAPE: 53831.96%\n",
      "Epoch 18/300 | Train Loss: 0.1765 | Val Loss: 0.1600 | Val MAPE: 56523.50%\n",
      "Epoch 19/300 | Train Loss: 0.1696 | Val Loss: 0.1559 | Val MAPE: 57816.73%\n",
      "Epoch 20/300 | Train Loss: 0.1624 | Val Loss: 0.1523 | Val MAPE: 55221.93%\n",
      "Epoch 21/300 | Train Loss: 0.1610 | Val Loss: 0.1462 | Val MAPE: 53204.76%\n",
      "Epoch 22/300 | Train Loss: 0.1512 | Val Loss: 0.1422 | Val MAPE: 52151.48%\n",
      "Epoch 23/300 | Train Loss: 0.1478 | Val Loss: 0.1415 | Val MAPE: 51239.77%\n",
      "Epoch 24/300 | Train Loss: 0.1413 | Val Loss: 0.1362 | Val MAPE: 51016.88%\n",
      "Epoch 25/300 | Train Loss: 0.1418 | Val Loss: 0.1311 | Val MAPE: 53247.73%\n",
      "Epoch 26/300 | Train Loss: 0.1373 | Val Loss: 0.1297 | Val MAPE: 51457.59%\n",
      "Epoch 27/300 | Train Loss: 0.1359 | Val Loss: 0.1268 | Val MAPE: 51386.07%\n",
      "Epoch 28/300 | Train Loss: 0.1326 | Val Loss: 0.1217 | Val MAPE: 60695.46%\n",
      "Epoch 29/300 | Train Loss: 0.1284 | Val Loss: 0.1205 | Val MAPE: 50207.93%\n",
      "Early stopping triggered.\n",
      "Best model loaded.\n",
      "Submission saved to submission.csv\n"
     ]
    },
    {
     "data": {
      "image/png": "[encoded data removed]",
      "text/plain": [
       "<Figure size 1200x500 with 2 Axes>"
      ]
     },
     "metadata": {},
     "output_type": "display_data"
    }
   ],
   "source": [
    "import pandas as pd\n",
    "import numpy as np\n",
    "import torch\n",
    "import torch.nn as nn\n",
    "import torch.optim as optim\n",
    "from torch.utils.data import Dataset, DataLoader\n",
    "from sklearn.model_selection import train_test_split\n",
    "from sklearn.preprocessing import RobustScaler\n",
    "from sklearn.metrics import mean_absolute_percentage_error\n",
    "from tabm import TabM\n",
    "import matplotlib.pyplot as plt\n",
    "import logging\n",
    "import warnings\n",
    "\n",
    "warnings.filterwarnings('ignore')\n",
    "logging.basicConfig(level=logging.INFO, format='%(asctime)s - %(levelname)s - %(message)s')\n",
    "logger = logging.getLogger(__name__)\n",
    "\n",
    "\n",
    "class Config:\n",
    "    BATCH_SIZE = 512\n",
    "    LEARNING_RATE = 5e-4\n",
    "    EPOCHS = 300\n",
    "    EARLY_STOPPING_PATIENCE = 25\n",
    "    K_ENSEMBLE = 64\n",
    "    WEIGHT_DECAY = 1e-4\n",
    "    RANDOM_STATE = 42\n",
    "    TEST_SIZE = 0.2\n",
    "    WARMUP_EPOCHS = 10\n",
    "\n",
    "\n",
    "class FuelBlendDataset(Dataset):\n",
    "    def __init__(self, X, y=None):\n",
    "        self.X = torch.tensor(X, dtype=torch.float32)\n",
    "        self.y = torch.tensor(y, dtype=torch.float32) if y is not None else None\n",
    "\n",
    "    def __len__(self):\n",
    "        return len(self.X)\n",
    "\n",
    "    def __getitem__(self, idx):\n",
    "        if self.y is not None:\n",
    "            return self.X[idx], self.y[idx]\n",
    "        return self.X[idx]\n",
    "\n",
    "\n",
    "class EarlyStopping:\n",
    "    def __init__(self, patience=7, min_delta=0, restore_best_weights=True):\n",
    "        self.patience = patience\n",
    "        self.min_delta = min_delta\n",
    "        self.restore_best_weights = restore_best_weights\n",
    "        self.best_loss = None\n",
    "        self.counter = 0\n",
    "        self.best_weights = None\n",
    "\n",
    "    def __call__(self, val_loss, model):\n",
    "        if self.best_loss is None:\n",
    "            self.best_loss = val_loss\n",
    "            self.save_checkpoint(model)\n",
    "        elif val_loss < self.best_loss - self.min_delta:\n",
    "            self.best_loss = val_loss\n",
    "            self.counter = 0\n",
    "            self.save_checkpoint(model)\n",
    "        else:\n",
    "            self.counter += 1\n",
    "        return self.counter >= self.patience\n",
    "\n",
    "    def save_checkpoint(self, model):\n",
    "        if self.restore_best_weights:\n",
    "            self.best_weights = model.state_dict().copy()\n",
    "\n",
    "\n",
    "class TabMTrainer:\n",
    "    def __init__(self, config=Config()):\n",
    "        self.config = config\n",
    "        self.device = torch.device('cuda' if torch.cuda.is_available() else 'cpu')\n",
    "        print(f\"Using device: {self.device}\")\n",
    "        logger.info(f\"Using device: {self.device}\")\n",
    "        self.X_scaler = RobustScaler()\n",
    "        self.y_scaler = RobustScaler()\n",
    "        self.train_losses = []\n",
    "        self.val_losses = []\n",
    "        self.val_mapes = []\n",
    "        self.feature_cols = None\n",
    "        self.target_cols = None\n",
    "\n",
    "    def feature_engineering(self, df, fit=True):\n",
    "        print(\"Starting feature engineering...\")\n",
    "\n",
    "        if fit:\n",
    "            corr_matrix = df.corr().abs()\n",
    "            upper = corr_matrix.where(np.triu(np.ones(corr_matrix.shape), k=1).astype(bool))\n",
    "            to_drop = [col for col in upper.columns if any(upper[col] > 0.95)]\n",
    "            df = df.drop(columns=to_drop)\n",
    "            print(f\"Dropped {len(to_drop)} highly correlated features.\")\n",
    "\n",
    "            num_cols = df.select_dtypes(include=[np.number]).columns.tolist()\n",
    "            for i in range(min(5, len(num_cols))):\n",
    "                for j in range(i + 1, min(5, len(num_cols))):\n",
    "                    df[f'inter_{num_cols[i]}_{num_cols[j]}'] = df[num_cols[i]] * df[num_cols[j]]\n",
    "\n",
    "            # Enforce 10 target columns\n",
    "            expected_targets = [f'BlendProperty{i}' for i in range(1, 11)]\n",
    "            existing_targets = [col for col in df.columns if col.startswith('BlendProperty')]\n",
    "            for col in expected_targets:\n",
    "                if col not in df.columns:\n",
    "                    df[col] = 0.0  # Fill missing targets with 0\n",
    "            self.target_cols = expected_targets\n",
    "            self.feature_cols = [col for col in df.columns if col not in self.target_cols]\n",
    "        else:\n",
    "            df = df.reindex(columns=self.feature_cols + self.target_cols, fill_value=0)\n",
    "\n",
    "        print(f\"Feature engineering done. Shape: {df.shape}\")\n",
    "        return df\n",
    "\n",
    "    def load_and_prepare_data(self, train_path='train.csv', test_path='test.csv'):\n",
    "        logger.info(\"Loading CSVs...\")\n",
    "        train_df = pd.read_csv(train_path)\n",
    "        test_df = pd.read_csv(test_path)\n",
    "\n",
    "        print(\"Running feature engineering on training data...\")\n",
    "        train_df = self.feature_engineering(train_df, fit=True)\n",
    "\n",
    "        print(\"Running feature engineering on test data...\")\n",
    "        test_df = self.feature_engineering(test_df, fit=False)\n",
    "\n",
    "        X = train_df[self.feature_cols].values\n",
    "        y = train_df[self.target_cols].values\n",
    "        X_test = test_df[self.feature_cols].values\n",
    "        self.test_ids = test_df.iloc[:, 0].values\n",
    "\n",
    "        print(f\"Train X shape: {X.shape} | y shape: {y.shape} | Test X shape: {X_test.shape}\")\n",
    "\n",
    "        X_train, X_val, y_train, y_val = train_test_split(\n",
    "            X, y, test_size=self.config.TEST_SIZE, random_state=self.config.RANDOM_STATE\n",
    "        )\n",
    "\n",
    "        X_train = self.X_scaler.fit_transform(X_train)\n",
    "        X_val = self.X_scaler.transform(X_val)\n",
    "        X_test = self.X_scaler.transform(X_test)\n",
    "\n",
    "        y_train_scaled = self.y_scaler.fit_transform(y_train)\n",
    "        y_val_scaled = self.y_scaler.transform(y_val)\n",
    "\n",
    "        self.y_train_orig = y_train\n",
    "        self.y_val_orig = y_val\n",
    "\n",
    "        self.train_loader = DataLoader(FuelBlendDataset(X_train, y_train_scaled),\n",
    "                                       batch_size=self.config.BATCH_SIZE, shuffle=True)\n",
    "        self.val_loader = DataLoader(FuelBlendDataset(X_val, y_val_scaled),\n",
    "                                     batch_size=self.config.BATCH_SIZE, shuffle=False)\n",
    "        self.test_loader = DataLoader(FuelBlendDataset(X_test),\n",
    "                                      batch_size=self.config.BATCH_SIZE, shuffle=False)\n",
    "        print(\"Data loaders created.\")\n",
    "\n",
    "    def create_model(self):\n",
    "        self.model = TabM.make(\n",
    "            n_num_features=self.train_loader.dataset.X.shape[1],\n",
    "            cat_cardinalities=None,\n",
    "            d_out=len(self.target_cols),\n",
    "            k=self.config.K_ENSEMBLE\n",
    "        )\n",
    "        self.model.to(self.device)\n",
    "        self.optimizer = optim.AdamW(self.model.parameters(), lr=self.config.LEARNING_RATE,\n",
    "                                     weight_decay=self.config.WEIGHT_DECAY)\n",
    "        self.warmup_scheduler = optim.lr_scheduler.LinearLR(self.optimizer, start_factor=0.1,\n",
    "                                                            total_iters=self.config.WARMUP_EPOCHS)\n",
    "        self.main_scheduler = optim.lr_scheduler.ReduceLROnPlateau(self.optimizer, mode='min', factor=0.7, patience=8)\n",
    "        self.criterion_mse = nn.MSELoss()\n",
    "        print(f\"Model created. Total parameters: {sum(p.numel() for p in self.model.parameters())}\")\n",
    "\n",
    "    def train_epoch(self, epoch):\n",
    "        self.model.train()\n",
    "        total_loss = 0\n",
    "        for batch_idx, (X, y) in enumerate(self.train_loader):\n",
    "            X, y = X.to(self.device), y.to(self.device)\n",
    "            self.optimizer.zero_grad()\n",
    "            preds = self.model(X)\n",
    "            preds_median = torch.median(preds, dim=1)[0]\n",
    "            loss = self.criterion_mse(preds_median, y)\n",
    "            loss.backward()\n",
    "            torch.nn.utils.clip_grad_norm_(self.model.parameters(), max_norm=0.5)\n",
    "            self.optimizer.step()\n",
    "            total_loss += loss.item()\n",
    "        return total_loss / len(self.train_loader)\n",
    "\n",
    "    def validate(self):\n",
    "        self.model.eval()\n",
    "        total_loss = 0\n",
    "        preds_all, targets_all = [], []\n",
    "\n",
    "        with torch.no_grad():\n",
    "            for X, y in self.val_loader:\n",
    "                X, y = X.to(self.device), y.to(self.device)\n",
    "                preds = self.model(X)\n",
    "                preds_median = torch.median(preds, dim=1)[0]\n",
    "                loss = self.criterion_mse(preds_median, y)\n",
    "                total_loss += loss.item()\n",
    "                preds_all.append(preds_median.cpu().numpy())\n",
    "                targets_all.append(y.cpu().numpy())\n",
    "\n",
    "        preds_all = np.vstack(preds_all)\n",
    "        targets_all = np.vstack(targets_all)\n",
    "        preds_orig = self.y_scaler.inverse_transform(preds_all)\n",
    "        targets_orig = self.y_scaler.inverse_transform(targets_all)\n",
    "        mape = np.mean(np.abs((targets_orig - preds_orig) / (np.abs(targets_orig) + 1e-6))) * 100\n",
    "        return total_loss / len(self.val_loader), mape\n",
    "\n",
    "    def train(self):\n",
    "        early_stopping = EarlyStopping(patience=self.config.EARLY_STOPPING_PATIENCE)\n",
    "        best_mape = float('inf')\n",
    "\n",
    "        for epoch in range(self.config.EPOCHS):\n",
    "            train_loss = self.train_epoch(epoch)\n",
    "            if epoch < self.config.WARMUP_EPOCHS:\n",
    "                self.warmup_scheduler.step()\n",
    "            else:\n",
    "                self.main_scheduler.step(train_loss)\n",
    "\n",
    "            val_loss, val_mape = self.validate()\n",
    "            print(f\"Epoch {epoch+1}/{self.config.EPOCHS} | Train Loss: {train_loss:.4f} | \"\n",
    "                  f\"Val Loss: {val_loss:.4f} | Val MAPE: {val_mape:.2f}%\")\n",
    "\n",
    "            self.train_losses.append(train_loss)\n",
    "            self.val_losses.append(val_loss)\n",
    "            self.val_mapes.append(val_mape)\n",
    "\n",
    "            if val_mape < best_mape:\n",
    "                best_mape = val_mape\n",
    "                torch.save(self.model.state_dict(), 'best_tabm_model.pth')\n",
    "                print(f\"New best model saved with Val MAPE: {val_mape:.2f}%\")\n",
    "\n",
    "            if early_stopping(val_mape, self.model):\n",
    "                print(\"Early stopping triggered.\")\n",
    "                break\n",
    "\n",
    "        self.model.load_state_dict(torch.load('best_tabm_model.pth'))\n",
    "        print(\"Best model loaded.\")\n",
    "\n",
    "    def predict(self):\n",
    "        self.model.eval()\n",
    "        preds_all = []\n",
    "\n",
    "        with torch.no_grad():\n",
    "            for X in self.test_loader:\n",
    "                X = X.to(self.device)\n",
    "                preds = self.model(X)\n",
    "                preds_median = torch.median(preds, dim=1)[0]\n",
    "                preds_all.append(preds_median.cpu().numpy())\n",
    "\n",
    "        preds_all = np.vstack(preds_all)\n",
    "        preds_orig = self.y_scaler.inverse_transform(preds_all)\n",
    "\n",
    "        submission = pd.DataFrame(preds_orig, columns=self.target_cols)\n",
    "        submission.insert(0, 'ID', self.test_ids)\n",
    "        submission.to_csv('submission.csv', index=False)\n",
    "        print(\"Submission saved to submission.csv\")\n",
    "\n",
    "    def plot_training_history(self):\n",
    "        plt.figure(figsize=(12, 5))\n",
    "        plt.subplot(1, 2, 1)\n",
    "        plt.plot(self.train_losses, label='Train Loss')\n",
    "        plt.plot(self.val_losses, label='Val Loss')\n",
    "        plt.legend()\n",
    "        plt.title(\"Loss\")\n",
    "\n",
    "        plt.subplot(1, 2, 2)\n",
    "        plt.plot(self.val_mapes, label='Val MAPE')\n",
    "        plt.legend()\n",
    "        plt.title(\"MAPE\")\n",
    "        plt.tight_layout()\n",
    "        plt.show()\n",
    "\n",
    "\n",
    "def main():\n",
    "    trainer = TabMTrainer()\n",
    "    trainer.load_and_prepare_data()\n",
    "    trainer.create_model()\n",
    "    trainer.train()\n",
    "    trainer.predict()\n",
    "    trainer.plot_training_history()\n",
    "\n",
    "\n",
    "if __name__ == \"__main__\":\n",
    "    main()\n"
   ]
  },
  {
   "cell_type": "code",
   "execution_count": 15,
   "id": "5a0be1bc",
   "metadata": {},
   "outputs": [
    {
     "name": "stdout",
     "output_type": "stream",
     "text": [
      "Collecting tqdm\n",
      "  Using cached tqdm-4.67.1-py3-none-any.whl.metadata (57 kB)\n",
      "Requirement already satisfied: colorama in c:\\d drive\\ron\\tabm\\.venv\\lib\\site-packages (from tqdm) (0.4.6)\n",
      "Using cached tqdm-4.67.1-py3-none-any.whl (78 kB)\n",
      "Installing collected packages: tqdm\n",
      "Successfully installed tqdm-4.67.1\n",
      "Note: you may need to restart the kernel to use updated packages.\n"
     ]
    }
   ],
   "source": [
    "pip install tqdm"
   ]
  },
  {
   "cell_type": "code",
   "execution_count": 54,
   "id": "85d012eb",
   "metadata": {},
   "outputs": [
    {
     "name": "stderr",
     "output_type": "stream",
     "text": [
      "Epoch 1/300: 100%|██████████| 4/4 [00:05<00:00,  1.48s/it]\n"
     ]
    },
    {
     "name": "stdout",
     "output_type": "stream",
     "text": [
      "Epoch 1/300 | Train Loss: 0.5426 | Val Loss: 0.5415 | Val MAPE: 136.61%\n"
     ]
    },
    {
     "name": "stderr",
     "output_type": "stream",
     "text": [
      "Epoch 2/300: 100%|██████████| 4/4 [00:05<00:00,  1.43s/it]\n"
     ]
    },
    {
     "name": "stdout",
     "output_type": "stream",
     "text": [
      "Epoch 2/300 | Train Loss: 0.5329 | Val Loss: 0.5290 | Val MAPE: 123.50%\n"
     ]
    },
    {
     "name": "stderr",
     "output_type": "stream",
     "text": [
      "Epoch 3/300: 100%|██████████| 4/4 [00:05<00:00,  1.36s/it]\n"
     ]
    },
    {
     "name": "stdout",
     "output_type": "stream",
     "text": [
      "Epoch 3/300 | Train Loss: 0.5196 | Val Loss: 0.5056 | Val MAPE: 173.00%\n"
     ]
    },
    {
     "name": "stderr",
     "output_type": "stream",
     "text": [
      "Epoch 4/300: 100%|██████████| 4/4 [00:05<00:00,  1.39s/it]\n"
     ]
    },
    {
     "name": "stdout",
     "output_type": "stream",
     "text": [
      "Epoch 4/300 | Train Loss: 0.4837 | Val Loss: 0.4414 | Val MAPE: 222.72%\n"
     ]
    },
    {
     "name": "stderr",
     "output_type": "stream",
     "text": [
      "Epoch 5/300: 100%|██████████| 4/4 [00:05<00:00,  1.38s/it]\n"
     ]
    },
    {
     "name": "stdout",
     "output_type": "stream",
     "text": [
      "Epoch 5/300 | Train Loss: 0.3903 | Val Loss: 0.3231 | Val MAPE: 346.53%\n"
     ]
    },
    {
     "name": "stderr",
     "output_type": "stream",
     "text": [
      "Epoch 6/300: 100%|██████████| 4/4 [00:05<00:00,  1.42s/it]\n"
     ]
    },
    {
     "name": "stdout",
     "output_type": "stream",
     "text": [
      "Epoch 6/300 | Train Loss: 0.2736 | Val Loss: 0.2737 | Val MAPE: 1009.66%\n"
     ]
    },
    {
     "name": "stderr",
     "output_type": "stream",
     "text": [
      "Epoch 7/300: 100%|██████████| 4/4 [00:06<00:00,  1.51s/it]\n"
     ]
    },
    {
     "name": "stdout",
     "output_type": "stream",
     "text": [
      "Epoch 7/300 | Train Loss: 0.2445 | Val Loss: 0.2466 | Val MAPE: 623.73%\n"
     ]
    },
    {
     "name": "stderr",
     "output_type": "stream",
     "text": [
      "Epoch 8/300: 100%|██████████| 4/4 [00:05<00:00,  1.34s/it]\n"
     ]
    },
    {
     "name": "stdout",
     "output_type": "stream",
     "text": [
      "Epoch 8/300 | Train Loss: 0.2183 | Val Loss: 0.2239 | Val MAPE: 740.62%\n"
     ]
    },
    {
     "name": "stderr",
     "output_type": "stream",
     "text": [
      "Epoch 9/300: 100%|██████████| 4/4 [00:05<00:00,  1.32s/it]\n"
     ]
    },
    {
     "name": "stdout",
     "output_type": "stream",
     "text": [
      "Epoch 9/300 | Train Loss: 0.1909 | Val Loss: 0.1997 | Val MAPE: 1400.96%\n"
     ]
    },
    {
     "name": "stderr",
     "output_type": "stream",
     "text": [
      "Epoch 10/300: 100%|██████████| 4/4 [00:05<00:00,  1.36s/it]\n"
     ]
    },
    {
     "name": "stdout",
     "output_type": "stream",
     "text": [
      "Epoch 10/300 | Train Loss: 0.1716 | Val Loss: 0.1714 | Val MAPE: 1269.34%\n"
     ]
    },
    {
     "name": "stderr",
     "output_type": "stream",
     "text": [
      "Epoch 11/300: 100%|██████████| 4/4 [00:05<00:00,  1.35s/it]\n"
     ]
    },
    {
     "name": "stdout",
     "output_type": "stream",
     "text": [
      "Epoch 11/300 | Train Loss: 0.1519 | Val Loss: 0.1582 | Val MAPE: 560.45%\n"
     ]
    },
    {
     "name": "stderr",
     "output_type": "stream",
     "text": [
      "Epoch 12/300: 100%|██████████| 4/4 [00:05<00:00,  1.37s/it]\n"
     ]
    },
    {
     "name": "stdout",
     "output_type": "stream",
     "text": [
      "Epoch 12/300 | Train Loss: 0.1397 | Val Loss: 0.1504 | Val MAPE: 480.27%\n"
     ]
    },
    {
     "name": "stderr",
     "output_type": "stream",
     "text": [
      "Epoch 13/300: 100%|██████████| 4/4 [00:05<00:00,  1.41s/it]\n"
     ]
    },
    {
     "name": "stdout",
     "output_type": "stream",
     "text": [
      "Epoch 13/300 | Train Loss: 0.1263 | Val Loss: 0.1415 | Val MAPE: 397.54%\n"
     ]
    },
    {
     "name": "stderr",
     "output_type": "stream",
     "text": [
      "Epoch 14/300: 100%|██████████| 4/4 [00:05<00:00,  1.35s/it]\n"
     ]
    },
    {
     "name": "stdout",
     "output_type": "stream",
     "text": [
      "Epoch 14/300 | Train Loss: 0.1159 | Val Loss: 0.1324 | Val MAPE: 612.28%\n"
     ]
    },
    {
     "name": "stderr",
     "output_type": "stream",
     "text": [
      "Epoch 15/300: 100%|██████████| 4/4 [00:05<00:00,  1.40s/it]\n"
     ]
    },
    {
     "name": "stdout",
     "output_type": "stream",
     "text": [
      "Epoch 15/300 | Train Loss: 0.1097 | Val Loss: 0.1251 | Val MAPE: 581.91%\n"
     ]
    },
    {
     "name": "stderr",
     "output_type": "stream",
     "text": [
      "Epoch 16/300: 100%|██████████| 4/4 [00:05<00:00,  1.35s/it]\n"
     ]
    },
    {
     "name": "stdout",
     "output_type": "stream",
     "text": [
      "Epoch 16/300 | Train Loss: 0.1033 | Val Loss: 0.1214 | Val MAPE: 510.30%\n"
     ]
    },
    {
     "name": "stderr",
     "output_type": "stream",
     "text": [
      "Epoch 17/300: 100%|██████████| 4/4 [00:05<00:00,  1.35s/it]\n"
     ]
    },
    {
     "name": "stdout",
     "output_type": "stream",
     "text": [
      "Epoch 17/300 | Train Loss: 0.0956 | Val Loss: 0.1215 | Val MAPE: 258.60%\n"
     ]
    },
    {
     "name": "stderr",
     "output_type": "stream",
     "text": [
      "Epoch 18/300: 100%|██████████| 4/4 [00:05<00:00,  1.43s/it]\n"
     ]
    },
    {
     "name": "stdout",
     "output_type": "stream",
     "text": [
      "Epoch 18/300 | Train Loss: 0.0900 | Val Loss: 0.1124 | Val MAPE: 431.58%\n"
     ]
    },
    {
     "name": "stderr",
     "output_type": "stream",
     "text": [
      "Epoch 19/300: 100%|██████████| 4/4 [00:05<00:00,  1.39s/it]\n"
     ]
    },
    {
     "name": "stdout",
     "output_type": "stream",
     "text": [
      "Epoch 19/300 | Train Loss: 0.0847 | Val Loss: 0.1124 | Val MAPE: 336.01%\n"
     ]
    },
    {
     "name": "stderr",
     "output_type": "stream",
     "text": [
      "Epoch 20/300: 100%|██████████| 4/4 [00:04<00:00,  1.08s/it]\n"
     ]
    },
    {
     "name": "stdout",
     "output_type": "stream",
     "text": [
      "Epoch 20/300 | Train Loss: 0.0788 | Val Loss: 0.1075 | Val MAPE: 327.49%\n"
     ]
    },
    {
     "name": "stderr",
     "output_type": "stream",
     "text": [
      "Epoch 21/300: 100%|██████████| 4/4 [00:05<00:00,  1.39s/it]\n"
     ]
    },
    {
     "name": "stdout",
     "output_type": "stream",
     "text": [
      "Epoch 21/300 | Train Loss: 0.0748 | Val Loss: 0.1034 | Val MAPE: 245.22%\n"
     ]
    },
    {
     "name": "stderr",
     "output_type": "stream",
     "text": [
      "Epoch 22/300: 100%|██████████| 4/4 [00:05<00:00,  1.38s/it]\n"
     ]
    },
    {
     "name": "stdout",
     "output_type": "stream",
     "text": [
      "Epoch 22/300 | Train Loss: 0.0725 | Val Loss: 0.0990 | Val MAPE: 383.00%\n"
     ]
    },
    {
     "name": "stderr",
     "output_type": "stream",
     "text": [
      "Epoch 23/300: 100%|██████████| 4/4 [00:05<00:00,  1.41s/it]\n"
     ]
    },
    {
     "name": "stdout",
     "output_type": "stream",
     "text": [
      "Epoch 23/300 | Train Loss: 0.0683 | Val Loss: 0.1016 | Val MAPE: 327.52%\n"
     ]
    },
    {
     "name": "stderr",
     "output_type": "stream",
     "text": [
      "Epoch 24/300: 100%|██████████| 4/4 [00:05<00:00,  1.37s/it]\n"
     ]
    },
    {
     "name": "stdout",
     "output_type": "stream",
     "text": [
      "Epoch 24/300 | Train Loss: 0.0644 | Val Loss: 0.0989 | Val MAPE: 461.57%\n"
     ]
    },
    {
     "name": "stderr",
     "output_type": "stream",
     "text": [
      "Epoch 25/300: 100%|██████████| 4/4 [00:05<00:00,  1.38s/it]\n"
     ]
    },
    {
     "name": "stdout",
     "output_type": "stream",
     "text": [
      "Epoch 25/300 | Train Loss: 0.0618 | Val Loss: 0.0967 | Val MAPE: 728.24%\n"
     ]
    },
    {
     "name": "stderr",
     "output_type": "stream",
     "text": [
      "Epoch 26/300: 100%|██████████| 4/4 [00:05<00:00,  1.35s/it]\n"
     ]
    },
    {
     "name": "stdout",
     "output_type": "stream",
     "text": [
      "Epoch 26/300 | Train Loss: 0.0604 | Val Loss: 0.0963 | Val MAPE: 561.87%\n"
     ]
    },
    {
     "name": "stderr",
     "output_type": "stream",
     "text": [
      "Epoch 27/300: 100%|██████████| 4/4 [00:05<00:00,  1.36s/it]\n"
     ]
    },
    {
     "name": "stdout",
     "output_type": "stream",
     "text": [
      "Epoch 27/300 | Train Loss: 0.0582 | Val Loss: 0.0940 | Val MAPE: 299.99%\n"
     ]
    },
    {
     "name": "stderr",
     "output_type": "stream",
     "text": [
      "Epoch 28/300: 100%|██████████| 4/4 [00:05<00:00,  1.33s/it]\n"
     ]
    },
    {
     "name": "stdout",
     "output_type": "stream",
     "text": [
      "Epoch 28/300 | Train Loss: 0.0566 | Val Loss: 0.0948 | Val MAPE: 500.15%\n"
     ]
    },
    {
     "name": "stderr",
     "output_type": "stream",
     "text": [
      "Epoch 29/300: 100%|██████████| 4/4 [00:05<00:00,  1.38s/it]\n"
     ]
    },
    {
     "name": "stdout",
     "output_type": "stream",
     "text": [
      "Epoch 29/300 | Train Loss: 0.0531 | Val Loss: 0.0935 | Val MAPE: 292.26%\n"
     ]
    },
    {
     "name": "stderr",
     "output_type": "stream",
     "text": [
      "Epoch 30/300: 100%|██████████| 4/4 [00:05<00:00,  1.35s/it]\n"
     ]
    },
    {
     "name": "stdout",
     "output_type": "stream",
     "text": [
      "Epoch 30/300 | Train Loss: 0.0510 | Val Loss: 0.0890 | Val MAPE: 468.67%\n"
     ]
    },
    {
     "name": "stderr",
     "output_type": "stream",
     "text": [
      "Epoch 31/300: 100%|██████████| 4/4 [00:05<00:00,  1.50s/it]\n"
     ]
    },
    {
     "name": "stdout",
     "output_type": "stream",
     "text": [
      "Epoch 31/300 | Train Loss: 0.0503 | Val Loss: 0.0929 | Val MAPE: 936.77%\n"
     ]
    },
    {
     "name": "stderr",
     "output_type": "stream",
     "text": [
      "Epoch 32/300: 100%|██████████| 4/4 [00:05<00:00,  1.39s/it]\n"
     ]
    },
    {
     "name": "stdout",
     "output_type": "stream",
     "text": [
      "Epoch 32/300 | Train Loss: 0.0484 | Val Loss: 0.0900 | Val MAPE: 864.52%\n"
     ]
    },
    {
     "name": "stderr",
     "output_type": "stream",
     "text": [
      "Epoch 33/300: 100%|██████████| 4/4 [00:05<00:00,  1.36s/it]\n"
     ]
    },
    {
     "name": "stdout",
     "output_type": "stream",
     "text": [
      "Epoch 33/300 | Train Loss: 0.0467 | Val Loss: 0.0882 | Val MAPE: 771.77%\n"
     ]
    },
    {
     "name": "stderr",
     "output_type": "stream",
     "text": [
      "Epoch 34/300: 100%|██████████| 4/4 [00:05<00:00,  1.37s/it]\n"
     ]
    },
    {
     "name": "stdout",
     "output_type": "stream",
     "text": [
      "Epoch 34/300 | Train Loss: 0.0455 | Val Loss: 0.0872 | Val MAPE: 325.11%\n"
     ]
    },
    {
     "name": "stderr",
     "output_type": "stream",
     "text": [
      "Epoch 35/300: 100%|██████████| 4/4 [00:05<00:00,  1.40s/it]\n"
     ]
    },
    {
     "name": "stdout",
     "output_type": "stream",
     "text": [
      "Epoch 35/300 | Train Loss: 0.0442 | Val Loss: 0.0877 | Val MAPE: 584.90%\n"
     ]
    },
    {
     "name": "stderr",
     "output_type": "stream",
     "text": [
      "Epoch 36/300: 100%|██████████| 4/4 [00:05<00:00,  1.40s/it]\n"
     ]
    },
    {
     "name": "stdout",
     "output_type": "stream",
     "text": [
      "Epoch 36/300 | Train Loss: 0.0430 | Val Loss: 0.0868 | Val MAPE: 755.42%\n"
     ]
    },
    {
     "name": "stderr",
     "output_type": "stream",
     "text": [
      "Epoch 37/300: 100%|██████████| 4/4 [00:05<00:00,  1.42s/it]\n"
     ]
    },
    {
     "name": "stdout",
     "output_type": "stream",
     "text": [
      "Epoch 37/300 | Train Loss: 0.0424 | Val Loss: 0.0879 | Val MAPE: 744.03%\n"
     ]
    },
    {
     "name": "stderr",
     "output_type": "stream",
     "text": [
      "Epoch 38/300: 100%|██████████| 4/4 [00:05<00:00,  1.39s/it]\n"
     ]
    },
    {
     "name": "stdout",
     "output_type": "stream",
     "text": [
      "Epoch 38/300 | Train Loss: 0.0410 | Val Loss: 0.0864 | Val MAPE: 484.61%\n"
     ]
    },
    {
     "name": "stderr",
     "output_type": "stream",
     "text": [
      "Epoch 39/300: 100%|██████████| 4/4 [00:05<00:00,  1.43s/it]\n"
     ]
    },
    {
     "name": "stdout",
     "output_type": "stream",
     "text": [
      "Epoch 39/300 | Train Loss: 0.0397 | Val Loss: 0.0832 | Val MAPE: 327.17%\n"
     ]
    },
    {
     "name": "stderr",
     "output_type": "stream",
     "text": [
      "Epoch 40/300: 100%|██████████| 4/4 [00:05<00:00,  1.42s/it]\n"
     ]
    },
    {
     "name": "stdout",
     "output_type": "stream",
     "text": [
      "Epoch 40/300 | Train Loss: 0.0382 | Val Loss: 0.0807 | Val MAPE: 885.39%\n"
     ]
    },
    {
     "name": "stderr",
     "output_type": "stream",
     "text": [
      "Epoch 41/300: 100%|██████████| 4/4 [00:05<00:00,  1.41s/it]\n"
     ]
    },
    {
     "name": "stdout",
     "output_type": "stream",
     "text": [
      "Epoch 41/300 | Train Loss: 0.0365 | Val Loss: 0.0805 | Val MAPE: 771.09%\n"
     ]
    },
    {
     "name": "stderr",
     "output_type": "stream",
     "text": [
      "Epoch 42/300: 100%|██████████| 4/4 [00:05<00:00,  1.40s/it]\n"
     ]
    },
    {
     "name": "stdout",
     "output_type": "stream",
     "text": [
      "Epoch 42/300 | Train Loss: 0.0364 | Val Loss: 0.0814 | Val MAPE: 831.48%\n"
     ]
    },
    {
     "name": "stderr",
     "output_type": "stream",
     "text": [
      "Epoch 43/300: 100%|██████████| 4/4 [00:05<00:00,  1.41s/it]\n"
     ]
    },
    {
     "name": "stdout",
     "output_type": "stream",
     "text": [
      "Epoch 43/300 | Train Loss: 0.0351 | Val Loss: 0.0807 | Val MAPE: 697.03%\n"
     ]
    },
    {
     "name": "stderr",
     "output_type": "stream",
     "text": [
      "Epoch 44/300: 100%|██████████| 4/4 [00:05<00:00,  1.42s/it]\n"
     ]
    },
    {
     "name": "stdout",
     "output_type": "stream",
     "text": [
      "Epoch 44/300 | Train Loss: 0.0345 | Val Loss: 0.0802 | Val MAPE: 933.39%\n"
     ]
    },
    {
     "name": "stderr",
     "output_type": "stream",
     "text": [
      "Epoch 45/300: 100%|██████████| 4/4 [00:05<00:00,  1.42s/it]\n"
     ]
    },
    {
     "name": "stdout",
     "output_type": "stream",
     "text": [
      "Epoch 45/300 | Train Loss: 0.0349 | Val Loss: 0.0797 | Val MAPE: 721.70%\n"
     ]
    },
    {
     "name": "stderr",
     "output_type": "stream",
     "text": [
      "Epoch 46/300: 100%|██████████| 4/4 [00:05<00:00,  1.37s/it]\n"
     ]
    },
    {
     "name": "stdout",
     "output_type": "stream",
     "text": [
      "Epoch 46/300 | Train Loss: 0.0335 | Val Loss: 0.0778 | Val MAPE: 530.65%\n"
     ]
    },
    {
     "name": "stderr",
     "output_type": "stream",
     "text": [
      "Epoch 47/300: 100%|██████████| 4/4 [00:05<00:00,  1.39s/it]\n"
     ]
    },
    {
     "name": "stdout",
     "output_type": "stream",
     "text": [
      "Epoch 47/300 | Train Loss: 0.0329 | Val Loss: 0.0757 | Val MAPE: 540.46%\n"
     ]
    },
    {
     "name": "stderr",
     "output_type": "stream",
     "text": [
      "Epoch 48/300: 100%|██████████| 4/4 [00:05<00:00,  1.41s/it]\n"
     ]
    },
    {
     "name": "stdout",
     "output_type": "stream",
     "text": [
      "Epoch 48/300 | Train Loss: 0.0328 | Val Loss: 0.0780 | Val MAPE: 631.86%\n"
     ]
    },
    {
     "name": "stderr",
     "output_type": "stream",
     "text": [
      "Epoch 49/300: 100%|██████████| 4/4 [00:05<00:00,  1.41s/it]\n"
     ]
    },
    {
     "name": "stdout",
     "output_type": "stream",
     "text": [
      "Epoch 49/300 | Train Loss: 0.0314 | Val Loss: 0.0776 | Val MAPE: 683.13%\n"
     ]
    },
    {
     "name": "stderr",
     "output_type": "stream",
     "text": [
      "Epoch 50/300: 100%|██████████| 4/4 [00:05<00:00,  1.41s/it]\n"
     ]
    },
    {
     "name": "stdout",
     "output_type": "stream",
     "text": [
      "Epoch 50/300 | Train Loss: 0.0307 | Val Loss: 0.0763 | Val MAPE: 991.20%\n"
     ]
    },
    {
     "name": "stderr",
     "output_type": "stream",
     "text": [
      "Epoch 51/300: 100%|██████████| 4/4 [00:05<00:00,  1.39s/it]\n"
     ]
    },
    {
     "name": "stdout",
     "output_type": "stream",
     "text": [
      "Epoch 51/300 | Train Loss: 0.0304 | Val Loss: 0.0787 | Val MAPE: 958.73%\n"
     ]
    },
    {
     "name": "stderr",
     "output_type": "stream",
     "text": [
      "Epoch 52/300: 100%|██████████| 4/4 [00:05<00:00,  1.40s/it]\n"
     ]
    },
    {
     "name": "stdout",
     "output_type": "stream",
     "text": [
      "Epoch 52/300 | Train Loss: 0.0308 | Val Loss: 0.0738 | Val MAPE: 836.95%\n"
     ]
    },
    {
     "name": "stderr",
     "output_type": "stream",
     "text": [
      "Epoch 53/300: 100%|██████████| 4/4 [00:05<00:00,  1.43s/it]\n"
     ]
    },
    {
     "name": "stdout",
     "output_type": "stream",
     "text": [
      "Epoch 53/300 | Train Loss: 0.0297 | Val Loss: 0.0742 | Val MAPE: 874.59%\n"
     ]
    },
    {
     "name": "stderr",
     "output_type": "stream",
     "text": [
      "Epoch 54/300: 100%|██████████| 4/4 [00:05<00:00,  1.40s/it]\n"
     ]
    },
    {
     "name": "stdout",
     "output_type": "stream",
     "text": [
      "Epoch 54/300 | Train Loss: 0.0287 | Val Loss: 0.0756 | Val MAPE: 795.92%\n"
     ]
    },
    {
     "name": "stderr",
     "output_type": "stream",
     "text": [
      "Epoch 55/300: 100%|██████████| 4/4 [00:05<00:00,  1.44s/it]\n"
     ]
    },
    {
     "name": "stdout",
     "output_type": "stream",
     "text": [
      "Epoch 55/300 | Train Loss: 0.0276 | Val Loss: 0.0736 | Val MAPE: 861.16%\n"
     ]
    },
    {
     "name": "stderr",
     "output_type": "stream",
     "text": [
      "Epoch 56/300: 100%|██████████| 4/4 [00:05<00:00,  1.39s/it]\n"
     ]
    },
    {
     "name": "stdout",
     "output_type": "stream",
     "text": [
      "Epoch 56/300 | Train Loss: 0.0273 | Val Loss: 0.0718 | Val MAPE: 833.84%\n"
     ]
    },
    {
     "name": "stderr",
     "output_type": "stream",
     "text": [
      "Epoch 57/300: 100%|██████████| 4/4 [00:05<00:00,  1.40s/it]\n"
     ]
    },
    {
     "name": "stdout",
     "output_type": "stream",
     "text": [
      "Epoch 57/300 | Train Loss: 0.0266 | Val Loss: 0.0726 | Val MAPE: 758.30%\n"
     ]
    },
    {
     "name": "stderr",
     "output_type": "stream",
     "text": [
      "Epoch 58/300: 100%|██████████| 4/4 [00:05<00:00,  1.40s/it]\n"
     ]
    },
    {
     "name": "stdout",
     "output_type": "stream",
     "text": [
      "Epoch 58/300 | Train Loss: 0.0264 | Val Loss: 0.0752 | Val MAPE: 861.15%\n"
     ]
    },
    {
     "name": "stderr",
     "output_type": "stream",
     "text": [
      "Epoch 59/300: 100%|██████████| 4/4 [00:05<00:00,  1.40s/it]\n"
     ]
    },
    {
     "name": "stdout",
     "output_type": "stream",
     "text": [
      "Epoch 59/300 | Train Loss: 0.0257 | Val Loss: 0.0722 | Val MAPE: 871.36%\n"
     ]
    },
    {
     "name": "stderr",
     "output_type": "stream",
     "text": [
      "Epoch 60/300: 100%|██████████| 4/4 [00:05<00:00,  1.45s/it]\n"
     ]
    },
    {
     "name": "stdout",
     "output_type": "stream",
     "text": [
      "Epoch 60/300 | Train Loss: 0.0252 | Val Loss: 0.0717 | Val MAPE: 860.49%\n"
     ]
    },
    {
     "name": "stderr",
     "output_type": "stream",
     "text": [
      "Epoch 61/300: 100%|██████████| 4/4 [00:05<00:00,  1.47s/it]\n"
     ]
    },
    {
     "name": "stdout",
     "output_type": "stream",
     "text": [
      "Epoch 61/300 | Train Loss: 0.0243 | Val Loss: 0.0709 | Val MAPE: 802.14%\n"
     ]
    },
    {
     "name": "stderr",
     "output_type": "stream",
     "text": [
      "Epoch 62/300: 100%|██████████| 4/4 [00:05<00:00,  1.48s/it]\n"
     ]
    },
    {
     "name": "stdout",
     "output_type": "stream",
     "text": [
      "Epoch 62/300 | Train Loss: 0.0247 | Val Loss: 0.0675 | Val MAPE: 937.11%\n"
     ]
    },
    {
     "name": "stderr",
     "output_type": "stream",
     "text": [
      "Epoch 63/300: 100%|██████████| 4/4 [00:06<00:00,  1.52s/it]\n"
     ]
    },
    {
     "name": "stdout",
     "output_type": "stream",
     "text": [
      "Epoch 63/300 | Train Loss: 0.0238 | Val Loss: 0.0694 | Val MAPE: 805.91%\n"
     ]
    },
    {
     "name": "stderr",
     "output_type": "stream",
     "text": [
      "Epoch 64/300: 100%|██████████| 4/4 [00:06<00:00,  1.51s/it]\n"
     ]
    },
    {
     "name": "stdout",
     "output_type": "stream",
     "text": [
      "Epoch 64/300 | Train Loss: 0.0235 | Val Loss: 0.0688 | Val MAPE: 871.57%\n"
     ]
    },
    {
     "name": "stderr",
     "output_type": "stream",
     "text": [
      "Epoch 65/300: 100%|██████████| 4/4 [00:05<00:00,  1.48s/it]\n"
     ]
    },
    {
     "name": "stdout",
     "output_type": "stream",
     "text": [
      "Epoch 65/300 | Train Loss: 0.0234 | Val Loss: 0.0702 | Val MAPE: 665.26%\n"
     ]
    },
    {
     "name": "stderr",
     "output_type": "stream",
     "text": [
      "Epoch 66/300: 100%|██████████| 4/4 [00:06<00:00,  1.66s/it]\n"
     ]
    },
    {
     "name": "stdout",
     "output_type": "stream",
     "text": [
      "Epoch 66/300 | Train Loss: 0.0234 | Val Loss: 0.0686 | Val MAPE: 603.42%\n"
     ]
    },
    {
     "name": "stderr",
     "output_type": "stream",
     "text": [
      "Epoch 67/300: 100%|██████████| 4/4 [00:08<00:00,  2.03s/it]\n"
     ]
    },
    {
     "name": "stdout",
     "output_type": "stream",
     "text": [
      "Epoch 67/300 | Train Loss: 0.0232 | Val Loss: 0.0696 | Val MAPE: 626.11%\n"
     ]
    },
    {
     "name": "stderr",
     "output_type": "stream",
     "text": [
      "Epoch 68/300: 100%|██████████| 4/4 [00:08<00:00,  2.01s/it]\n"
     ]
    },
    {
     "name": "stdout",
     "output_type": "stream",
     "text": [
      "Epoch 68/300 | Train Loss: 0.0221 | Val Loss: 0.0681 | Val MAPE: 702.82%\n"
     ]
    },
    {
     "name": "stderr",
     "output_type": "stream",
     "text": [
      "Epoch 69/300: 100%|██████████| 4/4 [00:08<00:00,  2.08s/it]\n"
     ]
    },
    {
     "name": "stdout",
     "output_type": "stream",
     "text": [
      "Epoch 69/300 | Train Loss: 0.0220 | Val Loss: 0.0702 | Val MAPE: 697.24%\n"
     ]
    },
    {
     "name": "stderr",
     "output_type": "stream",
     "text": [
      "Epoch 70/300: 100%|██████████| 4/4 [00:08<00:00,  2.06s/it]\n"
     ]
    },
    {
     "name": "stdout",
     "output_type": "stream",
     "text": [
      "Epoch 70/300 | Train Loss: 0.0215 | Val Loss: 0.0690 | Val MAPE: 736.90%\n"
     ]
    },
    {
     "name": "stderr",
     "output_type": "stream",
     "text": [
      "Epoch 71/300: 100%|██████████| 4/4 [00:08<00:00,  2.04s/it]\n"
     ]
    },
    {
     "name": "stdout",
     "output_type": "stream",
     "text": [
      "Epoch 71/300 | Train Loss: 0.0214 | Val Loss: 0.0678 | Val MAPE: 822.53%\n"
     ]
    },
    {
     "name": "stderr",
     "output_type": "stream",
     "text": [
      "Epoch 72/300: 100%|██████████| 4/4 [00:08<00:00,  2.05s/it]\n"
     ]
    },
    {
     "name": "stdout",
     "output_type": "stream",
     "text": [
      "Epoch 72/300 | Train Loss: 0.0213 | Val Loss: 0.0679 | Val MAPE: 663.83%\n"
     ]
    },
    {
     "name": "stderr",
     "output_type": "stream",
     "text": [
      "Epoch 73/300: 100%|██████████| 4/4 [00:08<00:00,  2.08s/it]\n"
     ]
    },
    {
     "name": "stdout",
     "output_type": "stream",
     "text": [
      "Epoch 73/300 | Train Loss: 0.0210 | Val Loss: 0.0655 | Val MAPE: 586.82%\n"
     ]
    },
    {
     "name": "stderr",
     "output_type": "stream",
     "text": [
      "Epoch 74/300: 100%|██████████| 4/4 [00:08<00:00,  2.06s/it]\n"
     ]
    },
    {
     "name": "stdout",
     "output_type": "stream",
     "text": [
      "Epoch 74/300 | Train Loss: 0.0203 | Val Loss: 0.0653 | Val MAPE: 465.75%\n"
     ]
    },
    {
     "name": "stderr",
     "output_type": "stream",
     "text": [
      "Epoch 75/300: 100%|██████████| 4/4 [00:08<00:00,  2.09s/it]\n"
     ]
    },
    {
     "name": "stdout",
     "output_type": "stream",
     "text": [
      "Epoch 75/300 | Train Loss: 0.0205 | Val Loss: 0.0641 | Val MAPE: 875.56%\n"
     ]
    },
    {
     "name": "stderr",
     "output_type": "stream",
     "text": [
      "Epoch 76/300: 100%|██████████| 4/4 [00:08<00:00,  2.07s/it]\n"
     ]
    },
    {
     "name": "stdout",
     "output_type": "stream",
     "text": [
      "Epoch 76/300 | Train Loss: 0.0201 | Val Loss: 0.0651 | Val MAPE: 990.56%\n"
     ]
    },
    {
     "name": "stderr",
     "output_type": "stream",
     "text": [
      "Epoch 77/300: 100%|██████████| 4/4 [00:08<00:00,  2.11s/it]\n"
     ]
    },
    {
     "name": "stdout",
     "output_type": "stream",
     "text": [
      "Epoch 77/300 | Train Loss: 0.0197 | Val Loss: 0.0659 | Val MAPE: 768.13%\n"
     ]
    },
    {
     "name": "stderr",
     "output_type": "stream",
     "text": [
      "Epoch 78/300: 100%|██████████| 4/4 [00:08<00:00,  2.10s/it]\n"
     ]
    },
    {
     "name": "stdout",
     "output_type": "stream",
     "text": [
      "Epoch 78/300 | Train Loss: 0.0197 | Val Loss: 0.0659 | Val MAPE: 866.53%\n"
     ]
    },
    {
     "name": "stderr",
     "output_type": "stream",
     "text": [
      "Epoch 79/300: 100%|██████████| 4/4 [00:08<00:00,  2.07s/it]\n"
     ]
    },
    {
     "name": "stdout",
     "output_type": "stream",
     "text": [
      "Epoch 79/300 | Train Loss: 0.0193 | Val Loss: 0.0645 | Val MAPE: 763.35%\n"
     ]
    },
    {
     "name": "stderr",
     "output_type": "stream",
     "text": [
      "Epoch 80/300: 100%|██████████| 4/4 [00:08<00:00,  2.10s/it]\n"
     ]
    },
    {
     "name": "stdout",
     "output_type": "stream",
     "text": [
      "Epoch 80/300 | Train Loss: 0.0187 | Val Loss: 0.0639 | Val MAPE: 798.55%\n"
     ]
    },
    {
     "name": "stderr",
     "output_type": "stream",
     "text": [
      "Epoch 81/300: 100%|██████████| 4/4 [00:08<00:00,  2.07s/it]\n"
     ]
    },
    {
     "name": "stdout",
     "output_type": "stream",
     "text": [
      "Epoch 81/300 | Train Loss: 0.0191 | Val Loss: 0.0642 | Val MAPE: 800.18%\n"
     ]
    },
    {
     "name": "stderr",
     "output_type": "stream",
     "text": [
      "Epoch 82/300: 100%|██████████| 4/4 [00:07<00:00,  1.99s/it]\n"
     ]
    },
    {
     "name": "stdout",
     "output_type": "stream",
     "text": [
      "Epoch 82/300 | Train Loss: 0.0186 | Val Loss: 0.0657 | Val MAPE: 808.60%\n"
     ]
    },
    {
     "name": "stderr",
     "output_type": "stream",
     "text": [
      "Epoch 83/300: 100%|██████████| 4/4 [00:08<00:00,  2.07s/it]\n"
     ]
    },
    {
     "name": "stdout",
     "output_type": "stream",
     "text": [
      "Epoch 83/300 | Train Loss: 0.0184 | Val Loss: 0.0622 | Val MAPE: 596.59%\n"
     ]
    },
    {
     "name": "stderr",
     "output_type": "stream",
     "text": [
      "Epoch 84/300: 100%|██████████| 4/4 [00:08<00:00,  2.05s/it]\n"
     ]
    },
    {
     "name": "stdout",
     "output_type": "stream",
     "text": [
      "Epoch 84/300 | Train Loss: 0.0189 | Val Loss: 0.0628 | Val MAPE: 689.66%\n"
     ]
    },
    {
     "name": "stderr",
     "output_type": "stream",
     "text": [
      "Epoch 85/300: 100%|██████████| 4/4 [00:08<00:00,  2.22s/it]\n"
     ]
    },
    {
     "name": "stdout",
     "output_type": "stream",
     "text": [
      "Epoch 85/300 | Train Loss: 0.0184 | Val Loss: 0.0656 | Val MAPE: 608.05%\n"
     ]
    },
    {
     "name": "stderr",
     "output_type": "stream",
     "text": [
      "Epoch 86/300: 100%|██████████| 4/4 [00:08<00:00,  2.09s/it]\n"
     ]
    },
    {
     "name": "stdout",
     "output_type": "stream",
     "text": [
      "Epoch 86/300 | Train Loss: 0.0179 | Val Loss: 0.0645 | Val MAPE: 601.03%\n"
     ]
    },
    {
     "name": "stderr",
     "output_type": "stream",
     "text": [
      "Epoch 87/300: 100%|██████████| 4/4 [00:08<00:00,  2.20s/it]\n"
     ]
    },
    {
     "name": "stdout",
     "output_type": "stream",
     "text": [
      "Epoch 87/300 | Train Loss: 0.0173 | Val Loss: 0.0632 | Val MAPE: 457.86%\n"
     ]
    },
    {
     "name": "stderr",
     "output_type": "stream",
     "text": [
      "Epoch 88/300: 100%|██████████| 4/4 [00:08<00:00,  2.12s/it]\n"
     ]
    },
    {
     "name": "stdout",
     "output_type": "stream",
     "text": [
      "Epoch 88/300 | Train Loss: 0.0174 | Val Loss: 0.0644 | Val MAPE: 557.79%\n"
     ]
    },
    {
     "name": "stderr",
     "output_type": "stream",
     "text": [
      "Epoch 89/300: 100%|██████████| 4/4 [00:09<00:00,  2.27s/it]\n"
     ]
    },
    {
     "name": "stdout",
     "output_type": "stream",
     "text": [
      "Epoch 89/300 | Train Loss: 0.0166 | Val Loss: 0.0647 | Val MAPE: 624.34%\n"
     ]
    },
    {
     "name": "stderr",
     "output_type": "stream",
     "text": [
      "Epoch 90/300: 100%|██████████| 4/4 [00:08<00:00,  2.16s/it]\n"
     ]
    },
    {
     "name": "stdout",
     "output_type": "stream",
     "text": [
      "Epoch 90/300 | Train Loss: 0.0170 | Val Loss: 0.0652 | Val MAPE: 428.45%\n"
     ]
    },
    {
     "name": "stderr",
     "output_type": "stream",
     "text": [
      "Epoch 91/300: 100%|██████████| 4/4 [00:08<00:00,  2.17s/it]\n"
     ]
    },
    {
     "name": "stdout",
     "output_type": "stream",
     "text": [
      "Epoch 91/300 | Train Loss: 0.0168 | Val Loss: 0.0641 | Val MAPE: 510.46%\n"
     ]
    },
    {
     "name": "stderr",
     "output_type": "stream",
     "text": [
      "Epoch 92/300: 100%|██████████| 4/4 [00:09<00:00,  2.26s/it]\n"
     ]
    },
    {
     "name": "stdout",
     "output_type": "stream",
     "text": [
      "Epoch 92/300 | Train Loss: 0.0169 | Val Loss: 0.0621 | Val MAPE: 635.27%\n"
     ]
    },
    {
     "name": "stderr",
     "output_type": "stream",
     "text": [
      "Epoch 93/300: 100%|██████████| 4/4 [00:08<00:00,  2.21s/it]\n"
     ]
    },
    {
     "name": "stdout",
     "output_type": "stream",
     "text": [
      "Epoch 93/300 | Train Loss: 0.0166 | Val Loss: 0.0623 | Val MAPE: 534.11%\n"
     ]
    },
    {
     "name": "stderr",
     "output_type": "stream",
     "text": [
      "Epoch 94/300: 100%|██████████| 4/4 [00:08<00:00,  2.24s/it]\n"
     ]
    },
    {
     "name": "stdout",
     "output_type": "stream",
     "text": [
      "Epoch 94/300 | Train Loss: 0.0165 | Val Loss: 0.0623 | Val MAPE: 425.75%\n"
     ]
    },
    {
     "name": "stderr",
     "output_type": "stream",
     "text": [
      "Epoch 95/300: 100%|██████████| 4/4 [00:08<00:00,  2.19s/it]\n"
     ]
    },
    {
     "name": "stdout",
     "output_type": "stream",
     "text": [
      "Epoch 95/300 | Train Loss: 0.0162 | Val Loss: 0.0618 | Val MAPE: 637.14%\n"
     ]
    },
    {
     "name": "stderr",
     "output_type": "stream",
     "text": [
      "Epoch 96/300: 100%|██████████| 4/4 [00:08<00:00,  2.19s/it]\n"
     ]
    },
    {
     "name": "stdout",
     "output_type": "stream",
     "text": [
      "Epoch 96/300 | Train Loss: 0.0166 | Val Loss: 0.0595 | Val MAPE: 726.33%\n"
     ]
    },
    {
     "name": "stderr",
     "output_type": "stream",
     "text": [
      "Epoch 97/300: 100%|██████████| 4/4 [00:08<00:00,  2.18s/it]\n"
     ]
    },
    {
     "name": "stdout",
     "output_type": "stream",
     "text": [
      "Epoch 97/300 | Train Loss: 0.0163 | Val Loss: 0.0596 | Val MAPE: 612.75%\n"
     ]
    },
    {
     "name": "stderr",
     "output_type": "stream",
     "text": [
      "Epoch 98/300: 100%|██████████| 4/4 [00:08<00:00,  2.18s/it]\n"
     ]
    },
    {
     "name": "stdout",
     "output_type": "stream",
     "text": [
      "Epoch 98/300 | Train Loss: 0.0159 | Val Loss: 0.0587 | Val MAPE: 580.90%\n"
     ]
    },
    {
     "name": "stderr",
     "output_type": "stream",
     "text": [
      "Epoch 99/300: 100%|██████████| 4/4 [00:08<00:00,  2.04s/it]\n"
     ]
    },
    {
     "name": "stdout",
     "output_type": "stream",
     "text": [
      "Epoch 99/300 | Train Loss: 0.0155 | Val Loss: 0.0590 | Val MAPE: 725.82%\n"
     ]
    },
    {
     "name": "stderr",
     "output_type": "stream",
     "text": [
      "Epoch 100/300: 100%|██████████| 4/4 [00:08<00:00,  2.05s/it]\n"
     ]
    },
    {
     "name": "stdout",
     "output_type": "stream",
     "text": [
      "Epoch 100/300 | Train Loss: 0.0156 | Val Loss: 0.0597 | Val MAPE: 660.30%\n"
     ]
    },
    {
     "name": "stderr",
     "output_type": "stream",
     "text": [
      "Epoch 101/300: 100%|██████████| 4/4 [00:08<00:00,  2.06s/it]\n"
     ]
    },
    {
     "name": "stdout",
     "output_type": "stream",
     "text": [
      "Epoch 101/300 | Train Loss: 0.0152 | Val Loss: 0.0598 | Val MAPE: 671.77%\n"
     ]
    },
    {
     "name": "stderr",
     "output_type": "stream",
     "text": [
      "Epoch 102/300: 100%|██████████| 4/4 [00:09<00:00,  2.26s/it]\n"
     ]
    },
    {
     "name": "stdout",
     "output_type": "stream",
     "text": [
      "Epoch 102/300 | Train Loss: 0.0152 | Val Loss: 0.0592 | Val MAPE: 535.00%\n"
     ]
    },
    {
     "name": "stderr",
     "output_type": "stream",
     "text": [
      "Epoch 103/300: 100%|██████████| 4/4 [00:08<00:00,  2.09s/it]\n"
     ]
    },
    {
     "name": "stdout",
     "output_type": "stream",
     "text": [
      "Epoch 103/300 | Train Loss: 0.0151 | Val Loss: 0.0579 | Val MAPE: 449.90%\n"
     ]
    },
    {
     "name": "stderr",
     "output_type": "stream",
     "text": [
      "Epoch 104/300: 100%|██████████| 4/4 [00:09<00:00,  2.26s/it]\n"
     ]
    },
    {
     "name": "stdout",
     "output_type": "stream",
     "text": [
      "Epoch 104/300 | Train Loss: 0.0150 | Val Loss: 0.0576 | Val MAPE: 522.78%\n"
     ]
    },
    {
     "name": "stderr",
     "output_type": "stream",
     "text": [
      "Epoch 105/300: 100%|██████████| 4/4 [00:09<00:00,  2.39s/it]\n"
     ]
    },
    {
     "name": "stdout",
     "output_type": "stream",
     "text": [
      "Epoch 105/300 | Train Loss: 0.0150 | Val Loss: 0.0589 | Val MAPE: 575.58%\n"
     ]
    },
    {
     "name": "stderr",
     "output_type": "stream",
     "text": [
      "Epoch 106/300: 100%|██████████| 4/4 [00:08<00:00,  2.19s/it]\n"
     ]
    },
    {
     "name": "stdout",
     "output_type": "stream",
     "text": [
      "Epoch 106/300 | Train Loss: 0.0151 | Val Loss: 0.0585 | Val MAPE: 571.38%\n"
     ]
    },
    {
     "name": "stderr",
     "output_type": "stream",
     "text": [
      "Epoch 107/300: 100%|██████████| 4/4 [00:09<00:00,  2.26s/it]\n"
     ]
    },
    {
     "name": "stdout",
     "output_type": "stream",
     "text": [
      "Epoch 107/300 | Train Loss: 0.0143 | Val Loss: 0.0603 | Val MAPE: 599.55%\n"
     ]
    },
    {
     "name": "stderr",
     "output_type": "stream",
     "text": [
      "Epoch 108/300: 100%|██████████| 4/4 [00:08<00:00,  2.11s/it]\n"
     ]
    },
    {
     "name": "stdout",
     "output_type": "stream",
     "text": [
      "Epoch 108/300 | Train Loss: 0.0147 | Val Loss: 0.0598 | Val MAPE: 643.94%\n"
     ]
    },
    {
     "name": "stderr",
     "output_type": "stream",
     "text": [
      "Epoch 109/300: 100%|██████████| 4/4 [00:08<00:00,  2.13s/it]\n"
     ]
    },
    {
     "name": "stdout",
     "output_type": "stream",
     "text": [
      "Epoch 109/300 | Train Loss: 0.0147 | Val Loss: 0.0579 | Val MAPE: 452.04%\n"
     ]
    },
    {
     "name": "stderr",
     "output_type": "stream",
     "text": [
      "Epoch 110/300: 100%|██████████| 4/4 [00:09<00:00,  2.35s/it]\n"
     ]
    },
    {
     "name": "stdout",
     "output_type": "stream",
     "text": [
      "Epoch 110/300 | Train Loss: 0.0145 | Val Loss: 0.0579 | Val MAPE: 668.13%\n"
     ]
    },
    {
     "name": "stderr",
     "output_type": "stream",
     "text": [
      "Epoch 111/300: 100%|██████████| 4/4 [00:09<00:00,  2.30s/it]\n"
     ]
    },
    {
     "name": "stdout",
     "output_type": "stream",
     "text": [
      "Epoch 111/300 | Train Loss: 0.0142 | Val Loss: 0.0596 | Val MAPE: 653.74%\n"
     ]
    },
    {
     "name": "stderr",
     "output_type": "stream",
     "text": [
      "Epoch 112/300: 100%|██████████| 4/4 [00:05<00:00,  1.50s/it]\n"
     ]
    },
    {
     "name": "stdout",
     "output_type": "stream",
     "text": [
      "Epoch 112/300 | Train Loss: 0.0148 | Val Loss: 0.0578 | Val MAPE: 583.34%\n"
     ]
    },
    {
     "name": "stderr",
     "output_type": "stream",
     "text": [
      "Epoch 113/300: 100%|██████████| 4/4 [00:05<00:00,  1.40s/it]\n"
     ]
    },
    {
     "name": "stdout",
     "output_type": "stream",
     "text": [
      "Epoch 113/300 | Train Loss: 0.0139 | Val Loss: 0.0574 | Val MAPE: 718.51%\n"
     ]
    },
    {
     "name": "stderr",
     "output_type": "stream",
     "text": [
      "Epoch 114/300: 100%|██████████| 4/4 [00:05<00:00,  1.38s/it]\n"
     ]
    },
    {
     "name": "stdout",
     "output_type": "stream",
     "text": [
      "Epoch 114/300 | Train Loss: 0.0142 | Val Loss: 0.0577 | Val MAPE: 365.10%\n"
     ]
    },
    {
     "name": "stderr",
     "output_type": "stream",
     "text": [
      "Epoch 115/300: 100%|██████████| 4/4 [00:05<00:00,  1.37s/it]\n"
     ]
    },
    {
     "name": "stdout",
     "output_type": "stream",
     "text": [
      "Epoch 115/300 | Train Loss: 0.0137 | Val Loss: 0.0581 | Val MAPE: 465.65%\n"
     ]
    },
    {
     "name": "stderr",
     "output_type": "stream",
     "text": [
      "Epoch 116/300: 100%|██████████| 4/4 [00:05<00:00,  1.40s/it]\n"
     ]
    },
    {
     "name": "stdout",
     "output_type": "stream",
     "text": [
      "Epoch 116/300 | Train Loss: 0.0137 | Val Loss: 0.0579 | Val MAPE: 410.43%\n"
     ]
    },
    {
     "name": "stderr",
     "output_type": "stream",
     "text": [
      "Epoch 117/300: 100%|██████████| 4/4 [00:05<00:00,  1.44s/it]\n"
     ]
    },
    {
     "name": "stdout",
     "output_type": "stream",
     "text": [
      "Epoch 117/300 | Train Loss: 0.0137 | Val Loss: 0.0586 | Val MAPE: 580.21%\n"
     ]
    },
    {
     "name": "stderr",
     "output_type": "stream",
     "text": [
      "Epoch 118/300: 100%|██████████| 4/4 [00:05<00:00,  1.35s/it]\n"
     ]
    },
    {
     "name": "stdout",
     "output_type": "stream",
     "text": [
      "Epoch 118/300 | Train Loss: 0.0134 | Val Loss: 0.0589 | Val MAPE: 451.38%\n"
     ]
    },
    {
     "name": "stderr",
     "output_type": "stream",
     "text": [
      "Epoch 119/300: 100%|██████████| 4/4 [00:05<00:00,  1.40s/it]\n"
     ]
    },
    {
     "name": "stdout",
     "output_type": "stream",
     "text": [
      "Epoch 119/300 | Train Loss: 0.0136 | Val Loss: 0.0580 | Val MAPE: 487.15%\n"
     ]
    },
    {
     "name": "stderr",
     "output_type": "stream",
     "text": [
      "Epoch 120/300: 100%|██████████| 4/4 [00:05<00:00,  1.45s/it]\n"
     ]
    },
    {
     "name": "stdout",
     "output_type": "stream",
     "text": [
      "Epoch 120/300 | Train Loss: 0.0132 | Val Loss: 0.0588 | Val MAPE: 318.15%\n"
     ]
    },
    {
     "name": "stderr",
     "output_type": "stream",
     "text": [
      "Epoch 121/300: 100%|██████████| 4/4 [00:05<00:00,  1.41s/it]\n"
     ]
    },
    {
     "name": "stdout",
     "output_type": "stream",
     "text": [
      "Epoch 121/300 | Train Loss: 0.0132 | Val Loss: 0.0593 | Val MAPE: 352.01%\n"
     ]
    },
    {
     "name": "stderr",
     "output_type": "stream",
     "text": [
      "Epoch 122/300: 100%|██████████| 4/4 [00:05<00:00,  1.33s/it]\n"
     ]
    },
    {
     "name": "stdout",
     "output_type": "stream",
     "text": [
      "Epoch 122/300 | Train Loss: 0.0130 | Val Loss: 0.0590 | Val MAPE: 449.50%\n"
     ]
    },
    {
     "name": "stderr",
     "output_type": "stream",
     "text": [
      "Epoch 123/300: 100%|██████████| 4/4 [00:07<00:00,  1.95s/it]\n"
     ]
    },
    {
     "name": "stdout",
     "output_type": "stream",
     "text": [
      "Epoch 123/300 | Train Loss: 0.0129 | Val Loss: 0.0583 | Val MAPE: 513.98%\n"
     ]
    },
    {
     "name": "stderr",
     "output_type": "stream",
     "text": [
      "Epoch 124/300: 100%|██████████| 4/4 [00:07<00:00,  1.97s/it]\n"
     ]
    },
    {
     "name": "stdout",
     "output_type": "stream",
     "text": [
      "Epoch 124/300 | Train Loss: 0.0133 | Val Loss: 0.0570 | Val MAPE: 433.06%\n"
     ]
    },
    {
     "name": "stderr",
     "output_type": "stream",
     "text": [
      "Epoch 125/300: 100%|██████████| 4/4 [00:07<00:00,  1.90s/it]\n"
     ]
    },
    {
     "name": "stdout",
     "output_type": "stream",
     "text": [
      "Epoch 125/300 | Train Loss: 0.0130 | Val Loss: 0.0568 | Val MAPE: 662.90%\n"
     ]
    },
    {
     "name": "stderr",
     "output_type": "stream",
     "text": [
      "Epoch 126/300: 100%|██████████| 4/4 [00:07<00:00,  1.87s/it]\n"
     ]
    },
    {
     "name": "stdout",
     "output_type": "stream",
     "text": [
      "Epoch 126/300 | Train Loss: 0.0128 | Val Loss: 0.0559 | Val MAPE: 561.64%\n"
     ]
    },
    {
     "name": "stderr",
     "output_type": "stream",
     "text": [
      "Epoch 127/300: 100%|██████████| 4/4 [00:07<00:00,  1.87s/it]\n"
     ]
    },
    {
     "name": "stdout",
     "output_type": "stream",
     "text": [
      "Epoch 127/300 | Train Loss: 0.0129 | Val Loss: 0.0569 | Val MAPE: 622.63%\n"
     ]
    },
    {
     "name": "stderr",
     "output_type": "stream",
     "text": [
      "Epoch 128/300: 100%|██████████| 4/4 [00:07<00:00,  1.96s/it]\n"
     ]
    },
    {
     "name": "stdout",
     "output_type": "stream",
     "text": [
      "Epoch 128/300 | Train Loss: 0.0125 | Val Loss: 0.0567 | Val MAPE: 457.66%\n"
     ]
    },
    {
     "name": "stderr",
     "output_type": "stream",
     "text": [
      "Epoch 129/300: 100%|██████████| 4/4 [00:07<00:00,  1.91s/it]\n"
     ]
    },
    {
     "name": "stdout",
     "output_type": "stream",
     "text": [
      "Epoch 129/300 | Train Loss: 0.0124 | Val Loss: 0.0564 | Val MAPE: 523.95%\n"
     ]
    },
    {
     "name": "stderr",
     "output_type": "stream",
     "text": [
      "Epoch 130/300: 100%|██████████| 4/4 [00:07<00:00,  1.93s/it]\n"
     ]
    },
    {
     "name": "stdout",
     "output_type": "stream",
     "text": [
      "Epoch 130/300 | Train Loss: 0.0126 | Val Loss: 0.0579 | Val MAPE: 573.38%\n"
     ]
    },
    {
     "name": "stderr",
     "output_type": "stream",
     "text": [
      "Epoch 131/300: 100%|██████████| 4/4 [00:07<00:00,  1.89s/it]\n"
     ]
    },
    {
     "name": "stdout",
     "output_type": "stream",
     "text": [
      "Epoch 131/300 | Train Loss: 0.0124 | Val Loss: 0.0566 | Val MAPE: 731.03%\n"
     ]
    },
    {
     "name": "stderr",
     "output_type": "stream",
     "text": [
      "Epoch 132/300: 100%|██████████| 4/4 [00:07<00:00,  1.91s/it]\n"
     ]
    },
    {
     "name": "stdout",
     "output_type": "stream",
     "text": [
      "Epoch 132/300 | Train Loss: 0.0123 | Val Loss: 0.0566 | Val MAPE: 671.79%\n"
     ]
    },
    {
     "name": "stderr",
     "output_type": "stream",
     "text": [
      "Epoch 133/300: 100%|██████████| 4/4 [00:07<00:00,  1.84s/it]\n"
     ]
    },
    {
     "name": "stdout",
     "output_type": "stream",
     "text": [
      "Epoch 133/300 | Train Loss: 0.0122 | Val Loss: 0.0567 | Val MAPE: 587.42%\n"
     ]
    },
    {
     "name": "stderr",
     "output_type": "stream",
     "text": [
      "Epoch 134/300: 100%|██████████| 4/4 [00:07<00:00,  1.85s/it]\n"
     ]
    },
    {
     "name": "stdout",
     "output_type": "stream",
     "text": [
      "Epoch 134/300 | Train Loss: 0.0121 | Val Loss: 0.0573 | Val MAPE: 647.50%\n"
     ]
    },
    {
     "name": "stderr",
     "output_type": "stream",
     "text": [
      "Epoch 135/300: 100%|██████████| 4/4 [00:07<00:00,  1.87s/it]\n"
     ]
    },
    {
     "name": "stdout",
     "output_type": "stream",
     "text": [
      "Epoch 135/300 | Train Loss: 0.0122 | Val Loss: 0.0590 | Val MAPE: 560.01%\n"
     ]
    },
    {
     "name": "stderr",
     "output_type": "stream",
     "text": [
      "Epoch 136/300: 100%|██████████| 4/4 [00:07<00:00,  1.87s/it]\n"
     ]
    },
    {
     "name": "stdout",
     "output_type": "stream",
     "text": [
      "Epoch 136/300 | Train Loss: 0.0118 | Val Loss: 0.0572 | Val MAPE: 516.55%\n"
     ]
    },
    {
     "name": "stderr",
     "output_type": "stream",
     "text": [
      "Epoch 137/300: 100%|██████████| 4/4 [00:07<00:00,  1.90s/it]\n"
     ]
    },
    {
     "name": "stdout",
     "output_type": "stream",
     "text": [
      "Epoch 137/300 | Train Loss: 0.0122 | Val Loss: 0.0559 | Val MAPE: 549.23%\n"
     ]
    },
    {
     "name": "stderr",
     "output_type": "stream",
     "text": [
      "Epoch 138/300: 100%|██████████| 4/4 [00:07<00:00,  1.90s/it]\n"
     ]
    },
    {
     "name": "stdout",
     "output_type": "stream",
     "text": [
      "Epoch 138/300 | Train Loss: 0.0116 | Val Loss: 0.0557 | Val MAPE: 605.93%\n"
     ]
    },
    {
     "name": "stderr",
     "output_type": "stream",
     "text": [
      "Epoch 139/300: 100%|██████████| 4/4 [00:07<00:00,  1.88s/it]\n"
     ]
    },
    {
     "name": "stdout",
     "output_type": "stream",
     "text": [
      "Epoch 139/300 | Train Loss: 0.0117 | Val Loss: 0.0563 | Val MAPE: 707.15%\n"
     ]
    },
    {
     "name": "stderr",
     "output_type": "stream",
     "text": [
      "Epoch 140/300: 100%|██████████| 4/4 [00:07<00:00,  1.85s/it]\n"
     ]
    },
    {
     "name": "stdout",
     "output_type": "stream",
     "text": [
      "Epoch 140/300 | Train Loss: 0.0118 | Val Loss: 0.0569 | Val MAPE: 488.68%\n"
     ]
    },
    {
     "name": "stderr",
     "output_type": "stream",
     "text": [
      "Epoch 141/300: 100%|██████████| 4/4 [00:07<00:00,  1.88s/it]\n"
     ]
    },
    {
     "name": "stdout",
     "output_type": "stream",
     "text": [
      "Epoch 141/300 | Train Loss: 0.0121 | Val Loss: 0.0557 | Val MAPE: 469.00%\n"
     ]
    },
    {
     "name": "stderr",
     "output_type": "stream",
     "text": [
      "Epoch 142/300: 100%|██████████| 4/4 [00:07<00:00,  1.91s/it]\n"
     ]
    },
    {
     "name": "stdout",
     "output_type": "stream",
     "text": [
      "Epoch 142/300 | Train Loss: 0.0120 | Val Loss: 0.0554 | Val MAPE: 432.57%\n"
     ]
    },
    {
     "name": "stderr",
     "output_type": "stream",
     "text": [
      "Epoch 143/300: 100%|██████████| 4/4 [00:07<00:00,  1.88s/it]\n"
     ]
    },
    {
     "name": "stdout",
     "output_type": "stream",
     "text": [
      "Epoch 143/300 | Train Loss: 0.0117 | Val Loss: 0.0567 | Val MAPE: 454.78%\n"
     ]
    },
    {
     "name": "stderr",
     "output_type": "stream",
     "text": [
      "Epoch 144/300: 100%|██████████| 4/4 [00:07<00:00,  1.90s/it]\n"
     ]
    },
    {
     "name": "stdout",
     "output_type": "stream",
     "text": [
      "Epoch 144/300 | Train Loss: 0.0119 | Val Loss: 0.0554 | Val MAPE: 344.72%\n"
     ]
    },
    {
     "name": "stderr",
     "output_type": "stream",
     "text": [
      "Epoch 145/300: 100%|██████████| 4/4 [00:08<00:00,  2.03s/it]\n"
     ]
    },
    {
     "name": "stdout",
     "output_type": "stream",
     "text": [
      "Epoch 145/300 | Train Loss: 0.0119 | Val Loss: 0.0573 | Val MAPE: 600.88%\n"
     ]
    },
    {
     "name": "stderr",
     "output_type": "stream",
     "text": [
      "Epoch 146/300: 100%|██████████| 4/4 [00:07<00:00,  1.83s/it]\n"
     ]
    },
    {
     "name": "stdout",
     "output_type": "stream",
     "text": [
      "Epoch 146/300 | Train Loss: 0.0116 | Val Loss: 0.0569 | Val MAPE: 490.51%\n"
     ]
    },
    {
     "name": "stderr",
     "output_type": "stream",
     "text": [
      "Epoch 147/300: 100%|██████████| 4/4 [00:07<00:00,  1.88s/it]\n"
     ]
    },
    {
     "name": "stdout",
     "output_type": "stream",
     "text": [
      "Epoch 147/300 | Train Loss: 0.0115 | Val Loss: 0.0570 | Val MAPE: 611.30%\n"
     ]
    },
    {
     "name": "stderr",
     "output_type": "stream",
     "text": [
      "Epoch 148/300: 100%|██████████| 4/4 [00:07<00:00,  1.92s/it]\n"
     ]
    },
    {
     "name": "stdout",
     "output_type": "stream",
     "text": [
      "Epoch 148/300 | Train Loss: 0.0116 | Val Loss: 0.0565 | Val MAPE: 169.80%\n"
     ]
    },
    {
     "name": "stderr",
     "output_type": "stream",
     "text": [
      "Epoch 149/300: 100%|██████████| 4/4 [00:07<00:00,  1.88s/it]\n"
     ]
    },
    {
     "name": "stdout",
     "output_type": "stream",
     "text": [
      "Epoch 149/300 | Train Loss: 0.0114 | Val Loss: 0.0563 | Val MAPE: 268.99%\n"
     ]
    },
    {
     "name": "stderr",
     "output_type": "stream",
     "text": [
      "Epoch 150/300: 100%|██████████| 4/4 [00:07<00:00,  1.89s/it]\n"
     ]
    },
    {
     "name": "stdout",
     "output_type": "stream",
     "text": [
      "Epoch 150/300 | Train Loss: 0.0112 | Val Loss: 0.0562 | Val MAPE: 439.51%\n"
     ]
    },
    {
     "name": "stderr",
     "output_type": "stream",
     "text": [
      "Epoch 151/300: 100%|██████████| 4/4 [00:07<00:00,  1.95s/it]\n"
     ]
    },
    {
     "name": "stdout",
     "output_type": "stream",
     "text": [
      "Epoch 151/300 | Train Loss: 0.0115 | Val Loss: 0.0558 | Val MAPE: 563.69%\n"
     ]
    },
    {
     "name": "stderr",
     "output_type": "stream",
     "text": [
      "Epoch 152/300: 100%|██████████| 4/4 [00:08<00:00,  2.00s/it]\n"
     ]
    },
    {
     "name": "stdout",
     "output_type": "stream",
     "text": [
      "Epoch 152/300 | Train Loss: 0.0113 | Val Loss: 0.0566 | Val MAPE: 434.52%\n"
     ]
    },
    {
     "name": "stderr",
     "output_type": "stream",
     "text": [
      "Epoch 153/300: 100%|██████████| 4/4 [00:08<00:00,  2.02s/it]\n"
     ]
    },
    {
     "name": "stdout",
     "output_type": "stream",
     "text": [
      "Epoch 153/300 | Train Loss: 0.0108 | Val Loss: 0.0550 | Val MAPE: 523.06%\n"
     ]
    },
    {
     "name": "stderr",
     "output_type": "stream",
     "text": [
      "Epoch 154/300: 100%|██████████| 4/4 [00:08<00:00,  2.04s/it]\n"
     ]
    },
    {
     "name": "stdout",
     "output_type": "stream",
     "text": [
      "Epoch 154/300 | Train Loss: 0.0111 | Val Loss: 0.0557 | Val MAPE: 510.40%\n"
     ]
    },
    {
     "name": "stderr",
     "output_type": "stream",
     "text": [
      "Epoch 155/300: 100%|██████████| 4/4 [00:07<00:00,  1.91s/it]\n"
     ]
    },
    {
     "name": "stdout",
     "output_type": "stream",
     "text": [
      "Epoch 155/300 | Train Loss: 0.0109 | Val Loss: 0.0567 | Val MAPE: 494.02%\n"
     ]
    },
    {
     "name": "stderr",
     "output_type": "stream",
     "text": [
      "Epoch 156/300: 100%|██████████| 4/4 [00:07<00:00,  1.92s/it]\n"
     ]
    },
    {
     "name": "stdout",
     "output_type": "stream",
     "text": [
      "Epoch 156/300 | Train Loss: 0.0110 | Val Loss: 0.0567 | Val MAPE: 342.07%\n"
     ]
    },
    {
     "name": "stderr",
     "output_type": "stream",
     "text": [
      "Epoch 157/300: 100%|██████████| 4/4 [00:07<00:00,  1.86s/it]\n"
     ]
    },
    {
     "name": "stdout",
     "output_type": "stream",
     "text": [
      "Epoch 157/300 | Train Loss: 0.0110 | Val Loss: 0.0549 | Val MAPE: 170.60%\n"
     ]
    },
    {
     "name": "stderr",
     "output_type": "stream",
     "text": [
      "Epoch 158/300: 100%|██████████| 4/4 [00:07<00:00,  1.92s/it]\n"
     ]
    },
    {
     "name": "stdout",
     "output_type": "stream",
     "text": [
      "Epoch 158/300 | Train Loss: 0.0109 | Val Loss: 0.0553 | Val MAPE: 289.35%\n"
     ]
    },
    {
     "name": "stderr",
     "output_type": "stream",
     "text": [
      "Epoch 159/300: 100%|██████████| 4/4 [00:07<00:00,  1.88s/it]\n"
     ]
    },
    {
     "name": "stdout",
     "output_type": "stream",
     "text": [
      "Epoch 159/300 | Train Loss: 0.0107 | Val Loss: 0.0548 | Val MAPE: 478.22%\n"
     ]
    },
    {
     "name": "stderr",
     "output_type": "stream",
     "text": [
      "Epoch 160/300: 100%|██████████| 4/4 [00:07<00:00,  1.89s/it]\n"
     ]
    },
    {
     "name": "stdout",
     "output_type": "stream",
     "text": [
      "Epoch 160/300 | Train Loss: 0.0108 | Val Loss: 0.0552 | Val MAPE: 385.93%\n"
     ]
    },
    {
     "name": "stderr",
     "output_type": "stream",
     "text": [
      "Epoch 161/300: 100%|██████████| 4/4 [00:07<00:00,  1.89s/it]\n"
     ]
    },
    {
     "name": "stdout",
     "output_type": "stream",
     "text": [
      "Epoch 161/300 | Train Loss: 0.0105 | Val Loss: 0.0553 | Val MAPE: 382.19%\n"
     ]
    },
    {
     "name": "stderr",
     "output_type": "stream",
     "text": [
      "Epoch 162/300: 100%|██████████| 4/4 [00:07<00:00,  1.87s/it]\n"
     ]
    },
    {
     "name": "stdout",
     "output_type": "stream",
     "text": [
      "Epoch 162/300 | Train Loss: 0.0105 | Val Loss: 0.0550 | Val MAPE: 430.65%\n"
     ]
    },
    {
     "name": "stderr",
     "output_type": "stream",
     "text": [
      "Epoch 163/300: 100%|██████████| 4/4 [00:07<00:00,  1.91s/it]\n"
     ]
    },
    {
     "name": "stdout",
     "output_type": "stream",
     "text": [
      "Epoch 163/300 | Train Loss: 0.0106 | Val Loss: 0.0550 | Val MAPE: 406.64%\n"
     ]
    },
    {
     "name": "stderr",
     "output_type": "stream",
     "text": [
      "Epoch 164/300: 100%|██████████| 4/4 [00:07<00:00,  1.89s/it]\n"
     ]
    },
    {
     "name": "stdout",
     "output_type": "stream",
     "text": [
      "Epoch 164/300 | Train Loss: 0.0103 | Val Loss: 0.0544 | Val MAPE: 453.22%\n"
     ]
    },
    {
     "name": "stderr",
     "output_type": "stream",
     "text": [
      "Epoch 165/300: 100%|██████████| 4/4 [00:07<00:00,  1.90s/it]\n"
     ]
    },
    {
     "name": "stdout",
     "output_type": "stream",
     "text": [
      "Epoch 165/300 | Train Loss: 0.0105 | Val Loss: 0.0553 | Val MAPE: 347.70%\n"
     ]
    },
    {
     "name": "stderr",
     "output_type": "stream",
     "text": [
      "Epoch 166/300: 100%|██████████| 4/4 [00:07<00:00,  1.87s/it]\n"
     ]
    },
    {
     "name": "stdout",
     "output_type": "stream",
     "text": [
      "Epoch 166/300 | Train Loss: 0.0107 | Val Loss: 0.0547 | Val MAPE: 531.87%\n"
     ]
    },
    {
     "name": "stderr",
     "output_type": "stream",
     "text": [
      "Epoch 167/300: 100%|██████████| 4/4 [00:07<00:00,  1.90s/it]\n"
     ]
    },
    {
     "name": "stdout",
     "output_type": "stream",
     "text": [
      "Epoch 167/300 | Train Loss: 0.0102 | Val Loss: 0.0538 | Val MAPE: 518.98%\n"
     ]
    },
    {
     "name": "stderr",
     "output_type": "stream",
     "text": [
      "Epoch 168/300: 100%|██████████| 4/4 [00:07<00:00,  1.90s/it]\n"
     ]
    },
    {
     "name": "stdout",
     "output_type": "stream",
     "text": [
      "Epoch 168/300 | Train Loss: 0.0102 | Val Loss: 0.0557 | Val MAPE: 612.19%\n"
     ]
    },
    {
     "name": "stderr",
     "output_type": "stream",
     "text": [
      "Epoch 169/300: 100%|██████████| 4/4 [00:07<00:00,  1.88s/it]\n"
     ]
    },
    {
     "name": "stdout",
     "output_type": "stream",
     "text": [
      "Epoch 169/300 | Train Loss: 0.0104 | Val Loss: 0.0550 | Val MAPE: 476.38%\n"
     ]
    },
    {
     "name": "stderr",
     "output_type": "stream",
     "text": [
      "Epoch 170/300: 100%|██████████| 4/4 [00:07<00:00,  1.90s/it]\n"
     ]
    },
    {
     "name": "stdout",
     "output_type": "stream",
     "text": [
      "Epoch 170/300 | Train Loss: 0.0102 | Val Loss: 0.0541 | Val MAPE: 484.51%\n"
     ]
    },
    {
     "name": "stderr",
     "output_type": "stream",
     "text": [
      "Epoch 171/300: 100%|██████████| 4/4 [00:07<00:00,  1.88s/it]\n"
     ]
    },
    {
     "name": "stdout",
     "output_type": "stream",
     "text": [
      "Epoch 171/300 | Train Loss: 0.0101 | Val Loss: 0.0551 | Val MAPE: 470.56%\n"
     ]
    },
    {
     "name": "stderr",
     "output_type": "stream",
     "text": [
      "Epoch 172/300: 100%|██████████| 4/4 [00:07<00:00,  1.88s/it]\n"
     ]
    },
    {
     "name": "stdout",
     "output_type": "stream",
     "text": [
      "Epoch 172/300 | Train Loss: 0.0100 | Val Loss: 0.0537 | Val MAPE: 511.76%\n"
     ]
    },
    {
     "name": "stderr",
     "output_type": "stream",
     "text": [
      "Epoch 173/300: 100%|██████████| 4/4 [00:07<00:00,  1.87s/it]\n"
     ]
    },
    {
     "name": "stdout",
     "output_type": "stream",
     "text": [
      "Epoch 173/300 | Train Loss: 0.0102 | Val Loss: 0.0536 | Val MAPE: 356.10%\n"
     ]
    },
    {
     "name": "stderr",
     "output_type": "stream",
     "text": [
      "Epoch 174/300: 100%|██████████| 4/4 [00:07<00:00,  1.87s/it]\n"
     ]
    },
    {
     "name": "stdout",
     "output_type": "stream",
     "text": [
      "Epoch 174/300 | Train Loss: 0.0101 | Val Loss: 0.0530 | Val MAPE: 319.20%\n"
     ]
    },
    {
     "name": "stderr",
     "output_type": "stream",
     "text": [
      "Epoch 175/300: 100%|██████████| 4/4 [00:07<00:00,  1.89s/it]\n"
     ]
    },
    {
     "name": "stdout",
     "output_type": "stream",
     "text": [
      "Epoch 175/300 | Train Loss: 0.0101 | Val Loss: 0.0531 | Val MAPE: 588.75%\n"
     ]
    },
    {
     "name": "stderr",
     "output_type": "stream",
     "text": [
      "Epoch 176/300: 100%|██████████| 4/4 [00:07<00:00,  1.88s/it]\n"
     ]
    },
    {
     "name": "stdout",
     "output_type": "stream",
     "text": [
      "Epoch 176/300 | Train Loss: 0.0101 | Val Loss: 0.0526 | Val MAPE: 558.90%\n"
     ]
    },
    {
     "name": "stderr",
     "output_type": "stream",
     "text": [
      "Epoch 177/300: 100%|██████████| 4/4 [00:07<00:00,  1.89s/it]\n"
     ]
    },
    {
     "name": "stdout",
     "output_type": "stream",
     "text": [
      "Epoch 177/300 | Train Loss: 0.0100 | Val Loss: 0.0526 | Val MAPE: 559.36%\n"
     ]
    },
    {
     "name": "stderr",
     "output_type": "stream",
     "text": [
      "Epoch 178/300: 100%|██████████| 4/4 [00:07<00:00,  1.87s/it]\n"
     ]
    },
    {
     "name": "stdout",
     "output_type": "stream",
     "text": [
      "Epoch 178/300 | Train Loss: 0.0100 | Val Loss: 0.0528 | Val MAPE: 533.67%\n"
     ]
    },
    {
     "name": "stderr",
     "output_type": "stream",
     "text": [
      "Epoch 179/300: 100%|██████████| 4/4 [00:07<00:00,  1.91s/it]\n"
     ]
    },
    {
     "name": "stdout",
     "output_type": "stream",
     "text": [
      "Epoch 179/300 | Train Loss: 0.0100 | Val Loss: 0.0529 | Val MAPE: 389.85%\n"
     ]
    },
    {
     "name": "stderr",
     "output_type": "stream",
     "text": [
      "Epoch 180/300: 100%|██████████| 4/4 [00:07<00:00,  1.87s/it]\n"
     ]
    },
    {
     "name": "stdout",
     "output_type": "stream",
     "text": [
      "Epoch 180/300 | Train Loss: 0.0098 | Val Loss: 0.0527 | Val MAPE: 350.22%\n"
     ]
    },
    {
     "name": "stderr",
     "output_type": "stream",
     "text": [
      "Epoch 181/300: 100%|██████████| 4/4 [00:07<00:00,  1.92s/it]\n"
     ]
    },
    {
     "name": "stdout",
     "output_type": "stream",
     "text": [
      "Epoch 181/300 | Train Loss: 0.0096 | Val Loss: 0.0534 | Val MAPE: 432.54%\n"
     ]
    },
    {
     "name": "stderr",
     "output_type": "stream",
     "text": [
      "Epoch 182/300: 100%|██████████| 4/4 [00:07<00:00,  1.91s/it]\n"
     ]
    },
    {
     "name": "stdout",
     "output_type": "stream",
     "text": [
      "Epoch 182/300 | Train Loss: 0.0097 | Val Loss: 0.0536 | Val MAPE: 402.69%\n"
     ]
    },
    {
     "name": "stderr",
     "output_type": "stream",
     "text": [
      "Epoch 183/300: 100%|██████████| 4/4 [00:07<00:00,  1.91s/it]\n"
     ]
    },
    {
     "name": "stdout",
     "output_type": "stream",
     "text": [
      "Epoch 183/300 | Train Loss: 0.0098 | Val Loss: 0.0536 | Val MAPE: 530.43%\n"
     ]
    },
    {
     "name": "stderr",
     "output_type": "stream",
     "text": [
      "Epoch 184/300: 100%|██████████| 4/4 [00:07<00:00,  1.89s/it]\n"
     ]
    },
    {
     "name": "stdout",
     "output_type": "stream",
     "text": [
      "Epoch 184/300 | Train Loss: 0.0099 | Val Loss: 0.0547 | Val MAPE: 526.08%\n"
     ]
    },
    {
     "name": "stderr",
     "output_type": "stream",
     "text": [
      "Epoch 185/300: 100%|██████████| 4/4 [00:07<00:00,  1.91s/it]\n"
     ]
    },
    {
     "name": "stdout",
     "output_type": "stream",
     "text": [
      "Epoch 185/300 | Train Loss: 0.0095 | Val Loss: 0.0553 | Val MAPE: 527.45%\n"
     ]
    },
    {
     "name": "stderr",
     "output_type": "stream",
     "text": [
      "Epoch 186/300: 100%|██████████| 4/4 [00:07<00:00,  1.91s/it]\n"
     ]
    },
    {
     "name": "stdout",
     "output_type": "stream",
     "text": [
      "Epoch 186/300 | Train Loss: 0.0093 | Val Loss: 0.0557 | Val MAPE: 346.58%\n"
     ]
    },
    {
     "name": "stderr",
     "output_type": "stream",
     "text": [
      "Epoch 187/300: 100%|██████████| 4/4 [00:07<00:00,  1.92s/it]\n"
     ]
    },
    {
     "name": "stdout",
     "output_type": "stream",
     "text": [
      "Epoch 187/300 | Train Loss: 0.0095 | Val Loss: 0.0557 | Val MAPE: 340.81%\n"
     ]
    },
    {
     "name": "stderr",
     "output_type": "stream",
     "text": [
      "Epoch 188/300: 100%|██████████| 4/4 [00:07<00:00,  1.92s/it]\n"
     ]
    },
    {
     "name": "stdout",
     "output_type": "stream",
     "text": [
      "Epoch 188/300 | Train Loss: 0.0096 | Val Loss: 0.0542 | Val MAPE: 320.62%\n"
     ]
    },
    {
     "name": "stderr",
     "output_type": "stream",
     "text": [
      "Epoch 189/300: 100%|██████████| 4/4 [00:07<00:00,  1.90s/it]\n"
     ]
    },
    {
     "name": "stdout",
     "output_type": "stream",
     "text": [
      "Epoch 189/300 | Train Loss: 0.0096 | Val Loss: 0.0526 | Val MAPE: 128.89%\n"
     ]
    },
    {
     "name": "stderr",
     "output_type": "stream",
     "text": [
      "Epoch 190/300: 100%|██████████| 4/4 [00:07<00:00,  1.89s/it]\n"
     ]
    },
    {
     "name": "stdout",
     "output_type": "stream",
     "text": [
      "Epoch 190/300 | Train Loss: 0.0095 | Val Loss: 0.0532 | Val MAPE: 104.75%\n"
     ]
    },
    {
     "name": "stderr",
     "output_type": "stream",
     "text": [
      "Epoch 191/300: 100%|██████████| 4/4 [00:07<00:00,  1.91s/it]\n"
     ]
    },
    {
     "name": "stdout",
     "output_type": "stream",
     "text": [
      "Epoch 191/300 | Train Loss: 0.0093 | Val Loss: 0.0533 | Val MAPE: 203.72%\n"
     ]
    },
    {
     "name": "stderr",
     "output_type": "stream",
     "text": [
      "Epoch 192/300: 100%|██████████| 4/4 [00:07<00:00,  1.90s/it]\n"
     ]
    },
    {
     "name": "stdout",
     "output_type": "stream",
     "text": [
      "Epoch 192/300 | Train Loss: 0.0094 | Val Loss: 0.0514 | Val MAPE: 342.49%\n"
     ]
    },
    {
     "name": "stderr",
     "output_type": "stream",
     "text": [
      "Epoch 193/300: 100%|██████████| 4/4 [00:07<00:00,  1.86s/it]\n"
     ]
    },
    {
     "name": "stdout",
     "output_type": "stream",
     "text": [
      "Epoch 193/300 | Train Loss: 0.0092 | Val Loss: 0.0519 | Val MAPE: 353.07%\n"
     ]
    },
    {
     "name": "stderr",
     "output_type": "stream",
     "text": [
      "Epoch 194/300: 100%|██████████| 4/4 [00:07<00:00,  1.88s/it]\n"
     ]
    },
    {
     "name": "stdout",
     "output_type": "stream",
     "text": [
      "Epoch 194/300 | Train Loss: 0.0093 | Val Loss: 0.0521 | Val MAPE: 254.11%\n"
     ]
    },
    {
     "name": "stderr",
     "output_type": "stream",
     "text": [
      "Epoch 195/300: 100%|██████████| 4/4 [00:07<00:00,  1.90s/it]\n"
     ]
    },
    {
     "name": "stdout",
     "output_type": "stream",
     "text": [
      "Epoch 195/300 | Train Loss: 0.0095 | Val Loss: 0.0542 | Val MAPE: 181.70%\n"
     ]
    },
    {
     "name": "stderr",
     "output_type": "stream",
     "text": [
      "Epoch 196/300: 100%|██████████| 4/4 [00:07<00:00,  1.91s/it]\n"
     ]
    },
    {
     "name": "stdout",
     "output_type": "stream",
     "text": [
      "Epoch 196/300 | Train Loss: 0.0092 | Val Loss: 0.0552 | Val MAPE: 103.71%\n"
     ]
    },
    {
     "name": "stderr",
     "output_type": "stream",
     "text": [
      "Epoch 197/300: 100%|██████████| 4/4 [00:07<00:00,  1.89s/it]\n"
     ]
    },
    {
     "name": "stdout",
     "output_type": "stream",
     "text": [
      "Epoch 197/300 | Train Loss: 0.0091 | Val Loss: 0.0547 | Val MAPE: 202.28%\n"
     ]
    },
    {
     "name": "stderr",
     "output_type": "stream",
     "text": [
      "Epoch 198/300: 100%|██████████| 4/4 [00:07<00:00,  1.89s/it]\n"
     ]
    },
    {
     "name": "stdout",
     "output_type": "stream",
     "text": [
      "Epoch 198/300 | Train Loss: 0.0090 | Val Loss: 0.0530 | Val MAPE: 227.07%\n"
     ]
    },
    {
     "name": "stderr",
     "output_type": "stream",
     "text": [
      "Epoch 199/300: 100%|██████████| 4/4 [00:07<00:00,  1.89s/it]\n"
     ]
    },
    {
     "name": "stdout",
     "output_type": "stream",
     "text": [
      "Epoch 199/300 | Train Loss: 0.0091 | Val Loss: 0.0523 | Val MAPE: 398.16%\n"
     ]
    },
    {
     "name": "stderr",
     "output_type": "stream",
     "text": [
      "Epoch 200/300: 100%|██████████| 4/4 [00:07<00:00,  1.90s/it]\n"
     ]
    },
    {
     "name": "stdout",
     "output_type": "stream",
     "text": [
      "Epoch 200/300 | Train Loss: 0.0089 | Val Loss: 0.0536 | Val MAPE: 453.28%\n"
     ]
    },
    {
     "name": "stderr",
     "output_type": "stream",
     "text": [
      "Epoch 201/300: 100%|██████████| 4/4 [00:07<00:00,  1.91s/it]\n"
     ]
    },
    {
     "name": "stdout",
     "output_type": "stream",
     "text": [
      "Epoch 201/300 | Train Loss: 0.0091 | Val Loss: 0.0543 | Val MAPE: 419.34%\n"
     ]
    },
    {
     "name": "stderr",
     "output_type": "stream",
     "text": [
      "Epoch 202/300: 100%|██████████| 4/4 [00:07<00:00,  1.91s/it]\n"
     ]
    },
    {
     "name": "stdout",
     "output_type": "stream",
     "text": [
      "Epoch 202/300 | Train Loss: 0.0090 | Val Loss: 0.0536 | Val MAPE: 286.75%\n"
     ]
    },
    {
     "name": "stderr",
     "output_type": "stream",
     "text": [
      "Epoch 203/300: 100%|██████████| 4/4 [00:07<00:00,  1.93s/it]\n"
     ]
    },
    {
     "name": "stdout",
     "output_type": "stream",
     "text": [
      "Epoch 203/300 | Train Loss: 0.0090 | Val Loss: 0.0525 | Val MAPE: 334.40%\n"
     ]
    },
    {
     "name": "stderr",
     "output_type": "stream",
     "text": [
      "Epoch 204/300: 100%|██████████| 4/4 [00:07<00:00,  1.92s/it]\n"
     ]
    },
    {
     "name": "stdout",
     "output_type": "stream",
     "text": [
      "Epoch 204/300 | Train Loss: 0.0089 | Val Loss: 0.0525 | Val MAPE: 366.29%\n"
     ]
    },
    {
     "name": "stderr",
     "output_type": "stream",
     "text": [
      "Epoch 205/300: 100%|██████████| 4/4 [00:07<00:00,  1.88s/it]\n"
     ]
    },
    {
     "name": "stdout",
     "output_type": "stream",
     "text": [
      "Epoch 205/300 | Train Loss: 0.0087 | Val Loss: 0.0511 | Val MAPE: 244.11%\n"
     ]
    },
    {
     "name": "stderr",
     "output_type": "stream",
     "text": [
      "Epoch 206/300: 100%|██████████| 4/4 [00:07<00:00,  1.88s/it]\n"
     ]
    },
    {
     "name": "stdout",
     "output_type": "stream",
     "text": [
      "Epoch 206/300 | Train Loss: 0.0089 | Val Loss: 0.0511 | Val MAPE: 405.38%\n"
     ]
    },
    {
     "name": "stderr",
     "output_type": "stream",
     "text": [
      "Epoch 207/300: 100%|██████████| 4/4 [00:08<00:00,  2.05s/it]\n"
     ]
    },
    {
     "name": "stdout",
     "output_type": "stream",
     "text": [
      "Epoch 207/300 | Train Loss: 0.0090 | Val Loss: 0.0508 | Val MAPE: 405.75%\n"
     ]
    },
    {
     "name": "stderr",
     "output_type": "stream",
     "text": [
      "Epoch 208/300: 100%|██████████| 4/4 [00:08<00:00,  2.04s/it]\n"
     ]
    },
    {
     "name": "stdout",
     "output_type": "stream",
     "text": [
      "Epoch 208/300 | Train Loss: 0.0089 | Val Loss: 0.0529 | Val MAPE: 469.22%\n"
     ]
    },
    {
     "name": "stderr",
     "output_type": "stream",
     "text": [
      "Epoch 209/300: 100%|██████████| 4/4 [00:07<00:00,  1.93s/it]\n"
     ]
    },
    {
     "name": "stdout",
     "output_type": "stream",
     "text": [
      "Epoch 209/300 | Train Loss: 0.0088 | Val Loss: 0.0540 | Val MAPE: 391.98%\n"
     ]
    },
    {
     "name": "stderr",
     "output_type": "stream",
     "text": [
      "Epoch 210/300: 100%|██████████| 4/4 [00:07<00:00,  1.93s/it]\n"
     ]
    },
    {
     "name": "stdout",
     "output_type": "stream",
     "text": [
      "Epoch 210/300 | Train Loss: 0.0087 | Val Loss: 0.0532 | Val MAPE: 384.54%\n"
     ]
    },
    {
     "name": "stderr",
     "output_type": "stream",
     "text": [
      "Epoch 211/300: 100%|██████████| 4/4 [00:07<00:00,  1.90s/it]\n"
     ]
    },
    {
     "name": "stdout",
     "output_type": "stream",
     "text": [
      "Epoch 211/300 | Train Loss: 0.0089 | Val Loss: 0.0519 | Val MAPE: 370.56%\n"
     ]
    },
    {
     "name": "stderr",
     "output_type": "stream",
     "text": [
      "Epoch 212/300: 100%|██████████| 4/4 [00:07<00:00,  1.91s/it]\n"
     ]
    },
    {
     "name": "stdout",
     "output_type": "stream",
     "text": [
      "Epoch 212/300 | Train Loss: 0.0089 | Val Loss: 0.0513 | Val MAPE: 348.88%\n"
     ]
    },
    {
     "name": "stderr",
     "output_type": "stream",
     "text": [
      "Epoch 213/300: 100%|██████████| 4/4 [00:07<00:00,  1.91s/it]\n"
     ]
    },
    {
     "name": "stdout",
     "output_type": "stream",
     "text": [
      "Epoch 213/300 | Train Loss: 0.0087 | Val Loss: 0.0514 | Val MAPE: 301.78%\n"
     ]
    },
    {
     "name": "stderr",
     "output_type": "stream",
     "text": [
      "Epoch 214/300: 100%|██████████| 4/4 [00:07<00:00,  1.91s/it]\n"
     ]
    },
    {
     "name": "stdout",
     "output_type": "stream",
     "text": [
      "Epoch 214/300 | Train Loss: 0.0087 | Val Loss: 0.0515 | Val MAPE: 313.40%\n"
     ]
    },
    {
     "name": "stderr",
     "output_type": "stream",
     "text": [
      "Epoch 215/300: 100%|██████████| 4/4 [00:07<00:00,  1.92s/it]\n"
     ]
    },
    {
     "name": "stdout",
     "output_type": "stream",
     "text": [
      "Epoch 215/300 | Train Loss: 0.0086 | Val Loss: 0.0515 | Val MAPE: 296.63%\n"
     ]
    },
    {
     "name": "stderr",
     "output_type": "stream",
     "text": [
      "Epoch 216/300: 100%|██████████| 4/4 [00:07<00:00,  1.88s/it]\n"
     ]
    },
    {
     "name": "stdout",
     "output_type": "stream",
     "text": [
      "Epoch 216/300 | Train Loss: 0.0085 | Val Loss: 0.0521 | Val MAPE: 258.45%\n"
     ]
    },
    {
     "name": "stderr",
     "output_type": "stream",
     "text": [
      "Epoch 217/300: 100%|██████████| 4/4 [00:07<00:00,  1.89s/it]\n"
     ]
    },
    {
     "name": "stdout",
     "output_type": "stream",
     "text": [
      "Epoch 217/300 | Train Loss: 0.0088 | Val Loss: 0.0520 | Val MAPE: 230.79%\n"
     ]
    },
    {
     "name": "stderr",
     "output_type": "stream",
     "text": [
      "Epoch 218/300: 100%|██████████| 4/4 [00:07<00:00,  1.90s/it]\n"
     ]
    },
    {
     "name": "stdout",
     "output_type": "stream",
     "text": [
      "Epoch 218/300 | Train Loss: 0.0083 | Val Loss: 0.0518 | Val MAPE: 347.69%\n"
     ]
    },
    {
     "name": "stderr",
     "output_type": "stream",
     "text": [
      "Epoch 219/300: 100%|██████████| 4/4 [00:07<00:00,  1.88s/it]\n"
     ]
    },
    {
     "name": "stdout",
     "output_type": "stream",
     "text": [
      "Epoch 219/300 | Train Loss: 0.0084 | Val Loss: 0.0515 | Val MAPE: 304.30%\n"
     ]
    },
    {
     "name": "stderr",
     "output_type": "stream",
     "text": [
      "Epoch 220/300: 100%|██████████| 4/4 [00:07<00:00,  1.93s/it]\n"
     ]
    },
    {
     "name": "stdout",
     "output_type": "stream",
     "text": [
      "Epoch 220/300 | Train Loss: 0.0086 | Val Loss: 0.0520 | Val MAPE: 247.44%\n"
     ]
    },
    {
     "name": "stderr",
     "output_type": "stream",
     "text": [
      "Epoch 221/300: 100%|██████████| 4/4 [00:07<00:00,  1.89s/it]\n"
     ]
    },
    {
     "name": "stdout",
     "output_type": "stream",
     "text": [
      "Epoch 221/300 | Train Loss: 0.0085 | Val Loss: 0.0516 | Val MAPE: 279.66%\n"
     ]
    },
    {
     "name": "stderr",
     "output_type": "stream",
     "text": [
      "Epoch 222/300: 100%|██████████| 4/4 [00:07<00:00,  1.87s/it]\n"
     ]
    },
    {
     "name": "stdout",
     "output_type": "stream",
     "text": [
      "Epoch 222/300 | Train Loss: 0.0084 | Val Loss: 0.0517 | Val MAPE: 242.50%\n"
     ]
    },
    {
     "name": "stderr",
     "output_type": "stream",
     "text": [
      "Epoch 223/300: 100%|██████████| 4/4 [00:07<00:00,  1.87s/it]\n"
     ]
    },
    {
     "name": "stdout",
     "output_type": "stream",
     "text": [
      "Epoch 223/300 | Train Loss: 0.0086 | Val Loss: 0.0535 | Val MAPE: 326.11%\n"
     ]
    },
    {
     "name": "stderr",
     "output_type": "stream",
     "text": [
      "Epoch 224/300: 100%|██████████| 4/4 [00:07<00:00,  1.87s/it]\n"
     ]
    },
    {
     "name": "stdout",
     "output_type": "stream",
     "text": [
      "Epoch 224/300 | Train Loss: 0.0084 | Val Loss: 0.0531 | Val MAPE: 230.48%\n"
     ]
    },
    {
     "name": "stderr",
     "output_type": "stream",
     "text": [
      "Epoch 225/300: 100%|██████████| 4/4 [00:07<00:00,  1.91s/it]\n"
     ]
    },
    {
     "name": "stdout",
     "output_type": "stream",
     "text": [
      "Epoch 225/300 | Train Loss: 0.0085 | Val Loss: 0.0540 | Val MAPE: 354.99%\n"
     ]
    },
    {
     "name": "stderr",
     "output_type": "stream",
     "text": [
      "Epoch 226/300: 100%|██████████| 4/4 [00:07<00:00,  1.87s/it]\n"
     ]
    },
    {
     "name": "stdout",
     "output_type": "stream",
     "text": [
      "Epoch 226/300 | Train Loss: 0.0085 | Val Loss: 0.0522 | Val MAPE: 329.09%\n"
     ]
    },
    {
     "name": "stderr",
     "output_type": "stream",
     "text": [
      "Epoch 227/300: 100%|██████████| 4/4 [00:07<00:00,  1.89s/it]\n"
     ]
    },
    {
     "name": "stdout",
     "output_type": "stream",
     "text": [
      "Epoch 227/300 | Train Loss: 0.0086 | Val Loss: 0.0522 | Val MAPE: 482.24%\n"
     ]
    },
    {
     "name": "stderr",
     "output_type": "stream",
     "text": [
      "Epoch 228/300: 100%|██████████| 4/4 [00:07<00:00,  1.90s/it]\n"
     ]
    },
    {
     "name": "stdout",
     "output_type": "stream",
     "text": [
      "Epoch 228/300 | Train Loss: 0.0086 | Val Loss: 0.0543 | Val MAPE: 267.43%\n"
     ]
    },
    {
     "name": "stderr",
     "output_type": "stream",
     "text": [
      "Epoch 229/300: 100%|██████████| 4/4 [00:07<00:00,  1.89s/it]\n"
     ]
    },
    {
     "name": "stdout",
     "output_type": "stream",
     "text": [
      "Epoch 229/300 | Train Loss: 0.0084 | Val Loss: 0.0527 | Val MAPE: 201.17%\n"
     ]
    },
    {
     "name": "stderr",
     "output_type": "stream",
     "text": [
      "Epoch 230/300: 100%|██████████| 4/4 [00:07<00:00,  1.90s/it]\n"
     ]
    },
    {
     "name": "stdout",
     "output_type": "stream",
     "text": [
      "Epoch 230/300 | Train Loss: 0.0084 | Val Loss: 0.0521 | Val MAPE: 104.11%\n"
     ]
    },
    {
     "name": "stderr",
     "output_type": "stream",
     "text": [
      "Epoch 231/300: 100%|██████████| 4/4 [00:07<00:00,  1.88s/it]\n"
     ]
    },
    {
     "name": "stdout",
     "output_type": "stream",
     "text": [
      "Epoch 231/300 | Train Loss: 0.0084 | Val Loss: 0.0527 | Val MAPE: 195.63%\n"
     ]
    },
    {
     "name": "stderr",
     "output_type": "stream",
     "text": [
      "Epoch 232/300: 100%|██████████| 4/4 [00:07<00:00,  1.88s/it]\n"
     ]
    },
    {
     "name": "stdout",
     "output_type": "stream",
     "text": [
      "Epoch 232/300 | Train Loss: 0.0081 | Val Loss: 0.0513 | Val MAPE: 167.60%\n"
     ]
    },
    {
     "name": "stderr",
     "output_type": "stream",
     "text": [
      "Epoch 233/300: 100%|██████████| 4/4 [00:07<00:00,  1.89s/it]\n"
     ]
    },
    {
     "name": "stdout",
     "output_type": "stream",
     "text": [
      "Epoch 233/300 | Train Loss: 0.0081 | Val Loss: 0.0525 | Val MAPE: 174.28%\n"
     ]
    },
    {
     "name": "stderr",
     "output_type": "stream",
     "text": [
      "Epoch 234/300: 100%|██████████| 4/4 [00:07<00:00,  1.88s/it]\n"
     ]
    },
    {
     "name": "stdout",
     "output_type": "stream",
     "text": [
      "Epoch 234/300 | Train Loss: 0.0083 | Val Loss: 0.0510 | Val MAPE: 153.32%\n"
     ]
    },
    {
     "name": "stderr",
     "output_type": "stream",
     "text": [
      "Epoch 235/300: 100%|██████████| 4/4 [00:07<00:00,  1.89s/it]\n"
     ]
    },
    {
     "name": "stdout",
     "output_type": "stream",
     "text": [
      "Epoch 235/300 | Train Loss: 0.0081 | Val Loss: 0.0519 | Val MAPE: 176.98%\n"
     ]
    },
    {
     "name": "stderr",
     "output_type": "stream",
     "text": [
      "Epoch 236/300: 100%|██████████| 4/4 [00:07<00:00,  1.86s/it]\n"
     ]
    },
    {
     "name": "stdout",
     "output_type": "stream",
     "text": [
      "Epoch 236/300 | Train Loss: 0.0082 | Val Loss: 0.0516 | Val MAPE: 275.07%\n"
     ]
    },
    {
     "name": "stderr",
     "output_type": "stream",
     "text": [
      "Epoch 237/300: 100%|██████████| 4/4 [00:07<00:00,  1.89s/it]\n"
     ]
    },
    {
     "name": "stdout",
     "output_type": "stream",
     "text": [
      "Epoch 237/300 | Train Loss: 0.0078 | Val Loss: 0.0507 | Val MAPE: 263.63%\n"
     ]
    },
    {
     "name": "stderr",
     "output_type": "stream",
     "text": [
      "Epoch 238/300: 100%|██████████| 4/4 [00:07<00:00,  1.88s/it]\n"
     ]
    },
    {
     "name": "stdout",
     "output_type": "stream",
     "text": [
      "Epoch 238/300 | Train Loss: 0.0080 | Val Loss: 0.0511 | Val MAPE: 404.26%\n"
     ]
    },
    {
     "name": "stderr",
     "output_type": "stream",
     "text": [
      "Epoch 239/300: 100%|██████████| 4/4 [00:07<00:00,  1.95s/it]\n"
     ]
    },
    {
     "name": "stdout",
     "output_type": "stream",
     "text": [
      "Epoch 239/300 | Train Loss: 0.0079 | Val Loss: 0.0501 | Val MAPE: 379.80%\n"
     ]
    },
    {
     "name": "stderr",
     "output_type": "stream",
     "text": [
      "Epoch 240/300: 100%|██████████| 4/4 [00:07<00:00,  1.99s/it]\n"
     ]
    },
    {
     "name": "stdout",
     "output_type": "stream",
     "text": [
      "Epoch 240/300 | Train Loss: 0.0080 | Val Loss: 0.0512 | Val MAPE: 291.37%\n"
     ]
    },
    {
     "name": "stderr",
     "output_type": "stream",
     "text": [
      "Epoch 241/300: 100%|██████████| 4/4 [00:07<00:00,  2.00s/it]\n"
     ]
    },
    {
     "name": "stdout",
     "output_type": "stream",
     "text": [
      "Epoch 241/300 | Train Loss: 0.0080 | Val Loss: 0.0510 | Val MAPE: 93.41%\n"
     ]
    },
    {
     "name": "stderr",
     "output_type": "stream",
     "text": [
      "Epoch 242/300: 100%|██████████| 4/4 [00:07<00:00,  1.89s/it]\n"
     ]
    },
    {
     "name": "stdout",
     "output_type": "stream",
     "text": [
      "Epoch 242/300 | Train Loss: 0.0079 | Val Loss: 0.0517 | Val MAPE: 228.88%\n"
     ]
    },
    {
     "name": "stderr",
     "output_type": "stream",
     "text": [
      "Epoch 243/300: 100%|██████████| 4/4 [00:07<00:00,  1.93s/it]\n"
     ]
    },
    {
     "name": "stdout",
     "output_type": "stream",
     "text": [
      "Epoch 243/300 | Train Loss: 0.0078 | Val Loss: 0.0502 | Val MAPE: 206.17%\n"
     ]
    },
    {
     "name": "stderr",
     "output_type": "stream",
     "text": [
      "Epoch 244/300: 100%|██████████| 4/4 [00:07<00:00,  1.89s/it]\n"
     ]
    },
    {
     "name": "stdout",
     "output_type": "stream",
     "text": [
      "Epoch 244/300 | Train Loss: 0.0078 | Val Loss: 0.0509 | Val MAPE: 390.55%\n"
     ]
    },
    {
     "name": "stderr",
     "output_type": "stream",
     "text": [
      "Epoch 245/300: 100%|██████████| 4/4 [00:07<00:00,  1.93s/it]\n"
     ]
    },
    {
     "name": "stdout",
     "output_type": "stream",
     "text": [
      "Epoch 245/300 | Train Loss: 0.0079 | Val Loss: 0.0504 | Val MAPE: 403.94%\n"
     ]
    },
    {
     "name": "stderr",
     "output_type": "stream",
     "text": [
      "Epoch 246/300: 100%|██████████| 4/4 [00:07<00:00,  1.94s/it]\n"
     ]
    },
    {
     "name": "stdout",
     "output_type": "stream",
     "text": [
      "Epoch 246/300 | Train Loss: 0.0077 | Val Loss: 0.0512 | Val MAPE: 415.20%\n"
     ]
    },
    {
     "name": "stderr",
     "output_type": "stream",
     "text": [
      "Epoch 247/300: 100%|██████████| 4/4 [00:07<00:00,  1.93s/it]\n"
     ]
    },
    {
     "name": "stdout",
     "output_type": "stream",
     "text": [
      "Epoch 247/300 | Train Loss: 0.0078 | Val Loss: 0.0511 | Val MAPE: 265.46%\n"
     ]
    },
    {
     "name": "stderr",
     "output_type": "stream",
     "text": [
      "Epoch 248/300: 100%|██████████| 4/4 [00:07<00:00,  1.97s/it]\n"
     ]
    },
    {
     "name": "stdout",
     "output_type": "stream",
     "text": [
      "Epoch 248/300 | Train Loss: 0.0077 | Val Loss: 0.0520 | Val MAPE: 144.77%\n"
     ]
    },
    {
     "name": "stderr",
     "output_type": "stream",
     "text": [
      "Epoch 249/300: 100%|██████████| 4/4 [00:08<00:00,  2.01s/it]\n"
     ]
    },
    {
     "name": "stdout",
     "output_type": "stream",
     "text": [
      "Epoch 249/300 | Train Loss: 0.0077 | Val Loss: 0.0527 | Val MAPE: 92.70%\n"
     ]
    },
    {
     "name": "stderr",
     "output_type": "stream",
     "text": [
      "Epoch 250/300: 100%|██████████| 4/4 [00:07<00:00,  1.94s/it]\n"
     ]
    },
    {
     "name": "stdout",
     "output_type": "stream",
     "text": [
      "Epoch 250/300 | Train Loss: 0.0076 | Val Loss: 0.0520 | Val MAPE: 270.77%\n"
     ]
    },
    {
     "name": "stderr",
     "output_type": "stream",
     "text": [
      "Epoch 251/300: 100%|██████████| 4/4 [00:09<00:00,  2.26s/it]\n"
     ]
    },
    {
     "name": "stdout",
     "output_type": "stream",
     "text": [
      "Epoch 251/300 | Train Loss: 0.0077 | Val Loss: 0.0532 | Val MAPE: 435.58%\n"
     ]
    },
    {
     "name": "stderr",
     "output_type": "stream",
     "text": [
      "Epoch 252/300: 100%|██████████| 4/4 [00:08<00:00,  2.19s/it]\n"
     ]
    },
    {
     "name": "stdout",
     "output_type": "stream",
     "text": [
      "Epoch 252/300 | Train Loss: 0.0078 | Val Loss: 0.0522 | Val MAPE: 362.08%\n"
     ]
    },
    {
     "name": "stderr",
     "output_type": "stream",
     "text": [
      "Epoch 253/300: 100%|██████████| 4/4 [00:07<00:00,  1.91s/it]\n"
     ]
    },
    {
     "name": "stdout",
     "output_type": "stream",
     "text": [
      "Epoch 253/300 | Train Loss: 0.0076 | Val Loss: 0.0523 | Val MAPE: 299.01%\n"
     ]
    },
    {
     "name": "stderr",
     "output_type": "stream",
     "text": [
      "Epoch 254/300: 100%|██████████| 4/4 [00:07<00:00,  1.94s/it]\n"
     ]
    },
    {
     "name": "stdout",
     "output_type": "stream",
     "text": [
      "Epoch 254/300 | Train Loss: 0.0077 | Val Loss: 0.0525 | Val MAPE: 181.30%\n"
     ]
    },
    {
     "name": "stderr",
     "output_type": "stream",
     "text": [
      "Epoch 255/300: 100%|██████████| 4/4 [00:07<00:00,  1.96s/it]\n"
     ]
    },
    {
     "name": "stdout",
     "output_type": "stream",
     "text": [
      "Epoch 255/300 | Train Loss: 0.0078 | Val Loss: 0.0518 | Val MAPE: 144.69%\n"
     ]
    },
    {
     "name": "stderr",
     "output_type": "stream",
     "text": [
      "Epoch 256/300: 100%|██████████| 4/4 [00:07<00:00,  1.99s/it]\n"
     ]
    },
    {
     "name": "stdout",
     "output_type": "stream",
     "text": [
      "Epoch 256/300 | Train Loss: 0.0075 | Val Loss: 0.0508 | Val MAPE: 258.65%\n"
     ]
    },
    {
     "name": "stderr",
     "output_type": "stream",
     "text": [
      "Epoch 257/300: 100%|██████████| 4/4 [00:08<00:00,  2.15s/it]\n"
     ]
    },
    {
     "name": "stdout",
     "output_type": "stream",
     "text": [
      "Epoch 257/300 | Train Loss: 0.0075 | Val Loss: 0.0515 | Val MAPE: 181.19%\n"
     ]
    },
    {
     "name": "stderr",
     "output_type": "stream",
     "text": [
      "Epoch 258/300: 100%|██████████| 4/4 [00:07<00:00,  1.97s/it]\n"
     ]
    },
    {
     "name": "stdout",
     "output_type": "stream",
     "text": [
      "Epoch 258/300 | Train Loss: 0.0078 | Val Loss: 0.0513 | Val MAPE: 272.20%\n"
     ]
    },
    {
     "name": "stderr",
     "output_type": "stream",
     "text": [
      "Epoch 259/300: 100%|██████████| 4/4 [00:08<00:00,  2.13s/it]\n"
     ]
    },
    {
     "name": "stdout",
     "output_type": "stream",
     "text": [
      "Epoch 259/300 | Train Loss: 0.0074 | Val Loss: 0.0524 | Val MAPE: 163.41%\n"
     ]
    },
    {
     "name": "stderr",
     "output_type": "stream",
     "text": [
      "Epoch 260/300: 100%|██████████| 4/4 [00:08<00:00,  2.02s/it]\n"
     ]
    },
    {
     "name": "stdout",
     "output_type": "stream",
     "text": [
      "Epoch 260/300 | Train Loss: 0.0076 | Val Loss: 0.0522 | Val MAPE: 192.04%\n"
     ]
    },
    {
     "name": "stderr",
     "output_type": "stream",
     "text": [
      "Epoch 261/300: 100%|██████████| 4/4 [00:07<00:00,  1.97s/it]\n"
     ]
    },
    {
     "name": "stdout",
     "output_type": "stream",
     "text": [
      "Epoch 261/300 | Train Loss: 0.0076 | Val Loss: 0.0514 | Val MAPE: 108.34%\n"
     ]
    },
    {
     "name": "stderr",
     "output_type": "stream",
     "text": [
      "Epoch 262/300: 100%|██████████| 4/4 [00:07<00:00,  1.92s/it]\n"
     ]
    },
    {
     "name": "stdout",
     "output_type": "stream",
     "text": [
      "Epoch 262/300 | Train Loss: 0.0075 | Val Loss: 0.0516 | Val MAPE: 153.67%\n"
     ]
    },
    {
     "name": "stderr",
     "output_type": "stream",
     "text": [
      "Epoch 263/300: 100%|██████████| 4/4 [00:07<00:00,  1.94s/it]\n"
     ]
    },
    {
     "name": "stdout",
     "output_type": "stream",
     "text": [
      "Epoch 263/300 | Train Loss: 0.0075 | Val Loss: 0.0502 | Val MAPE: 157.29%\n"
     ]
    },
    {
     "name": "stderr",
     "output_type": "stream",
     "text": [
      "Epoch 264/300: 100%|██████████| 4/4 [00:07<00:00,  1.96s/it]\n"
     ]
    },
    {
     "name": "stdout",
     "output_type": "stream",
     "text": [
      "Epoch 264/300 | Train Loss: 0.0075 | Val Loss: 0.0497 | Val MAPE: 248.94%\n"
     ]
    },
    {
     "name": "stderr",
     "output_type": "stream",
     "text": [
      "Epoch 265/300: 100%|██████████| 4/4 [00:07<00:00,  1.98s/it]\n"
     ]
    },
    {
     "name": "stdout",
     "output_type": "stream",
     "text": [
      "Epoch 265/300 | Train Loss: 0.0074 | Val Loss: 0.0499 | Val MAPE: 242.52%\n"
     ]
    },
    {
     "name": "stderr",
     "output_type": "stream",
     "text": [
      "Epoch 266/300: 100%|██████████| 4/4 [00:07<00:00,  1.96s/it]\n"
     ]
    },
    {
     "name": "stdout",
     "output_type": "stream",
     "text": [
      "Epoch 266/300 | Train Loss: 0.0075 | Val Loss: 0.0499 | Val MAPE: 268.31%\n"
     ]
    },
    {
     "name": "stderr",
     "output_type": "stream",
     "text": [
      "Epoch 267/300: 100%|██████████| 4/4 [00:07<00:00,  1.96s/it]\n"
     ]
    },
    {
     "name": "stdout",
     "output_type": "stream",
     "text": [
      "Epoch 267/300 | Train Loss: 0.0075 | Val Loss: 0.0507 | Val MAPE: 304.52%\n"
     ]
    },
    {
     "name": "stderr",
     "output_type": "stream",
     "text": [
      "Epoch 268/300: 100%|██████████| 4/4 [00:07<00:00,  1.94s/it]\n"
     ]
    },
    {
     "name": "stdout",
     "output_type": "stream",
     "text": [
      "Epoch 268/300 | Train Loss: 0.0078 | Val Loss: 0.0508 | Val MAPE: 383.38%\n"
     ]
    },
    {
     "name": "stderr",
     "output_type": "stream",
     "text": [
      "Epoch 269/300: 100%|██████████| 4/4 [00:07<00:00,  1.91s/it]\n"
     ]
    },
    {
     "name": "stdout",
     "output_type": "stream",
     "text": [
      "Epoch 269/300 | Train Loss: 0.0076 | Val Loss: 0.0510 | Val MAPE: 189.40%\n"
     ]
    },
    {
     "name": "stderr",
     "output_type": "stream",
     "text": [
      "Epoch 270/300: 100%|██████████| 4/4 [00:07<00:00,  1.89s/it]\n"
     ]
    },
    {
     "name": "stdout",
     "output_type": "stream",
     "text": [
      "Epoch 270/300 | Train Loss: 0.0075 | Val Loss: 0.0506 | Val MAPE: 263.39%\n"
     ]
    },
    {
     "name": "stderr",
     "output_type": "stream",
     "text": [
      "Epoch 271/300: 100%|██████████| 4/4 [00:07<00:00,  1.91s/it]\n"
     ]
    },
    {
     "name": "stdout",
     "output_type": "stream",
     "text": [
      "Epoch 271/300 | Train Loss: 0.0077 | Val Loss: 0.0495 | Val MAPE: 258.87%\n"
     ]
    },
    {
     "name": "stderr",
     "output_type": "stream",
     "text": [
      "Epoch 272/300: 100%|██████████| 4/4 [00:07<00:00,  1.87s/it]\n"
     ]
    },
    {
     "name": "stdout",
     "output_type": "stream",
     "text": [
      "Epoch 272/300 | Train Loss: 0.0075 | Val Loss: 0.0500 | Val MAPE: 196.66%\n"
     ]
    },
    {
     "name": "stderr",
     "output_type": "stream",
     "text": [
      "Epoch 273/300: 100%|██████████| 4/4 [00:07<00:00,  1.89s/it]\n"
     ]
    },
    {
     "name": "stdout",
     "output_type": "stream",
     "text": [
      "Epoch 273/300 | Train Loss: 0.0074 | Val Loss: 0.0498 | Val MAPE: 211.97%\n"
     ]
    },
    {
     "name": "stderr",
     "output_type": "stream",
     "text": [
      "Epoch 274/300: 100%|██████████| 4/4 [00:07<00:00,  1.91s/it]\n"
     ]
    },
    {
     "name": "stdout",
     "output_type": "stream",
     "text": [
      "Epoch 274/300 | Train Loss: 0.0073 | Val Loss: 0.0488 | Val MAPE: 88.16%\n"
     ]
    },
    {
     "name": "stderr",
     "output_type": "stream",
     "text": [
      "Epoch 275/300: 100%|██████████| 4/4 [00:07<00:00,  1.91s/it]\n"
     ]
    },
    {
     "name": "stdout",
     "output_type": "stream",
     "text": [
      "Epoch 275/300 | Train Loss: 0.0073 | Val Loss: 0.0504 | Val MAPE: 194.05%\n"
     ]
    },
    {
     "name": "stderr",
     "output_type": "stream",
     "text": [
      "Epoch 276/300: 100%|██████████| 4/4 [00:07<00:00,  1.88s/it]\n"
     ]
    },
    {
     "name": "stdout",
     "output_type": "stream",
     "text": [
      "Epoch 276/300 | Train Loss: 0.0073 | Val Loss: 0.0507 | Val MAPE: 229.83%\n"
     ]
    },
    {
     "name": "stderr",
     "output_type": "stream",
     "text": [
      "Epoch 277/300: 100%|██████████| 4/4 [00:07<00:00,  1.92s/it]\n"
     ]
    },
    {
     "name": "stdout",
     "output_type": "stream",
     "text": [
      "Epoch 277/300 | Train Loss: 0.0071 | Val Loss: 0.0507 | Val MAPE: 202.58%\n"
     ]
    },
    {
     "name": "stderr",
     "output_type": "stream",
     "text": [
      "Epoch 278/300: 100%|██████████| 4/4 [00:07<00:00,  1.92s/it]\n"
     ]
    },
    {
     "name": "stdout",
     "output_type": "stream",
     "text": [
      "Epoch 278/300 | Train Loss: 0.0072 | Val Loss: 0.0500 | Val MAPE: 215.32%\n"
     ]
    },
    {
     "name": "stderr",
     "output_type": "stream",
     "text": [
      "Epoch 279/300: 100%|██████████| 4/4 [00:07<00:00,  1.91s/it]\n"
     ]
    },
    {
     "name": "stdout",
     "output_type": "stream",
     "text": [
      "Epoch 279/300 | Train Loss: 0.0070 | Val Loss: 0.0496 | Val MAPE: 238.96%\n"
     ]
    },
    {
     "name": "stderr",
     "output_type": "stream",
     "text": [
      "Epoch 280/300: 100%|██████████| 4/4 [00:07<00:00,  1.89s/it]\n"
     ]
    },
    {
     "name": "stdout",
     "output_type": "stream",
     "text": [
      "Epoch 280/300 | Train Loss: 0.0071 | Val Loss: 0.0494 | Val MAPE: 245.18%\n"
     ]
    },
    {
     "name": "stderr",
     "output_type": "stream",
     "text": [
      "Epoch 281/300: 100%|██████████| 4/4 [00:07<00:00,  1.87s/it]\n"
     ]
    },
    {
     "name": "stdout",
     "output_type": "stream",
     "text": [
      "Epoch 281/300 | Train Loss: 0.0072 | Val Loss: 0.0494 | Val MAPE: 244.57%\n"
     ]
    },
    {
     "name": "stderr",
     "output_type": "stream",
     "text": [
      "Epoch 282/300: 100%|██████████| 4/4 [00:07<00:00,  1.91s/it]\n"
     ]
    },
    {
     "name": "stdout",
     "output_type": "stream",
     "text": [
      "Epoch 282/300 | Train Loss: 0.0072 | Val Loss: 0.0501 | Val MAPE: 401.92%\n"
     ]
    },
    {
     "name": "stderr",
     "output_type": "stream",
     "text": [
      "Epoch 283/300: 100%|██████████| 4/4 [00:07<00:00,  1.87s/it]\n"
     ]
    },
    {
     "name": "stdout",
     "output_type": "stream",
     "text": [
      "Epoch 283/300 | Train Loss: 0.0071 | Val Loss: 0.0494 | Val MAPE: 303.02%\n"
     ]
    },
    {
     "name": "stderr",
     "output_type": "stream",
     "text": [
      "Epoch 284/300: 100%|██████████| 4/4 [00:07<00:00,  1.88s/it]\n"
     ]
    },
    {
     "name": "stdout",
     "output_type": "stream",
     "text": [
      "Epoch 284/300 | Train Loss: 0.0073 | Val Loss: 0.0489 | Val MAPE: 295.67%\n"
     ]
    },
    {
     "name": "stderr",
     "output_type": "stream",
     "text": [
      "Epoch 285/300: 100%|██████████| 4/4 [00:07<00:00,  1.87s/it]\n"
     ]
    },
    {
     "name": "stdout",
     "output_type": "stream",
     "text": [
      "Epoch 285/300 | Train Loss: 0.0072 | Val Loss: 0.0502 | Val MAPE: 180.27%\n"
     ]
    },
    {
     "name": "stderr",
     "output_type": "stream",
     "text": [
      "Epoch 286/300: 100%|██████████| 4/4 [00:07<00:00,  1.94s/it]\n"
     ]
    },
    {
     "name": "stdout",
     "output_type": "stream",
     "text": [
      "Epoch 286/300 | Train Loss: 0.0071 | Val Loss: 0.0482 | Val MAPE: 152.96%\n"
     ]
    },
    {
     "name": "stderr",
     "output_type": "stream",
     "text": [
      "Epoch 287/300: 100%|██████████| 4/4 [00:08<00:00,  2.03s/it]\n"
     ]
    },
    {
     "name": "stdout",
     "output_type": "stream",
     "text": [
      "Epoch 287/300 | Train Loss: 0.0070 | Val Loss: 0.0477 | Val MAPE: 293.60%\n"
     ]
    },
    {
     "name": "stderr",
     "output_type": "stream",
     "text": [
      "Epoch 288/300: 100%|██████████| 4/4 [00:07<00:00,  1.98s/it]\n"
     ]
    },
    {
     "name": "stdout",
     "output_type": "stream",
     "text": [
      "Epoch 288/300 | Train Loss: 0.0070 | Val Loss: 0.0494 | Val MAPE: 246.90%\n"
     ]
    },
    {
     "name": "stderr",
     "output_type": "stream",
     "text": [
      "Epoch 289/300: 100%|██████████| 4/4 [00:08<00:00,  2.19s/it]\n"
     ]
    },
    {
     "name": "stdout",
     "output_type": "stream",
     "text": [
      "Epoch 289/300 | Train Loss: 0.0070 | Val Loss: 0.0505 | Val MAPE: 228.19%\n"
     ]
    },
    {
     "name": "stderr",
     "output_type": "stream",
     "text": [
      "Epoch 290/300: 100%|██████████| 4/4 [00:08<00:00,  2.04s/it]\n"
     ]
    },
    {
     "name": "stdout",
     "output_type": "stream",
     "text": [
      "Epoch 290/300 | Train Loss: 0.0071 | Val Loss: 0.0507 | Val MAPE: 112.73%\n"
     ]
    },
    {
     "name": "stderr",
     "output_type": "stream",
     "text": [
      "Epoch 291/300: 100%|██████████| 4/4 [00:07<00:00,  1.94s/it]\n"
     ]
    },
    {
     "name": "stdout",
     "output_type": "stream",
     "text": [
      "Epoch 291/300 | Train Loss: 0.0068 | Val Loss: 0.0510 | Val MAPE: 160.95%\n"
     ]
    },
    {
     "name": "stderr",
     "output_type": "stream",
     "text": [
      "Epoch 292/300: 100%|██████████| 4/4 [00:07<00:00,  1.94s/it]\n"
     ]
    },
    {
     "name": "stdout",
     "output_type": "stream",
     "text": [
      "Epoch 292/300 | Train Loss: 0.0068 | Val Loss: 0.0503 | Val MAPE: 195.56%\n"
     ]
    },
    {
     "name": "stderr",
     "output_type": "stream",
     "text": [
      "Epoch 293/300: 100%|██████████| 4/4 [00:07<00:00,  1.91s/it]\n"
     ]
    },
    {
     "name": "stdout",
     "output_type": "stream",
     "text": [
      "Epoch 293/300 | Train Loss: 0.0070 | Val Loss: 0.0499 | Val MAPE: 200.95%\n"
     ]
    },
    {
     "name": "stderr",
     "output_type": "stream",
     "text": [
      "Epoch 294/300: 100%|██████████| 4/4 [00:07<00:00,  1.89s/it]\n"
     ]
    },
    {
     "name": "stdout",
     "output_type": "stream",
     "text": [
      "Epoch 294/300 | Train Loss: 0.0070 | Val Loss: 0.0496 | Val MAPE: 156.49%\n"
     ]
    },
    {
     "name": "stderr",
     "output_type": "stream",
     "text": [
      "Epoch 295/300: 100%|██████████| 4/4 [00:07<00:00,  1.93s/it]\n"
     ]
    },
    {
     "name": "stdout",
     "output_type": "stream",
     "text": [
      "Epoch 295/300 | Train Loss: 0.0069 | Val Loss: 0.0508 | Val MAPE: 180.91%\n"
     ]
    },
    {
     "name": "stderr",
     "output_type": "stream",
     "text": [
      "Epoch 296/300: 100%|██████████| 4/4 [00:07<00:00,  1.92s/it]\n"
     ]
    },
    {
     "name": "stdout",
     "output_type": "stream",
     "text": [
      "Epoch 296/300 | Train Loss: 0.0069 | Val Loss: 0.0505 | Val MAPE: 246.62%\n"
     ]
    },
    {
     "name": "stderr",
     "output_type": "stream",
     "text": [
      "Epoch 297/300: 100%|██████████| 4/4 [00:07<00:00,  1.90s/it]\n"
     ]
    },
    {
     "name": "stdout",
     "output_type": "stream",
     "text": [
      "Epoch 297/300 | Train Loss: 0.0068 | Val Loss: 0.0496 | Val MAPE: 88.54%\n"
     ]
    },
    {
     "name": "stderr",
     "output_type": "stream",
     "text": [
      "Epoch 298/300: 100%|██████████| 4/4 [00:07<00:00,  1.90s/it]\n"
     ]
    },
    {
     "name": "stdout",
     "output_type": "stream",
     "text": [
      "Epoch 298/300 | Train Loss: 0.0069 | Val Loss: 0.0504 | Val MAPE: 155.44%\n"
     ]
    },
    {
     "name": "stderr",
     "output_type": "stream",
     "text": [
      "Epoch 299/300: 100%|██████████| 4/4 [00:07<00:00,  1.90s/it]\n"
     ]
    },
    {
     "name": "stdout",
     "output_type": "stream",
     "text": [
      "Epoch 299/300 | Train Loss: 0.0070 | Val Loss: 0.0483 | Val MAPE: 251.01%\n"
     ]
    },
    {
     "name": "stderr",
     "output_type": "stream",
     "text": [
      "Epoch 300/300: 100%|██████████| 4/4 [00:07<00:00,  1.92s/it]\n"
     ]
    },
    {
     "name": "stdout",
     "output_type": "stream",
     "text": [
      "Epoch 300/300 | Train Loss: 0.0068 | Val Loss: 0.0488 | Val MAPE: 243.57%\n",
      "✅ Submission saved to submission.csv\n"
     ]
    }
   ],
   "source": [
    "import pandas as pd\n",
    "import numpy as np\n",
    "from sklearn.model_selection import train_test_split\n",
    "from sklearn.preprocessing import RobustScaler\n",
    "from sklearn.metrics import mean_absolute_percentage_error\n",
    "import torch\n",
    "from torch import nn\n",
    "from torch.utils.data import Dataset, DataLoader\n",
    "from tqdm import tqdm\n",
    "from tabm import TabM  # Ensure TabM is installed and imported\n",
    "\n",
    "# ------------------------------ Config ------------------------------\n",
    "\n",
    "class Config:\n",
    "    TRAIN_PATH = 'train.csv'\n",
    "    TEST_PATH = 'test.csv'\n",
    "    TARGET_COLS = [f'BlendProperty{i}' for i in range(1, 11)]\n",
    "    TEST_SIZE = 0.1\n",
    "    BATCH_SIZE = 512\n",
    "    LR = 1e-3\n",
    "    EPOCHS = 300\n",
    "    DEVICE = 'cuda' if torch.cuda.is_available() else 'cpu'\n",
    "    K_ENSEMBLE = 64\n",
    "    RANDOM_STATE = 42\n",
    "\n",
    "# ------------------------------ Dataset ------------------------------\n",
    "\n",
    "class TabularDataset(Dataset):\n",
    "    def __init__(self, X, y=None):\n",
    "        self.X = torch.tensor(X, dtype=torch.float32)\n",
    "        self.y = torch.tensor(y, dtype=torch.float32) if y is not None else None\n",
    "\n",
    "    def __len__(self):\n",
    "        return len(self.X)\n",
    "\n",
    "    def __getitem__(self, idx):\n",
    "        if self.y is not None:\n",
    "            return self.X[idx], self.y[idx]\n",
    "        else:\n",
    "            return self.X[idx]\n",
    "\n",
    "# ------------------------------ Trainer ------------------------------\n",
    "\n",
    "class Trainer:\n",
    "    def __init__(self, config):\n",
    "        self.config = config\n",
    "        self.device = config.DEVICE\n",
    "        self.criterion_mse = nn.MSELoss()\n",
    "        self.load_and_prepare_data()\n",
    "        self.create_model()\n",
    "\n",
    "    def load_and_prepare_data(self):\n",
    "        train_df = pd.read_csv(self.config.TRAIN_PATH)\n",
    "        test_df = pd.read_csv(self.config.TEST_PATH)\n",
    "        train_df = self.feature_engineering(train_df, fit=True)\n",
    "        test_df = self.feature_engineering(test_df, fit=False)\n",
    "\n",
    "        self.X_train, self.X_val, self.y_train, self.y_val = train_test_split(\n",
    "            train_df.drop(columns=self.target_cols).values,\n",
    "            train_df[self.target_cols].values,\n",
    "            test_size=self.config.TEST_SIZE,\n",
    "            random_state=self.config.RANDOM_STATE\n",
    "        )\n",
    "\n",
    "        self.X_test = test_df.drop(columns=self.target_cols, errors='ignore').values\n",
    "        self.test_ids = test_df['ID'].values if 'ID' in test_df.columns else np.arange(len(test_df))\n",
    "\n",
    "        self.num_scaler = RobustScaler()\n",
    "        self.y_scaler = RobustScaler()\n",
    "\n",
    "        self.X_train = self.num_scaler.fit_transform(self.X_train)\n",
    "        self.X_val = self.num_scaler.transform(self.X_val)\n",
    "        self.X_test = self.num_scaler.transform(self.X_test)\n",
    "\n",
    "        self.y_train = self.y_scaler.fit_transform(self.y_train)\n",
    "        self.y_val = self.y_scaler.transform(self.y_val)\n",
    "\n",
    "        self.train_loader = DataLoader(TabularDataset(self.X_train, self.y_train), batch_size=self.config.BATCH_SIZE, shuffle=True)\n",
    "        self.val_loader = DataLoader(TabularDataset(self.X_val, self.y_val), batch_size=self.config.BATCH_SIZE, shuffle=False)\n",
    "        self.test_loader = DataLoader(TabularDataset(self.X_test), batch_size=self.config.BATCH_SIZE, shuffle=False)\n",
    "\n",
    "    def feature_engineering(self, df, fit=False):\n",
    "        df = df.copy()\n",
    "        \n",
    "        # Ensure all target columns exist — fill missing with zeros\n",
    "        for col in Config.TARGET_COLS:\n",
    "            if col not in df.columns:\n",
    "                df[col] = 0\n",
    "\n",
    "        # Drop identifier columns if present (e.g. 'ID', 'BlendID')\n",
    "        id_cols = ['ID', 'BlendID']\n",
    "        df.drop(columns=[col for col in id_cols if col in df.columns], inplace=True)\n",
    "\n",
    "        if fit:\n",
    "            # Determine feature columns during training\n",
    "            self.feature_cols = [col for col in df.columns if col not in Config.TARGET_COLS]\n",
    "            self.target_cols = Config.TARGET_COLS\n",
    "\n",
    "        # Ensure consistent column ordering\n",
    "        df = df[self.feature_cols + self.target_cols]\n",
    "\n",
    "        return df\n",
    "\n",
    "\n",
    "    def create_model(self):\n",
    "        self.model = TabM.make(\n",
    "            n_num_features=self.train_loader.dataset.X.shape[1],\n",
    "            cat_cardinalities=None,\n",
    "            d_out=len(self.target_cols),\n",
    "            k=self.config.K_ENSEMBLE\n",
    "        ).to(self.device)\n",
    "\n",
    "        self.optimizer = torch.optim.AdamW(self.model.parameters(), lr=self.config.LR)\n",
    "\n",
    "    def train_epoch(self, epoch):\n",
    "        self.model.train()\n",
    "        total_loss = 0\n",
    "        for X, y in tqdm(self.train_loader, desc=f\"Epoch {epoch+1}/{self.config.EPOCHS}\"):\n",
    "            X, y = X.to(self.device), y.to(self.device)\n",
    "            preds = self.model(X)\n",
    "            preds_median = torch.median(preds, dim=1)[0]\n",
    "            loss = self.criterion_mse(preds_median, y)\n",
    "\n",
    "            self.optimizer.zero_grad()\n",
    "            loss.backward()\n",
    "            self.optimizer.step()\n",
    "            total_loss += loss.item()\n",
    "        return total_loss / len(self.train_loader)\n",
    "\n",
    "    def validate(self):\n",
    "        self.model.eval()\n",
    "        total_loss = 0\n",
    "        all_preds, all_targets = [], []\n",
    "\n",
    "        with torch.no_grad():\n",
    "            for X, y in self.val_loader:\n",
    "                X, y = X.to(self.device), y.to(self.device)\n",
    "                preds = self.model(X)\n",
    "                preds_median = torch.median(preds, dim=1)[0]\n",
    "                loss = self.criterion_mse(preds_median, y)\n",
    "                total_loss += loss.item()\n",
    "\n",
    "                all_preds.append(preds_median.cpu().numpy())\n",
    "                all_targets.append(y.cpu().numpy())\n",
    "\n",
    "        preds_all = np.vstack(all_preds)\n",
    "        targets_all = np.vstack(all_targets)\n",
    "\n",
    "        preds_all_orig = self.y_scaler.inverse_transform(preds_all)\n",
    "        targets_all_orig = self.y_scaler.inverse_transform(targets_all)\n",
    "        mape = mean_absolute_percentage_error(targets_all_orig, preds_all_orig) * 100\n",
    "\n",
    "        return total_loss / len(self.val_loader), mape\n",
    "\n",
    "    def train(self):\n",
    "        for epoch in range(self.config.EPOCHS):\n",
    "            train_loss = self.train_epoch(epoch)\n",
    "            val_loss, val_mape = self.validate()\n",
    "            print(f\"Epoch {epoch+1}/{self.config.EPOCHS} | Train Loss: {train_loss:.4f} | Val Loss: {val_loss:.4f} | Val MAPE: {val_mape:.2f}%\")\n",
    "\n",
    "    def predict(self):\n",
    "        self.model.eval()\n",
    "        preds_all = []\n",
    "\n",
    "        with torch.no_grad():\n",
    "            for X in self.test_loader:\n",
    "                X = X.to(self.device)\n",
    "                preds = self.model(X)\n",
    "                preds_median = torch.median(preds, dim=1)[0]\n",
    "                preds_all.append(preds_median.cpu().numpy())\n",
    "\n",
    "        preds_all = np.vstack(preds_all)\n",
    "        preds_orig = self.y_scaler.inverse_transform(preds_all)\n",
    "\n",
    "        submission = pd.DataFrame(preds_orig, columns=self.target_cols)\n",
    "        submission.insert(0, 'ID', self.test_ids)\n",
    "        submission.to_csv('submission.csv', index=False)\n",
    "        print(\"✅ Submission saved to submission.csv\")\n",
    "\n",
    "# ------------------------------ Run ------------------------------\n",
    "\n",
    "if __name__ == '__main__':\n",
    "    config = Config()\n",
    "    trainer = Trainer(config)\n",
    "    trainer.train()\n",
    "    trainer.predict()\n"
   ]
  },
  {
   "cell_type": "code",
   "execution_count": 42,
   "id": "438e96df",
   "metadata": {},
   "outputs": [
    {
     "name": "stdout",
     "output_type": "stream",
     "text": [
      "Note: you may need to restart the kernel to use updated packages.\n"
     ]
    },
    {
     "name": "stderr",
     "output_type": "stream",
     "text": [
      "ERROR: Could not find a version that satisfies the requirement RobustScaler (from versions: none)\n",
      "ERROR: No matching distribution found for RobustScaler\n"
     ]
    }
   ],
   "source": [
    "pip install RobustScaler StandardScaler QuantileTransformer VarianceThreshold"
   ]
  },
  {
   "cell_type": "code",
   "execution_count": 53,
   "id": "5d520127",
   "metadata": {},
   "outputs": [
    {
     "name": "stdout",
     "output_type": "stream",
     "text": [
      "Original shapes: (2000, 65) (500, 56)\n",
      "Train columns: ['Component1_fraction', 'Component2_fraction', 'Component3_fraction', 'Component4_fraction', 'Component5_fraction', 'Component1_Property1', 'Component2_Property1', 'Component3_Property1', 'Component4_Property1', 'Component5_Property1', 'Component1_Property2', 'Component2_Property2', 'Component3_Property2', 'Component4_Property2', 'Component5_Property2', 'Component1_Property3', 'Component2_Property3', 'Component3_Property3', 'Component4_Property3', 'Component5_Property3', 'Component1_Property4', 'Component2_Property4', 'Component3_Property4', 'Component4_Property4', 'Component5_Property4', 'Component1_Property5', 'Component2_Property5', 'Component3_Property5', 'Component4_Property5', 'Component5_Property5', 'Component1_Property6', 'Component2_Property6', 'Component3_Property6', 'Component4_Property6', 'Component5_Property6', 'Component1_Property7', 'Component2_Property7', 'Component3_Property7', 'Component4_Property7', 'Component5_Property7', 'Component1_Property8', 'Component2_Property8', 'Component3_Property8', 'Component4_Property8', 'Component5_Property8', 'Component1_Property9', 'Component2_Property9', 'Component3_Property9', 'Component4_Property9', 'Component5_Property9', 'Component1_Property10', 'Component2_Property10', 'Component3_Property10', 'Component4_Property10', 'Component5_Property10', 'BlendProperty1', 'BlendProperty2', 'BlendProperty3', 'BlendProperty4', 'BlendProperty5', 'BlendProperty6', 'BlendProperty7', 'BlendProperty8', 'BlendProperty9', 'BlendProperty10']\n",
      "Test columns: ['ID', 'Component1_fraction', 'Component2_fraction', 'Component3_fraction', 'Component4_fraction', 'Component5_fraction', 'Component1_Property1', 'Component2_Property1', 'Component3_Property1', 'Component4_Property1', 'Component5_Property1', 'Component1_Property2', 'Component2_Property2', 'Component3_Property2', 'Component4_Property2', 'Component5_Property2', 'Component1_Property3', 'Component2_Property3', 'Component3_Property3', 'Component4_Property3', 'Component5_Property3', 'Component1_Property4', 'Component2_Property4', 'Component3_Property4', 'Component4_Property4', 'Component5_Property4', 'Component1_Property5', 'Component2_Property5', 'Component3_Property5', 'Component4_Property5', 'Component5_Property5', 'Component1_Property6', 'Component2_Property6', 'Component3_Property6', 'Component4_Property6', 'Component5_Property6', 'Component1_Property7', 'Component2_Property7', 'Component3_Property7', 'Component4_Property7', 'Component5_Property7', 'Component1_Property8', 'Component2_Property8', 'Component3_Property8', 'Component4_Property8', 'Component5_Property8', 'Component1_Property9', 'Component2_Property9', 'Component3_Property9', 'Component4_Property9', 'Component5_Property9', 'Component1_Property10', 'Component2_Property10', 'Component3_Property10', 'Component4_Property10', 'Component5_Property10']\n",
      "Train missing values: 0\n",
      "Test missing values: 0\n",
      "Target statistics:\n",
      "       BlendProperty1  BlendProperty2  BlendProperty3  BlendProperty4  \\\n",
      "count     2000.000000     2000.000000     2000.000000     2000.000000   \n",
      "mean        -0.016879       -0.002076       -0.014351       -0.006068   \n",
      "std          0.993787        1.004512        0.999360        1.009176   \n",
      "min         -2.550897       -3.079759       -3.041624       -2.835701   \n",
      "25%         -0.766128       -0.735109       -0.624235       -0.783547   \n",
      "50%         -0.021089        0.001684        0.146135       -0.028158   \n",
      "75%          0.714763        0.723807        0.727597        0.664659   \n",
      "max          2.856588        2.769156        1.638646        3.769643   \n",
      "\n",
      "       BlendProperty5  BlendProperty6  BlendProperty7  BlendProperty8  \\\n",
      "count     2000.000000     2000.000000     2000.000000     2000.000000   \n",
      "mean        -0.015249       -0.003497       -0.013568       -0.017236   \n",
      "std          0.986480        1.009126        1.000613        0.998759   \n",
      "min         -1.730111       -2.808210       -2.994571       -3.621080   \n",
      "25%         -0.683165       -0.697379       -0.622453       -0.725564   \n",
      "50%         -0.250650       -0.011649        0.133470       -0.001548   \n",
      "75%          0.358701        0.695182        0.704130        0.684894   \n",
      "max          3.600439        3.433292        3.293228        3.340657   \n",
      "\n",
      "       BlendProperty9  BlendProperty10  \n",
      "count     2000.000000      2000.000000  \n",
      "mean        -0.001507        -0.001795  \n",
      "std          1.001096         0.990433  \n",
      "min         -3.292727        -2.476429  \n",
      "25%         -0.702384        -0.733653  \n",
      "50%         -0.002604        -0.010459  \n",
      "75%          0.706084         0.693839  \n",
      "max          3.276199         2.708703  \n",
      "Common features between train and test: 55\n",
      "Warning: ID column not found. Creating sequential IDs.\n",
      "Creating statistical features...\n",
      "Finding top correlated features...\n",
      "Top correlated features: 43\n",
      "Creating polynomial features...\n",
      "Creating interaction features...\n",
      "Creating binning features...\n",
      "Creating clustering features...\n",
      "Performing feature selection...\n",
      "Selected 183 features after selection\n",
      "Creating PCA features...\n",
      "Final feature engineering complete. Shape: (2000, 233)\n",
      "After feature engineering: (2000, 244) (500, 234)\n",
      "Final shapes - Train: (1800, 233), Val: (200, 233), Test: (500, 233)\n",
      "NaN in X_train: 0\n",
      "NaN in y_train: 0\n",
      "Inf in X_train: 0\n",
      "Inf in y_train: 0\n"
     ]
    },
    {
     "name": "stderr",
     "output_type": "stream",
     "text": [
      "Epoch 1/300: 100%|██████████| 4/4 [00:05<00:00,  1.44s/it]\n"
     ]
    },
    {
     "name": "stdout",
     "output_type": "stream",
     "text": [
      "Epoch 1/300 | Train Loss: 1.0036 | Val Loss: 0.9733 | Val Metric: 153.8699\n"
     ]
    },
    {
     "name": "stderr",
     "output_type": "stream",
     "text": [
      "Epoch 2/300: 100%|██████████| 4/4 [00:05<00:00,  1.36s/it]\n"
     ]
    },
    {
     "name": "stdout",
     "output_type": "stream",
     "text": [
      "Epoch 2/300 | Train Loss: 0.9964 | Val Loss: 0.9667 | Val Metric: 202.8778\n"
     ]
    },
    {
     "name": "stderr",
     "output_type": "stream",
     "text": [
      "Epoch 3/300: 100%|██████████| 4/4 [00:05<00:00,  1.35s/it]\n"
     ]
    },
    {
     "name": "stdout",
     "output_type": "stream",
     "text": [
      "Epoch 3/300 | Train Loss: 0.9837 | Val Loss: 0.9532 | Val Metric: 231.9802\n"
     ]
    },
    {
     "name": "stderr",
     "output_type": "stream",
     "text": [
      "Epoch 4/300: 100%|██████████| 4/4 [00:05<00:00,  1.35s/it]\n"
     ]
    },
    {
     "name": "stdout",
     "output_type": "stream",
     "text": [
      "Epoch 4/300 | Train Loss: 0.9655 | Val Loss: 0.9303 | Val Metric: 302.9876\n"
     ]
    },
    {
     "name": "stderr",
     "output_type": "stream",
     "text": [
      "Epoch 5/300: 100%|██████████| 4/4 [00:05<00:00,  1.37s/it]\n"
     ]
    },
    {
     "name": "stdout",
     "output_type": "stream",
     "text": [
      "Epoch 5/300 | Train Loss: 0.9406 | Val Loss: 0.8754 | Val Metric: 389.0605\n"
     ]
    },
    {
     "name": "stderr",
     "output_type": "stream",
     "text": [
      "Epoch 6/300: 100%|██████████| 4/4 [00:05<00:00,  1.36s/it]\n"
     ]
    },
    {
     "name": "stdout",
     "output_type": "stream",
     "text": [
      "Epoch 6/300 | Train Loss: 0.8377 | Val Loss: 0.7399 | Val Metric: 520.5870\n"
     ]
    },
    {
     "name": "stderr",
     "output_type": "stream",
     "text": [
      "Epoch 7/300: 100%|██████████| 4/4 [00:05<00:00,  1.45s/it]\n"
     ]
    },
    {
     "name": "stdout",
     "output_type": "stream",
     "text": [
      "Epoch 7/300 | Train Loss: 0.6911 | Val Loss: 0.6781 | Val Metric: 584.4683\n"
     ]
    },
    {
     "name": "stderr",
     "output_type": "stream",
     "text": [
      "Epoch 8/300: 100%|██████████| 4/4 [00:05<00:00,  1.47s/it]\n"
     ]
    },
    {
     "name": "stdout",
     "output_type": "stream",
     "text": [
      "Epoch 8/300 | Train Loss: 0.5841 | Val Loss: 0.6094 | Val Metric: 386.7580\n"
     ]
    },
    {
     "name": "stderr",
     "output_type": "stream",
     "text": [
      "Epoch 9/300: 100%|██████████| 4/4 [00:05<00:00,  1.45s/it]\n"
     ]
    },
    {
     "name": "stdout",
     "output_type": "stream",
     "text": [
      "MAPE too high (1504.48%), using RMSE instead\n",
      "Epoch 9/300 | Train Loss: 0.5264 | Val Loss: 0.5490 | Val Metric: 0.7392\n"
     ]
    },
    {
     "name": "stderr",
     "output_type": "stream",
     "text": [
      "Epoch 10/300: 100%|██████████| 4/4 [00:05<00:00,  1.49s/it]\n"
     ]
    },
    {
     "name": "stdout",
     "output_type": "stream",
     "text": [
      "MAPE too high (1218.68%), using RMSE instead\n",
      "Epoch 10/300 | Train Loss: 0.4770 | Val Loss: 0.4941 | Val Metric: 0.7022\n"
     ]
    },
    {
     "name": "stderr",
     "output_type": "stream",
     "text": [
      "Epoch 11/300: 100%|██████████| 4/4 [00:05<00:00,  1.43s/it]\n"
     ]
    },
    {
     "name": "stdout",
     "output_type": "stream",
     "text": [
      "MAPE too high (2152.46%), using RMSE instead\n",
      "Epoch 11/300 | Train Loss: 0.4464 | Val Loss: 0.5001 | Val Metric: 0.7055\n"
     ]
    },
    {
     "name": "stderr",
     "output_type": "stream",
     "text": [
      "Epoch 12/300: 100%|██████████| 4/4 [00:06<00:00,  1.52s/it]\n"
     ]
    },
    {
     "name": "stdout",
     "output_type": "stream",
     "text": [
      "Epoch 12/300 | Train Loss: 0.4185 | Val Loss: 0.4703 | Val Metric: 367.9124\n"
     ]
    },
    {
     "name": "stderr",
     "output_type": "stream",
     "text": [
      "Epoch 13/300: 100%|██████████| 4/4 [00:05<00:00,  1.43s/it]\n"
     ]
    },
    {
     "name": "stdout",
     "output_type": "stream",
     "text": [
      "MAPE too high (1020.92%), using RMSE instead\n",
      "Epoch 13/300 | Train Loss: 0.3844 | Val Loss: 0.4880 | Val Metric: 0.6974\n"
     ]
    },
    {
     "name": "stderr",
     "output_type": "stream",
     "text": [
      "Epoch 14/300: 100%|██████████| 4/4 [00:05<00:00,  1.47s/it]\n"
     ]
    },
    {
     "name": "stdout",
     "output_type": "stream",
     "text": [
      "Epoch 14/300 | Train Loss: 0.3520 | Val Loss: 0.4537 | Val Metric: 422.4482\n"
     ]
    },
    {
     "name": "stderr",
     "output_type": "stream",
     "text": [
      "Epoch 15/300: 100%|██████████| 4/4 [00:05<00:00,  1.41s/it]\n"
     ]
    },
    {
     "name": "stdout",
     "output_type": "stream",
     "text": [
      "Epoch 15/300 | Train Loss: 0.3313 | Val Loss: 0.4498 | Val Metric: 624.6067\n"
     ]
    },
    {
     "name": "stderr",
     "output_type": "stream",
     "text": [
      "Epoch 16/300: 100%|██████████| 4/4 [00:05<00:00,  1.30s/it]\n"
     ]
    },
    {
     "name": "stdout",
     "output_type": "stream",
     "text": [
      "Epoch 16/300 | Train Loss: 0.3108 | Val Loss: 0.4215 | Val Metric: 711.0725\n"
     ]
    },
    {
     "name": "stderr",
     "output_type": "stream",
     "text": [
      "Epoch 17/300: 100%|██████████| 4/4 [00:05<00:00,  1.33s/it]\n"
     ]
    },
    {
     "name": "stdout",
     "output_type": "stream",
     "text": [
      "Epoch 17/300 | Train Loss: 0.2886 | Val Loss: 0.4323 | Val Metric: 594.4932\n"
     ]
    },
    {
     "name": "stderr",
     "output_type": "stream",
     "text": [
      "Epoch 18/300: 100%|██████████| 4/4 [00:05<00:00,  1.34s/it]\n"
     ]
    },
    {
     "name": "stdout",
     "output_type": "stream",
     "text": [
      "MAPE too high (1304.28%), using RMSE instead\n",
      "Epoch 18/300 | Train Loss: 0.2763 | Val Loss: 0.4261 | Val Metric: 0.6522\n"
     ]
    },
    {
     "name": "stderr",
     "output_type": "stream",
     "text": [
      "Epoch 19/300: 100%|██████████| 4/4 [00:05<00:00,  1.33s/it]\n"
     ]
    },
    {
     "name": "stdout",
     "output_type": "stream",
     "text": [
      "Epoch 19/300 | Train Loss: 0.2571 | Val Loss: 0.4217 | Val Metric: 898.0287\n"
     ]
    },
    {
     "name": "stderr",
     "output_type": "stream",
     "text": [
      "Epoch 20/300: 100%|██████████| 4/4 [00:05<00:00,  1.36s/it]\n"
     ]
    },
    {
     "name": "stdout",
     "output_type": "stream",
     "text": [
      "MAPE too high (1084.93%), using RMSE instead\n",
      "Epoch 20/300 | Train Loss: 0.2443 | Val Loss: 0.4297 | Val Metric: 0.6547\n"
     ]
    },
    {
     "name": "stderr",
     "output_type": "stream",
     "text": [
      "Epoch 21/300: 100%|██████████| 4/4 [00:05<00:00,  1.35s/it]\n"
     ]
    },
    {
     "name": "stdout",
     "output_type": "stream",
     "text": [
      "Epoch 21/300 | Train Loss: 0.2301 | Val Loss: 0.4174 | Val Metric: 693.6320\n"
     ]
    },
    {
     "name": "stderr",
     "output_type": "stream",
     "text": [
      "Epoch 22/300: 100%|██████████| 4/4 [00:05<00:00,  1.36s/it]\n"
     ]
    },
    {
     "name": "stdout",
     "output_type": "stream",
     "text": [
      "MAPE too high (2267.11%), using RMSE instead\n",
      "Epoch 22/300 | Train Loss: 0.2145 | Val Loss: 0.4138 | Val Metric: 0.6426\n"
     ]
    },
    {
     "name": "stderr",
     "output_type": "stream",
     "text": [
      "Epoch 23/300: 100%|██████████| 4/4 [00:05<00:00,  1.34s/it]\n"
     ]
    },
    {
     "name": "stdout",
     "output_type": "stream",
     "text": [
      "Epoch 23/300 | Train Loss: 0.1988 | Val Loss: 0.3911 | Val Metric: 864.0357\n"
     ]
    },
    {
     "name": "stderr",
     "output_type": "stream",
     "text": [
      "Epoch 24/300: 100%|██████████| 4/4 [00:05<00:00,  1.32s/it]\n"
     ]
    },
    {
     "name": "stdout",
     "output_type": "stream",
     "text": [
      "Epoch 24/300 | Train Loss: 0.1886 | Val Loss: 0.3868 | Val Metric: 824.5953\n"
     ]
    },
    {
     "name": "stderr",
     "output_type": "stream",
     "text": [
      "Epoch 25/300: 100%|██████████| 4/4 [00:05<00:00,  1.33s/it]\n"
     ]
    },
    {
     "name": "stdout",
     "output_type": "stream",
     "text": [
      "Epoch 25/300 | Train Loss: 0.1833 | Val Loss: 0.3872 | Val Metric: 952.3109\n"
     ]
    },
    {
     "name": "stderr",
     "output_type": "stream",
     "text": [
      "Epoch 26/300: 100%|██████████| 4/4 [00:05<00:00,  1.36s/it]\n"
     ]
    },
    {
     "name": "stdout",
     "output_type": "stream",
     "text": [
      "Epoch 26/300 | Train Loss: 0.1744 | Val Loss: 0.3824 | Val Metric: 670.6974\n"
     ]
    },
    {
     "name": "stderr",
     "output_type": "stream",
     "text": [
      "Epoch 27/300: 100%|██████████| 4/4 [00:05<00:00,  1.33s/it]\n"
     ]
    },
    {
     "name": "stdout",
     "output_type": "stream",
     "text": [
      "Epoch 27/300 | Train Loss: 0.1672 | Val Loss: 0.3770 | Val Metric: 749.5367\n"
     ]
    },
    {
     "name": "stderr",
     "output_type": "stream",
     "text": [
      "Epoch 28/300: 100%|██████████| 4/4 [00:05<00:00,  1.31s/it]\n"
     ]
    },
    {
     "name": "stdout",
     "output_type": "stream",
     "text": [
      "Epoch 28/300 | Train Loss: 0.1554 | Val Loss: 0.3814 | Val Metric: 625.5021\n"
     ]
    },
    {
     "name": "stderr",
     "output_type": "stream",
     "text": [
      "Epoch 29/300: 100%|██████████| 4/4 [00:05<00:00,  1.32s/it]\n"
     ]
    },
    {
     "name": "stdout",
     "output_type": "stream",
     "text": [
      "Epoch 29/300 | Train Loss: 0.1516 | Val Loss: 0.3768 | Val Metric: 977.1108\n"
     ]
    },
    {
     "name": "stderr",
     "output_type": "stream",
     "text": [
      "Epoch 30/300: 100%|██████████| 4/4 [00:05<00:00,  1.31s/it]\n"
     ]
    },
    {
     "name": "stdout",
     "output_type": "stream",
     "text": [
      "Epoch 30/300 | Train Loss: 0.1437 | Val Loss: 0.3657 | Val Metric: 750.9318\n"
     ]
    },
    {
     "name": "stderr",
     "output_type": "stream",
     "text": [
      "Epoch 31/300: 100%|██████████| 4/4 [00:05<00:00,  1.36s/it]\n"
     ]
    },
    {
     "name": "stdout",
     "output_type": "stream",
     "text": [
      "Epoch 31/300 | Train Loss: 0.1361 | Val Loss: 0.3747 | Val Metric: 740.7908\n"
     ]
    },
    {
     "name": "stderr",
     "output_type": "stream",
     "text": [
      "Epoch 32/300: 100%|██████████| 4/4 [00:05<00:00,  1.33s/it]\n"
     ]
    },
    {
     "name": "stdout",
     "output_type": "stream",
     "text": [
      "MAPE too high (1111.72%), using RMSE instead\n",
      "Epoch 32/300 | Train Loss: 0.1332 | Val Loss: 0.3724 | Val Metric: 0.6092\n"
     ]
    },
    {
     "name": "stderr",
     "output_type": "stream",
     "text": [
      "Epoch 33/300: 100%|██████████| 4/4 [00:05<00:00,  1.38s/it]\n"
     ]
    },
    {
     "name": "stdout",
     "output_type": "stream",
     "text": [
      "Epoch 33/300 | Train Loss: 0.1240 | Val Loss: 0.3653 | Val Metric: 854.5861\n"
     ]
    },
    {
     "name": "stderr",
     "output_type": "stream",
     "text": [
      "Epoch 34/300: 100%|██████████| 4/4 [00:05<00:00,  1.36s/it]\n"
     ]
    },
    {
     "name": "stdout",
     "output_type": "stream",
     "text": [
      "Epoch 34/300 | Train Loss: 0.1215 | Val Loss: 0.3624 | Val Metric: 501.7005\n"
     ]
    },
    {
     "name": "stderr",
     "output_type": "stream",
     "text": [
      "Epoch 35/300: 100%|██████████| 4/4 [00:05<00:00,  1.38s/it]\n"
     ]
    },
    {
     "name": "stdout",
     "output_type": "stream",
     "text": [
      "Epoch 35/300 | Train Loss: 0.1179 | Val Loss: 0.3748 | Val Metric: 284.5023\n"
     ]
    },
    {
     "name": "stderr",
     "output_type": "stream",
     "text": [
      "Epoch 36/300: 100%|██████████| 4/4 [00:05<00:00,  1.41s/it]\n"
     ]
    },
    {
     "name": "stdout",
     "output_type": "stream",
     "text": [
      "Epoch 36/300 | Train Loss: 0.1157 | Val Loss: 0.3645 | Val Metric: 593.1090\n"
     ]
    },
    {
     "name": "stderr",
     "output_type": "stream",
     "text": [
      "Epoch 37/300: 100%|██████████| 4/4 [00:05<00:00,  1.42s/it]\n"
     ]
    },
    {
     "name": "stdout",
     "output_type": "stream",
     "text": [
      "MAPE too high (1177.38%), using RMSE instead\n",
      "Epoch 37/300 | Train Loss: 0.1083 | Val Loss: 0.3649 | Val Metric: 0.6029\n"
     ]
    },
    {
     "name": "stderr",
     "output_type": "stream",
     "text": [
      "Epoch 38/300: 100%|██████████| 4/4 [00:05<00:00,  1.40s/it]\n"
     ]
    },
    {
     "name": "stdout",
     "output_type": "stream",
     "text": [
      "Epoch 38/300 | Train Loss: 0.1052 | Val Loss: 0.3680 | Val Metric: 884.3837\n"
     ]
    },
    {
     "name": "stderr",
     "output_type": "stream",
     "text": [
      "Epoch 39/300: 100%|██████████| 4/4 [00:05<00:00,  1.36s/it]\n"
     ]
    },
    {
     "name": "stdout",
     "output_type": "stream",
     "text": [
      "Epoch 39/300 | Train Loss: 0.1005 | Val Loss: 0.3551 | Val Metric: 586.1079\n"
     ]
    },
    {
     "name": "stderr",
     "output_type": "stream",
     "text": [
      "Epoch 40/300: 100%|██████████| 4/4 [00:05<00:00,  1.35s/it]\n"
     ]
    },
    {
     "name": "stdout",
     "output_type": "stream",
     "text": [
      "Epoch 40/300 | Train Loss: 0.0982 | Val Loss: 0.3633 | Val Metric: 728.7618\n"
     ]
    },
    {
     "name": "stderr",
     "output_type": "stream",
     "text": [
      "Epoch 41/300: 100%|██████████| 4/4 [00:05<00:00,  1.35s/it]\n"
     ]
    },
    {
     "name": "stdout",
     "output_type": "stream",
     "text": [
      "MAPE too high (1264.69%), using RMSE instead\n",
      "Epoch 41/300 | Train Loss: 0.0949 | Val Loss: 0.3530 | Val Metric: 0.5929\n"
     ]
    },
    {
     "name": "stderr",
     "output_type": "stream",
     "text": [
      "Epoch 42/300: 100%|██████████| 4/4 [00:05<00:00,  1.38s/it]\n"
     ]
    },
    {
     "name": "stdout",
     "output_type": "stream",
     "text": [
      "MAPE too high (1518.15%), using RMSE instead\n",
      "Epoch 42/300 | Train Loss: 0.0920 | Val Loss: 0.3563 | Val Metric: 0.5954\n"
     ]
    },
    {
     "name": "stderr",
     "output_type": "stream",
     "text": [
      "Epoch 43/300: 100%|██████████| 4/4 [00:05<00:00,  1.35s/it]\n"
     ]
    },
    {
     "name": "stdout",
     "output_type": "stream",
     "text": [
      "Epoch 43/300 | Train Loss: 0.0870 | Val Loss: 0.3518 | Val Metric: 920.5122\n"
     ]
    },
    {
     "name": "stderr",
     "output_type": "stream",
     "text": [
      "Epoch 44/300: 100%|██████████| 4/4 [00:05<00:00,  1.41s/it]\n"
     ]
    },
    {
     "name": "stdout",
     "output_type": "stream",
     "text": [
      "Epoch 44/300 | Train Loss: 0.0872 | Val Loss: 0.3587 | Val Metric: 686.9241\n"
     ]
    },
    {
     "name": "stderr",
     "output_type": "stream",
     "text": [
      "Epoch 45/300: 100%|██████████| 4/4 [00:05<00:00,  1.42s/it]\n"
     ]
    },
    {
     "name": "stdout",
     "output_type": "stream",
     "text": [
      "Epoch 45/300 | Train Loss: 0.0855 | Val Loss: 0.3519 | Val Metric: 803.5033\n"
     ]
    },
    {
     "name": "stderr",
     "output_type": "stream",
     "text": [
      "Epoch 46/300: 100%|██████████| 4/4 [00:05<00:00,  1.44s/it]\n"
     ]
    },
    {
     "name": "stdout",
     "output_type": "stream",
     "text": [
      "MAPE too high (1292.79%), using RMSE instead\n",
      "Epoch 46/300 | Train Loss: 0.0838 | Val Loss: 0.3413 | Val Metric: 0.5829\n"
     ]
    },
    {
     "name": "stderr",
     "output_type": "stream",
     "text": [
      "Epoch 47/300: 100%|██████████| 4/4 [00:05<00:00,  1.45s/it]\n"
     ]
    },
    {
     "name": "stdout",
     "output_type": "stream",
     "text": [
      "Epoch 47/300 | Train Loss: 0.0818 | Val Loss: 0.3431 | Val Metric: 759.1796\n"
     ]
    },
    {
     "name": "stderr",
     "output_type": "stream",
     "text": [
      "Epoch 48/300: 100%|██████████| 4/4 [00:05<00:00,  1.44s/it]\n"
     ]
    },
    {
     "name": "stdout",
     "output_type": "stream",
     "text": [
      "Epoch 48/300 | Train Loss: 0.0774 | Val Loss: 0.3348 | Val Metric: 541.4746\n"
     ]
    },
    {
     "name": "stderr",
     "output_type": "stream",
     "text": [
      "Epoch 49/300: 100%|██████████| 4/4 [00:05<00:00,  1.47s/it]\n"
     ]
    },
    {
     "name": "stdout",
     "output_type": "stream",
     "text": [
      "MAPE too high (1179.76%), using RMSE instead\n",
      "Epoch 49/300 | Train Loss: 0.0766 | Val Loss: 0.3318 | Val Metric: 0.5746\n"
     ]
    },
    {
     "name": "stderr",
     "output_type": "stream",
     "text": [
      "Epoch 50/300: 100%|██████████| 4/4 [00:05<00:00,  1.40s/it]\n"
     ]
    },
    {
     "name": "stdout",
     "output_type": "stream",
     "text": [
      "MAPE too high (1491.42%), using RMSE instead\n",
      "Epoch 50/300 | Train Loss: 0.0728 | Val Loss: 0.3408 | Val Metric: 0.5824\n"
     ]
    },
    {
     "name": "stderr",
     "output_type": "stream",
     "text": [
      "Epoch 51/300: 100%|██████████| 4/4 [00:05<00:00,  1.45s/it]\n"
     ]
    },
    {
     "name": "stdout",
     "output_type": "stream",
     "text": [
      "MAPE too high (1317.76%), using RMSE instead\n",
      "Epoch 51/300 | Train Loss: 0.0726 | Val Loss: 0.3323 | Val Metric: 0.5752\n"
     ]
    },
    {
     "name": "stderr",
     "output_type": "stream",
     "text": [
      "Epoch 52/300: 100%|██████████| 4/4 [00:05<00:00,  1.45s/it]\n"
     ]
    },
    {
     "name": "stdout",
     "output_type": "stream",
     "text": [
      "Epoch 52/300 | Train Loss: 0.0701 | Val Loss: 0.3293 | Val Metric: 778.8198\n"
     ]
    },
    {
     "name": "stderr",
     "output_type": "stream",
     "text": [
      "Epoch 53/300: 100%|██████████| 4/4 [00:05<00:00,  1.39s/it]\n"
     ]
    },
    {
     "name": "stdout",
     "output_type": "stream",
     "text": [
      "Epoch 53/300 | Train Loss: 0.0680 | Val Loss: 0.3218 | Val Metric: 738.7236\n"
     ]
    },
    {
     "name": "stderr",
     "output_type": "stream",
     "text": [
      "Epoch 54/300: 100%|██████████| 4/4 [00:05<00:00,  1.42s/it]\n"
     ]
    },
    {
     "name": "stdout",
     "output_type": "stream",
     "text": [
      "Epoch 54/300 | Train Loss: 0.0672 | Val Loss: 0.3231 | Val Metric: 986.7902\n"
     ]
    },
    {
     "name": "stderr",
     "output_type": "stream",
     "text": [
      "Epoch 55/300: 100%|██████████| 4/4 [00:05<00:00,  1.43s/it]\n"
     ]
    },
    {
     "name": "stdout",
     "output_type": "stream",
     "text": [
      "Epoch 55/300 | Train Loss: 0.0657 | Val Loss: 0.3181 | Val Metric: 622.4123\n"
     ]
    },
    {
     "name": "stderr",
     "output_type": "stream",
     "text": [
      "Epoch 56/300: 100%|██████████| 4/4 [00:05<00:00,  1.41s/it]\n"
     ]
    },
    {
     "name": "stdout",
     "output_type": "stream",
     "text": [
      "Epoch 56/300 | Train Loss: 0.0643 | Val Loss: 0.3147 | Val Metric: 723.8436\n"
     ]
    },
    {
     "name": "stderr",
     "output_type": "stream",
     "text": [
      "Epoch 57/300: 100%|██████████| 4/4 [00:05<00:00,  1.43s/it]\n"
     ]
    },
    {
     "name": "stdout",
     "output_type": "stream",
     "text": [
      "MAPE too high (1358.05%), using RMSE instead\n",
      "Epoch 57/300 | Train Loss: 0.0635 | Val Loss: 0.3237 | Val Metric: 0.5676\n"
     ]
    },
    {
     "name": "stderr",
     "output_type": "stream",
     "text": [
      "Epoch 58/300: 100%|██████████| 4/4 [00:05<00:00,  1.37s/it]\n"
     ]
    },
    {
     "name": "stdout",
     "output_type": "stream",
     "text": [
      "Epoch 58/300 | Train Loss: 0.0619 | Val Loss: 0.3185 | Val Metric: 844.7651\n"
     ]
    },
    {
     "name": "stderr",
     "output_type": "stream",
     "text": [
      "Epoch 59/300: 100%|██████████| 4/4 [00:05<00:00,  1.42s/it]\n"
     ]
    },
    {
     "name": "stdout",
     "output_type": "stream",
     "text": [
      "Epoch 59/300 | Train Loss: 0.0606 | Val Loss: 0.3215 | Val Metric: 431.1810\n"
     ]
    },
    {
     "name": "stderr",
     "output_type": "stream",
     "text": [
      "Epoch 60/300: 100%|██████████| 4/4 [00:05<00:00,  1.44s/it]\n"
     ]
    },
    {
     "name": "stdout",
     "output_type": "stream",
     "text": [
      "Epoch 60/300 | Train Loss: 0.0593 | Val Loss: 0.3160 | Val Metric: 988.2233\n"
     ]
    },
    {
     "name": "stderr",
     "output_type": "stream",
     "text": [
      "Epoch 61/300: 100%|██████████| 4/4 [00:05<00:00,  1.48s/it]\n"
     ]
    },
    {
     "name": "stdout",
     "output_type": "stream",
     "text": [
      "Epoch 61/300 | Train Loss: 0.0584 | Val Loss: 0.3098 | Val Metric: 876.9943\n"
     ]
    },
    {
     "name": "stderr",
     "output_type": "stream",
     "text": [
      "Epoch 62/300: 100%|██████████| 4/4 [00:06<00:00,  1.52s/it]\n"
     ]
    },
    {
     "name": "stdout",
     "output_type": "stream",
     "text": [
      "Epoch 62/300 | Train Loss: 0.0577 | Val Loss: 0.3055 | Val Metric: 851.4323\n"
     ]
    },
    {
     "name": "stderr",
     "output_type": "stream",
     "text": [
      "Epoch 63/300: 100%|██████████| 4/4 [00:06<00:00,  1.54s/it]\n"
     ]
    },
    {
     "name": "stdout",
     "output_type": "stream",
     "text": [
      "MAPE too high (1048.69%), using RMSE instead\n",
      "Epoch 63/300 | Train Loss: 0.0563 | Val Loss: 0.3038 | Val Metric: 0.5496\n"
     ]
    },
    {
     "name": "stderr",
     "output_type": "stream",
     "text": [
      "Epoch 64/300: 100%|██████████| 4/4 [00:05<00:00,  1.39s/it]\n"
     ]
    },
    {
     "name": "stdout",
     "output_type": "stream",
     "text": [
      "Epoch 64/300 | Train Loss: 0.0555 | Val Loss: 0.3063 | Val Metric: 973.0759\n"
     ]
    },
    {
     "name": "stderr",
     "output_type": "stream",
     "text": [
      "Epoch 65/300: 100%|██████████| 4/4 [00:05<00:00,  1.43s/it]\n"
     ]
    },
    {
     "name": "stdout",
     "output_type": "stream",
     "text": [
      "MAPE too high (1184.59%), using RMSE instead\n",
      "Epoch 65/300 | Train Loss: 0.0552 | Val Loss: 0.2995 | Val Metric: 0.5458\n"
     ]
    },
    {
     "name": "stderr",
     "output_type": "stream",
     "text": [
      "Epoch 66/300: 100%|██████████| 4/4 [00:05<00:00,  1.34s/it]\n"
     ]
    },
    {
     "name": "stdout",
     "output_type": "stream",
     "text": [
      "MAPE too high (1294.52%), using RMSE instead\n",
      "Epoch 66/300 | Train Loss: 0.0561 | Val Loss: 0.3020 | Val Metric: 0.5481\n"
     ]
    },
    {
     "name": "stderr",
     "output_type": "stream",
     "text": [
      "Epoch 67/300: 100%|██████████| 4/4 [00:05<00:00,  1.35s/it]\n"
     ]
    },
    {
     "name": "stdout",
     "output_type": "stream",
     "text": [
      "MAPE too high (1406.21%), using RMSE instead\n",
      "Epoch 67/300 | Train Loss: 0.0546 | Val Loss: 0.3003 | Val Metric: 0.5464\n"
     ]
    },
    {
     "name": "stderr",
     "output_type": "stream",
     "text": [
      "Epoch 68/300: 100%|██████████| 4/4 [00:05<00:00,  1.36s/it]\n"
     ]
    },
    {
     "name": "stdout",
     "output_type": "stream",
     "text": [
      "Epoch 68/300 | Train Loss: 0.0536 | Val Loss: 0.3056 | Val Metric: 983.9872\n"
     ]
    },
    {
     "name": "stderr",
     "output_type": "stream",
     "text": [
      "Epoch 69/300: 100%|██████████| 4/4 [00:05<00:00,  1.36s/it]\n"
     ]
    },
    {
     "name": "stdout",
     "output_type": "stream",
     "text": [
      "Epoch 69/300 | Train Loss: 0.0524 | Val Loss: 0.3061 | Val Metric: 821.5106\n"
     ]
    },
    {
     "name": "stderr",
     "output_type": "stream",
     "text": [
      "Epoch 70/300: 100%|██████████| 4/4 [00:05<00:00,  1.35s/it]\n"
     ]
    },
    {
     "name": "stdout",
     "output_type": "stream",
     "text": [
      "Epoch 70/300 | Train Loss: 0.0509 | Val Loss: 0.2981 | Val Metric: 921.7393\n"
     ]
    },
    {
     "name": "stderr",
     "output_type": "stream",
     "text": [
      "Epoch 71/300: 100%|██████████| 4/4 [00:05<00:00,  1.35s/it]\n"
     ]
    },
    {
     "name": "stdout",
     "output_type": "stream",
     "text": [
      "MAPE too high (1095.35%), using RMSE instead\n",
      "Epoch 71/300 | Train Loss: 0.0502 | Val Loss: 0.2933 | Val Metric: 0.5401\n"
     ]
    },
    {
     "name": "stderr",
     "output_type": "stream",
     "text": [
      "Epoch 72/300: 100%|██████████| 4/4 [00:05<00:00,  1.34s/it]\n"
     ]
    },
    {
     "name": "stdout",
     "output_type": "stream",
     "text": [
      "MAPE too high (1104.47%), using RMSE instead\n",
      "Epoch 72/300 | Train Loss: 0.0502 | Val Loss: 0.2950 | Val Metric: 0.5414\n"
     ]
    },
    {
     "name": "stderr",
     "output_type": "stream",
     "text": [
      "Epoch 73/300: 100%|██████████| 4/4 [00:05<00:00,  1.35s/it]\n"
     ]
    },
    {
     "name": "stdout",
     "output_type": "stream",
     "text": [
      "Epoch 73/300 | Train Loss: 0.0481 | Val Loss: 0.2988 | Val Metric: 633.0648\n"
     ]
    },
    {
     "name": "stderr",
     "output_type": "stream",
     "text": [
      "Epoch 74/300: 100%|██████████| 4/4 [00:05<00:00,  1.32s/it]\n"
     ]
    },
    {
     "name": "stdout",
     "output_type": "stream",
     "text": [
      "Epoch 74/300 | Train Loss: 0.0482 | Val Loss: 0.2985 | Val Metric: 987.2809\n"
     ]
    },
    {
     "name": "stderr",
     "output_type": "stream",
     "text": [
      "Epoch 75/300: 100%|██████████| 4/4 [00:05<00:00,  1.35s/it]\n"
     ]
    },
    {
     "name": "stdout",
     "output_type": "stream",
     "text": [
      "MAPE too high (1394.47%), using RMSE instead\n",
      "Epoch 75/300 | Train Loss: 0.0483 | Val Loss: 0.2984 | Val Metric: 0.5446\n"
     ]
    },
    {
     "name": "stderr",
     "output_type": "stream",
     "text": [
      "Epoch 76/300: 100%|██████████| 4/4 [00:05<00:00,  1.34s/it]\n"
     ]
    },
    {
     "name": "stdout",
     "output_type": "stream",
     "text": [
      "MAPE too high (1405.90%), using RMSE instead\n",
      "Epoch 76/300 | Train Loss: 0.0467 | Val Loss: 0.3026 | Val Metric: 0.5484\n"
     ]
    },
    {
     "name": "stderr",
     "output_type": "stream",
     "text": [
      "Epoch 77/300: 100%|██████████| 4/4 [00:05<00:00,  1.37s/it]\n"
     ]
    },
    {
     "name": "stdout",
     "output_type": "stream",
     "text": [
      "MAPE too high (1282.32%), using RMSE instead\n",
      "Epoch 77/300 | Train Loss: 0.0478 | Val Loss: 0.2958 | Val Metric: 0.5421\n"
     ]
    },
    {
     "name": "stderr",
     "output_type": "stream",
     "text": [
      "Epoch 78/300: 100%|██████████| 4/4 [00:05<00:00,  1.34s/it]\n"
     ]
    },
    {
     "name": "stdout",
     "output_type": "stream",
     "text": [
      "MAPE too high (1167.88%), using RMSE instead\n",
      "Epoch 78/300 | Train Loss: 0.0457 | Val Loss: 0.3006 | Val Metric: 0.5464\n"
     ]
    },
    {
     "name": "stderr",
     "output_type": "stream",
     "text": [
      "Epoch 79/300: 100%|██████████| 4/4 [00:05<00:00,  1.35s/it]\n"
     ]
    },
    {
     "name": "stdout",
     "output_type": "stream",
     "text": [
      "MAPE too high (1174.63%), using RMSE instead\n",
      "Epoch 79/300 | Train Loss: 0.0457 | Val Loss: 0.3008 | Val Metric: 0.5466\n"
     ]
    },
    {
     "name": "stderr",
     "output_type": "stream",
     "text": [
      "Epoch 80/300: 100%|██████████| 4/4 [00:05<00:00,  1.34s/it]\n"
     ]
    },
    {
     "name": "stdout",
     "output_type": "stream",
     "text": [
      "MAPE too high (1256.99%), using RMSE instead\n",
      "Epoch 80/300 | Train Loss: 0.0445 | Val Loss: 0.3007 | Val Metric: 0.5466\n"
     ]
    },
    {
     "name": "stderr",
     "output_type": "stream",
     "text": [
      "Epoch 81/300: 100%|██████████| 4/4 [00:05<00:00,  1.37s/it]\n"
     ]
    },
    {
     "name": "stdout",
     "output_type": "stream",
     "text": [
      "MAPE too high (1167.13%), using RMSE instead\n",
      "Epoch 81/300 | Train Loss: 0.0452 | Val Loss: 0.2974 | Val Metric: 0.5435\n"
     ]
    },
    {
     "name": "stderr",
     "output_type": "stream",
     "text": [
      "Epoch 82/300: 100%|██████████| 4/4 [00:05<00:00,  1.35s/it]\n"
     ]
    },
    {
     "name": "stdout",
     "output_type": "stream",
     "text": [
      "MAPE too high (1297.60%), using RMSE instead\n",
      "Epoch 82/300 | Train Loss: 0.0450 | Val Loss: 0.2988 | Val Metric: 0.5449\n"
     ]
    },
    {
     "name": "stderr",
     "output_type": "stream",
     "text": [
      "Epoch 83/300: 100%|██████████| 4/4 [00:05<00:00,  1.35s/it]\n"
     ]
    },
    {
     "name": "stdout",
     "output_type": "stream",
     "text": [
      "MAPE too high (1386.60%), using RMSE instead\n",
      "Epoch 83/300 | Train Loss: 0.0434 | Val Loss: 0.3029 | Val Metric: 0.5486\n"
     ]
    },
    {
     "name": "stderr",
     "output_type": "stream",
     "text": [
      "Epoch 84/300: 100%|██████████| 4/4 [00:05<00:00,  1.39s/it]\n"
     ]
    },
    {
     "name": "stdout",
     "output_type": "stream",
     "text": [
      "MAPE too high (1427.05%), using RMSE instead\n",
      "Epoch 84/300 | Train Loss: 0.0426 | Val Loss: 0.2982 | Val Metric: 0.5444\n"
     ]
    },
    {
     "name": "stderr",
     "output_type": "stream",
     "text": [
      "Epoch 85/300: 100%|██████████| 4/4 [00:05<00:00,  1.33s/it]\n"
     ]
    },
    {
     "name": "stdout",
     "output_type": "stream",
     "text": [
      "MAPE too high (1460.02%), using RMSE instead\n",
      "Epoch 85/300 | Train Loss: 0.0439 | Val Loss: 0.2916 | Val Metric: 0.5384\n"
     ]
    },
    {
     "name": "stderr",
     "output_type": "stream",
     "text": [
      "Epoch 86/300: 100%|██████████| 4/4 [00:05<00:00,  1.34s/it]\n"
     ]
    },
    {
     "name": "stdout",
     "output_type": "stream",
     "text": [
      "MAPE too high (1318.77%), using RMSE instead\n",
      "Epoch 86/300 | Train Loss: 0.0419 | Val Loss: 0.2929 | Val Metric: 0.5393\n"
     ]
    },
    {
     "name": "stderr",
     "output_type": "stream",
     "text": [
      "Epoch 87/300: 100%|██████████| 4/4 [00:05<00:00,  1.30s/it]\n"
     ]
    },
    {
     "name": "stdout",
     "output_type": "stream",
     "text": [
      "MAPE too high (1094.37%), using RMSE instead\n",
      "Epoch 87/300 | Train Loss: 0.0430 | Val Loss: 0.2877 | Val Metric: 0.5347\n"
     ]
    },
    {
     "name": "stderr",
     "output_type": "stream",
     "text": [
      "Epoch 88/300: 100%|██████████| 4/4 [00:05<00:00,  1.28s/it]\n"
     ]
    },
    {
     "name": "stdout",
     "output_type": "stream",
     "text": [
      "MAPE too high (1289.42%), using RMSE instead\n",
      "Epoch 88/300 | Train Loss: 0.0407 | Val Loss: 0.2792 | Val Metric: 0.5269\n"
     ]
    },
    {
     "name": "stderr",
     "output_type": "stream",
     "text": [
      "Epoch 89/300: 100%|██████████| 4/4 [00:05<00:00,  1.32s/it]\n"
     ]
    },
    {
     "name": "stdout",
     "output_type": "stream",
     "text": [
      "MAPE too high (1334.82%), using RMSE instead\n",
      "Epoch 89/300 | Train Loss: 0.0401 | Val Loss: 0.2820 | Val Metric: 0.5294\n"
     ]
    },
    {
     "name": "stderr",
     "output_type": "stream",
     "text": [
      "Epoch 90/300: 100%|██████████| 4/4 [00:05<00:00,  1.39s/it]\n"
     ]
    },
    {
     "name": "stdout",
     "output_type": "stream",
     "text": [
      "MAPE too high (1475.62%), using RMSE instead\n",
      "Epoch 90/300 | Train Loss: 0.0406 | Val Loss: 0.2827 | Val Metric: 0.5302\n"
     ]
    },
    {
     "name": "stderr",
     "output_type": "stream",
     "text": [
      "Epoch 91/300: 100%|██████████| 4/4 [00:05<00:00,  1.33s/it]\n"
     ]
    },
    {
     "name": "stdout",
     "output_type": "stream",
     "text": [
      "MAPE too high (1384.71%), using RMSE instead\n",
      "Epoch 91/300 | Train Loss: 0.0402 | Val Loss: 0.2844 | Val Metric: 0.5317\n"
     ]
    },
    {
     "name": "stderr",
     "output_type": "stream",
     "text": [
      "Epoch 92/300: 100%|██████████| 4/4 [00:05<00:00,  1.32s/it]\n"
     ]
    },
    {
     "name": "stdout",
     "output_type": "stream",
     "text": [
      "MAPE too high (1287.30%), using RMSE instead\n",
      "Epoch 92/300 | Train Loss: 0.0396 | Val Loss: 0.2852 | Val Metric: 0.5324\n"
     ]
    },
    {
     "name": "stderr",
     "output_type": "stream",
     "text": [
      "Epoch 93/300: 100%|██████████| 4/4 [00:05<00:00,  1.31s/it]\n"
     ]
    },
    {
     "name": "stdout",
     "output_type": "stream",
     "text": [
      "MAPE too high (1080.35%), using RMSE instead\n",
      "Epoch 93/300 | Train Loss: 0.0395 | Val Loss: 0.2866 | Val Metric: 0.5336\n"
     ]
    },
    {
     "name": "stderr",
     "output_type": "stream",
     "text": [
      "Epoch 94/300: 100%|██████████| 4/4 [00:05<00:00,  1.30s/it]\n"
     ]
    },
    {
     "name": "stdout",
     "output_type": "stream",
     "text": [
      "MAPE too high (1070.37%), using RMSE instead\n",
      "Epoch 94/300 | Train Loss: 0.0395 | Val Loss: 0.2835 | Val Metric: 0.5308\n"
     ]
    },
    {
     "name": "stderr",
     "output_type": "stream",
     "text": [
      "Epoch 95/300: 100%|██████████| 4/4 [00:05<00:00,  1.40s/it]\n"
     ]
    },
    {
     "name": "stdout",
     "output_type": "stream",
     "text": [
      "MAPE too high (1173.56%), using RMSE instead\n",
      "Epoch 95/300 | Train Loss: 0.0389 | Val Loss: 0.2879 | Val Metric: 0.5347\n"
     ]
    },
    {
     "name": "stderr",
     "output_type": "stream",
     "text": [
      "Epoch 96/300: 100%|██████████| 4/4 [00:05<00:00,  1.31s/it]\n"
     ]
    },
    {
     "name": "stdout",
     "output_type": "stream",
     "text": [
      "MAPE too high (1039.15%), using RMSE instead\n",
      "Epoch 96/300 | Train Loss: 0.0397 | Val Loss: 0.2851 | Val Metric: 0.5322\n"
     ]
    },
    {
     "name": "stderr",
     "output_type": "stream",
     "text": [
      "Epoch 97/300: 100%|██████████| 4/4 [00:04<00:00,  1.23s/it]\n"
     ]
    },
    {
     "name": "stdout",
     "output_type": "stream",
     "text": [
      "MAPE too high (1042.80%), using RMSE instead\n",
      "Epoch 97/300 | Train Loss: 0.0380 | Val Loss: 0.2807 | Val Metric: 0.5281\n"
     ]
    },
    {
     "name": "stderr",
     "output_type": "stream",
     "text": [
      "Epoch 98/300: 100%|██████████| 4/4 [00:05<00:00,  1.27s/it]\n"
     ]
    },
    {
     "name": "stdout",
     "output_type": "stream",
     "text": [
      "MAPE too high (1188.81%), using RMSE instead\n",
      "Epoch 98/300 | Train Loss: 0.0377 | Val Loss: 0.2847 | Val Metric: 0.5318\n"
     ]
    },
    {
     "name": "stderr",
     "output_type": "stream",
     "text": [
      "Epoch 99/300: 100%|██████████| 4/4 [00:05<00:00,  1.28s/it]\n"
     ]
    },
    {
     "name": "stdout",
     "output_type": "stream",
     "text": [
      "Epoch 99/300 | Train Loss: 0.0381 | Val Loss: 0.2791 | Val Metric: 926.6155\n"
     ]
    },
    {
     "name": "stderr",
     "output_type": "stream",
     "text": [
      "Epoch 100/300: 100%|██████████| 4/4 [00:04<00:00,  1.24s/it]\n"
     ]
    },
    {
     "name": "stdout",
     "output_type": "stream",
     "text": [
      "Epoch 100/300 | Train Loss: 0.0380 | Val Loss: 0.2807 | Val Metric: 882.8383\n"
     ]
    },
    {
     "name": "stderr",
     "output_type": "stream",
     "text": [
      "Epoch 101/300: 100%|██████████| 4/4 [00:05<00:00,  1.32s/it]\n"
     ]
    },
    {
     "name": "stdout",
     "output_type": "stream",
     "text": [
      "MAPE too high (1114.22%), using RMSE instead\n",
      "Epoch 101/300 | Train Loss: 0.0373 | Val Loss: 0.2807 | Val Metric: 0.5279\n"
     ]
    },
    {
     "name": "stderr",
     "output_type": "stream",
     "text": [
      "Epoch 102/300: 100%|██████████| 4/4 [00:05<00:00,  1.32s/it]\n"
     ]
    },
    {
     "name": "stdout",
     "output_type": "stream",
     "text": [
      "MAPE too high (1385.68%), using RMSE instead\n",
      "Epoch 102/300 | Train Loss: 0.0363 | Val Loss: 0.2842 | Val Metric: 0.5311\n"
     ]
    },
    {
     "name": "stderr",
     "output_type": "stream",
     "text": [
      "Epoch 103/300: 100%|██████████| 4/4 [00:05<00:00,  1.31s/it]\n"
     ]
    },
    {
     "name": "stdout",
     "output_type": "stream",
     "text": [
      "MAPE too high (1323.58%), using RMSE instead\n",
      "Epoch 103/300 | Train Loss: 0.0374 | Val Loss: 0.2782 | Val Metric: 0.5257\n"
     ]
    },
    {
     "name": "stderr",
     "output_type": "stream",
     "text": [
      "Epoch 104/300: 100%|██████████| 4/4 [00:05<00:00,  1.38s/it]\n"
     ]
    },
    {
     "name": "stdout",
     "output_type": "stream",
     "text": [
      "Epoch 104/300 | Train Loss: 0.0354 | Val Loss: 0.2821 | Val Metric: 985.4287\n"
     ]
    },
    {
     "name": "stderr",
     "output_type": "stream",
     "text": [
      "Epoch 105/300: 100%|██████████| 4/4 [00:05<00:00,  1.26s/it]\n"
     ]
    },
    {
     "name": "stdout",
     "output_type": "stream",
     "text": [
      "Epoch 105/300 | Train Loss: 0.0363 | Val Loss: 0.2796 | Val Metric: 858.8604\n"
     ]
    },
    {
     "name": "stderr",
     "output_type": "stream",
     "text": [
      "Epoch 106/300: 100%|██████████| 4/4 [00:04<00:00,  1.24s/it]\n"
     ]
    },
    {
     "name": "stdout",
     "output_type": "stream",
     "text": [
      "MAPE too high (1003.21%), using RMSE instead\n",
      "Epoch 106/300 | Train Loss: 0.0357 | Val Loss: 0.2812 | Val Metric: 0.5283\n"
     ]
    },
    {
     "name": "stderr",
     "output_type": "stream",
     "text": [
      "Epoch 107/300: 100%|██████████| 4/4 [00:04<00:00,  1.24s/it]\n"
     ]
    },
    {
     "name": "stdout",
     "output_type": "stream",
     "text": [
      "MAPE too high (1019.35%), using RMSE instead\n",
      "Epoch 107/300 | Train Loss: 0.0356 | Val Loss: 0.2873 | Val Metric: 0.5340\n"
     ]
    },
    {
     "name": "stderr",
     "output_type": "stream",
     "text": [
      "Epoch 108/300: 100%|██████████| 4/4 [00:05<00:00,  1.29s/it]\n"
     ]
    },
    {
     "name": "stdout",
     "output_type": "stream",
     "text": [
      "MAPE too high (1024.15%), using RMSE instead\n",
      "Epoch 108/300 | Train Loss: 0.0345 | Val Loss: 0.2822 | Val Metric: 0.5294\n"
     ]
    },
    {
     "name": "stderr",
     "output_type": "stream",
     "text": [
      "Epoch 109/300: 100%|██████████| 4/4 [00:05<00:00,  1.32s/it]\n"
     ]
    },
    {
     "name": "stdout",
     "output_type": "stream",
     "text": [
      "MAPE too high (1089.67%), using RMSE instead\n",
      "Epoch 109/300 | Train Loss: 0.0345 | Val Loss: 0.2782 | Val Metric: 0.5256\n"
     ]
    },
    {
     "name": "stderr",
     "output_type": "stream",
     "text": [
      "Epoch 110/300: 100%|██████████| 4/4 [00:05<00:00,  1.27s/it]\n"
     ]
    },
    {
     "name": "stdout",
     "output_type": "stream",
     "text": [
      "MAPE too high (1148.91%), using RMSE instead\n",
      "Epoch 110/300 | Train Loss: 0.0346 | Val Loss: 0.2768 | Val Metric: 0.5243\n"
     ]
    },
    {
     "name": "stderr",
     "output_type": "stream",
     "text": [
      "Epoch 111/300: 100%|██████████| 4/4 [00:05<00:00,  1.29s/it]\n"
     ]
    },
    {
     "name": "stdout",
     "output_type": "stream",
     "text": [
      "Epoch 111/300 | Train Loss: 0.0345 | Val Loss: 0.2804 | Val Metric: 978.3437\n"
     ]
    },
    {
     "name": "stderr",
     "output_type": "stream",
     "text": [
      "Epoch 112/300: 100%|██████████| 4/4 [00:05<00:00,  1.41s/it]\n"
     ]
    },
    {
     "name": "stdout",
     "output_type": "stream",
     "text": [
      "Epoch 112/300 | Train Loss: 0.0340 | Val Loss: 0.2839 | Val Metric: 893.6471\n"
     ]
    },
    {
     "name": "stderr",
     "output_type": "stream",
     "text": [
      "Epoch 113/300: 100%|██████████| 4/4 [00:05<00:00,  1.30s/it]\n"
     ]
    },
    {
     "name": "stdout",
     "output_type": "stream",
     "text": [
      "MAPE too high (1140.27%), using RMSE instead\n",
      "Epoch 113/300 | Train Loss: 0.0344 | Val Loss: 0.2772 | Val Metric: 0.5249\n"
     ]
    },
    {
     "name": "stderr",
     "output_type": "stream",
     "text": [
      "Epoch 114/300: 100%|██████████| 4/4 [00:05<00:00,  1.36s/it]\n"
     ]
    },
    {
     "name": "stdout",
     "output_type": "stream",
     "text": [
      "Epoch 114/300 | Train Loss: 0.0336 | Val Loss: 0.2799 | Val Metric: 959.9536\n"
     ]
    },
    {
     "name": "stderr",
     "output_type": "stream",
     "text": [
      "Epoch 115/300: 100%|██████████| 4/4 [00:05<00:00,  1.34s/it]\n"
     ]
    },
    {
     "name": "stdout",
     "output_type": "stream",
     "text": [
      "Epoch 115/300 | Train Loss: 0.0334 | Val Loss: 0.2766 | Val Metric: 947.5520\n"
     ]
    },
    {
     "name": "stderr",
     "output_type": "stream",
     "text": [
      "Epoch 116/300: 100%|██████████| 4/4 [00:05<00:00,  1.31s/it]\n"
     ]
    },
    {
     "name": "stdout",
     "output_type": "stream",
     "text": [
      "MAPE too high (1038.75%), using RMSE instead\n",
      "Epoch 116/300 | Train Loss: 0.0337 | Val Loss: 0.2748 | Val Metric: 0.5224\n"
     ]
    },
    {
     "name": "stderr",
     "output_type": "stream",
     "text": [
      "Epoch 117/300: 100%|██████████| 4/4 [00:05<00:00,  1.36s/it]\n"
     ]
    },
    {
     "name": "stdout",
     "output_type": "stream",
     "text": [
      "Epoch 117/300 | Train Loss: 0.0327 | Val Loss: 0.2721 | Val Metric: 907.8754\n"
     ]
    },
    {
     "name": "stderr",
     "output_type": "stream",
     "text": [
      "Epoch 118/300: 100%|██████████| 4/4 [00:05<00:00,  1.39s/it]\n"
     ]
    },
    {
     "name": "stdout",
     "output_type": "stream",
     "text": [
      "Epoch 118/300 | Train Loss: 0.0336 | Val Loss: 0.2719 | Val Metric: 867.2704\n"
     ]
    },
    {
     "name": "stderr",
     "output_type": "stream",
     "text": [
      "Epoch 119/300: 100%|██████████| 4/4 [00:05<00:00,  1.29s/it]\n"
     ]
    },
    {
     "name": "stdout",
     "output_type": "stream",
     "text": [
      "Epoch 119/300 | Train Loss: 0.0326 | Val Loss: 0.2698 | Val Metric: 975.3954\n"
     ]
    },
    {
     "name": "stderr",
     "output_type": "stream",
     "text": [
      "Epoch 120/300: 100%|██████████| 4/4 [00:05<00:00,  1.41s/it]\n"
     ]
    },
    {
     "name": "stdout",
     "output_type": "stream",
     "text": [
      "Epoch 120/300 | Train Loss: 0.0324 | Val Loss: 0.2674 | Val Metric: 959.2524\n"
     ]
    },
    {
     "name": "stderr",
     "output_type": "stream",
     "text": [
      "Epoch 121/300: 100%|██████████| 4/4 [00:05<00:00,  1.42s/it]\n"
     ]
    },
    {
     "name": "stdout",
     "output_type": "stream",
     "text": [
      "MAPE too high (1090.64%), using RMSE instead\n",
      "Epoch 121/300 | Train Loss: 0.0320 | Val Loss: 0.2741 | Val Metric: 0.5218\n"
     ]
    },
    {
     "name": "stderr",
     "output_type": "stream",
     "text": [
      "Epoch 122/300: 100%|██████████| 4/4 [00:05<00:00,  1.29s/it]\n"
     ]
    },
    {
     "name": "stdout",
     "output_type": "stream",
     "text": [
      "MAPE too high (1034.52%), using RMSE instead\n",
      "Epoch 122/300 | Train Loss: 0.0315 | Val Loss: 0.2711 | Val Metric: 0.5189\n"
     ]
    },
    {
     "name": "stderr",
     "output_type": "stream",
     "text": [
      "Epoch 123/300: 100%|██████████| 4/4 [00:05<00:00,  1.33s/it]\n"
     ]
    },
    {
     "name": "stdout",
     "output_type": "stream",
     "text": [
      "Epoch 123/300 | Train Loss: 0.0314 | Val Loss: 0.2667 | Val Metric: 916.5172\n"
     ]
    },
    {
     "name": "stderr",
     "output_type": "stream",
     "text": [
      "Epoch 124/300: 100%|██████████| 4/4 [00:06<00:00,  1.50s/it]\n"
     ]
    },
    {
     "name": "stdout",
     "output_type": "stream",
     "text": [
      "MAPE too high (1227.47%), using RMSE instead\n",
      "Epoch 124/300 | Train Loss: 0.0317 | Val Loss: 0.2693 | Val Metric: 0.5173\n"
     ]
    },
    {
     "name": "stderr",
     "output_type": "stream",
     "text": [
      "Epoch 125/300: 100%|██████████| 4/4 [00:05<00:00,  1.29s/it]\n"
     ]
    },
    {
     "name": "stdout",
     "output_type": "stream",
     "text": [
      "MAPE too high (1214.43%), using RMSE instead\n",
      "Epoch 125/300 | Train Loss: 0.0307 | Val Loss: 0.2700 | Val Metric: 0.5179\n"
     ]
    },
    {
     "name": "stderr",
     "output_type": "stream",
     "text": [
      "Epoch 126/300: 100%|██████████| 4/4 [00:05<00:00,  1.34s/it]\n"
     ]
    },
    {
     "name": "stdout",
     "output_type": "stream",
     "text": [
      "MAPE too high (1007.93%), using RMSE instead\n",
      "Epoch 126/300 | Train Loss: 0.0316 | Val Loss: 0.2748 | Val Metric: 0.5225\n"
     ]
    },
    {
     "name": "stderr",
     "output_type": "stream",
     "text": [
      "Epoch 127/300: 100%|██████████| 4/4 [00:05<00:00,  1.30s/it]\n"
     ]
    },
    {
     "name": "stdout",
     "output_type": "stream",
     "text": [
      "MAPE too high (1353.16%), using RMSE instead\n",
      "Epoch 127/300 | Train Loss: 0.0317 | Val Loss: 0.2680 | Val Metric: 0.5160\n"
     ]
    },
    {
     "name": "stderr",
     "output_type": "stream",
     "text": [
      "Epoch 128/300: 100%|██████████| 4/4 [00:05<00:00,  1.41s/it]\n"
     ]
    },
    {
     "name": "stdout",
     "output_type": "stream",
     "text": [
      "MAPE too high (1304.73%), using RMSE instead\n",
      "Epoch 128/300 | Train Loss: 0.0319 | Val Loss: 0.2675 | Val Metric: 0.5155\n"
     ]
    },
    {
     "name": "stderr",
     "output_type": "stream",
     "text": [
      "Epoch 129/300: 100%|██████████| 4/4 [00:05<00:00,  1.34s/it]\n"
     ]
    },
    {
     "name": "stdout",
     "output_type": "stream",
     "text": [
      "MAPE too high (1309.50%), using RMSE instead\n",
      "Epoch 129/300 | Train Loss: 0.0310 | Val Loss: 0.2698 | Val Metric: 0.5175\n"
     ]
    },
    {
     "name": "stderr",
     "output_type": "stream",
     "text": [
      "Epoch 130/300: 100%|██████████| 4/4 [00:05<00:00,  1.31s/it]\n"
     ]
    },
    {
     "name": "stdout",
     "output_type": "stream",
     "text": [
      "MAPE too high (1115.10%), using RMSE instead\n",
      "Epoch 130/300 | Train Loss: 0.0309 | Val Loss: 0.2682 | Val Metric: 0.5162\n"
     ]
    },
    {
     "name": "stderr",
     "output_type": "stream",
     "text": [
      "Epoch 131/300: 100%|██████████| 4/4 [00:05<00:00,  1.35s/it]\n"
     ]
    },
    {
     "name": "stdout",
     "output_type": "stream",
     "text": [
      "MAPE too high (1154.06%), using RMSE instead\n",
      "Epoch 131/300 | Train Loss: 0.0303 | Val Loss: 0.2683 | Val Metric: 0.5162\n"
     ]
    },
    {
     "name": "stderr",
     "output_type": "stream",
     "text": [
      "Epoch 132/300: 100%|██████████| 4/4 [00:05<00:00,  1.35s/it]\n"
     ]
    },
    {
     "name": "stdout",
     "output_type": "stream",
     "text": [
      "MAPE too high (1120.86%), using RMSE instead\n",
      "Epoch 132/300 | Train Loss: 0.0302 | Val Loss: 0.2678 | Val Metric: 0.5158\n"
     ]
    },
    {
     "name": "stderr",
     "output_type": "stream",
     "text": [
      "Epoch 133/300: 100%|██████████| 4/4 [00:05<00:00,  1.36s/it]\n"
     ]
    },
    {
     "name": "stdout",
     "output_type": "stream",
     "text": [
      "MAPE too high (1220.10%), using RMSE instead\n",
      "Epoch 133/300 | Train Loss: 0.0303 | Val Loss: 0.2705 | Val Metric: 0.5183\n"
     ]
    },
    {
     "name": "stderr",
     "output_type": "stream",
     "text": [
      "Epoch 134/300: 100%|██████████| 4/4 [00:05<00:00,  1.50s/it]\n"
     ]
    },
    {
     "name": "stdout",
     "output_type": "stream",
     "text": [
      "MAPE too high (1392.60%), using RMSE instead\n",
      "Epoch 134/300 | Train Loss: 0.0295 | Val Loss: 0.2687 | Val Metric: 0.5164\n"
     ]
    },
    {
     "name": "stderr",
     "output_type": "stream",
     "text": [
      "Epoch 135/300: 100%|██████████| 4/4 [00:05<00:00,  1.42s/it]\n"
     ]
    },
    {
     "name": "stdout",
     "output_type": "stream",
     "text": [
      "Epoch 135/300 | Train Loss: 0.0297 | Val Loss: 0.2728 | Val Metric: 771.7295\n"
     ]
    },
    {
     "name": "stderr",
     "output_type": "stream",
     "text": [
      "Epoch 136/300: 100%|██████████| 4/4 [00:05<00:00,  1.33s/it]\n"
     ]
    },
    {
     "name": "stdout",
     "output_type": "stream",
     "text": [
      "Epoch 136/300 | Train Loss: 0.0297 | Val Loss: 0.2714 | Val Metric: 966.5067\n"
     ]
    },
    {
     "name": "stderr",
     "output_type": "stream",
     "text": [
      "Epoch 137/300: 100%|██████████| 4/4 [00:05<00:00,  1.36s/it]\n"
     ]
    },
    {
     "name": "stdout",
     "output_type": "stream",
     "text": [
      "Epoch 137/300 | Train Loss: 0.0294 | Val Loss: 0.2736 | Val Metric: 927.8502\n"
     ]
    },
    {
     "name": "stderr",
     "output_type": "stream",
     "text": [
      "Epoch 138/300: 100%|██████████| 4/4 [00:05<00:00,  1.36s/it]\n"
     ]
    },
    {
     "name": "stdout",
     "output_type": "stream",
     "text": [
      "Epoch 138/300 | Train Loss: 0.0294 | Val Loss: 0.2757 | Val Metric: 994.1321\n"
     ]
    },
    {
     "name": "stderr",
     "output_type": "stream",
     "text": [
      "Epoch 139/300: 100%|██████████| 4/4 [00:05<00:00,  1.43s/it]\n"
     ]
    },
    {
     "name": "stdout",
     "output_type": "stream",
     "text": [
      "MAPE too high (1080.41%), using RMSE instead\n",
      "Epoch 139/300 | Train Loss: 0.0299 | Val Loss: 0.2709 | Val Metric: 0.5186\n"
     ]
    },
    {
     "name": "stderr",
     "output_type": "stream",
     "text": [
      "Epoch 140/300: 100%|██████████| 4/4 [00:05<00:00,  1.38s/it]\n"
     ]
    },
    {
     "name": "stdout",
     "output_type": "stream",
     "text": [
      "MAPE too high (1196.81%), using RMSE instead\n",
      "Epoch 140/300 | Train Loss: 0.0292 | Val Loss: 0.2736 | Val Metric: 0.5214\n"
     ]
    },
    {
     "name": "stderr",
     "output_type": "stream",
     "text": [
      "Epoch 141/300: 100%|██████████| 4/4 [00:05<00:00,  1.39s/it]\n"
     ]
    },
    {
     "name": "stdout",
     "output_type": "stream",
     "text": [
      "MAPE too high (1113.05%), using RMSE instead\n",
      "Epoch 141/300 | Train Loss: 0.0286 | Val Loss: 0.2681 | Val Metric: 0.5160\n"
     ]
    },
    {
     "name": "stderr",
     "output_type": "stream",
     "text": [
      "Epoch 142/300: 100%|██████████| 4/4 [00:05<00:00,  1.41s/it]\n"
     ]
    },
    {
     "name": "stdout",
     "output_type": "stream",
     "text": [
      "Epoch 142/300 | Train Loss: 0.0287 | Val Loss: 0.2696 | Val Metric: 796.5996\n"
     ]
    },
    {
     "name": "stderr",
     "output_type": "stream",
     "text": [
      "Epoch 143/300: 100%|██████████| 4/4 [00:05<00:00,  1.39s/it]\n"
     ]
    },
    {
     "name": "stdout",
     "output_type": "stream",
     "text": [
      "Epoch 143/300 | Train Loss: 0.0280 | Val Loss: 0.2687 | Val Metric: 896.8684\n"
     ]
    },
    {
     "name": "stderr",
     "output_type": "stream",
     "text": [
      "Epoch 144/300: 100%|██████████| 4/4 [00:05<00:00,  1.38s/it]\n"
     ]
    },
    {
     "name": "stdout",
     "output_type": "stream",
     "text": [
      "Epoch 144/300 | Train Loss: 0.0283 | Val Loss: 0.2700 | Val Metric: 721.5712\n"
     ]
    },
    {
     "name": "stderr",
     "output_type": "stream",
     "text": [
      "Epoch 145/300: 100%|██████████| 4/4 [00:05<00:00,  1.32s/it]\n"
     ]
    },
    {
     "name": "stdout",
     "output_type": "stream",
     "text": [
      "Epoch 145/300 | Train Loss: 0.0283 | Val Loss: 0.2725 | Val Metric: 865.5394\n"
     ]
    },
    {
     "name": "stderr",
     "output_type": "stream",
     "text": [
      "Epoch 146/300: 100%|██████████| 4/4 [00:05<00:00,  1.31s/it]\n"
     ]
    },
    {
     "name": "stdout",
     "output_type": "stream",
     "text": [
      "Epoch 146/300 | Train Loss: 0.0270 | Val Loss: 0.2672 | Val Metric: 913.2353\n"
     ]
    },
    {
     "name": "stderr",
     "output_type": "stream",
     "text": [
      "Epoch 147/300: 100%|██████████| 4/4 [00:05<00:00,  1.30s/it]\n"
     ]
    },
    {
     "name": "stdout",
     "output_type": "stream",
     "text": [
      "MAPE too high (1033.54%), using RMSE instead\n",
      "Epoch 147/300 | Train Loss: 0.0270 | Val Loss: 0.2694 | Val Metric: 0.5171\n"
     ]
    },
    {
     "name": "stderr",
     "output_type": "stream",
     "text": [
      "Epoch 148/300: 100%|██████████| 4/4 [00:05<00:00,  1.31s/it]\n"
     ]
    },
    {
     "name": "stdout",
     "output_type": "stream",
     "text": [
      "MAPE too high (1072.70%), using RMSE instead\n",
      "Epoch 148/300 | Train Loss: 0.0258 | Val Loss: 0.2716 | Val Metric: 0.5192\n"
     ]
    },
    {
     "name": "stderr",
     "output_type": "stream",
     "text": [
      "Epoch 149/300: 100%|██████████| 4/4 [00:05<00:00,  1.31s/it]\n"
     ]
    },
    {
     "name": "stdout",
     "output_type": "stream",
     "text": [
      "Epoch 149/300 | Train Loss: 0.0261 | Val Loss: 0.2701 | Val Metric: 998.5104\n"
     ]
    },
    {
     "name": "stderr",
     "output_type": "stream",
     "text": [
      "Epoch 150/300: 100%|██████████| 4/4 [00:05<00:00,  1.32s/it]\n"
     ]
    },
    {
     "name": "stdout",
     "output_type": "stream",
     "text": [
      "Epoch 150/300 | Train Loss: 0.0263 | Val Loss: 0.2638 | Val Metric: 875.0219\n"
     ]
    },
    {
     "name": "stderr",
     "output_type": "stream",
     "text": [
      "Epoch 151/300: 100%|██████████| 4/4 [00:05<00:00,  1.30s/it]\n"
     ]
    },
    {
     "name": "stdout",
     "output_type": "stream",
     "text": [
      "MAPE too high (1064.38%), using RMSE instead\n",
      "Epoch 151/300 | Train Loss: 0.0254 | Val Loss: 0.2647 | Val Metric: 0.5127\n"
     ]
    },
    {
     "name": "stderr",
     "output_type": "stream",
     "text": [
      "Epoch 152/300: 100%|██████████| 4/4 [00:05<00:00,  1.35s/it]\n"
     ]
    },
    {
     "name": "stdout",
     "output_type": "stream",
     "text": [
      "MAPE too high (1031.08%), using RMSE instead\n",
      "Epoch 152/300 | Train Loss: 0.0261 | Val Loss: 0.2630 | Val Metric: 0.5110\n"
     ]
    },
    {
     "name": "stderr",
     "output_type": "stream",
     "text": [
      "Epoch 153/300: 100%|██████████| 4/4 [00:05<00:00,  1.31s/it]\n"
     ]
    },
    {
     "name": "stdout",
     "output_type": "stream",
     "text": [
      "MAPE too high (1127.02%), using RMSE instead\n",
      "Epoch 153/300 | Train Loss: 0.0251 | Val Loss: 0.2645 | Val Metric: 0.5125\n"
     ]
    },
    {
     "name": "stderr",
     "output_type": "stream",
     "text": [
      "Epoch 154/300: 100%|██████████| 4/4 [00:05<00:00,  1.31s/it]\n"
     ]
    },
    {
     "name": "stdout",
     "output_type": "stream",
     "text": [
      "MAPE too high (1226.85%), using RMSE instead\n",
      "Epoch 154/300 | Train Loss: 0.0252 | Val Loss: 0.2638 | Val Metric: 0.5119\n"
     ]
    },
    {
     "name": "stderr",
     "output_type": "stream",
     "text": [
      "Epoch 155/300: 100%|██████████| 4/4 [00:05<00:00,  1.34s/it]\n"
     ]
    },
    {
     "name": "stdout",
     "output_type": "stream",
     "text": [
      "MAPE too high (1458.10%), using RMSE instead\n",
      "Epoch 155/300 | Train Loss: 0.0254 | Val Loss: 0.2684 | Val Metric: 0.5162\n"
     ]
    },
    {
     "name": "stderr",
     "output_type": "stream",
     "text": [
      "Epoch 156/300: 100%|██████████| 4/4 [00:05<00:00,  1.30s/it]\n"
     ]
    },
    {
     "name": "stdout",
     "output_type": "stream",
     "text": [
      "MAPE too high (1342.50%), using RMSE instead\n",
      "Epoch 156/300 | Train Loss: 0.0242 | Val Loss: 0.2649 | Val Metric: 0.5129\n"
     ]
    },
    {
     "name": "stderr",
     "output_type": "stream",
     "text": [
      "Epoch 157/300: 100%|██████████| 4/4 [00:05<00:00,  1.31s/it]\n"
     ]
    },
    {
     "name": "stdout",
     "output_type": "stream",
     "text": [
      "MAPE too high (1141.96%), using RMSE instead\n",
      "Epoch 157/300 | Train Loss: 0.0248 | Val Loss: 0.2639 | Val Metric: 0.5120\n"
     ]
    },
    {
     "name": "stderr",
     "output_type": "stream",
     "text": [
      "Epoch 158/300: 100%|██████████| 4/4 [00:05<00:00,  1.29s/it]\n"
     ]
    },
    {
     "name": "stdout",
     "output_type": "stream",
     "text": [
      "MAPE too high (1138.24%), using RMSE instead\n",
      "Epoch 158/300 | Train Loss: 0.0246 | Val Loss: 0.2639 | Val Metric: 0.5120\n"
     ]
    },
    {
     "name": "stderr",
     "output_type": "stream",
     "text": [
      "Epoch 159/300: 100%|██████████| 4/4 [00:05<00:00,  1.30s/it]\n"
     ]
    },
    {
     "name": "stdout",
     "output_type": "stream",
     "text": [
      "MAPE too high (1125.77%), using RMSE instead\n",
      "Epoch 159/300 | Train Loss: 0.0247 | Val Loss: 0.2645 | Val Metric: 0.5126\n"
     ]
    },
    {
     "name": "stderr",
     "output_type": "stream",
     "text": [
      "Epoch 160/300: 100%|██████████| 4/4 [00:05<00:00,  1.29s/it]\n"
     ]
    },
    {
     "name": "stdout",
     "output_type": "stream",
     "text": [
      "MAPE too high (1213.13%), using RMSE instead\n",
      "Epoch 160/300 | Train Loss: 0.0242 | Val Loss: 0.2657 | Val Metric: 0.5137\n"
     ]
    },
    {
     "name": "stderr",
     "output_type": "stream",
     "text": [
      "Epoch 161/300: 100%|██████████| 4/4 [00:05<00:00,  1.33s/it]\n"
     ]
    },
    {
     "name": "stdout",
     "output_type": "stream",
     "text": [
      "MAPE too high (1248.03%), using RMSE instead\n",
      "Epoch 161/300 | Train Loss: 0.0246 | Val Loss: 0.2636 | Val Metric: 0.5117\n"
     ]
    },
    {
     "name": "stderr",
     "output_type": "stream",
     "text": [
      "Epoch 162/300: 100%|██████████| 4/4 [00:05<00:00,  1.28s/it]\n"
     ]
    },
    {
     "name": "stdout",
     "output_type": "stream",
     "text": [
      "MAPE too high (1539.57%), using RMSE instead\n",
      "Epoch 162/300 | Train Loss: 0.0245 | Val Loss: 0.2666 | Val Metric: 0.5146\n"
     ]
    },
    {
     "name": "stderr",
     "output_type": "stream",
     "text": [
      "Epoch 163/300: 100%|██████████| 4/4 [00:05<00:00,  1.32s/it]\n"
     ]
    },
    {
     "name": "stdout",
     "output_type": "stream",
     "text": [
      "MAPE too high (1415.51%), using RMSE instead\n",
      "Epoch 163/300 | Train Loss: 0.0239 | Val Loss: 0.2659 | Val Metric: 0.5138\n"
     ]
    },
    {
     "name": "stderr",
     "output_type": "stream",
     "text": [
      "Epoch 164/300: 100%|██████████| 4/4 [00:05<00:00,  1.31s/it]\n"
     ]
    },
    {
     "name": "stdout",
     "output_type": "stream",
     "text": [
      "MAPE too high (1412.79%), using RMSE instead\n",
      "Epoch 164/300 | Train Loss: 0.0241 | Val Loss: 0.2665 | Val Metric: 0.5144\n"
     ]
    },
    {
     "name": "stderr",
     "output_type": "stream",
     "text": [
      "Epoch 165/300: 100%|██████████| 4/4 [00:05<00:00,  1.33s/it]\n"
     ]
    },
    {
     "name": "stdout",
     "output_type": "stream",
     "text": [
      "MAPE too high (1342.60%), using RMSE instead\n",
      "Epoch 165/300 | Train Loss: 0.0242 | Val Loss: 0.2665 | Val Metric: 0.5144\n"
     ]
    },
    {
     "name": "stderr",
     "output_type": "stream",
     "text": [
      "Epoch 166/300: 100%|██████████| 4/4 [00:05<00:00,  1.31s/it]\n"
     ]
    },
    {
     "name": "stdout",
     "output_type": "stream",
     "text": [
      "MAPE too high (1096.87%), using RMSE instead\n",
      "Epoch 166/300 | Train Loss: 0.0242 | Val Loss: 0.2651 | Val Metric: 0.5131\n"
     ]
    },
    {
     "name": "stderr",
     "output_type": "stream",
     "text": [
      "Epoch 167/300: 100%|██████████| 4/4 [00:05<00:00,  1.31s/it]\n"
     ]
    },
    {
     "name": "stdout",
     "output_type": "stream",
     "text": [
      "MAPE too high (1117.35%), using RMSE instead\n",
      "Epoch 167/300 | Train Loss: 0.0239 | Val Loss: 0.2653 | Val Metric: 0.5132\n"
     ]
    },
    {
     "name": "stderr",
     "output_type": "stream",
     "text": [
      "Epoch 168/300: 100%|██████████| 4/4 [00:05<00:00,  1.32s/it]\n"
     ]
    },
    {
     "name": "stdout",
     "output_type": "stream",
     "text": [
      "MAPE too high (1053.03%), using RMSE instead\n",
      "Epoch 168/300 | Train Loss: 0.0242 | Val Loss: 0.2648 | Val Metric: 0.5128\n"
     ]
    },
    {
     "name": "stderr",
     "output_type": "stream",
     "text": [
      "Epoch 169/300: 100%|██████████| 4/4 [00:05<00:00,  1.33s/it]\n"
     ]
    },
    {
     "name": "stdout",
     "output_type": "stream",
     "text": [
      "MAPE too high (1007.40%), using RMSE instead\n",
      "Epoch 169/300 | Train Loss: 0.0240 | Val Loss: 0.2650 | Val Metric: 0.5129\n"
     ]
    },
    {
     "name": "stderr",
     "output_type": "stream",
     "text": [
      "Epoch 170/300: 100%|██████████| 4/4 [00:05<00:00,  1.33s/it]\n"
     ]
    },
    {
     "name": "stdout",
     "output_type": "stream",
     "text": [
      "Epoch 170/300 | Train Loss: 0.0241 | Val Loss: 0.2648 | Val Metric: 987.0729\n"
     ]
    },
    {
     "name": "stderr",
     "output_type": "stream",
     "text": [
      "Epoch 171/300: 100%|██████████| 4/4 [00:05<00:00,  1.32s/it]\n"
     ]
    },
    {
     "name": "stdout",
     "output_type": "stream",
     "text": [
      "MAPE too high (1011.39%), using RMSE instead\n",
      "Epoch 171/300 | Train Loss: 0.0233 | Val Loss: 0.2624 | Val Metric: 0.5104\n"
     ]
    },
    {
     "name": "stderr",
     "output_type": "stream",
     "text": [
      "Epoch 172/300: 100%|██████████| 4/4 [00:05<00:00,  1.32s/it]\n"
     ]
    },
    {
     "name": "stdout",
     "output_type": "stream",
     "text": [
      "Epoch 172/300 | Train Loss: 0.0237 | Val Loss: 0.2635 | Val Metric: 805.8702\n"
     ]
    },
    {
     "name": "stderr",
     "output_type": "stream",
     "text": [
      "Epoch 173/300: 100%|██████████| 4/4 [00:05<00:00,  1.31s/it]\n"
     ]
    },
    {
     "name": "stdout",
     "output_type": "stream",
     "text": [
      "Epoch 173/300 | Train Loss: 0.0237 | Val Loss: 0.2637 | Val Metric: 874.4203\n"
     ]
    },
    {
     "name": "stderr",
     "output_type": "stream",
     "text": [
      "Epoch 174/300: 100%|██████████| 4/4 [00:05<00:00,  1.30s/it]\n"
     ]
    },
    {
     "name": "stdout",
     "output_type": "stream",
     "text": [
      "Epoch 174/300 | Train Loss: 0.0237 | Val Loss: 0.2675 | Val Metric: 884.5258\n"
     ]
    },
    {
     "name": "stderr",
     "output_type": "stream",
     "text": [
      "Epoch 175/300: 100%|██████████| 4/4 [00:05<00:00,  1.35s/it]\n"
     ]
    },
    {
     "name": "stdout",
     "output_type": "stream",
     "text": [
      "MAPE too high (1021.44%), using RMSE instead\n",
      "Epoch 175/300 | Train Loss: 0.0235 | Val Loss: 0.2652 | Val Metric: 0.5131\n"
     ]
    },
    {
     "name": "stderr",
     "output_type": "stream",
     "text": [
      "Epoch 176/300: 100%|██████████| 4/4 [00:05<00:00,  1.30s/it]\n"
     ]
    },
    {
     "name": "stdout",
     "output_type": "stream",
     "text": [
      "Epoch 176/300 | Train Loss: 0.0235 | Val Loss: 0.2686 | Val Metric: 881.6023\n"
     ]
    },
    {
     "name": "stderr",
     "output_type": "stream",
     "text": [
      "Epoch 177/300: 100%|██████████| 4/4 [00:05<00:00,  1.30s/it]\n"
     ]
    },
    {
     "name": "stdout",
     "output_type": "stream",
     "text": [
      "Epoch 177/300 | Train Loss: 0.0237 | Val Loss: 0.2659 | Val Metric: 953.7101\n"
     ]
    },
    {
     "name": "stderr",
     "output_type": "stream",
     "text": [
      "Epoch 178/300: 100%|██████████| 4/4 [00:05<00:00,  1.32s/it]\n"
     ]
    },
    {
     "name": "stdout",
     "output_type": "stream",
     "text": [
      "Epoch 178/300 | Train Loss: 0.0236 | Val Loss: 0.2669 | Val Metric: 798.1526\n"
     ]
    },
    {
     "name": "stderr",
     "output_type": "stream",
     "text": [
      "Epoch 179/300: 100%|██████████| 4/4 [00:05<00:00,  1.29s/it]\n"
     ]
    },
    {
     "name": "stdout",
     "output_type": "stream",
     "text": [
      "Epoch 179/300 | Train Loss: 0.0235 | Val Loss: 0.2638 | Val Metric: 815.4104\n"
     ]
    },
    {
     "name": "stderr",
     "output_type": "stream",
     "text": [
      "Epoch 180/300: 100%|██████████| 4/4 [00:05<00:00,  1.30s/it]\n"
     ]
    },
    {
     "name": "stdout",
     "output_type": "stream",
     "text": [
      "Epoch 180/300 | Train Loss: 0.0234 | Val Loss: 0.2633 | Val Metric: 826.8932\n"
     ]
    },
    {
     "name": "stderr",
     "output_type": "stream",
     "text": [
      "Epoch 181/300: 100%|██████████| 4/4 [00:05<00:00,  1.29s/it]\n"
     ]
    },
    {
     "name": "stdout",
     "output_type": "stream",
     "text": [
      "Epoch 181/300 | Train Loss: 0.0234 | Val Loss: 0.2596 | Val Metric: 914.3132\n"
     ]
    },
    {
     "name": "stderr",
     "output_type": "stream",
     "text": [
      "Epoch 182/300: 100%|██████████| 4/4 [00:05<00:00,  1.30s/it]\n"
     ]
    },
    {
     "name": "stdout",
     "output_type": "stream",
     "text": [
      "Epoch 182/300 | Train Loss: 0.0235 | Val Loss: 0.2641 | Val Metric: 915.6096\n"
     ]
    },
    {
     "name": "stderr",
     "output_type": "stream",
     "text": [
      "Epoch 183/300: 100%|██████████| 4/4 [00:05<00:00,  1.33s/it]\n"
     ]
    },
    {
     "name": "stdout",
     "output_type": "stream",
     "text": [
      "Epoch 183/300 | Train Loss: 0.0230 | Val Loss: 0.2629 | Val Metric: 817.0031\n"
     ]
    },
    {
     "name": "stderr",
     "output_type": "stream",
     "text": [
      "Epoch 184/300: 100%|██████████| 4/4 [00:05<00:00,  1.30s/it]\n"
     ]
    },
    {
     "name": "stdout",
     "output_type": "stream",
     "text": [
      "Epoch 184/300 | Train Loss: 0.0230 | Val Loss: 0.2651 | Val Metric: 949.9979\n"
     ]
    },
    {
     "name": "stderr",
     "output_type": "stream",
     "text": [
      "Epoch 185/300: 100%|██████████| 4/4 [00:05<00:00,  1.30s/it]\n"
     ]
    },
    {
     "name": "stdout",
     "output_type": "stream",
     "text": [
      "MAPE too high (1014.98%), using RMSE instead\n",
      "Epoch 185/300 | Train Loss: 0.0234 | Val Loss: 0.2639 | Val Metric: 0.5118\n"
     ]
    },
    {
     "name": "stderr",
     "output_type": "stream",
     "text": [
      "Epoch 186/300: 100%|██████████| 4/4 [00:05<00:00,  1.27s/it]\n"
     ]
    },
    {
     "name": "stdout",
     "output_type": "stream",
     "text": [
      "MAPE too high (1016.42%), using RMSE instead\n",
      "Epoch 186/300 | Train Loss: 0.0231 | Val Loss: 0.2648 | Val Metric: 0.5126\n"
     ]
    },
    {
     "name": "stderr",
     "output_type": "stream",
     "text": [
      "Epoch 187/300: 100%|██████████| 4/4 [00:05<00:00,  1.28s/it]\n"
     ]
    },
    {
     "name": "stdout",
     "output_type": "stream",
     "text": [
      "MAPE too high (1045.64%), using RMSE instead\n",
      "Epoch 187/300 | Train Loss: 0.0227 | Val Loss: 0.2622 | Val Metric: 0.5102\n"
     ]
    },
    {
     "name": "stderr",
     "output_type": "stream",
     "text": [
      "Epoch 188/300: 100%|██████████| 4/4 [00:05<00:00,  1.30s/it]\n"
     ]
    },
    {
     "name": "stdout",
     "output_type": "stream",
     "text": [
      "MAPE too high (1035.84%), using RMSE instead\n",
      "Epoch 188/300 | Train Loss: 0.0223 | Val Loss: 0.2637 | Val Metric: 0.5115\n"
     ]
    },
    {
     "name": "stderr",
     "output_type": "stream",
     "text": [
      "Epoch 189/300: 100%|██████████| 4/4 [00:05<00:00,  1.31s/it]\n"
     ]
    },
    {
     "name": "stdout",
     "output_type": "stream",
     "text": [
      "MAPE too high (1099.73%), using RMSE instead\n",
      "Epoch 189/300 | Train Loss: 0.0224 | Val Loss: 0.2645 | Val Metric: 0.5124\n"
     ]
    },
    {
     "name": "stderr",
     "output_type": "stream",
     "text": [
      "Epoch 190/300: 100%|██████████| 4/4 [00:05<00:00,  1.28s/it]\n"
     ]
    },
    {
     "name": "stdout",
     "output_type": "stream",
     "text": [
      "MAPE too high (1090.03%), using RMSE instead\n",
      "Epoch 190/300 | Train Loss: 0.0225 | Val Loss: 0.2642 | Val Metric: 0.5121\n"
     ]
    },
    {
     "name": "stderr",
     "output_type": "stream",
     "text": [
      "Epoch 191/300: 100%|██████████| 4/4 [00:05<00:00,  1.30s/it]\n"
     ]
    },
    {
     "name": "stdout",
     "output_type": "stream",
     "text": [
      "Epoch 191/300 | Train Loss: 0.0223 | Val Loss: 0.2625 | Val Metric: 963.6096\n"
     ]
    },
    {
     "name": "stderr",
     "output_type": "stream",
     "text": [
      "Epoch 192/300: 100%|██████████| 4/4 [00:05<00:00,  1.34s/it]\n"
     ]
    },
    {
     "name": "stdout",
     "output_type": "stream",
     "text": [
      "Epoch 192/300 | Train Loss: 0.0221 | Val Loss: 0.2614 | Val Metric: 926.5164\n"
     ]
    },
    {
     "name": "stderr",
     "output_type": "stream",
     "text": [
      "Epoch 193/300: 100%|██████████| 4/4 [00:05<00:00,  1.37s/it]\n"
     ]
    },
    {
     "name": "stdout",
     "output_type": "stream",
     "text": [
      "Epoch 193/300 | Train Loss: 0.0225 | Val Loss: 0.2633 | Val Metric: 880.4128\n"
     ]
    },
    {
     "name": "stderr",
     "output_type": "stream",
     "text": [
      "Epoch 194/300: 100%|██████████| 4/4 [00:05<00:00,  1.32s/it]\n"
     ]
    },
    {
     "name": "stdout",
     "output_type": "stream",
     "text": [
      "Epoch 194/300 | Train Loss: 0.0221 | Val Loss: 0.2640 | Val Metric: 960.3838\n"
     ]
    },
    {
     "name": "stderr",
     "output_type": "stream",
     "text": [
      "Epoch 195/300: 100%|██████████| 4/4 [00:05<00:00,  1.34s/it]\n"
     ]
    },
    {
     "name": "stdout",
     "output_type": "stream",
     "text": [
      "Epoch 195/300 | Train Loss: 0.0221 | Val Loss: 0.2640 | Val Metric: 950.0492\n"
     ]
    },
    {
     "name": "stderr",
     "output_type": "stream",
     "text": [
      "Epoch 196/300: 100%|██████████| 4/4 [00:05<00:00,  1.29s/it]\n"
     ]
    },
    {
     "name": "stdout",
     "output_type": "stream",
     "text": [
      "Epoch 196/300 | Train Loss: 0.0229 | Val Loss: 0.2627 | Val Metric: 946.4031\n"
     ]
    },
    {
     "name": "stderr",
     "output_type": "stream",
     "text": [
      "Epoch 197/300: 100%|██████████| 4/4 [00:05<00:00,  1.42s/it]\n"
     ]
    },
    {
     "name": "stdout",
     "output_type": "stream",
     "text": [
      "Epoch 197/300 | Train Loss: 0.0228 | Val Loss: 0.2606 | Val Metric: 971.1128\n"
     ]
    },
    {
     "name": "stderr",
     "output_type": "stream",
     "text": [
      "Epoch 198/300: 100%|██████████| 4/4 [00:05<00:00,  1.34s/it]\n"
     ]
    },
    {
     "name": "stdout",
     "output_type": "stream",
     "text": [
      "MAPE too high (1056.64%), using RMSE instead\n",
      "Epoch 198/300 | Train Loss: 0.0226 | Val Loss: 0.2639 | Val Metric: 0.5117\n"
     ]
    },
    {
     "name": "stderr",
     "output_type": "stream",
     "text": [
      "Epoch 199/300: 100%|██████████| 4/4 [00:05<00:00,  1.33s/it]\n"
     ]
    },
    {
     "name": "stdout",
     "output_type": "stream",
     "text": [
      "Epoch 199/300 | Train Loss: 0.0223 | Val Loss: 0.2606 | Val Metric: 880.2919\n"
     ]
    },
    {
     "name": "stderr",
     "output_type": "stream",
     "text": [
      "Epoch 200/300: 100%|██████████| 4/4 [00:05<00:00,  1.36s/it]\n"
     ]
    },
    {
     "name": "stdout",
     "output_type": "stream",
     "text": [
      "Epoch 200/300 | Train Loss: 0.0222 | Val Loss: 0.2625 | Val Metric: 899.5483\n"
     ]
    },
    {
     "name": "stderr",
     "output_type": "stream",
     "text": [
      "Epoch 201/300: 100%|██████████| 4/4 [00:05<00:00,  1.31s/it]\n"
     ]
    },
    {
     "name": "stdout",
     "output_type": "stream",
     "text": [
      "MAPE too high (1005.76%), using RMSE instead\n",
      "Epoch 201/300 | Train Loss: 0.0221 | Val Loss: 0.2603 | Val Metric: 0.5083\n"
     ]
    },
    {
     "name": "stderr",
     "output_type": "stream",
     "text": [
      "Epoch 202/300: 100%|██████████| 4/4 [00:05<00:00,  1.31s/it]\n"
     ]
    },
    {
     "name": "stdout",
     "output_type": "stream",
     "text": [
      "Epoch 202/300 | Train Loss: 0.0220 | Val Loss: 0.2607 | Val Metric: 929.9755\n"
     ]
    },
    {
     "name": "stderr",
     "output_type": "stream",
     "text": [
      "Epoch 203/300: 100%|██████████| 4/4 [00:05<00:00,  1.32s/it]\n"
     ]
    },
    {
     "name": "stdout",
     "output_type": "stream",
     "text": [
      "Epoch 203/300 | Train Loss: 0.0220 | Val Loss: 0.2606 | Val Metric: 853.2217\n"
     ]
    },
    {
     "name": "stderr",
     "output_type": "stream",
     "text": [
      "Epoch 204/300: 100%|██████████| 4/4 [00:05<00:00,  1.30s/it]\n"
     ]
    },
    {
     "name": "stdout",
     "output_type": "stream",
     "text": [
      "Epoch 204/300 | Train Loss: 0.0210 | Val Loss: 0.2623 | Val Metric: 905.4017\n"
     ]
    },
    {
     "name": "stderr",
     "output_type": "stream",
     "text": [
      "Epoch 205/300: 100%|██████████| 4/4 [00:05<00:00,  1.35s/it]\n"
     ]
    },
    {
     "name": "stdout",
     "output_type": "stream",
     "text": [
      "Epoch 205/300 | Train Loss: 0.0215 | Val Loss: 0.2618 | Val Metric: 933.5482\n"
     ]
    },
    {
     "name": "stderr",
     "output_type": "stream",
     "text": [
      "Epoch 206/300: 100%|██████████| 4/4 [00:05<00:00,  1.32s/it]\n"
     ]
    },
    {
     "name": "stdout",
     "output_type": "stream",
     "text": [
      "Epoch 206/300 | Train Loss: 0.0212 | Val Loss: 0.2599 | Val Metric: 863.1089\n"
     ]
    },
    {
     "name": "stderr",
     "output_type": "stream",
     "text": [
      "Epoch 207/300: 100%|██████████| 4/4 [00:05<00:00,  1.29s/it]\n"
     ]
    },
    {
     "name": "stdout",
     "output_type": "stream",
     "text": [
      "Epoch 207/300 | Train Loss: 0.0217 | Val Loss: 0.2605 | Val Metric: 898.8522\n"
     ]
    },
    {
     "name": "stderr",
     "output_type": "stream",
     "text": [
      "Epoch 208/300: 100%|██████████| 4/4 [00:05<00:00,  1.32s/it]\n"
     ]
    },
    {
     "name": "stdout",
     "output_type": "stream",
     "text": [
      "Epoch 208/300 | Train Loss: 0.0219 | Val Loss: 0.2614 | Val Metric: 866.0101\n"
     ]
    },
    {
     "name": "stderr",
     "output_type": "stream",
     "text": [
      "Epoch 209/300: 100%|██████████| 4/4 [00:05<00:00,  1.30s/it]\n"
     ]
    },
    {
     "name": "stdout",
     "output_type": "stream",
     "text": [
      "Epoch 209/300 | Train Loss: 0.0215 | Val Loss: 0.2616 | Val Metric: 885.5754\n"
     ]
    },
    {
     "name": "stderr",
     "output_type": "stream",
     "text": [
      "Epoch 210/300: 100%|██████████| 4/4 [00:05<00:00,  1.31s/it]\n"
     ]
    },
    {
     "name": "stdout",
     "output_type": "stream",
     "text": [
      "Epoch 210/300 | Train Loss: 0.0211 | Val Loss: 0.2632 | Val Metric: 976.2975\n"
     ]
    },
    {
     "name": "stderr",
     "output_type": "stream",
     "text": [
      "Epoch 211/300: 100%|██████████| 4/4 [00:05<00:00,  1.32s/it]\n"
     ]
    },
    {
     "name": "stdout",
     "output_type": "stream",
     "text": [
      "Epoch 211/300 | Train Loss: 0.0210 | Val Loss: 0.2600 | Val Metric: 904.3154\n"
     ]
    },
    {
     "name": "stderr",
     "output_type": "stream",
     "text": [
      "Epoch 212/300: 100%|██████████| 4/4 [00:05<00:00,  1.32s/it]\n"
     ]
    },
    {
     "name": "stdout",
     "output_type": "stream",
     "text": [
      "Epoch 212/300 | Train Loss: 0.0206 | Val Loss: 0.2590 | Val Metric: 871.6592\n"
     ]
    },
    {
     "name": "stderr",
     "output_type": "stream",
     "text": [
      "Epoch 213/300: 100%|██████████| 4/4 [00:05<00:00,  1.32s/it]\n"
     ]
    },
    {
     "name": "stdout",
     "output_type": "stream",
     "text": [
      "Epoch 213/300 | Train Loss: 0.0210 | Val Loss: 0.2604 | Val Metric: 898.5348\n"
     ]
    },
    {
     "name": "stderr",
     "output_type": "stream",
     "text": [
      "Epoch 214/300: 100%|██████████| 4/4 [00:05<00:00,  1.34s/it]\n"
     ]
    },
    {
     "name": "stdout",
     "output_type": "stream",
     "text": [
      "Epoch 214/300 | Train Loss: 0.0210 | Val Loss: 0.2616 | Val Metric: 860.1284\n"
     ]
    },
    {
     "name": "stderr",
     "output_type": "stream",
     "text": [
      "Epoch 215/300: 100%|██████████| 4/4 [00:05<00:00,  1.30s/it]\n"
     ]
    },
    {
     "name": "stdout",
     "output_type": "stream",
     "text": [
      "Epoch 215/300 | Train Loss: 0.0206 | Val Loss: 0.2626 | Val Metric: 904.3564\n"
     ]
    },
    {
     "name": "stderr",
     "output_type": "stream",
     "text": [
      "Epoch 216/300: 100%|██████████| 4/4 [00:05<00:00,  1.32s/it]\n"
     ]
    },
    {
     "name": "stdout",
     "output_type": "stream",
     "text": [
      "Epoch 216/300 | Train Loss: 0.0204 | Val Loss: 0.2617 | Val Metric: 918.0972\n"
     ]
    },
    {
     "name": "stderr",
     "output_type": "stream",
     "text": [
      "Epoch 217/300: 100%|██████████| 4/4 [00:05<00:00,  1.32s/it]\n"
     ]
    },
    {
     "name": "stdout",
     "output_type": "stream",
     "text": [
      "Epoch 217/300 | Train Loss: 0.0205 | Val Loss: 0.2611 | Val Metric: 918.7583\n"
     ]
    },
    {
     "name": "stderr",
     "output_type": "stream",
     "text": [
      "Epoch 218/300: 100%|██████████| 4/4 [00:05<00:00,  1.32s/it]\n"
     ]
    },
    {
     "name": "stdout",
     "output_type": "stream",
     "text": [
      "MAPE too high (1016.97%), using RMSE instead\n",
      "Epoch 218/300 | Train Loss: 0.0207 | Val Loss: 0.2624 | Val Metric: 0.5104\n"
     ]
    },
    {
     "name": "stderr",
     "output_type": "stream",
     "text": [
      "Epoch 219/300: 100%|██████████| 4/4 [00:05<00:00,  1.34s/it]\n"
     ]
    },
    {
     "name": "stdout",
     "output_type": "stream",
     "text": [
      "MAPE too high (1024.45%), using RMSE instead\n",
      "Epoch 219/300 | Train Loss: 0.0208 | Val Loss: 0.2605 | Val Metric: 0.5085\n"
     ]
    },
    {
     "name": "stderr",
     "output_type": "stream",
     "text": [
      "Epoch 220/300: 100%|██████████| 4/4 [00:05<00:00,  1.34s/it]\n"
     ]
    },
    {
     "name": "stdout",
     "output_type": "stream",
     "text": [
      "Epoch 220/300 | Train Loss: 0.0213 | Val Loss: 0.2608 | Val Metric: 995.1064\n"
     ]
    },
    {
     "name": "stderr",
     "output_type": "stream",
     "text": [
      "Epoch 221/300: 100%|██████████| 4/4 [00:05<00:00,  1.31s/it]\n"
     ]
    },
    {
     "name": "stdout",
     "output_type": "stream",
     "text": [
      "Epoch 221/300 | Train Loss: 0.0210 | Val Loss: 0.2611 | Val Metric: 961.8082\n"
     ]
    },
    {
     "name": "stderr",
     "output_type": "stream",
     "text": [
      "Epoch 222/300: 100%|██████████| 4/4 [00:05<00:00,  1.36s/it]\n"
     ]
    },
    {
     "name": "stdout",
     "output_type": "stream",
     "text": [
      "Epoch 222/300 | Train Loss: 0.0205 | Val Loss: 0.2594 | Val Metric: 919.0660\n"
     ]
    },
    {
     "name": "stderr",
     "output_type": "stream",
     "text": [
      "Epoch 223/300: 100%|██████████| 4/4 [00:05<00:00,  1.33s/it]\n"
     ]
    },
    {
     "name": "stdout",
     "output_type": "stream",
     "text": [
      "Epoch 223/300 | Train Loss: 0.0207 | Val Loss: 0.2603 | Val Metric: 987.4742\n"
     ]
    },
    {
     "name": "stderr",
     "output_type": "stream",
     "text": [
      "Epoch 224/300: 100%|██████████| 4/4 [00:05<00:00,  1.35s/it]\n"
     ]
    },
    {
     "name": "stdout",
     "output_type": "stream",
     "text": [
      "MAPE too high (1082.39%), using RMSE instead\n",
      "Epoch 224/300 | Train Loss: 0.0208 | Val Loss: 0.2601 | Val Metric: 0.5081\n"
     ]
    },
    {
     "name": "stderr",
     "output_type": "stream",
     "text": [
      "Epoch 225/300: 100%|██████████| 4/4 [00:05<00:00,  1.34s/it]\n"
     ]
    },
    {
     "name": "stdout",
     "output_type": "stream",
     "text": [
      "MAPE too high (1127.14%), using RMSE instead\n",
      "Epoch 225/300 | Train Loss: 0.0206 | Val Loss: 0.2586 | Val Metric: 0.5067\n"
     ]
    },
    {
     "name": "stderr",
     "output_type": "stream",
     "text": [
      "Epoch 226/300: 100%|██████████| 4/4 [00:05<00:00,  1.34s/it]\n"
     ]
    },
    {
     "name": "stdout",
     "output_type": "stream",
     "text": [
      "MAPE too high (1137.29%), using RMSE instead\n",
      "Epoch 226/300 | Train Loss: 0.0208 | Val Loss: 0.2583 | Val Metric: 0.5065\n"
     ]
    },
    {
     "name": "stderr",
     "output_type": "stream",
     "text": [
      "Epoch 227/300: 100%|██████████| 4/4 [00:05<00:00,  1.33s/it]\n"
     ]
    },
    {
     "name": "stdout",
     "output_type": "stream",
     "text": [
      "MAPE too high (1017.51%), using RMSE instead\n",
      "Epoch 227/300 | Train Loss: 0.0202 | Val Loss: 0.2572 | Val Metric: 0.5054\n"
     ]
    },
    {
     "name": "stderr",
     "output_type": "stream",
     "text": [
      "Epoch 228/300: 100%|██████████| 4/4 [00:05<00:00,  1.35s/it]\n"
     ]
    },
    {
     "name": "stdout",
     "output_type": "stream",
     "text": [
      "MAPE too high (1045.39%), using RMSE instead\n",
      "Epoch 228/300 | Train Loss: 0.0204 | Val Loss: 0.2568 | Val Metric: 0.5050\n"
     ]
    },
    {
     "name": "stderr",
     "output_type": "stream",
     "text": [
      "Epoch 229/300: 100%|██████████| 4/4 [00:05<00:00,  1.34s/it]\n"
     ]
    },
    {
     "name": "stdout",
     "output_type": "stream",
     "text": [
      "MAPE too high (1107.02%), using RMSE instead\n",
      "Epoch 229/300 | Train Loss: 0.0204 | Val Loss: 0.2586 | Val Metric: 0.5067\n"
     ]
    },
    {
     "name": "stderr",
     "output_type": "stream",
     "text": [
      "Epoch 230/300: 100%|██████████| 4/4 [00:05<00:00,  1.36s/it]\n"
     ]
    },
    {
     "name": "stdout",
     "output_type": "stream",
     "text": [
      "MAPE too high (1116.33%), using RMSE instead\n",
      "Epoch 230/300 | Train Loss: 0.0202 | Val Loss: 0.2599 | Val Metric: 0.5080\n"
     ]
    },
    {
     "name": "stderr",
     "output_type": "stream",
     "text": [
      "Epoch 231/300: 100%|██████████| 4/4 [00:05<00:00,  1.31s/it]\n"
     ]
    },
    {
     "name": "stdout",
     "output_type": "stream",
     "text": [
      "MAPE too high (1097.38%), using RMSE instead\n",
      "Epoch 231/300 | Train Loss: 0.0203 | Val Loss: 0.2603 | Val Metric: 0.5084\n"
     ]
    },
    {
     "name": "stderr",
     "output_type": "stream",
     "text": [
      "Epoch 232/300: 100%|██████████| 4/4 [00:05<00:00,  1.36s/it]\n"
     ]
    },
    {
     "name": "stdout",
     "output_type": "stream",
     "text": [
      "MAPE too high (1108.39%), using RMSE instead\n",
      "Epoch 232/300 | Train Loss: 0.0201 | Val Loss: 0.2599 | Val Metric: 0.5080\n"
     ]
    },
    {
     "name": "stderr",
     "output_type": "stream",
     "text": [
      "Epoch 233/300: 100%|██████████| 4/4 [00:05<00:00,  1.32s/it]\n"
     ]
    },
    {
     "name": "stdout",
     "output_type": "stream",
     "text": [
      "MAPE too high (1119.04%), using RMSE instead\n",
      "Epoch 233/300 | Train Loss: 0.0207 | Val Loss: 0.2600 | Val Metric: 0.5081\n"
     ]
    },
    {
     "name": "stderr",
     "output_type": "stream",
     "text": [
      "Epoch 234/300: 100%|██████████| 4/4 [00:05<00:00,  1.33s/it]\n"
     ]
    },
    {
     "name": "stdout",
     "output_type": "stream",
     "text": [
      "MAPE too high (1027.73%), using RMSE instead\n",
      "Epoch 234/300 | Train Loss: 0.0203 | Val Loss: 0.2603 | Val Metric: 0.5084\n"
     ]
    },
    {
     "name": "stderr",
     "output_type": "stream",
     "text": [
      "Epoch 235/300: 100%|██████████| 4/4 [00:05<00:00,  1.35s/it]\n"
     ]
    },
    {
     "name": "stdout",
     "output_type": "stream",
     "text": [
      "MAPE too high (1127.46%), using RMSE instead\n",
      "Epoch 235/300 | Train Loss: 0.0199 | Val Loss: 0.2626 | Val Metric: 0.5105\n"
     ]
    },
    {
     "name": "stderr",
     "output_type": "stream",
     "text": [
      "Epoch 236/300: 100%|██████████| 4/4 [00:05<00:00,  1.35s/it]\n"
     ]
    },
    {
     "name": "stdout",
     "output_type": "stream",
     "text": [
      "MAPE too high (1072.19%), using RMSE instead\n",
      "Epoch 236/300 | Train Loss: 0.0202 | Val Loss: 0.2616 | Val Metric: 0.5096\n"
     ]
    },
    {
     "name": "stderr",
     "output_type": "stream",
     "text": [
      "Epoch 237/300: 100%|██████████| 4/4 [00:05<00:00,  1.37s/it]\n"
     ]
    },
    {
     "name": "stdout",
     "output_type": "stream",
     "text": [
      "MAPE too high (1013.98%), using RMSE instead\n",
      "Epoch 237/300 | Train Loss: 0.0204 | Val Loss: 0.2606 | Val Metric: 0.5086\n"
     ]
    },
    {
     "name": "stderr",
     "output_type": "stream",
     "text": [
      "Epoch 238/300: 100%|██████████| 4/4 [00:05<00:00,  1.36s/it]\n"
     ]
    },
    {
     "name": "stdout",
     "output_type": "stream",
     "text": [
      "Epoch 238/300 | Train Loss: 0.0203 | Val Loss: 0.2599 | Val Metric: 997.6005\n"
     ]
    },
    {
     "name": "stderr",
     "output_type": "stream",
     "text": [
      "Epoch 239/300: 100%|██████████| 4/4 [00:05<00:00,  1.35s/it]\n"
     ]
    },
    {
     "name": "stdout",
     "output_type": "stream",
     "text": [
      "Epoch 239/300 | Train Loss: 0.0197 | Val Loss: 0.2593 | Val Metric: 995.2666\n"
     ]
    },
    {
     "name": "stderr",
     "output_type": "stream",
     "text": [
      "Epoch 240/300: 100%|██████████| 4/4 [00:05<00:00,  1.35s/it]\n"
     ]
    },
    {
     "name": "stdout",
     "output_type": "stream",
     "text": [
      "MAPE too high (1057.30%), using RMSE instead\n",
      "Epoch 240/300 | Train Loss: 0.0204 | Val Loss: 0.2589 | Val Metric: 0.5071\n"
     ]
    },
    {
     "name": "stderr",
     "output_type": "stream",
     "text": [
      "Epoch 241/300: 100%|██████████| 4/4 [00:05<00:00,  1.36s/it]\n"
     ]
    },
    {
     "name": "stdout",
     "output_type": "stream",
     "text": [
      "MAPE too high (1131.66%), using RMSE instead\n",
      "Epoch 241/300 | Train Loss: 0.0197 | Val Loss: 0.2594 | Val Metric: 0.5075\n"
     ]
    },
    {
     "name": "stderr",
     "output_type": "stream",
     "text": [
      "Epoch 242/300: 100%|██████████| 4/4 [00:05<00:00,  1.48s/it]\n"
     ]
    },
    {
     "name": "stdout",
     "output_type": "stream",
     "text": [
      "MAPE too high (1082.54%), using RMSE instead\n",
      "Epoch 242/300 | Train Loss: 0.0201 | Val Loss: 0.2594 | Val Metric: 0.5074\n"
     ]
    },
    {
     "name": "stderr",
     "output_type": "stream",
     "text": [
      "Epoch 243/300: 100%|██████████| 4/4 [00:05<00:00,  1.34s/it]\n"
     ]
    },
    {
     "name": "stdout",
     "output_type": "stream",
     "text": [
      "MAPE too high (1068.59%), using RMSE instead\n",
      "Epoch 243/300 | Train Loss: 0.0199 | Val Loss: 0.2597 | Val Metric: 0.5077\n"
     ]
    },
    {
     "name": "stderr",
     "output_type": "stream",
     "text": [
      "Epoch 244/300: 100%|██████████| 4/4 [00:05<00:00,  1.36s/it]\n"
     ]
    },
    {
     "name": "stdout",
     "output_type": "stream",
     "text": [
      "MAPE too high (1038.61%), using RMSE instead\n",
      "Epoch 244/300 | Train Loss: 0.0198 | Val Loss: 0.2580 | Val Metric: 0.5061\n"
     ]
    },
    {
     "name": "stderr",
     "output_type": "stream",
     "text": [
      "Epoch 245/300: 100%|██████████| 4/4 [00:05<00:00,  1.37s/it]\n"
     ]
    },
    {
     "name": "stdout",
     "output_type": "stream",
     "text": [
      "Epoch 245/300 | Train Loss: 0.0195 | Val Loss: 0.2578 | Val Metric: 992.1500\n"
     ]
    },
    {
     "name": "stderr",
     "output_type": "stream",
     "text": [
      "Epoch 246/300: 100%|██████████| 4/4 [00:05<00:00,  1.35s/it]\n"
     ]
    },
    {
     "name": "stdout",
     "output_type": "stream",
     "text": [
      "Epoch 246/300 | Train Loss: 0.0202 | Val Loss: 0.2571 | Val Metric: 963.8246\n"
     ]
    },
    {
     "name": "stderr",
     "output_type": "stream",
     "text": [
      "Epoch 247/300: 100%|██████████| 4/4 [00:05<00:00,  1.33s/it]\n"
     ]
    },
    {
     "name": "stdout",
     "output_type": "stream",
     "text": [
      "Epoch 247/300 | Train Loss: 0.0197 | Val Loss: 0.2563 | Val Metric: 938.2178\n"
     ]
    },
    {
     "name": "stderr",
     "output_type": "stream",
     "text": [
      "Epoch 248/300: 100%|██████████| 4/4 [00:05<00:00,  1.36s/it]\n"
     ]
    },
    {
     "name": "stdout",
     "output_type": "stream",
     "text": [
      "Epoch 248/300 | Train Loss: 0.0199 | Val Loss: 0.2567 | Val Metric: 959.3610\n"
     ]
    },
    {
     "name": "stderr",
     "output_type": "stream",
     "text": [
      "Epoch 249/300: 100%|██████████| 4/4 [00:05<00:00,  1.37s/it]\n"
     ]
    },
    {
     "name": "stdout",
     "output_type": "stream",
     "text": [
      "Epoch 249/300 | Train Loss: 0.0200 | Val Loss: 0.2574 | Val Metric: 982.0331\n"
     ]
    },
    {
     "name": "stderr",
     "output_type": "stream",
     "text": [
      "Epoch 250/300: 100%|██████████| 4/4 [00:05<00:00,  1.34s/it]\n"
     ]
    },
    {
     "name": "stdout",
     "output_type": "stream",
     "text": [
      "Epoch 250/300 | Train Loss: 0.0194 | Val Loss: 0.2576 | Val Metric: 970.8475\n"
     ]
    },
    {
     "name": "stderr",
     "output_type": "stream",
     "text": [
      "Epoch 251/300: 100%|██████████| 4/4 [00:05<00:00,  1.35s/it]\n"
     ]
    },
    {
     "name": "stdout",
     "output_type": "stream",
     "text": [
      "Epoch 251/300 | Train Loss: 0.0199 | Val Loss: 0.2598 | Val Metric: 931.0590\n"
     ]
    },
    {
     "name": "stderr",
     "output_type": "stream",
     "text": [
      "Epoch 252/300: 100%|██████████| 4/4 [00:05<00:00,  1.36s/it]\n"
     ]
    },
    {
     "name": "stdout",
     "output_type": "stream",
     "text": [
      "Epoch 252/300 | Train Loss: 0.0197 | Val Loss: 0.2585 | Val Metric: 931.2922\n"
     ]
    },
    {
     "name": "stderr",
     "output_type": "stream",
     "text": [
      "Epoch 253/300: 100%|██████████| 4/4 [00:05<00:00,  1.36s/it]\n"
     ]
    },
    {
     "name": "stdout",
     "output_type": "stream",
     "text": [
      "Epoch 253/300 | Train Loss: 0.0196 | Val Loss: 0.2581 | Val Metric: 965.2883\n"
     ]
    },
    {
     "name": "stderr",
     "output_type": "stream",
     "text": [
      "Epoch 254/300: 100%|██████████| 4/4 [00:05<00:00,  1.37s/it]\n"
     ]
    },
    {
     "name": "stdout",
     "output_type": "stream",
     "text": [
      "Epoch 254/300 | Train Loss: 0.0194 | Val Loss: 0.2588 | Val Metric: 953.3207\n"
     ]
    },
    {
     "name": "stderr",
     "output_type": "stream",
     "text": [
      "Epoch 255/300: 100%|██████████| 4/4 [00:05<00:00,  1.38s/it]\n"
     ]
    },
    {
     "name": "stdout",
     "output_type": "stream",
     "text": [
      "Epoch 255/300 | Train Loss: 0.0198 | Val Loss: 0.2590 | Val Metric: 926.7667\n"
     ]
    },
    {
     "name": "stderr",
     "output_type": "stream",
     "text": [
      "Epoch 256/300: 100%|██████████| 4/4 [00:05<00:00,  1.37s/it]\n"
     ]
    },
    {
     "name": "stdout",
     "output_type": "stream",
     "text": [
      "Epoch 256/300 | Train Loss: 0.0197 | Val Loss: 0.2584 | Val Metric: 892.3021\n"
     ]
    },
    {
     "name": "stderr",
     "output_type": "stream",
     "text": [
      "Epoch 257/300: 100%|██████████| 4/4 [00:05<00:00,  1.37s/it]\n"
     ]
    },
    {
     "name": "stdout",
     "output_type": "stream",
     "text": [
      "Epoch 257/300 | Train Loss: 0.0194 | Val Loss: 0.2584 | Val Metric: 873.4764\n"
     ]
    },
    {
     "name": "stderr",
     "output_type": "stream",
     "text": [
      "Epoch 258/300: 100%|██████████| 4/4 [00:05<00:00,  1.36s/it]\n"
     ]
    },
    {
     "name": "stdout",
     "output_type": "stream",
     "text": [
      "Epoch 258/300 | Train Loss: 0.0197 | Val Loss: 0.2574 | Val Metric: 864.4705\n"
     ]
    },
    {
     "name": "stderr",
     "output_type": "stream",
     "text": [
      "Epoch 259/300: 100%|██████████| 4/4 [00:05<00:00,  1.35s/it]\n"
     ]
    },
    {
     "name": "stdout",
     "output_type": "stream",
     "text": [
      "Epoch 259/300 | Train Loss: 0.0191 | Val Loss: 0.2580 | Val Metric: 842.2265\n"
     ]
    },
    {
     "name": "stderr",
     "output_type": "stream",
     "text": [
      "Epoch 260/300: 100%|██████████| 4/4 [00:05<00:00,  1.35s/it]\n"
     ]
    },
    {
     "name": "stdout",
     "output_type": "stream",
     "text": [
      "Epoch 260/300 | Train Loss: 0.0196 | Val Loss: 0.2582 | Val Metric: 893.4235\n"
     ]
    },
    {
     "name": "stderr",
     "output_type": "stream",
     "text": [
      "Epoch 261/300: 100%|██████████| 4/4 [00:05<00:00,  1.37s/it]\n"
     ]
    },
    {
     "name": "stdout",
     "output_type": "stream",
     "text": [
      "Epoch 261/300 | Train Loss: 0.0198 | Val Loss: 0.2585 | Val Metric: 901.6106\n"
     ]
    },
    {
     "name": "stderr",
     "output_type": "stream",
     "text": [
      "Epoch 262/300: 100%|██████████| 4/4 [00:05<00:00,  1.35s/it]\n"
     ]
    },
    {
     "name": "stdout",
     "output_type": "stream",
     "text": [
      "Epoch 262/300 | Train Loss: 0.0197 | Val Loss: 0.2596 | Val Metric: 922.2628\n"
     ]
    },
    {
     "name": "stderr",
     "output_type": "stream",
     "text": [
      "Epoch 263/300: 100%|██████████| 4/4 [00:05<00:00,  1.34s/it]\n"
     ]
    },
    {
     "name": "stdout",
     "output_type": "stream",
     "text": [
      "Epoch 263/300 | Train Loss: 0.0195 | Val Loss: 0.2601 | Val Metric: 948.9995\n"
     ]
    },
    {
     "name": "stderr",
     "output_type": "stream",
     "text": [
      "Epoch 264/300: 100%|██████████| 4/4 [00:05<00:00,  1.36s/it]\n"
     ]
    },
    {
     "name": "stdout",
     "output_type": "stream",
     "text": [
      "Epoch 264/300 | Train Loss: 0.0196 | Val Loss: 0.2616 | Val Metric: 944.3539\n"
     ]
    },
    {
     "name": "stderr",
     "output_type": "stream",
     "text": [
      "Epoch 265/300: 100%|██████████| 4/4 [00:05<00:00,  1.35s/it]\n"
     ]
    },
    {
     "name": "stdout",
     "output_type": "stream",
     "text": [
      "Epoch 265/300 | Train Loss: 0.0190 | Val Loss: 0.2606 | Val Metric: 957.3646\n"
     ]
    },
    {
     "name": "stderr",
     "output_type": "stream",
     "text": [
      "Epoch 266/300: 100%|██████████| 4/4 [00:05<00:00,  1.34s/it]\n"
     ]
    },
    {
     "name": "stdout",
     "output_type": "stream",
     "text": [
      "MAPE too high (1030.23%), using RMSE instead\n",
      "Epoch 266/300 | Train Loss: 0.0196 | Val Loss: 0.2599 | Val Metric: 0.5080\n"
     ]
    },
    {
     "name": "stderr",
     "output_type": "stream",
     "text": [
      "Epoch 267/300: 100%|██████████| 4/4 [00:05<00:00,  1.34s/it]\n"
     ]
    },
    {
     "name": "stdout",
     "output_type": "stream",
     "text": [
      "MAPE too high (1049.23%), using RMSE instead\n",
      "Epoch 267/300 | Train Loss: 0.0198 | Val Loss: 0.2590 | Val Metric: 0.5071\n"
     ]
    },
    {
     "name": "stderr",
     "output_type": "stream",
     "text": [
      "Epoch 268/300: 100%|██████████| 4/4 [00:05<00:00,  1.30s/it]\n"
     ]
    },
    {
     "name": "stdout",
     "output_type": "stream",
     "text": [
      "MAPE too high (1028.08%), using RMSE instead\n",
      "Epoch 268/300 | Train Loss: 0.0192 | Val Loss: 0.2586 | Val Metric: 0.5067\n"
     ]
    },
    {
     "name": "stderr",
     "output_type": "stream",
     "text": [
      "Epoch 269/300: 100%|██████████| 4/4 [00:05<00:00,  1.32s/it]\n"
     ]
    },
    {
     "name": "stdout",
     "output_type": "stream",
     "text": [
      "Epoch 269/300 | Train Loss: 0.0192 | Val Loss: 0.2587 | Val Metric: 989.7651\n"
     ]
    },
    {
     "name": "stderr",
     "output_type": "stream",
     "text": [
      "Epoch 270/300: 100%|██████████| 4/4 [00:05<00:00,  1.35s/it]\n"
     ]
    },
    {
     "name": "stdout",
     "output_type": "stream",
     "text": [
      "Epoch 270/300 | Train Loss: 0.0197 | Val Loss: 0.2587 | Val Metric: 959.5905\n"
     ]
    },
    {
     "name": "stderr",
     "output_type": "stream",
     "text": [
      "Epoch 271/300: 100%|██████████| 4/4 [00:05<00:00,  1.34s/it]\n"
     ]
    },
    {
     "name": "stdout",
     "output_type": "stream",
     "text": [
      "Epoch 271/300 | Train Loss: 0.0197 | Val Loss: 0.2573 | Val Metric: 904.1368\n"
     ]
    },
    {
     "name": "stderr",
     "output_type": "stream",
     "text": [
      "Epoch 272/300: 100%|██████████| 4/4 [00:05<00:00,  1.35s/it]\n"
     ]
    },
    {
     "name": "stdout",
     "output_type": "stream",
     "text": [
      "Epoch 272/300 | Train Loss: 0.0192 | Val Loss: 0.2567 | Val Metric: 900.7607\n"
     ]
    },
    {
     "name": "stderr",
     "output_type": "stream",
     "text": [
      "Epoch 273/300: 100%|██████████| 4/4 [00:05<00:00,  1.33s/it]\n"
     ]
    },
    {
     "name": "stdout",
     "output_type": "stream",
     "text": [
      "Epoch 273/300 | Train Loss: 0.0193 | Val Loss: 0.2577 | Val Metric: 897.8133\n"
     ]
    },
    {
     "name": "stderr",
     "output_type": "stream",
     "text": [
      "Epoch 274/300: 100%|██████████| 4/4 [00:05<00:00,  1.35s/it]\n"
     ]
    },
    {
     "name": "stdout",
     "output_type": "stream",
     "text": [
      "Epoch 274/300 | Train Loss: 0.0190 | Val Loss: 0.2574 | Val Metric: 899.4700\n"
     ]
    },
    {
     "name": "stderr",
     "output_type": "stream",
     "text": [
      "Epoch 275/300: 100%|██████████| 4/4 [00:05<00:00,  1.34s/it]\n"
     ]
    },
    {
     "name": "stdout",
     "output_type": "stream",
     "text": [
      "Epoch 275/300 | Train Loss: 0.0190 | Val Loss: 0.2576 | Val Metric: 884.8955\n"
     ]
    },
    {
     "name": "stderr",
     "output_type": "stream",
     "text": [
      "Epoch 276/300: 100%|██████████| 4/4 [00:05<00:00,  1.34s/it]\n"
     ]
    },
    {
     "name": "stdout",
     "output_type": "stream",
     "text": [
      "Epoch 276/300 | Train Loss: 0.0188 | Val Loss: 0.2587 | Val Metric: 900.4160\n"
     ]
    },
    {
     "name": "stderr",
     "output_type": "stream",
     "text": [
      "Epoch 277/300: 100%|██████████| 4/4 [00:05<00:00,  1.36s/it]\n"
     ]
    },
    {
     "name": "stdout",
     "output_type": "stream",
     "text": [
      "Epoch 277/300 | Train Loss: 0.0188 | Val Loss: 0.2591 | Val Metric: 894.1396\n"
     ]
    },
    {
     "name": "stderr",
     "output_type": "stream",
     "text": [
      "Epoch 278/300: 100%|██████████| 4/4 [00:05<00:00,  1.40s/it]\n"
     ]
    },
    {
     "name": "stdout",
     "output_type": "stream",
     "text": [
      "Epoch 278/300 | Train Loss: 0.0189 | Val Loss: 0.2580 | Val Metric: 895.2067\n"
     ]
    },
    {
     "name": "stderr",
     "output_type": "stream",
     "text": [
      "Epoch 279/300: 100%|██████████| 4/4 [00:06<00:00,  1.51s/it]\n"
     ]
    },
    {
     "name": "stdout",
     "output_type": "stream",
     "text": [
      "Epoch 279/300 | Train Loss: 0.0190 | Val Loss: 0.2577 | Val Metric: 922.5204\n"
     ]
    },
    {
     "name": "stderr",
     "output_type": "stream",
     "text": [
      "Epoch 280/300: 100%|██████████| 4/4 [00:06<00:00,  1.56s/it]\n"
     ]
    },
    {
     "name": "stdout",
     "output_type": "stream",
     "text": [
      "Epoch 280/300 | Train Loss: 0.0184 | Val Loss: 0.2581 | Val Metric: 901.6295\n"
     ]
    },
    {
     "name": "stderr",
     "output_type": "stream",
     "text": [
      "Epoch 281/300: 100%|██████████| 4/4 [00:05<00:00,  1.50s/it]\n"
     ]
    },
    {
     "name": "stdout",
     "output_type": "stream",
     "text": [
      "Epoch 281/300 | Train Loss: 0.0191 | Val Loss: 0.2579 | Val Metric: 936.0662\n"
     ]
    },
    {
     "name": "stderr",
     "output_type": "stream",
     "text": [
      "Epoch 282/300: 100%|██████████| 4/4 [00:05<00:00,  1.43s/it]\n"
     ]
    },
    {
     "name": "stdout",
     "output_type": "stream",
     "text": [
      "Epoch 282/300 | Train Loss: 0.0191 | Val Loss: 0.2585 | Val Metric: 972.5006\n"
     ]
    },
    {
     "name": "stderr",
     "output_type": "stream",
     "text": [
      "Epoch 283/300: 100%|██████████| 4/4 [00:05<00:00,  1.39s/it]\n"
     ]
    },
    {
     "name": "stdout",
     "output_type": "stream",
     "text": [
      "Epoch 283/300 | Train Loss: 0.0190 | Val Loss: 0.2593 | Val Metric: 968.8809\n"
     ]
    },
    {
     "name": "stderr",
     "output_type": "stream",
     "text": [
      "Epoch 284/300: 100%|██████████| 4/4 [00:05<00:00,  1.37s/it]\n"
     ]
    },
    {
     "name": "stdout",
     "output_type": "stream",
     "text": [
      "Epoch 284/300 | Train Loss: 0.0189 | Val Loss: 0.2604 | Val Metric: 956.6667\n"
     ]
    },
    {
     "name": "stderr",
     "output_type": "stream",
     "text": [
      "Epoch 285/300: 100%|██████████| 4/4 [00:05<00:00,  1.39s/it]\n"
     ]
    },
    {
     "name": "stdout",
     "output_type": "stream",
     "text": [
      "Epoch 285/300 | Train Loss: 0.0187 | Val Loss: 0.2598 | Val Metric: 975.8392\n"
     ]
    },
    {
     "name": "stderr",
     "output_type": "stream",
     "text": [
      "Epoch 286/300: 100%|██████████| 4/4 [00:05<00:00,  1.38s/it]\n"
     ]
    },
    {
     "name": "stdout",
     "output_type": "stream",
     "text": [
      "Epoch 286/300 | Train Loss: 0.0185 | Val Loss: 0.2589 | Val Metric: 965.3536\n"
     ]
    },
    {
     "name": "stderr",
     "output_type": "stream",
     "text": [
      "Epoch 287/300: 100%|██████████| 4/4 [00:05<00:00,  1.41s/it]\n"
     ]
    },
    {
     "name": "stdout",
     "output_type": "stream",
     "text": [
      "Epoch 287/300 | Train Loss: 0.0185 | Val Loss: 0.2575 | Val Metric: 959.2838\n"
     ]
    },
    {
     "name": "stderr",
     "output_type": "stream",
     "text": [
      "Epoch 288/300: 100%|██████████| 4/4 [00:05<00:00,  1.36s/it]\n"
     ]
    },
    {
     "name": "stdout",
     "output_type": "stream",
     "text": [
      "Epoch 288/300 | Train Loss: 0.0187 | Val Loss: 0.2571 | Val Metric: 959.5281\n"
     ]
    },
    {
     "name": "stderr",
     "output_type": "stream",
     "text": [
      "Epoch 289/300: 100%|██████████| 4/4 [00:05<00:00,  1.38s/it]\n"
     ]
    },
    {
     "name": "stdout",
     "output_type": "stream",
     "text": [
      "Epoch 289/300 | Train Loss: 0.0195 | Val Loss: 0.2581 | Val Metric: 977.7314\n"
     ]
    },
    {
     "name": "stderr",
     "output_type": "stream",
     "text": [
      "Epoch 290/300: 100%|██████████| 4/4 [00:05<00:00,  1.37s/it]\n"
     ]
    },
    {
     "name": "stdout",
     "output_type": "stream",
     "text": [
      "Epoch 290/300 | Train Loss: 0.0190 | Val Loss: 0.2583 | Val Metric: 995.1221\n"
     ]
    },
    {
     "name": "stderr",
     "output_type": "stream",
     "text": [
      "Epoch 291/300: 100%|██████████| 4/4 [00:05<00:00,  1.39s/it]\n"
     ]
    },
    {
     "name": "stdout",
     "output_type": "stream",
     "text": [
      "Epoch 291/300 | Train Loss: 0.0190 | Val Loss: 0.2577 | Val Metric: 987.1969\n"
     ]
    },
    {
     "name": "stderr",
     "output_type": "stream",
     "text": [
      "Epoch 292/300: 100%|██████████| 4/4 [00:05<00:00,  1.37s/it]\n"
     ]
    },
    {
     "name": "stdout",
     "output_type": "stream",
     "text": [
      "Epoch 292/300 | Train Loss: 0.0191 | Val Loss: 0.2577 | Val Metric: 959.0968\n"
     ]
    },
    {
     "name": "stderr",
     "output_type": "stream",
     "text": [
      "Epoch 293/300: 100%|██████████| 4/4 [00:05<00:00,  1.36s/it]\n"
     ]
    },
    {
     "name": "stdout",
     "output_type": "stream",
     "text": [
      "Epoch 293/300 | Train Loss: 0.0184 | Val Loss: 0.2579 | Val Metric: 940.6645\n"
     ]
    },
    {
     "name": "stderr",
     "output_type": "stream",
     "text": [
      "Epoch 294/300: 100%|██████████| 4/4 [00:05<00:00,  1.38s/it]\n"
     ]
    },
    {
     "name": "stdout",
     "output_type": "stream",
     "text": [
      "Epoch 294/300 | Train Loss: 0.0185 | Val Loss: 0.2580 | Val Metric: 941.8140\n"
     ]
    },
    {
     "name": "stderr",
     "output_type": "stream",
     "text": [
      "Epoch 295/300: 100%|██████████| 4/4 [00:05<00:00,  1.36s/it]\n"
     ]
    },
    {
     "name": "stdout",
     "output_type": "stream",
     "text": [
      "Epoch 295/300 | Train Loss: 0.0189 | Val Loss: 0.2582 | Val Metric: 935.3546\n"
     ]
    },
    {
     "name": "stderr",
     "output_type": "stream",
     "text": [
      "Epoch 296/300: 100%|██████████| 4/4 [00:05<00:00,  1.38s/it]\n"
     ]
    },
    {
     "name": "stdout",
     "output_type": "stream",
     "text": [
      "Epoch 296/300 | Train Loss: 0.0186 | Val Loss: 0.2581 | Val Metric: 936.6342\n"
     ]
    },
    {
     "name": "stderr",
     "output_type": "stream",
     "text": [
      "Epoch 297/300: 100%|██████████| 4/4 [00:05<00:00,  1.36s/it]\n"
     ]
    },
    {
     "name": "stdout",
     "output_type": "stream",
     "text": [
      "Epoch 297/300 | Train Loss: 0.0184 | Val Loss: 0.2582 | Val Metric: 960.1471\n",
      "Early stopping triggered\n",
      "✅ Submission saved to submission.csv\n",
      "Prediction statistics:\n",
      "       BlendProperty1  BlendProperty2  BlendProperty3  BlendProperty4  \\\n",
      "count      500.000000      500.000000      500.000000      500.000000   \n",
      "mean        -0.175909       -0.162911        0.049805       -0.162619   \n",
      "std          0.746547        0.862432        0.903385        0.761196   \n",
      "min         -2.347403       -3.284702       -2.418274       -1.710053   \n",
      "25%         -0.661215       -0.791505       -0.431345       -0.669680   \n",
      "50%         -0.158749       -0.171065        0.196567       -0.172746   \n",
      "75%          0.310286        0.492446        0.724445        0.312115   \n",
      "max          3.422693        3.709896        3.095123        5.173645   \n",
      "\n",
      "       BlendProperty5  BlendProperty6  BlendProperty7  BlendProperty8  \\\n",
      "count      500.000000      500.000000      500.000000      500.000000   \n",
      "mean         0.136717       -0.152376        0.034231        0.006658   \n",
      "std          0.957453        0.813956        0.876021        0.881124   \n",
      "min         -1.701126       -2.611758       -2.439651       -8.153369   \n",
      "25%         -0.523686       -0.685312       -0.436116       -0.523172   \n",
      "50%         -0.043003       -0.137066        0.218222       -0.001662   \n",
      "75%          0.733267        0.370252        0.705018        0.568498   \n",
      "max          2.867132        3.272115        1.752779        3.275568   \n",
      "\n",
      "       BlendProperty9  BlendProperty10  \n",
      "count      500.000000       500.000000  \n",
      "mean        -0.063424        -0.182807  \n",
      "std          0.801739         0.865038  \n",
      "min         -2.007521        -2.389026  \n",
      "25%         -0.592593        -0.828339  \n",
      "50%         -0.078543        -0.203759  \n",
      "75%          0.434995         0.460625  \n",
      "max          4.089539         3.692229  \n"
     ]
    }
   ],
   "source": [
    "import pandas as pd\n",
    "import numpy as np\n",
    "from sklearn.model_selection import train_test_split\n",
    "from sklearn.preprocessing import RobustScaler, StandardScaler, QuantileTransformer\n",
    "from sklearn.feature_selection import VarianceThreshold\n",
    "\n",
    "from sklearn.metrics import mean_absolute_percentage_error, mean_squared_error\n",
    "from sklearn.decomposition import PCA\n",
    "from sklearn.feature_selection import SelectKBest, f_regression\n",
    "from sklearn.cluster import KMeans\n",
    "import torch\n",
    "from torch import nn\n",
    "from torch.utils.data import Dataset, DataLoader\n",
    "from tqdm import tqdm\n",
    "from tabm import TabM  # Ensure TabM is installed and imported\n",
    "import warnings\n",
    "warnings.filterwarnings('ignore')\n",
    "\n",
    "# ------------------------------ Config ------------------------------\n",
    "\n",
    "class Config:\n",
    "    TRAIN_PATH = 'train.csv'\n",
    "    TEST_PATH = 'test.csv'\n",
    "    TARGET_COLS = [f'BlendProperty{i}' for i in range(1, 11)]\n",
    "    TEST_SIZE = 0.1\n",
    "    BATCH_SIZE = 512\n",
    "    LR = 1e-3\n",
    "    EPOCHS = 300\n",
    "    DEVICE = 'cuda' if torch.cuda.is_available() else 'cpu'\n",
    "    K_ENSEMBLE = 64\n",
    "    RANDOM_STATE = 42\n",
    "    \n",
    "    # Feature engineering parameters\n",
    "    PCA_COMPONENTS = 50\n",
    "    TOP_K_FEATURES = 200\n",
    "    POLY_DEGREE = 2\n",
    "    TOP_N_CORRELATED = 15\n",
    "    CLUSTERS = 10\n",
    "    VARIANCE_THRESHOLD = 0.01\n",
    "\n",
    "    def __init__(self):\n",
    "        self.DEVICE = 'cuda' if torch.cuda.is_available() else 'cpu'\n",
    "    \n",
    "# ------------------------------ Dataset ------------------------------\n",
    "\n",
    "class TabularDataset(Dataset):\n",
    "    def __init__(self, X, y=None):\n",
    "        self.X = torch.tensor(X, dtype=torch.float32)\n",
    "        self.y = torch.tensor(y, dtype=torch.float32) if y is not None else None\n",
    "\n",
    "    def __len__(self):\n",
    "        return len(self.X)\n",
    "\n",
    "    def __getitem__(self, idx):\n",
    "        if self.y is not None:\n",
    "            return self.X[idx], self.y[idx]\n",
    "        else:\n",
    "            return self.X[idx]\n",
    "\n",
    "# ------------------------------ Trainer ------------------------------\n",
    "\n",
    "class Trainer:\n",
    "    def __init__(self, config):\n",
    "        self.config = config\n",
    "        self.device = config.DEVICE\n",
    "        self.criterion_mse = nn.MSELoss()\n",
    "        self.target_columns = [f'BlendProperty{i}' for i in range(1, 11)]\n",
    "        self.load_and_prepare_data()\n",
    "        self.create_model()\n",
    "\n",
    "    def load_and_prepare_data(self):\n",
    "        train_df = pd.read_csv(self.config.TRAIN_PATH)\n",
    "        test_df = pd.read_csv(self.config.TEST_PATH)\n",
    "        \n",
    "        print(\"Original shapes:\", train_df.shape, test_df.shape)\n",
    "        print(\"Train columns:\", list(train_df.columns))\n",
    "        print(\"Test columns:\", list(test_df.columns))\n",
    "        \n",
    "        # Check for missing values and data quality\n",
    "        print(\"Train missing values:\", train_df.isnull().sum().sum())\n",
    "        print(\"Test missing values:\", test_df.isnull().sum().sum())\n",
    "        \n",
    "        # Check target value ranges\n",
    "        target_stats = train_df[self.config.TARGET_COLS].describe()\n",
    "        print(\"Target statistics:\")\n",
    "        print(target_stats)\n",
    "        \n",
    "        # Identify common features (everything except targets and ID)\n",
    "        train_feature_cols = [col for col in train_df.columns if col not in self.config.TARGET_COLS and col != 'ID']\n",
    "        test_feature_cols = [col for col in test_df.columns if col not in self.config.TARGET_COLS and col != 'ID']\n",
    "        \n",
    "        # Use only features that exist in both datasets\n",
    "        self.common_features = list(set(train_feature_cols) & set(test_feature_cols))\n",
    "        print(f\"Common features between train and test: {len(self.common_features)}\")\n",
    "        \n",
    "        # Process train and test data together to ensure consistency\n",
    "        train_df = self.feature_engineering(train_df, fit=True)\n",
    "        test_df = self.feature_engineering(test_df, fit=False)\n",
    "        \n",
    "        print(\"After feature engineering:\", train_df.shape, test_df.shape)\n",
    "        \n",
    "        # Get final feature columns (excluding targets and ID)\n",
    "        final_feature_cols = [col for col in train_df.columns if col not in self.config.TARGET_COLS and col != 'ID']\n",
    "        \n",
    "        # Ensure test data has all required features\n",
    "        for col in final_feature_cols:\n",
    "            if col not in test_df.columns:\n",
    "                test_df[col] = 0\n",
    "                print(f\"Added missing feature {col} to test data\")\n",
    "        \n",
    "        # Reorder test columns to match training data\n",
    "        test_df = test_df[['ID'] + final_feature_cols + [col for col in test_df.columns if col in self.config.TARGET_COLS]]\n",
    "\n",
    "        self.X_train, self.X_val, self.y_train, self.y_val = train_test_split(\n",
    "            train_df[final_feature_cols].values,\n",
    "            train_df[self.config.TARGET_COLS].values,\n",
    "            test_size=self.config.TEST_SIZE,\n",
    "            random_state=self.config.RANDOM_STATE\n",
    "        )\n",
    "\n",
    "        self.X_test = test_df[final_feature_cols].values\n",
    "        self.test_ids = test_df['ID'].values\n",
    "\n",
    "        print(f\"Final shapes - Train: {self.X_train.shape}, Val: {self.X_val.shape}, Test: {self.X_test.shape}\")\n",
    "\n",
    "        # Handle extreme values and outliers before scaling\n",
    "        self.X_train = np.clip(self.X_train, -1e6, 1e6)\n",
    "        self.X_val = np.clip(self.X_val, -1e6, 1e6)\n",
    "        self.X_test = np.clip(self.X_test, -1e6, 1e6)\n",
    "        \n",
    "        # Handle extreme values in targets\n",
    "        self.y_train = np.clip(self.y_train, -1e6, 1e6)\n",
    "        self.y_val = np.clip(self.y_val, -1e6, 1e6)\n",
    "\n",
    "        # Store original targets for MAPE calculation\n",
    "        self.y_train_orig = self.y_train.copy()\n",
    "        self.y_val_orig = self.y_val.copy()\n",
    "\n",
    "        # Use StandardScaler for more stable scaling\n",
    "        self.num_scaler = StandardScaler()\n",
    "        self.y_scaler = StandardScaler()\n",
    "\n",
    "        self.X_train = self.num_scaler.fit_transform(self.X_train)\n",
    "        self.X_val = self.num_scaler.transform(self.X_val)\n",
    "        self.X_test = self.num_scaler.transform(self.X_test)\n",
    "\n",
    "        self.y_train = self.y_scaler.fit_transform(self.y_train)\n",
    "        self.y_val = self.y_scaler.transform(self.y_val)\n",
    "\n",
    "        # Check for any remaining NaN or infinite values\n",
    "        print(\"NaN in X_train:\", np.isnan(self.X_train).sum())\n",
    "        print(\"NaN in y_train:\", np.isnan(self.y_train).sum())\n",
    "        print(\"Inf in X_train:\", np.isinf(self.X_train).sum())\n",
    "        print(\"Inf in y_train:\", np.isinf(self.y_train).sum())\n",
    "\n",
    "        # Replace any remaining NaN or infinite values\n",
    "        self.X_train = np.nan_to_num(self.X_train, nan=0.0, posinf=1e6, neginf=-1e6)\n",
    "        self.X_val = np.nan_to_num(self.X_val, nan=0.0, posinf=1e6, neginf=-1e6)\n",
    "        self.X_test = np.nan_to_num(self.X_test, nan=0.0, posinf=1e6, neginf=-1e6)\n",
    "        self.y_train = np.nan_to_num(self.y_train, nan=0.0, posinf=1e6, neginf=-1e6)\n",
    "        self.y_val = np.nan_to_num(self.y_val, nan=0.0, posinf=1e6, neginf=-1e6)\n",
    "\n",
    "        self.train_loader = DataLoader(TabularDataset(self.X_train, self.y_train), batch_size=self.config.BATCH_SIZE, shuffle=True)\n",
    "        self.val_loader = DataLoader(TabularDataset(self.X_val, self.y_val), batch_size=self.config.BATCH_SIZE, shuffle=False)\n",
    "        self.test_loader = DataLoader(TabularDataset(self.X_test), batch_size=self.config.BATCH_SIZE, shuffle=False)\n",
    "\n",
    "    def feature_engineering(self, df, fit=True):\n",
    "        df = df.copy()\n",
    "\n",
    "        # Handle missing ID column\n",
    "        if 'ID' not in df.columns:\n",
    "            print(\"Warning: ID column not found. Creating sequential IDs.\")\n",
    "            df['ID'] = range(len(df))\n",
    "\n",
    "        # Store ID column separately\n",
    "        id_col = df['ID'].copy()\n",
    "\n",
    "        # Extract target variables if present\n",
    "        if fit:\n",
    "            # Check if target columns exist\n",
    "            existing_targets = [col for col in self.target_columns if col in df.columns]\n",
    "            if existing_targets:\n",
    "                targets = df[existing_targets]\n",
    "                df = df.drop(columns=existing_targets)\n",
    "            else:\n",
    "                print(\"Warning: No target columns found in training data.\")\n",
    "                targets = None\n",
    "        else:\n",
    "            targets = None\n",
    "\n",
    "        # Step 1: Identify feature columns (common between train and test)\n",
    "        if fit:\n",
    "            self.original_feature_cols = [col for col in df.columns if col != 'ID']\n",
    "        all_feature_cols = self.original_feature_cols\n",
    "\n",
    "        feature_df = df[all_feature_cols].copy()\n",
    "\n",
    "        # Handle missing values first\n",
    "        feature_df = feature_df.fillna(0)\n",
    "\n",
    "        # --- Feature Engineering Steps ---\n",
    "\n",
    "        # Statistical Features (only if the component columns exist)\n",
    "        if fit:\n",
    "            print(\"Creating statistical features...\")\n",
    "        for prop in range(1, 11):\n",
    "            cols = [f'Component{i}_Property{prop}' for i in range(1, 6)]\n",
    "            # Only use columns that exist in the dataframe\n",
    "            existing_cols = [col for col in cols if col in feature_df.columns]\n",
    "            if existing_cols:\n",
    "                feature_df[f'Property{prop}_mean'] = feature_df[existing_cols].mean(axis=1)\n",
    "                feature_df[f'Property{prop}_std'] = feature_df[existing_cols].std(axis=1)\n",
    "                feature_df[f'Property{prop}_sum'] = feature_df[existing_cols].sum(axis=1)\n",
    "                feature_df[f'Property{prop}_max'] = feature_df[existing_cols].max(axis=1)\n",
    "                feature_df[f'Property{prop}_min'] = feature_df[existing_cols].min(axis=1)\n",
    "\n",
    "        # Top correlated features\n",
    "        if fit:\n",
    "            print(\"Finding top correlated features...\")\n",
    "            if targets is not None:\n",
    "                # Use only numeric columns for correlation\n",
    "                numeric_features = feature_df.select_dtypes(include=[np.number]).columns.tolist()\n",
    "                corr_data = pd.concat([feature_df[numeric_features], targets], axis=1)\n",
    "                corr = corr_data.corr()\n",
    "                top_feats = set()\n",
    "                for tgt in self.target_columns:\n",
    "                    if tgt in corr.columns:\n",
    "                        corrs = corr[tgt].dropna().abs().sort_values(ascending=False)\n",
    "                        corrs = corrs.drop(tgt, errors='ignore')  # prevent self-correlation\n",
    "                        top_feats.update(corrs.head(self.config.TOP_N_CORRELATED).index)\n",
    "                self.top_correlated_features = [feat for feat in top_feats if feat in feature_df.columns and feat != 'ID']\n",
    "                print(f\"Top correlated features: {len(self.top_correlated_features)}\")\n",
    "            else:\n",
    "                # If no targets, use all numeric features\n",
    "                numeric_features = feature_df.select_dtypes(include=[np.number]).columns.tolist()\n",
    "                self.top_correlated_features = numeric_features[:min(50, len(numeric_features))]\n",
    "        \n",
    "        # Ensure we have some features to work with\n",
    "        if not hasattr(self, 'top_correlated_features') or not self.top_correlated_features:\n",
    "            numeric_features = feature_df.select_dtypes(include=[np.number]).columns.tolist()\n",
    "            self.top_correlated_features = numeric_features[:min(50, len(numeric_features))]\n",
    "            if 'ID' in self.top_correlated_features:\n",
    "                self.top_correlated_features.remove('ID')\n",
    "        \n",
    "        # Use only existing features\n",
    "        self.top_correlated_features = [feat for feat in self.top_correlated_features if feat in feature_df.columns]\n",
    "        \n",
    "        if not self.top_correlated_features:\n",
    "            print(\"Warning: No valid features found. Using all available numeric features.\")\n",
    "            self.top_correlated_features = feature_df.select_dtypes(include=[np.number]).columns.tolist()\n",
    "            if 'ID' in self.top_correlated_features:\n",
    "                self.top_correlated_features.remove('ID')\n",
    "        \n",
    "        # Limit interaction features to prevent explosion\n",
    "        top_features_for_interactions = self.top_correlated_features[:min(10, len(self.top_correlated_features))]\n",
    "        \n",
    "        # Polynomial Features (limited to prevent overfitting)\n",
    "        if fit:\n",
    "            print(\"Creating polynomial features...\")\n",
    "        for col in top_features_for_interactions:\n",
    "            if col in feature_df.columns:\n",
    "                feature_df[f'{col}_squared'] = feature_df[col] ** 2\n",
    "                feature_df[f'{col}_cubed'] = feature_df[col] ** 3\n",
    "\n",
    "        # Interaction Features (limited)\n",
    "        if fit:\n",
    "            print(\"Creating interaction features...\")\n",
    "        interaction_count = 0\n",
    "        for i, col1 in enumerate(top_features_for_interactions):\n",
    "            for col2 in top_features_for_interactions[i + 1:]:\n",
    "                if col1 in feature_df.columns and col2 in feature_df.columns and interaction_count < 50:\n",
    "                    f1 = f'{col1}_x_{col2}'\n",
    "                    f2 = f'{col1}_div_{col2}'\n",
    "                    feature_df[f1] = feature_df[col1] * feature_df[col2]\n",
    "                    # Safe division\n",
    "                    feature_df[f2] = feature_df[col1] / (feature_df[col2].abs() + 1e-8)\n",
    "                    interaction_count += 2\n",
    "\n",
    "        # Binning Features\n",
    "        if fit:\n",
    "            print(\"Creating binning features...\")\n",
    "        for col in top_features_for_interactions:\n",
    "            if col in feature_df.columns:\n",
    "                try:\n",
    "                    feature_df[f'{col}_binned'] = pd.qcut(feature_df[col], q=5, labels=False, duplicates='drop')\n",
    "                except:\n",
    "                    # If qcut fails, use regular cut\n",
    "                    try:\n",
    "                        feature_df[f'{col}_binned'] = pd.cut(feature_df[col], bins=5, labels=False)\n",
    "                    except:\n",
    "                        # If both fail, create a simple binning\n",
    "                        q25, q75 = feature_df[col].quantile([0.25, 0.75])\n",
    "                        feature_df[f'{col}_binned'] = 0\n",
    "                        feature_df.loc[feature_df[col] > q75, f'{col}_binned'] = 1\n",
    "                        feature_df.loc[feature_df[col] < q25, f'{col}_binned'] = -1\n",
    "\n",
    "        # Clustering Features\n",
    "        if fit:\n",
    "            print(\"Creating clustering features...\")\n",
    "        clustering_features = [col for col in self.top_correlated_features if col in feature_df.columns][:20]\n",
    "        if clustering_features:\n",
    "            clustering_input = feature_df[clustering_features].fillna(0)\n",
    "            # Ensure no infinite values\n",
    "            clustering_input = np.nan_to_num(clustering_input, nan=0.0, posinf=1e6, neginf=-1e6)\n",
    "            if fit:\n",
    "                self.kmeans_model = KMeans(n_clusters=self.config.CLUSTERS, random_state=42, n_init=10)\n",
    "                cluster_labels = self.kmeans_model.fit_predict(clustering_input)\n",
    "            else:\n",
    "                cluster_labels = self.kmeans_model.predict(clustering_input)\n",
    "            feature_df['Cluster'] = cluster_labels\n",
    "        else:\n",
    "            feature_df['Cluster'] = 0\n",
    "\n",
    "        # Fill NaN values again\n",
    "        feature_df = feature_df.fillna(0)\n",
    "        \n",
    "        # Handle infinite values\n",
    "        feature_df = feature_df.replace([np.inf, -np.inf], 0)\n",
    "\n",
    "        # Feature Selection\n",
    "        if fit:\n",
    "            print(\"Performing feature selection...\")\n",
    "            X = feature_df.values\n",
    "            \n",
    "            # Replace any remaining NaN or infinite values\n",
    "            X = np.nan_to_num(X, nan=0.0, posinf=1e6, neginf=-1e6)\n",
    "            \n",
    "            # Apply variance threshold\n",
    "            self.var_thresh = VarianceThreshold(threshold=self.config.VARIANCE_THRESHOLD)\n",
    "            X_var = self.var_thresh.fit_transform(X)\n",
    "            \n",
    "            # Store feature names after variance threshold\n",
    "            var_selected_features = feature_df.columns[self.var_thresh.get_support()]\n",
    "            \n",
    "            # Apply SelectKBest on variance-filtered features\n",
    "            k_features = min(self.config.TOP_K_FEATURES, X_var.shape[1])\n",
    "            \n",
    "            # For multi-output regression, we'll use the mean of all targets for feature selection\n",
    "            if targets is not None:\n",
    "                y_mean = targets.values.mean(axis=1)  # Average across all target columns\n",
    "                \n",
    "                # Ensure no NaN or infinite values in targets\n",
    "                y_mean = np.nan_to_num(y_mean, nan=0.0, posinf=1e6, neginf=-1e6)\n",
    "                \n",
    "                self.kbest = SelectKBest(score_func=f_regression, k=k_features)\n",
    "                self.kbest.fit(X_var, y_mean)\n",
    "                \n",
    "                # Get final selected features\n",
    "                kbest_selected_indices = self.kbest.get_support(indices=True)\n",
    "                self.selected_feature_names = var_selected_features[kbest_selected_indices].tolist()\n",
    "            else:\n",
    "                # If no targets, keep all variance-filtered features\n",
    "                self.selected_feature_names = var_selected_features.tolist()\n",
    "            \n",
    "            print(f\"Selected {len(self.selected_feature_names)} features after selection\")\n",
    "        else:\n",
    "            # For test data, ensure all selected features exist\n",
    "            for feat in self.selected_feature_names:\n",
    "                if feat not in feature_df.columns:\n",
    "                    feature_df[feat] = 0\n",
    "\n",
    "        # Keep only selected features\n",
    "        feature_df_clean = feature_df[self.selected_feature_names].fillna(0)\n",
    "        \n",
    "        # Handle infinite values again\n",
    "        feature_df_clean = feature_df_clean.replace([np.inf, -np.inf], 0)\n",
    "\n",
    "        # PCA Features\n",
    "        if fit:\n",
    "            print(\"Creating PCA features...\")\n",
    "            pca_components = min(self.config.PCA_COMPONENTS, feature_df_clean.shape[1])\n",
    "            self.pca_model = PCA(n_components=pca_components, random_state=42)\n",
    "            pca_features = self.pca_model.fit_transform(feature_df_clean)\n",
    "        else:\n",
    "            pca_features = self.pca_model.transform(feature_df_clean)\n",
    "\n",
    "        # Add PCA features\n",
    "        for i in range(pca_features.shape[1]):\n",
    "            feature_df_clean[f'PCA_{i}'] = pca_features[:, i]\n",
    "\n",
    "        # Final cleanup\n",
    "        feature_df_clean = feature_df_clean.fillna(0)\n",
    "        feature_df_clean = feature_df_clean.replace([np.inf, -np.inf], 0)\n",
    "\n",
    "        if fit:\n",
    "            print(f\"Final feature engineering complete. Shape: {feature_df_clean.shape}\")\n",
    "\n",
    "        # Add back ID column and targets if this is training data\n",
    "        result_df = pd.concat([id_col.to_frame('ID'), feature_df_clean], axis=1)\n",
    "        if fit and targets is not None:\n",
    "            result_df = pd.concat([result_df, targets], axis=1)\n",
    "\n",
    "        return result_df\n",
    "\n",
    "    def create_model(self):\n",
    "        self.model = TabM.make(\n",
    "            n_num_features=self.train_loader.dataset.X.shape[1],\n",
    "            cat_cardinalities=None,\n",
    "            d_out=len(self.config.TARGET_COLS),\n",
    "            k=self.config.K_ENSEMBLE\n",
    "        ).to(self.device)\n",
    "\n",
    "        self.optimizer = torch.optim.AdamW(self.model.parameters(), lr=self.config.LR, weight_decay=1e-4)\n",
    "        self.scheduler = torch.optim.lr_scheduler.ReduceLROnPlateau(self.optimizer, mode='min', factor=0.5, patience=20)\n",
    "\n",
    "    def train_epoch(self, epoch):\n",
    "        self.model.train()\n",
    "        total_loss = 0\n",
    "        for X, y in tqdm(self.train_loader, desc=f\"Epoch {epoch+1}/{self.config.EPOCHS}\"):\n",
    "            X, y = X.to(self.device), y.to(self.device)\n",
    "            preds = self.model(X)\n",
    "            preds_median = torch.median(preds, dim=1)[0]\n",
    "            loss = self.criterion_mse(preds_median, y)\n",
    "\n",
    "            self.optimizer.zero_grad()\n",
    "            loss.backward()\n",
    "            torch.nn.utils.clip_grad_norm_(self.model.parameters(), 1.0)\n",
    "            self.optimizer.step()\n",
    "            total_loss += loss.item()\n",
    "        return total_loss / len(self.train_loader)\n",
    "\n",
    "    def validate(self):\n",
    "        self.model.eval()\n",
    "        total_loss = 0\n",
    "        all_preds, all_targets = [], []\n",
    "\n",
    "        with torch.no_grad():\n",
    "            for X, y in self.val_loader:\n",
    "                X, y = X.to(self.device), y.to(self.device)\n",
    "                preds = self.model(X)\n",
    "                preds_median = torch.median(preds, dim=1)[0]\n",
    "                loss = self.criterion_mse(preds_median, y)\n",
    "                total_loss += loss.item()\n",
    "\n",
    "                all_preds.append(preds_median.cpu().numpy())\n",
    "                all_targets.append(y.cpu().numpy())\n",
    "\n",
    "        preds_all = np.vstack(all_preds)\n",
    "        targets_all = np.vstack(all_targets)\n",
    "\n",
    "        # Transform back to original scale\n",
    "        preds_all_orig = self.y_scaler.inverse_transform(preds_all)\n",
    "        targets_all_orig = self.y_scaler.inverse_transform(targets_all)\n",
    "        \n",
    "        # Calculate RMSE instead of MAPE to avoid division issues\n",
    "        rmse = np.sqrt(mean_squared_error(targets_all_orig, preds_all_orig))\n",
    "        \n",
    "        # Calculate MAPE more carefully\n",
    "        try:\n",
    "            # Only calculate MAPE for non-zero targets\n",
    "            mask = np.abs(targets_all_orig) > 1e-8\n",
    "            if mask.sum() > 0:\n",
    "                mape = np.mean(np.abs((targets_all_orig[mask] - preds_all_orig[mask]) / targets_all_orig[mask])) * 100\n",
    "            else:\n",
    "                mape = 0.0\n",
    "        except:\n",
    "            mape = 0.0\n",
    "        \n",
    "        # If MAPE is still unreasonably high, report RMSE instead\n",
    "        if mape > 1000:\n",
    "            print(f\"MAPE too high ({mape:.2f}%), using RMSE instead\")\n",
    "            return total_loss / len(self.val_loader), rmse\n",
    "        \n",
    "        return total_loss / len(self.val_loader), mape\n",
    "\n",
    "    def train(self):\n",
    "        best_val_loss = float('inf')\n",
    "        patience_counter = 0\n",
    "        \n",
    "        for epoch in range(self.config.EPOCHS):\n",
    "            train_loss = self.train_epoch(epoch)\n",
    "            val_loss, val_metric = self.validate()\n",
    "            \n",
    "            self.scheduler.step(val_loss)\n",
    "            \n",
    "            if val_loss < best_val_loss:\n",
    "                best_val_loss = val_loss\n",
    "                patience_counter = 0\n",
    "                torch.save(self.model.state_dict(), 'best_model.pth')\n",
    "            else:\n",
    "                patience_counter += 1\n",
    "            \n",
    "            print(f\"Epoch {epoch+1}/{self.config.EPOCHS} | Train Loss: {train_loss:.4f} | Val Loss: {val_loss:.4f} | Val Metric: {val_metric:.4f}\")\n",
    "            \n",
    "            if patience_counter >= 50:\n",
    "                print(\"Early stopping triggered\")\n",
    "                break\n",
    "        \n",
    "        # Load best model\n",
    "        self.model.load_state_dict(torch.load('best_model.pth'))\n",
    "\n",
    "    def predict(self):\n",
    "        self.model.eval()\n",
    "        preds_all = []\n",
    "\n",
    "        with torch.no_grad():\n",
    "            for X in self.test_loader:\n",
    "                X = X.to(self.device)\n",
    "                preds = self.model(X)\n",
    "                preds_median = torch.median(preds, dim=1)[0]\n",
    "                preds_all.append(preds_median.cpu().numpy())\n",
    "\n",
    "        preds_all = np.vstack(preds_all)\n",
    "        preds_orig = self.y_scaler.inverse_transform(preds_all)\n",
    "\n",
    "        submission = pd.DataFrame(preds_orig, columns=self.config.TARGET_COLS)\n",
    "        submission.insert(0, 'ID', self.test_ids)\n",
    "        submission.to_csv('submission.csv', index=False)\n",
    "        print(\"✅ Submission saved to submission.csv\")\n",
    "        \n",
    "        # Print prediction statistics\n",
    "        print(\"Prediction statistics:\")\n",
    "        print(pd.DataFrame(preds_orig, columns=self.config.TARGET_COLS).describe())\n",
    "\n",
    "# ------------------------------ Run ------------------------------\n",
    "\n",
    "if __name__ == '__main__':\n",
    "    config = Config()\n",
    "    trainer = Trainer(config)\n",
    "    trainer.train()\n",
    "    trainer.predict()"
   ]
  }
 ],
 "metadata": {
  "kernelspec": {
   "display_name": ".venv",
   "language": "python",
   "name": "python3"
  },
  "language_info": {
   "codemirror_mode": {
    "name": "ipython",
    "version": 3
   },
   "file_extension": ".py",
   "mimetype": "text/x-python",
   "name": "python",
   "nbconvert_exporter": "python",
   "pygments_lexer": "ipython3",
   "version": "3.10.0"
  }
 },
 "nbformat": 4,
 "nbformat_minor": 5
}
